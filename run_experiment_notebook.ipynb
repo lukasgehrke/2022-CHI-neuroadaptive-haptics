{
 "cells": [
  {
   "cell_type": "code",
   "execution_count": 37,
   "metadata": {},
   "outputs": [],
   "source": [
    "import argparse\n",
    "from ucbq_agent import UCBQAgent\n",
    "from ucbq_environment import ModifiedRandomEnvironment\n",
    "import time\n",
    "import numpy as np"
   ]
  },
  {
   "cell_type": "code",
   "execution_count": 38,
   "metadata": {},
   "outputs": [],
   "source": [
    "ERR_P = 0.1\n",
    "ERR_N = 0.0\n",
    "\n",
    "class PreProcessor:\n",
    "    \"Add noise to reward\"\n",
    "    def __init__(self, e_=0.1, e=0.3, normal=True, epsilon=1e-6):\n",
    "        assert (np.abs(e_ + e - 1) > epsilon)\n",
    "        self.normal = normal\n",
    "        self.e_ = e_\n",
    "        self.e = e\n",
    "        self.epsilon = 1e-6\n",
    "        # These are the noisy returns that are returned\n",
    "        self.r1 = -1\n",
    "        self.r2 = 0\n",
    "\n",
    "    def noisy_reward(self, reward):\n",
    "        n = np.random.random()\n",
    "        # If we hit a negative reward, conver it to a poisitive\n",
    "        # with a given prob. \n",
    "        # Not sure why the `< epsilone is here`\n",
    "        # if np.abs(reward - self.r1) < self.epsilon:\n",
    "        if reward == self.r1:\n",
    "            if (n < self.e_):\n",
    "                return self.r2\n",
    "        else:\n",
    "            if (n < self.e):\n",
    "                return self.r1\n",
    "        return reward\n",
    "\n",
    "    def process_reward(self, reward):\n",
    "        if self.normal:\n",
    "            return reward\n",
    "\n",
    "        r = self.noisy_reward(reward)\n",
    "        return r\n",
    "    \n",
    "pre_processor = PreProcessor(normal=False, e_=ERR_N, e=ERR_P)"
   ]
  },
  {
   "cell_type": "code",
   "execution_count": 39,
   "metadata": {},
   "outputs": [],
   "source": [
    "class PostProcessor:\n",
    "    \"\"\"\n",
    "    Learning from surrogate reward\n",
    "    following paper \"Learning from noisy labels\"\n",
    "    \"\"\"\n",
    "    def __init__(self, smooth=False, surrogate=True,reverse=False, epsilon=1e-6):\n",
    "        self.surrogate = surrogate\n",
    "        self.smooth = smooth\n",
    "        self.r_sets = {}\n",
    "        self.r_smooth = {}\n",
    "        self.r1 = -1\n",
    "        self.r2 = 0\n",
    "        self.counter = 0\n",
    "        self.C = np.identity(2)\n",
    "        self.epsilon = epsilon\n",
    "        self.reverse = reverse\n",
    "\n",
    "    def process_reward(self, reward):\n",
    "        self.estimate_C()\n",
    "        self.e_ = self.C[0, 1]\n",
    "        self.e = self.C[1, 0]\n",
    "\n",
    "        if self.surrogate:\n",
    "            if np.abs(reward - self.r1) < self.epsilon:\n",
    "                reward = ((1 - self.e) * self.r1 - self.e_ * self.r2) / (1 - self.e_ - self.e)\n",
    "            else:\n",
    "                reward = ((1 - self.e_) * self.r2 - self.e * self.r1) / (1 - self.e_ - self.e)\n",
    "\n",
    "        return reward\n",
    "\n",
    "    def estimate_C(self):\n",
    "        if self.counter >= 100 and self.counter % 100 == 0:\n",
    "            e_ = 0; e = 0\n",
    "            # a = 0; b = 0\n",
    "            # prob = 0\n",
    "\n",
    "            self.count1 = 0\n",
    "            self.count2 = 0\n",
    "            for k in self.r_sets.keys():\n",
    "                freq_count = collections.Counter(self.r_sets[k])\n",
    "                if self.reverse:\n",
    "                    truth, count = freq_count.most_common()[-1]\n",
    "                else: truth, count = freq_count.most_common()[0]\n",
    "                if truth == self.r1:\n",
    "                    self.count1 += len(self.r_sets[k])\n",
    "                else:\n",
    "                    self.count2 += len(self.r_sets[k])\n",
    "\n",
    "            for k in self.r_sets.keys():\n",
    "                freq_count = collections.Counter(self.r_sets[k])\n",
    "                # if self.e_ > 0.05:\n",
    "                #    self.reverse = True\n",
    "                #    self.counter = 0; self.r_sets = {}\n",
    "                #    break\n",
    "\n",
    "                if self.reverse:\n",
    "                    truth, count = freq_count.most_common()[-1]\n",
    "                else:\n",
    "                    truth, count = freq_count.most_common()[0]\n",
    "                prob_correct = float(count) / len(self.r_sets[k])\n",
    "                if truth == self.r1:\n",
    "                    if self.count1 > 2000:\n",
    "                        prob_k = float(len(self.r_sets[k])) / self.count1\n",
    "                        e_ += prob_k * (1 - prob_correct)\n",
    "                    else: e_ = 0.0\n",
    "                    # a += 2 * prob_k * prob_correct\n",
    "                else:\n",
    "                    prob_k = float(len(self.r_sets[k])) / self.count2\n",
    "                    e += prob_k * (1 - prob_correct)\n",
    "                    # b += 2 * prob_k * prob_correct\n",
    "\n",
    "            # print prob\n",
    "            # log_string(str(e_) + \" \" + str(e))\n",
    "            self.C = np.array([[1-e_, e_], [e, 1-e]])\n",
    "\n",
    "            # if self.counter >= 10000:\n",
    "            #     self.counter = 0\n",
    "            #    self.r_sets = {}\n",
    "\n",
    "            # print self.C\n",
    "\n",
    "    def smooth_reward(self, state, action, reward):\n",
    "        if self.smooth:\n",
    "            if (state, action) in self.r_smooth:\n",
    "                if len(self.r_smooth[(state, action)]) >= 100:\n",
    "                    self.r_smooth[(state, action)].pop(0)\n",
    "                    self.r_smooth[(state, action)].append(reward)\n",
    "                    return sum(self.r_smooth[(state, action)]) / float(len(self.r_smooth[(state, action)]))\n",
    "                else:\n",
    "                    self.r_smooth[(state, action)].append(reward)\n",
    "            else:\n",
    "                self.r_smooth[(state, action)] = [reward]\n",
    "\n",
    "        return reward\n",
    "\n",
    "    def collect(self, state, action, reward):\n",
    "        if (state, action) in self.r_sets:\n",
    "            self.r_sets[(state, action)].append(reward)\n",
    "        else:\n",
    "            self.r_sets[(state, action)] = [reward]\n",
    "        self.counter += 1\n",
    "\n",
    "#TODO: smoothing\n",
    "post_processor = PostProcessor(smooth=False, surrogate=True)"
   ]
  },
  {
   "cell_type": "code",
   "execution_count": 40,
   "metadata": {},
   "outputs": [],
   "source": [
    "all_chart_values = []"
   ]
  },
  {
   "cell_type": "code",
   "execution_count": 41,
   "metadata": {},
   "outputs": [],
   "source": [
    "# Run the script with\n",
    "# `python run_experiment.py -t 1`\n",
    "# This will run a simulation trial, with a total length of 1 seconds.\n",
    "# Participant answere will be given every 0.001 to 0.002 seconds.\n",
    "# The participant \"ture\" level of feedback is 2.\n",
    "\n",
    "# The script will output:\n",
    "# - A list of actions taken, in the format: \n",
    "# `elapsed_time > action_taken -> reward_received`\n",
    "# - The Q-table at the end of the trial,\n",
    "# with rows representing states and columns representing acions\n",
    "# - The total count of given actions taken in a given state, \n",
    "# with rows representing states and columns representing acions\n",
    "# - Total timesteps (actions) taken\n",
    "# - Total reward obtained\n",
    "\n",
    "# The agent is rewrded `-1` for guessing the wrong feedback level (not 2),\n",
    "# and `0` for guessing correctly\n",
    "\n",
    "# parser = argparse.ArgumentParser()\n",
    "# parser.add_argument(\"-t\", \"--TimeOut\", help = \"Stop script after n seconds\")\n",
    "# args = parser.parse_args()\n",
    "timeOut = 10\n",
    "num_states = 3\n",
    "start_state = 1"
   ]
  },
  {
   "cell_type": "code",
   "execution_count": 42,
   "metadata": {},
   "outputs": [],
   "source": [
    "def runner(adjust_rewards=None):\n",
    "    agent = UCBQAgent(num_states=num_states, num_actions=num_states)\n",
    "    env = ModifiedRandomEnvironment(current_state = start_state, num_states=num_states)\n",
    "\n",
    "    start_time = time.time()\n",
    "    t = 0\n",
    "\n",
    "    episode_rewards = 0\n",
    "\n",
    "    q_values_for_chart = []\n",
    "    rewards = []\n",
    "\n",
    "    state = start_state\n",
    "\n",
    "    while True:\n",
    "        elapsed_time = time.time() - start_time\n",
    "\n",
    "        # Auto shut down scipt \n",
    "        if bool(timeOut) and (elapsed_time > float(timeOut)):\n",
    "            break\n",
    "\n",
    "        action = agent.choose_action(state) \n",
    "        # TODO: \n",
    "        # send_action_to_stream\n",
    "        reward, next_state = env.step(action)\n",
    "        \n",
    "        rewards.append(reward)\n",
    "\n",
    "        if adjust_rewards:\n",
    "            reward = adjust_rewards(reward, state, action)\n",
    "        \n",
    "        # print(f\"{round(elapsed_time, 2)} > {action} -> {reward}\")\n",
    "        \n",
    "        agent.learn(state, action, reward, next_state)\n",
    "        state = next_state\n",
    "\n",
    "        episode_rewards += reward\n",
    "\n",
    "        t += 1\n",
    "\n",
    "        # Decay epsilon every 10 steps\n",
    "        # TODO: not sure if this is valid theoretically\n",
    "        if t % 10 == 0:\n",
    "            if agent.epsilon > agent.epsilon_min:\n",
    "                agent.epsilon *= agent.epsilon_decay # Decay epsilon\n",
    "            \n",
    "        if t % 10 == 0:\n",
    "            q_values_for_chart.append(np.around(np.sum(agent.Q, axis=0), decimals=4))\n",
    "\n",
    "    print(f'Q-table:')\n",
    "    print(f'{np.around(agent.Q, decimals=4)}')\n",
    "    print(f'Number of times action was taken:')\n",
    "    print(f'{agent.N}')\n",
    "    print(f'Total timesteps: {sum(sum(agent.N)) - 100}')\n",
    "    print(f'Episode rewards: {episode_rewards}')\n",
    "\n",
    "    import matplotlib.pyplot as plt\n",
    "    # plt.plot(q_values_for_chart)\n",
    "    fig = plt.gcf()\n",
    "    fig.set_size_inches(18, 4)\n",
    "    plt.plot(rewards)\n",
    "\n",
    "    all_chart_values.append(q_values_for_chart)    "
   ]
  },
  {
   "cell_type": "markdown",
   "metadata": {},
   "source": [
    "# Real rewards UCB Q-learning"
   ]
  },
  {
   "cell_type": "code",
   "execution_count": 43,
   "metadata": {},
   "outputs": [
    {
     "name": "stdout",
     "output_type": "stream",
     "text": [
      "Q-table:\n",
      "[[-0.875 -0.875  0.   ]\n",
      " [-0.875 -0.875  0.   ]\n",
      " [-1.    -1.     0.   ]]\n",
      "Number of times action was taken:\n",
      "[[4.000e+00 4.000e+00 1.600e+01]\n",
      " [4.000e+00 4.000e+00 1.700e+01]\n",
      " [1.600e+01 1.600e+01 4.945e+03]]\n",
      "Total timesteps: 4926.0\n",
      "Episode rewards: -42\n"
     ]
    },
    {
     "data": {
      "image/png": "[encoded data removed]",
      "text/plain": [
       "<Figure size 1296x288 with 1 Axes>"
      ]
     },
     "metadata": {
      "needs_background": "light"
     },
     "output_type": "display_data"
    }
   ],
   "source": [
    "runner()"
   ]
  },
  {
   "cell_type": "markdown",
   "metadata": {},
   "source": [
    "# Noisy rewards\n",
    "- rewards are now noisy\n",
    "- q-learner hasn't changed"
   ]
  },
  {
   "cell_type": "code",
   "execution_count": 44,
   "metadata": {},
   "outputs": [
    {
     "name": "stdout",
     "output_type": "stream",
     "text": [
      "Q-table:\n",
      "[[-4.2276 -4.4901 -3.8175]\n",
      " [-4.5145 -4.5051 -4.1701]\n",
      " [-4.5646 -4.771  -2.3322]]\n",
      "Number of times action was taken:\n",
      "[[  13.   13.   43.]\n",
      " [  16.   14.   34.]\n",
      " [  40.   36. 4762.]]\n",
      "Total timesteps: 4871.0\n",
      "Episode rewards: -595\n"
     ]
    },
    {
     "data": {
      "image/png": "[encoded data removed]",
      "text/plain": [
       "<Figure size 1296x288 with 1 Axes>"
      ]
     },
     "metadata": {
      "needs_background": "light"
     },
     "output_type": "display_data"
    }
   ],
   "source": [
    "def adjust_rewards_noisy(reward, state, action):\n",
    "    reward = pre_processor.process_reward(reward)\n",
    "    reward = post_processor.smooth_reward(state, action, reward)\n",
    "    return reward\n",
    "\n",
    "runner(adjust_rewards_noisy)"
   ]
  },
  {
   "cell_type": "markdown",
   "metadata": {},
   "source": [
    "# Surrogate rewards"
   ]
  },
  {
   "cell_type": "code",
   "execution_count": 45,
   "metadata": {},
   "outputs": [],
   "source": [
    "import collections"
   ]
  },
  {
   "cell_type": "code",
   "execution_count": 46,
   "metadata": {},
   "outputs": [
    {
     "name": "stdout",
     "output_type": "stream",
     "text": [
      "Q-table:\n",
      "[[-4.3242 -4.2962 -3.8611]\n",
      " [-4.4574 -4.173  -3.859 ]\n",
      " [-4.6437 -4.634  -1.0116]]\n",
      "Number of times action was taken:\n",
      "[[  13.   14.   35.]\n",
      " [  14.   13.   36.]\n",
      " [  35.   35. 4892.]]\n",
      "Total timesteps: 4987.0\n",
      "Episode rewards: -610\n"
     ]
    },
    {
     "data": {
      "image/png": "[encoded data removed]",
      "text/plain": [
       "<Figure size 1296x288 with 1 Axes>"
      ]
     },
     "metadata": {
      "needs_background": "light"
     },
     "output_type": "display_data"
    }
   ],
   "source": [
    "def adjust_rewards_surrogate(reward, state, action):\n",
    "    reward = pre_processor.process_reward(reward)\n",
    "    post_processor.collect(state, action, reward)\n",
    "    reward = post_processor.process_reward(reward)\n",
    "    reward = post_processor.smooth_reward(state, action, reward)\n",
    "    return reward\n",
    "\n",
    "runner(adjust_rewards_noisy)"
   ]
  },
  {
   "cell_type": "code",
   "execution_count": 47,
   "metadata": {},
   "outputs": [
    {
     "data": {
      "text/plain": [
       "[<matplotlib.lines.Line2D at 0x12682a070>,\n",
       " <matplotlib.lines.Line2D at 0x12682a790>,\n",
       " <matplotlib.lines.Line2D at 0x12682a5b0>]"
      ]
     },
     "execution_count": 47,
     "metadata": {},
     "output_type": "execute_result"
    },
    {
     "data": {
      "image/png": "[encoded data removed]",
      "text/plain": [
       "<Figure size 288x1008 with 3 Axes>"
      ]
     },
     "metadata": {
      "needs_background": "light"
     },
     "output_type": "display_data"
    }
   ],
   "source": [
    "fig = plt.gcf()\n",
    "fig.set_size_inches(4, 14)\n",
    "plt.subplot(3, 1, 1)\n",
    "plt.plot(all_chart_values[0])\n",
    "plt.subplot(3, 1, 2)\n",
    "plt.plot(all_chart_values[1])\n",
    "plt.subplot(3, 1, 3)\n",
    "plt.plot(all_chart_values[2])\n"
   ]
  },
  {
   "cell_type": "markdown",
   "metadata": {},
   "source": [
    "# Custom simplified surrogate rewards"
   ]
  },
  {
   "cell_type": "code",
   "execution_count": null,
   "metadata": {},
   "outputs": [],
   "source": [
    "#TODO"
   ]
  }
 ],
 "metadata": {
  "kernelspec": {
   "display_name": "base",
   "language": "python",
   "name": "python3"
  },
  "language_info": {
   "codemirror_mode": {
    "name": "ipython",
    "version": 3
   },
   "file_extension": ".py",
   "mimetype": "text/x-python",
   "name": "python",
   "nbconvert_exporter": "python",
   "pygments_lexer": "ipython3",
   "version": "3.9.7"
  },
  "orig_nbformat": 4
 },
 "nbformat": 4,
 "nbformat_minor": 2
}
