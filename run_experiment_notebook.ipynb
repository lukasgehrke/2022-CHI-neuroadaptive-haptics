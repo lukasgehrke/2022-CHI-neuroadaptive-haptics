{
 "cells": [
  {
   "cell_type": "code",
   "execution_count": 330,
   "metadata": {},
   "outputs": [],
   "source": [
    "#TODO:\n",
    "# What if we reset the state to the original one, every 10 steps, and that would be our episode?"
   ]
  },
  {
   "cell_type": "markdown",
   "metadata": {},
   "source": [
    "# Scripts"
   ]
  },
  {
   "cell_type": "code",
   "execution_count": 331,
   "metadata": {},
   "outputs": [],
   "source": [
    "import argparse\n",
    "from ucbq_agent import UCBQAgent\n",
    "from ucbq_environment import ModifiedRandomEnvironment\n",
    "import time\n",
    "import numpy as np"
   ]
  },
  {
   "cell_type": "code",
   "execution_count": 332,
   "metadata": {},
   "outputs": [],
   "source": [
    "# TODO:\n",
    "# how do we set these?\n",
    "ERR_P = 0.2\n",
    "ERR_N = 0.4\n",
    "\n",
    "# C = [\n",
    "#     [0.6, 0.4],\n",
    "#     [0.2, 0.8]\n",
    "# ]\n",
    "\n",
    "class PreProcessor:\n",
    "    \"Add noise to reward\"\n",
    "    def __init__(self, e_=0.1, e=0.3, normal=True, epsilon=1e-6):\n",
    "        assert (np.abs(e_ + e - 1) > epsilon)\n",
    "        self.normal = normal\n",
    "        self.e_ = e_\n",
    "        self.e = e\n",
    "        self.epsilon = 1e-6\n",
    "        # These are the noisy returns that are returned\n",
    "        self.r1 = -1\n",
    "        self.r2 = 0\n",
    "\n",
    "    def noisy_reward(self, reward):\n",
    "        n = np.random.random()\n",
    "        # If we hit a negative reward, conver it to a poisitive\n",
    "        # with a given prob. \n",
    "        # Not sure why the `< epsilone is here`\n",
    "        # if np.abs(reward - self.r1) < self.epsilon:\n",
    "        if reward == self.r1:\n",
    "            if (n < self.e_):\n",
    "                return self.r2\n",
    "        else:\n",
    "            if (n < self.e):\n",
    "                return self.r1\n",
    "        return reward\n",
    "\n",
    "    def process_reward(self, reward):\n",
    "        if self.normal:\n",
    "            return reward\n",
    "\n",
    "        r = self.noisy_reward(reward)\n",
    "        return r\n",
    "    \n",
    "pre_processor = PreProcessor(normal=False, e_=ERR_N, e=ERR_P)"
   ]
  },
  {
   "cell_type": "code",
   "execution_count": 333,
   "metadata": {},
   "outputs": [],
   "source": [
    "import collections"
   ]
  },
  {
   "cell_type": "code",
   "execution_count": 334,
   "metadata": {},
   "outputs": [],
   "source": [
    "class PostProcessor:\n",
    "    \"\"\"\n",
    "    Learning from surrogate reward\n",
    "    following paper \"Learning from noisy labels\"\n",
    "    \"\"\"\n",
    "    def __init__(self, smooth=False, surrogate=True,reverse=False, epsilon=1e-6):\n",
    "        self.surrogate = surrogate\n",
    "        self.smooth = smooth\n",
    "        self.r_sets = {}\n",
    "        self.r_smooth = {}\n",
    "        self.r1 = -1\n",
    "        self.r2 = 0\n",
    "        self.counter = 0\n",
    "        self.C = np.identity(2)\n",
    "        self.epsilon = epsilon\n",
    "        self.reverse = reverse\n",
    "\n",
    "    def process_reward(self, reward):\n",
    "        self.estimate_C()\n",
    "        self.e_ = self.C[0, 1]\n",
    "        self.e = self.C[1, 0]\n",
    "\n",
    "        if self.surrogate:\n",
    "            if np.abs(reward - self.r1) < self.epsilon:\n",
    "                reward = ((1 - self.e) * self.r1 - self.e_ * self.r2) / (1 - self.e_ - self.e)\n",
    "            else:\n",
    "                reward = ((1 - self.e_) * self.r2 - self.e * self.r1) / (1 - self.e_ - self.e)\n",
    "\n",
    "        return reward\n",
    "\n",
    "    def estimate_C(self):\n",
    "        if self.counter >= 100 and self.counter % 100 == 0:\n",
    "            e_ = 0; e = 0\n",
    "            # a = 0; b = 0\n",
    "            # prob = 0\n",
    "\n",
    "            self.count1 = 0\n",
    "            self.count2 = 0\n",
    "            for k in self.r_sets.keys():\n",
    "                freq_count = collections.Counter(self.r_sets[k])\n",
    "                if self.reverse:\n",
    "                    truth, count = freq_count.most_common()[-1]\n",
    "                else: truth, count = freq_count.most_common()[0]\n",
    "                if truth == self.r1:\n",
    "                    self.count1 += len(self.r_sets[k])\n",
    "                else:\n",
    "                    self.count2 += len(self.r_sets[k])\n",
    "\n",
    "            for k in self.r_sets.keys():\n",
    "                freq_count = collections.Counter(self.r_sets[k])\n",
    "                # if self.e_ > 0.05:\n",
    "                #    self.reverse = True\n",
    "                #    self.counter = 0; self.r_sets = {}\n",
    "                #    break\n",
    "\n",
    "                if self.reverse:\n",
    "                    truth, count = freq_count.most_common()[-1]\n",
    "                else:\n",
    "                    truth, count = freq_count.most_common()[0]\n",
    "                prob_correct = float(count) / len(self.r_sets[k])\n",
    "                if truth == self.r1:\n",
    "                    if self.count1 > 2000:\n",
    "                        prob_k = float(len(self.r_sets[k])) / self.count1\n",
    "                        e_ += prob_k * (1 - prob_correct)\n",
    "                    else: e_ = 0.0\n",
    "                    # a += 2 * prob_k * prob_correct\n",
    "                else:\n",
    "                    prob_k = float(len(self.r_sets[k])) / self.count2\n",
    "                    e += prob_k * (1 - prob_correct)\n",
    "                    # b += 2 * prob_k * prob_correct\n",
    "\n",
    "            # print prob\n",
    "            # log_string(str(e_) + \" \" + str(e))\n",
    "            self.C = np.array([[1-e_, e_], [e, 1-e]])\n",
    "\n",
    "            # if self.counter >= 10000:\n",
    "            #     self.counter = 0\n",
    "            #    self.r_sets = {}\n",
    "\n",
    "            # print self.C\n",
    "\n",
    "    def smooth_reward(self, state, action, reward):\n",
    "        if self.smooth:\n",
    "            if (state, action) in self.r_smooth:\n",
    "                if len(self.r_smooth[(state, action)]) >= 100:\n",
    "                    self.r_smooth[(state, action)].pop(0)\n",
    "                    self.r_smooth[(state, action)].append(reward)\n",
    "                    return sum(self.r_smooth[(state, action)]) / float(len(self.r_smooth[(state, action)]))\n",
    "                else:\n",
    "                    self.r_smooth[(state, action)].append(reward)\n",
    "            else:\n",
    "                self.r_smooth[(state, action)] = [reward]\n",
    "\n",
    "        return reward\n",
    "\n",
    "    def collect(self, state, action, reward):\n",
    "        if (state, action) in self.r_sets:\n",
    "            self.r_sets[(state, action)].append(reward)\n",
    "        else:\n",
    "            self.r_sets[(state, action)] = [reward]\n",
    "        self.counter += 1\n",
    "\n",
    "#TODO:\n",
    "# Not sure if we need smoothing\n",
    "# post_processor = PostProcessor(smooth=True, surrogate=True)"
   ]
  },
  {
   "cell_type": "code",
   "execution_count": 335,
   "metadata": {},
   "outputs": [],
   "source": [
    "all_chart_values = []"
   ]
  },
  {
   "cell_type": "markdown",
   "metadata": {},
   "source": [
    "# Params"
   ]
  },
  {
   "cell_type": "code",
   "execution_count": 336,
   "metadata": {},
   "outputs": [],
   "source": [
    "# Run the script with\n",
    "# `python run_experiment.py -t 1`\n",
    "# This will run a simulation trial, with a total length of 1 seconds.\n",
    "# Participant answere will be given every 0.001 to 0.002 seconds.\n",
    "# The participant \"ture\" level of feedback is 2.\n",
    "\n",
    "# The script will output:\n",
    "# - A list of actions taken, in the format: \n",
    "# `elapsed_time > action_taken -> reward_received`\n",
    "# - The Q-table at the end of the trial,\n",
    "# with rows representing states and columns representing acions\n",
    "# - The total count of given actions taken in a given state, \n",
    "# with rows representing states and columns representing acions\n",
    "# - Total timesteps (actions) taken\n",
    "# - Total reward obtained\n",
    "\n",
    "# The agent is rewrded `-1` for guessing the wrong feedback level (not 2),\n",
    "# and `0` for guessing correctly\n",
    "\n",
    "# parser = argparse.ArgumentParser()\n",
    "# parser.add_argument(\"-t\", \"--TimeOut\", help = \"Stop script after n seconds\")\n",
    "# args = parser.parse_args()\n",
    "\n",
    "max_steps = 200\n",
    "num_episodes = 100\n",
    "\n",
    "timeOut = None\n",
    "num_states = 7\n",
    "start_state = 1"
   ]
  },
  {
   "cell_type": "code",
   "execution_count": 337,
   "metadata": {},
   "outputs": [],
   "source": [
    "import matplotlib.pyplot as plt"
   ]
  },
  {
   "cell_type": "code",
   "execution_count": 338,
   "metadata": {},
   "outputs": [],
   "source": [
    "def runner(adjust_rewards=None):\n",
    "    agent = UCBQAgent(num_states=num_states, num_actions=num_states)\n",
    "    env = ModifiedRandomEnvironment(current_state = start_state, num_states=num_states)\n",
    "\n",
    "    start_time = time.time()\n",
    "    t = 0\n",
    "\n",
    "    episode_rewards = 0\n",
    "\n",
    "    q_values_for_chart = []\n",
    "    rewards = []\n",
    "\n",
    "    state = start_state\n",
    "\n",
    "    same_action = None\n",
    "\n",
    "    while True:\n",
    "        elapsed_time = time.time() - start_time\n",
    "\n",
    "        # Auto shut down scipt \n",
    "        if bool(timeOut) and (elapsed_time > float(timeOut)):\n",
    "            break\n",
    "\n",
    "        if t >= max_steps:\n",
    "            break\n",
    "\n",
    "        action = agent.choose_action(state) \n",
    "        # TODO: \n",
    "        # send_action_to_stream\n",
    "        reward, next_state = env.step(action)\n",
    "        \n",
    "        rewards.append(reward)\n",
    "\n",
    "        if adjust_rewards:\n",
    "            reward = adjust_rewards(reward, state, action)\n",
    "        \n",
    "        # print(f\"{round(elapsed_time, 2)} > {action} -> {reward}\")\n",
    "        \n",
    "        agent.learn(state, action, reward, next_state)\n",
    "        state = next_state\n",
    "\n",
    "        episode_rewards += reward\n",
    "\n",
    "        t += 1\n",
    "\n",
    "        # if t % 10 == 0:\n",
    "        #     if agent.epsilon > agent.epsilon_min:\n",
    "        #         agent.epsilon *= agent.epsilon_decay # Decay epsilon\n",
    "\n",
    "        # if agent.alpha > agent.alpha_min:\n",
    "        #     # agent.alpha -= agent.alpha_decay(t)\n",
    "        #     agent.alpha *= 0.8\n",
    "\n",
    "        if agent.epsilon > agent.epsilon_min:\n",
    "            # agent.epsilon -= agent.epsilon_decay(t)\n",
    "            agent.epsilon *= 0.5\n",
    "\n",
    "        if t % 10 == 0:\n",
    "            sum_q_values_across_states = np.around(np.sum(agent.Q, axis=0), decimals=4)\n",
    "            q_values_for_chart.append(sum_q_values_across_states)\n",
    "            # print(agent.alpha, agent.epsilon)\n",
    "\n",
    "        #action picked\n",
    "        consecutive_limit = 15\n",
    "        if t > 35:\n",
    "            if action == same_action:\n",
    "                consecutive_count += 1\n",
    "                if consecutive_count >= consecutive_limit:\n",
    "                    tqdm.write(f\"Selected action {action} - breaking loop at iteration {t} - consecutive count: {consecutive_count}\")\n",
    "                    break\n",
    "            else:\n",
    "                same_action = action\n",
    "                consecutive_count = 1\n",
    "\n",
    "    # print(f'Q-table:')\n",
    "    # print(f'{np.around(agent.Q, decimals=4)}')\n",
    "    # print(f'Number of times action was taken:')\n",
    "    # print(f'{agent.N}')\n",
    "    # print(f'Total timesteps: {sum(sum(agent.N)) - 100}')\n",
    "    # print(f'Episode rewards: {episode_rewards}')\n",
    "\n",
    "    # # plt.plot(q_values_for_chart)\n",
    "    # fig = plt.gcf()\n",
    "    # fig.set_size_inches(18, 4)\n",
    "    # plt.plot(rewards)\n",
    "\n",
    "    all_chart_values.append(q_values_for_chart)\n",
    "\n",
    "    \n",
    "    episode_length = t + 1\n",
    "    selected_action = action \n",
    "    \n",
    "    if t >= max_steps:\n",
    "        sum_q_values_across_states = np.around(np.sum(agent.Q, axis=0), decimals=4)\n",
    "        selected_action = np.argmax(sum_q_values_across_states)\n",
    "\n",
    "\n",
    "    return q_values_for_chart, rewards, episode_length, selected_action"
   ]
  },
  {
   "cell_type": "code",
   "execution_count": 339,
   "metadata": {},
   "outputs": [],
   "source": [
    "from tqdm import tqdm "
   ]
  },
  {
   "cell_type": "code",
   "execution_count": 340,
   "metadata": {},
   "outputs": [],
   "source": [
    "import pandas as pd"
   ]
  },
  {
   "cell_type": "code",
   "execution_count": 341,
   "metadata": {},
   "outputs": [],
   "source": [
    "def get_mean_across_episodes(arr):\n",
    "    min_cols = np.amin([len(row) for row in arr])\n",
    "    truncated_arr = [ x[:min_cols] for x in arr ]\n",
    "    res = np.array(truncated_arr)\n",
    "    mean = res.mean(axis=0)\n",
    "\n",
    "    return mean"
   ]
  },
  {
   "cell_type": "code",
   "execution_count": 342,
   "metadata": {},
   "outputs": [],
   "source": [
    "def get_cumsum_rewards(rewards):\n",
    "        cumulative_sum_rewards = np.cumsum(rewards)\n",
    "        time_steps = np.arange(1, len(rewards) + 1)\n",
    "        mean_rewards = cumulative_sum_rewards / time_steps\n",
    "        return mean_rewards\n",
    "\n",
    "def plot_mean_q_values(difference_fn=None):\n",
    "    q_values_all_experiments = []\n",
    "    rewards_all_experiments = []\n",
    "    episode_lengths = []\n",
    "    selected_actions = []\n",
    "\n",
    "    for i in tqdm(range(num_episodes)):\n",
    "        q_values_for_chart, rewards, episode_length, selected_action = runner(difference_fn)\n",
    "        rewards_all_experiments.append(rewards)\n",
    "        q_values_all_experiments.append(q_values_for_chart)\n",
    "        episode_lengths.append(episode_length)\n",
    "        selected_actions.append(selected_action)\n",
    "\n",
    "    all_mean_rewards = [ get_cumsum_rewards(rewards) for rewards in rewards_all_experiments ]\n",
    "\n",
    "    all_mean_rewards = pd.DataFrame(all_mean_rewards) # rewards have different lengths\n",
    "    # because they terminate earlier sometimes\n",
    "    mean_matrix = np.mean(all_mean_rewards, axis=0)\n",
    "    mean_dataframe = pd.DataFrame(mean_matrix)\n",
    "    mean_dataframe.plot()\n",
    "\n",
    "    mean_matrix = get_mean_across_episodes(q_values_all_experiments)\n",
    "    mean_dataframe = pd.DataFrame(mean_matrix)\n",
    "\n",
    "    mean_dataframe.plot()\n",
    "\n",
    "    pd.DataFrame(episode_lengths).plot()\n",
    "    pd.DataFrame(selected_actions).plot()"
   ]
  },
  {
   "cell_type": "markdown",
   "metadata": {},
   "source": [
    "# Real rewards UCB Q-learning"
   ]
  },
  {
   "cell_type": "code",
   "execution_count": 343,
   "metadata": {},
   "outputs": [
    {
     "name": "stdout",
     "output_type": "stream",
     "text": [
      "Selected action 2 - breaking loop at iteration 146 - consecutive count: 15\n"
     ]
    }
   ],
   "source": [
    "rewards_all_experiments = []\n",
    "\n",
    "qs, rewards, _, _ = runner()\n",
    "rewards_all_experiments.append(rewards)"
   ]
  },
  {
   "cell_type": "code",
   "execution_count": 344,
   "metadata": {},
   "outputs": [
    {
     "name": "stderr",
     "output_type": "stream",
     "text": [
      "  2%|▏         | 2/100 [00:00<00:19,  5.12it/s]"
     ]
    },
    {
     "name": "stdout",
     "output_type": "stream",
     "text": [
      "Selected action 2 - breaking loop at iteration 99 - consecutive count: 15\n",
      "Selected action 2 - breaking loop at iteration 98 - consecutive count: 15\n"
     ]
    },
    {
     "name": "stderr",
     "output_type": "stream",
     "text": [
      "  4%|▍         | 4/100 [00:00<00:18,  5.19it/s]"
     ]
    },
    {
     "name": "stdout",
     "output_type": "stream",
     "text": [
      "Selected action 2 - breaking loop at iteration 98 - consecutive count: 15\n",
      "Selected action 2 - breaking loop at iteration 98 - consecutive count: 15\n"
     ]
    },
    {
     "name": "stderr",
     "output_type": "stream",
     "text": [
      "  5%|▌         | 5/100 [00:01<00:18,  5.18it/s]"
     ]
    },
    {
     "name": "stdout",
     "output_type": "stream",
     "text": [
      "Selected action 2 - breaking loop at iteration 98 - consecutive count: 15\n",
      "Selected action 2 - breaking loop at iteration 98 - consecutive count: 15\n"
     ]
    },
    {
     "name": "stderr",
     "output_type": "stream",
     "text": [
      "  8%|▊         | 8/100 [00:01<00:17,  5.12it/s]"
     ]
    },
    {
     "name": "stdout",
     "output_type": "stream",
     "text": [
      "Selected action 2 - breaking loop at iteration 99 - consecutive count: 15\n",
      "Selected action 2 - breaking loop at iteration 98 - consecutive count: 15\n"
     ]
    },
    {
     "name": "stderr",
     "output_type": "stream",
     "text": [
      " 10%|█         | 10/100 [00:01<00:17,  5.08it/s]"
     ]
    },
    {
     "name": "stdout",
     "output_type": "stream",
     "text": [
      "Selected action 2 - breaking loop at iteration 101 - consecutive count: 15\n",
      "Selected action 2 - breaking loop at iteration 99 - consecutive count: 15\n"
     ]
    },
    {
     "name": "stderr",
     "output_type": "stream",
     "text": [
      " 11%|█         | 11/100 [00:02<00:17,  5.14it/s]"
     ]
    },
    {
     "name": "stdout",
     "output_type": "stream",
     "text": [
      "Selected action 2 - breaking loop at iteration 98 - consecutive count: 15\n"
     ]
    },
    {
     "name": "stderr",
     "output_type": "stream",
     "text": [
      " 13%|█▎        | 13/100 [00:02<00:18,  4.66it/s]"
     ]
    },
    {
     "name": "stdout",
     "output_type": "stream",
     "text": [
      "Selected action 2 - breaking loop at iteration 147 - consecutive count: 15\n",
      "Selected action 2 - breaking loop at iteration 99 - consecutive count: 15\n"
     ]
    },
    {
     "name": "stderr",
     "output_type": "stream",
     "text": [
      " 15%|█▌        | 15/100 [00:03<00:17,  4.87it/s]"
     ]
    },
    {
     "name": "stdout",
     "output_type": "stream",
     "text": [
      "Selected action 2 - breaking loop at iteration 98 - consecutive count: 15\n",
      "Selected action 2 - breaking loop at iteration 100 - consecutive count: 15\n"
     ]
    },
    {
     "name": "stderr",
     "output_type": "stream",
     "text": [
      " 17%|█▋        | 17/100 [00:03<00:16,  5.10it/s]"
     ]
    },
    {
     "name": "stdout",
     "output_type": "stream",
     "text": [
      "Selected action 2 - breaking loop at iteration 98 - consecutive count: 15\n",
      "Selected action 2 - breaking loop at iteration 98 - consecutive count: 15\n"
     ]
    },
    {
     "name": "stderr",
     "output_type": "stream",
     "text": [
      " 19%|█▉        | 19/100 [00:03<00:15,  5.15it/s]"
     ]
    },
    {
     "name": "stdout",
     "output_type": "stream",
     "text": [
      "Selected action 2 - breaking loop at iteration 98 - consecutive count: 15\n",
      "Selected action 2 - breaking loop at iteration 98 - consecutive count: 15\n"
     ]
    },
    {
     "name": "stderr",
     "output_type": "stream",
     "text": [
      " 21%|██        | 21/100 [00:04<00:16,  4.67it/s]"
     ]
    },
    {
     "name": "stdout",
     "output_type": "stream",
     "text": [
      "Selected action 2 - breaking loop at iteration 146 - consecutive count: 15\n",
      "Selected action 2 - breaking loop at iteration 99 - consecutive count: 15\n"
     ]
    },
    {
     "name": "stderr",
     "output_type": "stream",
     "text": [
      " 23%|██▎       | 23/100 [00:04<00:15,  4.90it/s]"
     ]
    },
    {
     "name": "stdout",
     "output_type": "stream",
     "text": [
      "Selected action 2 - breaking loop at iteration 98 - consecutive count: 15\n",
      "Selected action 2 - breaking loop at iteration 98 - consecutive count: 15\n"
     ]
    },
    {
     "name": "stderr",
     "output_type": "stream",
     "text": [
      " 25%|██▌       | 25/100 [00:05<00:14,  5.05it/s]"
     ]
    },
    {
     "name": "stdout",
     "output_type": "stream",
     "text": [
      "Selected action 2 - breaking loop at iteration 99 - consecutive count: 15\n",
      "Selected action 2 - breaking loop at iteration 98 - consecutive count: 15\n"
     ]
    },
    {
     "name": "stderr",
     "output_type": "stream",
     "text": [
      " 27%|██▋       | 27/100 [00:05<00:14,  5.10it/s]"
     ]
    },
    {
     "name": "stdout",
     "output_type": "stream",
     "text": [
      "Selected action 2 - breaking loop at iteration 98 - consecutive count: 15\n",
      "Selected action 2 - breaking loop at iteration 98 - consecutive count: 15\n"
     ]
    },
    {
     "name": "stderr",
     "output_type": "stream",
     "text": [
      " 29%|██▉       | 29/100 [00:05<00:13,  5.14it/s]"
     ]
    },
    {
     "name": "stdout",
     "output_type": "stream",
     "text": [
      "Selected action 2 - breaking loop at iteration 98 - consecutive count: 15\n",
      "Selected action 2 - breaking loop at iteration 98 - consecutive count: 15\n"
     ]
    },
    {
     "name": "stderr",
     "output_type": "stream",
     "text": [
      " 31%|███       | 31/100 [00:06<00:13,  5.09it/s]"
     ]
    },
    {
     "name": "stdout",
     "output_type": "stream",
     "text": [
      "Selected action 2 - breaking loop at iteration 98 - consecutive count: 15\n",
      "Selected action 2 - breaking loop at iteration 100 - consecutive count: 15\n"
     ]
    },
    {
     "name": "stderr",
     "output_type": "stream",
     "text": [
      " 33%|███▎      | 33/100 [00:06<00:14,  4.60it/s]"
     ]
    },
    {
     "name": "stdout",
     "output_type": "stream",
     "text": [
      "Selected action 2 - breaking loop at iteration 159 - consecutive count: 15\n",
      "Selected action 2 - breaking loop at iteration 98 - consecutive count: 15\n"
     ]
    },
    {
     "name": "stderr",
     "output_type": "stream",
     "text": [
      " 34%|███▍      | 34/100 [00:06<00:13,  4.77it/s]"
     ]
    },
    {
     "name": "stdout",
     "output_type": "stream",
     "text": [
      "Selected action 2 - breaking loop at iteration 98 - consecutive count: 15\n"
     ]
    },
    {
     "name": "stderr",
     "output_type": "stream",
     "text": [
      " 35%|███▌      | 35/100 [00:07<00:13,  4.81it/s]"
     ]
    },
    {
     "name": "stdout",
     "output_type": "stream",
     "text": [
      "Selected action 2 - breaking loop at iteration 99 - consecutive count: 15\n"
     ]
    },
    {
     "name": "stderr",
     "output_type": "stream",
     "text": [
      " 37%|███▋      | 37/100 [00:07<00:13,  4.57it/s]"
     ]
    },
    {
     "name": "stdout",
     "output_type": "stream",
     "text": [
      "Selected action 2 - breaking loop at iteration 146 - consecutive count: 15\n",
      "Selected action 2 - breaking loop at iteration 98 - consecutive count: 15\n"
     ]
    },
    {
     "name": "stderr",
     "output_type": "stream",
     "text": [
      " 38%|███▊      | 38/100 [00:07<00:13,  4.71it/s]"
     ]
    },
    {
     "name": "stdout",
     "output_type": "stream",
     "text": [
      "Selected action 2 - breaking loop at iteration 98 - consecutive count: 15\n"
     ]
    },
    {
     "name": "stderr",
     "output_type": "stream",
     "text": [
      " 40%|████      | 40/100 [00:08<00:12,  4.94it/s]"
     ]
    },
    {
     "name": "stdout",
     "output_type": "stream",
     "text": [
      "Selected action 2 - breaking loop at iteration 100 - consecutive count: 15\n",
      "Selected action 2 - breaking loop at iteration 98 - consecutive count: 15\n"
     ]
    },
    {
     "name": "stderr",
     "output_type": "stream",
     "text": [
      " 42%|████▏     | 42/100 [00:08<00:11,  5.12it/s]"
     ]
    },
    {
     "name": "stdout",
     "output_type": "stream",
     "text": [
      "Selected action 2 - breaking loop at iteration 98 - consecutive count: 15\n",
      "Selected action 2 - breaking loop at iteration 98 - consecutive count: 15\n"
     ]
    },
    {
     "name": "stderr",
     "output_type": "stream",
     "text": [
      " 42%|████▏     | 42/100 [00:08<00:11,  4.84it/s]\n"
     ]
    },
    {
     "ename": "KeyboardInterrupt",
     "evalue": "",
     "output_type": "error",
     "traceback": [
      "\u001b[0;31m---------------------------------------------------------------------------\u001b[0m",
      "\u001b[0;31mKeyboardInterrupt\u001b[0m                         Traceback (most recent call last)",
      "\u001b[1;32m/Users/schnuckiputz/other/git/2022-CHI-neuroadaptive-haptics/run_experiment_notebook.ipynb Cell 18\u001b[0m in \u001b[0;36m<module>\u001b[0;34m\u001b[0m\n\u001b[1;32m      <a href='vscode-notebook-cell:/Users/schnuckiputz/other/git/2022-CHI-neuroadaptive-haptics/run_experiment_notebook.ipynb#X22sZmlsZQ%3D%3D?line=0'>1</a>\u001b[0m \u001b[39m# The Q-value shape make sense - we're trying higher numbers later\u001b[39;00m\n\u001b[1;32m      <a href='vscode-notebook-cell:/Users/schnuckiputz/other/git/2022-CHI-neuroadaptive-haptics/run_experiment_notebook.ipynb#X22sZmlsZQ%3D%3D?line=1'>2</a>\u001b[0m \u001b[39m# so they converge to -1 slower than e.g. action 0 or 1\u001b[39;00m\n\u001b[0;32m----> <a href='vscode-notebook-cell:/Users/schnuckiputz/other/git/2022-CHI-neuroadaptive-haptics/run_experiment_notebook.ipynb#X22sZmlsZQ%3D%3D?line=2'>3</a>\u001b[0m plot_mean_q_values()\n",
      "\u001b[1;32m/Users/schnuckiputz/other/git/2022-CHI-neuroadaptive-haptics/run_experiment_notebook.ipynb Cell 18\u001b[0m in \u001b[0;36mplot_mean_q_values\u001b[0;34m(difference_fn)\u001b[0m\n\u001b[1;32m     <a href='vscode-notebook-cell:/Users/schnuckiputz/other/git/2022-CHI-neuroadaptive-haptics/run_experiment_notebook.ipynb#X22sZmlsZQ%3D%3D?line=10'>11</a>\u001b[0m selected_actions \u001b[39m=\u001b[39m []\n\u001b[1;32m     <a href='vscode-notebook-cell:/Users/schnuckiputz/other/git/2022-CHI-neuroadaptive-haptics/run_experiment_notebook.ipynb#X22sZmlsZQ%3D%3D?line=12'>13</a>\u001b[0m \u001b[39mfor\u001b[39;00m i \u001b[39min\u001b[39;00m tqdm(\u001b[39mrange\u001b[39m(num_episodes)):\n\u001b[0;32m---> <a href='vscode-notebook-cell:/Users/schnuckiputz/other/git/2022-CHI-neuroadaptive-haptics/run_experiment_notebook.ipynb#X22sZmlsZQ%3D%3D?line=13'>14</a>\u001b[0m     q_values_for_chart, rewards, episode_length, selected_action \u001b[39m=\u001b[39m runner(difference_fn)\n\u001b[1;32m     <a href='vscode-notebook-cell:/Users/schnuckiputz/other/git/2022-CHI-neuroadaptive-haptics/run_experiment_notebook.ipynb#X22sZmlsZQ%3D%3D?line=14'>15</a>\u001b[0m     rewards_all_experiments\u001b[39m.\u001b[39mappend(rewards)\n\u001b[1;32m     <a href='vscode-notebook-cell:/Users/schnuckiputz/other/git/2022-CHI-neuroadaptive-haptics/run_experiment_notebook.ipynb#X22sZmlsZQ%3D%3D?line=15'>16</a>\u001b[0m     q_values_all_experiments\u001b[39m.\u001b[39mappend(q_values_for_chart)\n",
      "\u001b[1;32m/Users/schnuckiputz/other/git/2022-CHI-neuroadaptive-haptics/run_experiment_notebook.ipynb Cell 18\u001b[0m in \u001b[0;36mrunner\u001b[0;34m(adjust_rewards)\u001b[0m\n\u001b[1;32m     <a href='vscode-notebook-cell:/Users/schnuckiputz/other/git/2022-CHI-neuroadaptive-haptics/run_experiment_notebook.ipynb#X22sZmlsZQ%3D%3D?line=26'>27</a>\u001b[0m action \u001b[39m=\u001b[39m agent\u001b[39m.\u001b[39mchoose_action(state) \n\u001b[1;32m     <a href='vscode-notebook-cell:/Users/schnuckiputz/other/git/2022-CHI-neuroadaptive-haptics/run_experiment_notebook.ipynb#X22sZmlsZQ%3D%3D?line=27'>28</a>\u001b[0m \u001b[39m# TODO: \u001b[39;00m\n\u001b[1;32m     <a href='vscode-notebook-cell:/Users/schnuckiputz/other/git/2022-CHI-neuroadaptive-haptics/run_experiment_notebook.ipynb#X22sZmlsZQ%3D%3D?line=28'>29</a>\u001b[0m \u001b[39m# send_action_to_stream\u001b[39;00m\n\u001b[0;32m---> <a href='vscode-notebook-cell:/Users/schnuckiputz/other/git/2022-CHI-neuroadaptive-haptics/run_experiment_notebook.ipynb#X22sZmlsZQ%3D%3D?line=29'>30</a>\u001b[0m reward, next_state \u001b[39m=\u001b[39m env\u001b[39m.\u001b[39;49mstep(action)\n\u001b[1;32m     <a href='vscode-notebook-cell:/Users/schnuckiputz/other/git/2022-CHI-neuroadaptive-haptics/run_experiment_notebook.ipynb#X22sZmlsZQ%3D%3D?line=31'>32</a>\u001b[0m rewards\u001b[39m.\u001b[39mappend(reward)\n\u001b[1;32m     <a href='vscode-notebook-cell:/Users/schnuckiputz/other/git/2022-CHI-neuroadaptive-haptics/run_experiment_notebook.ipynb#X22sZmlsZQ%3D%3D?line=33'>34</a>\u001b[0m \u001b[39mif\u001b[39;00m adjust_rewards:\n",
      "File \u001b[0;32m~/other/git/2022-CHI-neuroadaptive-haptics/ucbq_environment.py:33\u001b[0m, in \u001b[0;36mModifiedRandomEnvironment.step\u001b[0;34m(self, action)\u001b[0m\n\u001b[1;32m     32\u001b[0m \u001b[39mdef\u001b[39;00m \u001b[39mstep\u001b[39m(\u001b[39mself\u001b[39m, action):\n\u001b[0;32m---> 33\u001b[0m     reward \u001b[39m=\u001b[39m \u001b[39mself\u001b[39;49m\u001b[39m.\u001b[39;49mget_participant_answer(action)\n\u001b[1;32m     34\u001b[0m     \u001b[39m# Our case action == state, but migth consdier this separation in the future\u001b[39;00m\n\u001b[1;32m     35\u001b[0m     next_state \u001b[39m=\u001b[39m action\n",
      "File \u001b[0;32m~/other/git/2022-CHI-neuroadaptive-haptics/ucbq_environment.py:27\u001b[0m, in \u001b[0;36mModifiedRandomEnvironment.get_participant_answer\u001b[0;34m(self, action)\u001b[0m\n\u001b[1;32m     14\u001b[0m \u001b[39mdef\u001b[39;00m \u001b[39mget_participant_answer\u001b[39m(\u001b[39mself\u001b[39m, action):\n\u001b[1;32m     15\u001b[0m     \u001b[39m# TODO: use this code when we'll be listenting to the \u001b[39;00m\n\u001b[1;32m     16\u001b[0m     \u001b[39m# actual stream\u001b[39;00m\n\u001b[0;32m   (...)\u001b[0m\n\u001b[1;32m     25\u001b[0m     \u001b[39m# Wait random time before giving an answer.\u001b[39;00m\n\u001b[1;32m     26\u001b[0m     \u001b[39m# This simulates listening to stream.\u001b[39;00m\n\u001b[0;32m---> 27\u001b[0m     time\u001b[39m.\u001b[39;49msleep(random\u001b[39m.\u001b[39;49muniform(\u001b[39m0.001\u001b[39;49m, \u001b[39m0.002\u001b[39;49m))\n\u001b[1;32m     28\u001b[0m     \u001b[39m# The reward is 0 if action matches current state, otherwise -1\u001b[39;00m\n\u001b[1;32m     29\u001b[0m     answer \u001b[39m=\u001b[39m \u001b[39m0\u001b[39m \u001b[39mif\u001b[39;00m action \u001b[39m==\u001b[39m \u001b[39m2\u001b[39m \u001b[39melse\u001b[39;00m \u001b[39m-\u001b[39m\u001b[39m1\u001b[39m \n",
      "\u001b[0;31mKeyboardInterrupt\u001b[0m: "
     ]
    }
   ],
   "source": [
    "# The Q-value shape make sense - we're trying higher numbers later\n",
    "# so they converge to -1 slower than e.g. action 0 or 1\n",
    "plot_mean_q_values()"
   ]
  },
  {
   "cell_type": "markdown",
   "metadata": {},
   "source": [
    "# Noisy rewards\n",
    "- rewards are now noisy\n",
    "- q-learner hasn't changed"
   ]
  },
  {
   "cell_type": "code",
   "execution_count": null,
   "metadata": {},
   "outputs": [],
   "source": [
    "post_processor = PostProcessor(smooth=True, surrogate=True)\n",
    "\n",
    "def adjust_rewards_noisy(reward, state, action):    \n",
    "    reward = pre_processor.process_reward(reward)\n",
    "    reward = post_processor.smooth_reward(state, action, reward)\n",
    "    return reward\n"
   ]
  },
  {
   "cell_type": "code",
   "execution_count": null,
   "metadata": {},
   "outputs": [],
   "source": [
    "# qs, rewards = runner(adjust_rewards_noisy)\n",
    "# rewards_all_experiments.append(rewards)"
   ]
  },
  {
   "cell_type": "code",
   "execution_count": null,
   "metadata": {},
   "outputs": [
    {
     "name": "stderr",
     "output_type": "stream",
     "text": [
      " 30%|███       | 30/100 [00:12<00:28,  2.48it/s]\n"
     ]
    },
    {
     "ename": "KeyboardInterrupt",
     "evalue": "",
     "output_type": "error",
     "traceback": [
      "\u001b[0;31m---------------------------------------------------------------------------\u001b[0m",
      "\u001b[0;31mKeyboardInterrupt\u001b[0m                         Traceback (most recent call last)",
      "\u001b[1;32m/Users/schnuckiputz/other/git/2022-CHI-neuroadaptive-haptics/run_experiment_notebook.ipynb Cell 22\u001b[0m in \u001b[0;36m<module>\u001b[0;34m\u001b[0m\n\u001b[0;32m----> <a href='vscode-notebook-cell:/Users/schnuckiputz/other/git/2022-CHI-neuroadaptive-haptics/run_experiment_notebook.ipynb#X26sZmlsZQ%3D%3D?line=0'>1</a>\u001b[0m plot_mean_q_values(adjust_rewards_noisy)\n",
      "\u001b[1;32m/Users/schnuckiputz/other/git/2022-CHI-neuroadaptive-haptics/run_experiment_notebook.ipynb Cell 22\u001b[0m in \u001b[0;36mplot_mean_q_values\u001b[0;34m(difference_fn)\u001b[0m\n\u001b[1;32m     <a href='vscode-notebook-cell:/Users/schnuckiputz/other/git/2022-CHI-neuroadaptive-haptics/run_experiment_notebook.ipynb#X26sZmlsZQ%3D%3D?line=10'>11</a>\u001b[0m selected_actions \u001b[39m=\u001b[39m []\n\u001b[1;32m     <a href='vscode-notebook-cell:/Users/schnuckiputz/other/git/2022-CHI-neuroadaptive-haptics/run_experiment_notebook.ipynb#X26sZmlsZQ%3D%3D?line=12'>13</a>\u001b[0m \u001b[39mfor\u001b[39;00m i \u001b[39min\u001b[39;00m tqdm(\u001b[39mrange\u001b[39m(num_episodes)):\n\u001b[0;32m---> <a href='vscode-notebook-cell:/Users/schnuckiputz/other/git/2022-CHI-neuroadaptive-haptics/run_experiment_notebook.ipynb#X26sZmlsZQ%3D%3D?line=13'>14</a>\u001b[0m     q_values_for_chart, rewards, episode_length, selected_action \u001b[39m=\u001b[39m runner(difference_fn)\n\u001b[1;32m     <a href='vscode-notebook-cell:/Users/schnuckiputz/other/git/2022-CHI-neuroadaptive-haptics/run_experiment_notebook.ipynb#X26sZmlsZQ%3D%3D?line=14'>15</a>\u001b[0m     rewards_all_experiments\u001b[39m.\u001b[39mappend(rewards)\n\u001b[1;32m     <a href='vscode-notebook-cell:/Users/schnuckiputz/other/git/2022-CHI-neuroadaptive-haptics/run_experiment_notebook.ipynb#X26sZmlsZQ%3D%3D?line=15'>16</a>\u001b[0m     q_values_all_experiments\u001b[39m.\u001b[39mappend(q_values_for_chart)\n",
      "\u001b[1;32m/Users/schnuckiputz/other/git/2022-CHI-neuroadaptive-haptics/run_experiment_notebook.ipynb Cell 22\u001b[0m in \u001b[0;36mrunner\u001b[0;34m(adjust_rewards)\u001b[0m\n\u001b[1;32m     <a href='vscode-notebook-cell:/Users/schnuckiputz/other/git/2022-CHI-neuroadaptive-haptics/run_experiment_notebook.ipynb#X26sZmlsZQ%3D%3D?line=26'>27</a>\u001b[0m action \u001b[39m=\u001b[39m agent\u001b[39m.\u001b[39mchoose_action(state) \n\u001b[1;32m     <a href='vscode-notebook-cell:/Users/schnuckiputz/other/git/2022-CHI-neuroadaptive-haptics/run_experiment_notebook.ipynb#X26sZmlsZQ%3D%3D?line=27'>28</a>\u001b[0m \u001b[39m# TODO: \u001b[39;00m\n\u001b[1;32m     <a href='vscode-notebook-cell:/Users/schnuckiputz/other/git/2022-CHI-neuroadaptive-haptics/run_experiment_notebook.ipynb#X26sZmlsZQ%3D%3D?line=28'>29</a>\u001b[0m \u001b[39m# send_action_to_stream\u001b[39;00m\n\u001b[0;32m---> <a href='vscode-notebook-cell:/Users/schnuckiputz/other/git/2022-CHI-neuroadaptive-haptics/run_experiment_notebook.ipynb#X26sZmlsZQ%3D%3D?line=29'>30</a>\u001b[0m reward, next_state \u001b[39m=\u001b[39m env\u001b[39m.\u001b[39;49mstep(action)\n\u001b[1;32m     <a href='vscode-notebook-cell:/Users/schnuckiputz/other/git/2022-CHI-neuroadaptive-haptics/run_experiment_notebook.ipynb#X26sZmlsZQ%3D%3D?line=31'>32</a>\u001b[0m rewards\u001b[39m.\u001b[39mappend(reward)\n\u001b[1;32m     <a href='vscode-notebook-cell:/Users/schnuckiputz/other/git/2022-CHI-neuroadaptive-haptics/run_experiment_notebook.ipynb#X26sZmlsZQ%3D%3D?line=33'>34</a>\u001b[0m \u001b[39mif\u001b[39;00m adjust_rewards:\n",
      "File \u001b[0;32m~/other/git/2022-CHI-neuroadaptive-haptics/ucbq_environment.py:33\u001b[0m, in \u001b[0;36mModifiedRandomEnvironment.step\u001b[0;34m(self, action)\u001b[0m\n\u001b[1;32m     32\u001b[0m \u001b[39mdef\u001b[39;00m \u001b[39mstep\u001b[39m(\u001b[39mself\u001b[39m, action):\n\u001b[0;32m---> 33\u001b[0m     reward \u001b[39m=\u001b[39m \u001b[39mself\u001b[39;49m\u001b[39m.\u001b[39;49mget_participant_answer(action)\n\u001b[1;32m     34\u001b[0m     \u001b[39m# Our case action == state, but migth consdier this separation in the future\u001b[39;00m\n\u001b[1;32m     35\u001b[0m     next_state \u001b[39m=\u001b[39m action\n",
      "File \u001b[0;32m~/other/git/2022-CHI-neuroadaptive-haptics/ucbq_environment.py:27\u001b[0m, in \u001b[0;36mModifiedRandomEnvironment.get_participant_answer\u001b[0;34m(self, action)\u001b[0m\n\u001b[1;32m     14\u001b[0m \u001b[39mdef\u001b[39;00m \u001b[39mget_participant_answer\u001b[39m(\u001b[39mself\u001b[39m, action):\n\u001b[1;32m     15\u001b[0m     \u001b[39m# TODO: use this code when we'll be listenting to the \u001b[39;00m\n\u001b[1;32m     16\u001b[0m     \u001b[39m# actual stream\u001b[39;00m\n\u001b[0;32m   (...)\u001b[0m\n\u001b[1;32m     25\u001b[0m     \u001b[39m# Wait random time before giving an answer.\u001b[39;00m\n\u001b[1;32m     26\u001b[0m     \u001b[39m# This simulates listening to stream.\u001b[39;00m\n\u001b[0;32m---> 27\u001b[0m     time\u001b[39m.\u001b[39;49msleep(random\u001b[39m.\u001b[39;49muniform(\u001b[39m0.001\u001b[39;49m, \u001b[39m0.002\u001b[39;49m))\n\u001b[1;32m     28\u001b[0m     \u001b[39m# The reward is 0 if action matches current state, otherwise -1\u001b[39;00m\n\u001b[1;32m     29\u001b[0m     answer \u001b[39m=\u001b[39m \u001b[39m0\u001b[39m \u001b[39mif\u001b[39;00m action \u001b[39m==\u001b[39m \u001b[39m2\u001b[39m \u001b[39melse\u001b[39;00m \u001b[39m-\u001b[39m\u001b[39m1\u001b[39m \n",
      "\u001b[0;31mKeyboardInterrupt\u001b[0m: "
     ]
    }
   ],
   "source": [
    "plot_mean_q_values(adjust_rewards_noisy)"
   ]
  },
  {
   "cell_type": "markdown",
   "metadata": {},
   "source": [
    "# Surrogate rewards"
   ]
  },
  {
   "cell_type": "code",
   "execution_count": null,
   "metadata": {},
   "outputs": [
    {
     "name": "stdout",
     "output_type": "stream",
     "text": [
      "[[1.         0.        ]\n",
      " [0.29126214 0.70873786]]\n"
     ]
    }
   ],
   "source": [
    "post_processor = PostProcessor(smooth=True, surrogate=True)\n",
    "\n",
    "def adjust_rewards_surrogate(reward, state, action):\n",
    "    \n",
    "    reward = pre_processor.process_reward(reward)\n",
    "    post_processor.collect(state, action, reward)\n",
    "    reward = post_processor.process_reward(reward)\n",
    "    reward = post_processor.smooth_reward(state, action, reward)\n",
    "    return reward\n",
    "\n",
    "runner(adjust_rewards_surrogate)\n",
    "print(post_processor.C)"
   ]
  },
  {
   "cell_type": "code",
   "execution_count": null,
   "metadata": {},
   "outputs": [],
   "source": [
    "# qs, rewards = runner(adjust_rewards_surrogate)\n",
    "# rewards_all_experiments.append(rewards)"
   ]
  },
  {
   "cell_type": "code",
   "execution_count": null,
   "metadata": {},
   "outputs": [
    {
     "name": "stderr",
     "output_type": "stream",
     "text": [
      " 15%|█▌        | 3/20 [00:01<00:05,  3.21it/s]"
     ]
    },
    {
     "name": "stdout",
     "output_type": "stream",
     "text": [
      "Selected action 2 - breaking loop at iteration 106 - consecutive count: 15\n"
     ]
    },
    {
     "name": "stderr",
     "output_type": "stream",
     "text": [
      " 30%|███       | 6/20 [00:02<00:04,  3.07it/s]"
     ]
    },
    {
     "name": "stdout",
     "output_type": "stream",
     "text": [
      "Selected action 2 - breaking loop at iteration 130 - consecutive count: 15\n"
     ]
    },
    {
     "name": "stderr",
     "output_type": "stream",
     "text": [
      " 40%|████      | 8/20 [00:02<00:04,  2.89it/s]"
     ]
    },
    {
     "name": "stdout",
     "output_type": "stream",
     "text": [
      "Selected action 2 - breaking loop at iteration 167 - consecutive count: 15\n"
     ]
    },
    {
     "name": "stderr",
     "output_type": "stream",
     "text": [
      " 45%|████▌     | 9/20 [00:03<00:03,  3.08it/s]"
     ]
    },
    {
     "name": "stdout",
     "output_type": "stream",
     "text": [
      "Selected action 2 - breaking loop at iteration 138 - consecutive count: 15\n"
     ]
    },
    {
     "name": "stderr",
     "output_type": "stream",
     "text": [
      " 60%|██████    | 12/20 [00:04<00:02,  2.94it/s]"
     ]
    },
    {
     "name": "stdout",
     "output_type": "stream",
     "text": [
      "Selected action 2 - breaking loop at iteration 135 - consecutive count: 15\n"
     ]
    },
    {
     "name": "stderr",
     "output_type": "stream",
     "text": [
      " 65%|██████▌   | 13/20 [00:04<00:02,  3.11it/s]"
     ]
    },
    {
     "name": "stdout",
     "output_type": "stream",
     "text": [
      "Selected action 2 - breaking loop at iteration 141 - consecutive count: 15\n"
     ]
    },
    {
     "name": "stderr",
     "output_type": "stream",
     "text": [
      " 70%|███████   | 14/20 [00:04<00:01,  3.29it/s]"
     ]
    },
    {
     "name": "stdout",
     "output_type": "stream",
     "text": [
      "Selected action 2 - breaking loop at iteration 135 - consecutive count: 15\n"
     ]
    },
    {
     "name": "stderr",
     "output_type": "stream",
     "text": [
      " 75%|███████▌  | 15/20 [00:04<00:01,  3.52it/s]"
     ]
    },
    {
     "name": "stdout",
     "output_type": "stream",
     "text": [
      "Selected action 2 - breaking loop at iteration 121 - consecutive count: 15\n"
     ]
    },
    {
     "name": "stderr",
     "output_type": "stream",
     "text": [
      " 80%|████████  | 16/20 [00:05<00:01,  3.48it/s]"
     ]
    },
    {
     "name": "stdout",
     "output_type": "stream",
     "text": [
      "Selected action 2 - breaking loop at iteration 147 - consecutive count: 15\n"
     ]
    },
    {
     "name": "stderr",
     "output_type": "stream",
     "text": [
      " 85%|████████▌ | 17/20 [00:05<00:00,  3.77it/s]"
     ]
    },
    {
     "name": "stdout",
     "output_type": "stream",
     "text": [
      "Selected action 2 - breaking loop at iteration 111 - consecutive count: 15\n"
     ]
    },
    {
     "name": "stderr",
     "output_type": "stream",
     "text": [
      " 90%|█████████ | 18/20 [00:05<00:00,  3.95it/s]"
     ]
    },
    {
     "name": "stdout",
     "output_type": "stream",
     "text": [
      "Selected action 2 - breaking loop at iteration 110 - consecutive count: 15\n"
     ]
    },
    {
     "name": "stderr",
     "output_type": "stream",
     "text": [
      " 95%|█████████▌| 19/20 [00:05<00:00,  3.75it/s]"
     ]
    },
    {
     "name": "stdout",
     "output_type": "stream",
     "text": [
      "Selected action 2 - breaking loop at iteration 150 - consecutive count: 15\n"
     ]
    },
    {
     "name": "stderr",
     "output_type": "stream",
     "text": [
      "100%|██████████| 20/20 [00:06<00:00,  3.23it/s]"
     ]
    },
    {
     "name": "stdout",
     "output_type": "stream",
     "text": [
      "Selected action 2 - breaking loop at iteration 113 - consecutive count: 15\n"
     ]
    },
    {
     "name": "stderr",
     "output_type": "stream",
     "text": [
      "\n"
     ]
    },
    {
     "data": {
      "image/png": "[encoded data removed]",
      "text/plain": [
       "<Figure size 432x288 with 1 Axes>"
      ]
     },
     "metadata": {
      "needs_background": "light"
     },
     "output_type": "display_data"
    },
    {
     "data": {
      "image/png": "[encoded data removed]",
      "text/plain": [
       "<Figure size 432x288 with 1 Axes>"
      ]
     },
     "metadata": {
      "needs_background": "light"
     },
     "output_type": "display_data"
    },
    {
     "data": {
      "image/png": "[encoded data removed]",
      "text/plain": [
       "<Figure size 432x288 with 1 Axes>"
      ]
     },
     "metadata": {
      "needs_background": "light"
     },
     "output_type": "display_data"
    },
    {
     "data": {
      "image/png": "[encoded data removed]",
      "text/plain": [
       "<Figure size 432x288 with 1 Axes>"
      ]
     },
     "metadata": {
      "needs_background": "light"
     },
     "output_type": "display_data"
    }
   ],
   "source": [
    "plot_mean_q_values(adjust_rewards_surrogate)"
   ]
  },
  {
   "cell_type": "markdown",
   "metadata": {},
   "source": [
    "# Custom simplified surrogate rewards"
   ]
  },
  {
   "cell_type": "code",
   "execution_count": null,
   "metadata": {},
   "outputs": [
    {
     "name": "stdout",
     "output_type": "stream",
     "text": [
      "Selected action 2 - breaking loop at iteration 93 - consecutive count: 15\n",
      "[[0.88888889 0.11111111]\n",
      " [0.18518519 0.81481481]]\n"
     ]
    }
   ],
   "source": [
    "#TODO\n",
    "# maybe simply removing the epsilon/w/learning rate\n",
    "# from the original code will give the same simplified result, as described\n",
    "# in the refernce paper\n",
    "\n",
    "class SimplePostProcessor(PostProcessor):\n",
    "    \"\"\"\n",
    "    Learning from surrogate reward\n",
    "    following paper \"Learning from noisy labels\"\n",
    "    \"\"\"\n",
    "    def __init__(self, smooth=False, surrogate=True,reverse=False, epsilon=1e-6):\n",
    "        self.surrogate = surrogate\n",
    "        self.smooth = smooth\n",
    "        self.r_sets = {}\n",
    "        self.r_smooth = {}\n",
    "        self.r1 = -1\n",
    "        self.r2 = 0\n",
    "        self.counter = 0\n",
    "        self.C = np.identity(2)\n",
    "        self.epsilon = epsilon\n",
    "        self.reverse = reverse\n",
    "\n",
    "    # def process_reward(self, reward):\n",
    "    #     self.estimate_C()\n",
    "    #     self.e_ = self.C[0, 1]\n",
    "    #     self.e = self.C[1, 0]\n",
    "\n",
    "    #     if self.surrogate:\n",
    "    #         if np.abs(reward - self.r1) < self.epsilon:\n",
    "    #             reward = ((1 - self.e) * self.r1 - self.e_ * self.r2) / (1 - self.e_ - self.e)\n",
    "    #         else:\n",
    "    #             reward = ((1 - self.e_) * self.r2 - self.e * self.r1) / (1 - self.e_ - self.e)\n",
    "\n",
    "    #     return reward        \n",
    "        \n",
    "    def estimate_C(self):\n",
    "        # TODO: decide on these\n",
    "        min_occurances = 10\n",
    "        min_count1 = 20\n",
    "        if self.counter >= min_occurances and self.counter % min_occurances == 0:\n",
    "            # Start estimating probabilities of error\n",
    "            e_ = 0; e = 0\n",
    "            # a = 0; b = 0\n",
    "            # prob = 0\n",
    "\n",
    "            self.count1 = 0\n",
    "            self.count2 = 0\n",
    "            for k in self.r_sets.keys():\n",
    "                freq_count = collections.Counter(self.r_sets[k])\n",
    "                # NOTE: \n",
    "                # we don't have this case where e > 0.5\n",
    "                # if self.reverse:\n",
    "                #     truth, count = freq_count.most_common()[-1]\n",
    "                # else: truth, count = freq_count.most_common()[0]\n",
    "\n",
    "                # truth = most commone reward for this (s, a)\n",
    "                truth, count = freq_count.most_common()[0]\n",
    "\n",
    "                if truth == self.r1:\n",
    "                    # Count all the times we visited (s, a) as having\n",
    "                    # the \"true\" reward\n",
    "                    # i.e. the \"true\" count of r1\n",
    "                    self.count1 += len(self.r_sets[k])\n",
    "                else:\n",
    "                    self.count2 += len(self.r_sets[k])\n",
    "\n",
    "            for k in self.r_sets.keys():\n",
    "                freq_count = collections.Counter(self.r_sets[k])\n",
    "                # if self.e_ > 0.05:\n",
    "                #    self.reverse = True\n",
    "                #    self.counter = 0; self.r_sets = {}\n",
    "                #    break\n",
    "\n",
    "                # if self.reverse:\n",
    "                #     truth, count = freq_count.most_common()[-1]\n",
    "                # else:\n",
    "                #     truth, count = freq_count.most_common()[0]\n",
    "                truth, count = freq_count.most_common()[0]\n",
    "\n",
    "                prob_correct = float(count) / len(self.r_sets[k])\n",
    "                if truth == self.r1:\n",
    "                    if self.count1 > min_count1:\n",
    "                        prob_k = float(len(self.r_sets[k])) / self.count1\n",
    "                        e_ += prob_k * (1 - prob_correct)\n",
    "                    else: e_ = 0.0\n",
    "                    # a += 2 * prob_k * prob_correct\n",
    "                else:\n",
    "                    prob_k = float(len(self.r_sets[k])) / self.count2\n",
    "                    e += prob_k * (1 - prob_correct)\n",
    "                    # b += 2 * prob_k * prob_correct\n",
    "\n",
    "            # print prob\n",
    "            # log_string(str(e_) + \" \" + str(e))\n",
    "            self.C = np.array([[1-e_, e_], [e, 1-e]])\n",
    "\n",
    "            # if self.counter >= 10000:\n",
    "            #     self.counter = 0\n",
    "            #    self.r_sets = {}\n",
    "\n",
    "            # print self.C\n",
    "\n",
    "    def collect(self, state, action, reward):\n",
    "        if (state, action) in self.r_sets:\n",
    "            self.r_sets[(state, action)].append(reward)\n",
    "        else:\n",
    "            self.r_sets[(state, action)] = [reward]\n",
    "        self.counter += 1            \n",
    "\n",
    "post_processor = SimplePostProcessor(smooth=True, surrogate=True)\n",
    "\n",
    "def adjust_rewards_surrogate_simple(reward, state, action):    \n",
    "    reward = pre_processor.process_reward(reward)\n",
    "    post_processor.collect(state, action, reward)\n",
    "    reward = post_processor.process_reward(reward)\n",
    "    reward = post_processor.smooth_reward(state, action, reward)\n",
    "    return reward\n",
    "\n",
    "runner(adjust_rewards_surrogate_simple)\n",
    "\n",
    "print(post_processor.C)"
   ]
  },
  {
   "cell_type": "code",
   "execution_count": null,
   "metadata": {},
   "outputs": [],
   "source": [
    "# qs, rewards = runner(adjust_rewards_surrogate_simple)\n",
    "# rewards_all_experiments.append(rewards)"
   ]
  },
  {
   "cell_type": "code",
   "execution_count": null,
   "metadata": {},
   "outputs": [
    {
     "name": "stderr",
     "output_type": "stream",
     "text": [
      " 15%|█▌        | 3/20 [00:00<00:03,  5.10it/s]"
     ]
    },
    {
     "name": "stdout",
     "output_type": "stream",
     "text": [
      "Selected action 2 - breaking loop at iteration 88 - consecutive count: 15\n",
      "Selected action 2 - breaking loop at iteration 52 - consecutive count: 15\n"
     ]
    },
    {
     "name": "stderr",
     "output_type": "stream",
     "text": [
      " 35%|███▌      | 7/20 [00:01<00:03,  3.91it/s]"
     ]
    },
    {
     "name": "stdout",
     "output_type": "stream",
     "text": [
      "Selected action 2 - breaking loop at iteration 157 - consecutive count: 15\n",
      "Selected action 2 - breaking loop at iteration 58 - consecutive count: 15\n"
     ]
    },
    {
     "name": "stderr",
     "output_type": "stream",
     "text": [
      " 45%|████▌     | 9/20 [00:02<00:02,  4.93it/s]"
     ]
    },
    {
     "name": "stdout",
     "output_type": "stream",
     "text": [
      "Selected action 2 - breaking loop at iteration 79 - consecutive count: 15\n",
      "Selected action 2 - breaking loop at iteration 78 - consecutive count: 15\n"
     ]
    },
    {
     "name": "stderr",
     "output_type": "stream",
     "text": [
      " 55%|█████▌    | 11/20 [00:02<00:01,  5.07it/s]"
     ]
    },
    {
     "name": "stdout",
     "output_type": "stream",
     "text": [
      "Selected action 2 - breaking loop at iteration 93 - consecutive count: 15\n",
      "Selected action 2 - breaking loop at iteration 99 - consecutive count: 15\n"
     ]
    },
    {
     "name": "stderr",
     "output_type": "stream",
     "text": [
      " 65%|██████▌   | 13/20 [00:02<00:01,  5.67it/s]"
     ]
    },
    {
     "name": "stdout",
     "output_type": "stream",
     "text": [
      "Selected action 2 - breaking loop at iteration 79 - consecutive count: 15\n",
      "Selected action 2 - breaking loop at iteration 76 - consecutive count: 15\n"
     ]
    },
    {
     "name": "stderr",
     "output_type": "stream",
     "text": [
      " 75%|███████▌  | 15/20 [00:03<00:00,  5.93it/s]"
     ]
    },
    {
     "name": "stdout",
     "output_type": "stream",
     "text": [
      "Selected action 2 - breaking loop at iteration 89 - consecutive count: 15\n",
      "Selected action 2 - breaking loop at iteration 74 - consecutive count: 15\n"
     ]
    },
    {
     "name": "stderr",
     "output_type": "stream",
     "text": [
      " 85%|████████▌ | 17/20 [00:03<00:00,  6.20it/s]"
     ]
    },
    {
     "name": "stdout",
     "output_type": "stream",
     "text": [
      "Selected action 2 - breaking loop at iteration 79 - consecutive count: 15\n",
      "Selected action 2 - breaking loop at iteration 77 - consecutive count: 15\n"
     ]
    },
    {
     "name": "stderr",
     "output_type": "stream",
     "text": [
      " 95%|█████████▌| 19/20 [00:03<00:00,  6.17it/s]"
     ]
    },
    {
     "name": "stdout",
     "output_type": "stream",
     "text": [
      "Selected action 2 - breaking loop at iteration 96 - consecutive count: 15\n",
      "Selected action 2 - breaking loop at iteration 69 - consecutive count: 15\n"
     ]
    },
    {
     "name": "stderr",
     "output_type": "stream",
     "text": [
      "100%|██████████| 20/20 [00:04<00:00,  4.61it/s]\n"
     ]
    },
    {
     "data": {
      "image/png": "[encoded data removed]",
      "text/plain": [
       "<Figure size 432x288 with 1 Axes>"
      ]
     },
     "metadata": {
      "needs_background": "light"
     },
     "output_type": "display_data"
    },
    {
     "data": {
      "image/png": "[encoded data removed]",
      "text/plain": [
       "<Figure size 432x288 with 1 Axes>"
      ]
     },
     "metadata": {
      "needs_background": "light"
     },
     "output_type": "display_data"
    },
    {
     "data": {
      "image/png": "[encoded data removed]",
      "text/plain": [
       "<Figure size 432x288 with 1 Axes>"
      ]
     },
     "metadata": {
      "needs_background": "light"
     },
     "output_type": "display_data"
    },
    {
     "data": {
      "image/png": "[encoded data removed]",
      "text/plain": [
       "<Figure size 432x288 with 1 Axes>"
      ]
     },
     "metadata": {
      "needs_background": "light"
     },
     "output_type": "display_data"
    }
   ],
   "source": [
    "plot_mean_q_values(adjust_rewards_surrogate_simple)"
   ]
  },
  {
   "cell_type": "markdown",
   "metadata": {},
   "source": [
    "# Q-value of \"true\" level compared accross different reward techniques"
   ]
  },
  {
   "cell_type": "code",
   "execution_count": null,
   "metadata": {},
   "outputs": [
    {
     "data": {
      "text/plain": [
       "<matplotlib.axes._subplots.AxesSubplot at 0x168a73c70>"
      ]
     },
     "execution_count": 308,
     "metadata": {},
     "output_type": "execute_result"
    },
    {
     "data": {
      "image/png": "[encoded data removed]",
      "text/plain": [
       "<Figure size 432x288 with 1 Axes>"
      ]
     },
     "metadata": {
      "needs_background": "light"
     },
     "output_type": "display_data"
    }
   ],
   "source": [
    "pd.DataFrame(rewards_all_experiments).T.plot()"
   ]
  },
  {
   "cell_type": "code",
   "execution_count": null,
   "metadata": {},
   "outputs": [
    {
     "data": {
      "text/plain": [
       "<matplotlib.axes._subplots.AxesSubplot at 0x168f88190>"
      ]
     },
     "execution_count": 309,
     "metadata": {},
     "output_type": "execute_result"
    },
    {
     "data": {
      "image/png": "[encoded data removed]",
      "text/plain": [
       "<Figure size 432x288 with 1 Axes>"
      ]
     },
     "metadata": {
      "needs_background": "light"
     },
     "output_type": "display_data"
    }
   ],
   "source": [
    "pd.DataFrame([\n",
    "    pd.DataFrame(all_chart_values[0])[2],\n",
    "    pd.DataFrame(all_chart_values[1])[2],\n",
    "    pd.DataFrame(all_chart_values[2])[2],\n",
    "    pd.DataFrame(all_chart_values[3])[2],\n",
    "    ]).T.plot()"
   ]
  },
  {
   "cell_type": "code",
   "execution_count": null,
   "metadata": {},
   "outputs": [
    {
     "data": {
      "text/plain": [
       "[<matplotlib.lines.Line2D at 0x1694435b0>,\n",
       " <matplotlib.lines.Line2D at 0x169443640>,\n",
       " <matplotlib.lines.Line2D at 0x169443730>,\n",
       " <matplotlib.lines.Line2D at 0x1694437f0>,\n",
       " <matplotlib.lines.Line2D at 0x1694438b0>,\n",
       " <matplotlib.lines.Line2D at 0x169443970>,\n",
       " <matplotlib.lines.Line2D at 0x169443a30>]"
      ]
     },
     "execution_count": 310,
     "metadata": {},
     "output_type": "execute_result"
    },
    {
     "data": {
      "image/png": "[encoded data removed]",
      "text/plain": [
       "<Figure size 288x1008 with 4 Axes>"
      ]
     },
     "metadata": {
      "needs_background": "light"
     },
     "output_type": "display_data"
    }
   ],
   "source": [
    "fig = plt.gcf()\n",
    "fig.set_size_inches(4, 14)\n",
    "plt.subplot(4, 1, 1)\n",
    "plt.plot(all_chart_values[0])\n",
    "plt.subplot(4, 1, 2)\n",
    "plt.plot(all_chart_values[1])\n",
    "plt.subplot(4, 1, 3)\n",
    "plt.plot(all_chart_values[2])\n",
    "plt.subplot(4, 1, 4)\n",
    "plt.plot(all_chart_values[3])\n"
   ]
  },
  {
   "cell_type": "markdown",
   "metadata": {},
   "source": [
    "# Epsilon test"
   ]
  },
  {
   "cell_type": "code",
   "execution_count": null,
   "metadata": {},
   "outputs": [
    {
     "data": {
      "text/plain": [
       "[<matplotlib.lines.Line2D at 0x1694df850>]"
      ]
     },
     "execution_count": 311,
     "metadata": {},
     "output_type": "execute_result"
    },
    {
     "data": {
      "image/png": "[encoded data removed]",
      "text/plain": [
       "<Figure size 432x288 with 1 Axes>"
      ]
     },
     "metadata": {
      "needs_background": "light"
     },
     "output_type": "display_data"
    }
   ],
   "source": [
    "agent = UCBQAgent(num_states=num_states, num_actions=num_states)\n",
    "epsilons = []\n",
    "for t in range(200):\n",
    "    if agent.epsilon > agent.epsilon_min:\n",
    "        epsilons.append(agent.epsilon)\n",
    "        agent.epsilon -= agent.epsilon_decay(t)\n",
    "\n",
    "plt.plot(epsilons)"
   ]
  }
 ],
 "metadata": {
  "kernelspec": {
   "display_name": "base",
   "language": "python",
   "name": "python3"
  },
  "language_info": {
   "codemirror_mode": {
    "name": "ipython",
    "version": 3
   },
   "file_extension": ".py",
   "mimetype": "text/x-python",
   "name": "python",
   "nbconvert_exporter": "python",
   "pygments_lexer": "ipython3",
   "version": "3.9.7"
  },
  "orig_nbformat": 4
 },
 "nbformat": 4,
 "nbformat_minor": 2
}
