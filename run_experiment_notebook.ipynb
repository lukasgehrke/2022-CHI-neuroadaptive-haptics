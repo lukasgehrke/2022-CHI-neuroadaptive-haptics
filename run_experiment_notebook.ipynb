{
 "cells": [
  {
   "cell_type": "markdown",
   "metadata": {},
   "source": [
    "# TODO\n",
    " - grid search for parameters\n",
    " - figure out parameters in surrogate rewards\n",
    " - make rewards non binary in environment and surrogate rewards\n",
    " ~~- add deceay from papers, log and other~~\n",
    " - initiate q-table at `-1`?\n",
    " - run experiment with different `correct_action`\n",
    " - should we be setting up the glove for `very distinguishable` levels? Shouldn't we set it up with `barely distinguishable` levels, as this is where the perturbed rewards come on - they'd help us get through the noise and find the correct level."
   ]
  },
  {
   "cell_type": "markdown",
   "metadata": {},
   "source": [
    "# Notes"
   ]
  },
  {
   "cell_type": "code",
   "execution_count": 1,
   "metadata": {},
   "outputs": [],
   "source": [
    "# Run the script with\n",
    "# `python run_experiment.py -t 1`\n",
    "# This will run a simulation trial, with a total length of 1 seconds.\n",
    "# Participant answere will be given every 0.001 to 0.002 seconds.\n",
    "# The participant \"ture\" level of feedback is 2.\n",
    "\n",
    "# The script will output:\n",
    "# - A list of actions taken, in the format: \n",
    "# `elapsed_time > action_taken -> reward_received`\n",
    "# - The Q-table at the end of the trial,\n",
    "# with rows representing states and columns representing acions\n",
    "# - The total count of given actions taken in a given state, \n",
    "# with rows representing states and columns representing acions\n",
    "# - Total timesteps (actions) taken\n",
    "# - Total reward obtained\n",
    "\n",
    "# The agent is rewrded `-1` for guessing the wrong feedback level (not 2),\n",
    "# and `0` for guessing correctly\n",
    "\n",
    "# parser = argparse.ArgumentParser()\n",
    "# parser.add_argument(\"-t\", \"--TimeOut\", help = \"Stop script after n seconds\")\n",
    "# args = parser.parse_args()"
   ]
  },
  {
   "cell_type": "markdown",
   "metadata": {},
   "source": [
    "# Scripts"
   ]
  },
  {
   "cell_type": "code",
   "execution_count": 2,
   "metadata": {},
   "outputs": [],
   "source": [
    "# import surrogate_rewards "
   ]
  },
  {
   "cell_type": "code",
   "execution_count": 3,
   "metadata": {},
   "outputs": [],
   "source": [
    "import numpy as np\n",
    "import collections\n",
    "\n",
    "# TODO:\n",
    "# how do we set these?\n",
    "ERR_P = 0.2\n",
    "ERR_N = 0.4\n",
    "\n",
    "# C = [\n",
    "#     [0.6, 0.4],\n",
    "#     [0.2, 0.8]\n",
    "# ]\n",
    "\n",
    "class PreProcessor:\n",
    "    \"Add noise to reward\"\n",
    "    def __init__(self, e_=0.1, e=0.3, normal=True, epsilon=1e-6):\n",
    "        assert (np.abs(e_ + e - 1) > epsilon)\n",
    "        self.normal = normal\n",
    "        self.e_ = e_\n",
    "        self.e = e\n",
    "        self.epsilon = 1e-6\n",
    "        # These are the noisy returns that are returned\n",
    "        self.r1 = -1\n",
    "        self.r2 = 0\n",
    "\n",
    "    def noisy_reward(self, reward):\n",
    "        n = np.random.random()\n",
    "        # If we hit a negative reward, conver it to a poisitive\n",
    "        # with a given prob. \n",
    "        # Not sure why the `< epsilone is here`\n",
    "        # if np.abs(reward - self.r1) < self.epsilon:\n",
    "        if reward == self.r1:\n",
    "            if (n < self.e_):\n",
    "                return self.r2\n",
    "        else:\n",
    "            if (n < self.e):\n",
    "                return self.r1\n",
    "        return reward\n",
    "\n",
    "    def process_reward(self, reward):\n",
    "        if self.normal:\n",
    "            return reward\n",
    "\n",
    "        r = self.noisy_reward(reward)\n",
    "        return r\n",
    "    \n",
    "pre_processor = PreProcessor(normal=False, e_=ERR_N, e=ERR_P)\n",
    "\n",
    "class PostProcessor:\n",
    "    \"\"\"\n",
    "    Learning from surrogate reward\n",
    "    following paper \"Learning from noisy labels\"\n",
    "    \"\"\"\n",
    "    def __init__(self, smooth=False, surrogate=True,reverse=False, epsilon=1e-6):\n",
    "        self.surrogate = surrogate\n",
    "        self.smooth = smooth\n",
    "        self.r_sets = {}\n",
    "        self.r_smooth = {}\n",
    "        self.r1 = -1\n",
    "        self.r2 = 0\n",
    "        self.counter = 0\n",
    "        self.C = np.identity(2)\n",
    "        self.epsilon = epsilon\n",
    "        self.reverse = reverse\n",
    "\n",
    "    def process_reward(self, reward):\n",
    "        self.estimate_C()\n",
    "        self.e_ = self.C[0, 1]\n",
    "        self.e = self.C[1, 0]\n",
    "\n",
    "        if self.surrogate:\n",
    "            if np.abs(reward - self.r1) < self.epsilon:\n",
    "                reward = ((1 - self.e) * self.r1 - self.e_ * self.r2) / (1 - self.e_ - self.e)\n",
    "            else:\n",
    "                reward = ((1 - self.e_) * self.r2 - self.e * self.r1) / (1 - self.e_ - self.e)\n",
    "\n",
    "        return reward\n",
    "\n",
    "    def estimate_C(self):\n",
    "        if self.counter >= 100 and self.counter % 100 == 0:\n",
    "            e_ = 0; e = 0\n",
    "            # a = 0; b = 0\n",
    "            # prob = 0\n",
    "\n",
    "            self.count1 = 0\n",
    "            self.count2 = 0\n",
    "            for k in self.r_sets.keys():\n",
    "                freq_count = collections.Counter(self.r_sets[k])\n",
    "                if self.reverse:\n",
    "                    truth, count = freq_count.most_common()[-1]\n",
    "                else: truth, count = freq_count.most_common()[0]\n",
    "                if truth == self.r1:\n",
    "                    self.count1 += len(self.r_sets[k])\n",
    "                else:\n",
    "                    self.count2 += len(self.r_sets[k])\n",
    "\n",
    "            for k in self.r_sets.keys():\n",
    "                freq_count = collections.Counter(self.r_sets[k])\n",
    "                # if self.e_ > 0.05:\n",
    "                #    self.reverse = True\n",
    "                #    self.counter = 0; self.r_sets = {}\n",
    "                #    break\n",
    "\n",
    "                if self.reverse:\n",
    "                    truth, count = freq_count.most_common()[-1]\n",
    "                else:\n",
    "                    truth, count = freq_count.most_common()[0]\n",
    "                prob_correct = float(count) / len(self.r_sets[k])\n",
    "                if truth == self.r1:\n",
    "                    if self.count1 > 2000:\n",
    "                        prob_k = float(len(self.r_sets[k])) / self.count1\n",
    "                        e_ += prob_k * (1 - prob_correct)\n",
    "                    else: e_ = 0.0\n",
    "                    # a += 2 * prob_k * prob_correct\n",
    "                else:\n",
    "                    prob_k = float(len(self.r_sets[k])) / self.count2\n",
    "                    e += prob_k * (1 - prob_correct)\n",
    "                    # b += 2 * prob_k * prob_correct\n",
    "\n",
    "            # print prob\n",
    "            # log_string(str(e_) + \" \" + str(e))\n",
    "            self.C = np.array([[1-e_, e_], [e, 1-e]])\n",
    "\n",
    "            # if self.counter >= 10000:\n",
    "            #     self.counter = 0\n",
    "            #    self.r_sets = {}\n",
    "\n",
    "            # print self.C\n",
    "\n",
    "    def smooth_reward(self, state, action, reward):\n",
    "        if self.smooth:\n",
    "            if (state, action) in self.r_smooth:\n",
    "                if len(self.r_smooth[(state, action)]) >= 100:\n",
    "                    self.r_smooth[(state, action)].pop(0)\n",
    "                    self.r_smooth[(state, action)].append(reward)\n",
    "                    return sum(self.r_smooth[(state, action)]) / float(len(self.r_smooth[(state, action)]))\n",
    "                else:\n",
    "                    self.r_smooth[(state, action)].append(reward)\n",
    "            else:\n",
    "                self.r_smooth[(state, action)] = [reward]\n",
    "\n",
    "        return reward\n",
    "\n",
    "    def collect(self, state, action, reward):\n",
    "        if (state, action) in self.r_sets:\n",
    "            self.r_sets[(state, action)].append(reward)\n",
    "        else:\n",
    "            self.r_sets[(state, action)] = [reward]\n",
    "        self.counter += 1\n",
    "\n",
    "#TODO:\n",
    "# Not sure if we need smoothing\n",
    "# post_processor = PostProcessor(smooth=True, surrogate=True)"
   ]
  },
  {
   "cell_type": "code",
   "execution_count": 4,
   "metadata": {},
   "outputs": [],
   "source": [
    "import argparse\n",
    "from ucbq_agent import UCBQAgent\n",
    "from ucbq_environment import ModifiedRandomEnvironment\n",
    "import time\n",
    "import numpy as np"
   ]
  },
  {
   "cell_type": "code",
   "execution_count": 5,
   "metadata": {},
   "outputs": [],
   "source": [
    "all_chart_values = []"
   ]
  },
  {
   "cell_type": "markdown",
   "metadata": {},
   "source": [
    "# Params"
   ]
  },
  {
   "cell_type": "code",
   "execution_count": 6,
   "metadata": {},
   "outputs": [],
   "source": [
    "max_steps = 1\n",
    "num_episodes = 1"
   ]
  },
  {
   "cell_type": "code",
   "execution_count": 7,
   "metadata": {},
   "outputs": [],
   "source": [
    "timeOut = None\n",
    "num_states = 7\n",
    "start_state = 1"
   ]
  },
  {
   "cell_type": "markdown",
   "metadata": {},
   "source": [
    "# Scripts"
   ]
  },
  {
   "cell_type": "code",
   "execution_count": 8,
   "metadata": {},
   "outputs": [],
   "source": [
    "def print_agent_stats(agent):\n",
    "    print(f'Q-table:')\n",
    "    print(f'{np.around(agent.Q, decimals=4)}')\n",
    "    print(f'Number of times action was taken:')\n",
    "    print(f'{agent.N}')\n",
    "    print(f'Total timesteps: {sum(sum(agent.N)) - 100}')\n",
    "    # print(f'Episode rewards: {episode_rewards}')"
   ]
  },
  {
   "cell_type": "code",
   "execution_count": 9,
   "metadata": {},
   "outputs": [],
   "source": [
    "import matplotlib.pyplot as plt"
   ]
  },
  {
   "cell_type": "code",
   "execution_count": 10,
   "metadata": {},
   "outputs": [],
   "source": [
    "from tqdm import tqdm "
   ]
  },
  {
   "cell_type": "code",
   "execution_count": 11,
   "metadata": {},
   "outputs": [],
   "source": [
    "def runner(adjust_rewards=None, \n",
    "           agent=None,\n",
    "           env=None):\n",
    "\n",
    "    agent = agent if agent else UCBQAgent(num_states=num_states, num_actions=num_states)\n",
    "    env = env if env else ModifiedRandomEnvironment(correct_action=6, num_states=num_states)\n",
    "    start_time = time.time()\n",
    "    t = 0\n",
    "    episode_rewards = 0\n",
    "    q_values_for_chart = []\n",
    "    rewards = []\n",
    "    state = start_state\n",
    "    same_action = None\n",
    "\n",
    "    while True:\n",
    "        elapsed_time = time.time() - start_time\n",
    "\n",
    "        # Auto shut down scipt \n",
    "        if bool(timeOut) and (elapsed_time > float(timeOut)):\n",
    "            break\n",
    "\n",
    "        if t >= max_steps:\n",
    "            break\n",
    "\n",
    "        action = agent.choose_action(state) \n",
    "        # TODO: \n",
    "        # send_action_to_stream\n",
    "        reward, next_state = env.step(action)\n",
    "        \n",
    "        rewards.append(reward)\n",
    "\n",
    "        if adjust_rewards:\n",
    "            reward = adjust_rewards(reward, state, action)\n",
    "        \n",
    "        # print(f\"{round(elapsed_time, 2)} > {action} -> {reward}\")\n",
    "        \n",
    "        agent.learn(state, action, reward, next_state)\n",
    "        state = next_state\n",
    "\n",
    "        episode_rewards += reward\n",
    "\n",
    "        t += 1\n",
    "\n",
    "        # if agent.epsilon > agent.epsilon_min:\n",
    "        #     agent.epsilon *= 0.5\n",
    "\n",
    "        # if agent.alpha > agent.alpha_min:\n",
    "        #     agent.alpha *= 0.8\n",
    "\n",
    "\n",
    "        if agent.epsilon > agent.epsilon_min:\n",
    "            agent.epsilon *= 0.5\n",
    "\n",
    "\n",
    "        # if agent.epsilon > agent.epsilon_min:\n",
    "        #     agent.epsilon -= agent.epsilon_decay(t)\n",
    "\n",
    "        # if agent.alpha > agent.alpha_min:\n",
    "        #     agent.alpha -= agent.alpha_decay(t)\n",
    "\n",
    "        if t % 10 == 0:\n",
    "            sum_q_values_across_states = np.around(np.sum(agent.Q, axis=0), decimals=4)\n",
    "            q_values_for_chart.append(sum_q_values_across_states)\n",
    "            # print(agent.alpha, agent.epsilon)\n",
    "\n",
    "        #TODO: this should be part of the environment\n",
    "        #action picked\n",
    "        consecutive_limit = 15\n",
    "        if t > 35:\n",
    "            if action == same_action:\n",
    "                consecutive_count += 1\n",
    "                if consecutive_count >= consecutive_limit:\n",
    "                    # tqdm.write(f\"Selected action {action} - breaking loop at iteration {t} - consecutive count: {consecutive_count}\")\n",
    "                    break\n",
    "            else:\n",
    "                same_action = action\n",
    "                consecutive_count = 1\n",
    "\n",
    "    # # plt.plot(q_values_for_chart)\n",
    "    # fig = plt.gcf()\n",
    "    # fig.set_size_inches(18, 4)\n",
    "    # plt.plot(rewards)\n",
    "\n",
    "    all_chart_values.append(q_values_for_chart)\n",
    "    \n",
    "    episode_length = t + 1\n",
    "    selected_action = action \n",
    "    \n",
    "    if t >= max_steps:\n",
    "        sum_q_values_across_states = np.around(np.sum(agent.Q, axis=0), decimals=4)\n",
    "        selected_action = np.argmax(sum_q_values_across_states)\n",
    "\n",
    "\n",
    "    return q_values_for_chart, rewards, episode_length, selected_action\n",
    "\n",
    "a = runner()"
   ]
  },
  {
   "cell_type": "code",
   "execution_count": 12,
   "metadata": {},
   "outputs": [],
   "source": [
    "import pandas as pd"
   ]
  },
  {
   "cell_type": "code",
   "execution_count": 13,
   "metadata": {},
   "outputs": [],
   "source": [
    "def get_mean_across_episodes(arr):\n",
    "    min_cols = np.amin([len(row) for row in arr])\n",
    "    truncated_arr = [ x[:min_cols] for x in arr ]\n",
    "    res = np.array(truncated_arr)\n",
    "    mean = res.mean(axis=0)\n",
    "\n",
    "    return mean"
   ]
  },
  {
   "cell_type": "code",
   "execution_count": 14,
   "metadata": {},
   "outputs": [],
   "source": [
    "def default_params():\n",
    "    \"\"\" These are the default parameters used int eh framework. \"\"\"\n",
    "    return {\n",
    "            # # Runner parameters\n",
    "            # 'max_episodes': int(1E6),         # experiment stops after this many episodes\n",
    "            # 'max_steps': int(1E9),            # experiment stops after this many steps\n",
    "            # 'multi_runner': False,            # uses multiple runners if True\n",
    "            # # Exploration parameters\n",
    "            # 'epsilon_anneal_time': int(5E3),  # exploration anneals epsilon over these many steps\n",
    "            # 'epsilon_finish': 0.1,            # annealing stops at (and keeps) this epsilon\n",
    "            # 'epsilon_start': 1,               # annealing starts at this epsilon\n",
    "            'epsilon': 1,               # annealing starts at this epsilon            \n",
    "            # Optimization parameters\n",
    "            'alpha': 0.5,                       # learning rate of optimizer\n",
    "            # 'gamma': 0.99,                    # discount factor gamma\n",
    "           }"
   ]
  },
  {
   "cell_type": "code",
   "execution_count": 15,
   "metadata": {},
   "outputs": [],
   "source": [
    "def get_cumsum_rewards(rewards):\n",
    "    cumulative_sum_rewards = np.cumsum(rewards)\n",
    "    time_steps = np.arange(1, len(rewards) + 1)\n",
    "    mean_rewards = cumulative_sum_rewards / time_steps\n",
    "    return mean_rewards\n",
    "\n",
    "def qLearningExperiment(difference_fn=None, params=default_params()):\n",
    "    q_values_all_experiments = []\n",
    "    rewards_all_experiments = []\n",
    "    episode_lengths = []\n",
    "    selected_actions = []\n",
    "\n",
    "    correct_action = 6\n",
    "\n",
    "    for i in tqdm(range(num_episodes)):\n",
    "        agent = UCBQAgent(num_states=num_states, num_actions=num_states, params=params)\n",
    "        env = ModifiedRandomEnvironment(correct_action=correct_action, num_states=num_states)\n",
    "        q_values_for_chart, rewards, episode_length, selected_action = runner(difference_fn, env=env, agent=agent)\n",
    "        rewards_all_experiments.append(rewards)\n",
    "        q_values_all_experiments.append(q_values_for_chart)\n",
    "        episode_lengths.append(episode_length)\n",
    "        selected_actions.append(selected_action)\n",
    "\n",
    "    count = selected_actions.count(correct_action)\n",
    "    accuracy = (count / len(selected_actions)) * 100\n",
    "    \n",
    "    return q_values_all_experiments, rewards_all_experiments, episode_lengths, selected_actions, accuracy\n",
    "\n",
    "\n",
    "def plot_mean_q_values(difference_fn=None):\n",
    "    q_values_all_experiments, rewards_all_experiments, episode_lengths, selected_actions, accuracy = qLearningExperiment(difference_fn)\n",
    "\n",
    "    all_mean_rewards = [ get_cumsum_rewards(rewards) for rewards in rewards_all_experiments ]\n",
    "\n",
    "    all_mean_rewards = pd.DataFrame(all_mean_rewards) # rewards have different lengths\n",
    "    # because they terminate earlier sometimes\n",
    "    mean_matrix = np.mean(all_mean_rewards, axis=0)\n",
    "    mean_dataframe = pd.DataFrame(mean_matrix)\n",
    "    mean_dataframe.plot()\n",
    "\n",
    "    mean_matrix = get_mean_across_episodes(q_values_all_experiments)\n",
    "    mean_dataframe = pd.DataFrame(mean_matrix)\n",
    "\n",
    "    mean_dataframe.plot()\n",
    "\n",
    "    pd.DataFrame(episode_lengths).plot()\n",
    "    print(f'Mean episode length: {np.mean(episode_lengths)}') \n",
    "    pd.DataFrame(selected_actions).plot()\n",
    "\n",
    "    print(f'Accuracy: {accuracy}')\n"
   ]
  },
  {
   "cell_type": "markdown",
   "metadata": {},
   "source": [
    "# Real rewards UCB Q-learning"
   ]
  },
  {
   "cell_type": "code",
   "execution_count": 16,
   "metadata": {},
   "outputs": [],
   "source": [
    "rewards_all_experiments = []\n",
    "\n",
    "qs, rewards, _, _ = runner()\n",
    "rewards_all_experiments.append(rewards)"
   ]
  },
  {
   "cell_type": "code",
   "execution_count": 17,
   "metadata": {},
   "outputs": [
    {
     "name": "stderr",
     "output_type": "stream",
     "text": [
      "  0%|          | 0/1 [00:00<?, ?it/s]"
     ]
    },
    {
     "name": "stderr",
     "output_type": "stream",
     "text": [
      "\n"
     ]
    },
    {
     "ename": "KeyError",
     "evalue": "'epsilon'",
     "output_type": "error",
     "traceback": [
      "\u001b[0;31m---------------------------------------------------------------------------\u001b[0m",
      "\u001b[0;31mKeyError\u001b[0m                                  Traceback (most recent call last)",
      "\u001b[1;32m/Users/schnuckiputz/other/git/2022-CHI-neuroadaptive-haptics/run_experiment_notebook.ipynb Cell 23\u001b[0m in \u001b[0;36m<module>\u001b[0;34m\u001b[0m\n\u001b[1;32m      <a href='vscode-notebook-cell:/Users/schnuckiputz/other/git/2022-CHI-neuroadaptive-haptics/run_experiment_notebook.ipynb#X30sZmlsZQ%3D%3D?line=0'>1</a>\u001b[0m \u001b[39m# The Q-value shape make sense - we're trying higher numbers later\u001b[39;00m\n\u001b[1;32m      <a href='vscode-notebook-cell:/Users/schnuckiputz/other/git/2022-CHI-neuroadaptive-haptics/run_experiment_notebook.ipynb#X30sZmlsZQ%3D%3D?line=1'>2</a>\u001b[0m \u001b[39m# so they converge to -1 slower than e.g. action 0 or 1\u001b[39;00m\n\u001b[0;32m----> <a href='vscode-notebook-cell:/Users/schnuckiputz/other/git/2022-CHI-neuroadaptive-haptics/run_experiment_notebook.ipynb#X30sZmlsZQ%3D%3D?line=2'>3</a>\u001b[0m plot_mean_q_values()\n",
      "\u001b[1;32m/Users/schnuckiputz/other/git/2022-CHI-neuroadaptive-haptics/run_experiment_notebook.ipynb Cell 23\u001b[0m in \u001b[0;36mplot_mean_q_values\u001b[0;34m(difference_fn)\u001b[0m\n\u001b[1;32m     <a href='vscode-notebook-cell:/Users/schnuckiputz/other/git/2022-CHI-neuroadaptive-haptics/run_experiment_notebook.ipynb#X30sZmlsZQ%3D%3D?line=29'>30</a>\u001b[0m \u001b[39mdef\u001b[39;00m \u001b[39mplot_mean_q_values\u001b[39m(difference_fn\u001b[39m=\u001b[39m\u001b[39mNone\u001b[39;00m):\n\u001b[0;32m---> <a href='vscode-notebook-cell:/Users/schnuckiputz/other/git/2022-CHI-neuroadaptive-haptics/run_experiment_notebook.ipynb#X30sZmlsZQ%3D%3D?line=30'>31</a>\u001b[0m     q_values_all_experiments, rewards_all_experiments, episode_lengths, selected_actions, accuracy \u001b[39m=\u001b[39m qLearningExperiment(difference_fn)\n\u001b[1;32m     <a href='vscode-notebook-cell:/Users/schnuckiputz/other/git/2022-CHI-neuroadaptive-haptics/run_experiment_notebook.ipynb#X30sZmlsZQ%3D%3D?line=32'>33</a>\u001b[0m     all_mean_rewards \u001b[39m=\u001b[39m [ get_cumsum_rewards(rewards) \u001b[39mfor\u001b[39;00m rewards \u001b[39min\u001b[39;00m rewards_all_experiments ]\n\u001b[1;32m     <a href='vscode-notebook-cell:/Users/schnuckiputz/other/git/2022-CHI-neuroadaptive-haptics/run_experiment_notebook.ipynb#X30sZmlsZQ%3D%3D?line=34'>35</a>\u001b[0m     all_mean_rewards \u001b[39m=\u001b[39m pd\u001b[39m.\u001b[39mDataFrame(all_mean_rewards) \u001b[39m# rewards have different lengths\u001b[39;00m\n",
      "\u001b[1;32m/Users/schnuckiputz/other/git/2022-CHI-neuroadaptive-haptics/run_experiment_notebook.ipynb Cell 23\u001b[0m in \u001b[0;36mqLearningExperiment\u001b[0;34m(difference_fn, params)\u001b[0m\n\u001b[1;32m     <a href='vscode-notebook-cell:/Users/schnuckiputz/other/git/2022-CHI-neuroadaptive-haptics/run_experiment_notebook.ipynb#X30sZmlsZQ%3D%3D?line=12'>13</a>\u001b[0m correct_action \u001b[39m=\u001b[39m \u001b[39m6\u001b[39m\n\u001b[1;32m     <a href='vscode-notebook-cell:/Users/schnuckiputz/other/git/2022-CHI-neuroadaptive-haptics/run_experiment_notebook.ipynb#X30sZmlsZQ%3D%3D?line=14'>15</a>\u001b[0m \u001b[39mfor\u001b[39;00m i \u001b[39min\u001b[39;00m tqdm(\u001b[39mrange\u001b[39m(num_episodes)):\n\u001b[0;32m---> <a href='vscode-notebook-cell:/Users/schnuckiputz/other/git/2022-CHI-neuroadaptive-haptics/run_experiment_notebook.ipynb#X30sZmlsZQ%3D%3D?line=15'>16</a>\u001b[0m     agent \u001b[39m=\u001b[39m UCBQAgent(num_states\u001b[39m=\u001b[39;49mnum_states, num_actions\u001b[39m=\u001b[39;49mnum_states, params\u001b[39m=\u001b[39;49mparams)\n\u001b[1;32m     <a href='vscode-notebook-cell:/Users/schnuckiputz/other/git/2022-CHI-neuroadaptive-haptics/run_experiment_notebook.ipynb#X30sZmlsZQ%3D%3D?line=16'>17</a>\u001b[0m     env \u001b[39m=\u001b[39m ModifiedRandomEnvironment(correct_action\u001b[39m=\u001b[39mcorrect_action, num_states\u001b[39m=\u001b[39mnum_states)\n\u001b[1;32m     <a href='vscode-notebook-cell:/Users/schnuckiputz/other/git/2022-CHI-neuroadaptive-haptics/run_experiment_notebook.ipynb#X30sZmlsZQ%3D%3D?line=17'>18</a>\u001b[0m     q_values_for_chart, rewards, episode_length, selected_action \u001b[39m=\u001b[39m runner(difference_fn, env\u001b[39m=\u001b[39menv, agent\u001b[39m=\u001b[39magent)\n",
      "File \u001b[0;32m~/other/git/2022-CHI-neuroadaptive-haptics/ucbq_agent.py:16\u001b[0m, in \u001b[0;36mUCBQAgent.__init__\u001b[0;34m(self, num_states, num_actions, alpha, gamma, epsilon, params)\u001b[0m\n\u001b[1;32m     11\u001b[0m \u001b[39mself\u001b[39m\u001b[39m.\u001b[39mgamma \u001b[39m=\u001b[39m gamma  \u001b[39m# discount factor\u001b[39;00m\n\u001b[1;32m     12\u001b[0m \u001b[39m# TODO: implement decay. Is it compatible with ucb?\u001b[39;00m\n\u001b[1;32m     13\u001b[0m \u001b[39m# TODO: Do we need epsilon greedy?\u001b[39;00m\n\u001b[1;32m     14\u001b[0m \u001b[39m# Is there any psychological reason why we can't just switch to the\u001b[39;00m\n\u001b[1;32m     15\u001b[0m \u001b[39m# next highest level incrementally?\u001b[39;00m\n\u001b[0;32m---> 16\u001b[0m \u001b[39mself\u001b[39m\u001b[39m.\u001b[39mepsilon \u001b[39m=\u001b[39m params[\u001b[39m'\u001b[39;49m\u001b[39mepsilon\u001b[39;49m\u001b[39m'\u001b[39;49m]  \u001b[39m# epsilon for epsilon-greedy action selection\u001b[39;00m\n\u001b[1;32m     17\u001b[0m \u001b[39m# self.epsilon_decay = 0.8\u001b[39;00m\n\u001b[1;32m     18\u001b[0m \u001b[39mself\u001b[39m\u001b[39m.\u001b[39mepsilon_decay \u001b[39m=\u001b[39m \u001b[39mlambda\u001b[39;00m t: np\u001b[39m.\u001b[39mlog10(t\u001b[39m+\u001b[39m\u001b[39m1\u001b[39m)\u001b[39m/\u001b[39m\u001b[39m20\u001b[39m\n",
      "\u001b[0;31mKeyError\u001b[0m: 'epsilon'"
     ]
    }
   ],
   "source": [
    "# The Q-value shape make sense - we're trying higher numbers later\n",
    "# so they converge to -1 slower than e.g. action 0 or 1\n",
    "plot_mean_q_values()"
   ]
  },
  {
   "cell_type": "markdown",
   "metadata": {},
   "source": [
    "# Noisy rewards\n",
    "- rewards are now noisy\n",
    "- q-learner hasn't changed"
   ]
  },
  {
   "cell_type": "code",
   "execution_count": null,
   "metadata": {},
   "outputs": [],
   "source": [
    "post_processor = PostProcessor(smooth=True, surrogate=True)\n",
    "\n",
    "def adjust_rewards_noisy(reward, state, action):    \n",
    "    reward = pre_processor.process_reward(reward)\n",
    "    reward = post_processor.smooth_reward(state, action, reward)\n",
    "    return reward\n"
   ]
  },
  {
   "cell_type": "code",
   "execution_count": null,
   "metadata": {},
   "outputs": [],
   "source": [
    "# qs, rewards = runner(adjust_rewards_noisy)\n",
    "# rewards_all_experiments.append(rewards)"
   ]
  },
  {
   "cell_type": "code",
   "execution_count": null,
   "metadata": {},
   "outputs": [
    {
     "name": "stderr",
     "output_type": "stream",
     "text": [
      "100%|██████████| 1/1 [00:00<00:00, 427.34it/s]"
     ]
    },
    {
     "name": "stdout",
     "output_type": "stream",
     "text": [
      "{'alpha': 0.5}\n",
      "0.5\n",
      "Mean episode length: 2.0\n",
      "Accuracy: 0.0\n"
     ]
    },
    {
     "name": "stderr",
     "output_type": "stream",
     "text": [
      "\n"
     ]
    },
    {
     "data": {
      "image/png": "[encoded data removed]",
      "text/plain": [
       "<Figure size 432x288 with 1 Axes>"
      ]
     },
     "metadata": {
      "needs_background": "light"
     },
     "output_type": "display_data"
    },
    {
     "data": {
      "image/png": "[encoded data removed]",
      "text/plain": [
       "<Figure size 432x288 with 1 Axes>"
      ]
     },
     "metadata": {
      "needs_background": "light"
     },
     "output_type": "display_data"
    },
    {
     "data": {
      "image/png": "[encoded data removed]",
      "text/plain": [
       "<Figure size 432x288 with 1 Axes>"
      ]
     },
     "metadata": {
      "needs_background": "light"
     },
     "output_type": "display_data"
    },
    {
     "data": {
      "image/png": "[encoded data removed]",
      "text/plain": [
       "<Figure size 432x288 with 1 Axes>"
      ]
     },
     "metadata": {
      "needs_background": "light"
     },
     "output_type": "display_data"
    }
   ],
   "source": [
    "plot_mean_q_values(adjust_rewards_noisy)"
   ]
  },
  {
   "cell_type": "markdown",
   "metadata": {},
   "source": [
    "# Surrogate rewards"
   ]
  },
  {
   "cell_type": "code",
   "execution_count": null,
   "metadata": {},
   "outputs": [
    {
     "name": "stdout",
     "output_type": "stream",
     "text": [
      "0.5\n",
      "[[1. 0.]\n",
      " [0. 1.]]\n"
     ]
    }
   ],
   "source": [
    "post_processor = PostProcessor(smooth=True, surrogate=True)\n",
    "\n",
    "def adjust_rewards_surrogate(reward, state, action):\n",
    "    \n",
    "    reward = pre_processor.process_reward(reward)\n",
    "    post_processor.collect(state, action, reward)\n",
    "    reward = post_processor.process_reward(reward)\n",
    "    reward = post_processor.smooth_reward(state, action, reward)\n",
    "    return reward\n",
    "\n",
    "runner(adjust_rewards_surrogate)\n",
    "print(post_processor.C)"
   ]
  },
  {
   "cell_type": "code",
   "execution_count": null,
   "metadata": {},
   "outputs": [],
   "source": [
    "# qs, rewards = runner(adjust_rewards_surrogate)\n",
    "# rewards_all_experiments.append(rewards)"
   ]
  },
  {
   "cell_type": "code",
   "execution_count": null,
   "metadata": {},
   "outputs": [
    {
     "name": "stderr",
     "output_type": "stream",
     "text": [
      "100%|██████████| 1/1 [00:00<00:00, 353.86it/s]"
     ]
    },
    {
     "name": "stdout",
     "output_type": "stream",
     "text": [
      "{'alpha': 0.5}\n",
      "0.5\n",
      "Mean episode length: 2.0\n",
      "Accuracy: 0.0\n"
     ]
    },
    {
     "name": "stderr",
     "output_type": "stream",
     "text": [
      "\n"
     ]
    },
    {
     "data": {
      "image/png": "[encoded data removed]",
      "text/plain": [
       "<Figure size 432x288 with 1 Axes>"
      ]
     },
     "metadata": {
      "needs_background": "light"
     },
     "output_type": "display_data"
    },
    {
     "data": {
      "image/png": "[encoded data removed]",
      "text/plain": [
       "<Figure size 432x288 with 1 Axes>"
      ]
     },
     "metadata": {
      "needs_background": "light"
     },
     "output_type": "display_data"
    },
    {
     "data": {
      "image/png": "[encoded data removed]",
      "text/plain": [
       "<Figure size 432x288 with 1 Axes>"
      ]
     },
     "metadata": {
      "needs_background": "light"
     },
     "output_type": "display_data"
    },
    {
     "data": {
      "image/png": "[encoded data removed]",
      "text/plain": [
       "<Figure size 432x288 with 1 Axes>"
      ]
     },
     "metadata": {
      "needs_background": "light"
     },
     "output_type": "display_data"
    }
   ],
   "source": [
    "plot_mean_q_values(adjust_rewards_surrogate)"
   ]
  },
  {
   "cell_type": "markdown",
   "metadata": {},
   "source": [
    "# Custom simplified surrogate rewards script"
   ]
  },
  {
   "cell_type": "code",
   "execution_count": null,
   "metadata": {},
   "outputs": [
    {
     "name": "stdout",
     "output_type": "stream",
     "text": [
      "0.5\n",
      "[[1. 0.]\n",
      " [0. 1.]]\n"
     ]
    }
   ],
   "source": [
    "#TODO\n",
    "# maybe simply removing the epsilon/w/learning rate\n",
    "# from the original code will give the same simplified result, as described\n",
    "# in the refernce paper\n",
    "\n",
    "class SimplePostProcessor(PostProcessor):\n",
    "    \"\"\"\n",
    "    Learning from surrogate reward\n",
    "    following paper \"Learning from noisy labels\"\n",
    "    \"\"\"\n",
    "    def __init__(self, smooth=False, surrogate=True,reverse=False, epsilon=1e-6):\n",
    "        self.surrogate = surrogate\n",
    "        self.smooth = smooth\n",
    "        self.r_sets = {}\n",
    "        self.r_smooth = {}\n",
    "        self.r1 = -1\n",
    "        self.r2 = 0\n",
    "        self.counter = 0\n",
    "        self.C = np.identity(2)\n",
    "        self.epsilon = epsilon\n",
    "        self.reverse = reverse\n",
    "\n",
    "    def estimate_C(self):\n",
    "        # TODO: decide on these\n",
    "        min_occurances = 10\n",
    "        min_count1 = 20\n",
    "        if self.counter >= min_occurances and self.counter % min_occurances == 0:\n",
    "            # Start estimating probabilities of error\n",
    "            e_ = 0; e = 0\n",
    "            # a = 0; b = 0\n",
    "            # prob = 0\n",
    "\n",
    "            self.count1 = 0\n",
    "            self.count2 = 0\n",
    "            for k in self.r_sets.keys():\n",
    "                freq_count = collections.Counter(self.r_sets[k])\n",
    "                # NOTE: \n",
    "                # we don't have this case where e > 0.5\n",
    "                # if self.reverse:\n",
    "                #     truth, count = freq_count.most_common()[-1]\n",
    "                # else: truth, count = freq_count.most_common()[0]\n",
    "\n",
    "                # truth = most commone reward for this (s, a)\n",
    "                truth, count = freq_count.most_common()[0]\n",
    "\n",
    "                if truth == self.r1:\n",
    "                    # Count all the times we visited (s, a) as having\n",
    "                    # the \"true\" reward\n",
    "                    # i.e. the \"true\" count of r1\n",
    "                    self.count1 += len(self.r_sets[k])\n",
    "                else:\n",
    "                    self.count2 += len(self.r_sets[k])\n",
    "\n",
    "            for k in self.r_sets.keys():\n",
    "                freq_count = collections.Counter(self.r_sets[k])\n",
    "                # if self.e_ > 0.05:\n",
    "                #    self.reverse = True\n",
    "                #    self.counter = 0; self.r_sets = {}\n",
    "                #    break\n",
    "\n",
    "                # if self.reverse:\n",
    "                #     truth, count = freq_count.most_common()[-1]\n",
    "                # else:\n",
    "                #     truth, count = freq_count.most_common()[0]\n",
    "                truth, count = freq_count.most_common()[0]\n",
    "\n",
    "                prob_correct = float(count) / len(self.r_sets[k])\n",
    "                if truth == self.r1:\n",
    "                    if self.count1 > min_count1:\n",
    "                        prob_k = float(len(self.r_sets[k])) / self.count1\n",
    "                        e_ += prob_k * (1 - prob_correct)\n",
    "                    else: e_ = 0.0\n",
    "                    # a += 2 * prob_k * prob_correct\n",
    "                else:\n",
    "                    prob_k = float(len(self.r_sets[k])) / self.count2\n",
    "                    e += prob_k * (1 - prob_correct)\n",
    "                    # b += 2 * prob_k * prob_correct\n",
    "\n",
    "            # print prob\n",
    "            # log_string(str(e_) + \" \" + str(e))\n",
    "            self.C = np.array([[1-e_, e_], [e, 1-e]])\n",
    "\n",
    "            # if self.counter >= 10000:\n",
    "            #     self.counter = 0\n",
    "            #    self.r_sets = {}\n",
    "\n",
    "            # print self.C\n",
    "\n",
    "    def collect(self, state, action, reward):\n",
    "        if (state, action) in self.r_sets:\n",
    "            self.r_sets[(state, action)].append(reward)\n",
    "        else:\n",
    "            self.r_sets[(state, action)] = [reward]\n",
    "        self.counter += 1            \n",
    "\n",
    "post_processor = SimplePostProcessor(smooth=True, surrogate=True)\n",
    "\n",
    "def adjust_rewards_surrogate_simple(reward, state, action):    \n",
    "    reward = pre_processor.process_reward(reward)\n",
    "    post_processor.collect(state, action, reward)\n",
    "    reward = post_processor.process_reward(reward)\n",
    "    reward = post_processor.smooth_reward(state, action, reward)\n",
    "    return reward\n",
    "\n",
    "runner(adjust_rewards_surrogate_simple)\n",
    "\n",
    "print(post_processor.C)"
   ]
  },
  {
   "cell_type": "markdown",
   "metadata": {},
   "source": [
    "# Custom simplified surrogate rewards"
   ]
  },
  {
   "cell_type": "code",
   "execution_count": null,
   "metadata": {},
   "outputs": [],
   "source": [
    "# qs, rewards = runner(adjust_rewards_surrogate_simple)\n",
    "# rewards_all_experiments.append(rewards)"
   ]
  },
  {
   "cell_type": "code",
   "execution_count": null,
   "metadata": {},
   "outputs": [
    {
     "name": "stderr",
     "output_type": "stream",
     "text": [
      "100%|██████████| 1/1 [00:00<00:00, 438.23it/s]"
     ]
    },
    {
     "name": "stdout",
     "output_type": "stream",
     "text": [
      "{'alpha': 0.5}\n",
      "0.5\n",
      "Mean episode length: 2.0\n",
      "Accuracy: 0.0\n"
     ]
    },
    {
     "name": "stderr",
     "output_type": "stream",
     "text": [
      "\n"
     ]
    },
    {
     "data": {
      "image/png": "[encoded data removed]",
      "text/plain": [
       "<Figure size 432x288 with 1 Axes>"
      ]
     },
     "metadata": {
      "needs_background": "light"
     },
     "output_type": "display_data"
    },
    {
     "data": {
      "image/png": "[encoded data removed]",
      "text/plain": [
       "<Figure size 432x288 with 1 Axes>"
      ]
     },
     "metadata": {
      "needs_background": "light"
     },
     "output_type": "display_data"
    },
    {
     "data": {
      "image/png": "[encoded data removed]",
      "text/plain": [
       "<Figure size 432x288 with 1 Axes>"
      ]
     },
     "metadata": {
      "needs_background": "light"
     },
     "output_type": "display_data"
    },
    {
     "data": {
      "image/png": "[encoded data removed]",
      "text/plain": [
       "<Figure size 432x288 with 1 Axes>"
      ]
     },
     "metadata": {
      "needs_background": "light"
     },
     "output_type": "display_data"
    }
   ],
   "source": [
    "plot_mean_q_values(adjust_rewards_surrogate_simple)"
   ]
  },
  {
   "cell_type": "markdown",
   "metadata": {},
   "source": [
    "# Hyperparameter tuning"
   ]
  },
  {
   "cell_type": "code",
   "execution_count": null,
   "metadata": {},
   "outputs": [
    {
     "name": "stderr",
     "output_type": "stream",
     "text": [
      "  0%|          | 0/20 [00:00<?, ?it/s]"
     ]
    },
    {
     "name": "stdout",
     "output_type": "stream",
     "text": [
      "{'alpha': 0.5}\n",
      "0.5\n"
     ]
    },
    {
     "name": "stderr",
     "output_type": "stream",
     "text": [
      "  5%|▌         | 1/20 [00:00<00:04,  4.26it/s]"
     ]
    },
    {
     "name": "stdout",
     "output_type": "stream",
     "text": [
      "{'alpha': 0.5}\n",
      "0.5\n"
     ]
    },
    {
     "name": "stderr",
     "output_type": "stream",
     "text": [
      " 10%|█         | 2/20 [00:00<00:04,  4.19it/s]"
     ]
    },
    {
     "name": "stdout",
     "output_type": "stream",
     "text": [
      "{'alpha': 0.5}\n",
      "0.5\n"
     ]
    },
    {
     "name": "stderr",
     "output_type": "stream",
     "text": [
      " 15%|█▌        | 3/20 [00:00<00:04,  4.12it/s]"
     ]
    },
    {
     "name": "stdout",
     "output_type": "stream",
     "text": [
      "{'alpha': 0.5}\n",
      "0.5\n"
     ]
    },
    {
     "name": "stderr",
     "output_type": "stream",
     "text": [
      " 20%|██        | 4/20 [00:00<00:03,  4.13it/s]"
     ]
    },
    {
     "name": "stdout",
     "output_type": "stream",
     "text": [
      "{'alpha': 0.5}\n",
      "0.5\n"
     ]
    },
    {
     "name": "stderr",
     "output_type": "stream",
     "text": [
      " 25%|██▌       | 5/20 [00:01<00:03,  4.17it/s]"
     ]
    },
    {
     "name": "stdout",
     "output_type": "stream",
     "text": [
      "{'alpha': 0.5}\n",
      "0.5\n"
     ]
    },
    {
     "name": "stderr",
     "output_type": "stream",
     "text": [
      " 30%|███       | 6/20 [00:01<00:03,  4.14it/s]"
     ]
    },
    {
     "name": "stdout",
     "output_type": "stream",
     "text": [
      "{'alpha': 0.5}\n",
      "0.5\n"
     ]
    },
    {
     "name": "stderr",
     "output_type": "stream",
     "text": [
      " 35%|███▌      | 7/20 [00:01<00:03,  4.08it/s]"
     ]
    },
    {
     "name": "stdout",
     "output_type": "stream",
     "text": [
      "{'alpha': 0.5}\n",
      "0.5\n"
     ]
    },
    {
     "name": "stderr",
     "output_type": "stream",
     "text": [
      " 40%|████      | 8/20 [00:01<00:02,  4.05it/s]"
     ]
    },
    {
     "name": "stdout",
     "output_type": "stream",
     "text": [
      "{'alpha': 0.5}\n",
      "0.5\n"
     ]
    },
    {
     "name": "stderr",
     "output_type": "stream",
     "text": [
      " 45%|████▌     | 9/20 [00:02<00:02,  4.08it/s]"
     ]
    },
    {
     "name": "stdout",
     "output_type": "stream",
     "text": [
      "{'alpha': 0.5}\n",
      "0.5\n"
     ]
    },
    {
     "name": "stderr",
     "output_type": "stream",
     "text": [
      " 50%|█████     | 10/20 [00:02<00:02,  4.10it/s]"
     ]
    },
    {
     "name": "stdout",
     "output_type": "stream",
     "text": [
      "{'alpha': 0.5}\n",
      "0.5\n"
     ]
    },
    {
     "name": "stderr",
     "output_type": "stream",
     "text": [
      " 55%|█████▌    | 11/20 [00:02<00:02,  4.08it/s]"
     ]
    },
    {
     "name": "stdout",
     "output_type": "stream",
     "text": [
      "{'alpha': 0.5}\n",
      "0.5\n"
     ]
    },
    {
     "name": "stderr",
     "output_type": "stream",
     "text": [
      " 60%|██████    | 12/20 [00:02<00:01,  4.10it/s]"
     ]
    },
    {
     "name": "stdout",
     "output_type": "stream",
     "text": [
      "{'alpha': 0.5}\n",
      "0.5\n"
     ]
    },
    {
     "name": "stderr",
     "output_type": "stream",
     "text": [
      " 65%|██████▌   | 13/20 [00:03<00:01,  4.10it/s]"
     ]
    },
    {
     "name": "stdout",
     "output_type": "stream",
     "text": [
      "{'alpha': 0.5}\n",
      "0.5\n"
     ]
    },
    {
     "name": "stderr",
     "output_type": "stream",
     "text": [
      " 70%|███████   | 14/20 [00:03<00:01,  4.09it/s]"
     ]
    },
    {
     "name": "stdout",
     "output_type": "stream",
     "text": [
      "{'alpha': 0.5}\n",
      "0.5\n"
     ]
    },
    {
     "name": "stderr",
     "output_type": "stream",
     "text": [
      " 75%|███████▌  | 15/20 [00:03<00:01,  4.08it/s]"
     ]
    },
    {
     "name": "stdout",
     "output_type": "stream",
     "text": [
      "{'alpha': 0.5}\n",
      "0.5\n"
     ]
    },
    {
     "name": "stderr",
     "output_type": "stream",
     "text": [
      " 80%|████████  | 16/20 [00:03<00:00,  4.09it/s]"
     ]
    },
    {
     "name": "stdout",
     "output_type": "stream",
     "text": [
      "{'alpha': 0.5}\n",
      "0.5\n"
     ]
    },
    {
     "name": "stderr",
     "output_type": "stream",
     "text": [
      " 85%|████████▌ | 17/20 [00:04<00:00,  4.06it/s]"
     ]
    },
    {
     "name": "stdout",
     "output_type": "stream",
     "text": [
      "{'alpha': 0.5}\n",
      "0.5\n"
     ]
    },
    {
     "name": "stderr",
     "output_type": "stream",
     "text": [
      " 90%|█████████ | 18/20 [00:04<00:00,  4.06it/s]"
     ]
    },
    {
     "name": "stdout",
     "output_type": "stream",
     "text": [
      "{'alpha': 0.5}\n",
      "0.5\n"
     ]
    },
    {
     "name": "stderr",
     "output_type": "stream",
     "text": [
      " 95%|█████████▌| 19/20 [00:04<00:00,  4.06it/s]"
     ]
    },
    {
     "name": "stdout",
     "output_type": "stream",
     "text": [
      "{'alpha': 0.5}\n",
      "0.5\n"
     ]
    },
    {
     "name": "stderr",
     "output_type": "stream",
     "text": [
      "100%|██████████| 20/20 [00:04<00:00,  4.09it/s]\n"
     ]
    },
    {
     "name": "stdout",
     "output_type": "stream",
     "text": [
      "80.0 121.0\n"
     ]
    },
    {
     "name": "stderr",
     "output_type": "stream",
     "text": [
      "  0%|          | 0/20 [00:00<?, ?it/s]"
     ]
    },
    {
     "name": "stdout",
     "output_type": "stream",
     "text": [
      "{'alpha': 0.5}\n",
      "0.5\n"
     ]
    },
    {
     "name": "stderr",
     "output_type": "stream",
     "text": [
      "  5%|▌         | 1/20 [00:00<00:04,  3.94it/s]"
     ]
    },
    {
     "name": "stdout",
     "output_type": "stream",
     "text": [
      "{'alpha': 0.5}\n",
      "0.5\n"
     ]
    },
    {
     "name": "stderr",
     "output_type": "stream",
     "text": [
      " 10%|█         | 2/20 [00:00<00:04,  3.87it/s]"
     ]
    },
    {
     "name": "stdout",
     "output_type": "stream",
     "text": [
      "{'alpha': 0.5}\n",
      "0.5\n"
     ]
    },
    {
     "name": "stderr",
     "output_type": "stream",
     "text": [
      " 15%|█▌        | 3/20 [00:00<00:04,  3.90it/s]"
     ]
    },
    {
     "name": "stdout",
     "output_type": "stream",
     "text": [
      "{'alpha': 0.5}\n",
      "0.5\n"
     ]
    },
    {
     "name": "stderr",
     "output_type": "stream",
     "text": [
      " 20%|██        | 4/20 [00:01<00:04,  3.84it/s]"
     ]
    },
    {
     "name": "stdout",
     "output_type": "stream",
     "text": [
      "{'alpha': 0.5}\n",
      "0.5\n"
     ]
    },
    {
     "name": "stderr",
     "output_type": "stream",
     "text": [
      " 25%|██▌       | 5/20 [00:01<00:03,  3.85it/s]"
     ]
    },
    {
     "name": "stdout",
     "output_type": "stream",
     "text": [
      "{'alpha': 0.5}\n",
      "0.5\n"
     ]
    },
    {
     "name": "stderr",
     "output_type": "stream",
     "text": [
      " 30%|███       | 6/20 [00:01<00:03,  3.81it/s]"
     ]
    },
    {
     "name": "stdout",
     "output_type": "stream",
     "text": [
      "{'alpha': 0.5}\n",
      "0.5\n"
     ]
    },
    {
     "name": "stderr",
     "output_type": "stream",
     "text": [
      " 40%|████      | 8/20 [00:01<00:02,  4.38it/s]"
     ]
    },
    {
     "name": "stdout",
     "output_type": "stream",
     "text": [
      "{'alpha': 0.5}\n",
      "0.5\n",
      "{'alpha': 0.5}\n",
      "0.5\n"
     ]
    },
    {
     "name": "stderr",
     "output_type": "stream",
     "text": [
      " 50%|█████     | 10/20 [00:02<00:02,  5.00it/s]"
     ]
    },
    {
     "name": "stdout",
     "output_type": "stream",
     "text": [
      "{'alpha': 0.5}\n",
      "0.5\n",
      "{'alpha': 0.5}\n",
      "0.5\n"
     ]
    },
    {
     "name": "stderr",
     "output_type": "stream",
     "text": [
      " 60%|██████    | 12/20 [00:02<00:01,  5.47it/s]"
     ]
    },
    {
     "name": "stdout",
     "output_type": "stream",
     "text": [
      "{'alpha': 0.5}\n",
      "0.5\n",
      "{'alpha': 0.5}\n",
      "0.5\n"
     ]
    },
    {
     "name": "stderr",
     "output_type": "stream",
     "text": [
      " 70%|███████   | 14/20 [00:03<00:01,  5.61it/s]"
     ]
    },
    {
     "name": "stdout",
     "output_type": "stream",
     "text": [
      "{'alpha': 0.5}\n",
      "0.5\n",
      "{'alpha': 0.5}\n",
      "0.5\n"
     ]
    },
    {
     "name": "stderr",
     "output_type": "stream",
     "text": [
      " 80%|████████  | 16/20 [00:03<00:00,  5.49it/s]"
     ]
    },
    {
     "name": "stdout",
     "output_type": "stream",
     "text": [
      "{'alpha': 0.5}\n",
      "0.5\n",
      "{'alpha': 0.5}\n",
      "0.5\n"
     ]
    },
    {
     "name": "stderr",
     "output_type": "stream",
     "text": [
      " 90%|█████████ | 18/20 [00:03<00:00,  5.37it/s]"
     ]
    },
    {
     "name": "stdout",
     "output_type": "stream",
     "text": [
      "{'alpha': 0.5}\n",
      "0.5\n",
      "{'alpha': 0.5}\n",
      "0.5\n"
     ]
    },
    {
     "name": "stderr",
     "output_type": "stream",
     "text": [
      "100%|██████████| 20/20 [00:04<00:00,  4.82it/s]"
     ]
    },
    {
     "name": "stdout",
     "output_type": "stream",
     "text": [
      "{'alpha': 0.5}\n",
      "0.5\n",
      "100.0 96.2\n"
     ]
    },
    {
     "name": "stderr",
     "output_type": "stream",
     "text": [
      "\n"
     ]
    }
   ],
   "source": [
    "max_steps = 120\n",
    "num_episodes = 20\n",
    "\n",
    "q_values_all_experiments, rewards_all_experiments, episode_lengths, selected_actions, accuracy = qLearningExperiment(adjust_rewards_noisy)\n",
    "mean_episode_length = np.mean(episode_lengths)\n",
    "print(accuracy, mean_episode_length) \n",
    "\n",
    "q_values_all_experiments, rewards_all_experiments, episode_lengths, selected_actions, accuracy = qLearningExperiment(adjust_rewards_surrogate_simple)\n",
    "mean_episode_length = np.mean(episode_lengths)\n",
    "print(accuracy, mean_episode_length) "
   ]
  },
  {
   "cell_type": "code",
   "execution_count": null,
   "metadata": {},
   "outputs": [],
   "source": [
    "from sklearn.model_selection import ParameterGrid"
   ]
  },
  {
   "cell_type": "code",
   "execution_count": null,
   "metadata": {},
   "outputs": [],
   "source": [
    "from IPython import display\n",
    "import pandas as pd"
   ]
  },
  {
   "cell_type": "code",
   "execution_count": null,
   "metadata": {},
   "outputs": [
    {
     "name": "stderr",
     "output_type": "stream",
     "text": [
      "  0%|          | 0/4 [00:00<?, ?it/s]"
     ]
    },
    {
     "name": "stdout",
     "output_type": "stream",
     "text": [
      "alpha      0.1\n",
      "epsilon    0.1\n",
      "Name: 0, dtype: float64\n",
      "0.1\n"
     ]
    },
    {
     "name": "stderr",
     "output_type": "stream",
     "text": []
    },
    {
     "name": "stdout",
     "output_type": "stream",
     "text": [
      "alpha      0.1\n",
      "epsilon    0.1\n",
      "Name: 0, dtype: float64\n",
      "0.1\n"
     ]
    },
    {
     "name": "stderr",
     "output_type": "stream",
     "text": []
    },
    {
     "name": "stdout",
     "output_type": "stream",
     "text": [
      "alpha      0.1\n",
      "epsilon    0.1\n",
      "Name: 0, dtype: float64\n",
      "0.1\n"
     ]
    },
    {
     "name": "stderr",
     "output_type": "stream",
     "text": []
    },
    {
     "name": "stdout",
     "output_type": "stream",
     "text": [
      "alpha      0.1\n",
      "epsilon    0.1\n",
      "Name: 0, dtype: float64\n",
      "0.1\n"
     ]
    },
    {
     "name": "stderr",
     "output_type": "stream",
     "text": []
    },
    {
     "name": "stdout",
     "output_type": "stream",
     "text": [
      "alpha      0.1\n",
      "epsilon    0.1\n",
      "Name: 0, dtype: float64\n",
      "0.1\n"
     ]
    },
    {
     "name": "stderr",
     "output_type": "stream",
     "text": []
    },
    {
     "name": "stdout",
     "output_type": "stream",
     "text": [
      "alpha      0.1\n",
      "epsilon    0.1\n",
      "Name: 0, dtype: float64\n",
      "0.1\n"
     ]
    },
    {
     "name": "stderr",
     "output_type": "stream",
     "text": []
    },
    {
     "name": "stdout",
     "output_type": "stream",
     "text": [
      "alpha      0.1\n",
      "epsilon    0.1\n",
      "Name: 0, dtype: float64\n",
      "0.1\n"
     ]
    },
    {
     "name": "stderr",
     "output_type": "stream",
     "text": []
    },
    {
     "name": "stdout",
     "output_type": "stream",
     "text": [
      "alpha      0.1\n",
      "epsilon    0.1\n",
      "Name: 0, dtype: float64\n",
      "0.1\n"
     ]
    },
    {
     "name": "stderr",
     "output_type": "stream",
     "text": []
    },
    {
     "name": "stdout",
     "output_type": "stream",
     "text": [
      "alpha      0.1\n",
      "epsilon    0.1\n",
      "Name: 0, dtype: float64\n",
      "0.1\n"
     ]
    },
    {
     "name": "stderr",
     "output_type": "stream",
     "text": []
    },
    {
     "name": "stdout",
     "output_type": "stream",
     "text": [
      "alpha      0.1\n",
      "epsilon    0.1\n",
      "Name: 0, dtype: float64\n",
      "0.1\n"
     ]
    },
    {
     "name": "stderr",
     "output_type": "stream",
     "text": []
    },
    {
     "name": "stdout",
     "output_type": "stream",
     "text": [
      "alpha      0.1\n",
      "epsilon    0.1\n",
      "Name: 0, dtype: float64\n",
      "0.1\n"
     ]
    },
    {
     "name": "stderr",
     "output_type": "stream",
     "text": []
    },
    {
     "name": "stdout",
     "output_type": "stream",
     "text": [
      "alpha      0.1\n",
      "epsilon    0.1\n",
      "Name: 0, dtype: float64\n",
      "0.1\n"
     ]
    },
    {
     "name": "stderr",
     "output_type": "stream",
     "text": []
    },
    {
     "name": "stdout",
     "output_type": "stream",
     "text": [
      "alpha      0.1\n",
      "epsilon    0.1\n",
      "Name: 0, dtype: float64\n",
      "0.1\n"
     ]
    },
    {
     "name": "stderr",
     "output_type": "stream",
     "text": []
    },
    {
     "name": "stdout",
     "output_type": "stream",
     "text": [
      "alpha      0.1\n",
      "epsilon    0.1\n",
      "Name: 0, dtype: float64\n",
      "0.1\n"
     ]
    },
    {
     "name": "stderr",
     "output_type": "stream",
     "text": []
    },
    {
     "name": "stdout",
     "output_type": "stream",
     "text": [
      "alpha      0.1\n",
      "epsilon    0.1\n",
      "Name: 0, dtype: float64\n",
      "0.1\n"
     ]
    },
    {
     "name": "stderr",
     "output_type": "stream",
     "text": []
    },
    {
     "name": "stdout",
     "output_type": "stream",
     "text": [
      "alpha      0.1\n",
      "epsilon    0.1\n",
      "Name: 0, dtype: float64\n",
      "0.1\n"
     ]
    },
    {
     "name": "stderr",
     "output_type": "stream",
     "text": []
    },
    {
     "name": "stdout",
     "output_type": "stream",
     "text": [
      "alpha      0.1\n",
      "epsilon    0.1\n",
      "Name: 0, dtype: float64\n",
      "0.1\n"
     ]
    },
    {
     "name": "stderr",
     "output_type": "stream",
     "text": []
    },
    {
     "name": "stdout",
     "output_type": "stream",
     "text": [
      "alpha      0.1\n",
      "epsilon    0.1\n",
      "Name: 0, dtype: float64\n",
      "0.1\n"
     ]
    },
    {
     "name": "stderr",
     "output_type": "stream",
     "text": []
    },
    {
     "name": "stdout",
     "output_type": "stream",
     "text": [
      "alpha      0.1\n",
      "epsilon    0.1\n",
      "Name: 0, dtype: float64\n",
      "0.1\n"
     ]
    },
    {
     "name": "stderr",
     "output_type": "stream",
     "text": []
    },
    {
     "name": "stdout",
     "output_type": "stream",
     "text": [
      "alpha      0.1\n",
      "epsilon    0.1\n",
      "Name: 0, dtype: float64\n",
      "0.1\n"
     ]
    },
    {
     "name": "stderr",
     "output_type": "stream",
     "text": [
      "100%|██████████| 20/20 [00:04<00:00,  4.23it/s]\n",
      " 25%|██▌       | 1/4 [00:04<00:14,  4.73s/it]"
     ]
    },
    {
     "name": "stdout",
     "output_type": "stream",
     "text": [
      "100.0 121.0\n"
     ]
    },
    {
     "name": "stderr",
     "output_type": "stream",
     "text": []
    },
    {
     "name": "stdout",
     "output_type": "stream",
     "text": [
      "alpha      0.1\n",
      "epsilon    1.0\n",
      "Name: 1, dtype: float64\n",
      "0.1\n"
     ]
    },
    {
     "name": "stderr",
     "output_type": "stream",
     "text": []
    },
    {
     "name": "stdout",
     "output_type": "stream",
     "text": [
      "alpha      0.1\n",
      "epsilon    1.0\n",
      "Name: 1, dtype: float64\n",
      "0.1\n"
     ]
    },
    {
     "name": "stderr",
     "output_type": "stream",
     "text": []
    },
    {
     "name": "stdout",
     "output_type": "stream",
     "text": [
      "alpha      0.1\n",
      "epsilon    1.0\n",
      "Name: 1, dtype: float64\n",
      "0.1\n"
     ]
    },
    {
     "name": "stderr",
     "output_type": "stream",
     "text": []
    },
    {
     "name": "stdout",
     "output_type": "stream",
     "text": [
      "alpha      0.1\n",
      "epsilon    1.0\n",
      "Name: 1, dtype: float64\n",
      "0.1\n"
     ]
    },
    {
     "name": "stderr",
     "output_type": "stream",
     "text": []
    },
    {
     "name": "stdout",
     "output_type": "stream",
     "text": [
      "alpha      0.1\n",
      "epsilon    1.0\n",
      "Name: 1, dtype: float64\n",
      "0.1\n"
     ]
    },
    {
     "name": "stderr",
     "output_type": "stream",
     "text": []
    },
    {
     "name": "stdout",
     "output_type": "stream",
     "text": [
      "alpha      0.1\n",
      "epsilon    1.0\n",
      "Name: 1, dtype: float64\n",
      "0.1\n"
     ]
    },
    {
     "name": "stderr",
     "output_type": "stream",
     "text": []
    },
    {
     "name": "stdout",
     "output_type": "stream",
     "text": [
      "alpha      0.1\n",
      "epsilon    1.0\n",
      "Name: 1, dtype: float64\n",
      "0.1\n"
     ]
    },
    {
     "name": "stderr",
     "output_type": "stream",
     "text": []
    },
    {
     "name": "stdout",
     "output_type": "stream",
     "text": [
      "alpha      0.1\n",
      "epsilon    1.0\n",
      "Name: 1, dtype: float64\n",
      "0.1\n"
     ]
    },
    {
     "name": "stderr",
     "output_type": "stream",
     "text": []
    },
    {
     "name": "stdout",
     "output_type": "stream",
     "text": [
      "alpha      0.1\n",
      "epsilon    1.0\n",
      "Name: 1, dtype: float64\n",
      "0.1\n"
     ]
    },
    {
     "name": "stderr",
     "output_type": "stream",
     "text": []
    },
    {
     "name": "stdout",
     "output_type": "stream",
     "text": [
      "alpha      0.1\n",
      "epsilon    1.0\n",
      "Name: 1, dtype: float64\n",
      "0.1\n"
     ]
    },
    {
     "name": "stderr",
     "output_type": "stream",
     "text": []
    },
    {
     "name": "stdout",
     "output_type": "stream",
     "text": [
      "alpha      0.1\n",
      "epsilon    1.0\n",
      "Name: 1, dtype: float64\n",
      "0.1\n"
     ]
    },
    {
     "name": "stderr",
     "output_type": "stream",
     "text": []
    },
    {
     "name": "stdout",
     "output_type": "stream",
     "text": [
      "alpha      0.1\n",
      "epsilon    1.0\n",
      "Name: 1, dtype: float64\n",
      "0.1\n"
     ]
    },
    {
     "name": "stderr",
     "output_type": "stream",
     "text": []
    },
    {
     "name": "stdout",
     "output_type": "stream",
     "text": [
      "alpha      0.1\n",
      "epsilon    1.0\n",
      "Name: 1, dtype: float64\n",
      "0.1\n"
     ]
    },
    {
     "name": "stderr",
     "output_type": "stream",
     "text": []
    },
    {
     "name": "stdout",
     "output_type": "stream",
     "text": [
      "alpha      0.1\n",
      "epsilon    1.0\n",
      "Name: 1, dtype: float64\n",
      "0.1\n"
     ]
    },
    {
     "name": "stderr",
     "output_type": "stream",
     "text": []
    },
    {
     "name": "stdout",
     "output_type": "stream",
     "text": [
      "alpha      0.1\n",
      "epsilon    1.0\n",
      "Name: 1, dtype: float64\n",
      "0.1\n"
     ]
    },
    {
     "name": "stderr",
     "output_type": "stream",
     "text": []
    },
    {
     "name": "stdout",
     "output_type": "stream",
     "text": [
      "alpha      0.1\n",
      "epsilon    1.0\n",
      "Name: 1, dtype: float64\n",
      "0.1\n"
     ]
    },
    {
     "name": "stderr",
     "output_type": "stream",
     "text": []
    },
    {
     "name": "stdout",
     "output_type": "stream",
     "text": [
      "alpha      0.1\n",
      "epsilon    1.0\n",
      "Name: 1, dtype: float64\n",
      "0.1\n"
     ]
    },
    {
     "name": "stderr",
     "output_type": "stream",
     "text": []
    },
    {
     "name": "stdout",
     "output_type": "stream",
     "text": [
      "alpha      0.1\n",
      "epsilon    1.0\n",
      "Name: 1, dtype: float64\n",
      "0.1\n"
     ]
    },
    {
     "name": "stderr",
     "output_type": "stream",
     "text": []
    },
    {
     "name": "stdout",
     "output_type": "stream",
     "text": [
      "alpha      0.1\n",
      "epsilon    1.0\n",
      "Name: 1, dtype: float64\n",
      "0.1\n"
     ]
    },
    {
     "name": "stderr",
     "output_type": "stream",
     "text": []
    },
    {
     "name": "stdout",
     "output_type": "stream",
     "text": [
      "alpha      0.1\n",
      "epsilon    1.0\n",
      "Name: 1, dtype: float64\n",
      "0.1\n"
     ]
    },
    {
     "name": "stderr",
     "output_type": "stream",
     "text": [
      "100%|██████████| 20/20 [00:04<00:00,  4.25it/s]\n",
      " 50%|█████     | 2/4 [00:09<00:09,  4.72s/it]"
     ]
    },
    {
     "name": "stdout",
     "output_type": "stream",
     "text": [
      "100.0 121.0\n"
     ]
    },
    {
     "name": "stderr",
     "output_type": "stream",
     "text": []
    },
    {
     "name": "stdout",
     "output_type": "stream",
     "text": [
      "alpha      1.0\n",
      "epsilon    0.1\n",
      "Name: 2, dtype: float64\n",
      "1.0\n"
     ]
    },
    {
     "name": "stderr",
     "output_type": "stream",
     "text": []
    },
    {
     "name": "stdout",
     "output_type": "stream",
     "text": [
      "alpha      1.0\n",
      "epsilon    0.1\n",
      "Name: 2, dtype: float64\n",
      "1.0\n"
     ]
    },
    {
     "name": "stderr",
     "output_type": "stream",
     "text": []
    },
    {
     "name": "stdout",
     "output_type": "stream",
     "text": [
      "alpha      1.0\n",
      "epsilon    0.1\n",
      "Name: 2, dtype: float64\n",
      "1.0\n"
     ]
    },
    {
     "name": "stderr",
     "output_type": "stream",
     "text": []
    },
    {
     "name": "stdout",
     "output_type": "stream",
     "text": [
      "alpha      1.0\n",
      "epsilon    0.1\n",
      "Name: 2, dtype: float64\n",
      "1.0\n"
     ]
    },
    {
     "name": "stderr",
     "output_type": "stream",
     "text": []
    },
    {
     "name": "stdout",
     "output_type": "stream",
     "text": [
      "alpha      1.0\n",
      "epsilon    0.1\n",
      "Name: 2, dtype: float64\n",
      "1.0\n"
     ]
    },
    {
     "name": "stderr",
     "output_type": "stream",
     "text": []
    },
    {
     "name": "stdout",
     "output_type": "stream",
     "text": [
      "alpha      1.0\n",
      "epsilon    0.1\n",
      "Name: 2, dtype: float64\n",
      "1.0\n"
     ]
    },
    {
     "name": "stderr",
     "output_type": "stream",
     "text": []
    },
    {
     "name": "stdout",
     "output_type": "stream",
     "text": [
      "alpha      1.0\n",
      "epsilon    0.1\n",
      "Name: 2, dtype: float64\n",
      "1.0\n"
     ]
    },
    {
     "name": "stderr",
     "output_type": "stream",
     "text": []
    },
    {
     "name": "stdout",
     "output_type": "stream",
     "text": [
      "alpha      1.0\n",
      "epsilon    0.1\n",
      "Name: 2, dtype: float64\n",
      "1.0\n"
     ]
    },
    {
     "name": "stderr",
     "output_type": "stream",
     "text": []
    },
    {
     "name": "stdout",
     "output_type": "stream",
     "text": [
      "alpha      1.0\n",
      "epsilon    0.1\n",
      "Name: 2, dtype: float64\n",
      "1.0\n"
     ]
    },
    {
     "name": "stderr",
     "output_type": "stream",
     "text": []
    },
    {
     "name": "stdout",
     "output_type": "stream",
     "text": [
      "alpha      1.0\n",
      "epsilon    0.1\n",
      "Name: 2, dtype: float64\n",
      "1.0\n"
     ]
    },
    {
     "name": "stderr",
     "output_type": "stream",
     "text": []
    },
    {
     "name": "stdout",
     "output_type": "stream",
     "text": [
      "alpha      1.0\n",
      "epsilon    0.1\n",
      "Name: 2, dtype: float64\n",
      "1.0\n"
     ]
    },
    {
     "name": "stderr",
     "output_type": "stream",
     "text": []
    },
    {
     "name": "stdout",
     "output_type": "stream",
     "text": [
      "alpha      1.0\n",
      "epsilon    0.1\n",
      "Name: 2, dtype: float64\n",
      "1.0\n"
     ]
    },
    {
     "name": "stderr",
     "output_type": "stream",
     "text": []
    },
    {
     "name": "stdout",
     "output_type": "stream",
     "text": [
      "alpha      1.0\n",
      "epsilon    0.1\n",
      "Name: 2, dtype: float64\n",
      "1.0\n"
     ]
    },
    {
     "name": "stderr",
     "output_type": "stream",
     "text": []
    },
    {
     "name": "stdout",
     "output_type": "stream",
     "text": [
      "alpha      1.0\n",
      "epsilon    0.1\n",
      "Name: 2, dtype: float64\n",
      "1.0\n"
     ]
    },
    {
     "name": "stderr",
     "output_type": "stream",
     "text": []
    },
    {
     "name": "stdout",
     "output_type": "stream",
     "text": [
      "alpha      1.0\n",
      "epsilon    0.1\n",
      "Name: 2, dtype: float64\n",
      "1.0\n"
     ]
    },
    {
     "name": "stderr",
     "output_type": "stream",
     "text": []
    },
    {
     "name": "stdout",
     "output_type": "stream",
     "text": [
      "alpha      1.0\n",
      "epsilon    0.1\n",
      "Name: 2, dtype: float64\n",
      "1.0\n"
     ]
    },
    {
     "name": "stderr",
     "output_type": "stream",
     "text": []
    },
    {
     "name": "stdout",
     "output_type": "stream",
     "text": [
      "alpha      1.0\n",
      "epsilon    0.1\n",
      "Name: 2, dtype: float64\n",
      "1.0\n"
     ]
    },
    {
     "name": "stderr",
     "output_type": "stream",
     "text": []
    },
    {
     "name": "stdout",
     "output_type": "stream",
     "text": [
      "alpha      1.0\n",
      "epsilon    0.1\n",
      "Name: 2, dtype: float64\n",
      "1.0\n"
     ]
    },
    {
     "name": "stderr",
     "output_type": "stream",
     "text": []
    },
    {
     "name": "stdout",
     "output_type": "stream",
     "text": [
      "alpha      1.0\n",
      "epsilon    0.1\n",
      "Name: 2, dtype: float64\n",
      "1.0\n"
     ]
    },
    {
     "name": "stderr",
     "output_type": "stream",
     "text": []
    },
    {
     "name": "stdout",
     "output_type": "stream",
     "text": [
      "alpha      1.0\n",
      "epsilon    0.1\n",
      "Name: 2, dtype: float64\n",
      "1.0\n"
     ]
    },
    {
     "name": "stderr",
     "output_type": "stream",
     "text": [
      "100%|██████████| 20/20 [00:04<00:00,  4.20it/s]\n",
      " 75%|███████▌  | 3/4 [00:14<00:04,  4.74s/it]"
     ]
    },
    {
     "name": "stdout",
     "output_type": "stream",
     "text": [
      "100.0 121.0\n"
     ]
    },
    {
     "name": "stderr",
     "output_type": "stream",
     "text": []
    },
    {
     "name": "stdout",
     "output_type": "stream",
     "text": [
      "alpha      1.0\n",
      "epsilon    1.0\n",
      "Name: 3, dtype: float64\n",
      "1.0\n"
     ]
    },
    {
     "name": "stderr",
     "output_type": "stream",
     "text": []
    },
    {
     "name": "stdout",
     "output_type": "stream",
     "text": [
      "alpha      1.0\n",
      "epsilon    1.0\n",
      "Name: 3, dtype: float64\n",
      "1.0\n"
     ]
    },
    {
     "name": "stderr",
     "output_type": "stream",
     "text": []
    },
    {
     "name": "stdout",
     "output_type": "stream",
     "text": [
      "alpha      1.0\n",
      "epsilon    1.0\n",
      "Name: 3, dtype: float64\n",
      "1.0\n"
     ]
    },
    {
     "name": "stderr",
     "output_type": "stream",
     "text": []
    },
    {
     "name": "stdout",
     "output_type": "stream",
     "text": [
      "alpha      1.0\n",
      "epsilon    1.0\n",
      "Name: 3, dtype: float64\n",
      "1.0\n"
     ]
    },
    {
     "name": "stderr",
     "output_type": "stream",
     "text": []
    },
    {
     "name": "stdout",
     "output_type": "stream",
     "text": [
      "alpha      1.0\n",
      "epsilon    1.0\n",
      "Name: 3, dtype: float64\n",
      "1.0\n"
     ]
    },
    {
     "name": "stderr",
     "output_type": "stream",
     "text": []
    },
    {
     "name": "stdout",
     "output_type": "stream",
     "text": [
      "alpha      1.0\n",
      "epsilon    1.0\n",
      "Name: 3, dtype: float64\n",
      "1.0\n"
     ]
    },
    {
     "name": "stderr",
     "output_type": "stream",
     "text": []
    },
    {
     "name": "stdout",
     "output_type": "stream",
     "text": [
      "alpha      1.0\n",
      "epsilon    1.0\n",
      "Name: 3, dtype: float64\n",
      "1.0\n"
     ]
    },
    {
     "name": "stderr",
     "output_type": "stream",
     "text": []
    },
    {
     "name": "stdout",
     "output_type": "stream",
     "text": [
      "alpha      1.0\n",
      "epsilon    1.0\n",
      "Name: 3, dtype: float64\n",
      "1.0\n"
     ]
    },
    {
     "name": "stderr",
     "output_type": "stream",
     "text": []
    },
    {
     "name": "stdout",
     "output_type": "stream",
     "text": [
      "alpha      1.0\n",
      "epsilon    1.0\n",
      "Name: 3, dtype: float64\n",
      "1.0\n"
     ]
    },
    {
     "name": "stderr",
     "output_type": "stream",
     "text": []
    },
    {
     "name": "stdout",
     "output_type": "stream",
     "text": [
      "alpha      1.0\n",
      "epsilon    1.0\n",
      "Name: 3, dtype: float64\n",
      "1.0\n"
     ]
    },
    {
     "name": "stderr",
     "output_type": "stream",
     "text": []
    },
    {
     "name": "stdout",
     "output_type": "stream",
     "text": [
      "alpha      1.0\n",
      "epsilon    1.0\n",
      "Name: 3, dtype: float64\n",
      "1.0\n"
     ]
    },
    {
     "name": "stderr",
     "output_type": "stream",
     "text": []
    },
    {
     "name": "stdout",
     "output_type": "stream",
     "text": [
      "alpha      1.0\n",
      "epsilon    1.0\n",
      "Name: 3, dtype: float64\n",
      "1.0\n"
     ]
    },
    {
     "name": "stderr",
     "output_type": "stream",
     "text": []
    },
    {
     "name": "stdout",
     "output_type": "stream",
     "text": [
      "alpha      1.0\n",
      "epsilon    1.0\n",
      "Name: 3, dtype: float64\n",
      "1.0\n"
     ]
    },
    {
     "name": "stderr",
     "output_type": "stream",
     "text": []
    },
    {
     "name": "stdout",
     "output_type": "stream",
     "text": [
      "alpha      1.0\n",
      "epsilon    1.0\n",
      "Name: 3, dtype: float64\n",
      "1.0\n"
     ]
    },
    {
     "name": "stderr",
     "output_type": "stream",
     "text": []
    },
    {
     "name": "stdout",
     "output_type": "stream",
     "text": [
      "alpha      1.0\n",
      "epsilon    1.0\n",
      "Name: 3, dtype: float64\n",
      "1.0\n"
     ]
    },
    {
     "name": "stderr",
     "output_type": "stream",
     "text": []
    },
    {
     "name": "stdout",
     "output_type": "stream",
     "text": [
      "alpha      1.0\n",
      "epsilon    1.0\n",
      "Name: 3, dtype: float64\n",
      "1.0\n"
     ]
    },
    {
     "name": "stderr",
     "output_type": "stream",
     "text": []
    },
    {
     "name": "stdout",
     "output_type": "stream",
     "text": [
      "alpha      1.0\n",
      "epsilon    1.0\n",
      "Name: 3, dtype: float64\n",
      "1.0\n"
     ]
    },
    {
     "name": "stderr",
     "output_type": "stream",
     "text": []
    },
    {
     "name": "stdout",
     "output_type": "stream",
     "text": [
      "alpha      1.0\n",
      "epsilon    1.0\n",
      "Name: 3, dtype: float64\n",
      "1.0\n"
     ]
    },
    {
     "name": "stderr",
     "output_type": "stream",
     "text": []
    },
    {
     "name": "stdout",
     "output_type": "stream",
     "text": [
      "alpha      1.0\n",
      "epsilon    1.0\n",
      "Name: 3, dtype: float64\n",
      "1.0\n"
     ]
    },
    {
     "name": "stderr",
     "output_type": "stream",
     "text": []
    },
    {
     "name": "stdout",
     "output_type": "stream",
     "text": [
      "alpha      1.0\n",
      "epsilon    1.0\n",
      "Name: 3, dtype: float64\n",
      "1.0\n"
     ]
    },
    {
     "name": "stderr",
     "output_type": "stream",
     "text": [
      "100%|██████████| 20/20 [00:04<00:00,  4.15it/s]\n",
      "100%|██████████| 4/4 [00:19<00:00,  4.76s/it]"
     ]
    },
    {
     "name": "stdout",
     "output_type": "stream",
     "text": [
      "100.0 121.0\n",
      "   alpha  epsilon  accuracy  mean_episode_length\n",
      "0    0.1      0.1     100.0                121.0\n",
      "1    0.1      1.0     100.0                121.0\n",
      "2    1.0      0.1     100.0                121.0\n",
      "3    1.0      1.0     100.0                121.0\n"
     ]
    },
    {
     "name": "stderr",
     "output_type": "stream",
     "text": [
      "\n"
     ]
    }
   ],
   "source": [
    "max_steps = 120\n",
    "num_episodes = 20\n",
    "\n",
    "param_grid = {\n",
    "    'alpha': [0.1, 1.0],\n",
    "    'epsilon': [0.1, 1.0]\n",
    "    }\n",
    "\n",
    "param_grid_out = pd.DataFrame(ParameterGrid(param_grid))\n",
    "\n",
    "def get_results_from_grid_row(params):\n",
    "    q_values_all_experiments, rewards_all_experiments, episode_lengths, selected_actions, accuracy = qLearningExperiment(adjust_rewards_noisy, params=params)\n",
    "    mean_episode_length = np.mean(episode_lengths)\n",
    "    print(accuracy, mean_episode_length) \n",
    "\n",
    "    return accuracy, mean_episode_length\n",
    "\n",
    "for i, params in tqdm(param_grid_out.iterrows(), total=param_grid_out.shape[0]):\n",
    "    accuracy, mean_episode_length = get_results_from_grid_row(params)\n",
    "    param_grid_out['accuracy'] = accuracy\n",
    "    param_grid_out['mean_episode_length'] = mean_episode_length\n",
    "    # display.clear_output()\n",
    "\n",
    "print(param_grid_out)    "
   ]
  },
  {
   "cell_type": "markdown",
   "metadata": {},
   "source": [
    "# Q-value of \"true\" level compared accross different reward techniques"
   ]
  },
  {
   "cell_type": "code",
   "execution_count": null,
   "metadata": {},
   "outputs": [],
   "source": [
    "#TODO:\n",
    "# What if we reset the state to the original one, every 10 steps, and that would be our episode?\n",
    "# -> keep the q-values, reset the parameters epsilon, learning rate, etc."
   ]
  },
  {
   "cell_type": "code",
   "execution_count": null,
   "metadata": {},
   "outputs": [
    {
     "data": {
      "text/plain": [
       "<matplotlib.axes._subplots.AxesSubplot at 0x11e828f70>"
      ]
     },
     "execution_count": 96,
     "metadata": {},
     "output_type": "execute_result"
    },
    {
     "data": {
      "image/png": "[encoded data removed]",
      "text/plain": [
       "<Figure size 432x288 with 1 Axes>"
      ]
     },
     "metadata": {
      "needs_background": "light"
     },
     "output_type": "display_data"
    }
   ],
   "source": [
    "pd.DataFrame(rewards_all_experiments).T.plot()"
   ]
  },
  {
   "cell_type": "code",
   "execution_count": null,
   "metadata": {},
   "outputs": [
    {
     "ename": "KeyError",
     "evalue": "2",
     "output_type": "error",
     "traceback": [
      "\u001b[0;31m---------------------------------------------------------------------------\u001b[0m",
      "\u001b[0;31mKeyError\u001b[0m                                  Traceback (most recent call last)",
      "File \u001b[0;32m/opt/homebrew/Caskroom/miniforge/base/lib/python3.9/site-packages/pandas/core/indexes/base.py:3621\u001b[0m, in \u001b[0;36mIndex.get_loc\u001b[0;34m(self, key, method, tolerance)\u001b[0m\n\u001b[1;32m   3620\u001b[0m \u001b[39mtry\u001b[39;00m:\n\u001b[0;32m-> 3621\u001b[0m     \u001b[39mreturn\u001b[39;00m \u001b[39mself\u001b[39;49m\u001b[39m.\u001b[39;49m_engine\u001b[39m.\u001b[39;49mget_loc(casted_key)\n\u001b[1;32m   3622\u001b[0m \u001b[39mexcept\u001b[39;00m \u001b[39mKeyError\u001b[39;00m \u001b[39mas\u001b[39;00m err:\n",
      "File \u001b[0;32m/opt/homebrew/Caskroom/miniforge/base/lib/python3.9/site-packages/pandas/_libs/index.pyx:136\u001b[0m, in \u001b[0;36mpandas._libs.index.IndexEngine.get_loc\u001b[0;34m()\u001b[0m\n",
      "File \u001b[0;32m/opt/homebrew/Caskroom/miniforge/base/lib/python3.9/site-packages/pandas/_libs/index.pyx:163\u001b[0m, in \u001b[0;36mpandas._libs.index.IndexEngine.get_loc\u001b[0;34m()\u001b[0m\n",
      "File \u001b[0;32mpandas/_libs/hashtable_class_helper.pxi:5198\u001b[0m, in \u001b[0;36mpandas._libs.hashtable.PyObjectHashTable.get_item\u001b[0;34m()\u001b[0m\n",
      "File \u001b[0;32mpandas/_libs/hashtable_class_helper.pxi:5206\u001b[0m, in \u001b[0;36mpandas._libs.hashtable.PyObjectHashTable.get_item\u001b[0;34m()\u001b[0m\n",
      "\u001b[0;31mKeyError\u001b[0m: 2",
      "\nThe above exception was the direct cause of the following exception:\n",
      "\u001b[0;31mKeyError\u001b[0m                                  Traceback (most recent call last)",
      "\u001b[1;32m/Users/schnuckiputz/other/git/2022-CHI-neuroadaptive-haptics/run_experiment_notebook.ipynb Cell 45\u001b[0m in \u001b[0;36m<module>\u001b[0;34m\u001b[0m\n\u001b[1;32m      <a href='vscode-notebook-cell:/Users/schnuckiputz/other/git/2022-CHI-neuroadaptive-haptics/run_experiment_notebook.ipynb#X61sZmlsZQ%3D%3D?line=0'>1</a>\u001b[0m pd\u001b[39m.\u001b[39mDataFrame([\n\u001b[0;32m----> <a href='vscode-notebook-cell:/Users/schnuckiputz/other/git/2022-CHI-neuroadaptive-haptics/run_experiment_notebook.ipynb#X61sZmlsZQ%3D%3D?line=1'>2</a>\u001b[0m     pd\u001b[39m.\u001b[39;49mDataFrame(all_chart_values[\u001b[39m0\u001b[39;49m])[\u001b[39m2\u001b[39;49m],\n\u001b[1;32m      <a href='vscode-notebook-cell:/Users/schnuckiputz/other/git/2022-CHI-neuroadaptive-haptics/run_experiment_notebook.ipynb#X61sZmlsZQ%3D%3D?line=2'>3</a>\u001b[0m     pd\u001b[39m.\u001b[39mDataFrame(all_chart_values[\u001b[39m1\u001b[39m])[\u001b[39m2\u001b[39m],\n\u001b[1;32m      <a href='vscode-notebook-cell:/Users/schnuckiputz/other/git/2022-CHI-neuroadaptive-haptics/run_experiment_notebook.ipynb#X61sZmlsZQ%3D%3D?line=3'>4</a>\u001b[0m     pd\u001b[39m.\u001b[39mDataFrame(all_chart_values[\u001b[39m2\u001b[39m])[\u001b[39m2\u001b[39m],\n\u001b[1;32m      <a href='vscode-notebook-cell:/Users/schnuckiputz/other/git/2022-CHI-neuroadaptive-haptics/run_experiment_notebook.ipynb#X61sZmlsZQ%3D%3D?line=4'>5</a>\u001b[0m     pd\u001b[39m.\u001b[39mDataFrame(all_chart_values[\u001b[39m3\u001b[39m])[\u001b[39m2\u001b[39m],\n\u001b[1;32m      <a href='vscode-notebook-cell:/Users/schnuckiputz/other/git/2022-CHI-neuroadaptive-haptics/run_experiment_notebook.ipynb#X61sZmlsZQ%3D%3D?line=5'>6</a>\u001b[0m     ])\u001b[39m.\u001b[39mT\u001b[39m.\u001b[39mplot()\n",
      "File \u001b[0;32m/opt/homebrew/Caskroom/miniforge/base/lib/python3.9/site-packages/pandas/core/frame.py:3506\u001b[0m, in \u001b[0;36mDataFrame.__getitem__\u001b[0;34m(self, key)\u001b[0m\n\u001b[1;32m   3504\u001b[0m \u001b[39mif\u001b[39;00m \u001b[39mself\u001b[39m\u001b[39m.\u001b[39mcolumns\u001b[39m.\u001b[39mnlevels \u001b[39m>\u001b[39m \u001b[39m1\u001b[39m:\n\u001b[1;32m   3505\u001b[0m     \u001b[39mreturn\u001b[39;00m \u001b[39mself\u001b[39m\u001b[39m.\u001b[39m_getitem_multilevel(key)\n\u001b[0;32m-> 3506\u001b[0m indexer \u001b[39m=\u001b[39m \u001b[39mself\u001b[39;49m\u001b[39m.\u001b[39;49mcolumns\u001b[39m.\u001b[39;49mget_loc(key)\n\u001b[1;32m   3507\u001b[0m \u001b[39mif\u001b[39;00m is_integer(indexer):\n\u001b[1;32m   3508\u001b[0m     indexer \u001b[39m=\u001b[39m [indexer]\n",
      "File \u001b[0;32m/opt/homebrew/Caskroom/miniforge/base/lib/python3.9/site-packages/pandas/core/indexes/base.py:3623\u001b[0m, in \u001b[0;36mIndex.get_loc\u001b[0;34m(self, key, method, tolerance)\u001b[0m\n\u001b[1;32m   3621\u001b[0m     \u001b[39mreturn\u001b[39;00m \u001b[39mself\u001b[39m\u001b[39m.\u001b[39m_engine\u001b[39m.\u001b[39mget_loc(casted_key)\n\u001b[1;32m   3622\u001b[0m \u001b[39mexcept\u001b[39;00m \u001b[39mKeyError\u001b[39;00m \u001b[39mas\u001b[39;00m err:\n\u001b[0;32m-> 3623\u001b[0m     \u001b[39mraise\u001b[39;00m \u001b[39mKeyError\u001b[39;00m(key) \u001b[39mfrom\u001b[39;00m \u001b[39merr\u001b[39;00m\n\u001b[1;32m   3624\u001b[0m \u001b[39mexcept\u001b[39;00m \u001b[39mTypeError\u001b[39;00m:\n\u001b[1;32m   3625\u001b[0m     \u001b[39m# If we have a listlike key, _check_indexing_error will raise\u001b[39;00m\n\u001b[1;32m   3626\u001b[0m     \u001b[39m#  InvalidIndexError. Otherwise we fall through and re-raise\u001b[39;00m\n\u001b[1;32m   3627\u001b[0m     \u001b[39m#  the TypeError.\u001b[39;00m\n\u001b[1;32m   3628\u001b[0m     \u001b[39mself\u001b[39m\u001b[39m.\u001b[39m_check_indexing_error(key)\n",
      "\u001b[0;31mKeyError\u001b[0m: 2"
     ]
    }
   ],
   "source": [
    "pd.DataFrame([\n",
    "    pd.DataFrame(all_chart_values[0])[2],\n",
    "    pd.DataFrame(all_chart_values[1])[2],\n",
    "    pd.DataFrame(all_chart_values[2])[2],\n",
    "    pd.DataFrame(all_chart_values[3])[2],\n",
    "    ]).T.plot()"
   ]
  },
  {
   "cell_type": "code",
   "execution_count": null,
   "metadata": {},
   "outputs": [
    {
     "data": {
      "text/plain": [
       "[<matplotlib.lines.Line2D at 0x146e9c670>,\n",
       " <matplotlib.lines.Line2D at 0x146e9c700>,\n",
       " <matplotlib.lines.Line2D at 0x146e9c7f0>,\n",
       " <matplotlib.lines.Line2D at 0x146e9c8b0>,\n",
       " <matplotlib.lines.Line2D at 0x146e9c970>,\n",
       " <matplotlib.lines.Line2D at 0x146e9ca30>,\n",
       " <matplotlib.lines.Line2D at 0x146e9caf0>]"
      ]
     },
     "execution_count": 33,
     "metadata": {},
     "output_type": "execute_result"
    },
    {
     "data": {
      "image/png": "[encoded data removed]",
      "text/plain": [
       "<Figure size 288x1008 with 4 Axes>"
      ]
     },
     "metadata": {
      "needs_background": "light"
     },
     "output_type": "display_data"
    }
   ],
   "source": [
    "fig = plt.gcf()\n",
    "fig.set_size_inches(4, 14)\n",
    "plt.subplot(4, 1, 1)\n",
    "plt.plot(all_chart_values[0])\n",
    "plt.subplot(4, 1, 2)\n",
    "plt.plot(all_chart_values[1])\n",
    "plt.subplot(4, 1, 3)\n",
    "plt.plot(all_chart_values[2])\n",
    "plt.subplot(4, 1, 4)\n",
    "plt.plot(all_chart_values[3])\n"
   ]
  },
  {
   "cell_type": "markdown",
   "metadata": {},
   "source": [
    "# Epsilon test"
   ]
  },
  {
   "cell_type": "code",
   "execution_count": null,
   "metadata": {},
   "outputs": [
    {
     "name": "stdout",
     "output_type": "stream",
     "text": [
      "0.5\n"
     ]
    },
    {
     "data": {
      "text/plain": [
       "[<matplotlib.lines.Line2D at 0x14b8302b0>]"
      ]
     },
     "execution_count": 34,
     "metadata": {},
     "output_type": "execute_result"
    },
    {
     "data": {
      "image/png": "[encoded data removed]",
      "text/plain": [
       "<Figure size 432x288 with 1 Axes>"
      ]
     },
     "metadata": {
      "needs_background": "light"
     },
     "output_type": "display_data"
    }
   ],
   "source": [
    "agent = UCBQAgent(num_states=num_states, num_actions=num_states)\n",
    "epsilons = []\n",
    "for t in range(200):\n",
    "    if agent.epsilon > agent.epsilon_min:\n",
    "        epsilons.append(agent.epsilon)\n",
    "        agent.epsilon -= agent.epsilon_decay(t)\n",
    "\n",
    "plt.plot(epsilons)"
   ]
  }
 ],
 "metadata": {
  "kernelspec": {
   "display_name": "base",
   "language": "python",
   "name": "python3"
  },
  "language_info": {
   "codemirror_mode": {
    "name": "ipython",
    "version": 3
   },
   "file_extension": ".py",
   "mimetype": "text/x-python",
   "name": "python",
   "nbconvert_exporter": "python",
   "pygments_lexer": "ipython3",
   "version": "3.9.7"
  },
  "orig_nbformat": 4
 },
 "nbformat": 4,
 "nbformat_minor": 2
}
