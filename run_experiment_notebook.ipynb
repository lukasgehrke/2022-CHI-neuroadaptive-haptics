{
 "cells": [
  {
   "cell_type": "code",
   "execution_count": 226,
   "metadata": {},
   "outputs": [],
   "source": [
    "#TODO:\n",
    "# What if we reset the state to the original one, every 10 steps, and that would be our episode?"
   ]
  },
  {
   "cell_type": "markdown",
   "metadata": {},
   "source": [
    "# Scripts"
   ]
  },
  {
   "cell_type": "code",
   "execution_count": 227,
   "metadata": {},
   "outputs": [],
   "source": [
    "import argparse\n",
    "from ucbq_agent import UCBQAgent\n",
    "from ucbq_environment import ModifiedRandomEnvironment\n",
    "import time\n",
    "import numpy as np"
   ]
  },
  {
   "cell_type": "code",
   "execution_count": 228,
   "metadata": {},
   "outputs": [],
   "source": [
    "# TODO:\n",
    "# how do we set these?\n",
    "ERR_P = 0.2\n",
    "ERR_N = 0.4\n",
    "\n",
    "# C = [\n",
    "#     [0.6, 0.4],\n",
    "#     [0.2, 0.8]\n",
    "# ]\n",
    "\n",
    "class PreProcessor:\n",
    "    \"Add noise to reward\"\n",
    "    def __init__(self, e_=0.1, e=0.3, normal=True, epsilon=1e-6):\n",
    "        assert (np.abs(e_ + e - 1) > epsilon)\n",
    "        self.normal = normal\n",
    "        self.e_ = e_\n",
    "        self.e = e\n",
    "        self.epsilon = 1e-6\n",
    "        # These are the noisy returns that are returned\n",
    "        self.r1 = -1\n",
    "        self.r2 = 0\n",
    "\n",
    "    def noisy_reward(self, reward):\n",
    "        n = np.random.random()\n",
    "        # If we hit a negative reward, conver it to a poisitive\n",
    "        # with a given prob. \n",
    "        # Not sure why the `< epsilone is here`\n",
    "        # if np.abs(reward - self.r1) < self.epsilon:\n",
    "        if reward == self.r1:\n",
    "            if (n < self.e_):\n",
    "                return self.r2\n",
    "        else:\n",
    "            if (n < self.e):\n",
    "                return self.r1\n",
    "        return reward\n",
    "\n",
    "    def process_reward(self, reward):\n",
    "        if self.normal:\n",
    "            return reward\n",
    "\n",
    "        r = self.noisy_reward(reward)\n",
    "        return r\n",
    "    \n",
    "pre_processor = PreProcessor(normal=False, e_=ERR_N, e=ERR_P)"
   ]
  },
  {
   "cell_type": "code",
   "execution_count": 229,
   "metadata": {},
   "outputs": [],
   "source": [
    "class PostProcessor:\n",
    "    \"\"\"\n",
    "    Learning from surrogate reward\n",
    "    following paper \"Learning from noisy labels\"\n",
    "    \"\"\"\n",
    "    def __init__(self, smooth=False, surrogate=True,reverse=False, epsilon=1e-6):\n",
    "        self.surrogate = surrogate\n",
    "        self.smooth = smooth\n",
    "        self.r_sets = {}\n",
    "        self.r_smooth = {}\n",
    "        self.r1 = -1\n",
    "        self.r2 = 0\n",
    "        self.counter = 0\n",
    "        self.C = np.identity(2)\n",
    "        self.epsilon = epsilon\n",
    "        self.reverse = reverse\n",
    "\n",
    "    def process_reward(self, reward):\n",
    "        self.estimate_C()\n",
    "        self.e_ = self.C[0, 1]\n",
    "        self.e = self.C[1, 0]\n",
    "\n",
    "        if self.surrogate:\n",
    "            if np.abs(reward - self.r1) < self.epsilon:\n",
    "                reward = ((1 - self.e) * self.r1 - self.e_ * self.r2) / (1 - self.e_ - self.e)\n",
    "            else:\n",
    "                reward = ((1 - self.e_) * self.r2 - self.e * self.r1) / (1 - self.e_ - self.e)\n",
    "\n",
    "        return reward\n",
    "\n",
    "    def estimate_C(self):\n",
    "        if self.counter >= 100 and self.counter % 100 == 0:\n",
    "            e_ = 0; e = 0\n",
    "            # a = 0; b = 0\n",
    "            # prob = 0\n",
    "\n",
    "            self.count1 = 0\n",
    "            self.count2 = 0\n",
    "            for k in self.r_sets.keys():\n",
    "                freq_count = collections.Counter(self.r_sets[k])\n",
    "                if self.reverse:\n",
    "                    truth, count = freq_count.most_common()[-1]\n",
    "                else: truth, count = freq_count.most_common()[0]\n",
    "                if truth == self.r1:\n",
    "                    self.count1 += len(self.r_sets[k])\n",
    "                else:\n",
    "                    self.count2 += len(self.r_sets[k])\n",
    "\n",
    "            for k in self.r_sets.keys():\n",
    "                freq_count = collections.Counter(self.r_sets[k])\n",
    "                # if self.e_ > 0.05:\n",
    "                #    self.reverse = True\n",
    "                #    self.counter = 0; self.r_sets = {}\n",
    "                #    break\n",
    "\n",
    "                if self.reverse:\n",
    "                    truth, count = freq_count.most_common()[-1]\n",
    "                else:\n",
    "                    truth, count = freq_count.most_common()[0]\n",
    "                prob_correct = float(count) / len(self.r_sets[k])\n",
    "                if truth == self.r1:\n",
    "                    if self.count1 > 2000:\n",
    "                        prob_k = float(len(self.r_sets[k])) / self.count1\n",
    "                        e_ += prob_k * (1 - prob_correct)\n",
    "                    else: e_ = 0.0\n",
    "                    # a += 2 * prob_k * prob_correct\n",
    "                else:\n",
    "                    prob_k = float(len(self.r_sets[k])) / self.count2\n",
    "                    e += prob_k * (1 - prob_correct)\n",
    "                    # b += 2 * prob_k * prob_correct\n",
    "\n",
    "            # print prob\n",
    "            # log_string(str(e_) + \" \" + str(e))\n",
    "            self.C = np.array([[1-e_, e_], [e, 1-e]])\n",
    "\n",
    "            # if self.counter >= 10000:\n",
    "            #     self.counter = 0\n",
    "            #    self.r_sets = {}\n",
    "\n",
    "            # print self.C\n",
    "\n",
    "    def smooth_reward(self, state, action, reward):\n",
    "        if self.smooth:\n",
    "            if (state, action) in self.r_smooth:\n",
    "                if len(self.r_smooth[(state, action)]) >= 100:\n",
    "                    self.r_smooth[(state, action)].pop(0)\n",
    "                    self.r_smooth[(state, action)].append(reward)\n",
    "                    return sum(self.r_smooth[(state, action)]) / float(len(self.r_smooth[(state, action)]))\n",
    "                else:\n",
    "                    self.r_smooth[(state, action)].append(reward)\n",
    "            else:\n",
    "                self.r_smooth[(state, action)] = [reward]\n",
    "\n",
    "        return reward\n",
    "\n",
    "    def collect(self, state, action, reward):\n",
    "        if (state, action) in self.r_sets:\n",
    "            self.r_sets[(state, action)].append(reward)\n",
    "        else:\n",
    "            self.r_sets[(state, action)] = [reward]\n",
    "        self.counter += 1\n",
    "\n",
    "#TODO:\n",
    "# Not sure if we need smoothing\n",
    "# post_processor = PostProcessor(smooth=True, surrogate=True)"
   ]
  },
  {
   "cell_type": "code",
   "execution_count": 230,
   "metadata": {},
   "outputs": [],
   "source": [
    "all_chart_values = []"
   ]
  },
  {
   "cell_type": "markdown",
   "metadata": {},
   "source": [
    "# Params"
   ]
  },
  {
   "cell_type": "code",
   "execution_count": 231,
   "metadata": {},
   "outputs": [],
   "source": [
    "# Run the script with\n",
    "# `python run_experiment.py -t 1`\n",
    "# This will run a simulation trial, with a total length of 1 seconds.\n",
    "# Participant answere will be given every 0.001 to 0.002 seconds.\n",
    "# The participant \"ture\" level of feedback is 2.\n",
    "\n",
    "# The script will output:\n",
    "# - A list of actions taken, in the format: \n",
    "# `elapsed_time > action_taken -> reward_received`\n",
    "# - The Q-table at the end of the trial,\n",
    "# with rows representing states and columns representing acions\n",
    "# - The total count of given actions taken in a given state, \n",
    "# with rows representing states and columns representing acions\n",
    "# - Total timesteps (actions) taken\n",
    "# - Total reward obtained\n",
    "\n",
    "# The agent is rewrded `-1` for guessing the wrong feedback level (not 2),\n",
    "# and `0` for guessing correctly\n",
    "\n",
    "# parser = argparse.ArgumentParser()\n",
    "# parser.add_argument(\"-t\", \"--TimeOut\", help = \"Stop script after n seconds\")\n",
    "# args = parser.parse_args()\n",
    "\n",
    "max_steps = 1000\n",
    "\n",
    "timeOut = None\n",
    "num_states = 10\n",
    "start_state = 1"
   ]
  },
  {
   "cell_type": "code",
   "execution_count": 232,
   "metadata": {},
   "outputs": [],
   "source": [
    "import matplotlib.pyplot as plt"
   ]
  },
  {
   "cell_type": "code",
   "execution_count": 233,
   "metadata": {},
   "outputs": [],
   "source": [
    "def runner(adjust_rewards=None):\n",
    "    agent = UCBQAgent(num_states=num_states, num_actions=num_states)\n",
    "    env = ModifiedRandomEnvironment(current_state = start_state, num_states=num_states)\n",
    "\n",
    "    start_time = time.time()\n",
    "    t = 0\n",
    "\n",
    "    episode_rewards = 0\n",
    "\n",
    "    q_values_for_chart = []\n",
    "    rewards = []\n",
    "\n",
    "    state = start_state\n",
    "\n",
    "    while True:\n",
    "        elapsed_time = time.time() - start_time\n",
    "\n",
    "        # Auto shut down scipt \n",
    "        if bool(timeOut) and (elapsed_time > float(timeOut)):\n",
    "            break\n",
    "\n",
    "        if t > max_steps:\n",
    "            break\n",
    "\n",
    "        action = agent.choose_action(state) \n",
    "        # TODO: \n",
    "        # send_action_to_stream\n",
    "        reward, next_state = env.step(action)\n",
    "        \n",
    "        rewards.append(reward)\n",
    "\n",
    "        if adjust_rewards:\n",
    "            reward = adjust_rewards(reward, state, action)\n",
    "        \n",
    "        # print(f\"{round(elapsed_time, 2)} > {action} -> {reward}\")\n",
    "        \n",
    "        agent.learn(state, action, reward, next_state)\n",
    "        state = next_state\n",
    "\n",
    "        episode_rewards += reward\n",
    "\n",
    "        t += 1\n",
    "\n",
    "        # Decay epsilon every 10 steps\n",
    "        # TODO: not sure if this is valid theoretically\n",
    "        if t % 10 == 0:\n",
    "            if agent.epsilon > agent.epsilon_min:\n",
    "                agent.epsilon *= agent.epsilon_decay # Decay epsilon\n",
    "            \n",
    "        if t % 10 == 0:\n",
    "            q_values_for_chart.append(np.around(np.sum(agent.Q, axis=0), decimals=4))\n",
    "\n",
    "    # print(f'Q-table:')\n",
    "    # print(f'{np.around(agent.Q, decimals=4)}')\n",
    "    # print(f'Number of times action was taken:')\n",
    "    # print(f'{agent.N}')\n",
    "    # print(f'Total timesteps: {sum(sum(agent.N)) - 100}')\n",
    "    # print(f'Episode rewards: {episode_rewards}')\n",
    "\n",
    "    # # plt.plot(q_values_for_chart)\n",
    "    # fig = plt.gcf()\n",
    "    # fig.set_size_inches(18, 4)\n",
    "    # plt.plot(rewards)\n",
    "\n",
    "    all_chart_values.append(q_values_for_chart)\n",
    "\n",
    "    return q_values_for_chart, rewards"
   ]
  },
  {
   "cell_type": "code",
   "execution_count": 234,
   "metadata": {},
   "outputs": [],
   "source": [
    "from tqdm import tqdm "
   ]
  },
  {
   "cell_type": "code",
   "execution_count": 235,
   "metadata": {},
   "outputs": [],
   "source": [
    "import pandas as pd"
   ]
  },
  {
   "cell_type": "code",
   "execution_count": 236,
   "metadata": {},
   "outputs": [],
   "source": [
    "num_episodes = 1\n",
    "\n",
    "def plot_mean_q_values(difference_fn=None):\n",
    "    q_values_all_experiments = []\n",
    "\n",
    "    for i in tqdm(range(num_episodes)):\n",
    "        q_values_for_chart, rewards = runner(difference_fn)\n",
    "        q_values_all_experiments.append(q_values_for_chart)\n",
    "\n",
    "    cumulative_sum_rewards = np.cumsum(rewards)\n",
    "\n",
    "    time_steps = np.arange(1, len(rewards) + 1)\n",
    "    mean_rewards = cumulative_sum_rewards / time_steps\n",
    "    pd.DataFrame(mean_rewards).plot()\n",
    "\n",
    "    mean_matrix = np.mean(q_values_all_experiments, axis=0)\n",
    "    mean_dataframe = pd.DataFrame(mean_matrix)\n",
    "    mean_dataframe.plot()"
   ]
  },
  {
   "cell_type": "markdown",
   "metadata": {},
   "source": [
    "# Real rewards UCB Q-learning"
   ]
  },
  {
   "cell_type": "code",
   "execution_count": 237,
   "metadata": {},
   "outputs": [],
   "source": [
    "rewards_all_experiments = []\n",
    "\n",
    "qs, rewards = runner()\n",
    "rewards_all_experiments.append(rewards)"
   ]
  },
  {
   "cell_type": "code",
   "execution_count": 238,
   "metadata": {},
   "outputs": [
    {
     "name": "stderr",
     "output_type": "stream",
     "text": [
      "100%|██████████| 1/1 [00:00<00:00, 179.44it/s]\n"
     ]
    },
    {
     "data": {
      "image/png": "[encoded data removed]",
      "text/plain": [
       "<Figure size 432x288 with 1 Axes>"
      ]
     },
     "metadata": {
      "needs_background": "light"
     },
     "output_type": "display_data"
    },
    {
     "data": {
      "image/png": "[encoded data removed]",
      "text/plain": [
       "<Figure size 432x288 with 1 Axes>"
      ]
     },
     "metadata": {
      "needs_background": "light"
     },
     "output_type": "display_data"
    }
   ],
   "source": [
    "plot_mean_q_values()"
   ]
  },
  {
   "cell_type": "markdown",
   "metadata": {},
   "source": [
    "# Noisy rewards\n",
    "- rewards are now noisy\n",
    "- q-learner hasn't changed"
   ]
  },
  {
   "cell_type": "code",
   "execution_count": 239,
   "metadata": {},
   "outputs": [],
   "source": [
    "post_processor = PostProcessor(smooth=True, surrogate=True)\n",
    "\n",
    "def adjust_rewards_noisy(reward, state, action):    \n",
    "    reward = pre_processor.process_reward(reward)\n",
    "    reward = post_processor.smooth_reward(state, action, reward)\n",
    "    return reward\n"
   ]
  },
  {
   "cell_type": "code",
   "execution_count": 240,
   "metadata": {},
   "outputs": [],
   "source": [
    "qs, rewards = runner(adjust_rewards_noisy)\n",
    "rewards_all_experiments.append(rewards)"
   ]
  },
  {
   "cell_type": "code",
   "execution_count": 241,
   "metadata": {},
   "outputs": [
    {
     "name": "stderr",
     "output_type": "stream",
     "text": [
      "100%|██████████| 1/1 [00:00<00:00, 188.92it/s]\n"
     ]
    },
    {
     "data": {
      "image/png": "[encoded data removed]",
      "text/plain": [
       "<Figure size 432x288 with 1 Axes>"
      ]
     },
     "metadata": {
      "needs_background": "light"
     },
     "output_type": "display_data"
    },
    {
     "data": {
      "image/png": "[encoded data removed]",
      "text/plain": [
       "<Figure size 432x288 with 1 Axes>"
      ]
     },
     "metadata": {
      "needs_background": "light"
     },
     "output_type": "display_data"
    }
   ],
   "source": [
    "plot_mean_q_values(adjust_rewards_noisy)"
   ]
  },
  {
   "cell_type": "markdown",
   "metadata": {},
   "source": [
    "# Surrogate rewards"
   ]
  },
  {
   "cell_type": "code",
   "execution_count": 242,
   "metadata": {},
   "outputs": [],
   "source": [
    "import collections"
   ]
  },
  {
   "cell_type": "code",
   "execution_count": 243,
   "metadata": {},
   "outputs": [
    {
     "name": "stdout",
     "output_type": "stream",
     "text": [
      "[[1. 0.]\n",
      " [0. 1.]]\n"
     ]
    }
   ],
   "source": [
    "post_processor = PostProcessor(smooth=True, surrogate=True)\n",
    "\n",
    "def adjust_rewards_surrogate(reward, state, action):\n",
    "    \n",
    "    reward = pre_processor.process_reward(reward)\n",
    "    post_processor.collect(state, action, reward)\n",
    "    reward = post_processor.process_reward(reward)\n",
    "    reward = post_processor.smooth_reward(state, action, reward)\n",
    "    return reward\n",
    "\n",
    "runner(adjust_rewards_surrogate)\n",
    "print(post_processor.C)"
   ]
  },
  {
   "cell_type": "code",
   "execution_count": 244,
   "metadata": {},
   "outputs": [],
   "source": [
    "qs, rewards = runner(adjust_rewards_surrogate)\n",
    "rewards_all_experiments.append(rewards)"
   ]
  },
  {
   "cell_type": "code",
   "execution_count": 245,
   "metadata": {},
   "outputs": [
    {
     "name": "stderr",
     "output_type": "stream",
     "text": [
      "100%|██████████| 1/1 [00:00<00:00, 150.04it/s]\n"
     ]
    },
    {
     "data": {
      "image/png": "[encoded data removed]",
      "text/plain": [
       "<Figure size 432x288 with 1 Axes>"
      ]
     },
     "metadata": {
      "needs_background": "light"
     },
     "output_type": "display_data"
    },
    {
     "data": {
      "image/png": "[encoded data removed]",
      "text/plain": [
       "<Figure size 432x288 with 1 Axes>"
      ]
     },
     "metadata": {
      "needs_background": "light"
     },
     "output_type": "display_data"
    }
   ],
   "source": [
    "plot_mean_q_values(adjust_rewards_surrogate)"
   ]
  },
  {
   "cell_type": "markdown",
   "metadata": {},
   "source": [
    "# Custom simplified surrogate rewards"
   ]
  },
  {
   "cell_type": "code",
   "execution_count": 246,
   "metadata": {},
   "outputs": [
    {
     "name": "stdout",
     "output_type": "stream",
     "text": [
      "[[1. 0.]\n",
      " [0. 1.]]\n"
     ]
    }
   ],
   "source": [
    "#TODO\n",
    "# maybe simply removing the epsilon/w/learning rate\n",
    "# from the original code will give the same simplified result, as described\n",
    "# in the refernce paper\n",
    "\n",
    "class SimplePostProcessor(PostProcessor):\n",
    "    \"\"\"\n",
    "    Learning from surrogate reward\n",
    "    following paper \"Learning from noisy labels\"\n",
    "    \"\"\"\n",
    "    def __init__(self, smooth=False, surrogate=True,reverse=False, epsilon=1e-6):\n",
    "        self.surrogate = surrogate\n",
    "        self.smooth = smooth\n",
    "        self.r_sets = {}\n",
    "        self.r_smooth = {}\n",
    "        self.r1 = -1\n",
    "        self.r2 = 0\n",
    "        self.counter = 0\n",
    "        self.C = np.identity(2)\n",
    "        self.epsilon = epsilon\n",
    "        self.reverse = reverse\n",
    "\n",
    "    # def process_reward(self, reward):\n",
    "    #     self.estimate_C()\n",
    "    #     self.e_ = self.C[0, 1]\n",
    "    #     self.e = self.C[1, 0]\n",
    "\n",
    "    #     if self.surrogate:\n",
    "    #         if np.abs(reward - self.r1) < self.epsilon:\n",
    "    #             reward = ((1 - self.e) * self.r1 - self.e_ * self.r2) / (1 - self.e_ - self.e)\n",
    "    #         else:\n",
    "    #             reward = ((1 - self.e_) * self.r2 - self.e * self.r1) / (1 - self.e_ - self.e)\n",
    "\n",
    "    #     return reward        \n",
    "        \n",
    "    def estimate_C(self):\n",
    "        # TODO: decide on these\n",
    "        min_occurances = 10\n",
    "        min_count1 = 20\n",
    "        if self.counter >= min_occurances and self.counter % min_occurances == 0:\n",
    "            # Start estimating probabilities of error\n",
    "            e_ = 0; e = 0\n",
    "            # a = 0; b = 0\n",
    "            # prob = 0\n",
    "\n",
    "            self.count1 = 0\n",
    "            self.count2 = 0\n",
    "            for k in self.r_sets.keys():\n",
    "                freq_count = collections.Counter(self.r_sets[k])\n",
    "                # NOTE: \n",
    "                # we don't have this case where e > 0.5\n",
    "                # if self.reverse:\n",
    "                #     truth, count = freq_count.most_common()[-1]\n",
    "                # else: truth, count = freq_count.most_common()[0]\n",
    "\n",
    "                # truth = most commone reward for this (s, a)\n",
    "                truth, count = freq_count.most_common()[0]\n",
    "\n",
    "                if truth == self.r1:\n",
    "                    # Count all the times we visited (s, a) as having\n",
    "                    # the \"true\" reward\n",
    "                    # i.e. the \"true\" count of r1\n",
    "                    self.count1 += len(self.r_sets[k])\n",
    "                else:\n",
    "                    self.count2 += len(self.r_sets[k])\n",
    "\n",
    "            for k in self.r_sets.keys():\n",
    "                freq_count = collections.Counter(self.r_sets[k])\n",
    "                # if self.e_ > 0.05:\n",
    "                #    self.reverse = True\n",
    "                #    self.counter = 0; self.r_sets = {}\n",
    "                #    break\n",
    "\n",
    "                # if self.reverse:\n",
    "                #     truth, count = freq_count.most_common()[-1]\n",
    "                # else:\n",
    "                #     truth, count = freq_count.most_common()[0]\n",
    "                truth, count = freq_count.most_common()[0]\n",
    "\n",
    "                prob_correct = float(count) / len(self.r_sets[k])\n",
    "                if truth == self.r1:\n",
    "                    if self.count1 > min_count1:\n",
    "                        prob_k = float(len(self.r_sets[k])) / self.count1\n",
    "                        e_ += prob_k * (1 - prob_correct)\n",
    "                    else: e_ = 0.0\n",
    "                    # a += 2 * prob_k * prob_correct\n",
    "                else:\n",
    "                    prob_k = float(len(self.r_sets[k])) / self.count2\n",
    "                    e += prob_k * (1 - prob_correct)\n",
    "                    # b += 2 * prob_k * prob_correct\n",
    "\n",
    "            # print prob\n",
    "            # log_string(str(e_) + \" \" + str(e))\n",
    "            self.C = np.array([[1-e_, e_], [e, 1-e]])\n",
    "\n",
    "            # if self.counter >= 10000:\n",
    "            #     self.counter = 0\n",
    "            #    self.r_sets = {}\n",
    "\n",
    "            # print self.C\n",
    "\n",
    "    def collect(self, state, action, reward):\n",
    "        if (state, action) in self.r_sets:\n",
    "            self.r_sets[(state, action)].append(reward)\n",
    "        else:\n",
    "            self.r_sets[(state, action)] = [reward]\n",
    "        self.counter += 1            \n",
    "\n",
    "post_processor = SimplePostProcessor(smooth=True, surrogate=True)\n",
    "\n",
    "def adjust_rewards_surrogate_simple(reward, state, action):    \n",
    "    reward = pre_processor.process_reward(reward)\n",
    "    post_processor.collect(state, action, reward)\n",
    "    reward = post_processor.process_reward(reward)\n",
    "    reward = post_processor.smooth_reward(state, action, reward)\n",
    "    return reward\n",
    "\n",
    "runner(adjust_rewards_surrogate_simple)\n",
    "\n",
    "print(post_processor.C)"
   ]
  },
  {
   "cell_type": "code",
   "execution_count": 247,
   "metadata": {},
   "outputs": [],
   "source": [
    "qs, rewards = runner(adjust_rewards_surrogate_simple)\n",
    "rewards_all_experiments.append(rewards)"
   ]
  },
  {
   "cell_type": "code",
   "execution_count": 248,
   "metadata": {},
   "outputs": [
    {
     "name": "stderr",
     "output_type": "stream",
     "text": [
      "100%|██████████| 1/1 [00:00<00:00, 192.88it/s]\n"
     ]
    },
    {
     "data": {
      "image/png": "[encoded data removed]",
      "text/plain": [
       "<Figure size 432x288 with 1 Axes>"
      ]
     },
     "metadata": {
      "needs_background": "light"
     },
     "output_type": "display_data"
    },
    {
     "data": {
      "image/png": "[encoded data removed]",
      "text/plain": [
       "<Figure size 432x288 with 1 Axes>"
      ]
     },
     "metadata": {
      "needs_background": "light"
     },
     "output_type": "display_data"
    }
   ],
   "source": [
    "plot_mean_q_values(adjust_rewards_surrogate_simple)"
   ]
  },
  {
   "cell_type": "markdown",
   "metadata": {},
   "source": [
    "# Q-value of \"true\" level compared accross different reward techniques"
   ]
  },
  {
   "cell_type": "code",
   "execution_count": 249,
   "metadata": {},
   "outputs": [
    {
     "data": {
      "text/plain": [
       "<matplotlib.axes._subplots.AxesSubplot at 0x16dd898b0>"
      ]
     },
     "execution_count": 249,
     "metadata": {},
     "output_type": "execute_result"
    },
    {
     "data": {
      "image/png": "[encoded data removed]",
      "text/plain": [
       "<Figure size 432x288 with 1 Axes>"
      ]
     },
     "metadata": {
      "needs_background": "light"
     },
     "output_type": "display_data"
    }
   ],
   "source": [
    "pd.DataFrame(rewards_all_experiments).T.plot()"
   ]
  },
  {
   "cell_type": "code",
   "execution_count": 250,
   "metadata": {},
   "outputs": [
    {
     "ename": "KeyError",
     "evalue": "2",
     "output_type": "error",
     "traceback": [
      "\u001b[0;31m---------------------------------------------------------------------------\u001b[0m",
      "\u001b[0;31mKeyError\u001b[0m                                  Traceback (most recent call last)",
      "File \u001b[0;32m/opt/homebrew/Caskroom/miniforge/base/lib/python3.9/site-packages/pandas/core/indexes/base.py:3621\u001b[0m, in \u001b[0;36mIndex.get_loc\u001b[0;34m(self, key, method, tolerance)\u001b[0m\n\u001b[1;32m   3620\u001b[0m \u001b[39mtry\u001b[39;00m:\n\u001b[0;32m-> 3621\u001b[0m     \u001b[39mreturn\u001b[39;00m \u001b[39mself\u001b[39;49m\u001b[39m.\u001b[39;49m_engine\u001b[39m.\u001b[39;49mget_loc(casted_key)\n\u001b[1;32m   3622\u001b[0m \u001b[39mexcept\u001b[39;00m \u001b[39mKeyError\u001b[39;00m \u001b[39mas\u001b[39;00m err:\n",
      "File \u001b[0;32m/opt/homebrew/Caskroom/miniforge/base/lib/python3.9/site-packages/pandas/_libs/index.pyx:136\u001b[0m, in \u001b[0;36mpandas._libs.index.IndexEngine.get_loc\u001b[0;34m()\u001b[0m\n",
      "File \u001b[0;32m/opt/homebrew/Caskroom/miniforge/base/lib/python3.9/site-packages/pandas/_libs/index.pyx:163\u001b[0m, in \u001b[0;36mpandas._libs.index.IndexEngine.get_loc\u001b[0;34m()\u001b[0m\n",
      "File \u001b[0;32mpandas/_libs/hashtable_class_helper.pxi:5198\u001b[0m, in \u001b[0;36mpandas._libs.hashtable.PyObjectHashTable.get_item\u001b[0;34m()\u001b[0m\n",
      "File \u001b[0;32mpandas/_libs/hashtable_class_helper.pxi:5206\u001b[0m, in \u001b[0;36mpandas._libs.hashtable.PyObjectHashTable.get_item\u001b[0;34m()\u001b[0m\n",
      "\u001b[0;31mKeyError\u001b[0m: 2",
      "\nThe above exception was the direct cause of the following exception:\n",
      "\u001b[0;31mKeyError\u001b[0m                                  Traceback (most recent call last)",
      "\u001b[1;32m/Users/schnuckiputz/other/git/2022-CHI-neuroadaptive-haptics/run_experiment_notebook.ipynb Cell 32\u001b[0m in \u001b[0;36m<module>\u001b[0;34m\u001b[0m\n\u001b[1;32m      <a href='vscode-notebook-cell:/Users/schnuckiputz/other/git/2022-CHI-neuroadaptive-haptics/run_experiment_notebook.ipynb#X36sZmlsZQ%3D%3D?line=0'>1</a>\u001b[0m pd\u001b[39m.\u001b[39mDataFrame([\n\u001b[0;32m----> <a href='vscode-notebook-cell:/Users/schnuckiputz/other/git/2022-CHI-neuroadaptive-haptics/run_experiment_notebook.ipynb#X36sZmlsZQ%3D%3D?line=1'>2</a>\u001b[0m     pd\u001b[39m.\u001b[39;49mDataFrame(all_chart_values[\u001b[39m0\u001b[39;49m])[\u001b[39m2\u001b[39;49m],\n\u001b[1;32m      <a href='vscode-notebook-cell:/Users/schnuckiputz/other/git/2022-CHI-neuroadaptive-haptics/run_experiment_notebook.ipynb#X36sZmlsZQ%3D%3D?line=2'>3</a>\u001b[0m     pd\u001b[39m.\u001b[39mDataFrame(all_chart_values[\u001b[39m1\u001b[39m])[\u001b[39m2\u001b[39m],\n\u001b[1;32m      <a href='vscode-notebook-cell:/Users/schnuckiputz/other/git/2022-CHI-neuroadaptive-haptics/run_experiment_notebook.ipynb#X36sZmlsZQ%3D%3D?line=3'>4</a>\u001b[0m     pd\u001b[39m.\u001b[39mDataFrame(all_chart_values[\u001b[39m2\u001b[39m])[\u001b[39m2\u001b[39m],\n\u001b[1;32m      <a href='vscode-notebook-cell:/Users/schnuckiputz/other/git/2022-CHI-neuroadaptive-haptics/run_experiment_notebook.ipynb#X36sZmlsZQ%3D%3D?line=4'>5</a>\u001b[0m     pd\u001b[39m.\u001b[39mDataFrame(all_chart_values[\u001b[39m3\u001b[39m])[\u001b[39m2\u001b[39m],\n\u001b[1;32m      <a href='vscode-notebook-cell:/Users/schnuckiputz/other/git/2022-CHI-neuroadaptive-haptics/run_experiment_notebook.ipynb#X36sZmlsZQ%3D%3D?line=5'>6</a>\u001b[0m     ])\u001b[39m.\u001b[39mT\u001b[39m.\u001b[39mplot()\n",
      "File \u001b[0;32m/opt/homebrew/Caskroom/miniforge/base/lib/python3.9/site-packages/pandas/core/frame.py:3506\u001b[0m, in \u001b[0;36mDataFrame.__getitem__\u001b[0;34m(self, key)\u001b[0m\n\u001b[1;32m   3504\u001b[0m \u001b[39mif\u001b[39;00m \u001b[39mself\u001b[39m\u001b[39m.\u001b[39mcolumns\u001b[39m.\u001b[39mnlevels \u001b[39m>\u001b[39m \u001b[39m1\u001b[39m:\n\u001b[1;32m   3505\u001b[0m     \u001b[39mreturn\u001b[39;00m \u001b[39mself\u001b[39m\u001b[39m.\u001b[39m_getitem_multilevel(key)\n\u001b[0;32m-> 3506\u001b[0m indexer \u001b[39m=\u001b[39m \u001b[39mself\u001b[39;49m\u001b[39m.\u001b[39;49mcolumns\u001b[39m.\u001b[39;49mget_loc(key)\n\u001b[1;32m   3507\u001b[0m \u001b[39mif\u001b[39;00m is_integer(indexer):\n\u001b[1;32m   3508\u001b[0m     indexer \u001b[39m=\u001b[39m [indexer]\n",
      "File \u001b[0;32m/opt/homebrew/Caskroom/miniforge/base/lib/python3.9/site-packages/pandas/core/indexes/base.py:3623\u001b[0m, in \u001b[0;36mIndex.get_loc\u001b[0;34m(self, key, method, tolerance)\u001b[0m\n\u001b[1;32m   3621\u001b[0m     \u001b[39mreturn\u001b[39;00m \u001b[39mself\u001b[39m\u001b[39m.\u001b[39m_engine\u001b[39m.\u001b[39mget_loc(casted_key)\n\u001b[1;32m   3622\u001b[0m \u001b[39mexcept\u001b[39;00m \u001b[39mKeyError\u001b[39;00m \u001b[39mas\u001b[39;00m err:\n\u001b[0;32m-> 3623\u001b[0m     \u001b[39mraise\u001b[39;00m \u001b[39mKeyError\u001b[39;00m(key) \u001b[39mfrom\u001b[39;00m \u001b[39merr\u001b[39;00m\n\u001b[1;32m   3624\u001b[0m \u001b[39mexcept\u001b[39;00m \u001b[39mTypeError\u001b[39;00m:\n\u001b[1;32m   3625\u001b[0m     \u001b[39m# If we have a listlike key, _check_indexing_error will raise\u001b[39;00m\n\u001b[1;32m   3626\u001b[0m     \u001b[39m#  InvalidIndexError. Otherwise we fall through and re-raise\u001b[39;00m\n\u001b[1;32m   3627\u001b[0m     \u001b[39m#  the TypeError.\u001b[39;00m\n\u001b[1;32m   3628\u001b[0m     \u001b[39mself\u001b[39m\u001b[39m.\u001b[39m_check_indexing_error(key)\n",
      "\u001b[0;31mKeyError\u001b[0m: 2"
     ]
    }
   ],
   "source": [
    "pd.DataFrame([\n",
    "    pd.DataFrame(all_chart_values[0])[2],\n",
    "    pd.DataFrame(all_chart_values[1])[2],\n",
    "    pd.DataFrame(all_chart_values[2])[2],\n",
    "    pd.DataFrame(all_chart_values[3])[2],\n",
    "    ]).T.plot()"
   ]
  },
  {
   "cell_type": "code",
   "execution_count": null,
   "metadata": {},
   "outputs": [
    {
     "data": {
      "text/plain": [
       "[<matplotlib.lines.Line2D at 0x16d8bfeb0>]"
      ]
     },
     "execution_count": 225,
     "metadata": {},
     "output_type": "execute_result"
    },
    {
     "data": {
      "image/png": "[encoded data removed]",
      "text/plain": [
       "<Figure size 288x1008 with 4 Axes>"
      ]
     },
     "metadata": {
      "needs_background": "light"
     },
     "output_type": "display_data"
    }
   ],
   "source": [
    "fig = plt.gcf()\n",
    "fig.set_size_inches(4, 14)\n",
    "plt.subplot(4, 1, 1)\n",
    "plt.plot(all_chart_values[0])\n",
    "plt.subplot(4, 1, 2)\n",
    "plt.plot(all_chart_values[1])\n",
    "plt.subplot(4, 1, 3)\n",
    "plt.plot(all_chart_values[2])\n",
    "plt.subplot(4, 1, 4)\n",
    "plt.plot(all_chart_values[3])\n"
   ]
  }
 ],
 "metadata": {
  "kernelspec": {
   "display_name": "base",
   "language": "python",
   "name": "python3"
  },
  "language_info": {
   "codemirror_mode": {
    "name": "ipython",
    "version": 3
   },
   "file_extension": ".py",
   "mimetype": "text/x-python",
   "name": "python",
   "nbconvert_exporter": "python",
   "pygments_lexer": "ipython3",
   "version": "3.9.7"
  },
  "orig_nbformat": 4
 },
 "nbformat": 4,
 "nbformat_minor": 2
}
