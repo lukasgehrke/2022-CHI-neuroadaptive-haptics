{
 "cells": [
  {
   "cell_type": "code",
   "execution_count": null,
   "metadata": {},
   "outputs": [
    {
     "name": "stdout",
     "output_type": "stream",
     "text": [
      "Looking for Marker stream...\n"
     ]
    },
    {
     "name": "stderr",
     "output_type": "stream",
     "text": [
      "2024-12-05 14:53:28.016 (   0.001s) [           BF1EC]      netinterfaces.cpp:91    INFO| netif 'lo0' (status: 1, multicast: 32768, broadcast: 0)\n",
      "2024-12-05 14:53:28.016 (   0.001s) [           BF1EC]      netinterfaces.cpp:91    INFO| netif 'lo0' (status: 1, multicast: 32768, broadcast: 0)\n",
      "2024-12-05 14:53:28.016 (   0.001s) [           BF1EC]      netinterfaces.cpp:102   INFO| \tIPv4 addr: 7f000001\n",
      "2024-12-05 14:53:28.016 (   0.001s) [           BF1EC]      netinterfaces.cpp:91    INFO| netif 'lo0' (status: 1, multicast: 32768, broadcast: 0)\n",
      "2024-12-05 14:53:28.016 (   0.001s) [           BF1EC]      netinterfaces.cpp:105   INFO| \tIPv6 addr: ::1\n",
      "2024-12-05 14:53:28.016 (   0.001s) [           BF1EC]      netinterfaces.cpp:91    INFO| netif 'lo0' (status: 1, multicast: 32768, broadcast: 0)\n",
      "2024-12-05 14:53:28.016 (   0.001s) [           BF1EC]      netinterfaces.cpp:105   INFO| \tIPv6 addr: fe80::1%lo0\n",
      "2024-12-05 14:53:28.016 (   0.001s) [           BF1EC]      netinterfaces.cpp:91    INFO| netif 'gif0' (status: 0, multicast: 32768, broadcast: 0)\n",
      "2024-12-05 14:53:28.016 (   0.001s) [           BF1EC]      netinterfaces.cpp:91    INFO| netif 'stf0' (status: 0, multicast: 0, broadcast: 0)\n",
      "2024-12-05 14:53:28.016 (   0.001s) [           BF1EC]      netinterfaces.cpp:91    INFO| netif 'anpi2' (status: 1, multicast: 32768, broadcast: 2)\n",
      "2024-12-05 14:53:28.016 (   0.001s) [           BF1EC]      netinterfaces.cpp:91    INFO| netif 'anpi0' (status: 1, multicast: 32768, broadcast: 2)\n",
      "2024-12-05 14:53:28.016 (   0.001s) [           BF1EC]      netinterfaces.cpp:91    INFO| netif 'anpi1' (status: 1, multicast: 32768, broadcast: 2)\n",
      "2024-12-05 14:53:28.016 (   0.001s) [           BF1EC]      netinterfaces.cpp:91    INFO| netif 'en4' (status: 1, multicast: 32768, broadcast: 2)\n",
      "2024-12-05 14:53:28.016 (   0.001s) [           BF1EC]      netinterfaces.cpp:91    INFO| netif 'en5' (status: 1, multicast: 32768, broadcast: 2)\n",
      "2024-12-05 14:53:28.016 (   0.001s) [           BF1EC]      netinterfaces.cpp:91    INFO| netif 'en6' (status: 1, multicast: 32768, broadcast: 2)\n",
      "2024-12-05 14:53:28.016 (   0.001s) [           BF1EC]      netinterfaces.cpp:91    INFO| netif 'en1' (status: 1, multicast: 32768, broadcast: 2)\n",
      "2024-12-05 14:53:28.016 (   0.001s) [           BF1EC]      netinterfaces.cpp:91    INFO| netif 'en2' (status: 1, multicast: 32768, broadcast: 2)\n",
      "2024-12-05 14:53:28.016 (   0.001s) [           BF1EC]      netinterfaces.cpp:91    INFO| netif 'en3' (status: 1, multicast: 32768, broadcast: 2)\n",
      "2024-12-05 14:53:28.017 (   0.001s) [           BF1EC]      netinterfaces.cpp:91    INFO| netif 'bridge0' (status: 1, multicast: 32768, broadcast: 2)\n",
      "2024-12-05 14:53:28.017 (   0.001s) [           BF1EC]      netinterfaces.cpp:91    INFO| netif 'ap1' (status: 1, multicast: 32768, broadcast: 2)\n",
      "2024-12-05 14:53:28.017 (   0.001s) [           BF1EC]      netinterfaces.cpp:91    INFO| netif 'en0' (status: 1, multicast: 32768, broadcast: 2)\n",
      "2024-12-05 14:53:28.017 (   0.001s) [           BF1EC]      netinterfaces.cpp:91    INFO| netif 'en0' (status: 1, multicast: 32768, broadcast: 2)\n",
      "2024-12-05 14:53:28.017 (   0.001s) [           BF1EC]      netinterfaces.cpp:105   INFO| \tIPv6 addr: fe80::8e2:d630:97e4:5e3a%en0\n",
      "2024-12-05 14:53:28.017 (   0.001s) [           BF1EC]      netinterfaces.cpp:91    INFO| netif 'en0' (status: 1, multicast: 32768, broadcast: 2)\n",
      "2024-12-05 14:53:28.017 (   0.001s) [           BF1EC]      netinterfaces.cpp:102   INFO| \tIPv4 addr: 8d17adb1\n",
      "2024-12-05 14:53:28.017 (   0.001s) [           BF1EC]      netinterfaces.cpp:91    INFO| netif 'utun0' (status: 1, multicast: 32768, broadcast: 0)\n",
      "2024-12-05 14:53:28.017 (   0.001s) [           BF1EC]      netinterfaces.cpp:91    INFO| netif 'utun0' (status: 1, multicast: 32768, broadcast: 0)\n",
      "2024-12-05 14:53:28.017 (   0.001s) [           BF1EC]      netinterfaces.cpp:105   INFO| \tIPv6 addr: fe80::65bd:1fe:ef17:357%utun0\n",
      "2024-12-05 14:53:28.017 (   0.001s) [           BF1EC]      netinterfaces.cpp:91    INFO| netif 'utun1' (status: 1, multicast: 32768, broadcast: 0)\n",
      "2024-12-05 14:53:28.017 (   0.001s) [           BF1EC]      netinterfaces.cpp:91    INFO| netif 'utun1' (status: 1, multicast: 32768, broadcast: 0)\n",
      "2024-12-05 14:53:28.017 (   0.001s) [           BF1EC]      netinterfaces.cpp:105   INFO| \tIPv6 addr: fe80::b88a:cfa:46b5:7345%utun1\n",
      "2024-12-05 14:53:28.017 (   0.001s) [           BF1EC]      netinterfaces.cpp:91    INFO| netif 'awdl0' (status: 1, multicast: 32768, broadcast: 2)\n",
      "2024-12-05 14:53:28.017 (   0.001s) [           BF1EC]      netinterfaces.cpp:91    INFO| netif 'awdl0' (status: 1, multicast: 32768, broadcast: 2)\n",
      "2024-12-05 14:53:28.017 (   0.001s) [           BF1EC]      netinterfaces.cpp:105   INFO| \tIPv6 addr: fe80::f0d5:63ff:fe68:ad9e%awdl0\n",
      "2024-12-05 14:53:28.017 (   0.001s) [           BF1EC]      netinterfaces.cpp:91    INFO| netif 'llw0' (status: 1, multicast: 32768, broadcast: 2)\n",
      "2024-12-05 14:53:28.017 (   0.001s) [           BF1EC]      netinterfaces.cpp:91    INFO| netif 'llw0' (status: 1, multicast: 32768, broadcast: 2)\n",
      "2024-12-05 14:53:28.017 (   0.001s) [           BF1EC]      netinterfaces.cpp:105   INFO| \tIPv6 addr: fe80::f0d5:63ff:fe68:ad9e%llw0\n",
      "2024-12-05 14:53:28.017 (   0.001s) [           BF1EC]      netinterfaces.cpp:91    INFO| netif 'utun2' (status: 1, multicast: 32768, broadcast: 0)\n",
      "2024-12-05 14:53:28.017 (   0.001s) [           BF1EC]      netinterfaces.cpp:91    INFO| netif 'utun2' (status: 1, multicast: 32768, broadcast: 0)\n",
      "2024-12-05 14:53:28.017 (   0.001s) [           BF1EC]      netinterfaces.cpp:105   INFO| \tIPv6 addr: fe80::b8dc:bb03:1bb3:5192%utun2\n",
      "2024-12-05 14:53:28.017 (   0.001s) [           BF1EC]      netinterfaces.cpp:91    INFO| netif 'utun3' (status: 1, multicast: 32768, broadcast: 0)\n",
      "2024-12-05 14:53:28.017 (   0.001s) [           BF1EC]      netinterfaces.cpp:91    INFO| netif 'utun3' (status: 1, multicast: 32768, broadcast: 0)\n",
      "2024-12-05 14:53:28.017 (   0.001s) [           BF1EC]      netinterfaces.cpp:105   INFO| \tIPv6 addr: fe80::ce81:b1c:bd2c:69e%utun3\n",
      "2024-12-05 14:53:28.017 (   0.001s) [           BF1EC]      netinterfaces.cpp:91    INFO| netif 'utun4' (status: 1, multicast: 32768, broadcast: 0)\n",
      "2024-12-05 14:53:28.017 (   0.001s) [           BF1EC]      netinterfaces.cpp:91    INFO| netif 'utun4' (status: 1, multicast: 32768, broadcast: 0)\n",
      "2024-12-05 14:53:28.017 (   0.001s) [           BF1EC]      netinterfaces.cpp:105   INFO| \tIPv6 addr: fe80::2879:d995:e839:edc3%utun4\n",
      "2024-12-05 14:53:28.017 (   0.001s) [           BF1EC]      netinterfaces.cpp:91    INFO| netif 'utun5' (status: 1, multicast: 32768, broadcast: 0)\n",
      "2024-12-05 14:53:28.017 (   0.001s) [           BF1EC]      netinterfaces.cpp:91    INFO| netif 'utun5' (status: 1, multicast: 32768, broadcast: 0)\n",
      "2024-12-05 14:53:28.017 (   0.001s) [           BF1EC]      netinterfaces.cpp:105   INFO| \tIPv6 addr: fe80::6d84:a692:64af:43b2%utun5\n",
      "2024-12-05 14:53:28.017 (   0.001s) [           BF1EC]      netinterfaces.cpp:91    INFO| netif 'en14' (status: 1, multicast: 32768, broadcast: 2)\n",
      "2024-12-05 14:53:28.017 (   0.001s) [           BF1EC]      netinterfaces.cpp:91    INFO| netif 'en14' (status: 1, multicast: 32768, broadcast: 2)\n",
      "2024-12-05 14:53:28.017 (   0.001s) [           BF1EC]      netinterfaces.cpp:105   INFO| \tIPv6 addr: fe80::1874:ee33:4f7b:3770%en14\n",
      "2024-12-05 14:53:28.017 (   0.001s) [           BF1EC]      netinterfaces.cpp:91    INFO| netif 'en14' (status: 1, multicast: 32768, broadcast: 2)\n",
      "2024-12-05 14:53:28.017 (   0.001s) [           BF1EC]      netinterfaces.cpp:102   INFO| \tIPv4 addr: 82952210\n",
      "2024-12-05 14:53:28.017 (   0.001s) [           BF1EC]         api_config.cpp:271   INFO| Loaded default config\n"
     ]
    }
   ],
   "source": [
    "import time\n",
    "from pylsl import StreamInlet, resolve_byprop\n",
    "                        \n",
    "print(\"Looking for Marker stream...\")\n",
    "streams = resolve_byprop('name', 'NAH_Unity3DEvents')\n",
    "if not streams:\n",
    "    print(\"No Marker stream found, retrying...\")\n",
    "    time.sleep(1)\n",
    "\n",
    "\n",
    "print(\"Marker stream found!\")\n",
    "# init marker stream inlet\n",
    "marker_inlet = StreamInlet(streams[0])\n",
    "\n",
    "# kill with Ctrl+C\n",
    "while True:\n",
    "    sample, timestamp = marker_inlet.pull_sample()\n",
    "    print(sample)\n",
    "    # print(timestamp)\n",
    "\n",
    "\n"
   ]
  }
 ],
 "metadata": {
  "kernelspec": {
   "display_name": "Python 3",
   "language": "python",
   "name": "python3"
  },
  "language_info": {
   "codemirror_mode": {
    "name": "ipython",
    "version": 3
   },
   "file_extension": ".py",
   "mimetype": "text/x-python",
   "name": "python",
   "nbconvert_exporter": "python",
   "pygments_lexer": "ipython3",
   "version": "3.9.18"
  }
 },
 "nbformat": 4,
 "nbformat_minor": 2
}
