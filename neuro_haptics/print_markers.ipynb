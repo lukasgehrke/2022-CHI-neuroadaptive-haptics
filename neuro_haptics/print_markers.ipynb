{
 "cells": [
  {
   "cell_type": "code",
   "execution_count": null,
   "metadata": {},
   "outputs": [
    {
     "name": "stdout",
     "output_type": "stream",
     "text": [
      "Looking for Marker stream...\n",
      "Marker stream found!\n",
      "['What:grab;Number:0;hapticProfile:1;Distance:near;Side:left;ISI:0']\n"
     ]
    }
   ],
   "source": [
    "import time\n",
    "from pylsl import StreamInlet, resolve_byprop\n",
    "                        \n",
    "print(\"Looking for Marker stream...\")\n",
    "streams = resolve_byprop('name', 'NAH_Unity3DEvents')\n",
    "if not streams:\n",
    "    print(\"No Marker stream found, retrying...\")\n",
    "    time.sleep(1)\n",
    "\n",
    "print(\"Marker stream found!\")\n",
    "# init marker stream inlet\n",
    "marker_inlet = StreamInlet(streams[0])\n",
    "\n",
    "while True:\n",
    "    marker, timestamp = marker_inlet.pull_sample()\n",
    "    \n",
    "    if marker and 'What:' in marker[0]:\n",
    "        marker_data = marker[0].split(';')\n",
    "        marker_dict = {item.split(':')[0]: item.split(':')[1] for item in marker_data}\n",
    "        what = marker_dict.get('What')\n",
    "        \n",
    "        if what == 'grab':\n",
    "            print(marker)"
   ]
  }
 ],
 "metadata": {
  "kernelspec": {
   "display_name": "Python 3",
   "language": "python",
   "name": "python3"
  },
  "language_info": {
   "codemirror_mode": {
    "name": "ipython",
    "version": 3
   },
   "file_extension": ".py",
   "mimetype": "text/x-python",
   "name": "python",
   "nbconvert_exporter": "python",
   "pygments_lexer": "ipython3",
   "version": "3.10.11"
  }
 },
 "nbformat": 4,
 "nbformat_minor": 2
}
