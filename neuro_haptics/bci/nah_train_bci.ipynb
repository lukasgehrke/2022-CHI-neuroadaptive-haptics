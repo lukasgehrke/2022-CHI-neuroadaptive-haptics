{
 "cells": [
  {
   "cell_type": "code",
   "execution_count": 2,
   "metadata": {},
   "outputs": [],
   "source": [
    "id = 1\n",
    "pID = 'sub-' + \"%01d\" % (id)"
   ]
  },
  {
   "cell_type": "code",
   "execution_count": 3,
   "metadata": {},
   "outputs": [],
   "source": [
    "import os\n",
    "\n",
    "import pandas as pd\n",
    "import numpy as np\n",
    "\n",
    "from sklearn.discriminant_analysis import LinearDiscriminantAnalysis as LDA\n",
    "from sklearn.discriminant_analysis import QuadraticDiscriminantAnalysis as QDA\n",
    "from sklearn.ensemble import RandomForestClassifier as RFC\n",
    "from sklearn.ensemble import AdaBoostClassifier as ABC\n",
    "\n",
    "from sklearn.model_selection import cross_val_score, KFold\n",
    "\n",
    "import pickle, json, os\n",
    "import scipy.io\n",
    "# from bci_funcs import windowed_mean, base_correct, select_mean, slope\n",
    "\n",
    "# path = '/Volumes/Lukas_Gehrke/fastReach/data/eeglab2python'\n",
    "# path = 'P:\\\\Lukas_Gehrke\\\\fastReach\\\\data\\\\eeglab2python'\n",
    "path = '/Users/lukasgehrke/Documents/publications/2022-CHI-neuroadaptive-haptics/data/5_single-subject-EEG-analysis'"
   ]
  },
  {
   "attachments": {},
   "cell_type": "markdown",
   "metadata": {},
   "source": [
    "# Neuroadaptive Haptic BCI Training"
   ]
  },
  {
   "cell_type": "code",
   "execution_count": 5,
   "metadata": {},
   "outputs": [],
   "source": [
    "# load data\n",
    "erp = scipy.io.loadmat(path+os.sep+pID+os.sep+'erp.mat')['erp']\n",
    "# pandas load design matrix called behavior\n",
    "behavior = pd.read_csv(path+os.sep+pID+os.sep+'behavior_s'+str(id)+'.csv', sep=';')"
   ]
  },
  {
   "cell_type": "markdown",
   "metadata": {},
   "source": [
    "# Compute Features & Model fitting"
   ]
  },
  {
   "cell_type": "code",
   "execution_count": 15,
   "metadata": {},
   "outputs": [
    {
     "name": "stdout",
     "output_type": "stream",
     "text": [
      "LDA accuracy: 0.4 +/- 0.11040538534159479\n"
     ]
    },
    {
     "data": {
      "image/png": "[encoded data removed]",
      "text/plain": [
       "<Figure size 432x288 with 1 Axes>"
      ]
     },
     "metadata": {
      "needs_background": "light"
     },
     "output_type": "display_data"
    },
    {
     "name": "stdout",
     "output_type": "stream",
     "text": [
      "Threshold value is: 0.4538737331115277\n",
      "F1 Score: 0.7540983606557377\n",
      "Threshold used is: 0.5111517354836219\n",
      "{'windows': 10, 'baseline': 25.0, 'target_class': 1, 'f1': 0.7540983606557377, 'threshold': 0.5111517354836219, 'acc': 0.4, 'acc_std': 0.11040538534159479, 'data_srate': 250}\n"
     ]
    }
   ],
   "source": [
    "# TODO fix parameters for BCI\n",
    "data_srate = 250\n",
    "windows = 10\n",
    "baseline = data_srate/windows\n",
    "target_class = 1\n",
    "\n",
    "# randomly fill column answerID with values ranging 1-5\n",
    "behavior['answerID'] = np.random.randint(1, 6, behavior.shape[0])\n",
    "\n",
    "# select indeces in behavior where answerID is > median\n",
    "low = behavior[behavior['answerID'] > behavior['answerID'].median()].index\n",
    "high = behavior[behavior['answerID'] < behavior['answerID'].median()].index\n",
    "\n",
    "# erp low\n",
    "erp_low = erp[:,50,low]\n",
    "# erp high\n",
    "erp_high = erp[:,50,high]\n",
    "\n",
    "# flatten this into 2d array of shape (trials, channels*data)\n",
    "# erp_low = erp_low.reshape(erp_low.shape[2], erp_low.shape[0]*erp_low.shape[1])\n",
    "# erp_high = erp_high.reshape(erp_high.shape[2], erp_high.shape[0]*erp_high.shape[1])\n",
    "data = np.concatenate((erp_low, erp_high), axis = 1).T\n",
    "\n",
    "low_class = np.zeros((erp_low.shape[1], 1))\n",
    "high_class = np.ones((erp_high.shape[1], 1))\n",
    "classes = np.concatenate((low_class, high_class)).ravel()\n",
    "\n",
    "clf = LDA(solver='eigen', shrinkage='auto')\n",
    "clf.fit(data, classes)\n",
    "kfolds = KFold(n_splits=5, random_state=1, shuffle=True) \n",
    "cv_results = cross_val_score(clf, data, classes, cv=kfolds)\n",
    "acc = cv_results.mean()\n",
    "acc_std = cv_results.std()\n",
    "print(\"LDA accuracy: \" + str(cv_results.mean()) + \" +/- \" + str(cv_results.std()))\n",
    "### END ###\n",
    "\n",
    "from sklearn.metrics import roc_curve, auc\n",
    "import matplotlib.pyplot as plt\n",
    "\n",
    "def plot_roc_curve(fpr, tpr):\n",
    "    plt.plot(fpr, tpr, color='orange', label='ROC')\n",
    "    plt.plot([0, 1], [0, 1], color='darkblue', linestyle='--')\n",
    "    plt.xlabel('False Positive Rate')\n",
    "    plt.ylabel('True Positive Rate')\n",
    "    plt.title('Receiver Operating Characteristic (ROC) Curve')\n",
    "    plt.legend()\n",
    "    plt.show()\n",
    "\n",
    "def interp_roc_curve(true, score, by ='fp', byval = np.linspace(0,1,101)):\n",
    "    fp, tp, th =  roc_curve(true, score)\n",
    "    data = {'fp': fp, 'tp': tp, 'th': th}\n",
    "    interpData = {}\n",
    "    for k,v in data.items():\n",
    "        if k==by:\n",
    "            interpData[k] = byval\n",
    "        else:\n",
    "            interpData[k] = np.interp(byval, data[by], data[k])\n",
    "    roc = pd.DataFrame.from_dict(interpData)\n",
    "    return(roc)\n",
    "\n",
    "predictions_prob = clf.predict_proba(data)\n",
    "pred_classes = clf.predict(data)\n",
    "\n",
    "roc = interp_roc_curve(classes, predictions_prob[:,1])\n",
    "\n",
    "false_positive_rate, recall, thresholds = roc_curve(classes, predictions_prob[:,1])\n",
    "\n",
    "np.savetxt(path+os.sep+pID+os.sep+'fpr.csv', roc.fp, delimiter=',')\n",
    "np.savetxt(path+os.sep+pID+os.sep+'recall.csv', roc.tp, delimiter=',')\n",
    "\n",
    "# np.savetxt(path+os.sep+pID+os.sep+'fpr.csv', false_positive_rate, delimiter=',')\n",
    "# np.savetxt(path+os.sep+pID+os.sep+'recall.csv', recall, delimiter=',')\n",
    "\n",
    "roc_auc = auc(false_positive_rate, recall)\n",
    "plot_roc_curve(false_positive_rate, recall)\n",
    "\n",
    "optimal_idx = np.argmax(recall - false_positive_rate)\n",
    "optimal_threshold = thresholds[optimal_idx]\n",
    "print(\"Threshold value is:\", optimal_threshold)\n",
    "\n",
    "from sklearn.metrics import f1_score\n",
    "f1 = f1_score(classes, pred_classes)\n",
    "print(\"F1 Score: \"+ str(f1_score(classes, pred_classes)))\n",
    "\n",
    "# save model\n",
    "filename = path+os.sep+pID+os.sep+'model_'+pID+'_eeg.sav'\n",
    "pickle.dump(clf, open(filename, 'wb'))\n",
    "\n",
    "# threshold = cv_results.mean()\n",
    "threshold = np.min(thresholds[false_positive_rate<.2])\n",
    "print(\"Threshold used is:\", threshold)\n",
    "\n",
    "bci_params = dict(((k, eval(k)) for k in ('windows', 'baseline', 'target_class', 'f1', 'threshold', 'acc', 'acc_std', 'data_srate')))\n",
    "with open(path+os.sep+pID+os.sep+'bci_params.json', 'w') as f:\n",
    "    json.dump(bci_params, f)\n",
    "print(bci_params)"
   ]
  },
  {
   "cell_type": "code",
   "execution_count": null,
   "metadata": {},
   "outputs": [],
   "source": []
  }
 ],
 "metadata": {
  "kernelspec": {
   "display_name": "Python 3",
   "language": "python",
   "name": "python3"
  },
  "language_info": {
   "codemirror_mode": {
    "name": "ipython",
    "version": 3
   },
   "file_extension": ".py",
   "mimetype": "text/x-python",
   "name": "python",
   "nbconvert_exporter": "python",
   "pygments_lexer": "ipython3",
   "version": "3.9.18"
  },
  "orig_nbformat": 4
 },
 "nbformat": 4,
 "nbformat_minor": 2
}
