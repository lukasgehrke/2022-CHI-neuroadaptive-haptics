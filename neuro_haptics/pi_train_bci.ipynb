{
 "cells": [
  {
   "cell_type": "code",
   "execution_count": 1,
   "metadata": {},
   "outputs": [],
   "source": [
    "import os\n",
    "\n",
    "import pandas as pd\n",
    "import numpy as np\n",
    "\n",
    "from sklearn.discriminant_analysis import LinearDiscriminantAnalysis as LDA\n",
    "from sklearn.model_selection import cross_val_score, KFold\n",
    "\n",
    "import pickle, json\n",
    "import scipy.io\n",
    "from bci_funcs import windowed_mean, base_correct, select_mean, slope\n",
    "\n",
    "path = '/Users/lukasgehrke/Documents/publications/2022-CHI-neuroadaptive-haptics/' # add path to repository here!!!"
   ]
  },
  {
   "attachments": {},
   "cell_type": "markdown",
   "metadata": {},
   "source": [
    "# Preconscious Augmentation\n",
    "\n",
    "This script trains the classifier for a brain-computer interface that controls electrical muscle stimulation in the preconscious augmentation experiment.\n",
    "The functions used to build the feature vectors are the same that are used for the online application and are found in 'bci_funcs'\n",
    "\n",
    "A two class linear discriminant model is fitted to idle and pre-movement EEG training data. The model and a channel selection is saved."
   ]
  },
  {
   "attachments": {},
   "cell_type": "markdown",
   "metadata": {},
   "source": [
    "## Comment for Marius 16.05.2023\n",
    "\n",
    "So i tried different features here, the feature computation functions are in bci_funcs.py and used both here in this script and in instances of real-time application from the class Classifier in Classifier.py.\n",
    "Don't mind where the selected channel indices are coming from for now, that happens elsewhere in matlab but is irrelevant for the moment.\n",
    "\n",
    "The problem with windowed means is that the feature vector gets very high dimensional, so e.g. with 10 channels and 10 windows = 100. However, we only have about 90 training trials so the LDA would be highly over-determined. Many studies do use such overdetermined classifiers, for example (https://www.ncbi.nlm.nih.gov/pmc/articles/PMC7986527/pdf/ENEURO.0425-20.2020.pdf). I have encountered though that while this works in cross-validation on the training data/epoch, it works quite badly when applied to experiment data that is some minutes later than the training data. What I have seen are frequent changes between classes and huge jumps in probability for the predicted class, even with only a small change in the samples. So for example if i change 25 sample of a 250 sample epoch that changes the prediction quite dramatically. So that is why I reduced the feature space to 1 feature for 10 channels, hence 90 training trials and 10 features. See this here for more information about what i encountered empirically (https://stats.stackexchange.com/questions/51490/how-large-a-training-set-is-needed). You may be already quite familiar with that. Keep in mind that these are not yet the features for neuroadaptive haptics but for another project using readiness potential (which is why I came up with slope as feature). Question is have you enctountered this before and how do you adress this? Is this generally solved by using shrinkage/regularization?"
   ]
  },
  {
   "cell_type": "code",
   "execution_count": null,
   "metadata": {},
   "outputs": [],
   "source": [
    "pre_move = scipy.io.loadmat(path+os.sep+'example_data'+os.sep+'pre_move_Baseline.mat')\n",
    "idle = scipy.io.loadmat(path+os.sep+'example_data'+os.sep+'idle_Baseline.mat')\n",
    "chans = np.array(pd.read_csv(path+os.sep+'example_data'+os.sep+'sel_chans.csv', header=None)).flatten()\n",
    "chans = chans - 1 # Matlab to python indexing\n",
    "\n",
    "chans = chans[0:15]\n",
    "chans = chans.tolist() # first three channels are C3, C4, Cz, in that order. Might ignore, then start index at 3\n",
    "\n",
    "data_srate = 250\n",
    "windows = 10\n",
    "sel_window = 10\n",
    "baseline = data_srate/windows\n",
    "\n",
    "idle = idle['idle'][chans,:,:]\n",
    "pre_move = pre_move['pre_move'][chans,:,:]\n",
    "\n",
    "idle_means = np.zeros((idle.shape[2], idle.shape[0] * (windows)))\n",
    "pre_move_means = np.zeros((pre_move.shape[2], pre_move.shape[0] * (windows)))\n",
    "\n",
    "idle_mean = np.zeros((idle.shape[2], idle.shape[0]))\n",
    "pre_move_mean = np.zeros((pre_move.shape[2], pre_move.shape[0]))\n",
    "\n",
    "slope_idle = np.zeros((idle.shape[2], idle.shape[0]))\n",
    "slope_pre_move = np.zeros((pre_move.shape[2], pre_move.shape[0]))\n",
    "\n",
    "target_class = 1\n",
    "threshold = 1\n",
    "classifier_update_rate = 10 # samples\n",
    "\n",
    "bci_params = dict(((k, eval(k)) for k in ('chans', 'windows', 'baseline', 'target_class', 'threshold', 'data_srate', 'classifier_update_rate')))\n",
    "with open(path+os.sep+'example_data'+os.sep+'bci_params.json', 'w') as f:\n",
    "    json.dump(bci_params, f)\n",
    "\n",
    "for trial_ix in range(0, pre_move.shape[2]):\n",
    "    tmp = base_correct(pre_move[:,:,trial_ix], baseline-1)\n",
    "    pre_move_means[trial_ix, :] = windowed_mean(tmp, windows).flatten()\n",
    "    pre_move_mean[trial_ix, :] = select_mean(tmp, windows, sel_window).flatten()\n",
    "    slope_pre_move[trial_ix, :] = slope(tmp, 'linear').flatten()\n",
    "\n",
    "for trial_ix in range(0, idle.shape[2]):\n",
    "    tmp = base_correct(idle[:,:,trial_ix], baseline-1)\n",
    "    idle_means[trial_ix, :] = windowed_mean(tmp, windows).flatten()\n",
    "    idle_mean[trial_ix, :] = select_mean(tmp, windows, sel_window).flatten()\n",
    "    slope_idle[trial_ix, :] = slope(tmp, 'linear').flatten()\n",
    "\n",
    "win_means = np.concatenate((pre_move_means, idle_means), axis = 0)\n",
    "win_mean = np.concatenate((pre_move_mean, idle_mean), axis = 0)\n",
    "slope = np.concatenate((slope_pre_move, slope_idle), axis = 0)"
   ]
  },
  {
   "cell_type": "code",
   "execution_count": 3,
   "metadata": {},
   "outputs": [],
   "source": [
    "pre_move_class = np.ones((pre_move_means.shape[0], 1))\n",
    "idle_class = np.zeros((idle_means.shape[0], 1))\n",
    "classes = np.concatenate((pre_move_class, idle_class)).ravel()"
   ]
  },
  {
   "cell_type": "code",
   "execution_count": 4,
   "metadata": {},
   "outputs": [
    {
     "data": {
      "text/plain": [
       "<seaborn.axisgrid.FacetGrid at 0x104bb2eb0>"
      ]
     },
     "execution_count": 4,
     "metadata": {},
     "output_type": "execute_result"
    },
    {
     "data": {
      "image/png": "[encoded data removed]",
      "text/plain": [
       "<Figure size 414.975x360 with 1 Axes>"
      ]
     },
     "metadata": {
      "needs_background": "light"
     },
     "output_type": "display_data"
    }
   ],
   "source": [
    "data = slope\n",
    "\n",
    "data_to_plot = pd.DataFrame(data)\n",
    "data_to_plot['class'] = classes\n",
    "data_to_plot = data_to_plot.melt(id_vars = 'class', value_name = 'amplitude')\n",
    "\n",
    "import seaborn as sns\n",
    "import matplotlib.pyplot as plt\n",
    "\n",
    "sns.set_theme(style=\"ticks\")\n",
    "sns.displot(x=\"amplitude\", hue=\"class\", data=data_to_plot, kde=True, fill=True, stat=\"density\")\n"
   ]
  },
  {
   "attachments": {},
   "cell_type": "markdown",
   "metadata": {},
   "source": [
    "# Crossvalidation and saving the model for real-time use"
   ]
  },
  {
   "cell_type": "code",
   "execution_count": 5,
   "metadata": {},
   "outputs": [
    {
     "name": "stdout",
     "output_type": "stream",
     "text": [
      "0.75\n",
      "0.05050762722761051\n"
     ]
    }
   ],
   "source": [
    "clf = LDA(solver='eigen', shrinkage='auto')\n",
    "clf.fit(data, classes)\n",
    "\n",
    "kfolds = KFold(n_splits=5, random_state=1, shuffle=True) \n",
    "cv_results = cross_val_score(clf, data, classes, cv=kfolds)\n",
    "print(cv_results.mean())\n",
    "print(cv_results.std())\n",
    "\n",
    "filename = path+os.sep+'example_data'+os.sep+'model_eeg.sav'\n",
    "pickle.dump(clf, open(filename, 'wb'))"
   ]
  }
 ],
 "metadata": {
  "kernelspec": {
   "display_name": "Python 3",
   "language": "python",
   "name": "python3"
  },
  "language_info": {
   "codemirror_mode": {
    "name": "ipython",
    "version": 3
   },
   "file_extension": ".py",
   "mimetype": "text/x-python",
   "name": "python",
   "nbconvert_exporter": "python",
   "pygments_lexer": "ipython3",
   "version": "3.9.16"
  },
  "orig_nbformat": 4
 },
 "nbformat": 4,
 "nbformat_minor": 2
}
