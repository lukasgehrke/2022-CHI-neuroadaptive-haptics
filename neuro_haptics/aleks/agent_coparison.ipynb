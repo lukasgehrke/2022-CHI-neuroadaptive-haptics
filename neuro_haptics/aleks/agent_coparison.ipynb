{
 "cells": [
  {
   "cell_type": "code",
   "execution_count": 1,
   "metadata": {},
   "outputs": [],
   "source": [
    "import utils\n",
    "from utils import *\n",
    "from thompson_sampling_agent import ThompsonSamplingAgentTemporaryWrapper\n",
    "\n",
    "# Mean reward might awkwardly drop, because most of the episodes end early"
   ]
  },
  {
   "cell_type": "markdown",
   "metadata": {},
   "source": [
    "# Perofrmace based on learning curves"
   ]
  },
  {
   "cell_type": "markdown",
   "metadata": {},
   "source": [
    "Let's remove the convergence criteria and have a look at which one converges faster,\n",
    "visuallly"
   ]
  },
  {
   "cell_type": "code",
   "execution_count": 2,
   "metadata": {},
   "outputs": [
    {
     "name": "stderr",
     "output_type": "stream",
     "text": [
      "100%|██████████| 100/100 [00:00<00:00, 182.51it/s]\n"
     ]
    },
    {
     "name": "stdout",
     "output_type": "stream",
     "text": [
      "Accuracy: 76.0\n",
      "Mean episode length: 76.0\n"
     ]
    },
    {
     "name": "stderr",
     "output_type": "stream",
     "text": [
      "100%|██████████| 100/100 [00:00<00:00, 300.30it/s]\n"
     ]
    },
    {
     "name": "stdout",
     "output_type": "stream",
     "text": [
      "Accuracy: 62.0\n",
      "Mean episode length: 76.0\n"
     ]
    },
    {
     "name": "stderr",
     "output_type": "stream",
     "text": [
      "100%|██████████| 100/100 [00:00<00:00, 501.13it/s]\n"
     ]
    },
    {
     "name": "stdout",
     "output_type": "stream",
     "text": [
      "Accuracy: 80.0\n",
      "Mean episode length: 76.0\n"
     ]
    },
    {
     "data": {
      "text/plain": [
       "<matplotlib.axes._subplots.AxesSubplot at 0x16c00e9d0>"
      ]
     },
     "execution_count": 2,
     "metadata": {},
     "output_type": "execute_result"
    },
    {
     "data": {
      "image/png": "[encoded data removed]",
      "text/plain": [
       "<Figure size 432x288 with 1 Axes>"
      ]
     },
     "metadata": {
      "needs_background": "light"
     },
     "output_type": "display_data"
    }
   ],
   "source": [
    "rewards = []\n",
    "\n",
    "params_new = {\n",
    "    # # Runner parameters\n",
    "    'max_steps': 75,\n",
    "    'num_episodes': 100,\n",
    "    'convergence_count_start': 2000,\n",
    "    # 'convergence_consecutive_limit': 15,    \n",
    "    }\n",
    "\n",
    "params = default_params() | params_new\n",
    "\n",
    "from ucbq_agent_stateless import UCBQAgent\n",
    "\n",
    "params['surrogate'] = True\n",
    "params['agent'] = UCBQAgent\n",
    "q_values_all_experiments, rewards_all_experiments, episode_lengths, selected_actions, accuracy, last_reward_processor = qLearningExperiment(params=params)\n",
    "print(f'Accuracy: {accuracy}')    \n",
    "print(f'Mean episode length: {np.mean(episode_lengths)}')\n",
    "rewards.append(rewards_all_experiments)\n",
    "\n",
    "params = default_params() | params_new\n",
    "params = params | optimized_params\n",
    "params['surrogate'] = True\n",
    "params['agent'] = UCBQAgent\n",
    "q_values_all_experiments, rewards_all_experiments, episode_lengths, selected_actions, accuracy, last_reward_processor = qLearningExperiment(params=params)\n",
    "print(f'Accuracy: {accuracy}')    \n",
    "print(f'Mean episode length: {np.mean(episode_lengths)}')\n",
    "rewards.append(rewards_all_experiments)\n",
    "\n",
    "params = default_params() | params_new\n",
    "params['surrogate'] = False\n",
    "params['agent'] = ThompsonSamplingAgentTemporaryWrapper\n",
    "q_values_all_experiments, rewards_all_experiments, episode_lengths, selected_actions, accuracy, last_reward_processor = qLearningExperiment(params=params)\n",
    "print(f'Accuracy: {accuracy}')    \n",
    "print(f'Mean episode length: {np.mean(episode_lengths)}')\n",
    "rewards.append(rewards_all_experiments)\n",
    "\n",
    "\n",
    "# Beware, VS Code variable inspector can show wrong Size value\n",
    "\n",
    "# Apply get_mean_rewards_across_episodes to each element in rewards\n",
    "mean_rewards = [get_mean_rewards_across_episodes(rewards_all_experiments) for rewards_all_experiments in rewards]\n",
    "\n",
    "pd.DataFrame(mean_rewards).T.plot()"
   ]
  },
  {
   "cell_type": "markdown",
   "metadata": {},
   "source": [
    "Thompson sampling converges faster than the unoptimized version. The optimized version is bad.\n",
    "\n",
    "Something might be wrong with the previous optimized params. We rand the optimization again,\n",
    "and the learning curve greatly improved:"
   ]
  },
  {
   "cell_type": "code",
   "execution_count": 4,
   "metadata": {},
   "outputs": [
    {
     "name": "stderr",
     "output_type": "stream",
     "text": [
      "100%|██████████| 100/100 [00:00<00:00, 236.43it/s]\n"
     ]
    },
    {
     "name": "stdout",
     "output_type": "stream",
     "text": [
      "Accuracy: 75.0\n",
      "Mean episode length: 76.0\n"
     ]
    },
    {
     "name": "stderr",
     "output_type": "stream",
     "text": [
      "100%|██████████| 100/100 [00:00<00:00, 333.95it/s]\n"
     ]
    },
    {
     "name": "stdout",
     "output_type": "stream",
     "text": [
      "Accuracy: 63.0\n",
      "Mean episode length: 76.0\n"
     ]
    },
    {
     "name": "stderr",
     "output_type": "stream",
     "text": [
      "100%|██████████| 100/100 [00:00<00:00, 335.60it/s]\n"
     ]
    },
    {
     "name": "stdout",
     "output_type": "stream",
     "text": [
      "Accuracy: 92.0\n",
      "Mean episode length: 76.0\n"
     ]
    },
    {
     "name": "stderr",
     "output_type": "stream",
     "text": [
      "100%|██████████| 100/100 [00:00<00:00, 475.22it/s]"
     ]
    },
    {
     "name": "stdout",
     "output_type": "stream",
     "text": [
      "Accuracy: 76.0\n",
      "Mean episode length: 76.0\n"
     ]
    },
    {
     "name": "stderr",
     "output_type": "stream",
     "text": [
      "\n"
     ]
    },
    {
     "data": {
      "text/plain": [
       "<matplotlib.axes._subplots.AxesSubplot at 0x16bdc1250>"
      ]
     },
     "execution_count": 4,
     "metadata": {},
     "output_type": "execute_result"
    },
    {
     "data": {
      "image/png": "[encoded data removed]",
      "text/plain": [
       "<Figure size 432x288 with 1 Axes>"
      ]
     },
     "metadata": {
      "needs_background": "light"
     },
     "output_type": "display_data"
    }
   ],
   "source": [
    "rewards = []\n",
    "\n",
    "params_new = {\n",
    "    # # Runner parameters\n",
    "    'max_steps': 75,\n",
    "    'num_episodes': 100,\n",
    "    'convergence_count_start': 2000,\n",
    "    # 'convergence_consecutive_limit': 15,    \n",
    "    }\n",
    "\n",
    "params = default_params() | params_new\n",
    "\n",
    "from ucbq_agent_stateless import UCBQAgent\n",
    "\n",
    "params['surrogate'] = True\n",
    "params['agent'] = UCBQAgent\n",
    "q_values_all_experiments, rewards_all_experiments, episode_lengths, selected_actions, accuracy, last_reward_processor = qLearningExperiment(params=params)\n",
    "print(f'Accuracy: {accuracy}')    \n",
    "print(f'Mean episode length: {np.mean(episode_lengths)}')\n",
    "rewards.append(rewards_all_experiments)\n",
    "\n",
    "params['surrogate'] = True\n",
    "params['agent'] = UCBQAgent\n",
    "params['stationary_noise'] = True\n",
    "q_values_all_experiments, rewards_all_experiments, episode_lengths, selected_actions, accuracy, last_reward_processor = qLearningExperiment(params=params)\n",
    "print(f'Accuracy: {accuracy}')    \n",
    "print(f'Mean episode length: {np.mean(episode_lengths)}')\n",
    "rewards.append(rewards_all_experiments)\n",
    "\n",
    "params = default_params() | params_new\n",
    "optimized_params = {'target': 94.69999999999999, 'params': {'alpha': 0.44789352617590517, 'alpha_decay': 908.6869075900024, 'alpha_min': 0.2936141483736795, 'epsilon': 0.28777533858634874, 'epsilon_decay': 130.8985435461594, 'epsilon_min': 0.019366957870297075, 'gamma': 0.678835532939891, 'surrogate_c_interval': 26.183745804007025, 'surrogate_c_interval_min': 32.60005246529492}}\n",
    "params = params | optimized_params['params']\n",
    "params['surrogate'] = True\n",
    "params['agent'] = UCBQAgent\n",
    "q_values_all_experiments, rewards_all_experiments, episode_lengths, selected_actions, accuracy, last_reward_processor = qLearningExperiment(params=params)\n",
    "print(f'Accuracy: {accuracy}')    \n",
    "print(f'Mean episode length: {np.mean(episode_lengths)}')\n",
    "rewards.append(rewards_all_experiments)\n",
    "\n",
    "params = default_params() | params_new\n",
    "params['surrogate'] = False\n",
    "params['agent'] = ThompsonSamplingAgentTemporaryWrapper\n",
    "q_values_all_experiments, rewards_all_experiments, episode_lengths, selected_actions, accuracy, last_reward_processor = qLearningExperiment(params=params)\n",
    "print(f'Accuracy: {accuracy}')    \n",
    "print(f'Mean episode length: {np.mean(episode_lengths)}')\n",
    "rewards.append(rewards_all_experiments)\n",
    "\n",
    "\n",
    "# Beware, VS Code variable inspector can show wrong Size value\n",
    "\n",
    "# Apply get_mean_rewards_across_episodes to each element in rewards\n",
    "mean_rewards = [get_mean_rewards_across_episodes(rewards_all_experiments) for rewards_all_experiments in rewards]\n",
    "\n",
    "pd.DataFrame(mean_rewards).T.plot()"
   ]
  },
  {
   "cell_type": "markdown",
   "metadata": {},
   "source": [
    "In the long term, the non-optimized version an Thompson sampling seem to be\n",
    "outperforming. This makes sense, cause the optimized version was optimized for\n",
    "an episode length of 75."
   ]
  },
  {
   "cell_type": "code",
   "execution_count": 5,
   "metadata": {},
   "outputs": [
    {
     "name": "stderr",
     "output_type": "stream",
     "text": [
      "100%|██████████| 100/100 [00:08<00:00, 11.65it/s]\n"
     ]
    },
    {
     "name": "stdout",
     "output_type": "stream",
     "text": [
      "Accuracy: 99.0\n",
      "Mean episode length: 1001.0\n"
     ]
    },
    {
     "name": "stderr",
     "output_type": "stream",
     "text": [
      "100%|██████████| 100/100 [00:04<00:00, 23.97it/s]\n"
     ]
    },
    {
     "name": "stdout",
     "output_type": "stream",
     "text": [
      "Accuracy: 77.0\n",
      "Mean episode length: 1001.0\n"
     ]
    },
    {
     "name": "stderr",
     "output_type": "stream",
     "text": [
      "100%|██████████| 100/100 [00:03<00:00, 26.64it/s]\n"
     ]
    },
    {
     "name": "stdout",
     "output_type": "stream",
     "text": [
      "Accuracy: 91.0\n",
      "Mean episode length: 1001.0\n"
     ]
    },
    {
     "name": "stderr",
     "output_type": "stream",
     "text": [
      "100%|██████████| 100/100 [00:03<00:00, 26.77it/s]\n"
     ]
    },
    {
     "name": "stdout",
     "output_type": "stream",
     "text": [
      "Accuracy: 92.0\n",
      "Mean episode length: 1001.0\n"
     ]
    },
    {
     "name": "stderr",
     "output_type": "stream",
     "text": [
      "100%|██████████| 100/100 [00:02<00:00, 38.79it/s]\n"
     ]
    },
    {
     "name": "stdout",
     "output_type": "stream",
     "text": [
      "Accuracy: 98.0\n",
      "Mean episode length: 1001.0\n"
     ]
    },
    {
     "data": {
      "text/plain": [
       "<matplotlib.axes._subplots.AxesSubplot at 0x16c442070>"
      ]
     },
     "execution_count": 5,
     "metadata": {},
     "output_type": "execute_result"
    },
    {
     "data": {
      "image/png": "[encoded data removed]",
      "text/plain": [
       "<Figure size 432x288 with 1 Axes>"
      ]
     },
     "metadata": {
      "needs_background": "light"
     },
     "output_type": "display_data"
    }
   ],
   "source": [
    "rewards = []\n",
    "\n",
    "params_new = {\n",
    "    # # Runner parameters\n",
    "    'max_steps': 1000,\n",
    "    'num_episodes': 100,\n",
    "    'convergence_count_start': 100000,\n",
    "    # 'convergence_consecutive_limit': 15,    \n",
    "    }\n",
    "\n",
    "params = default_params() | params_new\n",
    "\n",
    "from ucbq_agent_stateless import UCBQAgent\n",
    "\n",
    "params['surrogate'] = True\n",
    "params['agent'] = UCBQAgent\n",
    "q_values_all_experiments, rewards_all_experiments, episode_lengths, selected_actions, accuracy, last_reward_processor = qLearningExperiment(params=params)\n",
    "print(f'Accuracy: {accuracy}')    \n",
    "print(f'Mean episode length: {np.mean(episode_lengths)}')\n",
    "rewards.append(rewards_all_experiments)\n",
    "\n",
    "params['surrogate'] = True\n",
    "params['agent'] = UCBQAgent\n",
    "params['stationary_noise'] = True\n",
    "q_values_all_experiments, rewards_all_experiments, episode_lengths, selected_actions, accuracy, last_reward_processor = qLearningExperiment(params=params)\n",
    "print(f'Accuracy: {accuracy}')    \n",
    "print(f'Mean episode length: {np.mean(episode_lengths)}')\n",
    "rewards.append(rewards_all_experiments)\n",
    "\n",
    "params = default_params() | params_new\n",
    "optimized_params = {'target': 94.69999999999999, 'params': {'alpha': 0.44789352617590517, 'alpha_decay': 908.6869075900024, 'alpha_min': 0.2936141483736795, 'epsilon': 0.28777533858634874, 'epsilon_decay': 130.8985435461594, 'epsilon_min': 0.019366957870297075, 'gamma': 0.678835532939891, 'surrogate_c_interval': 26.183745804007025, 'surrogate_c_interval_min': 32.60005246529492}}\n",
    "params = params | optimized_params ['params']\n",
    "params['surrogate'] = True\n",
    "params['agent'] = UCBQAgent\n",
    "q_values_all_experiments, rewards_all_experiments, episode_lengths, selected_actions, accuracy, last_reward_processor = qLearningExperiment(params=params)\n",
    "print(f'Accuracy: {accuracy}')    \n",
    "print(f'Mean episode length: {np.mean(episode_lengths)}')\n",
    "rewards.append(rewards_all_experiments)\n",
    "\n",
    "params = default_params() | params_new\n",
    "optimized_params = {'target': 94.69999999999999, 'params': {'alpha': 0.44789352617590517, 'alpha_decay': 908.6869075900024, 'alpha_min': 0.2936141483736795, 'epsilon': 0.28777533858634874, 'epsilon_decay': 130.8985435461594, 'epsilon_min': 0.019366957870297075, 'gamma': 0.678835532939891, 'surrogate_c_interval': 26.183745804007025, 'surrogate_c_interval_min': 32.60005246529492}}\n",
    "params = params | optimized_params ['params']\n",
    "params['surrogate'] = True\n",
    "params['agent'] = UCBQAgent\n",
    "params['stationary_noise'] = True\n",
    "q_values_all_experiments, rewards_all_experiments, episode_lengths, selected_actions, accuracy, last_reward_processor = qLearningExperiment(params=params)\n",
    "print(f'Accuracy: {accuracy}')    \n",
    "print(f'Mean episode length: {np.mean(episode_lengths)}')\n",
    "rewards.append(rewards_all_experiments)\n",
    "\n",
    "params = default_params() | params_new\n",
    "params['surrogate'] = False\n",
    "params['agent'] = ThompsonSamplingAgentTemporaryWrapper\n",
    "q_values_all_experiments, rewards_all_experiments, episode_lengths, selected_actions, accuracy, last_reward_processor = qLearningExperiment(params=params)\n",
    "print(f'Accuracy: {accuracy}')    \n",
    "print(f'Mean episode length: {np.mean(episode_lengths)}')\n",
    "rewards.append(rewards_all_experiments)\n",
    "\n",
    "\n",
    "# Beware, VS Code variable inspector can show wrong Size value\n",
    "\n",
    "# Apply get_mean_rewards_across_episodes to each element in rewards\n",
    "mean_rewards = [get_mean_rewards_across_episodes(rewards_all_experiments) for rewards_all_experiments in rewards]\n",
    "\n",
    "pd.DataFrame(mean_rewards).T.plot()"
   ]
  },
  {
   "cell_type": "markdown",
   "metadata": {},
   "source": [
    "Let's compare stationary vs non-stationary"
   ]
  },
  {
   "cell_type": "code",
   "execution_count": 14,
   "metadata": {},
   "outputs": [
    {
     "name": "stderr",
     "output_type": "stream",
     "text": [
      "100%|██████████| 1/1 [00:06<00:00,  6.03s/it]\n"
     ]
    },
    {
     "name": "stdout",
     "output_type": "stream",
     "text": [
      "Accuracy: 100.0\n",
      "Mean episode length: 20001.0\n"
     ]
    },
    {
     "name": "stderr",
     "output_type": "stream",
     "text": [
      "100%|██████████| 1/1 [00:02<00:00,  2.04s/it]\n"
     ]
    },
    {
     "name": "stdout",
     "output_type": "stream",
     "text": [
      "Accuracy: 100.0\n",
      "Mean episode length: 20001.0\n"
     ]
    },
    {
     "data": {
      "text/plain": [
       "<matplotlib.axes._subplots.AxesSubplot at 0x16820df40>"
      ]
     },
     "execution_count": 14,
     "metadata": {},
     "output_type": "execute_result"
    },
    {
     "data": {
      "image/png": "[encoded data removed]",
      "text/plain": [
       "<Figure size 432x288 with 1 Axes>"
      ]
     },
     "metadata": {
      "needs_background": "light"
     },
     "output_type": "display_data"
    }
   ],
   "source": [
    "rewards = []\n",
    "\n",
    "params_new = {\n",
    "    # # Runner parameters\n",
    "    'max_steps': 20000,\n",
    "    'num_episodes': 1,\n",
    "    'convergence_count_start': 1000000,\n",
    "    # 'convergence_consecutive_limit': 15,    \n",
    "    }\n",
    "\n",
    "params = default_params() | params_new\n",
    "\n",
    "from ucbq_agent_stateless import UCBQAgent\n",
    "\n",
    "params['surrogate'] = True\n",
    "params['agent'] = UCBQAgent\n",
    "q_values_all_experiments, rewards_all_experiments, episode_lengths, selected_actions, accuracy, last_reward_processor = qLearningExperiment(params=params)\n",
    "print(f'Accuracy: {accuracy}')    \n",
    "print(f'Mean episode length: {np.mean(episode_lengths)}')\n",
    "rewards.append(rewards_all_experiments)\n",
    "\n",
    "params = default_params() | params_new\n",
    "\n",
    "params['surrogate'] = True\n",
    "params['agent'] = UCBQAgent\n",
    "params['stationary_noise'] = True\n",
    "q_values_all_experiments, rewards_all_experiments, episode_lengths, selected_actions, accuracy, last_reward_processor = qLearningExperiment(params=params)\n",
    "print(f'Accuracy: {accuracy}')    \n",
    "print(f'Mean episode length: {np.mean(episode_lengths)}')\n",
    "rewards.append(rewards_all_experiments)\n",
    "\n",
    "mean_rewards = [get_mean_rewards_across_episodes(rewards_all_experiments) for rewards_all_experiments in rewards]\n",
    "\n",
    "pd.DataFrame(mean_rewards).T.plot()"
   ]
  },
  {
   "cell_type": "markdown",
   "metadata": {},
   "source": [
    "The non-stationary seems to be performing better. Before, we thought that\n",
    "stationarity would be better. However, what we showed was that for a constant epsilon of 1\n",
    "and a learning rate of 1, it learns the \"true average reward\" as well as the\n",
    "\"true\" q-value for each action. That is not the same as it learning the best\n",
    "reward in the long run."
   ]
  },
  {
   "cell_type": "markdown",
   "metadata": {},
   "source": [
    "The optimized parameters from the 5 agent comparison seemed to be performing best, \n",
    "both for stationary and non stationary noise. Let's see if we can figure out\n",
    "who is better among the two:"
   ]
  },
  {
   "cell_type": "code",
   "execution_count": 18,
   "metadata": {},
   "outputs": [
    {
     "name": "stderr",
     "output_type": "stream",
     "text": [
      "100%|██████████| 100/100 [00:13<00:00,  7.15it/s]\n"
     ]
    },
    {
     "name": "stdout",
     "output_type": "stream",
     "text": [
      "Accuracy: 95.0\n",
      "Mean episode length: 1001.0\n"
     ]
    },
    {
     "name": "stderr",
     "output_type": "stream",
     "text": [
      "100%|██████████| 100/100 [00:51<00:00,  1.94it/s]\n"
     ]
    },
    {
     "name": "stdout",
     "output_type": "stream",
     "text": [
      "Accuracy: 91.0\n",
      "Mean episode length: 1001.0\n"
     ]
    },
    {
     "data": {
      "text/plain": [
       "<matplotlib.axes._subplots.AxesSubplot at 0x168069cd0>"
      ]
     },
     "execution_count": 18,
     "metadata": {},
     "output_type": "execute_result"
    },
    {
     "data": {
      "image/png": "[encoded data removed]",
      "text/plain": [
       "<Figure size 432x288 with 1 Axes>"
      ]
     },
     "metadata": {
      "needs_background": "light"
     },
     "output_type": "display_data"
    }
   ],
   "source": [
    "rewards = []\n",
    "\n",
    "params_new = {\n",
    "    # # Runner parameters\n",
    "    'max_steps': 1000,\n",
    "    'num_episodes': 100,\n",
    "    'convergence_count_start': 1000000,\n",
    "    # 'convergence_consecutive_limit': 15,    \n",
    "    }\n",
    "\n",
    "params = default_params() | params_new\n",
    "optimized_params = {'target': 94.69999999999999, 'params': {'alpha': 0.44789352617590517, 'alpha_decay': 908.6869075900024, 'alpha_min': 0.2936141483736795, 'epsilon': 0.28777533858634874, 'epsilon_decay': 130.8985435461594, 'epsilon_min': 0.019366957870297075, 'gamma': 0.678835532939891, 'surrogate_c_interval': 26.183745804007025, 'surrogate_c_interval_min': 32.60005246529492}}\n",
    "params = params | optimized_params ['params']\n",
    "\n",
    "params['surrogate'] = True\n",
    "params['agent'] = UCBQAgent\n",
    "q_values_all_experiments, rewards_all_experiments, episode_lengths, selected_actions, accuracy, last_reward_processor = qLearningExperiment(params=params)\n",
    "print(f'Accuracy: {accuracy}')    \n",
    "print(f'Mean episode length: {np.mean(episode_lengths)}')\n",
    "rewards.append(rewards_all_experiments)\n",
    "\n",
    "params = default_params() | params_new\n",
    "optimized_params = {'target': 94.69999999999999, 'params': {'alpha': 0.44789352617590517, 'alpha_decay': 908.6869075900024, 'alpha_min': 0.2936141483736795, 'epsilon': 0.28777533858634874, 'epsilon_decay': 130.8985435461594, 'epsilon_min': 0.019366957870297075, 'gamma': 0.678835532939891, 'surrogate_c_interval': 26.183745804007025, 'surrogate_c_interval_min': 32.60005246529492}}\n",
    "params = params | optimized_params ['params']\n",
    "\n",
    "params['surrogate'] = True\n",
    "params['agent'] = UCBQAgent\n",
    "params['stationary_noise'] = True\n",
    "q_values_all_experiments, rewards_all_experiments, episode_lengths, selected_actions, accuracy, last_reward_processor = qLearningExperiment(params=params)\n",
    "print(f'Accuracy: {accuracy}')    \n",
    "print(f'Mean episode length: {np.mean(episode_lengths)}')\n",
    "rewards.append(rewards_all_experiments)\n",
    "\n",
    "mean_rewards = [get_mean_rewards_across_episodes(rewards_all_experiments) for rewards_all_experiments in rewards]\n",
    "\n",
    "pd.DataFrame(mean_rewards).T.plot()"
   ]
  },
  {
   "cell_type": "markdown",
   "metadata": {},
   "source": [
    "# Smoothing doesn't make a difference"
   ]
  },
  {
   "cell_type": "code",
   "execution_count": 8,
   "metadata": {},
   "outputs": [
    {
     "name": "stderr",
     "output_type": "stream",
     "text": [
      "100%|██████████| 100/100 [00:03<00:00, 26.20it/s]\n"
     ]
    },
    {
     "name": "stdout",
     "output_type": "stream",
     "text": [
      "Accuracy: 93.0\n",
      "Mean episode length: 1001.0\n"
     ]
    },
    {
     "name": "stderr",
     "output_type": "stream",
     "text": [
      "100%|██████████| 100/100 [00:03<00:00, 25.25it/s]\n"
     ]
    },
    {
     "name": "stdout",
     "output_type": "stream",
     "text": [
      "Accuracy: 94.0\n",
      "Mean episode length: 1001.0\n"
     ]
    },
    {
     "data": {
      "text/plain": [
       "<matplotlib.axes._subplots.AxesSubplot at 0x16c2d2bb0>"
      ]
     },
     "execution_count": 8,
     "metadata": {},
     "output_type": "execute_result"
    },
    {
     "data": {
      "image/png": "[encoded data removed]",
      "text/plain": [
       "<Figure size 432x288 with 1 Axes>"
      ]
     },
     "metadata": {
      "needs_background": "light"
     },
     "output_type": "display_data"
    }
   ],
   "source": [
    "rewards = []\n",
    "\n",
    "params_new = {\n",
    "    # # Runner parameters\n",
    "    'max_steps': 1000,\n",
    "    'num_episodes': 100,\n",
    "    'convergence_count_start': 1000000,\n",
    "    # 'convergence_consecutive_limit': 15,    \n",
    "    }\n",
    "\n",
    "params = default_params() | params_new\n",
    "optimized_params = {'target': 94.69999999999999, 'params': {'alpha': 0.44789352617590517, 'alpha_decay': 908.6869075900024, 'alpha_min': 0.2936141483736795, 'epsilon': 0.28777533858634874, 'epsilon_decay': 130.8985435461594, 'epsilon_min': 0.019366957870297075, 'gamma': 0.678835532939891, 'surrogate_c_interval': 26.183745804007025, 'surrogate_c_interval_min': 32.60005246529492}}\n",
    "params = params | optimized_params ['params']\n",
    "\n",
    "params['surrogate'] = True\n",
    "params['agent'] = UCBQAgent\n",
    "q_values_all_experiments, rewards_all_experiments, episode_lengths, selected_actions, accuracy, last_reward_processor = qLearningExperiment(params=params)\n",
    "print(f'Accuracy: {accuracy}')    \n",
    "print(f'Mean episode length: {np.mean(episode_lengths)}')\n",
    "rewards.append(rewards_all_experiments)\n",
    "\n",
    "params = default_params() | params_new\n",
    "optimized_params = {'target': 94.69999999999999, 'params': {'alpha': 0.44789352617590517, 'alpha_decay': 908.6869075900024, 'alpha_min': 0.2936141483736795, 'epsilon': 0.28777533858634874, 'epsilon_decay': 130.8985435461594, 'epsilon_min': 0.019366957870297075, 'gamma': 0.678835532939891, 'surrogate_c_interval': 26.183745804007025, 'surrogate_c_interval_min': 32.60005246529492}}\n",
    "params = params | optimized_params ['params']\n",
    "\n",
    "params['surrogate'] = True\n",
    "params['agent'] = UCBQAgent\n",
    "params['smooth'] = True\n",
    "q_values_all_experiments, rewards_all_experiments, episode_lengths, selected_actions, accuracy, last_reward_processor = qLearningExperiment(params=params)\n",
    "print(f'Accuracy: {accuracy}')    \n",
    "print(f'Mean episode length: {np.mean(episode_lengths)}')\n",
    "rewards.append(rewards_all_experiments)\n",
    "\n",
    "mean_rewards = [get_mean_rewards_across_episodes(rewards_all_experiments) for rewards_all_experiments in rewards]\n",
    "\n",
    "pd.DataFrame(mean_rewards).T.plot()"
   ]
  }
 ],
 "metadata": {
  "kernelspec": {
   "display_name": "base",
   "language": "python",
   "name": "python3"
  },
  "language_info": {
   "codemirror_mode": {
    "name": "ipython",
    "version": 3
   },
   "file_extension": ".py",
   "mimetype": "text/x-python",
   "name": "python",
   "nbconvert_exporter": "python",
   "pygments_lexer": "ipython3",
   "version": "3.9.7"
  }
 },
 "nbformat": 4,
 "nbformat_minor": 2
}
