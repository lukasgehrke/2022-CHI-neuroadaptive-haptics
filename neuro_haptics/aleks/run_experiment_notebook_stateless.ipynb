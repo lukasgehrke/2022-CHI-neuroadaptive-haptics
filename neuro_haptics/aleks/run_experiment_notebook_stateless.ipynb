{
 "cells": [
  {
   "cell_type": "markdown",
   "metadata": {},
   "source": [
    "# TODO\n",
    " - double check that params are getting properly propagated for the Agent and environment\n",
    " - ~~grid search for parameters~~\n",
    " - figure out parameters in surrogate rewards\n",
    " - ~~make rewards non binary in environment and surrogate rewards~~\n",
    " - ~~add deceay from papers, log and other~~\n",
    " - initiate q-table at `-1`?\n",
    " - run experiment with different `correct_action`\n",
    " - should we be setting up the glove for `very distinguishable` levels? Shouldn't we set it up with `barely distinguishable` levels, as this is where the perturbed rewards come on - they'd help us get through the noise and find the correct level."
   ]
  },
  {
   "cell_type": "markdown",
   "metadata": {},
   "source": [
    "# Scripts"
   ]
  },
  {
   "cell_type": "code",
   "execution_count": 1,
   "metadata": {},
   "outputs": [],
   "source": [
    "import numpy as np\n",
    "import collections\n",
    "import pandas as pd\n",
    "import argparse\n",
    "import time\n",
    "import numpy as np"
   ]
  },
  {
   "cell_type": "code",
   "execution_count": 2,
   "metadata": {},
   "outputs": [],
   "source": [
    "import noise_estimator"
   ]
  },
  {
   "cell_type": "code",
   "execution_count": 3,
   "metadata": {},
   "outputs": [],
   "source": [
    "# from ucbq_agent import UCBQAgent\n",
    "from ucbq_agent_stateless import UCBQAgent\n",
    "# from ucbq_environment import ModifiedRandomEnvironment\n",
    "from ucbq_environment_stateless import ModifiedRandomEnvironment"
   ]
  },
  {
   "cell_type": "markdown",
   "metadata": {},
   "source": [
    "# Params"
   ]
  },
  {
   "cell_type": "code",
   "execution_count": 4,
   "metadata": {},
   "outputs": [],
   "source": [
    "max_steps = 200\n",
    "num_episodes = 1"
   ]
  },
  {
   "cell_type": "code",
   "execution_count": 5,
   "metadata": {},
   "outputs": [],
   "source": [
    "timeOut = None\n",
    "num_states = 7\n",
    "# start_state = 1\n",
    "start_action = 0"
   ]
  },
  {
   "cell_type": "code",
   "execution_count": 6,
   "metadata": {},
   "outputs": [],
   "source": [
    "# zero indexed\n",
    "correct_action = 6"
   ]
  },
  {
   "cell_type": "code",
   "execution_count": 7,
   "metadata": {},
   "outputs": [],
   "source": [
    "def default_params():\n",
    "    \"\"\" These are the default parameters used int eh framework. \"\"\"\n",
    "    return {\n",
    "            # # Runner parameters\n",
    "            # 'max_episodes': int(1E6),         # experiment stops after this many episodes\n",
    "            # 'max_steps': int(1E9),            # experiment stops after this many steps\n",
    "            # 'multi_runner': False,            # uses multiple runners if True\n",
    "            # # Exploration parameters\n",
    "            # 'epsilon_anneal_time': int(5E3),  # exploration anneals epsilon over these many steps\n",
    "            # 'epsilon_finish': 0.1,            # annealing stops at (and keeps) this epsilon\n",
    "            # 'epsilon_start': 1,               # annealing starts at this epsilon\n",
    "            'epsilon': 1,               # annealing starts at this epsilon\n",
    "            'epsilon_decay': 0.5,\n",
    "            # Optimization parameters\n",
    "            'alpha': 0.5,                       # learning rate of optimizer\n",
    "            # 'gamma': 0.99,                    # discount factor gamma\n",
    "           }"
   ]
  },
  {
   "cell_type": "markdown",
   "metadata": {},
   "source": [
    "# Scripts"
   ]
  },
  {
   "cell_type": "code",
   "execution_count": 8,
   "metadata": {},
   "outputs": [],
   "source": [
    "import matplotlib.pyplot as plt\n",
    "from tqdm import tqdm \n",
    "import utils"
   ]
  },
  {
   "cell_type": "code",
   "execution_count": 9,
   "metadata": {},
   "outputs": [],
   "source": [
    "def get_mean_across_episodes(arr):\n",
    "    min_cols = np.amin([len(row) for row in arr])\n",
    "    truncated_arr = [ x[:min_cols] for x in arr ]\n",
    "    res = np.array(truncated_arr)\n",
    "    mean = res.mean(axis=0)\n",
    "\n",
    "    return mean    \n",
    "\n",
    "def get_cumsum_rewards(rewards):\n",
    "    cumulative_sum_rewards = np.cumsum(rewards)\n",
    "    time_steps = np.arange(1, len(rewards) + 1)\n",
    "    mean_rewards = cumulative_sum_rewards / time_steps\n",
    "    return mean_rewards"
   ]
  },
  {
   "cell_type": "code",
   "execution_count": 10,
   "metadata": {},
   "outputs": [],
   "source": [
    "def runner(adjust_rewards=None, \n",
    "           agent=None,\n",
    "           env=None,\n",
    "           params=default_params()):\n",
    "\n",
    "    agent = agent if agent else UCBQAgent(num_actions=num_states)\n",
    "    env = env if env else ModifiedRandomEnvironment()\n",
    "    start_time = time.time()\n",
    "    t = 0\n",
    "    episode_rewards = 0\n",
    "    q_values_for_chart = []\n",
    "    rewards = []\n",
    "    # state = start_state\n",
    "    action = start_action\n",
    "    state = 0\n",
    "    # same_action = None\n",
    "\n",
    "    while True:\n",
    "        elapsed_time = time.time() - start_time\n",
    "\n",
    "        # Auto shut down scipt \n",
    "        if bool(timeOut) and (elapsed_time > float(timeOut)):\n",
    "            break\n",
    "\n",
    "        if t >= max_steps:\n",
    "            break\n",
    "\n",
    "        action = agent.choose_action(state) \n",
    "        reward, next_state, done = env.step(action)        \n",
    "        rewards.append(reward)\n",
    "\n",
    "        if adjust_rewards:\n",
    "            reward = adjust_rewards(reward, state, action)\n",
    "        \n",
    "        agent.learn(state, action, reward, next_state)\n",
    "        # state = next_state\n",
    "\n",
    "        episode_rewards += reward\n",
    "\n",
    "        t += 1\n",
    "\n",
    "        # if agent.epsilon > agent.epsilon_min:\n",
    "        #     agent.epsilon *= 0.5\n",
    "\n",
    "        # if agent.alpha > agent.alpha_min:\n",
    "        #     agent.alpha *= 0.8\n",
    "\n",
    "\n",
    "        # if agent.epsilon > agent.epsilon_min:\n",
    "        #     agent.epsilon *= params['epsilon_decay']\n",
    "\n",
    "\n",
    "        # if agent.epsilon > agent.epsilon_min:\n",
    "        #     agent.epsilon -= agent.epsilon_decay(t)\n",
    "\n",
    "        # if agent.alpha > agent.alpha_min:\n",
    "        #     agent.alpha -= agent.alpha_decay(t)\n",
    "\n",
    "        # if agent.epsilon > agent.epsilon_min:\n",
    "        #     epsilon_decay = lambda t: np.log10(t+1)/params['epsilon_decay']\n",
    "        #     agent.epsilon -= epsilon_decay(t)\n",
    "\n",
    "        if t % 10 == 0:\n",
    "            sum_q_values_across_states = np.around(np.sum(agent.Q, axis=0), decimals=4)\n",
    "            q_values_for_chart.append(sum_q_values_across_states)\n",
    "            # print(agent.alpha, agent.epsilon)\n",
    "\n",
    "        if done:\n",
    "            break\n",
    "                \n",
    "    episode_length = t + 1\n",
    "    selected_action = action \n",
    "    \n",
    "    if t >= max_steps:\n",
    "        sum_q_values_across_states = np.around(np.sum(agent.Q, axis=0), decimals=4)\n",
    "        selected_action = np.argmax(sum_q_values_across_states)\n",
    "\n",
    "\n",
    "    return q_values_for_chart, rewards, episode_length, selected_action"
   ]
  },
  {
   "cell_type": "code",
   "execution_count": 11,
   "metadata": {},
   "outputs": [],
   "source": [
    "def qLearningExperiment(difference_fn=None, learner=None, params=default_params()):\n",
    "    q_values_all_experiments = []\n",
    "    rewards_all_experiments = []\n",
    "    episode_lengths = []\n",
    "    selected_actions = []\n",
    "\n",
    "    for i in tqdm(range(num_episodes)):\n",
    "        agent = UCBQAgent(params=params) if learner is None else learner\n",
    "        env = ModifiedRandomEnvironment(correct_action=correct_action)\n",
    "        q_values_for_chart, rewards, episode_length, selected_action = runner(difference_fn, env=env, agent=agent, params=params)\n",
    "        rewards_all_experiments.append(rewards)\n",
    "        q_values_all_experiments.append(q_values_for_chart)\n",
    "        episode_lengths.append(episode_length)\n",
    "        selected_actions.append(selected_action)\n",
    "\n",
    "    count = selected_actions.count(correct_action)\n",
    "    accuracy = (count / len(selected_actions)) * 100\n",
    "    \n",
    "    return q_values_all_experiments, rewards_all_experiments, episode_lengths, selected_actions, accuracy\n"
   ]
  },
  {
   "cell_type": "code",
   "execution_count": 12,
   "metadata": {},
   "outputs": [],
   "source": [
    "def plot_mean_q_values(difference_fn=None):\n",
    "    q_values_all_experiments, rewards_all_experiments, episode_lengths, selected_actions, accuracy = qLearningExperiment(difference_fn)\n",
    "\n",
    "    all_mean_rewards = [ get_cumsum_rewards(rewards) for rewards in rewards_all_experiments ]\n",
    "\n",
    "    all_mean_rewards = pd.DataFrame(all_mean_rewards) # rewards have different lengths\n",
    "    # because they terminate earlier sometimes\n",
    "    mean_matrix = np.mean(all_mean_rewards, axis=0)\n",
    "    mean_dataframe = pd.DataFrame(mean_matrix)\n",
    "    mean_dataframe.plot()\n",
    "\n",
    "    mean_matrix = get_mean_across_episodes(q_values_all_experiments)\n",
    "    mean_dataframe = pd.DataFrame(mean_matrix)\n",
    "\n",
    "    mean_dataframe.plot()\n",
    "\n",
    "    pd.DataFrame(episode_lengths).plot()\n",
    "    print(f'Mean episode length: {np.mean(episode_lengths)}') \n",
    "    pd.DataFrame(selected_actions).plot()\n",
    "\n",
    "    print(f'Accuracy: {accuracy}')"
   ]
  },
  {
   "cell_type": "markdown",
   "metadata": {},
   "source": [
    "# Real rewards UCB Q-learning"
   ]
  },
  {
   "cell_type": "code",
   "execution_count": 13,
   "metadata": {},
   "outputs": [],
   "source": [
    "rewards_all_experiments = []\n",
    "\n",
    "qs, rewards, _, _ = runner()\n",
    "rewards_all_experiments.append(rewards)"
   ]
  },
  {
   "cell_type": "code",
   "execution_count": 14,
   "metadata": {},
   "outputs": [
    {
     "name": "stdout",
     "output_type": "stream",
     "text": [
      "Q-table:\n",
      "[[-3.     -2.5    -3.     -2.25   -1.5    -0.9375  0.    ]]\n",
      "Number of times action was taken:\n",
      "[[ 2.  2.  3.  3.  3.  5. 45.]]\n",
      "Total timesteps: -37.0\n"
     ]
    }
   ],
   "source": [
    "agent = UCBQAgent(num_actions=num_states)\n",
    "\n",
    "runner(agent=agent)\n",
    "utils.print_agent_stats(agent)"
   ]
  },
  {
   "cell_type": "code",
   "execution_count": 15,
   "metadata": {},
   "outputs": [
    {
     "name": "stderr",
     "output_type": "stream",
     "text": [
      "  0%|          | 0/1 [00:00<?, ?it/s]"
     ]
    },
    {
     "name": "stderr",
     "output_type": "stream",
     "text": [
      "100%|██████████| 1/1 [00:00<00:00,  8.56it/s]"
     ]
    },
    {
     "name": "stdout",
     "output_type": "stream",
     "text": [
      "Mean episode length: 61.0\n",
      "Accuracy: 100.0\n"
     ]
    },
    {
     "name": "stderr",
     "output_type": "stream",
     "text": [
      "\n"
     ]
    },
    {
     "data": {
      "image/png": "[encoded data removed]",
      "text/plain": [
       "<Figure size 432x288 with 1 Axes>"
      ]
     },
     "metadata": {
      "needs_background": "light"
     },
     "output_type": "display_data"
    },
    {
     "data": {
      "image/png": "[encoded data removed]",
      "text/plain": [
       "<Figure size 432x288 with 1 Axes>"
      ]
     },
     "metadata": {
      "needs_background": "light"
     },
     "output_type": "display_data"
    },
    {
     "data": {
      "image/png": "[encoded data removed]",
      "text/plain": [
       "<Figure size 432x288 with 1 Axes>"
      ]
     },
     "metadata": {
      "needs_background": "light"
     },
     "output_type": "display_data"
    },
    {
     "data": {
      "image/png": "[encoded data removed]",
      "text/plain": [
       "<Figure size 432x288 with 1 Axes>"
      ]
     },
     "metadata": {
      "needs_background": "light"
     },
     "output_type": "display_data"
    }
   ],
   "source": [
    "# The Q-value shape make sense - we're trying higher numbers later\n",
    "# so they converge to -1 slower than e.g. action 0 or 1\n",
    "plot_mean_q_values()"
   ]
  },
  {
   "cell_type": "markdown",
   "metadata": {},
   "source": [
    "# Noisy rewards\n",
    "- rewards are now noisy\n",
    "- q-learner hasn't changed"
   ]
  },
  {
   "cell_type": "code",
   "execution_count": 16,
   "metadata": {},
   "outputs": [
    {
     "data": {
      "text/plain": [
       "(array([[0.8, 0. , 0. , 0. , 0. , 0. , 0.2],\n",
       "        [0. , 0.8, 0. , 0. , 0. , 0.2, 0. ],\n",
       "        [0. , 0. , 0.8, 0. , 0.2, 0. , 0. ],\n",
       "        [0. , 0. , 0. , 1. , 0. , 0. , 0. ],\n",
       "        [0. , 0. , 0.2, 0. , 0.8, 0. , 0. ],\n",
       "        [0. , 0.2, 0. , 0. , 0. , 0.8, 0. ],\n",
       "        [0.2, 0. , 0. , 0. , 0. , 0. , 0.8]]),\n",
       " 1)"
      ]
     },
     "execution_count": 16,
     "metadata": {},
     "output_type": "execute_result"
    }
   ],
   "source": [
    "# Generate confusion matrix\n",
    "noise_estimator.initialize_cmat(\"anti_iden\", 7, 0.2)"
   ]
  },
  {
   "cell_type": "code",
   "execution_count": 17,
   "metadata": {},
   "outputs": [],
   "source": [
    "from modified_pendulum_processor import ModifiedPendulumProcessor"
   ]
  },
  {
   "cell_type": "code",
   "execution_count": 18,
   "metadata": {},
   "outputs": [
    {
     "name": "stderr",
     "output_type": "stream",
     "text": [
      "100%|██████████| 1/1 [00:00<00:00,  2.61it/s]"
     ]
    },
    {
     "name": "stdout",
     "output_type": "stream",
     "text": [
      "Mean episode length: 201.0\n",
      "Accuracy: 0.0\n",
      "[[0.8 0.  0.  0.  0.  0.  0.2]\n",
      " [0.  0.8 0.  0.  0.  0.2 0. ]\n",
      " [0.  0.  0.8 0.  0.2 0.  0. ]\n",
      " [0.  0.  0.  1.  0.  0.  0. ]\n",
      " [0.  0.  0.2 0.  0.8 0.  0. ]\n",
      " [0.  0.2 0.  0.  0.  0.8 0. ]\n",
      " [0.2 0.  0.  0.  0.  0.  0.8]]\n",
      "{(0, 4): [-2, -4, -2, -2, -2, -2, -2, -2, -2, -2, -2, -2, -2, -2, -2, -2, -2, -2, -4, -2, -2, -2, -2, -2, -2, -2, -2, -2, -2, -4, -2, -4, -4], (0, 0): [0, -6, -6, -6, -6, -6, 0, 0, -6, -6, -6, -6, -6, 0], (0, 1): [-5, -5, -5, -5, -1, -5, -5, -5, -1, -5, -5, -5, -5, -1, -5], (0, 2): [-4, -4, -4, -4, -4, -4, -2, -4, -4, -2, -4, -2, -4, -4, -4, -4, -2, -4, -4], (0, 3): [-3, -3, -3, -3, -3, -3, -3, -3, -3, -3, -3, -3, -3, -3, -3, -3, -3, -3, -3, -3, -3, -3, -3], (0, 5): [-5, -1, -1, -1, -1, -1, -1, -1, -5, -1, -1, -1, -1, -1, -1, -5, -5, -1, -1, -1, -1, -1, -1, -1, -1, -1, -1, -1, -1, -1, -1, -1, -1, -1, -5, -5, -1, -5, -1, -1, -1, -5, -1, -5], (0, 6): [0, 0, 0, 0, 0, 0, 0, -6, 0, 0, 0, 0, 0, 0, 0, 0, -6, 0, 0, 0, 0, -6, 0, 0, 0, 0, 0, -6, -6, 0, 0, -6, -6, 0, 0, -6, 0, 0, -6, -6, 0, 0, 0, 0, 0, 0, 0, 0, 0, -6, -6, -6]}\n",
      "Estimated confusion matrix:\n",
      "[[1. 0. 0. 0. 0. 0. 0.]\n",
      " [0. 1. 0. 0. 0. 0. 0.]\n",
      " [0. 0. 1. 0. 0. 0. 0.]\n",
      " [0. 0. 0. 1. 0. 0. 0.]\n",
      " [0. 0. 0. 0. 1. 0. 0.]\n",
      " [0. 0. 0. 0. 0. 1. 0.]\n",
      " [0. 0. 0. 0. 0. 0. 1.]]\n"
     ]
    },
    {
     "name": "stderr",
     "output_type": "stream",
     "text": [
      "\n"
     ]
    },
    {
     "data": {
      "image/png": "[encoded data removed]",
      "text/plain": [
       "<Figure size 432x288 with 1 Axes>"
      ]
     },
     "metadata": {
      "needs_background": "light"
     },
     "output_type": "display_data"
    },
    {
     "data": {
      "image/png": "[encoded data removed]",
      "text/plain": [
       "<Figure size 432x288 with 1 Axes>"
      ]
     },
     "metadata": {
      "needs_background": "light"
     },
     "output_type": "display_data"
    },
    {
     "data": {
      "image/png": "[encoded data removed]",
      "text/plain": [
       "<Figure size 432x288 with 1 Axes>"
      ]
     },
     "metadata": {
      "needs_background": "light"
     },
     "output_type": "display_data"
    },
    {
     "data": {
      "image/png": "[encoded data removed]",
      "text/plain": [
       "<Figure size 432x288 with 1 Axes>"
      ]
     },
     "metadata": {
      "needs_background": "light"
     },
     "output_type": "display_data"
    }
   ],
   "source": [
    "post_processor_noisy = ModifiedPendulumProcessor(surrogate=False)\n",
    "\n",
    "def adjust_rewards_noisy(reward, state, action):    \n",
    "    observation, reward, done, info = post_processor_noisy.process_step(state, reward, None, None, action)\n",
    "    return reward\n",
    "\n",
    "plot_mean_q_values(adjust_rewards_noisy)\n",
    "print(post_processor_noisy.cmat)\n",
    "print(post_processor_noisy.r_sets)\n",
    "print('Estimated confusion matrix:')\n",
    "print(np.around(post_processor_noisy.C, decimals=4))"
   ]
  },
  {
   "cell_type": "markdown",
   "metadata": {},
   "source": [
    "# Surrogate rewards"
   ]
  },
  {
   "cell_type": "code",
   "execution_count": 19,
   "metadata": {},
   "outputs": [
    {
     "name": "stderr",
     "output_type": "stream",
     "text": [
      "100%|██████████| 1/1 [00:00<00:00,  9.13it/s]\n"
     ]
    },
    {
     "name": "stdout",
     "output_type": "stream",
     "text": [
      "Mean episode length: 52.0\n",
      "Accuracy: 0.0\n",
      "[[0.8 0.  0.  0.  0.  0.  0.2]\n",
      " [0.  0.8 0.  0.  0.  0.2 0. ]\n",
      " [0.  0.  0.8 0.  0.2 0.  0. ]\n",
      " [0.  0.  0.  1.  0.  0.  0. ]\n",
      " [0.  0.  0.2 0.  0.8 0.  0. ]\n",
      " [0.  0.2 0.  0.  0.  0.8 0. ]\n",
      " [0.2 0.  0.  0.  0.  0.  0.8]]\n",
      "{(0, 4): [-2, -2, -2, -2, -2, -2], (0, 0): [-6, -6], (0, 1): [-1, -5, -5, -5], (0, 2): [-4, -4, -4], (0, 3): [-3, -3, -3, -3], (0, 5): [-5, -1, -1, -5, -1, -1, -5, -1, -1, -1, -1, -1, -1, -1, -1, -1, -1, -1, -1, -5, -1, -1], (0, 6): [0, 0, 0, 0, 0, 0, 0, -6, 0, -6]}\n",
      "Estimated confusion matrix:\n",
      "[[0.8    0.     0.     0.     0.     0.     0.2   ]\n",
      " [0.     0.8182 0.     0.     0.     0.1818 0.    ]\n",
      " [0.     0.     1.     0.     0.     0.     0.    ]\n",
      " [0.     0.     0.     1.     0.     0.     0.    ]\n",
      " [0.     0.     0.     0.     1.     0.     0.    ]\n",
      " [0.     0.25   0.     0.     0.     0.75   0.    ]\n",
      " [0.     0.     0.     0.     0.     0.     1.    ]]\n"
     ]
    },
    {
     "data": {
      "image/png": "[encoded data removed]",
      "text/plain": [
       "<Figure size 432x288 with 1 Axes>"
      ]
     },
     "metadata": {
      "needs_background": "light"
     },
     "output_type": "display_data"
    },
    {
     "data": {
      "image/png": "[encoded data removed]",
      "text/plain": [
       "<Figure size 432x288 with 1 Axes>"
      ]
     },
     "metadata": {
      "needs_background": "light"
     },
     "output_type": "display_data"
    },
    {
     "data": {
      "image/png": "[encoded data removed]",
      "text/plain": [
       "<Figure size 432x288 with 1 Axes>"
      ]
     },
     "metadata": {
      "needs_background": "light"
     },
     "output_type": "display_data"
    },
    {
     "data": {
      "image/png": "[encoded data removed]",
      "text/plain": [
       "<Figure size 432x288 with 1 Axes>"
      ]
     },
     "metadata": {
      "needs_background": "light"
     },
     "output_type": "display_data"
    }
   ],
   "source": [
    "post_processor_surrogate = ModifiedPendulumProcessor(surrogate=True)\n",
    "\n",
    "def adjust_rewards_surrogate(reward, state, action):    \n",
    "    observation, reward, done, info = post_processor_surrogate.process_step(state, reward, None, None, action)\n",
    "    return reward\n",
    "\n",
    "plot_mean_q_values(adjust_rewards_surrogate)\n",
    "\n",
    "print(post_processor_surrogate.cmat)\n",
    "print(post_processor_surrogate.r_sets)\n",
    "print('Estimated confusion matrix:')\n",
    "print(np.around(post_processor_surrogate.C, decimals=4))"
   ]
  },
  {
   "cell_type": "markdown",
   "metadata": {},
   "source": [
    "# Sanity check"
   ]
  },
  {
   "cell_type": "code",
   "execution_count": 20,
   "metadata": {},
   "outputs": [
    {
     "name": "stdout",
     "output_type": "stream",
     "text": [
      "Accuracy should be higher, timesteps should be lower\n"
     ]
    },
    {
     "name": "stderr",
     "output_type": "stream",
     "text": [
      "100%|██████████| 100/100 [00:22<00:00,  4.49it/s]\n"
     ]
    },
    {
     "name": "stdout",
     "output_type": "stream",
     "text": [
      "56.99999999999999 110.06\n"
     ]
    },
    {
     "name": "stderr",
     "output_type": "stream",
     "text": [
      "100%|██████████| 100/100 [00:20<00:00,  4.88it/s]"
     ]
    },
    {
     "name": "stdout",
     "output_type": "stream",
     "text": [
      "74.0 79.06\n"
     ]
    },
    {
     "name": "stderr",
     "output_type": "stream",
     "text": [
      "\n"
     ]
    }
   ],
   "source": [
    "max_steps = 120\n",
    "num_episodes = 100\n",
    "\n",
    "print('Accuracy should be higher, timesteps should be lower')\n",
    "\n",
    "post_processor_noisy = ModifiedPendulumProcessor(surrogate=False)\n",
    "\n",
    "def adjust_rewards_noisy(reward, state, action):    \n",
    "    observation, reward, done, info = post_processor_noisy.process_step(state, reward, None, None, action)\n",
    "    return reward\n",
    "\n",
    "q_values_all_experiments, rewards_all_experiments, episode_lengths, selected_actions, accuracy = qLearningExperiment(adjust_rewards_noisy)\n",
    "mean_episode_length = np.mean(episode_lengths)\n",
    "print(accuracy, mean_episode_length) \n",
    "\n",
    "post_processor_surrogate = ModifiedPendulumProcessor(surrogate=True)\n",
    "\n",
    "def adjust_rewards_surrogate(reward, state, action):    \n",
    "    observation, reward, done, info = post_processor_surrogate.process_step(state, reward, None, None, action)\n",
    "    return reward\n",
    "\n",
    "q_values_all_experiments, rewards_all_experiments, episode_lengths, selected_actions, accuracy = qLearningExperiment(adjust_rewards_surrogate)\n",
    "mean_episode_length = np.mean(episode_lengths)\n",
    "print(accuracy, mean_episode_length) "
   ]
  },
  {
   "cell_type": "markdown",
   "metadata": {},
   "source": [
    "# Bayesian optimization"
   ]
  },
  {
   "cell_type": "code",
   "execution_count": 21,
   "metadata": {},
   "outputs": [],
   "source": [
    "# !pip install bayesian-optimization"
   ]
  },
  {
   "cell_type": "code",
   "execution_count": 22,
   "metadata": {},
   "outputs": [
    {
     "name": "stdout",
     "output_type": "stream",
     "text": [
      "|   iter    |  target   |   alpha   |  epsilon  | epsilo... |\n",
      "-------------------------------------------------------------\n"
     ]
    },
    {
     "name": "stderr",
     "output_type": "stream",
     "text": [
      "100%|██████████| 100/100 [00:29<00:00,  3.35it/s]\n"
     ]
    },
    {
     "ename": "TypeError",
     "evalue": "unsupported format string passed to NoneType.__format__",
     "output_type": "error",
     "traceback": [
      "\u001b[0;31m---------------------------------------------------------------------------\u001b[0m",
      "\u001b[0;31mTypeError\u001b[0m                                 Traceback (most recent call last)",
      "\u001b[1;32m/Users/schnuckiputz/other/git/2022-CHI-neuroadaptive-haptics/neuro_haptics/aleks/run_experiment_notebook_stateless.ipynb Cell 31\u001b[0m line \u001b[0;36m<module>\u001b[0;34m\u001b[0m\n\u001b[1;32m     <a href='vscode-notebook-cell:/Users/schnuckiputz/other/git/2022-CHI-neuroadaptive-haptics/neuro_haptics/aleks/run_experiment_notebook_stateless.ipynb#X42sZmlsZQ%3D%3D?line=23'>24</a>\u001b[0m optimizer \u001b[39m=\u001b[39m BayesianOptimization(\n\u001b[1;32m     <a href='vscode-notebook-cell:/Users/schnuckiputz/other/git/2022-CHI-neuroadaptive-haptics/neuro_haptics/aleks/run_experiment_notebook_stateless.ipynb#X42sZmlsZQ%3D%3D?line=24'>25</a>\u001b[0m     f\u001b[39m=\u001b[39mobjective,\n\u001b[1;32m     <a href='vscode-notebook-cell:/Users/schnuckiputz/other/git/2022-CHI-neuroadaptive-haptics/neuro_haptics/aleks/run_experiment_notebook_stateless.ipynb#X42sZmlsZQ%3D%3D?line=25'>26</a>\u001b[0m     pbounds\u001b[39m=\u001b[39m{\u001b[39m'\u001b[39m\u001b[39malpha\u001b[39m\u001b[39m'\u001b[39m: (\u001b[39m0\u001b[39m, \u001b[39m1\u001b[39m), \u001b[39m'\u001b[39m\u001b[39mepsilon\u001b[39m\u001b[39m'\u001b[39m: (\u001b[39m0\u001b[39m, \u001b[39m1\u001b[39m), \u001b[39m'\u001b[39m\u001b[39mepsilon_decay\u001b[39m\u001b[39m'\u001b[39m: (\u001b[39m10\u001b[39m, \u001b[39m80\u001b[39m)},\n\u001b[1;32m     <a href='vscode-notebook-cell:/Users/schnuckiputz/other/git/2022-CHI-neuroadaptive-haptics/neuro_haptics/aleks/run_experiment_notebook_stateless.ipynb#X42sZmlsZQ%3D%3D?line=26'>27</a>\u001b[0m     random_state\u001b[39m=\u001b[39m\u001b[39m1\u001b[39m,\n\u001b[1;32m     <a href='vscode-notebook-cell:/Users/schnuckiputz/other/git/2022-CHI-neuroadaptive-haptics/neuro_haptics/aleks/run_experiment_notebook_stateless.ipynb#X42sZmlsZQ%3D%3D?line=27'>28</a>\u001b[0m )\n\u001b[1;32m     <a href='vscode-notebook-cell:/Users/schnuckiputz/other/git/2022-CHI-neuroadaptive-haptics/neuro_haptics/aleks/run_experiment_notebook_stateless.ipynb#X42sZmlsZQ%3D%3D?line=29'>30</a>\u001b[0m \u001b[39m# n_iter: How many steps of bayesian optimization you want to perform. \u001b[39;00m\n\u001b[1;32m     <a href='vscode-notebook-cell:/Users/schnuckiputz/other/git/2022-CHI-neuroadaptive-haptics/neuro_haptics/aleks/run_experiment_notebook_stateless.ipynb#X42sZmlsZQ%3D%3D?line=30'>31</a>\u001b[0m \u001b[39m# The more steps the more likely to find a good maximum you are.\u001b[39;00m\n\u001b[1;32m     <a href='vscode-notebook-cell:/Users/schnuckiputz/other/git/2022-CHI-neuroadaptive-haptics/neuro_haptics/aleks/run_experiment_notebook_stateless.ipynb#X42sZmlsZQ%3D%3D?line=31'>32</a>\u001b[0m \u001b[39m# init_points: How many steps of random exploration you want to perform.\u001b[39;00m\n\u001b[1;32m     <a href='vscode-notebook-cell:/Users/schnuckiputz/other/git/2022-CHI-neuroadaptive-haptics/neuro_haptics/aleks/run_experiment_notebook_stateless.ipynb#X42sZmlsZQ%3D%3D?line=32'>33</a>\u001b[0m \u001b[39m# Random exploration can help by diversifying the exploration space.\u001b[39;00m\n\u001b[0;32m---> <a href='vscode-notebook-cell:/Users/schnuckiputz/other/git/2022-CHI-neuroadaptive-haptics/neuro_haptics/aleks/run_experiment_notebook_stateless.ipynb#X42sZmlsZQ%3D%3D?line=33'>34</a>\u001b[0m optimizer\u001b[39m.\u001b[39;49mmaximize(\n\u001b[1;32m     <a href='vscode-notebook-cell:/Users/schnuckiputz/other/git/2022-CHI-neuroadaptive-haptics/neuro_haptics/aleks/run_experiment_notebook_stateless.ipynb#X42sZmlsZQ%3D%3D?line=34'>35</a>\u001b[0m     init_points\u001b[39m=\u001b[39;49m\u001b[39m2\u001b[39;49m,\n\u001b[1;32m     <a href='vscode-notebook-cell:/Users/schnuckiputz/other/git/2022-CHI-neuroadaptive-haptics/neuro_haptics/aleks/run_experiment_notebook_stateless.ipynb#X42sZmlsZQ%3D%3D?line=35'>36</a>\u001b[0m     n_iter\u001b[39m=\u001b[39;49m\u001b[39m3\u001b[39;49m,\n\u001b[1;32m     <a href='vscode-notebook-cell:/Users/schnuckiputz/other/git/2022-CHI-neuroadaptive-haptics/neuro_haptics/aleks/run_experiment_notebook_stateless.ipynb#X42sZmlsZQ%3D%3D?line=36'>37</a>\u001b[0m )\n\u001b[1;32m     <a href='vscode-notebook-cell:/Users/schnuckiputz/other/git/2022-CHI-neuroadaptive-haptics/neuro_haptics/aleks/run_experiment_notebook_stateless.ipynb#X42sZmlsZQ%3D%3D?line=38'>39</a>\u001b[0m best_params \u001b[39m=\u001b[39m optimizer\u001b[39m.\u001b[39mmax[\u001b[39m'\u001b[39m\u001b[39mparams\u001b[39m\u001b[39m'\u001b[39m]\n\u001b[1;32m     <a href='vscode-notebook-cell:/Users/schnuckiputz/other/git/2022-CHI-neuroadaptive-haptics/neuro_haptics/aleks/run_experiment_notebook_stateless.ipynb#X42sZmlsZQ%3D%3D?line=40'>41</a>\u001b[0m \u001b[39mprint\u001b[39m(optimizer\u001b[39m.\u001b[39mmax)\n",
      "File \u001b[0;32m/opt/homebrew/Caskroom/miniforge/base/lib/python3.9/site-packages/bayes_opt/bayesian_optimization.py:310\u001b[0m, in \u001b[0;36mBayesianOptimization.maximize\u001b[0;34m(self, init_points, n_iter, acquisition_function, acq, kappa, kappa_decay, kappa_decay_delay, xi, **gp_params)\u001b[0m\n\u001b[1;32m    308\u001b[0m     x_probe \u001b[39m=\u001b[39m \u001b[39mself\u001b[39m\u001b[39m.\u001b[39msuggest(util)\n\u001b[1;32m    309\u001b[0m     iteration \u001b[39m+\u001b[39m\u001b[39m=\u001b[39m \u001b[39m1\u001b[39m\n\u001b[0;32m--> 310\u001b[0m \u001b[39mself\u001b[39;49m\u001b[39m.\u001b[39;49mprobe(x_probe, lazy\u001b[39m=\u001b[39;49m\u001b[39mFalse\u001b[39;49;00m)\n\u001b[1;32m    312\u001b[0m \u001b[39mif\u001b[39;00m \u001b[39mself\u001b[39m\u001b[39m.\u001b[39m_bounds_transformer \u001b[39mand\u001b[39;00m iteration \u001b[39m>\u001b[39m \u001b[39m0\u001b[39m:\n\u001b[1;32m    313\u001b[0m     \u001b[39m# The bounds transformer should only modify the bounds after\u001b[39;00m\n\u001b[1;32m    314\u001b[0m     \u001b[39m# the init_points points (only for the true iterations)\u001b[39;00m\n\u001b[1;32m    315\u001b[0m     \u001b[39mself\u001b[39m\u001b[39m.\u001b[39mset_bounds(\n\u001b[1;32m    316\u001b[0m         \u001b[39mself\u001b[39m\u001b[39m.\u001b[39m_bounds_transformer\u001b[39m.\u001b[39mtransform(\u001b[39mself\u001b[39m\u001b[39m.\u001b[39m_space))\n",
      "File \u001b[0;32m/opt/homebrew/Caskroom/miniforge/base/lib/python3.9/site-packages/bayes_opt/bayesian_optimization.py:209\u001b[0m, in \u001b[0;36mBayesianOptimization.probe\u001b[0;34m(self, params, lazy)\u001b[0m\n\u001b[1;32m    207\u001b[0m \u001b[39melse\u001b[39;00m:\n\u001b[1;32m    208\u001b[0m     \u001b[39mself\u001b[39m\u001b[39m.\u001b[39m_space\u001b[39m.\u001b[39mprobe(params)\n\u001b[0;32m--> 209\u001b[0m     \u001b[39mself\u001b[39;49m\u001b[39m.\u001b[39;49mdispatch(Events\u001b[39m.\u001b[39;49mOPTIMIZATION_STEP)\n",
      "File \u001b[0;32m/opt/homebrew/Caskroom/miniforge/base/lib/python3.9/site-packages/bayes_opt/bayesian_optimization.py:62\u001b[0m, in \u001b[0;36mObservable.dispatch\u001b[0;34m(self, event)\u001b[0m\n\u001b[1;32m     60\u001b[0m \u001b[39mdef\u001b[39;00m \u001b[39mdispatch\u001b[39m(\u001b[39mself\u001b[39m, event):\n\u001b[1;32m     61\u001b[0m     \u001b[39mfor\u001b[39;00m _, callback \u001b[39min\u001b[39;00m \u001b[39mself\u001b[39m\u001b[39m.\u001b[39mget_subscribers(event)\u001b[39m.\u001b[39mitems():\n\u001b[0;32m---> 62\u001b[0m         callback(event, \u001b[39mself\u001b[39;49m)\n",
      "File \u001b[0;32m/opt/homebrew/Caskroom/miniforge/base/lib/python3.9/site-packages/bayes_opt/logger.py:127\u001b[0m, in \u001b[0;36mScreenLogger.update\u001b[0;34m(self, event, instance)\u001b[0m\n\u001b[1;32m    125\u001b[0m     \u001b[39melse\u001b[39;00m:\n\u001b[1;32m    126\u001b[0m         colour \u001b[39m=\u001b[39m Colours\u001b[39m.\u001b[39mpurple \u001b[39mif\u001b[39;00m is_new_max \u001b[39melse\u001b[39;00m Colours\u001b[39m.\u001b[39mblack\n\u001b[0;32m--> 127\u001b[0m         line \u001b[39m=\u001b[39m \u001b[39mself\u001b[39;49m\u001b[39m.\u001b[39;49m_step(instance, colour\u001b[39m=\u001b[39;49mcolour) \u001b[39m+\u001b[39m \u001b[39m\"\u001b[39m\u001b[39m\\n\u001b[39;00m\u001b[39m\"\u001b[39m\n\u001b[1;32m    128\u001b[0m \u001b[39melif\u001b[39;00m event \u001b[39m==\u001b[39m Events\u001b[39m.\u001b[39mOPTIMIZATION_END:\n\u001b[1;32m    129\u001b[0m     line \u001b[39m=\u001b[39m \u001b[39m\"\u001b[39m\u001b[39m=\u001b[39m\u001b[39m\"\u001b[39m \u001b[39m*\u001b[39m \u001b[39mself\u001b[39m\u001b[39m.\u001b[39m_header_length \u001b[39m+\u001b[39m \u001b[39m\"\u001b[39m\u001b[39m\\n\u001b[39;00m\u001b[39m\"\u001b[39m\n",
      "File \u001b[0;32m/opt/homebrew/Caskroom/miniforge/base/lib/python3.9/site-packages/bayes_opt/logger.py:83\u001b[0m, in \u001b[0;36mScreenLogger._step\u001b[0;34m(self, instance, colour)\u001b[0m\n\u001b[1;32m     80\u001b[0m cells \u001b[39m=\u001b[39m []\n\u001b[1;32m     82\u001b[0m cells\u001b[39m.\u001b[39mappend(\u001b[39mself\u001b[39m\u001b[39m.\u001b[39m_format_number(\u001b[39mself\u001b[39m\u001b[39m.\u001b[39m_iterations \u001b[39m+\u001b[39m \u001b[39m1\u001b[39m))\n\u001b[0;32m---> 83\u001b[0m cells\u001b[39m.\u001b[39mappend(\u001b[39mself\u001b[39;49m\u001b[39m.\u001b[39;49m_format_number(res[\u001b[39m\"\u001b[39;49m\u001b[39mtarget\u001b[39;49m\u001b[39m\"\u001b[39;49m]))\n\u001b[1;32m     84\u001b[0m \u001b[39mif\u001b[39;00m \u001b[39mself\u001b[39m\u001b[39m.\u001b[39m_is_constrained:\n\u001b[1;32m     85\u001b[0m     cells\u001b[39m.\u001b[39mappend(\u001b[39mself\u001b[39m\u001b[39m.\u001b[39m_format_bool(res[\u001b[39m\"\u001b[39m\u001b[39mallowed\u001b[39m\u001b[39m\"\u001b[39m]))\n",
      "File \u001b[0;32m/opt/homebrew/Caskroom/miniforge/base/lib/python3.9/site-packages/bayes_opt/logger.py:42\u001b[0m, in \u001b[0;36mScreenLogger._format_number\u001b[0;34m(self, x)\u001b[0m\n\u001b[1;32m     37\u001b[0m         s \u001b[39m=\u001b[39m \u001b[39m\"\u001b[39m\u001b[39m{\u001b[39m\u001b[39mx:<\u001b[39m\u001b[39m{s}\u001b[39;00m\u001b[39m}\u001b[39m\u001b[39m\"\u001b[39m\u001b[39m.\u001b[39mformat(\n\u001b[1;32m     38\u001b[0m             x\u001b[39m=\u001b[39mx,\n\u001b[1;32m     39\u001b[0m             s\u001b[39m=\u001b[39m\u001b[39mself\u001b[39m\u001b[39m.\u001b[39m_default_cell_size,\n\u001b[1;32m     40\u001b[0m         )\n\u001b[1;32m     41\u001b[0m \u001b[39melse\u001b[39;00m:\n\u001b[0;32m---> 42\u001b[0m     s \u001b[39m=\u001b[39m \u001b[39m\"\u001b[39;49m\u001b[39m{\u001b[39;49m\u001b[39mx:<\u001b[39;49m\u001b[39m{s}\u001b[39;49;00m\u001b[39m.\u001b[39;49m\u001b[39m{p}\u001b[39;49;00m\u001b[39m}\u001b[39;49m\u001b[39m\"\u001b[39;49m\u001b[39m.\u001b[39;49mformat(\n\u001b[1;32m     43\u001b[0m         x\u001b[39m=\u001b[39;49mx,\n\u001b[1;32m     44\u001b[0m         s\u001b[39m=\u001b[39;49m\u001b[39mself\u001b[39;49m\u001b[39m.\u001b[39;49m_default_cell_size,\n\u001b[1;32m     45\u001b[0m         p\u001b[39m=\u001b[39;49m\u001b[39mself\u001b[39;49m\u001b[39m.\u001b[39;49m_default_precision,\n\u001b[1;32m     46\u001b[0m     )\n\u001b[1;32m     48\u001b[0m \u001b[39mif\u001b[39;00m \u001b[39mlen\u001b[39m(s) \u001b[39m>\u001b[39m \u001b[39mself\u001b[39m\u001b[39m.\u001b[39m_default_cell_size:\n\u001b[1;32m     49\u001b[0m     \u001b[39mif\u001b[39;00m \u001b[39m\"\u001b[39m\u001b[39m.\u001b[39m\u001b[39m\"\u001b[39m \u001b[39min\u001b[39;00m s:\n",
      "\u001b[0;31mTypeError\u001b[0m: unsupported format string passed to NoneType.__format__"
     ]
    }
   ],
   "source": [
    "max_steps = 120\n",
    "num_episodes = 100\n",
    "\n",
    "from bayes_opt import BayesianOptimization\n",
    "\n",
    "def objective(alpha, epsilon, epsilon_decay):\n",
    "    # 'alpha': [0, 1.0],\n",
    "    # # 'alpha_decay'\n",
    "    # 'epsilon': [0, 1.0],\n",
    "    # # 'epsilon_decay': [0.1, 1.0],\n",
    "    # # 'gamma'\n",
    "    # 'epsilon_decay': [10, 20, 40, 80],\n",
    "    # # 'surrogate_c_interval': [1, 2, 5, 10, 20, 40]\n",
    "    # # 'surrogate_lr'    \n",
    "    # convergence_number_of_consequent_actions\n",
    "    # intial_q_values: [0, -7]\n",
    "    params = {'alpha': alpha, 'epsilon': epsilon, 'epsilon_decay': epsilon_decay}\n",
    "    # _, _, _, _, accuracy = qLearningExperiment(adjust_rewards_surrogate, params=params)\n",
    "    q_values_all_experiments, rewards_all_experiments, episode_lengths, selected_actions, accuracy = qLearningExperiment(adjust_rewards_surrogate, params=params)\n",
    "\n",
    "    # return accuracy\n",
    "    # mean_episode_length = np.mean(episode_lengths)\n",
    "    # return -mean_episode_length\n",
    "\n",
    "optimizer = BayesianOptimization(\n",
    "    f=objective,\n",
    "    pbounds={'alpha': (0, 1), 'epsilon': (0, 1), 'epsilon_decay': (10, 80)},\n",
    "    random_state=1,\n",
    ")\n",
    "\n",
    "# n_iter: How many steps of bayesian optimization you want to perform. \n",
    "# The more steps the more likely to find a good maximum you are.\n",
    "# init_points: How many steps of random exploration you want to perform.\n",
    "# Random exploration can help by diversifying the exploration space.\n",
    "optimizer.maximize(\n",
    "    init_points=2,\n",
    "    n_iter=3,\n",
    ")\n",
    "\n",
    "best_params = optimizer.max['params']\n",
    "\n",
    "print(optimizer.max)"
   ]
  },
  {
   "cell_type": "markdown",
   "metadata": {},
   "source": [
    "# Profiling"
   ]
  },
  {
   "cell_type": "code",
   "execution_count": null,
   "metadata": {},
   "outputs": [
    {
     "name": "stdout",
     "output_type": "stream",
     "text": [
      "Requirement already satisfied: line_profiler in /opt/homebrew/Caskroom/miniforge/base/lib/python3.9/site-packages (4.1.1)\n",
      "\n",
      "\u001b[1m[\u001b[0m\u001b[34;49mnotice\u001b[0m\u001b[1;39;49m]\u001b[0m\u001b[39;49m A new release of pip is available: \u001b[0m\u001b[31;49m23.2\u001b[0m\u001b[39;49m -> \u001b[0m\u001b[32;49m23.2.1\u001b[0m\n",
      "\u001b[1m[\u001b[0m\u001b[34;49mnotice\u001b[0m\u001b[1;39;49m]\u001b[0m\u001b[39;49m To update, run: \u001b[0m\u001b[32;49mpip install --upgrade pip\u001b[0m\n"
     ]
    }
   ],
   "source": [
    "# !pip install line_profiler\n",
    "%load_ext line_profiler"
   ]
  },
  {
   "cell_type": "code",
   "execution_count": null,
   "metadata": {},
   "outputs": [
    {
     "name": "stderr",
     "output_type": "stream",
     "text": [
      "100%|██████████| 100/100 [00:28<00:00,  3.53it/s]\n"
     ]
    },
    {
     "name": "stdout",
     "output_type": "stream",
     "text": [
      "Timer unit: 1e-09 s\n",
      "\n",
      "Total time: 28.3509 s\n",
      "File: /var/folders/hj/_04fr6wx5tncwlntq6ym_zr00000gn/T/ipykernel_16248/2241495419.py\n",
      "Function: qLearningExperiment at line 1\n",
      "\n",
      "Line #      Hits         Time  Per Hit   % Time  Line Contents\n",
      "==============================================================\n",
      "     1                                           def qLearningExperiment(difference_fn=None, params=default_params()):\n",
      "     2         1          0.0      0.0      0.0      q_values_all_experiments = []\n",
      "     3         1          0.0      0.0      0.0      rewards_all_experiments = []\n",
      "     4         1          0.0      0.0      0.0      episode_lengths = []\n",
      "     5         1          0.0      0.0      0.0      selected_actions = []\n",
      "     6                                           \n",
      "     7       101   89033000.0 881514.9      0.3      for i in tqdm(range(num_episodes)):\n",
      "     8       100    2729000.0  27290.0      0.0          agent = UCBQAgent(params=params)\n",
      "     9       100     403000.0   4030.0      0.0          env = ModifiedRandomEnvironment(correct_action=correct_action)\n",
      "    10       100        3e+10    3e+08     99.7          q_values_for_chart, rewards, episode_length, selected_action = runner(difference_fn, env=env, agent=agent, params=params)\n",
      "    11       100      87000.0    870.0      0.0          rewards_all_experiments.append(rewards)\n",
      "    12       100      49000.0    490.0      0.0          q_values_all_experiments.append(q_values_for_chart)\n",
      "    13       100      46000.0    460.0      0.0          episode_lengths.append(episode_length)\n",
      "    14       100      43000.0    430.0      0.0          selected_actions.append(selected_action)\n",
      "    15                                           \n",
      "    16         1      22000.0  22000.0      0.0      count = selected_actions.count(correct_action)\n",
      "    17         1       1000.0   1000.0      0.0      accuracy = (count / len(selected_actions)) * 100\n",
      "    18                                               \n",
      "    19         1          0.0      0.0      0.0      return q_values_all_experiments, rewards_all_experiments, episode_lengths, selected_actions, accuracy"
     ]
    }
   ],
   "source": [
    "%lprun -f qLearningExperiment qLearningExperiment(adjust_rewards_surrogate)"
   ]
  },
  {
   "cell_type": "code",
   "execution_count": null,
   "metadata": {},
   "outputs": [
    {
     "name": "stdout",
     "output_type": "stream",
     "text": [
      "Timer unit: 1e-09 s\n",
      "\n",
      "Total time: 0.281447 s\n",
      "File: /var/folders/hj/_04fr6wx5tncwlntq6ym_zr00000gn/T/ipykernel_16248/2319817097.py\n",
      "Function: runner at line 1\n",
      "\n",
      "Line #      Hits         Time  Per Hit   % Time  Line Contents\n",
      "==============================================================\n",
      "     1                                           def runner(adjust_rewards=None, \n",
      "     2                                                      agent=None,\n",
      "     3                                                      env=None,\n",
      "     4                                                      params=default_params()):\n",
      "     5                                           \n",
      "     6         1      38000.0  38000.0      0.0      agent = agent if agent else UCBQAgent(num_actions=num_states)\n",
      "     7         1       4000.0   4000.0      0.0      env = env if env else ModifiedRandomEnvironment()\n",
      "     8         1       1000.0   1000.0      0.0      start_time = time.time()\n",
      "     9         1          0.0      0.0      0.0      t = 0\n",
      "    10         1          0.0      0.0      0.0      episode_rewards = 0\n",
      "    11         1          0.0      0.0      0.0      q_values_for_chart = []\n",
      "    12         1       1000.0   1000.0      0.0      rewards = []\n",
      "    13                                               # state = start_state\n",
      "    14         1          0.0      0.0      0.0      action = start_action\n",
      "    15         1          0.0      0.0      0.0      state = 0\n",
      "    16                                               # same_action = None\n",
      "    17                                           \n",
      "    18                                               while True:\n",
      "    19        50      93000.0   1860.0      0.0          elapsed_time = time.time() - start_time\n",
      "    20                                           \n",
      "    21                                                   # Auto shut down scipt \n",
      "    22        50      56000.0   1120.0      0.0          if bool(timeOut) and (elapsed_time > float(timeOut)):\n",
      "    23                                                       break\n",
      "    24                                           \n",
      "    25        50      31000.0    620.0      0.0          if t >= max_steps:\n",
      "    26                                                       break\n",
      "    27                                           \n",
      "    28        50    2660000.0  53200.0      0.9          action = agent.choose_action(state) \n",
      "    29        50  102707000.0    2e+06     36.5          reward, next_state, done = env.step(action)        \n",
      "    30        50     128000.0   2560.0      0.0          rewards.append(reward)\n",
      "    31                                           \n",
      "    32        50      24000.0    480.0      0.0          if adjust_rewards:\n",
      "    33        50  173806000.0    3e+06     61.8              reward = adjust_rewards(reward, state, action)\n",
      "    34                                                   \n",
      "    35        50    1556000.0  31120.0      0.6          agent.learn(state, action, reward, next_state)\n",
      "    36                                                   # state = next_state\n",
      "    37                                           \n",
      "    38        50      39000.0    780.0      0.0          episode_rewards += reward\n",
      "    39                                           \n",
      "    40        50      28000.0    560.0      0.0          t += 1\n",
      "    41                                           \n",
      "    42                                                   # if agent.epsilon > agent.epsilon_min:\n",
      "    43                                                   #     agent.epsilon *= 0.5\n",
      "    44                                           \n",
      "    45                                                   # if agent.alpha > agent.alpha_min:\n",
      "    46                                                   #     agent.alpha *= 0.8\n",
      "    47                                           \n",
      "    48                                           \n",
      "    49                                                   # if agent.epsilon > agent.epsilon_min:\n",
      "    50                                                   #     agent.epsilon *= params['epsilon_decay']\n",
      "    51                                           \n",
      "    52                                           \n",
      "    53                                                   # if agent.epsilon > agent.epsilon_min:\n",
      "    54                                                   #     agent.epsilon -= agent.epsilon_decay(t)\n",
      "    55                                           \n",
      "    56                                                   # if agent.alpha > agent.alpha_min:\n",
      "    57                                                   #     agent.alpha -= agent.alpha_decay(t)\n",
      "    58                                           \n",
      "    59                                                   # if agent.epsilon > agent.epsilon_min:\n",
      "    60                                                   #     epsilon_decay = lambda t: np.log10(t+1)/params['epsilon_decay']\n",
      "    61                                                   #     agent.epsilon -= epsilon_decay(t)\n",
      "    62                                           \n",
      "    63        50      40000.0    800.0      0.0          if t % 10 == 0:\n",
      "    64         5     206000.0  41200.0      0.1              sum_q_values_across_states = np.around(np.sum(agent.Q, axis=0), decimals=4)\n",
      "    65         5       5000.0   1000.0      0.0              q_values_for_chart.append(sum_q_values_across_states)\n",
      "    66                                                       # print(agent.alpha, agent.epsilon)\n",
      "    67                                           \n",
      "    68        50      21000.0    420.0      0.0          if done:\n",
      "    69         1       1000.0   1000.0      0.0              break\n",
      "    70                                                           \n",
      "    71         1       1000.0   1000.0      0.0      episode_length = t + 1\n",
      "    72         1          0.0      0.0      0.0      selected_action = action \n",
      "    73                                               \n",
      "    74         1       1000.0   1000.0      0.0      if t >= max_steps:\n",
      "    75                                                   sum_q_values_across_states = np.around(np.sum(agent.Q, axis=0), decimals=4)\n",
      "    76                                                   selected_action = np.argmax(sum_q_values_across_states)\n",
      "    77                                           \n",
      "    78                                           \n",
      "    79         1          0.0      0.0      0.0      return q_values_for_chart, rewards, episode_length, selected_action"
     ]
    }
   ],
   "source": [
    "%lprun -f runner runner(adjust_rewards=adjust_rewards_surrogate)"
   ]
  },
  {
   "cell_type": "markdown",
   "metadata": {},
   "source": [
    "# Grid search"
   ]
  },
  {
   "cell_type": "code",
   "execution_count": null,
   "metadata": {},
   "outputs": [],
   "source": [
    "from sklearn.model_selection import ParameterGrid"
   ]
  },
  {
   "cell_type": "code",
   "execution_count": null,
   "metadata": {},
   "outputs": [],
   "source": [
    "from IPython import display\n",
    "import pandas as pd"
   ]
  },
  {
   "cell_type": "code",
   "execution_count": null,
   "metadata": {},
   "outputs": [
    {
     "name": "stderr",
     "output_type": "stream",
     "text": [
      "100%|██████████| 20/20 [00:11<00:00,  1.80it/s]\n",
      "  6%|▋         | 1/16 [00:11<02:47, 11.14s/it]"
     ]
    },
    {
     "name": "stdout",
     "output_type": "stream",
     "text": [
      "0.0 121.0\n"
     ]
    },
    {
     "name": "stderr",
     "output_type": "stream",
     "text": [
      " 90%|█████████ | 18/20 [00:11<00:01,  1.56it/s]\n",
      "  6%|▋         | 1/16 [00:22<05:40, 22.68s/it]\n"
     ]
    },
    {
     "ename": "KeyboardInterrupt",
     "evalue": "",
     "output_type": "error",
     "traceback": [
      "\u001b[0;31m---------------------------------------------------------------------------\u001b[0m",
      "\u001b[0;31mKeyboardInterrupt\u001b[0m                         Traceback (most recent call last)",
      "\u001b[1;32m/Users/schnuckiputz/other/git/2022-CHI-neuroadaptive-haptics/neuro_haptics/aleks/run_experiment_notebook_stateless.ipynb Cell 35\u001b[0m line \u001b[0;36m<module>\u001b[0;34m\u001b[0m\n\u001b[1;32m     <a href='vscode-notebook-cell:/Users/schnuckiputz/other/git/2022-CHI-neuroadaptive-haptics/neuro_haptics/aleks/run_experiment_notebook_stateless.ipynb#Y402sZmlsZQ%3D%3D?line=18'>19</a>\u001b[0m     \u001b[39mreturn\u001b[39;00m accuracy, mean_episode_length\n\u001b[1;32m     <a href='vscode-notebook-cell:/Users/schnuckiputz/other/git/2022-CHI-neuroadaptive-haptics/neuro_haptics/aleks/run_experiment_notebook_stateless.ipynb#Y402sZmlsZQ%3D%3D?line=20'>21</a>\u001b[0m \u001b[39mfor\u001b[39;00m i, params \u001b[39min\u001b[39;00m tqdm(param_grid_out\u001b[39m.\u001b[39miterrows(), total\u001b[39m=\u001b[39mparam_grid_out\u001b[39m.\u001b[39mshape[\u001b[39m0\u001b[39m]):\n\u001b[0;32m---> <a href='vscode-notebook-cell:/Users/schnuckiputz/other/git/2022-CHI-neuroadaptive-haptics/neuro_haptics/aleks/run_experiment_notebook_stateless.ipynb#Y402sZmlsZQ%3D%3D?line=21'>22</a>\u001b[0m     accuracy, mean_episode_length \u001b[39m=\u001b[39m get_results_from_grid_row(params)\n\u001b[1;32m     <a href='vscode-notebook-cell:/Users/schnuckiputz/other/git/2022-CHI-neuroadaptive-haptics/neuro_haptics/aleks/run_experiment_notebook_stateless.ipynb#Y402sZmlsZQ%3D%3D?line=22'>23</a>\u001b[0m     param_grid_out\u001b[39m.\u001b[39mloc[i, \u001b[39m'\u001b[39m\u001b[39maccuracy\u001b[39m\u001b[39m'\u001b[39m] \u001b[39m=\u001b[39m accuracy\n\u001b[1;32m     <a href='vscode-notebook-cell:/Users/schnuckiputz/other/git/2022-CHI-neuroadaptive-haptics/neuro_haptics/aleks/run_experiment_notebook_stateless.ipynb#Y402sZmlsZQ%3D%3D?line=23'>24</a>\u001b[0m     param_grid_out\u001b[39m.\u001b[39mloc[i, \u001b[39m'\u001b[39m\u001b[39mmean_episode_length\u001b[39m\u001b[39m'\u001b[39m] \u001b[39m=\u001b[39m mean_episode_length\n",
      "\u001b[1;32m/Users/schnuckiputz/other/git/2022-CHI-neuroadaptive-haptics/neuro_haptics/aleks/run_experiment_notebook_stateless.ipynb Cell 35\u001b[0m line \u001b[0;36mget_results_from_grid_row\u001b[0;34m(params)\u001b[0m\n\u001b[1;32m     <a href='vscode-notebook-cell:/Users/schnuckiputz/other/git/2022-CHI-neuroadaptive-haptics/neuro_haptics/aleks/run_experiment_notebook_stateless.ipynb#Y402sZmlsZQ%3D%3D?line=13'>14</a>\u001b[0m \u001b[39mdef\u001b[39;00m \u001b[39mget_results_from_grid_row\u001b[39m(params):\n\u001b[0;32m---> <a href='vscode-notebook-cell:/Users/schnuckiputz/other/git/2022-CHI-neuroadaptive-haptics/neuro_haptics/aleks/run_experiment_notebook_stateless.ipynb#Y402sZmlsZQ%3D%3D?line=14'>15</a>\u001b[0m     q_values_all_experiments, rewards_all_experiments, episode_lengths, selected_actions, accuracy \u001b[39m=\u001b[39m qLearningExperiment(adjust_rewards_surrogate, params\u001b[39m=\u001b[39;49mparams)\n\u001b[1;32m     <a href='vscode-notebook-cell:/Users/schnuckiputz/other/git/2022-CHI-neuroadaptive-haptics/neuro_haptics/aleks/run_experiment_notebook_stateless.ipynb#Y402sZmlsZQ%3D%3D?line=15'>16</a>\u001b[0m     mean_episode_length \u001b[39m=\u001b[39m np\u001b[39m.\u001b[39mmean(episode_lengths)\n\u001b[1;32m     <a href='vscode-notebook-cell:/Users/schnuckiputz/other/git/2022-CHI-neuroadaptive-haptics/neuro_haptics/aleks/run_experiment_notebook_stateless.ipynb#Y402sZmlsZQ%3D%3D?line=16'>17</a>\u001b[0m     \u001b[39mprint\u001b[39m(accuracy, mean_episode_length) \n",
      "\u001b[1;32m/Users/schnuckiputz/other/git/2022-CHI-neuroadaptive-haptics/neuro_haptics/aleks/run_experiment_notebook_stateless.ipynb Cell 35\u001b[0m line \u001b[0;36mqLearningExperiment\u001b[0;34m(difference_fn, params)\u001b[0m\n\u001b[1;32m      <a href='vscode-notebook-cell:/Users/schnuckiputz/other/git/2022-CHI-neuroadaptive-haptics/neuro_haptics/aleks/run_experiment_notebook_stateless.ipynb#Y402sZmlsZQ%3D%3D?line=7'>8</a>\u001b[0m agent \u001b[39m=\u001b[39m UCBQAgent(params\u001b[39m=\u001b[39mparams)\n\u001b[1;32m      <a href='vscode-notebook-cell:/Users/schnuckiputz/other/git/2022-CHI-neuroadaptive-haptics/neuro_haptics/aleks/run_experiment_notebook_stateless.ipynb#Y402sZmlsZQ%3D%3D?line=8'>9</a>\u001b[0m env \u001b[39m=\u001b[39m ModifiedRandomEnvironment(correct_action\u001b[39m=\u001b[39mcorrect_action)\n\u001b[0;32m---> <a href='vscode-notebook-cell:/Users/schnuckiputz/other/git/2022-CHI-neuroadaptive-haptics/neuro_haptics/aleks/run_experiment_notebook_stateless.ipynb#Y402sZmlsZQ%3D%3D?line=9'>10</a>\u001b[0m q_values_for_chart, rewards, episode_length, selected_action \u001b[39m=\u001b[39m runner(difference_fn, env\u001b[39m=\u001b[39;49menv, agent\u001b[39m=\u001b[39;49magent, params\u001b[39m=\u001b[39;49mparams)\n\u001b[1;32m     <a href='vscode-notebook-cell:/Users/schnuckiputz/other/git/2022-CHI-neuroadaptive-haptics/neuro_haptics/aleks/run_experiment_notebook_stateless.ipynb#Y402sZmlsZQ%3D%3D?line=10'>11</a>\u001b[0m rewards_all_experiments\u001b[39m.\u001b[39mappend(rewards)\n\u001b[1;32m     <a href='vscode-notebook-cell:/Users/schnuckiputz/other/git/2022-CHI-neuroadaptive-haptics/neuro_haptics/aleks/run_experiment_notebook_stateless.ipynb#Y402sZmlsZQ%3D%3D?line=11'>12</a>\u001b[0m q_values_all_experiments\u001b[39m.\u001b[39mappend(q_values_for_chart)\n",
      "\u001b[1;32m/Users/schnuckiputz/other/git/2022-CHI-neuroadaptive-haptics/neuro_haptics/aleks/run_experiment_notebook_stateless.ipynb Cell 35\u001b[0m line \u001b[0;36mrunner\u001b[0;34m(adjust_rewards, agent, env, params)\u001b[0m\n\u001b[1;32m     <a href='vscode-notebook-cell:/Users/schnuckiputz/other/git/2022-CHI-neuroadaptive-haptics/neuro_haptics/aleks/run_experiment_notebook_stateless.ipynb#Y402sZmlsZQ%3D%3D?line=25'>26</a>\u001b[0m     \u001b[39mbreak\u001b[39;00m\n\u001b[1;32m     <a href='vscode-notebook-cell:/Users/schnuckiputz/other/git/2022-CHI-neuroadaptive-haptics/neuro_haptics/aleks/run_experiment_notebook_stateless.ipynb#Y402sZmlsZQ%3D%3D?line=27'>28</a>\u001b[0m action \u001b[39m=\u001b[39m agent\u001b[39m.\u001b[39mchoose_action(state) \n\u001b[0;32m---> <a href='vscode-notebook-cell:/Users/schnuckiputz/other/git/2022-CHI-neuroadaptive-haptics/neuro_haptics/aleks/run_experiment_notebook_stateless.ipynb#Y402sZmlsZQ%3D%3D?line=28'>29</a>\u001b[0m reward, next_state, done \u001b[39m=\u001b[39m env\u001b[39m.\u001b[39;49mstep(action)        \n\u001b[1;32m     <a href='vscode-notebook-cell:/Users/schnuckiputz/other/git/2022-CHI-neuroadaptive-haptics/neuro_haptics/aleks/run_experiment_notebook_stateless.ipynb#Y402sZmlsZQ%3D%3D?line=29'>30</a>\u001b[0m rewards\u001b[39m.\u001b[39mappend(reward)\n\u001b[1;32m     <a href='vscode-notebook-cell:/Users/schnuckiputz/other/git/2022-CHI-neuroadaptive-haptics/neuro_haptics/aleks/run_experiment_notebook_stateless.ipynb#Y402sZmlsZQ%3D%3D?line=31'>32</a>\u001b[0m \u001b[39mif\u001b[39;00m adjust_rewards:\n",
      "File \u001b[0;32m~/other/git/2022-CHI-neuroadaptive-haptics/neuro_haptics/aleks/ucbq_environment_stateless.py:20\u001b[0m, in \u001b[0;36mModifiedRandomEnvironment.step\u001b[0;34m(self, action)\u001b[0m\n\u001b[1;32m     17\u001b[0m \u001b[39mdef\u001b[39;00m \u001b[39mstep\u001b[39m(\u001b[39mself\u001b[39m, action):\n\u001b[1;32m     18\u001b[0m     \u001b[39mself\u001b[39m\u001b[39m.\u001b[39mt \u001b[39m+\u001b[39m\u001b[39m=\u001b[39m \u001b[39m1\u001b[39m\n\u001b[0;32m---> 20\u001b[0m     reward \u001b[39m=\u001b[39m \u001b[39mself\u001b[39;49m\u001b[39m.\u001b[39;49mget_participant_answer(action)\n\u001b[1;32m     21\u001b[0m     \u001b[39m# TODO: delete\u001b[39;00m\n\u001b[1;32m     22\u001b[0m     \u001b[39m# Our case action == state, but migth consdier this separation in the future\u001b[39;00m\n\u001b[1;32m     23\u001b[0m     next_state \u001b[39m=\u001b[39m \u001b[39m0\u001b[39m\n",
      "File \u001b[0;32m~/other/git/2022-CHI-neuroadaptive-haptics/neuro_haptics/aleks/ucbq_environment.py:27\u001b[0m, in \u001b[0;36mModifiedRandomEnvironment.get_participant_answer\u001b[0;34m(self, action)\u001b[0m\n\u001b[1;32m     14\u001b[0m \u001b[39mdef\u001b[39;00m \u001b[39mget_participant_answer\u001b[39m(\u001b[39mself\u001b[39m, action):\n\u001b[1;32m     15\u001b[0m     \u001b[39m# TODO: use this code when we'll be listenting to the \u001b[39;00m\n\u001b[1;32m     16\u001b[0m     \u001b[39m# actual stream\u001b[39;00m\n\u001b[0;32m   (...)\u001b[0m\n\u001b[1;32m     25\u001b[0m     \u001b[39m# Wait random time before giving an answer.\u001b[39;00m\n\u001b[1;32m     26\u001b[0m     \u001b[39m# This simulates listening to stream.\u001b[39;00m\n\u001b[0;32m---> 27\u001b[0m     time\u001b[39m.\u001b[39;49msleep(random\u001b[39m.\u001b[39;49muniform(\u001b[39m0.001\u001b[39;49m, \u001b[39m0.002\u001b[39;49m))\n\u001b[1;32m     29\u001b[0m     answer \u001b[39m=\u001b[39m \u001b[39m0\u001b[39m \u001b[39mif\u001b[39;00m action \u001b[39m==\u001b[39m \u001b[39mself\u001b[39m\u001b[39m.\u001b[39mcorrect_action \u001b[39melse\u001b[39;00m \u001b[39m-\u001b[39m\u001b[39mabs\u001b[39m(\u001b[39mself\u001b[39m\u001b[39m.\u001b[39mcorrect_action \u001b[39m-\u001b[39m action)\n\u001b[1;32m     31\u001b[0m     \u001b[39mreturn\u001b[39;00m answer\n",
      "\u001b[0;31mKeyboardInterrupt\u001b[0m: "
     ]
    }
   ],
   "source": [
    "max_steps = 120\n",
    "num_episodes = 20\n",
    "\n",
    "param_grid = {\n",
    "    'alpha': [0, 1.0],\n",
    "    # 'alpha_decay'\n",
    "    # alpha_min\n",
    "    'epsilon': [0, 1.0],\n",
    "    # 'epsilon_decay': [0.1, 1.0],\n",
    "    # 'gamma'\n",
    "    'epsilon_decay': [10, 20, 40, 80],\n",
    "    # 'surrogate_c_interval': [1, 2, 5, 10, 20, 40]\n",
    "    # 'surrogate_lr'\n",
    "    }\n",
    "\n",
    "param_grid_out = pd.DataFrame(ParameterGrid(param_grid))\n",
    "\n",
    "def get_results_from_grid_row(params):\n",
    "    q_values_all_experiments, rewards_all_experiments, episode_lengths, selected_actions, accuracy = qLearningExperiment(adjust_rewards_surrogate, params=params)\n",
    "    mean_episode_length = np.mean(episode_lengths)\n",
    "    print(accuracy, mean_episode_length) \n",
    "\n",
    "    return accuracy, mean_episode_length\n",
    "\n",
    "for i, params in tqdm(param_grid_out.iterrows(), total=param_grid_out.shape[0]):\n",
    "    accuracy, mean_episode_length = get_results_from_grid_row(params)\n",
    "    param_grid_out.loc[i, 'accuracy'] = accuracy\n",
    "    param_grid_out.loc[i, 'mean_episode_length'] = mean_episode_length\n",
    "    # display.clear_output()"
   ]
  },
  {
   "cell_type": "code",
   "execution_count": null,
   "metadata": {},
   "outputs": [
    {
     "name": "stdout",
     "output_type": "stream",
     "text": [
      "    alpha  epsilon  epsilon_decay  accuracy  mean_episode_length\n",
      "1     0.1      0.1             20      95.0                73.70\n",
      "7     0.1      1.0             80      90.0                82.70\n",
      "15    1.0      1.0             80      85.0                91.00\n",
      "4     0.1      1.0             10      85.0                83.35\n",
      "10    1.0      0.1             40      85.0                78.55\n",
      "5     0.1      1.0             20      85.0                75.75\n",
      "12    1.0      1.0             10      80.0                80.90\n",
      "6     0.1      1.0             40      75.0                78.45\n",
      "11    1.0      0.1             80      75.0                78.45\n",
      "14    1.0      1.0             40      75.0                77.20\n",
      "8     1.0      0.1             10      75.0                74.95\n",
      "2     0.1      0.1             40      70.0                87.90\n",
      "13    1.0      1.0             20      70.0                82.85\n",
      "3     0.1      0.1             80      65.0                82.65\n",
      "0     0.1      0.1             10      60.0                89.90\n",
      "9     1.0      0.1             20      60.0                73.75\n"
     ]
    }
   ],
   "source": [
    "# param_grid_out.iloc[0]['accuracy'] = 1\n",
    "print(param_grid_out.sort_values(by=['accuracy', 'mean_episode_length'], ascending=False))"
   ]
  },
  {
   "cell_type": "markdown",
   "metadata": {},
   "source": [
    "# Q-value of \"true\" level compared accross different reward techniques"
   ]
  },
  {
   "cell_type": "code",
   "execution_count": null,
   "metadata": {},
   "outputs": [],
   "source": [
    "#TODO:\n",
    "# What if we reset the state to the original one, every 10 steps, and that would be our episode?\n",
    "# -> keep the q-values, reset the parameters epsilon, learning rate, etc."
   ]
  },
  {
   "cell_type": "markdown",
   "metadata": {},
   "source": [
    "# Epsilon test"
   ]
  },
  {
   "cell_type": "code",
   "execution_count": null,
   "metadata": {},
   "outputs": [
    {
     "data": {
      "text/plain": [
       "[<matplotlib.lines.Line2D at 0x154dfc850>]"
      ]
     },
     "execution_count": 30,
     "metadata": {},
     "output_type": "execute_result"
    },
    {
     "data": {
      "image/png": "[encoded data removed]",
      "text/plain": [
       "<Figure size 432x288 with 1 Axes>"
      ]
     },
     "metadata": {
      "needs_background": "light"
     },
     "output_type": "display_data"
    }
   ],
   "source": [
    "agent = UCBQAgent()\n",
    "epsilons = []\n",
    "for t in range(200):\n",
    "    epsilons.append(agent.epsilon)\n",
    "    agent.choose_action(0)\n",
    "\n",
    "plt.plot(epsilons)"
   ]
  },
  {
   "cell_type": "markdown",
   "metadata": {},
   "source": [
    "# Surrogate rewards without adding noise"
   ]
  },
  {
   "cell_type": "code",
   "execution_count": null,
   "metadata": {},
   "outputs": [],
   "source": [
    "from modified_pendulum_processor_noiseless import ModifiedPendulumProcessorNoiseless"
   ]
  },
  {
   "cell_type": "code",
   "execution_count": null,
   "metadata": {},
   "outputs": [
    {
     "name": "stderr",
     "output_type": "stream",
     "text": [
      "100%|██████████| 20/20 [00:02<00:00,  7.41it/s]\n"
     ]
    },
    {
     "name": "stdout",
     "output_type": "stream",
     "text": [
      "Mean episode length: 61.0\n",
      "Accuracy: 100.0\n",
      "[[0.8 0.  0.  0.  0.  0.  0.2]\n",
      " [0.  0.8 0.  0.  0.  0.2 0. ]\n",
      " [0.  0.  0.8 0.  0.2 0.  0. ]\n",
      " [0.  0.  0.  1.  0.  0.  0. ]\n",
      " [0.  0.  0.2 0.  0.8 0.  0. ]\n",
      " [0.  0.2 0.  0.  0.  0.8 0. ]\n",
      " [0.2 0.  0.  0.  0.  0.  0.8]]\n",
      "{(0, 3): [-3, -3, -3, -3, -3, -3, -3, -3, -3, -3, -3, -3, -3, -3, -3, -3, -3, -3, -3, -3, -3, -3, -3, -3, -3, -3, -3, -3, -3, -3, -3, -3, -3, -3, -3, -3, -3, -3, -3, -3], (0, 0): [-6, -6, -6, -6, -6, -6, -6, -6, -6, -6, -6, -6, -6, -6, -6, -6, -6, -6, -6, -6], (0, 1): [-5, -5, -5, -5, -5, -5, -5, -5, -5, -5, -5, -5, -5, -5, -5, -5, -5, -5, -5, -5], (0, 2): [-4, -4, -4, -4, -4, -4, -4, -4, -4, -4, -4, -4, -4, -4, -4, -4, -4, -4, -4, -4], (0, 4): [-2, -2, -2, -2, -2, -2, -2, -2, -2, -2, -2, -2, -2, -2, -2, -2, -2, -2, -2, -2, -2, -2, -2, -2, -2, -2, -2, -2, -2, -2, -2, -2, -2, -2, -2, -2, -2, -2, -2, -2], (0, 5): [-1, -1, -1, -1, -1, -1, -1, -1, -1, -1, -1, -1, -1, -1, -1, -1, -1, -1, -1, -1, -1, -1, -1, -1, -1, -1, -1, -1, -1, -1, -1, -1, -1, -1, -1, -1, -1, -1, -1, -1, -1, -1, -1, -1, -1, -1, -1, -1, -1, -1, -1, -1, -1, -1, -1, -1, -1, -1, -1, -1, -1, -1, -1, -1, -1, -1, -1, -1, -1, -1, -1, -1, -1, -1, -1, -1, -1, -1, -1, -1], (0, 6): [0, 0, 0, 0, 0, 0, 0, 0, 0, 0, 0, 0, 0, 0, 0, 0, 0, 0, 0, 0, 0, 0, 0, 0, 0, 0, 0, 0, 0, 0, 0, 0, 0, 0, 0, 0, 0, 0, 0, 0, 0, 0, 0, 0, 0, 0, 0, 0, 0, 0, 0, 0, 0, 0, 0, 0, 0, 0, 0, 0, 0, 0, 0, 0, 0, 0, 0, 0, 0, 0, 0, 0, 0, 0, 0, 0, 0, 0, 0, 0, 0, 0, 0, 0, 0, 0, 0, 0, 0, 0, 0, 0, 0, 0, 0, 0, 0, 0, 0, 0, 0, 0, 0, 0, 0, 0, 0, 0, 0, 0, 0, 0, 0, 0, 0, 0, 0, 0, 0, 0, 0, 0, 0, 0, 0, 0, 0, 0, 0, 0, 0, 0, 0, 0, 0, 0, 0, 0, 0, 0, 0, 0, 0, 0, 0, 0, 0, 0, 0, 0, 0, 0, 0, 0, 0, 0, 0, 0, 0, 0, 0, 0, 0, 0, 0, 0, 0, 0, 0, 0, 0, 0, 0, 0, 0, 0, 0, 0, 0, 0, 0, 0, 0, 0, 0, 0, 0, 0, 0, 0, 0, 0, 0, 0, 0, 0, 0, 0, 0, 0, 0, 0, 0, 0, 0, 0, 0, 0, 0, 0, 0, 0, 0, 0, 0, 0, 0, 0, 0, 0, 0, 0, 0, 0, 0, 0, 0, 0, 0, 0, 0, 0, 0, 0, 0, 0, 0, 0, 0, 0, 0, 0, 0, 0, 0, 0, 0, 0, 0, 0, 0, 0, 0, 0, 0, 0, 0, 0, 0, 0, 0, 0, 0, 0, 0, 0, 0, 0, 0, 0, 0, 0, 0, 0, 0, 0, 0, 0, 0, 0, 0, 0, 0, 0, 0, 0, 0, 0, 0, 0, 0, 0, 0, 0, 0, 0, 0, 0, 0, 0, 0, 0, 0, 0, 0, 0, 0, 0, 0, 0, 0, 0, 0, 0, 0, 0, 0, 0, 0, 0, 0, 0, 0, 0, 0, 0, 0, 0, 0, 0, 0, 0, 0, 0, 0, 0, 0, 0, 0, 0, 0, 0, 0, 0, 0, 0, 0, 0, 0, 0, 0, 0, 0, 0, 0, 0, 0, 0, 0, 0, 0, 0, 0, 0, 0, 0, 0, 0, 0, 0, 0, 0, 0, 0, 0, 0, 0, 0, 0, 0, 0, 0, 0, 0, 0, 0, 0, 0, 0, 0, 0, 0, 0, 0, 0, 0, 0, 0, 0, 0, 0, 0, 0, 0, 0, 0, 0, 0, 0, 0, 0, 0, 0, 0, 0, 0, 0, 0, 0, 0, 0, 0, 0, 0, 0, 0, 0, 0, 0, 0, 0, 0, 0, 0, 0, 0, 0, 0, 0, 0, 0, 0, 0, 0, 0, 0, 0, 0, 0, 0, 0, 0, 0, 0, 0, 0, 0, 0, 0, 0, 0, 0, 0, 0, 0, 0, 0, 0, 0, 0, 0, 0, 0, 0, 0, 0, 0, 0, 0, 0, 0, 0, 0, 0, 0, 0, 0, 0, 0, 0, 0, 0, 0, 0, 0, 0, 0, 0, 0, 0, 0, 0, 0, 0, 0, 0, 0, 0, 0, 0, 0, 0, 0, 0, 0, 0, 0, 0, 0, 0, 0, 0, 0, 0, 0, 0, 0, 0, 0, 0, 0, 0, 0, 0, 0, 0, 0, 0, 0, 0, 0, 0, 0, 0, 0, 0, 0, 0, 0, 0, 0, 0, 0, 0, 0, 0, 0, 0, 0, 0, 0, 0, 0, 0, 0, 0, 0, 0, 0, 0, 0, 0, 0, 0, 0, 0, 0, 0, 0, 0, 0, 0, 0, 0, 0, 0, 0, 0, 0, 0, 0, 0, 0, 0, 0, 0, 0, 0, 0, 0, 0, 0, 0, 0, 0, 0, 0, 0, 0, 0, 0, 0, 0, 0, 0, 0, 0, 0, 0, 0, 0, 0, 0, 0, 0, 0, 0, 0, 0, 0, 0, 0, 0, 0, 0, 0, 0, 0, 0, 0, 0, 0, 0, 0, 0, 0, 0, 0, 0, 0, 0, 0, 0, 0, 0, 0, 0, 0, 0, 0, 0, 0, 0, 0, 0, 0, 0, 0, 0, 0, 0, 0, 0, 0, 0, 0, 0, 0, 0, 0, 0, 0, 0, 0, 0, 0, 0, 0, 0, 0, 0, 0, 0, 0, 0, 0, 0, 0, 0, 0, 0, 0, 0, 0, 0, 0, 0, 0, 0, 0, 0, 0, 0, 0, 0, 0, 0, 0, 0, 0, 0, 0, 0, 0, 0, 0, 0, 0, 0, 0, 0, 0, 0, 0, 0, 0, 0, 0, 0, 0, 0, 0, 0, 0, 0, 0, 0, 0, 0, 0, 0, 0, 0, 0, 0, 0, 0, 0, 0, 0, 0, 0, 0, 0, 0, 0, 0, 0, 0, 0, 0, 0, 0, 0, 0, 0, 0, 0, 0, 0, 0, 0, 0, 0, 0, 0, 0, 0, 0, 0, 0, 0, 0, 0, 0, 0, 0, 0, 0, 0, 0, 0, 0, 0, 0, 0, 0, 0, 0, 0, 0, 0, 0, 0, 0, 0, 0, 0, 0, 0, 0, 0, 0, 0, 0, 0, 0, 0, 0, 0, 0, 0, 0, 0, 0, 0, 0, 0, 0, 0, 0, 0, 0, 0, 0, 0, 0, 0, 0, 0, 0, 0, 0, 0, 0, 0, 0, 0, 0, 0, 0, 0, 0, 0, 0, 0, 0, 0, 0, 0, 0, 0, 0, 0, 0, 0, 0, 0, 0, 0, 0, 0, 0, 0, 0, 0, 0, 0, 0, 0, 0, 0, 0, 0, 0, 0, 0, 0, 0, 0, 0, 0, 0, 0, 0, 0, 0, 0, 0, 0, 0, 0, 0, 0, 0, 0, 0, 0, 0, 0, 0, 0, 0, 0, 0, 0, 0, 0, 0, 0, 0, 0, 0, 0, 0, 0, 0, 0, 0, 0, 0, 0, 0, 0, 0, 0, 0, 0, 0, 0, 0, 0, 0, 0, 0, 0, 0, 0, 0, 0, 0, 0, 0, 0, 0, 0, 0, 0, 0, 0, 0, 0, 0, 0, 0, 0, 0, 0, 0, 0]}\n",
      "Estimated confusion matrix:\n",
      "[[1. 0. 0. 0. 0. 0. 0.]\n",
      " [0. 1. 0. 0. 0. 0. 0.]\n",
      " [0. 0. 1. 0. 0. 0. 0.]\n",
      " [0. 0. 0. 1. 0. 0. 0.]\n",
      " [0. 0. 0. 0. 1. 0. 0.]\n",
      " [0. 0. 0. 0. 0. 1. 0.]\n",
      " [0. 0. 0. 0. 0. 0. 1.]]\n"
     ]
    },
    {
     "data": {
      "image/png": "[encoded data removed]",
      "text/plain": [
       "<Figure size 432x288 with 1 Axes>"
      ]
     },
     "metadata": {
      "needs_background": "light"
     },
     "output_type": "display_data"
    },
    {
     "data": {
      "image/png": "[encoded data removed]",
      "text/plain": [
       "<Figure size 432x288 with 1 Axes>"
      ]
     },
     "metadata": {
      "needs_background": "light"
     },
     "output_type": "display_data"
    },
    {
     "data": {
      "image/png": "[encoded data removed]",
      "text/plain": [
       "<Figure size 432x288 with 1 Axes>"
      ]
     },
     "metadata": {
      "needs_background": "light"
     },
     "output_type": "display_data"
    },
    {
     "data": {
      "image/png": "[encoded data removed]",
      "text/plain": [
       "<Figure size 432x288 with 1 Axes>"
      ]
     },
     "metadata": {
      "needs_background": "light"
     },
     "output_type": "display_data"
    }
   ],
   "source": [
    "post_processor_surrogate = ModifiedPendulumProcessorNoiseless()\n",
    "\n",
    "def adjust_rewards_surrogate(reward, state, action):    \n",
    "    observation, reward, done, info = post_processor_surrogate.process_step(state, reward, None, None, action)\n",
    "    return reward\n",
    "\n",
    "plot_mean_q_values(adjust_rewards_surrogate)\n",
    "\n",
    "print(post_processor_surrogate.cmat)\n",
    "print(post_processor_surrogate.r_sets)\n",
    "print('Estimated confusion matrix:')\n",
    "print(np.around(post_processor_surrogate.C, decimals=4))"
   ]
  }
 ],
 "metadata": {
  "kernelspec": {
   "display_name": "base",
   "language": "python",
   "name": "python3"
  },
  "language_info": {
   "codemirror_mode": {
    "name": "ipython",
    "version": 3
   },
   "file_extension": ".py",
   "mimetype": "text/x-python",
   "name": "python",
   "nbconvert_exporter": "python",
   "pygments_lexer": "ipython3",
   "version": "3.9.7"
  },
  "orig_nbformat": 4
 },
 "nbformat": 4,
 "nbformat_minor": 2
}
