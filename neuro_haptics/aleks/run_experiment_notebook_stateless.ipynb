{
 "cells": [
  {
   "cell_type": "markdown",
   "metadata": {},
   "source": [
    "# Log\n",
    "- optimization averege across different confusion matrices - that seems to have a big effect on the performance of enabling surrogate"
   ]
  },
  {
   "cell_type": "markdown",
   "metadata": {},
   "source": [
    "# TODO\n",
    " - keep the confusion matrix estimation same - across all trials?\n",
    " - double check that params are getting properly propagated for the Agent and environment\n",
    " - ~~grid search for parameters~~\n",
    " - figure out parameters in surrogate rewards\n",
    " - ~~make rewards non binary in environment and surrogate rewards~~\n",
    " - ~~add deceay from papers, log and other~~\n",
    " - initiate q-table at `-1`?\n",
    " - run experiment with different `correct_action`\n",
    " - should we be setting up the glove for `very distinguishable` levels? Shouldn't we set it up with `barely distinguishable` levels, as this is where the perturbed rewards come on - they'd help us get through the noise and find the correct level."
   ]
  },
  {
   "cell_type": "markdown",
   "metadata": {},
   "source": [
    "# Scripts"
   ]
  },
  {
   "cell_type": "code",
   "execution_count": 1,
   "metadata": {},
   "outputs": [],
   "source": [
    "import numpy as np\n",
    "import collections\n",
    "import pandas as pd\n",
    "import argparse\n",
    "import time\n",
    "import numpy as np"
   ]
  },
  {
   "cell_type": "code",
   "execution_count": 2,
   "metadata": {},
   "outputs": [],
   "source": [
    "import noise_estimator"
   ]
  },
  {
   "cell_type": "code",
   "execution_count": 3,
   "metadata": {},
   "outputs": [],
   "source": [
    "# from ucbq_agent import UCBQAgent\n",
    "from ucbq_agent_stateless import UCBQAgent\n",
    "# from ucbq_environment import ModifiedRandomEnvironment\n",
    "from ucbq_environment_stateless import ModifiedRandomEnvironment"
   ]
  },
  {
   "cell_type": "markdown",
   "metadata": {},
   "source": [
    "# Params"
   ]
  },
  {
   "cell_type": "code",
   "execution_count": 4,
   "metadata": {},
   "outputs": [],
   "source": [
    "max_steps = 120\n",
    "num_episodes = 100\n",
    "num_actions = 7\n",
    "# start_state = 1\n",
    "start_action = 0\n",
    "# zero indexed\n",
    "correct_action = 1"
   ]
  },
  {
   "cell_type": "markdown",
   "metadata": {},
   "source": [
    "# Scripts"
   ]
  },
  {
   "cell_type": "code",
   "execution_count": 5,
   "metadata": {},
   "outputs": [],
   "source": [
    "import matplotlib.pyplot as plt\n",
    "from tqdm import tqdm \n",
    "import utils"
   ]
  },
  {
   "cell_type": "code",
   "execution_count": 6,
   "metadata": {},
   "outputs": [],
   "source": [
    "def get_mean_across_episodes(arr):\n",
    "    min_cols = np.amin([len(row) for row in arr])\n",
    "    truncated_arr = [ x[:min_cols] for x in arr ]\n",
    "    res = np.array(truncated_arr)\n",
    "    mean = res.mean(axis=0)\n",
    "\n",
    "    return mean    \n",
    "\n",
    "def get_cumsum_rewards(rewards):\n",
    "    cumulative_sum_rewards = np.cumsum(rewards)\n",
    "    time_steps = np.arange(1, len(rewards) + 1)\n",
    "    mean_rewards = cumulative_sum_rewards / time_steps\n",
    "    return mean_rewards"
   ]
  },
  {
   "cell_type": "code",
   "execution_count": 7,
   "metadata": {},
   "outputs": [],
   "source": [
    "from modified_pendulum_processor import ModifiedPendulumProcessor"
   ]
  },
  {
   "cell_type": "code",
   "execution_count": 8,
   "metadata": {},
   "outputs": [],
   "source": [
    "def runner(adjust_rewards=None, \n",
    "           agent=None,\n",
    "           env=None,\n",
    "           params={}):\n",
    "\n",
    "    agent = UCBQAgent(params=params) if agent is None else agent\n",
    "    env = env if env else ModifiedRandomEnvironment()\n",
    "\n",
    "    episode_rewards = 0\n",
    "    rewards = []\n",
    "    q_values_for_chart = []\n",
    "    \n",
    "    t = 0\n",
    "    action = start_action\n",
    "    state = 0\n",
    "    plots = params.get('plots', True)\n",
    "    noise = params.get('noise', False)\n",
    "    surrogate = params.get('surrogate', False)\n",
    "    surrogate_c_interval = params.get('surrogate_c_interval', 10)\n",
    "    \n",
    "    reward_processor = None\n",
    "\n",
    "    # surrogate can only be with noise=True for now\n",
    "    if surrogate:\n",
    "        noise = True\n",
    "    \n",
    "    if noise: \n",
    "        #TODO: should we keep/carry over the estimated confusion matrix across all episodes?\n",
    "        # num_unique_rewards = correct_action + 1\n",
    "        num_unique_rewards = utils.get_num_unique_rewards(num_actions, correct_action)\n",
    "        reward_processor = ModifiedPendulumProcessor(surrogate=surrogate, surrogate_c_interval=surrogate_c_interval, num_unique_rewards=num_unique_rewards)\n",
    "\n",
    "    while True:\n",
    "        if t == max_steps - 1:\n",
    "            break\n",
    "\n",
    "        action = agent.choose_action(state) \n",
    "        reward, next_state, done = env.step(action)        \n",
    "        \n",
    "        if done:\n",
    "            break     \n",
    "\n",
    "        rewards.append(reward)\n",
    "\n",
    "        if noise or surrogate:\n",
    "            observation, reward, done, info = reward_processor.process_step(state, reward, None, None, action)\n",
    "        \n",
    "        agent.learn(state, action, reward, next_state)\n",
    "        episode_rewards += reward\n",
    "        t += 1\n",
    "\n",
    "        if plots:\n",
    "            if t % 10 == 0:\n",
    "                sum_q_values_across_states = np.around(np.sum(agent.Q, axis=0), decimals=4)\n",
    "                q_values_for_chart.append(sum_q_values_across_states)\n",
    "      \n",
    "                \n",
    "    episode_length = t + 1\n",
    "    selected_action = action \n",
    "    \n",
    "    if t == max_steps - 1:\n",
    "        # If we reached the end of the episode\n",
    "        # select the action with the highest Q-values as the correct one\n",
    "        sum_q_values_across_states = np.sum(agent.Q, axis=0)\n",
    "        selected_action = np.argmax(sum_q_values_across_states)\n",
    "\n",
    "    return q_values_for_chart, rewards, episode_length, selected_action, reward_processor"
   ]
  },
  {
   "cell_type": "code",
   "execution_count": 9,
   "metadata": {},
   "outputs": [],
   "source": [
    "def qLearningExperiment(learner=None, params={}):\n",
    "    plots = params.get('plots', True)\n",
    "\n",
    "    q_values_all_experiments = []\n",
    "    rewards_all_experiments = []\n",
    "    episode_lengths = []\n",
    "    selected_actions = []\n",
    "\n",
    "    for i in tqdm(range(num_episodes)):\n",
    "        # TODO: .reset() instead of re-creating?\n",
    "        agent = UCBQAgent(params=params) if learner is None else learner\n",
    "        env = ModifiedRandomEnvironment(correct_action=correct_action)\n",
    "        q_values_for_chart, rewards, episode_length, selected_action, reward_processor = runner(env=env, agent=agent, params=params)\n",
    "        selected_actions.append(selected_action)\n",
    "        episode_lengths.append(episode_length)\n",
    "                \n",
    "        rewards_all_experiments.append(rewards)\n",
    "        q_values_all_experiments.append(q_values_for_chart)\n",
    "\n",
    "    correct_count = selected_actions.count(correct_action)\n",
    "    accuracy = (correct_count / len(selected_actions)) * 100\n",
    "    \n",
    "    return q_values_all_experiments, rewards_all_experiments, episode_lengths, selected_actions, accuracy, reward_processor\n"
   ]
  },
  {
   "cell_type": "code",
   "execution_count": 10,
   "metadata": {},
   "outputs": [],
   "source": [
    "def plot_mean_q_values(params={}):\n",
    "    q_values_all_experiments, rewards_all_experiments, episode_lengths, selected_actions, accuracy, last_reward_processor = qLearningExperiment(params=params)\n",
    "    print(f'Accuracy: {accuracy}')    \n",
    "    print(f'Mean episode length: {np.mean(episode_lengths)}')\n",
    "\n",
    "    all_mean_rewards = [ get_cumsum_rewards(rewards) for rewards in rewards_all_experiments ]\n",
    "\n",
    "    all_mean_rewards = pd.DataFrame(all_mean_rewards) # rewards have different lengths\n",
    "    # because they terminate earlier sometimes\n",
    "    mean_matrix = np.mean(all_mean_rewards, axis=0)\n",
    "    mean_rewards_across_episodes = pd.DataFrame(mean_matrix)\n",
    "\n",
    "    mean_matrix = get_mean_across_episodes(q_values_all_experiments)\n",
    "    mean_q_values_across_episodes = pd.DataFrame(mean_matrix)\n",
    "    if params.get('noise', False): \n",
    "        print('Last reward processor:')\n",
    "        last_reward_processor.print()\n",
    "\n",
    "    fig, axes = plt.subplots(2, 2, figsize=(8, 6))\n",
    "    mean_rewards_across_episodes.plot(ax=axes[0, 0], title='Mean reward for this step across all episodes')\n",
    "    mean_q_values_across_episodes.plot(ax=axes[0, 1], title='Mean Q-values accross all episodes')\n",
    "    pd.DataFrame(episode_lengths).plot(ax=axes[1, 0], title='Episode lengths', marker='*')\n",
    "    pd.DataFrame(selected_actions).plot(ax=axes[1, 1], title='Guessed correct action per episode', marker='*')\n",
    "    plt.tight_layout()\n",
    "    plt.show()"
   ]
  },
  {
   "cell_type": "markdown",
   "metadata": {},
   "source": [
    "# Params"
   ]
  },
  {
   "cell_type": "code",
   "execution_count": 11,
   "metadata": {},
   "outputs": [],
   "source": [
    "def default_params():\n",
    "    \"\"\" These are the default parameters used in the framework. \"\"\"\n",
    "    return {\n",
    "            # # Runner parameters\n",
    "            # 'max_episodes': int(1E6),         # experiment stops after this many episodes\n",
    "            # 'max_steps': int(1E9),            # experiment stops after this many steps\n",
    "            # 'multi_runner': False,            # uses multiple runners if True\n",
    "            # Optimization parameters\n",
    "            'alpha': 0.5,                       # learning rate of optimizer\n",
    "            'alpha_decay': 40,\n",
    "            'alpha_min': 0.001,\n",
    "            # Exploration parameters\n",
    "            'epsilon': 1,               # annealing starts at this epsilon\n",
    "            'epsilon_decay': 20,\n",
    "            'epsilon_min': 0.01,    \n",
    "            'gamma': 0.95,                    # discount factor gamma\n",
    "            'plots': False,\n",
    "            'noise': True,\n",
    "            'surrogate': False,            \n",
    "           }"
   ]
  },
  {
   "cell_type": "markdown",
   "metadata": {},
   "source": [
    "# Real rewards UCB Q-learning"
   ]
  },
  {
   "cell_type": "code",
   "execution_count": 12,
   "metadata": {},
   "outputs": [
    {
     "name": "stdout",
     "output_type": "stream",
     "text": [
      "Q-table:\n",
      "[[-8 -9 -7 -7 -6 -6  0]]\n",
      "Number of times action was taken:\n",
      "[[ 2.  5.  2.  2.  3.  4. 38.]]\n",
      "Total timesteps:\n",
      "50\n"
     ]
    }
   ],
   "source": [
    "params = default_params()\n",
    "params['noise'] = False\n",
    "\n",
    "agent = UCBQAgent()\n",
    "\n",
    "runner(agent=agent)\n",
    "utils.print_agent_stats(agent)"
   ]
  },
  {
   "cell_type": "code",
   "execution_count": 18,
   "metadata": {},
   "outputs": [
    {
     "name": "stderr",
     "output_type": "stream",
     "text": [
      "100%|██████████| 100/100 [00:00<00:00, 584.04it/s]\n"
     ]
    },
    {
     "name": "stdout",
     "output_type": "stream",
     "text": [
      "Accuracy: 100.0\n",
      "Mean episode length: 50.0\n"
     ]
    },
    {
     "data": {
      "image/png": "[encoded data removed]",
      "text/plain": [
       "<Figure size 576x432 with 4 Axes>"
      ]
     },
     "metadata": {
      "needs_background": "light"
     },
     "output_type": "display_data"
    }
   ],
   "source": [
    "params = default_params()\n",
    "params['noise'] = False\n",
    "params['plots'] = True\n",
    "\n",
    "# The Q-value shape make sense - we're trying higher numbers later\n",
    "# so they converge to -1 slower than e.g. action 0 or 1\n",
    "plot_mean_q_values()"
   ]
  },
  {
   "cell_type": "markdown",
   "metadata": {},
   "source": [
    "# Noisy rewards\n",
    "- rewards are now noisy\n",
    "- q-learner hasn't changed"
   ]
  },
  {
   "cell_type": "code",
   "execution_count": 14,
   "metadata": {},
   "outputs": [],
   "source": [
    "from sklearn.metrics import ConfusionMatrixDisplay"
   ]
  },
  {
   "cell_type": "code",
   "execution_count": 15,
   "metadata": {},
   "outputs": [
    {
     "data": {
      "image/png": "[encoded data removed]",
      "text/plain": [
       "<Figure size 432x288 with 2 Axes>"
      ]
     },
     "metadata": {
      "needs_background": "light"
     },
     "output_type": "display_data"
    },
    {
     "data": {
      "text/plain": [
       "True"
      ]
     },
     "execution_count": 15,
     "metadata": {},
     "output_type": "execute_result"
    }
   ],
   "source": [
    "# Confusion matrix used as noise\n",
    "num_unique_rewards = utils.get_num_unique_rewards(num_actions=num_actions, correct_action=correct_action)\n",
    "cmat = ModifiedPendulumProcessor(num_unique_rewards=num_unique_rewards).initialize_cmat(diag=0.69)\n",
    "ConfusionMatrixDisplay(confusion_matrix=cmat).plot()\n",
    "plt.show()\n",
    "noise_estimator.is_invertible(cmat)"
   ]
  },
  {
   "cell_type": "code",
   "execution_count": 19,
   "metadata": {},
   "outputs": [
    {
     "name": "stderr",
     "output_type": "stream",
     "text": [
      "100%|██████████| 100/100 [00:00<00:00, 296.27it/s]\n"
     ]
    },
    {
     "name": "stdout",
     "output_type": "stream",
     "text": [
      "Accuracy: 84.0\n",
      "Mean episode length: 50.29\n",
      "Last reward processor:\n",
      "Estimated confusion matrix:\n"
     ]
    },
    {
     "data": {
      "image/png": "[encoded data removed]",
      "text/plain": [
       "<Figure size 432x288 with 2 Axes>"
      ]
     },
     "metadata": {
      "needs_background": "light"
     },
     "output_type": "display_data"
    },
    {
     "name": "stdout",
     "output_type": "stream",
     "text": [
      "Reward sets:\n",
      "{(0, 2): [-1, 0], (0, 1): [-1, -1, 0, 0, 0, 0, 0, 0, -1, 0, 0, -1, 0, 0, 0, -1, -1, 0, 0, 0, 0, -2, 0, 0, 0, -1, 0, 0, 0, -2, 0, -1, -1, 0, 0, 0], (0, 4): [-3, -2], (0, 0): [-2, -1, 0, -1], (0, 6): [-5, -4], (0, 3): [-2, -1], (0, 5): [-3]}\n",
      "Reward set counts:\n",
      "Key (0, 2): 2 items\n",
      "Key (0, 1): 36 items\n",
      "Key (0, 4): 2 items\n",
      "Key (0, 0): 4 items\n",
      "Key (0, 6): 2 items\n",
      "Key (0, 3): 2 items\n",
      "Key (0, 5): 1 items\n"
     ]
    },
    {
     "data": {
      "image/png": "[encoded data removed]",
      "text/plain": [
       "<Figure size 576x432 with 4 Axes>"
      ]
     },
     "metadata": {
      "needs_background": "light"
     },
     "output_type": "display_data"
    }
   ],
   "source": [
    "# res = {'target': 95.89999999999999, 'params': {'alpha': 0.8236118040381998, 'alpha_decay': 243.0544785033269, 'alpha_min': 0.5113965695937486, 'epsilon': 0.25289603267158034, 'epsilon_decay': 70.53090930872196, 'epsilon_min': 0.044310479986752194, 'gamma': 0.8871072251030447, 'surrogate_c_interval': 67.76179038423699}}\n",
    "# params=res['params']\n",
    "params = default_params()\n",
    "params['plots'] = True\n",
    "plot_mean_q_values(params=params)"
   ]
  },
  {
   "cell_type": "markdown",
   "metadata": {},
   "source": [
    "# Surrogate rewards"
   ]
  },
  {
   "cell_type": "code",
   "execution_count": 22,
   "metadata": {},
   "outputs": [
    {
     "name": "stderr",
     "output_type": "stream",
     "text": [
      "100%|██████████| 100/100 [00:00<00:00, 432.66it/s]\n"
     ]
    },
    {
     "name": "stdout",
     "output_type": "stream",
     "text": [
      "Accuracy: 85.0\n",
      "Mean episode length: 50.07\n",
      "Last reward processor:\n",
      "Estimated confusion matrix:\n"
     ]
    },
    {
     "data": {
      "image/png": "[encoded data removed]",
      "text/plain": [
       "<Figure size 432x288 with 2 Axes>"
      ]
     },
     "metadata": {
      "needs_background": "light"
     },
     "output_type": "display_data"
    },
    {
     "name": "stdout",
     "output_type": "stream",
     "text": [
      "Reward sets:\n",
      "{(0, 4): [-4, -3], (0, 5): [-4, -4], (0, 0): [-1, -1, 0, 0, -1, -3, 0, -3, -2, -1, 0, -1, -1, -3, 0, -1, -1, -1, -2, -1, -1, 0, -1, -2, -2, 0, 0, -1, 0, -1, -3, -2, -1, -2, -1, -1], (0, 6): [-4, -5, -5], (0, 3): [-2, -2], (0, 2): [-1, -2], (0, 1): [-2, -2]}\n",
      "Reward set counts:\n",
      "Key (0, 4): 2 items\n",
      "Key (0, 5): 2 items\n",
      "Key (0, 0): 36 items\n",
      "Key (0, 6): 3 items\n",
      "Key (0, 3): 2 items\n",
      "Key (0, 2): 2 items\n",
      "Key (0, 1): 2 items\n"
     ]
    },
    {
     "data": {
      "image/png": "[encoded data removed]",
      "text/plain": [
       "<Figure size 576x432 with 4 Axes>"
      ]
     },
     "metadata": {
      "needs_background": "light"
     },
     "output_type": "display_data"
    }
   ],
   "source": [
    "params_new ={'noise': True, 'surrogate': True, 'plots': True, 'surrogate_c_interval': 20}\n",
    "params = default_params() | params\n",
    "plot_mean_q_values(params = params)"
   ]
  },
  {
   "cell_type": "markdown",
   "metadata": {},
   "source": [
    "# Sanity check"
   ]
  },
  {
   "cell_type": "code",
   "execution_count": 19,
   "metadata": {},
   "outputs": [
    {
     "name": "stdout",
     "output_type": "stream",
     "text": [
      "Accuracy should be higher, timesteps should be lower\n"
     ]
    },
    {
     "name": "stderr",
     "output_type": "stream",
     "text": [
      "100%|██████████| 100/100 [00:00<00:00, 983.15it/s]\n"
     ]
    },
    {
     "name": "stdout",
     "output_type": "stream",
     "text": [
      "100.0 50.0\n"
     ]
    },
    {
     "name": "stderr",
     "output_type": "stream",
     "text": [
      "100%|██████████| 100/100 [00:00<00:00, 734.43it/s]\n"
     ]
    },
    {
     "name": "stdout",
     "output_type": "stream",
     "text": [
      "83.0 50.26\n"
     ]
    },
    {
     "name": "stderr",
     "output_type": "stream",
     "text": [
      "100%|██████████| 100/100 [00:00<00:00, 535.92it/s]"
     ]
    },
    {
     "name": "stdout",
     "output_type": "stream",
     "text": [
      "84.0 50.3\n"
     ]
    },
    {
     "name": "stderr",
     "output_type": "stream",
     "text": [
      "\n"
     ]
    }
   ],
   "source": [
    "max_steps = 120\n",
    "num_episodes = 100\n",
    "\n",
    "params = {\n",
    "    # # Runner parameters\n",
    "    # 'max_episodes': int(1E6),         # experiment stops after this many episodes\n",
    "    # 'max_steps': int(1E9),            # experiment stops after this many steps\n",
    "    # 'multi_runner': False,            # uses multiple runners if True\n",
    "    # Optimization parameters\n",
    "    'alpha': 0.5,                       # learning rate of optimizer\n",
    "    'alpha_decay': 40,\n",
    "    'alpha_min': 0.001,\n",
    "    # Exploration parameters\n",
    "    'epsilon': 1,               # annealing starts at this epsilon\n",
    "    'epsilon_decay': 20,\n",
    "    'epsilon_min': 0.01,    \n",
    "    'gamma': 0.95,                    # discount factor gamma\n",
    "    'plots': False,\n",
    "}\n",
    "\n",
    "print('Accuracy should be higher, timesteps should be lower')\n",
    "\n",
    "params['noise'] = False\n",
    "params['surrogate'] = False\n",
    "q_values_all_experiments, rewards_all_experiments, episode_lengths, selected_actions, accuracy, _ = qLearningExperiment(params=params)\n",
    "mean_episode_length = np.mean(episode_lengths)\n",
    "print(accuracy, mean_episode_length) \n",
    "\n",
    "params['noise'] = True\n",
    "params['surrogate'] = False\n",
    "q_values_all_experiments, rewards_all_experiments, episode_lengths, selected_actions, accuracy, _ = qLearningExperiment(params=params)\n",
    "mean_episode_length = np.mean(episode_lengths)\n",
    "print(accuracy, mean_episode_length) \n",
    "\n",
    "params['noise'] = True\n",
    "params['surrogate'] = True\n",
    "q_values_all_experiments, rewards_all_experiments, episode_lengths, selected_actions, accuracy, _ = qLearningExperiment(params=params)\n",
    "mean_episode_length = np.mean(episode_lengths)\n",
    "print(accuracy, mean_episode_length) "
   ]
  },
  {
   "cell_type": "markdown",
   "metadata": {},
   "source": [
    "# Bayesian optimization"
   ]
  },
  {
   "cell_type": "code",
   "execution_count": 21,
   "metadata": {},
   "outputs": [],
   "source": [
    "# | 24        | 100.0     | 0.9026    | 826.9     | 0.0       | 73.21     |\n",
    "# this with noise True and surrogate False\n",
    "# no alpha decay\n",
    "# | 184       | 99.0      | 0.8236    | 243.1     | 0.5114    | 0.2529    | 70.53     | 0.04431   | 0.8871    | 67.76     |"
   ]
  },
  {
   "cell_type": "code",
   "execution_count": null,
   "metadata": {},
   "outputs": [],
   "source": [
    "from bayes_opt import BayesianOptimization"
   ]
  },
  {
   "cell_type": "code",
   "execution_count": 25,
   "metadata": {},
   "outputs": [
    {
     "name": "stdout",
     "output_type": "stream",
     "text": [
      "|   iter    |  target   |   alpha   | alpha_min |  epsilon  | epsilo... | epsilo... |   gamma   |\n",
      "-------------------------------------------------------------------------------------------------\n"
     ]
    },
    {
     "name": "stderr",
     "output_type": "stream",
     "text": [
      "100%|██████████| 1000/1000 [00:02<00:00, 496.24it/s]\n"
     ]
    },
    {
     "name": "stdout",
     "output_type": "stream",
     "text": [
      "| \u001b[0m1        \u001b[0m | \u001b[0m0.0      \u001b[0m | \u001b[0m0.417    \u001b[0m | \u001b[0m0.7203   \u001b[0m | \u001b[0m0.0001144\u001b[0m | \u001b[0m31.16    \u001b[0m | \u001b[0m0.1468   \u001b[0m | \u001b[0m0.09234  \u001b[0m |\n"
     ]
    },
    {
     "name": "stderr",
     "output_type": "stream",
     "text": [
      "100%|██████████| 1000/1000 [00:04<00:00, 214.37it/s]\n"
     ]
    },
    {
     "name": "stdout",
     "output_type": "stream",
     "text": [
      "| \u001b[95m2        \u001b[0m | \u001b[95m27.2     \u001b[0m | \u001b[95m0.1863   \u001b[0m | \u001b[95m0.3456   \u001b[0m | \u001b[95m0.3968   \u001b[0m | \u001b[95m47.72    \u001b[0m | \u001b[95m0.4192   \u001b[0m | \u001b[95m0.6852   \u001b[0m |\n"
     ]
    },
    {
     "name": "stderr",
     "output_type": "stream",
     "text": [
      "100%|██████████| 1000/1000 [00:02<00:00, 489.08it/s]\n"
     ]
    },
    {
     "name": "stdout",
     "output_type": "stream",
     "text": [
      "| \u001b[0m3        \u001b[0m | \u001b[0m6.4      \u001b[0m | \u001b[0m0.2045   \u001b[0m | \u001b[0m0.8781   \u001b[0m | \u001b[0m0.02739  \u001b[0m | \u001b[0m56.93    \u001b[0m | \u001b[0m0.4173   \u001b[0m | \u001b[0m0.5587   \u001b[0m |\n"
     ]
    },
    {
     "name": "stderr",
     "output_type": "stream",
     "text": [
      "100%|██████████| 1000/1000 [00:04<00:00, 223.69it/s]\n"
     ]
    },
    {
     "name": "stdout",
     "output_type": "stream",
     "text": [
      "| \u001b[95m4        \u001b[0m | \u001b[95m41.9     \u001b[0m | \u001b[95m0.1404   \u001b[0m | \u001b[95m0.1981   \u001b[0m | \u001b[95m0.8007   \u001b[0m | \u001b[95m77.78    \u001b[0m | \u001b[95m0.3134   \u001b[0m | \u001b[95m0.6923   \u001b[0m |\n"
     ]
    },
    {
     "name": "stderr",
     "output_type": "stream",
     "text": [
      "100%|██████████| 1000/1000 [00:02<00:00, 358.70it/s]\n"
     ]
    },
    {
     "name": "stdout",
     "output_type": "stream",
     "text": [
      "| \u001b[95m5        \u001b[0m | \u001b[95m92.9     \u001b[0m | \u001b[95m0.8764   \u001b[0m | \u001b[95m0.8946   \u001b[0m | \u001b[95m0.08504  \u001b[0m | \u001b[95m12.73    \u001b[0m | \u001b[95m0.1698   \u001b[0m | \u001b[95m0.8781   \u001b[0m |\n"
     ]
    },
    {
     "name": "stderr",
     "output_type": "stream",
     "text": [
      "100%|██████████| 1000/1000 [00:04<00:00, 211.01it/s]\n"
     ]
    },
    {
     "name": "stdout",
     "output_type": "stream",
     "text": [
      "| \u001b[0m6        \u001b[0m | \u001b[0m20.2     \u001b[0m | \u001b[0m0.09835  \u001b[0m | \u001b[0m0.4211   \u001b[0m | \u001b[0m0.9579   \u001b[0m | \u001b[0m47.32    \u001b[0m | \u001b[0m0.6919   \u001b[0m | \u001b[0m0.3155   \u001b[0m |\n"
     ]
    },
    {
     "name": "stderr",
     "output_type": "stream",
     "text": [
      "100%|██████████| 1000/1000 [00:02<00:00, 483.96it/s]\n"
     ]
    },
    {
     "name": "stdout",
     "output_type": "stream",
     "text": [
      "| \u001b[0m7        \u001b[0m | \u001b[0m61.3     \u001b[0m | \u001b[0m0.6865   \u001b[0m | \u001b[0m0.8346   \u001b[0m | \u001b[0m0.01829  \u001b[0m | \u001b[0m62.51    \u001b[0m | \u001b[0m0.9889   \u001b[0m | \u001b[0m0.7482   \u001b[0m |\n"
     ]
    },
    {
     "name": "stderr",
     "output_type": "stream",
     "text": [
      "100%|██████████| 1000/1000 [00:02<00:00, 377.90it/s]\n"
     ]
    },
    {
     "name": "stdout",
     "output_type": "stream",
     "text": [
      "| \u001b[0m8        \u001b[0m | \u001b[0m7.8      \u001b[0m | \u001b[0m0.2804   \u001b[0m | \u001b[0m0.7893   \u001b[0m | \u001b[0m0.1032   \u001b[0m | \u001b[0m41.35    \u001b[0m | \u001b[0m0.9086   \u001b[0m | \u001b[0m0.2936   \u001b[0m |\n"
     ]
    },
    {
     "name": "stderr",
     "output_type": "stream",
     "text": [
      "100%|██████████| 1000/1000 [00:01<00:00, 503.32it/s]\n"
     ]
    },
    {
     "name": "stdout",
     "output_type": "stream",
     "text": [
      "| \u001b[0m9        \u001b[0m | \u001b[0m0.7      \u001b[0m | \u001b[0m0.2878   \u001b[0m | \u001b[0m0.13     \u001b[0m | \u001b[0m0.01937  \u001b[0m | \u001b[0m57.52    \u001b[0m | \u001b[0m0.2116   \u001b[0m | \u001b[0m0.2655   \u001b[0m |\n"
     ]
    },
    {
     "name": "stderr",
     "output_type": "stream",
     "text": [
      "100%|██████████| 1000/1000 [00:04<00:00, 211.29it/s]\n"
     ]
    },
    {
     "name": "stdout",
     "output_type": "stream",
     "text": [
      "| \u001b[0m10       \u001b[0m | \u001b[0m53.6     \u001b[0m | \u001b[0m0.4916   \u001b[0m | \u001b[0m0.05336  \u001b[0m | \u001b[0m0.5741   \u001b[0m | \u001b[0m20.27    \u001b[0m | \u001b[0m0.5893   \u001b[0m | \u001b[0m0.6998   \u001b[0m |\n"
     ]
    },
    {
     "name": "stderr",
     "output_type": "stream",
     "text": [
      "100%|██████████| 1000/1000 [00:02<00:00, 443.11it/s]\n"
     ]
    },
    {
     "name": "stdout",
     "output_type": "stream",
     "text": [
      "| \u001b[0m11       \u001b[0m | \u001b[0m20.8     \u001b[0m | \u001b[0m0.1023   \u001b[0m | \u001b[0m0.4141   \u001b[0m | \u001b[0m0.6944   \u001b[0m | \u001b[0m38.99    \u001b[0m | \u001b[0m0.04995  \u001b[0m | \u001b[0m0.5359   \u001b[0m |\n"
     ]
    },
    {
     "name": "stderr",
     "output_type": "stream",
     "text": [
      "100%|██████████| 1000/1000 [00:04<00:00, 212.03it/s]\n"
     ]
    },
    {
     "name": "stdout",
     "output_type": "stream",
     "text": [
      "| \u001b[0m12       \u001b[0m | \u001b[0m56.5     \u001b[0m | \u001b[0m0.6638   \u001b[0m | \u001b[0m0.5149   \u001b[0m | \u001b[0m0.9446   \u001b[0m | \u001b[0m51.06    \u001b[0m | \u001b[0m0.9034   \u001b[0m | \u001b[0m0.1375   \u001b[0m |\n"
     ]
    },
    {
     "name": "stderr",
     "output_type": "stream",
     "text": [
      "100%|██████████| 1000/1000 [00:04<00:00, 216.35it/s]\n"
     ]
    },
    {
     "name": "stdout",
     "output_type": "stream",
     "text": [
      "| \u001b[0m13       \u001b[0m | \u001b[0m14.5     \u001b[0m | \u001b[0m0.1393   \u001b[0m | \u001b[0m0.8074   \u001b[0m | \u001b[0m0.3977   \u001b[0m | \u001b[0m21.57    \u001b[0m | \u001b[0m0.9275   \u001b[0m | \u001b[0m0.3478   \u001b[0m |\n"
     ]
    },
    {
     "name": "stderr",
     "output_type": "stream",
     "text": [
      "100%|██████████| 1000/1000 [00:05<00:00, 193.00it/s]\n"
     ]
    },
    {
     "name": "stdout",
     "output_type": "stream",
     "text": [
      "| \u001b[0m14       \u001b[0m | \u001b[0m61.2     \u001b[0m | \u001b[0m0.7508   \u001b[0m | \u001b[0m0.726    \u001b[0m | \u001b[0m0.8833   \u001b[0m | \u001b[0m53.66    \u001b[0m | \u001b[0m0.7509   \u001b[0m | \u001b[0m0.3489   \u001b[0m |\n"
     ]
    },
    {
     "name": "stderr",
     "output_type": "stream",
     "text": [
      "100%|██████████| 1000/1000 [00:04<00:00, 211.03it/s]\n"
     ]
    },
    {
     "name": "stdout",
     "output_type": "stream",
     "text": [
      "| \u001b[0m15       \u001b[0m | \u001b[0m19.5     \u001b[0m | \u001b[0m0.2699   \u001b[0m | \u001b[0m0.8959   \u001b[0m | \u001b[0m0.4281   \u001b[0m | \u001b[0m77.54    \u001b[0m | \u001b[0m0.6634   \u001b[0m | \u001b[0m0.6217   \u001b[0m |\n"
     ]
    },
    {
     "name": "stderr",
     "output_type": "stream",
     "text": [
      "100%|██████████| 1000/1000 [00:03<00:00, 252.81it/s]\n"
     ]
    },
    {
     "name": "stdout",
     "output_type": "stream",
     "text": [
      "| \u001b[0m16       \u001b[0m | \u001b[0m16.5     \u001b[0m | \u001b[0m0.1147   \u001b[0m | \u001b[0m0.9495   \u001b[0m | \u001b[0m0.4499   \u001b[0m | \u001b[0m50.49    \u001b[0m | \u001b[0m0.4081   \u001b[0m | \u001b[0m0.237    \u001b[0m |\n"
     ]
    },
    {
     "name": "stderr",
     "output_type": "stream",
     "text": [
      "100%|██████████| 1000/1000 [00:01<00:00, 817.79it/s]\n"
     ]
    },
    {
     "name": "stdout",
     "output_type": "stream",
     "text": [
      "| \u001b[0m17       \u001b[0m | \u001b[0m11.7     \u001b[0m | \u001b[0m0.9034   \u001b[0m | \u001b[0m0.5737   \u001b[0m | \u001b[0m0.00287  \u001b[0m | \u001b[0m53.2     \u001b[0m | \u001b[0m0.3266   \u001b[0m | \u001b[0m0.5271   \u001b[0m |\n"
     ]
    },
    {
     "name": "stderr",
     "output_type": "stream",
     "text": [
      "100%|██████████| 1000/1000 [00:01<00:00, 664.44it/s]\n"
     ]
    },
    {
     "name": "stdout",
     "output_type": "stream",
     "text": [
      "| \u001b[95m18       \u001b[0m | \u001b[95m95.0     \u001b[0m | \u001b[95m0.8859   \u001b[0m | \u001b[95m0.3573   \u001b[0m | \u001b[95m0.9085   \u001b[0m | \u001b[95m53.64    \u001b[0m | \u001b[95m0.01582  \u001b[0m | \u001b[95m0.9294   \u001b[0m |\n"
     ]
    },
    {
     "name": "stderr",
     "output_type": "stream",
     "text": [
      "100%|██████████| 1000/1000 [00:02<00:00, 415.13it/s]\n"
     ]
    },
    {
     "name": "stdout",
     "output_type": "stream",
     "text": [
      "| \u001b[0m19       \u001b[0m | \u001b[0m76.1     \u001b[0m | \u001b[0m0.6909   \u001b[0m | \u001b[0m0.9973   \u001b[0m | \u001b[0m0.1723   \u001b[0m | \u001b[0m19.6     \u001b[0m | \u001b[0m0.9326   \u001b[0m | \u001b[0m0.6968   \u001b[0m |\n"
     ]
    },
    {
     "name": "stderr",
     "output_type": "stream",
     "text": [
      "100%|██████████| 1000/1000 [00:02<00:00, 334.06it/s]\n"
     ]
    },
    {
     "name": "stdout",
     "output_type": "stream",
     "text": [
      "| \u001b[0m20       \u001b[0m | \u001b[0m16.3     \u001b[0m | \u001b[0m0.066    \u001b[0m | \u001b[0m0.7555   \u001b[0m | \u001b[0m0.7539   \u001b[0m | \u001b[0m74.61    \u001b[0m | \u001b[0m0.7115   \u001b[0m | \u001b[0m0.1243   \u001b[0m |\n"
     ]
    },
    {
     "name": "stderr",
     "output_type": "stream",
     "text": [
      "100%|██████████| 1000/1000 [00:01<00:00, 782.30it/s]\n"
     ]
    },
    {
     "name": "stdout",
     "output_type": "stream",
     "text": [
      "| \u001b[0m21       \u001b[0m | \u001b[0m6.1      \u001b[0m | \u001b[0m0.01988  \u001b[0m | \u001b[0m0.02621  \u001b[0m | \u001b[0m0.02831  \u001b[0m | \u001b[0m27.23    \u001b[0m | \u001b[0m0.86     \u001b[0m | \u001b[0m0.5388   \u001b[0m |\n"
     ]
    },
    {
     "name": "stderr",
     "output_type": "stream",
     "text": [
      "100%|██████████| 1000/1000 [00:01<00:00, 514.58it/s]\n"
     ]
    },
    {
     "name": "stdout",
     "output_type": "stream",
     "text": [
      "| \u001b[0m22       \u001b[0m | \u001b[0m91.6     \u001b[0m | \u001b[0m0.5528   \u001b[0m | \u001b[0m0.842    \u001b[0m | \u001b[0m0.1242   \u001b[0m | \u001b[0m29.54    \u001b[0m | \u001b[0m0.5858   \u001b[0m | \u001b[0m0.9696   \u001b[0m |\n"
     ]
    },
    {
     "name": "stderr",
     "output_type": "stream",
     "text": [
      "100%|██████████| 1000/1000 [00:02<00:00, 339.17it/s]\n"
     ]
    },
    {
     "name": "stdout",
     "output_type": "stream",
     "text": [
      "| \u001b[0m23       \u001b[0m | \u001b[0m61.6     \u001b[0m | \u001b[0m0.561    \u001b[0m | \u001b[0m0.01865  \u001b[0m | \u001b[0m0.8006   \u001b[0m | \u001b[0m26.31    \u001b[0m | \u001b[0m0.8071   \u001b[0m | \u001b[0m0.3879   \u001b[0m |\n"
     ]
    },
    {
     "name": "stderr",
     "output_type": "stream",
     "text": [
      "100%|██████████| 1000/1000 [00:01<00:00, 569.23it/s]\n"
     ]
    },
    {
     "name": "stdout",
     "output_type": "stream",
     "text": [
      "| \u001b[0m24       \u001b[0m | \u001b[0m58.9     \u001b[0m | \u001b[0m0.8635   \u001b[0m | \u001b[0m0.7471   \u001b[0m | \u001b[0m0.5562   \u001b[0m | \u001b[0m19.55    \u001b[0m | \u001b[0m0.05992  \u001b[0m | \u001b[0m0.1213   \u001b[0m |\n"
     ]
    },
    {
     "name": "stderr",
     "output_type": "stream",
     "text": [
      "100%|██████████| 1000/1000 [00:02<00:00, 410.62it/s]\n"
     ]
    },
    {
     "name": "stdout",
     "output_type": "stream",
     "text": [
      "| \u001b[0m25       \u001b[0m | \u001b[0m6.9      \u001b[0m | \u001b[0m0.04455  \u001b[0m | \u001b[0m0.1075   \u001b[0m | \u001b[0m0.2257   \u001b[0m | \u001b[0m59.91    \u001b[0m | \u001b[0m0.5597   \u001b[0m | \u001b[0m0.01256  \u001b[0m |\n"
     ]
    },
    {
     "name": "stderr",
     "output_type": "stream",
     "text": [
      "100%|██████████| 1000/1000 [00:02<00:00, 419.29it/s]\n"
     ]
    },
    {
     "name": "stdout",
     "output_type": "stream",
     "text": [
      "| \u001b[0m26       \u001b[0m | \u001b[0m33.2     \u001b[0m | \u001b[0m0.07197  \u001b[0m | \u001b[0m0.9673   \u001b[0m | \u001b[0m0.5681   \u001b[0m | \u001b[0m24.23    \u001b[0m | \u001b[0m0.2523   \u001b[0m | \u001b[0m0.7438   \u001b[0m |\n"
     ]
    },
    {
     "name": "stderr",
     "output_type": "stream",
     "text": [
      "100%|██████████| 1000/1000 [00:02<00:00, 388.91it/s]\n"
     ]
    },
    {
     "name": "stdout",
     "output_type": "stream",
     "text": [
      "| \u001b[0m27       \u001b[0m | \u001b[0m38.8     \u001b[0m | \u001b[0m0.1954   \u001b[0m | \u001b[0m0.5814   \u001b[0m | \u001b[0m0.97     \u001b[0m | \u001b[0m69.28    \u001b[0m | \u001b[0m0.2398   \u001b[0m | \u001b[0m0.4938   \u001b[0m |\n"
     ]
    },
    {
     "name": "stderr",
     "output_type": "stream",
     "text": [
      "100%|██████████| 1000/1000 [00:01<00:00, 722.31it/s]\n"
     ]
    },
    {
     "name": "stdout",
     "output_type": "stream",
     "text": [
      "| \u001b[0m28       \u001b[0m | \u001b[0m21.7     \u001b[0m | \u001b[0m0.62     \u001b[0m | \u001b[0m0.829    \u001b[0m | \u001b[0m0.1568   \u001b[0m | \u001b[0m11.3     \u001b[0m | \u001b[0m0.07002  \u001b[0m | \u001b[0m0.4863   \u001b[0m |\n"
     ]
    },
    {
     "name": "stderr",
     "output_type": "stream",
     "text": [
      "100%|██████████| 1000/1000 [00:02<00:00, 350.88it/s]\n"
     ]
    },
    {
     "name": "stdout",
     "output_type": "stream",
     "text": [
      "| \u001b[0m29       \u001b[0m | \u001b[0m53.9     \u001b[0m | \u001b[0m0.6063   \u001b[0m | \u001b[0m0.5689   \u001b[0m | \u001b[0m0.3174   \u001b[0m | \u001b[0m79.2     \u001b[0m | \u001b[0m0.5797   \u001b[0m | \u001b[0m0.3801   \u001b[0m |\n"
     ]
    },
    {
     "name": "stderr",
     "output_type": "stream",
     "text": [
      "100%|██████████| 1000/1000 [00:01<00:00, 679.79it/s]\n"
     ]
    },
    {
     "name": "stdout",
     "output_type": "stream",
     "text": [
      "| \u001b[0m30       \u001b[0m | \u001b[0m54.3     \u001b[0m | \u001b[0m0.5509   \u001b[0m | \u001b[0m0.7453   \u001b[0m | \u001b[0m0.6692   \u001b[0m | \u001b[0m28.54    \u001b[0m | \u001b[0m0.06633  \u001b[0m | \u001b[0m0.3701   \u001b[0m |\n"
     ]
    },
    {
     "name": "stderr",
     "output_type": "stream",
     "text": [
      "100%|██████████| 1000/1000 [00:02<00:00, 372.42it/s]\n"
     ]
    },
    {
     "name": "stdout",
     "output_type": "stream",
     "text": [
      "| \u001b[0m31       \u001b[0m | \u001b[0m79.4     \u001b[0m | \u001b[0m0.6297   \u001b[0m | \u001b[0m0.2102   \u001b[0m | \u001b[0m0.7528   \u001b[0m | \u001b[0m14.66    \u001b[0m | \u001b[0m0.2603   \u001b[0m | \u001b[0m0.8048   \u001b[0m |\n"
     ]
    },
    {
     "name": "stderr",
     "output_type": "stream",
     "text": [
      "100%|██████████| 1000/1000 [00:02<00:00, 377.60it/s]\n"
     ]
    },
    {
     "name": "stdout",
     "output_type": "stream",
     "text": [
      "| \u001b[0m32       \u001b[0m | \u001b[0m28.9     \u001b[0m | \u001b[0m0.1934   \u001b[0m | \u001b[0m0.6395   \u001b[0m | \u001b[0m0.5247   \u001b[0m | \u001b[0m74.74    \u001b[0m | \u001b[0m0.2633   \u001b[0m | \u001b[0m0.06596  \u001b[0m |\n"
     ]
    },
    {
     "name": "stderr",
     "output_type": "stream",
     "text": [
      "100%|██████████| 1000/1000 [00:01<00:00, 520.14it/s]\n"
     ]
    },
    {
     "name": "stdout",
     "output_type": "stream",
     "text": [
      "| \u001b[0m33       \u001b[0m | \u001b[0m84.1     \u001b[0m | \u001b[0m0.7351   \u001b[0m | \u001b[0m0.7722   \u001b[0m | \u001b[0m0.9078   \u001b[0m | \u001b[0m75.24    \u001b[0m | \u001b[0m0.01395  \u001b[0m | \u001b[0m0.2344   \u001b[0m |\n"
     ]
    },
    {
     "name": "stderr",
     "output_type": "stream",
     "text": [
      "100%|██████████| 1000/1000 [00:02<00:00, 337.70it/s]\n"
     ]
    },
    {
     "name": "stdout",
     "output_type": "stream",
     "text": [
      "| \u001b[0m34       \u001b[0m | \u001b[0m54.3     \u001b[0m | \u001b[0m0.6168   \u001b[0m | \u001b[0m0.949    \u001b[0m | \u001b[0m0.9502   \u001b[0m | \u001b[0m48.97    \u001b[0m | \u001b[0m0.9156   \u001b[0m | \u001b[0m0.6416   \u001b[0m |\n"
     ]
    },
    {
     "name": "stderr",
     "output_type": "stream",
     "text": [
      "100%|██████████| 1000/1000 [00:02<00:00, 337.07it/s]\n"
     ]
    },
    {
     "name": "stdout",
     "output_type": "stream",
     "text": [
      "| \u001b[0m35       \u001b[0m | \u001b[0m56.1     \u001b[0m | \u001b[0m0.39     \u001b[0m | \u001b[0m0.486    \u001b[0m | \u001b[0m0.6043   \u001b[0m | \u001b[0m48.47    \u001b[0m | \u001b[0m0.9262   \u001b[0m | \u001b[0m0.9187   \u001b[0m |\n"
     ]
    },
    {
     "name": "stderr",
     "output_type": "stream",
     "text": [
      "100%|██████████| 1000/1000 [00:01<00:00, 510.78it/s]\n"
     ]
    },
    {
     "name": "stdout",
     "output_type": "stream",
     "text": [
      "| \u001b[0m36       \u001b[0m | \u001b[0m35.6     \u001b[0m | \u001b[0m0.3949   \u001b[0m | \u001b[0m0.9633   \u001b[0m | \u001b[0m0.174    \u001b[0m | \u001b[0m18.84    \u001b[0m | \u001b[0m0.1351   \u001b[0m | \u001b[0m0.5057   \u001b[0m |\n"
     ]
    },
    {
     "name": "stderr",
     "output_type": "stream",
     "text": [
      "100%|██████████| 1000/1000 [00:01<00:00, 527.07it/s]\n"
     ]
    },
    {
     "name": "stdout",
     "output_type": "stream",
     "text": [
      "| \u001b[0m37       \u001b[0m | \u001b[0m23.5     \u001b[0m | \u001b[0m0.02152  \u001b[0m | \u001b[0m0.948    \u001b[0m | \u001b[0m0.8271   \u001b[0m | \u001b[0m11.05    \u001b[0m | \u001b[0m0.1762   \u001b[0m | \u001b[0m0.3321   \u001b[0m |\n"
     ]
    },
    {
     "name": "stderr",
     "output_type": "stream",
     "text": [
      "100%|██████████| 1000/1000 [00:02<00:00, 353.39it/s]\n"
     ]
    },
    {
     "name": "stdout",
     "output_type": "stream",
     "text": [
      "| \u001b[0m38       \u001b[0m | \u001b[0m68.0     \u001b[0m | \u001b[0m0.131    \u001b[0m | \u001b[0m0.8095   \u001b[0m | \u001b[0m0.3447   \u001b[0m | \u001b[0m75.81    \u001b[0m | \u001b[0m0.582    \u001b[0m | \u001b[0m0.8788   \u001b[0m |\n"
     ]
    },
    {
     "name": "stderr",
     "output_type": "stream",
     "text": [
      "100%|██████████| 1000/1000 [00:02<00:00, 338.05it/s]\n"
     ]
    },
    {
     "name": "stdout",
     "output_type": "stream",
     "text": [
      "| \u001b[0m39       \u001b[0m | \u001b[0m67.9     \u001b[0m | \u001b[0m0.8447   \u001b[0m | \u001b[0m0.9054   \u001b[0m | \u001b[0m0.4599   \u001b[0m | \u001b[0m48.24    \u001b[0m | \u001b[0m0.7986   \u001b[0m | \u001b[0m0.2857   \u001b[0m |\n"
     ]
    },
    {
     "name": "stderr",
     "output_type": "stream",
     "text": [
      "100%|██████████| 1000/1000 [00:01<00:00, 803.45it/s]\n"
     ]
    },
    {
     "name": "stdout",
     "output_type": "stream",
     "text": [
      "| \u001b[0m40       \u001b[0m | \u001b[0m65.8     \u001b[0m | \u001b[0m0.4903   \u001b[0m | \u001b[0m0.5991   \u001b[0m | \u001b[0m0.01553  \u001b[0m | \u001b[0m51.54    \u001b[0m | \u001b[0m0.4337   \u001b[0m | \u001b[0m0.8074   \u001b[0m |\n"
     ]
    },
    {
     "name": "stderr",
     "output_type": "stream",
     "text": [
      "100%|██████████| 1000/1000 [00:02<00:00, 338.13it/s]\n"
     ]
    },
    {
     "name": "stdout",
     "output_type": "stream",
     "text": [
      "| \u001b[0m41       \u001b[0m | \u001b[0m21.9     \u001b[0m | \u001b[0m0.3152   \u001b[0m | \u001b[0m0.8929   \u001b[0m | \u001b[0m0.5779   \u001b[0m | \u001b[0m22.88    \u001b[0m | \u001b[0m0.7879   \u001b[0m | \u001b[0m0.612    \u001b[0m |\n"
     ]
    },
    {
     "name": "stderr",
     "output_type": "stream",
     "text": [
      "100%|██████████| 1000/1000 [00:01<00:00, 753.29it/s]\n"
     ]
    },
    {
     "name": "stdout",
     "output_type": "stream",
     "text": [
      "| \u001b[0m42       \u001b[0m | \u001b[0m79.8     \u001b[0m | \u001b[0m0.05391  \u001b[0m | \u001b[0m0.4202   \u001b[0m | \u001b[0m0.6791   \u001b[0m | \u001b[0m74.3     \u001b[0m | \u001b[0m0.000402 \u001b[0m | \u001b[0m0.9768   \u001b[0m |\n"
     ]
    },
    {
     "name": "stderr",
     "output_type": "stream",
     "text": [
      "100%|██████████| 1000/1000 [00:03<00:00, 333.19it/s]\n"
     ]
    },
    {
     "name": "stdout",
     "output_type": "stream",
     "text": [
      "| \u001b[0m43       \u001b[0m | \u001b[0m47.6     \u001b[0m | \u001b[0m0.3766   \u001b[0m | \u001b[0m0.9738   \u001b[0m | \u001b[0m0.6047   \u001b[0m | \u001b[0m68.02    \u001b[0m | \u001b[0m0.5747   \u001b[0m | \u001b[0m0.6281   \u001b[0m |\n"
     ]
    },
    {
     "name": "stderr",
     "output_type": "stream",
     "text": [
      "100%|██████████| 1000/1000 [00:02<00:00, 336.41it/s]\n"
     ]
    },
    {
     "name": "stdout",
     "output_type": "stream",
     "text": [
      "| \u001b[0m44       \u001b[0m | \u001b[0m18.4     \u001b[0m | \u001b[0m0.2856   \u001b[0m | \u001b[0m0.5868   \u001b[0m | \u001b[0m0.75     \u001b[0m | \u001b[0m70.08    \u001b[0m | \u001b[0m0.7551   \u001b[0m | \u001b[0m0.6981   \u001b[0m |\n"
     ]
    },
    {
     "name": "stderr",
     "output_type": "stream",
     "text": [
      "100%|██████████| 1000/1000 [00:02<00:00, 340.08it/s]\n"
     ]
    },
    {
     "name": "stdout",
     "output_type": "stream",
     "text": [
      "| \u001b[0m45       \u001b[0m | \u001b[0m70.4     \u001b[0m | \u001b[0m0.8645   \u001b[0m | \u001b[0m0.3227   \u001b[0m | \u001b[0m0.6708   \u001b[0m | \u001b[0m41.56    \u001b[0m | \u001b[0m0.3821   \u001b[0m | \u001b[0m0.4108   \u001b[0m |\n"
     ]
    },
    {
     "name": "stderr",
     "output_type": "stream",
     "text": [
      "100%|██████████| 1000/1000 [00:02<00:00, 337.13it/s]\n"
     ]
    },
    {
     "name": "stdout",
     "output_type": "stream",
     "text": [
      "| \u001b[0m46       \u001b[0m | \u001b[0m48.5     \u001b[0m | \u001b[0m0.4015   \u001b[0m | \u001b[0m0.3174   \u001b[0m | \u001b[0m0.6219   \u001b[0m | \u001b[0m40.12    \u001b[0m | \u001b[0m0.9738   \u001b[0m | \u001b[0m0.6778   \u001b[0m |\n"
     ]
    },
    {
     "name": "stderr",
     "output_type": "stream",
     "text": [
      "100%|██████████| 1000/1000 [00:02<00:00, 355.41it/s]\n"
     ]
    },
    {
     "name": "stdout",
     "output_type": "stream",
     "text": [
      "| \u001b[0m47       \u001b[0m | \u001b[0m66.8     \u001b[0m | \u001b[0m0.1986   \u001b[0m | \u001b[0m0.4267   \u001b[0m | \u001b[0m0.3433   \u001b[0m | \u001b[0m65.83    \u001b[0m | \u001b[0m0.88     \u001b[0m | \u001b[0m0.9038   \u001b[0m |\n"
     ]
    },
    {
     "name": "stderr",
     "output_type": "stream",
     "text": [
      "100%|██████████| 1000/1000 [00:02<00:00, 359.99it/s]\n"
     ]
    },
    {
     "name": "stdout",
     "output_type": "stream",
     "text": [
      "| \u001b[0m48       \u001b[0m | \u001b[0m75.1     \u001b[0m | \u001b[0m0.6627   \u001b[0m | \u001b[0m0.2702   \u001b[0m | \u001b[0m0.2524   \u001b[0m | \u001b[0m69.84    \u001b[0m | \u001b[0m0.5277   \u001b[0m | \u001b[0m0.8022   \u001b[0m |\n"
     ]
    },
    {
     "name": "stderr",
     "output_type": "stream",
     "text": [
      "100%|██████████| 1000/1000 [00:02<00:00, 338.16it/s]\n"
     ]
    },
    {
     "name": "stdout",
     "output_type": "stream",
     "text": [
      "| \u001b[0m49       \u001b[0m | \u001b[0m59.3     \u001b[0m | \u001b[0m0.5725   \u001b[0m | \u001b[0m0.7331   \u001b[0m | \u001b[0m0.519    \u001b[0m | \u001b[0m63.96    \u001b[0m | \u001b[0m0.5689   \u001b[0m | \u001b[0m0.4657   \u001b[0m |\n"
     ]
    },
    {
     "name": "stderr",
     "output_type": "stream",
     "text": [
      "100%|██████████| 1000/1000 [00:02<00:00, 347.51it/s]\n"
     ]
    },
    {
     "name": "stdout",
     "output_type": "stream",
     "text": [
      "| \u001b[0m50       \u001b[0m | \u001b[0m56.3     \u001b[0m | \u001b[0m0.3427   \u001b[0m | \u001b[0m0.06821  \u001b[0m | \u001b[0m0.3779   \u001b[0m | \u001b[0m15.57    \u001b[0m | \u001b[0m0.9828   \u001b[0m | \u001b[0m0.1816   \u001b[0m |\n"
     ]
    },
    {
     "name": "stderr",
     "output_type": "stream",
     "text": [
      "100%|██████████| 1000/1000 [00:02<00:00, 419.52it/s]\n"
     ]
    },
    {
     "name": "stdout",
     "output_type": "stream",
     "text": [
      "| \u001b[0m51       \u001b[0m | \u001b[0m80.9     \u001b[0m | \u001b[0m0.8119   \u001b[0m | \u001b[0m0.875    \u001b[0m | \u001b[0m0.6884   \u001b[0m | \u001b[0m49.86    \u001b[0m | \u001b[0m0.161    \u001b[0m | \u001b[0m0.4669   \u001b[0m |\n"
     ]
    },
    {
     "name": "stderr",
     "output_type": "stream",
     "text": [
      "100%|██████████| 1000/1000 [00:02<00:00, 339.54it/s]\n"
     ]
    },
    {
     "name": "stdout",
     "output_type": "stream",
     "text": [
      "| \u001b[0m52       \u001b[0m | \u001b[0m56.6     \u001b[0m | \u001b[0m0.3452   \u001b[0m | \u001b[0m0.225    \u001b[0m | \u001b[0m0.5925   \u001b[0m | \u001b[0m31.86    \u001b[0m | \u001b[0m0.9163   \u001b[0m | \u001b[0m0.9096   \u001b[0m |\n"
     ]
    },
    {
     "name": "stderr",
     "output_type": "stream",
     "text": [
      "100%|██████████| 1000/1000 [00:02<00:00, 441.72it/s]\n"
     ]
    },
    {
     "name": "stdout",
     "output_type": "stream",
     "text": [
      "| \u001b[0m53       \u001b[0m | \u001b[0m18.0     \u001b[0m | \u001b[0m0.2571   \u001b[0m | \u001b[0m0.1109   \u001b[0m | \u001b[0m0.193    \u001b[0m | \u001b[0m44.97    \u001b[0m | \u001b[0m0.7286   \u001b[0m | \u001b[0m0.2082   \u001b[0m |\n"
     ]
    },
    {
     "name": "stderr",
     "output_type": "stream",
     "text": [
      "100%|██████████| 1000/1000 [00:02<00:00, 403.27it/s]\n"
     ]
    },
    {
     "name": "stdout",
     "output_type": "stream",
     "text": [
      "| \u001b[0m54       \u001b[0m | \u001b[0m21.7     \u001b[0m | \u001b[0m0.248    \u001b[0m | \u001b[0m0.8517   \u001b[0m | \u001b[0m0.4158   \u001b[0m | \u001b[0m53.17    \u001b[0m | \u001b[0m0.2337   \u001b[0m | \u001b[0m0.102    \u001b[0m |\n"
     ]
    },
    {
     "name": "stderr",
     "output_type": "stream",
     "text": [
      "100%|██████████| 1000/1000 [00:02<00:00, 457.32it/s]\n"
     ]
    },
    {
     "name": "stdout",
     "output_type": "stream",
     "text": [
      "| \u001b[0m55       \u001b[0m | \u001b[0m56.4     \u001b[0m | \u001b[0m0.5159   \u001b[0m | \u001b[0m0.4771   \u001b[0m | \u001b[0m0.1527   \u001b[0m | \u001b[0m53.53    \u001b[0m | \u001b[0m0.544    \u001b[0m | \u001b[0m0.6541   \u001b[0m |\n"
     ]
    },
    {
     "name": "stderr",
     "output_type": "stream",
     "text": [
      "100%|██████████| 1000/1000 [00:02<00:00, 410.18it/s]\n"
     ]
    },
    {
     "name": "stdout",
     "output_type": "stream",
     "text": [
      "| \u001b[0m56       \u001b[0m | \u001b[0m7.0      \u001b[0m | \u001b[0m0.1445   \u001b[0m | \u001b[0m0.7515   \u001b[0m | \u001b[0m0.222    \u001b[0m | \u001b[0m46.35    \u001b[0m | \u001b[0m0.7853   \u001b[0m | \u001b[0m0.02233  \u001b[0m |\n"
     ]
    },
    {
     "name": "stderr",
     "output_type": "stream",
     "text": [
      "100%|██████████| 1000/1000 [00:02<00:00, 340.45it/s]\n"
     ]
    },
    {
     "name": "stdout",
     "output_type": "stream",
     "text": [
      "| \u001b[0m57       \u001b[0m | \u001b[0m20.9     \u001b[0m | \u001b[0m0.3244   \u001b[0m | \u001b[0m0.8729   \u001b[0m | \u001b[0m0.8447   \u001b[0m | \u001b[0m47.69    \u001b[0m | \u001b[0m0.8666   \u001b[0m | \u001b[0m0.9498   \u001b[0m |\n"
     ]
    },
    {
     "name": "stderr",
     "output_type": "stream",
     "text": [
      "100%|██████████| 1000/1000 [00:01<00:00, 516.54it/s]\n"
     ]
    },
    {
     "name": "stdout",
     "output_type": "stream",
     "text": [
      "| \u001b[0m58       \u001b[0m | \u001b[0m68.3     \u001b[0m | \u001b[0m0.8264   \u001b[0m | \u001b[0m0.8541   \u001b[0m | \u001b[0m0.09874  \u001b[0m | \u001b[0m55.59    \u001b[0m | \u001b[0m0.7035   \u001b[0m | \u001b[0m0.6102   \u001b[0m |\n"
     ]
    },
    {
     "name": "stderr",
     "output_type": "stream",
     "text": [
      "100%|██████████| 1000/1000 [00:02<00:00, 360.32it/s]\n"
     ]
    },
    {
     "name": "stdout",
     "output_type": "stream",
     "text": [
      "| \u001b[0m59       \u001b[0m | \u001b[0m77.2     \u001b[0m | \u001b[0m0.7996   \u001b[0m | \u001b[0m0.03457  \u001b[0m | \u001b[0m0.7702   \u001b[0m | \u001b[0m61.22    \u001b[0m | \u001b[0m0.2597   \u001b[0m | \u001b[0m0.2571   \u001b[0m |\n"
     ]
    },
    {
     "name": "stderr",
     "output_type": "stream",
     "text": [
      "100%|██████████| 1000/1000 [00:02<00:00, 338.24it/s]\n"
     ]
    },
    {
     "name": "stdout",
     "output_type": "stream",
     "text": [
      "| \u001b[0m60       \u001b[0m | \u001b[0m63.8     \u001b[0m | \u001b[0m0.6323   \u001b[0m | \u001b[0m0.3453   \u001b[0m | \u001b[0m0.7966   \u001b[0m | \u001b[0m41.23    \u001b[0m | \u001b[0m0.7827   \u001b[0m | \u001b[0m0.9905   \u001b[0m |\n"
     ]
    },
    {
     "name": "stderr",
     "output_type": "stream",
     "text": [
      "100%|██████████| 1000/1000 [00:02<00:00, 337.60it/s]\n"
     ]
    },
    {
     "name": "stdout",
     "output_type": "stream",
     "text": [
      "| \u001b[0m61       \u001b[0m | \u001b[0m13.1     \u001b[0m | \u001b[0m0.3002   \u001b[0m | \u001b[0m0.143    \u001b[0m | \u001b[0m0.9013   \u001b[0m | \u001b[0m47.91    \u001b[0m | \u001b[0m0.9747   \u001b[0m | \u001b[0m0.6366   \u001b[0m |\n"
     ]
    },
    {
     "name": "stderr",
     "output_type": "stream",
     "text": [
      "100%|██████████| 1000/1000 [00:02<00:00, 347.80it/s]\n"
     ]
    },
    {
     "name": "stdout",
     "output_type": "stream",
     "text": [
      "| \u001b[0m62       \u001b[0m | \u001b[0m76.9     \u001b[0m | \u001b[0m0.9939   \u001b[0m | \u001b[0m0.5461   \u001b[0m | \u001b[0m0.5264   \u001b[0m | \u001b[0m19.48    \u001b[0m | \u001b[0m0.3557   \u001b[0m | \u001b[0m0.02622  \u001b[0m |\n"
     ]
    },
    {
     "name": "stderr",
     "output_type": "stream",
     "text": [
      "100%|██████████| 1000/1000 [00:01<00:00, 775.39it/s]\n"
     ]
    },
    {
     "name": "stdout",
     "output_type": "stream",
     "text": [
      "| \u001b[0m63       \u001b[0m | \u001b[0m24.8     \u001b[0m | \u001b[0m0.1604   \u001b[0m | \u001b[0m0.7456   \u001b[0m | \u001b[0m0.0304   \u001b[0m | \u001b[0m35.66    \u001b[0m | \u001b[0m0.8623   \u001b[0m | \u001b[0m0.6927   \u001b[0m |\n"
     ]
    },
    {
     "name": "stderr",
     "output_type": "stream",
     "text": [
      "100%|██████████| 1000/1000 [00:02<00:00, 345.83it/s]\n"
     ]
    },
    {
     "name": "stdout",
     "output_type": "stream",
     "text": [
      "| \u001b[0m64       \u001b[0m | \u001b[0m59.9     \u001b[0m | \u001b[0m0.6909   \u001b[0m | \u001b[0m0.1886   \u001b[0m | \u001b[0m0.4419   \u001b[0m | \u001b[0m50.71    \u001b[0m | \u001b[0m0.9898   \u001b[0m | \u001b[0m0.2039   \u001b[0m |\n"
     ]
    },
    {
     "name": "stderr",
     "output_type": "stream",
     "text": [
      "100%|██████████| 1000/1000 [00:01<00:00, 691.85it/s]\n"
     ]
    },
    {
     "name": "stdout",
     "output_type": "stream",
     "text": [
      "| \u001b[0m65       \u001b[0m | \u001b[0m28.9     \u001b[0m | \u001b[0m0.2477   \u001b[0m | \u001b[0m0.2622   \u001b[0m | \u001b[0m0.7502   \u001b[0m | \u001b[0m41.99    \u001b[0m | \u001b[0m0.05693  \u001b[0m | \u001b[0m0.5085   \u001b[0m |\n"
     ]
    },
    {
     "name": "stderr",
     "output_type": "stream",
     "text": [
      "100%|██████████| 1000/1000 [00:02<00:00, 371.06it/s]\n"
     ]
    },
    {
     "name": "stdout",
     "output_type": "stream",
     "text": [
      "| \u001b[0m66       \u001b[0m | \u001b[0m68.9     \u001b[0m | \u001b[0m0.212    \u001b[0m | \u001b[0m0.7986   \u001b[0m | \u001b[0m0.2973   \u001b[0m | \u001b[0m11.93    \u001b[0m | \u001b[0m0.5934   \u001b[0m | \u001b[0m0.8438   \u001b[0m |\n"
     ]
    },
    {
     "name": "stderr",
     "output_type": "stream",
     "text": [
      "100%|██████████| 1000/1000 [00:02<00:00, 343.10it/s]\n"
     ]
    },
    {
     "name": "stdout",
     "output_type": "stream",
     "text": [
      "| \u001b[0m67       \u001b[0m | \u001b[0m62.5     \u001b[0m | \u001b[0m0.381    \u001b[0m | \u001b[0m0.7499   \u001b[0m | \u001b[0m0.5111   \u001b[0m | \u001b[0m47.87    \u001b[0m | \u001b[0m0.9594   \u001b[0m | \u001b[0m0.804    \u001b[0m |\n"
     ]
    },
    {
     "name": "stderr",
     "output_type": "stream",
     "text": [
      "100%|██████████| 1000/1000 [00:02<00:00, 422.07it/s]\n"
     ]
    },
    {
     "name": "stdout",
     "output_type": "stream",
     "text": [
      "| \u001b[0m68       \u001b[0m | \u001b[0m13.2     \u001b[0m | \u001b[0m0.03232  \u001b[0m | \u001b[0m0.7094   \u001b[0m | \u001b[0m0.465    \u001b[0m | \u001b[0m76.33    \u001b[0m | \u001b[0m0.2214   \u001b[0m | \u001b[0m0.2671   \u001b[0m |\n"
     ]
    },
    {
     "name": "stderr",
     "output_type": "stream",
     "text": [
      "100%|██████████| 1000/1000 [00:01<00:00, 607.35it/s]\n"
     ]
    },
    {
     "name": "stdout",
     "output_type": "stream",
     "text": [
      "| \u001b[0m69       \u001b[0m | \u001b[0m25.6     \u001b[0m | \u001b[0m0.08147  \u001b[0m | \u001b[0m0.4286   \u001b[0m | \u001b[0m0.109    \u001b[0m | \u001b[0m54.37    \u001b[0m | \u001b[0m0.803    \u001b[0m | \u001b[0m0.6968   \u001b[0m |\n"
     ]
    },
    {
     "name": "stderr",
     "output_type": "stream",
     "text": [
      "100%|██████████| 1000/1000 [00:02<00:00, 337.81it/s]\n"
     ]
    },
    {
     "name": "stdout",
     "output_type": "stream",
     "text": [
      "| \u001b[0m70       \u001b[0m | \u001b[0m63.4     \u001b[0m | \u001b[0m0.7662   \u001b[0m | \u001b[0m0.3425   \u001b[0m | \u001b[0m0.8459   \u001b[0m | \u001b[0m40.01    \u001b[0m | \u001b[0m0.824    \u001b[0m | \u001b[0m0.6265   \u001b[0m |\n"
     ]
    },
    {
     "name": "stderr",
     "output_type": "stream",
     "text": [
      "100%|██████████| 1000/1000 [00:01<00:00, 789.61it/s]\n"
     ]
    },
    {
     "name": "stdout",
     "output_type": "stream",
     "text": [
      "| \u001b[0m71       \u001b[0m | \u001b[0m0.2      \u001b[0m | \u001b[0m0.1434   \u001b[0m | \u001b[0m0.07839  \u001b[0m | \u001b[0m0.01833  \u001b[0m | \u001b[0m14.67    \u001b[0m | \u001b[0m0.4586   \u001b[0m | \u001b[0m0.1133   \u001b[0m |\n"
     ]
    },
    {
     "name": "stderr",
     "output_type": "stream",
     "text": [
      "100%|██████████| 1000/1000 [00:02<00:00, 348.34it/s]\n"
     ]
    },
    {
     "name": "stdout",
     "output_type": "stream",
     "text": [
      "| \u001b[0m72       \u001b[0m | \u001b[0m13.4     \u001b[0m | \u001b[0m0.02778  \u001b[0m | \u001b[0m0.7549   \u001b[0m | \u001b[0m0.3949   \u001b[0m | \u001b[0m62.29    \u001b[0m | \u001b[0m0.4524   \u001b[0m | \u001b[0m0.4501   \u001b[0m |\n"
     ]
    },
    {
     "name": "stderr",
     "output_type": "stream",
     "text": [
      "100%|██████████| 1000/1000 [00:02<00:00, 341.90it/s]\n"
     ]
    },
    {
     "name": "stdout",
     "output_type": "stream",
     "text": [
      "| \u001b[0m73       \u001b[0m | \u001b[0m30.9     \u001b[0m | \u001b[0m0.4781   \u001b[0m | \u001b[0m0.474    \u001b[0m | \u001b[0m0.8032   \u001b[0m | \u001b[0m38.17    \u001b[0m | \u001b[0m0.9047   \u001b[0m | \u001b[0m0.03706  \u001b[0m |\n"
     ]
    },
    {
     "name": "stderr",
     "output_type": "stream",
     "text": [
      "100%|██████████| 1000/1000 [00:02<00:00, 342.83it/s]\n"
     ]
    },
    {
     "name": "stdout",
     "output_type": "stream",
     "text": [
      "| \u001b[0m74       \u001b[0m | \u001b[0m61.7     \u001b[0m | \u001b[0m0.7739   \u001b[0m | \u001b[0m0.1256   \u001b[0m | \u001b[0m0.6185   \u001b[0m | \u001b[0m10.73    \u001b[0m | \u001b[0m0.5386   \u001b[0m | \u001b[0m0.003018 \u001b[0m |\n"
     ]
    },
    {
     "name": "stderr",
     "output_type": "stream",
     "text": [
      "100%|██████████| 1000/1000 [00:02<00:00, 420.72it/s]\n"
     ]
    },
    {
     "name": "stdout",
     "output_type": "stream",
     "text": [
      "| \u001b[0m75       \u001b[0m | \u001b[0m85.0     \u001b[0m | \u001b[0m0.9512   \u001b[0m | \u001b[0m0.9054   \u001b[0m | \u001b[0m0.796    \u001b[0m | \u001b[0m74.07    \u001b[0m | \u001b[0m0.1456   \u001b[0m | \u001b[0m0.1577   \u001b[0m |\n"
     ]
    },
    {
     "name": "stderr",
     "output_type": "stream",
     "text": [
      "100%|██████████| 1000/1000 [00:02<00:00, 337.57it/s]\n"
     ]
    },
    {
     "name": "stdout",
     "output_type": "stream",
     "text": [
      "| \u001b[0m76       \u001b[0m | \u001b[0m24.0     \u001b[0m | \u001b[0m0.1876   \u001b[0m | \u001b[0m0.6225   \u001b[0m | \u001b[0m0.9058   \u001b[0m | \u001b[0m79.3     \u001b[0m | \u001b[0m0.7111   \u001b[0m | \u001b[0m0.7318   \u001b[0m |\n"
     ]
    },
    {
     "name": "stderr",
     "output_type": "stream",
     "text": [
      "100%|██████████| 1000/1000 [00:01<00:00, 560.28it/s]\n"
     ]
    },
    {
     "name": "stdout",
     "output_type": "stream",
     "text": [
      "| \u001b[0m77       \u001b[0m | \u001b[0m94.7     \u001b[0m | \u001b[0m0.9093   \u001b[0m | \u001b[0m0.4009   \u001b[0m | \u001b[0m0.2499   \u001b[0m | \u001b[0m22.14    \u001b[0m | \u001b[0m0.1195   \u001b[0m | \u001b[0m0.8126   \u001b[0m |\n"
     ]
    },
    {
     "name": "stderr",
     "output_type": "stream",
     "text": [
      "100%|██████████| 1000/1000 [00:03<00:00, 326.64it/s]\n"
     ]
    },
    {
     "name": "stdout",
     "output_type": "stream",
     "text": [
      "| \u001b[0m78       \u001b[0m | \u001b[0m12.5     \u001b[0m | \u001b[0m0.1468   \u001b[0m | \u001b[0m0.2643   \u001b[0m | \u001b[0m0.8191   \u001b[0m | \u001b[0m31.74    \u001b[0m | \u001b[0m0.9824   \u001b[0m | \u001b[0m0.2666   \u001b[0m |\n"
     ]
    },
    {
     "name": "stderr",
     "output_type": "stream",
     "text": [
      "100%|██████████| 1000/1000 [00:03<00:00, 312.05it/s]\n"
     ]
    },
    {
     "name": "stdout",
     "output_type": "stream",
     "text": [
      "| \u001b[0m79       \u001b[0m | \u001b[0m57.3     \u001b[0m | \u001b[0m0.5337   \u001b[0m | \u001b[0m0.3145   \u001b[0m | \u001b[0m0.9108   \u001b[0m | \u001b[0m35.66    \u001b[0m | \u001b[0m0.4336   \u001b[0m | \u001b[0m0.5123   \u001b[0m |\n"
     ]
    },
    {
     "name": "stderr",
     "output_type": "stream",
     "text": [
      "100%|██████████| 1000/1000 [00:01<00:00, 597.86it/s]\n"
     ]
    },
    {
     "name": "stdout",
     "output_type": "stream",
     "text": [
      "| \u001b[0m80       \u001b[0m | \u001b[0m87.4     \u001b[0m | \u001b[0m0.9389   \u001b[0m | \u001b[0m0.03095  \u001b[0m | \u001b[0m0.7169   \u001b[0m | \u001b[0m72.37    \u001b[0m | \u001b[0m0.02729  \u001b[0m | \u001b[0m0.5221   \u001b[0m |\n"
     ]
    },
    {
     "name": "stderr",
     "output_type": "stream",
     "text": [
      "100%|██████████| 1000/1000 [00:03<00:00, 322.02it/s]\n"
     ]
    },
    {
     "name": "stdout",
     "output_type": "stream",
     "text": [
      "| \u001b[0m81       \u001b[0m | \u001b[0m25.0     \u001b[0m | \u001b[0m0.326    \u001b[0m | \u001b[0m0.8595   \u001b[0m | \u001b[0m0.5585   \u001b[0m | \u001b[0m58.32    \u001b[0m | \u001b[0m0.4529   \u001b[0m | \u001b[0m0.6283   \u001b[0m |\n"
     ]
    },
    {
     "name": "stderr",
     "output_type": "stream",
     "text": [
      "100%|██████████| 1000/1000 [00:02<00:00, 344.62it/s]\n"
     ]
    },
    {
     "name": "stdout",
     "output_type": "stream",
     "text": [
      "| \u001b[0m82       \u001b[0m | \u001b[0m45.2     \u001b[0m | \u001b[0m0.2901   \u001b[0m | \u001b[0m0.009349 \u001b[0m | \u001b[0m0.5768   \u001b[0m | \u001b[0m31.8     \u001b[0m | \u001b[0m0.5173   \u001b[0m | \u001b[0m0.9164   \u001b[0m |\n"
     ]
    },
    {
     "name": "stderr",
     "output_type": "stream",
     "text": [
      "100%|██████████| 1000/1000 [00:02<00:00, 336.06it/s]\n"
     ]
    },
    {
     "name": "stdout",
     "output_type": "stream",
     "text": [
      "| \u001b[0m83       \u001b[0m | \u001b[0m77.6     \u001b[0m | \u001b[0m0.4265   \u001b[0m | \u001b[0m0.2474   \u001b[0m | \u001b[0m0.3713   \u001b[0m | \u001b[0m75.23    \u001b[0m | \u001b[0m0.9369   \u001b[0m | \u001b[0m0.8443   \u001b[0m |\n"
     ]
    },
    {
     "name": "stderr",
     "output_type": "stream",
     "text": [
      "100%|██████████| 1000/1000 [00:02<00:00, 477.08it/s]\n"
     ]
    },
    {
     "name": "stdout",
     "output_type": "stream",
     "text": [
      "| \u001b[0m84       \u001b[0m | \u001b[0m54.5     \u001b[0m | \u001b[0m0.9202   \u001b[0m | \u001b[0m0.2279   \u001b[0m | \u001b[0m0.08748  \u001b[0m | \u001b[0m25.91    \u001b[0m | \u001b[0m0.3144   \u001b[0m | \u001b[0m0.1748   \u001b[0m |\n"
     ]
    },
    {
     "name": "stderr",
     "output_type": "stream",
     "text": [
      "100%|██████████| 1000/1000 [00:03<00:00, 287.66it/s]\n"
     ]
    },
    {
     "name": "stdout",
     "output_type": "stream",
     "text": [
      "| \u001b[0m85       \u001b[0m | \u001b[0m62.3     \u001b[0m | \u001b[0m0.6071   \u001b[0m | \u001b[0m0.4136   \u001b[0m | \u001b[0m0.8164   \u001b[0m | \u001b[0m22.96    \u001b[0m | \u001b[0m0.7019   \u001b[0m | \u001b[0m0.2404   \u001b[0m |\n"
     ]
    },
    {
     "name": "stderr",
     "output_type": "stream",
     "text": [
      "100%|██████████| 1000/1000 [00:01<00:00, 613.99it/s]\n"
     ]
    },
    {
     "name": "stdout",
     "output_type": "stream",
     "text": [
      "| \u001b[0m86       \u001b[0m | \u001b[0m31.6     \u001b[0m | \u001b[0m0.5742   \u001b[0m | \u001b[0m0.349    \u001b[0m | \u001b[0m0.05696  \u001b[0m | \u001b[0m26.02    \u001b[0m | \u001b[0m0.6641   \u001b[0m | \u001b[0m0.4973   \u001b[0m |\n"
     ]
    },
    {
     "name": "stderr",
     "output_type": "stream",
     "text": [
      "100%|██████████| 1000/1000 [00:03<00:00, 321.83it/s]\n"
     ]
    },
    {
     "name": "stdout",
     "output_type": "stream",
     "text": [
      "| \u001b[0m87       \u001b[0m | \u001b[0m59.6     \u001b[0m | \u001b[0m0.519    \u001b[0m | \u001b[0m0.1747   \u001b[0m | \u001b[0m0.5707   \u001b[0m | \u001b[0m79.77    \u001b[0m | \u001b[0m0.8168   \u001b[0m | \u001b[0m0.5944   \u001b[0m |\n"
     ]
    },
    {
     "name": "stderr",
     "output_type": "stream",
     "text": [
      "100%|██████████| 1000/1000 [00:01<00:00, 545.85it/s]\n"
     ]
    },
    {
     "name": "stdout",
     "output_type": "stream",
     "text": [
      "| \u001b[0m88       \u001b[0m | \u001b[0m60.8     \u001b[0m | \u001b[0m0.976    \u001b[0m | \u001b[0m0.9016   \u001b[0m | \u001b[0m0.5956   \u001b[0m | \u001b[0m12.27    \u001b[0m | \u001b[0m0.09358  \u001b[0m | \u001b[0m0.06537  \u001b[0m |\n"
     ]
    },
    {
     "name": "stderr",
     "output_type": "stream",
     "text": [
      "100%|██████████| 1000/1000 [00:03<00:00, 326.26it/s]\n"
     ]
    },
    {
     "name": "stdout",
     "output_type": "stream",
     "text": [
      "| \u001b[0m89       \u001b[0m | \u001b[0m30.3     \u001b[0m | \u001b[0m0.4517   \u001b[0m | \u001b[0m0.3754   \u001b[0m | \u001b[0m0.9754   \u001b[0m | \u001b[0m21.76    \u001b[0m | \u001b[0m0.9728   \u001b[0m | \u001b[0m0.7675   \u001b[0m |\n"
     ]
    },
    {
     "name": "stderr",
     "output_type": "stream",
     "text": [
      "100%|██████████| 1000/1000 [00:01<00:00, 643.38it/s]\n"
     ]
    },
    {
     "name": "stdout",
     "output_type": "stream",
     "text": [
      "| \u001b[0m90       \u001b[0m | \u001b[0m69.8     \u001b[0m | \u001b[0m0.8242   \u001b[0m | \u001b[0m0.6326   \u001b[0m | \u001b[0m0.6687   \u001b[0m | \u001b[0m43.38    \u001b[0m | \u001b[0m0.01314  \u001b[0m | \u001b[0m0.353    \u001b[0m |\n"
     ]
    },
    {
     "name": "stderr",
     "output_type": "stream",
     "text": [
      "100%|██████████| 1000/1000 [00:02<00:00, 496.90it/s]\n"
     ]
    },
    {
     "name": "stdout",
     "output_type": "stream",
     "text": [
      "| \u001b[0m91       \u001b[0m | \u001b[0m50.4     \u001b[0m | \u001b[0m0.4921   \u001b[0m | \u001b[0m0.7301   \u001b[0m | \u001b[0m0.4686   \u001b[0m | \u001b[0m42.02    \u001b[0m | \u001b[0m0.1377   \u001b[0m | \u001b[0m0.01089  \u001b[0m |\n"
     ]
    },
    {
     "name": "stderr",
     "output_type": "stream",
     "text": [
      "100%|██████████| 1000/1000 [00:03<00:00, 329.61it/s]\n"
     ]
    },
    {
     "name": "stdout",
     "output_type": "stream",
     "text": [
      "| \u001b[0m92       \u001b[0m | \u001b[0m74.3     \u001b[0m | \u001b[0m0.7583   \u001b[0m | \u001b[0m0.32     \u001b[0m | \u001b[0m0.9844   \u001b[0m | \u001b[0m25.42    \u001b[0m | \u001b[0m0.3387   \u001b[0m | \u001b[0m0.5239   \u001b[0m |\n"
     ]
    },
    {
     "name": "stderr",
     "output_type": "stream",
     "text": [
      "100%|██████████| 1000/1000 [00:02<00:00, 447.13it/s]\n"
     ]
    },
    {
     "name": "stdout",
     "output_type": "stream",
     "text": [
      "| \u001b[0m93       \u001b[0m | \u001b[0m79.4     \u001b[0m | \u001b[0m0.7549   \u001b[0m | \u001b[0m0.4639   \u001b[0m | \u001b[0m0.1248   \u001b[0m | \u001b[0m31.88    \u001b[0m | \u001b[0m0.5045   \u001b[0m | \u001b[0m0.6738   \u001b[0m |\n"
     ]
    },
    {
     "name": "stderr",
     "output_type": "stream",
     "text": [
      "100%|██████████| 1000/1000 [00:01<00:00, 722.99it/s]\n"
     ]
    },
    {
     "name": "stdout",
     "output_type": "stream",
     "text": [
      "| \u001b[0m94       \u001b[0m | \u001b[0m14.1     \u001b[0m | \u001b[0m0.7701   \u001b[0m | \u001b[0m0.1303   \u001b[0m | \u001b[0m0.02292  \u001b[0m | \u001b[0m46.34    \u001b[0m | \u001b[0m0.81     \u001b[0m | \u001b[0m0.0126   \u001b[0m |\n"
     ]
    },
    {
     "name": "stderr",
     "output_type": "stream",
     "text": [
      "100%|██████████| 1000/1000 [00:03<00:00, 330.22it/s]\n"
     ]
    },
    {
     "name": "stdout",
     "output_type": "stream",
     "text": [
      "| \u001b[0m95       \u001b[0m | \u001b[0m61.0     \u001b[0m | \u001b[0m0.6725   \u001b[0m | \u001b[0m0.6868   \u001b[0m | \u001b[0m0.4492   \u001b[0m | \u001b[0m74.04    \u001b[0m | \u001b[0m0.6444   \u001b[0m | \u001b[0m0.00524  \u001b[0m |\n"
     ]
    },
    {
     "name": "stderr",
     "output_type": "stream",
     "text": [
      "100%|██████████| 1000/1000 [00:03<00:00, 323.47it/s]\n"
     ]
    },
    {
     "name": "stdout",
     "output_type": "stream",
     "text": [
      "| \u001b[0m96       \u001b[0m | \u001b[0m43.7     \u001b[0m | \u001b[0m0.4844   \u001b[0m | \u001b[0m0.8593   \u001b[0m | \u001b[0m0.8304   \u001b[0m | \u001b[0m55.44    \u001b[0m | \u001b[0m0.6737   \u001b[0m | \u001b[0m0.5785   \u001b[0m |\n"
     ]
    },
    {
     "name": "stderr",
     "output_type": "stream",
     "text": [
      "100%|██████████| 1000/1000 [00:03<00:00, 325.32it/s]\n"
     ]
    },
    {
     "name": "stdout",
     "output_type": "stream",
     "text": [
      "| \u001b[0m97       \u001b[0m | \u001b[0m14.1     \u001b[0m | \u001b[0m0.2741   \u001b[0m | \u001b[0m0.5605   \u001b[0m | \u001b[0m0.6717   \u001b[0m | \u001b[0m34.67    \u001b[0m | \u001b[0m0.8558   \u001b[0m | \u001b[0m0.195    \u001b[0m |\n"
     ]
    },
    {
     "name": "stderr",
     "output_type": "stream",
     "text": [
      "100%|██████████| 1000/1000 [00:03<00:00, 325.84it/s]\n"
     ]
    },
    {
     "name": "stdout",
     "output_type": "stream",
     "text": [
      "| \u001b[0m98       \u001b[0m | \u001b[0m60.5     \u001b[0m | \u001b[0m0.7473   \u001b[0m | \u001b[0m0.2896   \u001b[0m | \u001b[0m0.7738   \u001b[0m | \u001b[0m39.94    \u001b[0m | \u001b[0m0.8077   \u001b[0m | \u001b[0m0.3535   \u001b[0m |\n"
     ]
    },
    {
     "name": "stderr",
     "output_type": "stream",
     "text": [
      "100%|██████████| 1000/1000 [00:02<00:00, 351.20it/s]\n"
     ]
    },
    {
     "name": "stdout",
     "output_type": "stream",
     "text": [
      "| \u001b[0m99       \u001b[0m | \u001b[0m19.7     \u001b[0m | \u001b[0m0.2137   \u001b[0m | \u001b[0m0.7673   \u001b[0m | \u001b[0m0.3086   \u001b[0m | \u001b[0m61.33    \u001b[0m | \u001b[0m0.7445   \u001b[0m | \u001b[0m0.2214   \u001b[0m |\n"
     ]
    },
    {
     "name": "stderr",
     "output_type": "stream",
     "text": [
      "100%|██████████| 1000/1000 [00:01<00:00, 750.65it/s]\n"
     ]
    },
    {
     "name": "stdout",
     "output_type": "stream",
     "text": [
      "| \u001b[0m100      \u001b[0m | \u001b[0m3.5      \u001b[0m | \u001b[0m0.2141   \u001b[0m | \u001b[0m0.1989   \u001b[0m | \u001b[0m0.1425   \u001b[0m | \u001b[0m36.4     \u001b[0m | \u001b[0m0.02663  \u001b[0m | \u001b[0m0.1109   \u001b[0m |\n"
     ]
    },
    {
     "name": "stderr",
     "output_type": "stream",
     "text": [
      "100%|██████████| 1000/1000 [00:03<00:00, 330.79it/s]\n"
     ]
    },
    {
     "name": "stdout",
     "output_type": "stream",
     "text": [
      "| \u001b[0m101      \u001b[0m | \u001b[0m74.9     \u001b[0m | \u001b[0m0.7554   \u001b[0m | \u001b[0m0.3711   \u001b[0m | \u001b[0m0.9425   \u001b[0m | \u001b[0m53.75    \u001b[0m | \u001b[0m0.3418   \u001b[0m | \u001b[0m0.8955   \u001b[0m |\n"
     ]
    },
    {
     "name": "stderr",
     "output_type": "stream",
     "text": [
      "100%|██████████| 1000/1000 [00:02<00:00, 390.71it/s]\n"
     ]
    },
    {
     "name": "stdout",
     "output_type": "stream",
     "text": [
      "| \u001b[0m102      \u001b[0m | \u001b[0m62.4     \u001b[0m | \u001b[0m0.5977   \u001b[0m | \u001b[0m0.3184   \u001b[0m | \u001b[0m0.6631   \u001b[0m | \u001b[0m41.39    \u001b[0m | \u001b[0m0.1722   \u001b[0m | \u001b[0m0.3029   \u001b[0m |\n"
     ]
    },
    {
     "name": "stderr",
     "output_type": "stream",
     "text": [
      "100%|██████████| 1000/1000 [00:03<00:00, 325.38it/s]\n"
     ]
    },
    {
     "name": "stdout",
     "output_type": "stream",
     "text": [
      "| \u001b[0m103      \u001b[0m | \u001b[0m61.1     \u001b[0m | \u001b[0m0.6182   \u001b[0m | \u001b[0m0.3836   \u001b[0m | \u001b[0m0.7879   \u001b[0m | \u001b[0m22.95    \u001b[0m | \u001b[0m0.677    \u001b[0m | \u001b[0m0.2678   \u001b[0m |\n"
     ]
    },
    {
     "name": "stderr",
     "output_type": "stream",
     "text": [
      "100%|██████████| 1000/1000 [00:03<00:00, 324.03it/s]\n"
     ]
    },
    {
     "name": "stdout",
     "output_type": "stream",
     "text": [
      "| \u001b[0m104      \u001b[0m | \u001b[0m42.4     \u001b[0m | \u001b[0m0.4095   \u001b[0m | \u001b[0m0.1223   \u001b[0m | \u001b[0m0.73     \u001b[0m | \u001b[0m70.77    \u001b[0m | \u001b[0m0.6629   \u001b[0m | \u001b[0m0.395    \u001b[0m |\n"
     ]
    },
    {
     "name": "stderr",
     "output_type": "stream",
     "text": [
      "100%|██████████| 1000/1000 [00:02<00:00, 337.24it/s]\n"
     ]
    },
    {
     "name": "stdout",
     "output_type": "stream",
     "text": [
      "| \u001b[0m105      \u001b[0m | \u001b[0m71.0     \u001b[0m | \u001b[0m0.6384   \u001b[0m | \u001b[0m0.8454   \u001b[0m | \u001b[0m0.3428   \u001b[0m | \u001b[0m12.9     \u001b[0m | \u001b[0m0.3618   \u001b[0m | \u001b[0m0.6272   \u001b[0m |\n"
     ]
    },
    {
     "name": "stderr",
     "output_type": "stream",
     "text": [
      "100%|██████████| 1000/1000 [00:02<00:00, 336.17it/s]\n"
     ]
    },
    {
     "name": "stdout",
     "output_type": "stream",
     "text": [
      "| \u001b[0m106      \u001b[0m | \u001b[0m61.4     \u001b[0m | \u001b[0m0.694    \u001b[0m | \u001b[0m0.5736   \u001b[0m | \u001b[0m0.3291   \u001b[0m | \u001b[0m59.69    \u001b[0m | \u001b[0m0.7974   \u001b[0m | \u001b[0m0.03037  \u001b[0m |\n"
     ]
    },
    {
     "name": "stderr",
     "output_type": "stream",
     "text": [
      "100%|██████████| 1000/1000 [00:01<00:00, 538.41it/s]\n"
     ]
    },
    {
     "name": "stdout",
     "output_type": "stream",
     "text": [
      "| \u001b[0m107      \u001b[0m | \u001b[0m88.8     \u001b[0m | \u001b[0m0.9914   \u001b[0m | \u001b[0m0.8103   \u001b[0m | \u001b[0m0.8881   \u001b[0m | \u001b[0m74.66    \u001b[0m | \u001b[0m0.0      \u001b[0m | \u001b[0m0.3573   \u001b[0m |\n"
     ]
    },
    {
     "name": "stderr",
     "output_type": "stream",
     "text": [
      "100%|██████████| 1000/1000 [00:01<00:00, 597.56it/s]\n"
     ]
    },
    {
     "name": "stdout",
     "output_type": "stream",
     "text": [
      "| \u001b[0m108      \u001b[0m | \u001b[0m88.9     \u001b[0m | \u001b[0m0.7701   \u001b[0m | \u001b[0m0.6329   \u001b[0m | \u001b[0m0.7787   \u001b[0m | \u001b[0m74.25    \u001b[0m | \u001b[0m0.0      \u001b[0m | \u001b[0m0.7088   \u001b[0m |\n"
     ]
    },
    {
     "name": "stderr",
     "output_type": "stream",
     "text": [
      "100%|██████████| 1000/1000 [00:02<00:00, 482.99it/s]\n"
     ]
    },
    {
     "name": "stdout",
     "output_type": "stream",
     "text": [
      "| \u001b[0m109      \u001b[0m | \u001b[0m93.4     \u001b[0m | \u001b[0m0.7556   \u001b[0m | \u001b[0m0.5784   \u001b[0m | \u001b[0m0.7584   \u001b[0m | \u001b[0m74.94    \u001b[0m | \u001b[0m0.1047   \u001b[0m | \u001b[0m0.861    \u001b[0m |\n"
     ]
    },
    {
     "name": "stderr",
     "output_type": "stream",
     "text": [
      "100%|██████████| 1000/1000 [00:02<00:00, 346.12it/s]\n"
     ]
    },
    {
     "name": "stdout",
     "output_type": "stream",
     "text": [
      "| \u001b[0m110      \u001b[0m | \u001b[0m72.2     \u001b[0m | \u001b[0m1.0      \u001b[0m | \u001b[0m0.875    \u001b[0m | \u001b[0m0.4502   \u001b[0m | \u001b[0m74.64    \u001b[0m | \u001b[0m0.2714   \u001b[0m | \u001b[0m0.774    \u001b[0m |\n"
     ]
    },
    {
     "name": "stderr",
     "output_type": "stream",
     "text": [
      "100%|██████████| 1000/1000 [00:02<00:00, 335.14it/s]\n"
     ]
    },
    {
     "name": "stdout",
     "output_type": "stream",
     "text": [
      "| \u001b[0m111      \u001b[0m | \u001b[0m75.4     \u001b[0m | \u001b[0m0.9888   \u001b[0m | \u001b[0m0.7459   \u001b[0m | \u001b[0m0.3226   \u001b[0m | \u001b[0m36.2     \u001b[0m | \u001b[0m0.3261   \u001b[0m | \u001b[0m0.5808   \u001b[0m |\n"
     ]
    },
    {
     "name": "stderr",
     "output_type": "stream",
     "text": [
      "100%|██████████| 1000/1000 [00:02<00:00, 389.29it/s]\n"
     ]
    },
    {
     "name": "stdout",
     "output_type": "stream",
     "text": [
      "| \u001b[0m112      \u001b[0m | \u001b[0m86.6     \u001b[0m | \u001b[0m0.9985   \u001b[0m | \u001b[0m0.368    \u001b[0m | \u001b[0m0.9922   \u001b[0m | \u001b[0m75.02    \u001b[0m | \u001b[0m0.1393   \u001b[0m | \u001b[0m0.6793   \u001b[0m |\n"
     ]
    },
    {
     "name": "stderr",
     "output_type": "stream",
     "text": [
      "100%|██████████| 1000/1000 [00:01<00:00, 681.97it/s]\n"
     ]
    },
    {
     "name": "stdout",
     "output_type": "stream",
     "text": [
      "| \u001b[0m113      \u001b[0m | \u001b[0m92.4     \u001b[0m | \u001b[0m0.6705   \u001b[0m | \u001b[0m0.07964  \u001b[0m | \u001b[0m0.6578   \u001b[0m | \u001b[0m74.62    \u001b[0m | \u001b[0m0.0      \u001b[0m | \u001b[0m0.9443   \u001b[0m |\n"
     ]
    },
    {
     "name": "stderr",
     "output_type": "stream",
     "text": [
      "100%|██████████| 1000/1000 [00:02<00:00, 355.35it/s]\n"
     ]
    },
    {
     "name": "stdout",
     "output_type": "stream",
     "text": [
      "| \u001b[0m114      \u001b[0m | \u001b[0m76.9     \u001b[0m | \u001b[0m0.3674   \u001b[0m | \u001b[0m0.136    \u001b[0m | \u001b[0m0.7687   \u001b[0m | \u001b[0m75.18    \u001b[0m | \u001b[0m0.1713   \u001b[0m | \u001b[0m1.0      \u001b[0m |\n"
     ]
    },
    {
     "name": "stderr",
     "output_type": "stream",
     "text": [
      "100%|██████████| 1000/1000 [00:01<00:00, 550.60it/s]\n"
     ]
    },
    {
     "name": "stdout",
     "output_type": "stream",
     "text": [
      "| \u001b[0m115      \u001b[0m | \u001b[0m87.3     \u001b[0m | \u001b[0m0.9029   \u001b[0m | \u001b[0m0.3094   \u001b[0m | \u001b[0m0.7451   \u001b[0m | \u001b[0m73.32    \u001b[0m | \u001b[0m0.03188  \u001b[0m | \u001b[0m0.5075   \u001b[0m |\n"
     ]
    },
    {
     "name": "stderr",
     "output_type": "stream",
     "text": [
      "100%|██████████| 1000/1000 [00:02<00:00, 481.11it/s]\n"
     ]
    },
    {
     "name": "stdout",
     "output_type": "stream",
     "text": [
      "| \u001b[0m116      \u001b[0m | \u001b[0m77.6     \u001b[0m | \u001b[0m0.998    \u001b[0m | \u001b[0m0.05031  \u001b[0m | \u001b[0m0.5187   \u001b[0m | \u001b[0m74.19    \u001b[0m | \u001b[0m0.08833  \u001b[0m | \u001b[0m0.3916   \u001b[0m |\n"
     ]
    },
    {
     "name": "stderr",
     "output_type": "stream",
     "text": [
      "100%|██████████| 1000/1000 [00:02<00:00, 343.36it/s]\n"
     ]
    },
    {
     "name": "stdout",
     "output_type": "stream",
     "text": [
      "| \u001b[0m117      \u001b[0m | \u001b[0m62.7     \u001b[0m | \u001b[0m1.0      \u001b[0m | \u001b[0m0.0      \u001b[0m | \u001b[0m0.0      \u001b[0m | \u001b[0m21.97    \u001b[0m | \u001b[0m0.0      \u001b[0m | \u001b[0m1.0      \u001b[0m |\n"
     ]
    },
    {
     "name": "stderr",
     "output_type": "stream",
     "text": [
      "100%|██████████| 1000/1000 [00:02<00:00, 352.20it/s]\n"
     ]
    },
    {
     "name": "stdout",
     "output_type": "stream",
     "text": [
      "| \u001b[0m118      \u001b[0m | \u001b[0m80.8     \u001b[0m | \u001b[0m0.8547   \u001b[0m | \u001b[0m0.6301   \u001b[0m | \u001b[0m0.6505   \u001b[0m | \u001b[0m72.63    \u001b[0m | \u001b[0m0.2242   \u001b[0m | \u001b[0m0.5904   \u001b[0m |\n"
     ]
    },
    {
     "name": "stderr",
     "output_type": "stream",
     "text": [
      "100%|██████████| 1000/1000 [00:03<00:00, 329.00it/s]\n"
     ]
    },
    {
     "name": "stdout",
     "output_type": "stream",
     "text": [
      "| \u001b[0m119      \u001b[0m | \u001b[0m60.0     \u001b[0m | \u001b[0m1.0      \u001b[0m | \u001b[0m0.0      \u001b[0m | \u001b[0m1.0      \u001b[0m | \u001b[0m53.26    \u001b[0m | \u001b[0m0.0      \u001b[0m | \u001b[0m1.0      \u001b[0m |\n"
     ]
    },
    {
     "name": "stderr",
     "output_type": "stream",
     "text": [
      "100%|██████████| 1000/1000 [00:02<00:00, 496.93it/s]\n"
     ]
    },
    {
     "name": "stdout",
     "output_type": "stream",
     "text": [
      "| \u001b[0m120      \u001b[0m | \u001b[0m92.0     \u001b[0m | \u001b[0m0.7984   \u001b[0m | \u001b[0m0.07558  \u001b[0m | \u001b[0m0.3326   \u001b[0m | \u001b[0m73.12    \u001b[0m | \u001b[0m0.1127   \u001b[0m | \u001b[0m0.9779   \u001b[0m |\n"
     ]
    },
    {
     "name": "stderr",
     "output_type": "stream",
     "text": [
      "100%|██████████| 1000/1000 [00:01<00:00, 545.43it/s]\n"
     ]
    },
    {
     "name": "stdout",
     "output_type": "stream",
     "text": [
      "| \u001b[0m121      \u001b[0m | \u001b[0m77.6     \u001b[0m | \u001b[0m0.2907   \u001b[0m | \u001b[0m0.1405   \u001b[0m | \u001b[0m0.5527   \u001b[0m | \u001b[0m73.12    \u001b[0m | \u001b[0m0.113    \u001b[0m | \u001b[0m0.8652   \u001b[0m |\n"
     ]
    },
    {
     "name": "stderr",
     "output_type": "stream",
     "text": [
      "100%|██████████| 1000/1000 [00:03<00:00, 322.18it/s]\n"
     ]
    },
    {
     "name": "stdout",
     "output_type": "stream",
     "text": [
      "| \u001b[0m122      \u001b[0m | \u001b[0m59.5     \u001b[0m | \u001b[0m1.0      \u001b[0m | \u001b[0m0.0      \u001b[0m | \u001b[0m0.9266   \u001b[0m | \u001b[0m72.9     \u001b[0m | \u001b[0m0.3052   \u001b[0m | \u001b[0m1.0      \u001b[0m |\n"
     ]
    },
    {
     "name": "stderr",
     "output_type": "stream",
     "text": [
      "100%|██████████| 1000/1000 [00:01<00:00, 768.76it/s]\n"
     ]
    },
    {
     "name": "stdout",
     "output_type": "stream",
     "text": [
      "| \u001b[0m123      \u001b[0m | \u001b[0m11.2     \u001b[0m | \u001b[0m0.8716   \u001b[0m | \u001b[0m0.1249   \u001b[0m | \u001b[0m0.1291   \u001b[0m | \u001b[0m72.88    \u001b[0m | \u001b[0m0.0      \u001b[0m | \u001b[0m0.3706   \u001b[0m |\n"
     ]
    },
    {
     "name": "stderr",
     "output_type": "stream",
     "text": [
      "100%|██████████| 1000/1000 [00:01<00:00, 605.04it/s]\n"
     ]
    },
    {
     "name": "stdout",
     "output_type": "stream",
     "text": [
      "| \u001b[0m124      \u001b[0m | \u001b[0m84.7     \u001b[0m | \u001b[0m0.5555   \u001b[0m | \u001b[0m0.05723  \u001b[0m | \u001b[0m0.4771   \u001b[0m | \u001b[0m73.78    \u001b[0m | \u001b[0m0.07402  \u001b[0m | \u001b[0m0.8959   \u001b[0m |\n"
     ]
    },
    {
     "name": "stderr",
     "output_type": "stream",
     "text": [
      "100%|██████████| 1000/1000 [00:02<00:00, 338.98it/s]\n"
     ]
    },
    {
     "name": "stdout",
     "output_type": "stream",
     "text": [
      "| \u001b[0m125      \u001b[0m | \u001b[0m77.7     \u001b[0m | \u001b[0m0.845    \u001b[0m | \u001b[0m0.7569   \u001b[0m | \u001b[0m0.654    \u001b[0m | \u001b[0m73.48    \u001b[0m | \u001b[0m0.2911   \u001b[0m | \u001b[0m0.9892   \u001b[0m |\n"
     ]
    },
    {
     "name": "stderr",
     "output_type": "stream",
     "text": [
      "100%|██████████| 1000/1000 [00:03<00:00, 331.68it/s]\n"
     ]
    },
    {
     "name": "stdout",
     "output_type": "stream",
     "text": [
      "| \u001b[0m126      \u001b[0m | \u001b[0m70.6     \u001b[0m | \u001b[0m0.8202   \u001b[0m | \u001b[0m0.8563   \u001b[0m | \u001b[0m0.4136   \u001b[0m | \u001b[0m67.18    \u001b[0m | \u001b[0m0.9955   \u001b[0m | \u001b[0m0.6972   \u001b[0m |\n"
     ]
    },
    {
     "name": "stderr",
     "output_type": "stream",
     "text": [
      "100%|██████████| 1000/1000 [00:03<00:00, 326.39it/s]\n"
     ]
    },
    {
     "name": "stdout",
     "output_type": "stream",
     "text": [
      "| \u001b[0m127      \u001b[0m | \u001b[0m71.7     \u001b[0m | \u001b[0m0.7863   \u001b[0m | \u001b[0m0.3611   \u001b[0m | \u001b[0m0.6439   \u001b[0m | \u001b[0m74.31    \u001b[0m | \u001b[0m0.4765   \u001b[0m | \u001b[0m0.884    \u001b[0m |\n"
     ]
    },
    {
     "name": "stderr",
     "output_type": "stream",
     "text": [
      "100%|██████████| 1000/1000 [00:02<00:00, 464.75it/s]\n"
     ]
    },
    {
     "name": "stdout",
     "output_type": "stream",
     "text": [
      "| \u001b[0m128      \u001b[0m | \u001b[0m77.8     \u001b[0m | \u001b[0m0.6272   \u001b[0m | \u001b[0m0.5553   \u001b[0m | \u001b[0m0.963    \u001b[0m | \u001b[0m73.76    \u001b[0m | \u001b[0m0.0005465\u001b[0m | \u001b[0m0.3693   \u001b[0m |\n"
     ]
    },
    {
     "name": "stderr",
     "output_type": "stream",
     "text": [
      "100%|██████████| 1000/1000 [00:01<00:00, 699.81it/s]\n"
     ]
    },
    {
     "name": "stdout",
     "output_type": "stream",
     "text": [
      "| \u001b[0m129      \u001b[0m | \u001b[0m67.9     \u001b[0m | \u001b[0m0.9324   \u001b[0m | \u001b[0m0.2655   \u001b[0m | \u001b[0m0.3695   \u001b[0m | \u001b[0m75.09    \u001b[0m | \u001b[0m0.0      \u001b[0m | \u001b[0m0.6401   \u001b[0m |\n"
     ]
    },
    {
     "name": "stderr",
     "output_type": "stream",
     "text": [
      "100%|██████████| 1000/1000 [00:02<00:00, 380.33it/s]\n"
     ]
    },
    {
     "name": "stdout",
     "output_type": "stream",
     "text": [
      "| \u001b[0m130      \u001b[0m | \u001b[0m71.7     \u001b[0m | \u001b[0m0.2075   \u001b[0m | \u001b[0m0.8352   \u001b[0m | \u001b[0m0.2599   \u001b[0m | \u001b[0m29.22    \u001b[0m | \u001b[0m0.9033   \u001b[0m | \u001b[0m0.8897   \u001b[0m |\n"
     ]
    },
    {
     "name": "stderr",
     "output_type": "stream",
     "text": [
      "100%|██████████| 1000/1000 [00:01<00:00, 522.69it/s]\n"
     ]
    },
    {
     "name": "stdout",
     "output_type": "stream",
     "text": [
      "| \u001b[0m131      \u001b[0m | \u001b[0m91.0     \u001b[0m | \u001b[0m0.7232   \u001b[0m | \u001b[0m0.3885   \u001b[0m | \u001b[0m1.0      \u001b[0m | \u001b[0m72.1     \u001b[0m | \u001b[0m0.0      \u001b[0m | \u001b[0m0.6906   \u001b[0m |\n"
     ]
    },
    {
     "name": "stderr",
     "output_type": "stream",
     "text": [
      "100%|██████████| 1000/1000 [00:01<00:00, 579.78it/s]\n"
     ]
    },
    {
     "name": "stdout",
     "output_type": "stream",
     "text": [
      "| \u001b[0m132      \u001b[0m | \u001b[0m79.6     \u001b[0m | \u001b[0m0.3588   \u001b[0m | \u001b[0m0.4542   \u001b[0m | \u001b[0m0.09827  \u001b[0m | \u001b[0m43.83    \u001b[0m | \u001b[0m0.3009   \u001b[0m | \u001b[0m0.9052   \u001b[0m |\n"
     ]
    },
    {
     "name": "stderr",
     "output_type": "stream",
     "text": [
      "100%|██████████| 1000/1000 [00:02<00:00, 444.68it/s]\n"
     ]
    },
    {
     "name": "stdout",
     "output_type": "stream",
     "text": [
      "| \u001b[0m133      \u001b[0m | \u001b[0m89.2     \u001b[0m | \u001b[0m0.6047   \u001b[0m | \u001b[0m0.2278   \u001b[0m | \u001b[0m0.582    \u001b[0m | \u001b[0m72.27    \u001b[0m | \u001b[0m0.0      \u001b[0m | \u001b[0m1.0      \u001b[0m |\n"
     ]
    },
    {
     "name": "stderr",
     "output_type": "stream",
     "text": [
      "100%|██████████| 1000/1000 [00:01<00:00, 610.19it/s]\n"
     ]
    },
    {
     "name": "stdout",
     "output_type": "stream",
     "text": [
      "| \u001b[0m134      \u001b[0m | \u001b[0m75.3     \u001b[0m | \u001b[0m0.1234   \u001b[0m | \u001b[0m0.1637   \u001b[0m | \u001b[0m0.5678   \u001b[0m | \u001b[0m20.24    \u001b[0m | \u001b[0m0.1271   \u001b[0m | \u001b[0m0.9703   \u001b[0m |\n"
     ]
    },
    {
     "name": "stderr",
     "output_type": "stream",
     "text": [
      "100%|██████████| 1000/1000 [00:03<00:00, 330.40it/s]\n"
     ]
    },
    {
     "name": "stdout",
     "output_type": "stream",
     "text": [
      "| \u001b[0m135      \u001b[0m | \u001b[0m60.6     \u001b[0m | \u001b[0m1.0      \u001b[0m | \u001b[0m0.8527   \u001b[0m | \u001b[0m1.0      \u001b[0m | \u001b[0m53.85    \u001b[0m | \u001b[0m0.0      \u001b[0m | \u001b[0m1.0      \u001b[0m |\n"
     ]
    },
    {
     "name": "stderr",
     "output_type": "stream",
     "text": [
      "100%|██████████| 1000/1000 [00:01<00:00, 522.15it/s]\n"
     ]
    },
    {
     "name": "stdout",
     "output_type": "stream",
     "text": [
      "| \u001b[0m136      \u001b[0m | \u001b[0m92.7     \u001b[0m | \u001b[0m0.978    \u001b[0m | \u001b[0m1.0      \u001b[0m | \u001b[0m1.0      \u001b[0m | \u001b[0m75.25    \u001b[0m | \u001b[0m0.0      \u001b[0m | \u001b[0m0.8524   \u001b[0m |\n"
     ]
    },
    {
     "name": "stderr",
     "output_type": "stream",
     "text": [
      "100%|██████████| 1000/1000 [00:02<00:00, 341.61it/s]\n"
     ]
    },
    {
     "name": "stdout",
     "output_type": "stream",
     "text": [
      "| \u001b[0m137      \u001b[0m | \u001b[0m61.7     \u001b[0m | \u001b[0m1.0      \u001b[0m | \u001b[0m1.0      \u001b[0m | \u001b[0m0.0      \u001b[0m | \u001b[0m12.47    \u001b[0m | \u001b[0m0.6853   \u001b[0m | \u001b[0m1.0      \u001b[0m |\n"
     ]
    },
    {
     "name": "stderr",
     "output_type": "stream",
     "text": [
      "100%|██████████| 1000/1000 [00:01<00:00, 614.73it/s]\n"
     ]
    },
    {
     "name": "stdout",
     "output_type": "stream",
     "text": [
      "| \u001b[0m138      \u001b[0m | \u001b[0m93.4     \u001b[0m | \u001b[0m1.0      \u001b[0m | \u001b[0m0.0      \u001b[0m | \u001b[0m0.7394   \u001b[0m | \u001b[0m71.79    \u001b[0m | \u001b[0m0.0      \u001b[0m | \u001b[0m0.8457   \u001b[0m |\n"
     ]
    },
    {
     "name": "stderr",
     "output_type": "stream",
     "text": [
      "100%|██████████| 1000/1000 [00:02<00:00, 389.19it/s]\n"
     ]
    },
    {
     "name": "stdout",
     "output_type": "stream",
     "text": [
      "| \u001b[0m139      \u001b[0m | \u001b[0m85.2     \u001b[0m | \u001b[0m0.9596   \u001b[0m | \u001b[0m0.9673   \u001b[0m | \u001b[0m0.786    \u001b[0m | \u001b[0m74.13    \u001b[0m | \u001b[0m0.1578   \u001b[0m | \u001b[0m0.2202   \u001b[0m |\n"
     ]
    },
    {
     "name": "stderr",
     "output_type": "stream",
     "text": [
      "100%|██████████| 1000/1000 [00:03<00:00, 319.13it/s]\n"
     ]
    },
    {
     "name": "stdout",
     "output_type": "stream",
     "text": [
      "| \u001b[0m140      \u001b[0m | \u001b[0m69.8     \u001b[0m | \u001b[0m0.7079   \u001b[0m | \u001b[0m0.00857  \u001b[0m | \u001b[0m0.9567   \u001b[0m | \u001b[0m72.11    \u001b[0m | \u001b[0m0.472    \u001b[0m | \u001b[0m0.676    \u001b[0m |\n"
     ]
    },
    {
     "name": "stderr",
     "output_type": "stream",
     "text": [
      "100%|██████████| 1000/1000 [00:01<00:00, 785.15it/s]\n"
     ]
    },
    {
     "name": "stdout",
     "output_type": "stream",
     "text": [
      "| \u001b[0m141      \u001b[0m | \u001b[0m9.4      \u001b[0m | \u001b[0m1.0      \u001b[0m | \u001b[0m0.637    \u001b[0m | \u001b[0m0.03689  \u001b[0m | \u001b[0m22.26    \u001b[0m | \u001b[0m0.0      \u001b[0m | \u001b[0m0.3624   \u001b[0m |\n"
     ]
    },
    {
     "name": "stderr",
     "output_type": "stream",
     "text": [
      "100%|██████████| 1000/1000 [00:03<00:00, 323.04it/s]\n"
     ]
    },
    {
     "name": "stdout",
     "output_type": "stream",
     "text": [
      "| \u001b[0m142      \u001b[0m | \u001b[0m66.7     \u001b[0m | \u001b[0m0.714    \u001b[0m | \u001b[0m0.7663   \u001b[0m | \u001b[0m0.9709   \u001b[0m | \u001b[0m75.56    \u001b[0m | \u001b[0m0.6291   \u001b[0m | \u001b[0m0.8432   \u001b[0m |\n"
     ]
    },
    {
     "name": "stderr",
     "output_type": "stream",
     "text": [
      "100%|██████████| 1000/1000 [00:01<00:00, 674.31it/s]\n"
     ]
    },
    {
     "name": "stdout",
     "output_type": "stream",
     "text": [
      "| \u001b[95m143      \u001b[0m | \u001b[95m96.2     \u001b[0m | \u001b[95m1.0      \u001b[0m | \u001b[95m0.5768   \u001b[0m | \u001b[95m0.5586   \u001b[0m | \u001b[95m71.93    \u001b[0m | \u001b[95m0.0      \u001b[0m | \u001b[95m0.8601   \u001b[0m |\n"
     ]
    },
    {
     "name": "stderr",
     "output_type": "stream",
     "text": [
      "100%|██████████| 1000/1000 [00:01<00:00, 509.55it/s]\n"
     ]
    },
    {
     "name": "stdout",
     "output_type": "stream",
     "text": [
      "| \u001b[0m144      \u001b[0m | \u001b[0m89.9     \u001b[0m | \u001b[0m0.9425   \u001b[0m | \u001b[0m0.7744   \u001b[0m | \u001b[0m0.9364   \u001b[0m | \u001b[0m71.9     \u001b[0m | \u001b[0m0.01847  \u001b[0m | \u001b[0m0.15     \u001b[0m |\n"
     ]
    },
    {
     "name": "stderr",
     "output_type": "stream",
     "text": [
      "100%|██████████| 1000/1000 [00:03<00:00, 331.12it/s]\n"
     ]
    },
    {
     "name": "stdout",
     "output_type": "stream",
     "text": [
      "| \u001b[0m145      \u001b[0m | \u001b[0m68.1     \u001b[0m | \u001b[0m0.933    \u001b[0m | \u001b[0m0.7769   \u001b[0m | \u001b[0m0.4002   \u001b[0m | \u001b[0m11.03    \u001b[0m | \u001b[0m0.5039   \u001b[0m | \u001b[0m0.249    \u001b[0m |\n"
     ]
    },
    {
     "name": "stderr",
     "output_type": "stream",
     "text": [
      "100%|██████████| 1000/1000 [00:01<00:00, 626.13it/s]\n"
     ]
    },
    {
     "name": "stdout",
     "output_type": "stream",
     "text": [
      "| \u001b[0m146      \u001b[0m | \u001b[0m69.4     \u001b[0m | \u001b[0m0.8303   \u001b[0m | \u001b[0m0.3128   \u001b[0m | \u001b[0m0.5584   \u001b[0m | \u001b[0m71.73    \u001b[0m | \u001b[0m0.0      \u001b[0m | \u001b[0m0.3804   \u001b[0m |\n"
     ]
    },
    {
     "name": "stderr",
     "output_type": "stream",
     "text": [
      "100%|██████████| 1000/1000 [00:01<00:00, 509.67it/s]\n"
     ]
    },
    {
     "name": "stdout",
     "output_type": "stream",
     "text": [
      "| \u001b[0m147      \u001b[0m | \u001b[0m94.5     \u001b[0m | \u001b[0m1.0      \u001b[0m | \u001b[0m1.0      \u001b[0m | \u001b[0m1.0      \u001b[0m | \u001b[0m72.16    \u001b[0m | \u001b[0m0.0      \u001b[0m | \u001b[0m0.7719   \u001b[0m |\n"
     ]
    },
    {
     "name": "stderr",
     "output_type": "stream",
     "text": [
      "100%|██████████| 1000/1000 [00:02<00:00, 480.19it/s]\n"
     ]
    },
    {
     "name": "stdout",
     "output_type": "stream",
     "text": [
      "| \u001b[0m148      \u001b[0m | \u001b[0m94.1     \u001b[0m | \u001b[0m0.9643   \u001b[0m | \u001b[0m0.3198   \u001b[0m | \u001b[0m0.7038   \u001b[0m | \u001b[0m22.15    \u001b[0m | \u001b[0m0.02493  \u001b[0m | \u001b[0m1.0      \u001b[0m |\n"
     ]
    },
    {
     "name": "stderr",
     "output_type": "stream",
     "text": [
      "100%|██████████| 1000/1000 [00:03<00:00, 326.50it/s]\n"
     ]
    },
    {
     "name": "stdout",
     "output_type": "stream",
     "text": [
      "| \u001b[0m149      \u001b[0m | \u001b[0m58.0     \u001b[0m | \u001b[0m1.0      \u001b[0m | \u001b[0m0.7118   \u001b[0m | \u001b[0m1.0      \u001b[0m | \u001b[0m71.56    \u001b[0m | \u001b[0m0.0      \u001b[0m | \u001b[0m1.0      \u001b[0m |\n"
     ]
    },
    {
     "name": "stderr",
     "output_type": "stream",
     "text": [
      "100%|██████████| 1000/1000 [00:02<00:00, 344.63it/s]\n"
     ]
    },
    {
     "name": "stdout",
     "output_type": "stream",
     "text": [
      "| \u001b[0m150      \u001b[0m | \u001b[0m77.4     \u001b[0m | \u001b[0m0.7      \u001b[0m | \u001b[0m0.1695   \u001b[0m | \u001b[0m0.2889   \u001b[0m | \u001b[0m69.8     \u001b[0m | \u001b[0m0.5465   \u001b[0m | \u001b[0m0.929    \u001b[0m |\n"
     ]
    },
    {
     "name": "stderr",
     "output_type": "stream",
     "text": [
      "100%|██████████| 1000/1000 [00:02<00:00, 479.35it/s]\n"
     ]
    },
    {
     "name": "stdout",
     "output_type": "stream",
     "text": [
      "| \u001b[0m151      \u001b[0m | \u001b[0m71.8     \u001b[0m | \u001b[0m0.4508   \u001b[0m | \u001b[0m0.6407   \u001b[0m | \u001b[0m0.7217   \u001b[0m | \u001b[0m20.87    \u001b[0m | \u001b[0m0.1888   \u001b[0m | \u001b[0m0.681    \u001b[0m |\n"
     ]
    },
    {
     "name": "stderr",
     "output_type": "stream",
     "text": [
      "100%|██████████| 1000/1000 [00:02<00:00, 450.11it/s]\n"
     ]
    },
    {
     "name": "stdout",
     "output_type": "stream",
     "text": [
      "| \u001b[0m152      \u001b[0m | \u001b[0m84.4     \u001b[0m | \u001b[0m1.0      \u001b[0m | \u001b[0m1.0      \u001b[0m | \u001b[0m1.0      \u001b[0m | \u001b[0m72.53    \u001b[0m | \u001b[0m0.0      \u001b[0m | \u001b[0m0.2075   \u001b[0m |\n"
     ]
    },
    {
     "name": "stderr",
     "output_type": "stream",
     "text": [
      "100%|██████████| 1000/1000 [00:02<00:00, 334.49it/s]\n"
     ]
    },
    {
     "name": "stdout",
     "output_type": "stream",
     "text": [
      "| \u001b[0m153      \u001b[0m | \u001b[0m57.6     \u001b[0m | \u001b[0m1.0      \u001b[0m | \u001b[0m1.0      \u001b[0m | \u001b[0m0.4633   \u001b[0m | \u001b[0m72.42    \u001b[0m | \u001b[0m0.0      \u001b[0m | \u001b[0m1.0      \u001b[0m |\n"
     ]
    },
    {
     "name": "stderr",
     "output_type": "stream",
     "text": [
      "100%|██████████| 1000/1000 [00:02<00:00, 499.55it/s]\n"
     ]
    },
    {
     "name": "stdout",
     "output_type": "stream",
     "text": [
      "| \u001b[0m154      \u001b[0m | \u001b[0m30.1     \u001b[0m | \u001b[0m0.02096  \u001b[0m | \u001b[0m0.3819   \u001b[0m | \u001b[0m0.2373   \u001b[0m | \u001b[0m68.05    \u001b[0m | \u001b[0m0.1451   \u001b[0m | \u001b[0m0.7749   \u001b[0m |\n"
     ]
    },
    {
     "name": "stderr",
     "output_type": "stream",
     "text": [
      "100%|██████████| 1000/1000 [00:02<00:00, 342.78it/s]\n"
     ]
    },
    {
     "name": "stdout",
     "output_type": "stream",
     "text": [
      "| \u001b[0m155      \u001b[0m | \u001b[0m58.6     \u001b[0m | \u001b[0m1.0      \u001b[0m | \u001b[0m0.7247   \u001b[0m | \u001b[0m0.0      \u001b[0m | \u001b[0m29.58    \u001b[0m | \u001b[0m1.0      \u001b[0m | \u001b[0m1.0      \u001b[0m |\n"
     ]
    },
    {
     "name": "stderr",
     "output_type": "stream",
     "text": [
      "100%|██████████| 1000/1000 [00:03<00:00, 330.35it/s]\n"
     ]
    },
    {
     "name": "stdout",
     "output_type": "stream",
     "text": [
      "| \u001b[0m156      \u001b[0m | \u001b[0m59.4     \u001b[0m | \u001b[0m1.0      \u001b[0m | \u001b[0m0.0379   \u001b[0m | \u001b[0m0.6921   \u001b[0m | \u001b[0m54.04    \u001b[0m | \u001b[0m0.0      \u001b[0m | \u001b[0m1.0      \u001b[0m |\n"
     ]
    },
    {
     "name": "stderr",
     "output_type": "stream",
     "text": [
      "100%|██████████| 1000/1000 [00:03<00:00, 324.16it/s]\n"
     ]
    },
    {
     "name": "stdout",
     "output_type": "stream",
     "text": [
      "| \u001b[0m157      \u001b[0m | \u001b[0m70.1     \u001b[0m | \u001b[0m0.8464   \u001b[0m | \u001b[0m0.7961   \u001b[0m | \u001b[0m0.6272   \u001b[0m | \u001b[0m71.65    \u001b[0m | \u001b[0m0.5586   \u001b[0m | \u001b[0m0.2655   \u001b[0m |\n"
     ]
    },
    {
     "name": "stderr",
     "output_type": "stream",
     "text": [
      "100%|██████████| 1000/1000 [00:02<00:00, 344.77it/s]\n"
     ]
    },
    {
     "name": "stdout",
     "output_type": "stream",
     "text": [
      "| \u001b[0m158      \u001b[0m | \u001b[0m57.2     \u001b[0m | \u001b[0m0.4168   \u001b[0m | \u001b[0m0.4114   \u001b[0m | \u001b[0m0.31     \u001b[0m | \u001b[0m13.89    \u001b[0m | \u001b[0m0.4004   \u001b[0m | \u001b[0m0.1881   \u001b[0m |\n"
     ]
    },
    {
     "name": "stderr",
     "output_type": "stream",
     "text": [
      "100%|██████████| 1000/1000 [00:02<00:00, 475.78it/s]\n"
     ]
    },
    {
     "name": "stdout",
     "output_type": "stream",
     "text": [
      "| \u001b[0m159      \u001b[0m | \u001b[0m94.1     \u001b[0m | \u001b[0m0.7251   \u001b[0m | \u001b[0m0.5214   \u001b[0m | \u001b[0m0.4482   \u001b[0m | \u001b[0m21.78    \u001b[0m | \u001b[0m0.0      \u001b[0m | \u001b[0m1.0      \u001b[0m |\n"
     ]
    },
    {
     "name": "stderr",
     "output_type": "stream",
     "text": [
      "100%|██████████| 1000/1000 [00:03<00:00, 324.71it/s]\n"
     ]
    },
    {
     "name": "stdout",
     "output_type": "stream",
     "text": [
      "| \u001b[0m160      \u001b[0m | \u001b[0m59.8     \u001b[0m | \u001b[0m1.0      \u001b[0m | \u001b[0m0.4219   \u001b[0m | \u001b[0m0.4203   \u001b[0m | \u001b[0m21.96    \u001b[0m | \u001b[0m0.4095   \u001b[0m | \u001b[0m1.0      \u001b[0m |\n"
     ]
    },
    {
     "name": "stderr",
     "output_type": "stream",
     "text": [
      "100%|██████████| 1000/1000 [00:02<00:00, 455.33it/s]\n"
     ]
    },
    {
     "name": "stdout",
     "output_type": "stream",
     "text": [
      "| \u001b[0m161      \u001b[0m | \u001b[0m74.9     \u001b[0m | \u001b[0m0.1624   \u001b[0m | \u001b[0m0.7266   \u001b[0m | \u001b[0m0.4563   \u001b[0m | \u001b[0m29.63    \u001b[0m | \u001b[0m0.1907   \u001b[0m | \u001b[0m0.8654   \u001b[0m |\n"
     ]
    },
    {
     "name": "stderr",
     "output_type": "stream",
     "text": [
      "100%|██████████| 1000/1000 [00:01<00:00, 517.76it/s]\n"
     ]
    },
    {
     "name": "stdout",
     "output_type": "stream",
     "text": [
      "| \u001b[0m162      \u001b[0m | \u001b[0m10.2     \u001b[0m | \u001b[0m0.2542   \u001b[0m | \u001b[0m0.9444   \u001b[0m | \u001b[0m0.14     \u001b[0m | \u001b[0m25.5     \u001b[0m | \u001b[0m0.1335   \u001b[0m | \u001b[0m0.01401  \u001b[0m |\n"
     ]
    },
    {
     "name": "stderr",
     "output_type": "stream",
     "text": [
      "100%|██████████| 1000/1000 [00:02<00:00, 465.43it/s]\n"
     ]
    },
    {
     "name": "stdout",
     "output_type": "stream",
     "text": [
      "| \u001b[0m163      \u001b[0m | \u001b[0m91.8     \u001b[0m | \u001b[0m0.6198   \u001b[0m | \u001b[0m1.0      \u001b[0m | \u001b[0m0.0      \u001b[0m | \u001b[0m29.26    \u001b[0m | \u001b[0m0.08532  \u001b[0m | \u001b[0m1.0      \u001b[0m |\n"
     ]
    },
    {
     "name": "stderr",
     "output_type": "stream",
     "text": [
      "100%|██████████| 1000/1000 [00:01<00:00, 701.56it/s]\n"
     ]
    },
    {
     "name": "stdout",
     "output_type": "stream",
     "text": [
      "| \u001b[0m164      \u001b[0m | \u001b[0m24.1     \u001b[0m | \u001b[0m0.8287   \u001b[0m | \u001b[0m0.3027   \u001b[0m | \u001b[0m0.02094  \u001b[0m | \u001b[0m51.96    \u001b[0m | \u001b[0m0.2934   \u001b[0m | \u001b[0m0.543    \u001b[0m |\n"
     ]
    },
    {
     "name": "stderr",
     "output_type": "stream",
     "text": [
      "100%|██████████| 1000/1000 [00:03<00:00, 322.54it/s]\n"
     ]
    },
    {
     "name": "stdout",
     "output_type": "stream",
     "text": [
      "| \u001b[0m165      \u001b[0m | \u001b[0m61.4     \u001b[0m | \u001b[0m1.0      \u001b[0m | \u001b[0m0.7483   \u001b[0m | \u001b[0m1.0      \u001b[0m | \u001b[0m72.19    \u001b[0m | \u001b[0m0.3991   \u001b[0m | \u001b[0m0.5026   \u001b[0m |\n"
     ]
    },
    {
     "name": "stderr",
     "output_type": "stream",
     "text": [
      "100%|██████████| 1000/1000 [00:02<00:00, 452.21it/s]\n"
     ]
    },
    {
     "name": "stdout",
     "output_type": "stream",
     "text": [
      "| \u001b[0m166      \u001b[0m | \u001b[0m89.7     \u001b[0m | \u001b[0m0.5684   \u001b[0m | \u001b[0m0.3886   \u001b[0m | \u001b[0m0.0      \u001b[0m | \u001b[0m29.3     \u001b[0m | \u001b[0m0.2225   \u001b[0m | \u001b[0m1.0      \u001b[0m |\n"
     ]
    },
    {
     "name": "stderr",
     "output_type": "stream",
     "text": [
      "100%|██████████| 1000/1000 [00:01<00:00, 605.48it/s]\n"
     ]
    },
    {
     "name": "stdout",
     "output_type": "stream",
     "text": [
      "| \u001b[0m167      \u001b[0m | \u001b[0m78.6     \u001b[0m | \u001b[0m0.4414   \u001b[0m | \u001b[0m1.0      \u001b[0m | \u001b[0m0.8901   \u001b[0m | \u001b[0m72.15    \u001b[0m | \u001b[0m0.0      \u001b[0m | \u001b[0m0.456    \u001b[0m |\n"
     ]
    },
    {
     "name": "stderr",
     "output_type": "stream",
     "text": [
      "100%|██████████| 1000/1000 [00:02<00:00, 345.23it/s]\n"
     ]
    },
    {
     "name": "stdout",
     "output_type": "stream",
     "text": [
      "| \u001b[0m168      \u001b[0m | \u001b[0m61.8     \u001b[0m | \u001b[0m1.0      \u001b[0m | \u001b[0m0.4492   \u001b[0m | \u001b[0m0.0      \u001b[0m | \u001b[0m13.07    \u001b[0m | \u001b[0m0.0      \u001b[0m | \u001b[0m1.0      \u001b[0m |\n"
     ]
    },
    {
     "name": "stderr",
     "output_type": "stream",
     "text": [
      "100%|██████████| 1000/1000 [00:02<00:00, 367.68it/s]\n"
     ]
    },
    {
     "name": "stdout",
     "output_type": "stream",
     "text": [
      "| \u001b[0m169      \u001b[0m | \u001b[0m55.0     \u001b[0m | \u001b[0m0.03522  \u001b[0m | \u001b[0m0.02031  \u001b[0m | \u001b[0m0.2515   \u001b[0m | \u001b[0m51.61    \u001b[0m | \u001b[0m0.7797   \u001b[0m | \u001b[0m0.8113   \u001b[0m |\n"
     ]
    },
    {
     "name": "stderr",
     "output_type": "stream",
     "text": [
      "100%|██████████| 1000/1000 [00:02<00:00, 452.50it/s]\n"
     ]
    },
    {
     "name": "stdout",
     "output_type": "stream",
     "text": [
      "| \u001b[0m170      \u001b[0m | \u001b[0m74.5     \u001b[0m | \u001b[0m0.4922   \u001b[0m | \u001b[0m0.5244   \u001b[0m | \u001b[0m0.5108   \u001b[0m | \u001b[0m21.68    \u001b[0m | \u001b[0m0.2067   \u001b[0m | \u001b[0m0.7995   \u001b[0m |\n"
     ]
    },
    {
     "name": "stderr",
     "output_type": "stream",
     "text": [
      "100%|██████████| 1000/1000 [00:01<00:00, 781.41it/s]\n"
     ]
    },
    {
     "name": "stdout",
     "output_type": "stream",
     "text": [
      "| \u001b[0m171      \u001b[0m | \u001b[0m90.3     \u001b[0m | \u001b[0m0.6557   \u001b[0m | \u001b[0m0.06526  \u001b[0m | \u001b[0m0.4869   \u001b[0m | \u001b[0m22.34    \u001b[0m | \u001b[0m0.04634  \u001b[0m | \u001b[0m0.8645   \u001b[0m |\n"
     ]
    },
    {
     "name": "stderr",
     "output_type": "stream",
     "text": [
      "100%|██████████| 1000/1000 [00:01<00:00, 576.31it/s]\n"
     ]
    },
    {
     "name": "stdout",
     "output_type": "stream",
     "text": [
      "| \u001b[0m172      \u001b[0m | \u001b[0m65.5     \u001b[0m | \u001b[0m0.6055   \u001b[0m | \u001b[0m0.3359   \u001b[0m | \u001b[0m0.7034   \u001b[0m | \u001b[0m41.38    \u001b[0m | \u001b[0m0.04667  \u001b[0m | \u001b[0m0.241    \u001b[0m |\n"
     ]
    },
    {
     "name": "stderr",
     "output_type": "stream",
     "text": [
      "100%|██████████| 1000/1000 [00:03<00:00, 326.48it/s]\n"
     ]
    },
    {
     "name": "stdout",
     "output_type": "stream",
     "text": [
      "| \u001b[0m173      \u001b[0m | \u001b[0m61.2     \u001b[0m | \u001b[0m1.0      \u001b[0m | \u001b[0m0.09651  \u001b[0m | \u001b[0m1.0      \u001b[0m | \u001b[0m74.01    \u001b[0m | \u001b[0m0.0      \u001b[0m | \u001b[0m1.0      \u001b[0m |\n"
     ]
    },
    {
     "name": "stderr",
     "output_type": "stream",
     "text": [
      "100%|██████████| 1000/1000 [00:02<00:00, 344.58it/s]\n"
     ]
    },
    {
     "name": "stdout",
     "output_type": "stream",
     "text": [
      "| \u001b[0m174      \u001b[0m | \u001b[0m61.1     \u001b[0m | \u001b[0m1.0      \u001b[0m | \u001b[0m0.5432   \u001b[0m | \u001b[0m0.0      \u001b[0m | \u001b[0m32.33    \u001b[0m | \u001b[0m0.8142   \u001b[0m | \u001b[0m1.0      \u001b[0m |\n"
     ]
    },
    {
     "name": "stderr",
     "output_type": "stream",
     "text": [
      "100%|██████████| 1000/1000 [00:02<00:00, 451.65it/s]\n"
     ]
    },
    {
     "name": "stdout",
     "output_type": "stream",
     "text": [
      "| \u001b[0m175      \u001b[0m | \u001b[0m88.5     \u001b[0m | \u001b[0m0.357    \u001b[0m | \u001b[0m1.0      \u001b[0m | \u001b[0m0.0      \u001b[0m | \u001b[0m12.62    \u001b[0m | \u001b[0m0.0      \u001b[0m | \u001b[0m1.0      \u001b[0m |\n"
     ]
    },
    {
     "name": "stderr",
     "output_type": "stream",
     "text": [
      "100%|██████████| 1000/1000 [00:02<00:00, 333.74it/s]\n"
     ]
    },
    {
     "name": "stdout",
     "output_type": "stream",
     "text": [
      "| \u001b[0m176      \u001b[0m | \u001b[0m60.0     \u001b[0m | \u001b[0m1.0      \u001b[0m | \u001b[0m0.0      \u001b[0m | \u001b[0m0.2328   \u001b[0m | \u001b[0m71.94    \u001b[0m | \u001b[0m0.0      \u001b[0m | \u001b[0m1.0      \u001b[0m |\n"
     ]
    },
    {
     "name": "stderr",
     "output_type": "stream",
     "text": [
      "100%|██████████| 1000/1000 [00:01<00:00, 530.65it/s]\n"
     ]
    },
    {
     "name": "stdout",
     "output_type": "stream",
     "text": [
      "| \u001b[0m177      \u001b[0m | \u001b[0m83.8     \u001b[0m | \u001b[0m0.8553   \u001b[0m | \u001b[0m0.2728   \u001b[0m | \u001b[0m0.6896   \u001b[0m | \u001b[0m73.46    \u001b[0m | \u001b[0m0.03879  \u001b[0m | \u001b[0m0.4918   \u001b[0m |\n"
     ]
    },
    {
     "name": "stderr",
     "output_type": "stream",
     "text": [
      "100%|██████████| 1000/1000 [00:02<00:00, 371.32it/s]\n"
     ]
    },
    {
     "name": "stdout",
     "output_type": "stream",
     "text": [
      "| \u001b[0m178      \u001b[0m | \u001b[0m80.7     \u001b[0m | \u001b[0m0.655    \u001b[0m | \u001b[0m0.7241   \u001b[0m | \u001b[0m0.3722   \u001b[0m | \u001b[0m52.49    \u001b[0m | \u001b[0m0.2157   \u001b[0m | \u001b[0m0.8545   \u001b[0m |\n"
     ]
    },
    {
     "name": "stderr",
     "output_type": "stream",
     "text": [
      "100%|██████████| 1000/1000 [00:02<00:00, 401.65it/s]\n"
     ]
    },
    {
     "name": "stdout",
     "output_type": "stream",
     "text": [
      "| \u001b[0m179      \u001b[0m | \u001b[0m86.1     \u001b[0m | \u001b[0m0.9655   \u001b[0m | \u001b[0m0.723    \u001b[0m | \u001b[0m0.3815   \u001b[0m | \u001b[0m29.51    \u001b[0m | \u001b[0m0.09412  \u001b[0m | \u001b[0m1.0      \u001b[0m |\n"
     ]
    },
    {
     "name": "stderr",
     "output_type": "stream",
     "text": [
      "100%|██████████| 1000/1000 [00:01<00:00, 568.13it/s]\n"
     ]
    },
    {
     "name": "stdout",
     "output_type": "stream",
     "text": [
      "| \u001b[0m180      \u001b[0m | \u001b[0m37.3     \u001b[0m | \u001b[0m0.5508   \u001b[0m | \u001b[0m0.6875   \u001b[0m | \u001b[0m0.07847  \u001b[0m | \u001b[0m29.26    \u001b[0m | \u001b[0m0.5231   \u001b[0m | \u001b[0m0.3315   \u001b[0m |\n"
     ]
    },
    {
     "name": "stderr",
     "output_type": "stream",
     "text": [
      "100%|██████████| 1000/1000 [00:03<00:00, 327.30it/s]\n"
     ]
    },
    {
     "name": "stdout",
     "output_type": "stream",
     "text": [
      "| \u001b[0m181      \u001b[0m | \u001b[0m60.0     \u001b[0m | \u001b[0m0.6676   \u001b[0m | \u001b[0m0.607    \u001b[0m | \u001b[0m0.5628   \u001b[0m | \u001b[0m67.76    \u001b[0m | \u001b[0m0.9136   \u001b[0m | \u001b[0m0.4513   \u001b[0m |\n"
     ]
    },
    {
     "name": "stderr",
     "output_type": "stream",
     "text": [
      "100%|██████████| 1000/1000 [00:01<00:00, 553.95it/s]\n"
     ]
    },
    {
     "name": "stdout",
     "output_type": "stream",
     "text": [
      "| \u001b[0m182      \u001b[0m | \u001b[0m53.8     \u001b[0m | \u001b[0m0.1721   \u001b[0m | \u001b[0m0.3347   \u001b[0m | \u001b[0m0.169    \u001b[0m | \u001b[0m38.17    \u001b[0m | \u001b[0m0.1313   \u001b[0m | \u001b[0m0.8058   \u001b[0m |\n"
     ]
    },
    {
     "name": "stderr",
     "output_type": "stream",
     "text": [
      "100%|██████████| 1000/1000 [00:03<00:00, 320.87it/s]\n"
     ]
    },
    {
     "name": "stdout",
     "output_type": "stream",
     "text": [
      "| \u001b[0m183      \u001b[0m | \u001b[0m70.0     \u001b[0m | \u001b[0m0.9957   \u001b[0m | \u001b[0m0.8767   \u001b[0m | \u001b[0m0.9551   \u001b[0m | \u001b[0m73.43    \u001b[0m | \u001b[0m0.4389   \u001b[0m | \u001b[0m0.217    \u001b[0m |\n"
     ]
    },
    {
     "name": "stderr",
     "output_type": "stream",
     "text": [
      "100%|██████████| 1000/1000 [00:02<00:00, 365.75it/s]\n"
     ]
    },
    {
     "name": "stdout",
     "output_type": "stream",
     "text": [
      "| \u001b[0m184      \u001b[0m | \u001b[0m75.6     \u001b[0m | \u001b[0m0.6631   \u001b[0m | \u001b[0m0.1183   \u001b[0m | \u001b[0m0.1414   \u001b[0m | \u001b[0m73.47    \u001b[0m | \u001b[0m0.5962   \u001b[0m | \u001b[0m1.0      \u001b[0m |\n"
     ]
    },
    {
     "name": "stderr",
     "output_type": "stream",
     "text": [
      "100%|██████████| 1000/1000 [00:03<00:00, 326.13it/s]\n"
     ]
    },
    {
     "name": "stdout",
     "output_type": "stream",
     "text": [
      "| \u001b[0m185      \u001b[0m | \u001b[0m57.2     \u001b[0m | \u001b[0m0.5239   \u001b[0m | \u001b[0m0.8581   \u001b[0m | \u001b[0m0.4597   \u001b[0m | \u001b[0m78.69    \u001b[0m | \u001b[0m0.3824   \u001b[0m | \u001b[0m0.697    \u001b[0m |\n"
     ]
    },
    {
     "name": "stderr",
     "output_type": "stream",
     "text": [
      "100%|██████████| 1000/1000 [00:01<00:00, 539.40it/s]\n"
     ]
    },
    {
     "name": "stdout",
     "output_type": "stream",
     "text": [
      "| \u001b[0m186      \u001b[0m | \u001b[0m87.6     \u001b[0m | \u001b[0m0.5968   \u001b[0m | \u001b[0m0.655    \u001b[0m | \u001b[0m1.0      \u001b[0m | \u001b[0m72.86    \u001b[0m | \u001b[0m0.0      \u001b[0m | \u001b[0m0.8195   \u001b[0m |\n"
     ]
    },
    {
     "name": "stderr",
     "output_type": "stream",
     "text": [
      "100%|██████████| 1000/1000 [00:02<00:00, 462.52it/s]\n"
     ]
    },
    {
     "name": "stdout",
     "output_type": "stream",
     "text": [
      "| \u001b[0m187      \u001b[0m | \u001b[0m90.6     \u001b[0m | \u001b[0m0.6116   \u001b[0m | \u001b[0m0.7746   \u001b[0m | \u001b[0m0.0      \u001b[0m | \u001b[0m29.83    \u001b[0m | \u001b[0m0.01028  \u001b[0m | \u001b[0m1.0      \u001b[0m |\n"
     ]
    },
    {
     "name": "stderr",
     "output_type": "stream",
     "text": [
      "100%|██████████| 1000/1000 [00:02<00:00, 384.57it/s]\n"
     ]
    },
    {
     "name": "stdout",
     "output_type": "stream",
     "text": [
      "| \u001b[0m188      \u001b[0m | \u001b[0m57.5     \u001b[0m | \u001b[0m0.6111   \u001b[0m | \u001b[0m0.1913   \u001b[0m | \u001b[0m0.1872   \u001b[0m | \u001b[0m25.98    \u001b[0m | \u001b[0m0.9037   \u001b[0m | \u001b[0m0.3848   \u001b[0m |\n"
     ]
    },
    {
     "name": "stderr",
     "output_type": "stream",
     "text": [
      "100%|██████████| 1000/1000 [00:01<00:00, 574.43it/s]\n"
     ]
    },
    {
     "name": "stdout",
     "output_type": "stream",
     "text": [
      "| \u001b[0m189      \u001b[0m | \u001b[0m31.8     \u001b[0m | \u001b[0m0.4161   \u001b[0m | \u001b[0m0.1571   \u001b[0m | \u001b[0m0.09915  \u001b[0m | \u001b[0m21.22    \u001b[0m | \u001b[0m0.2727   \u001b[0m | \u001b[0m0.6099   \u001b[0m |\n"
     ]
    },
    {
     "name": "stderr",
     "output_type": "stream",
     "text": [
      "100%|██████████| 1000/1000 [00:03<00:00, 326.36it/s]\n"
     ]
    },
    {
     "name": "stdout",
     "output_type": "stream",
     "text": [
      "| \u001b[0m190      \u001b[0m | \u001b[0m64.9     \u001b[0m | \u001b[0m0.6527   \u001b[0m | \u001b[0m0.388    \u001b[0m | \u001b[0m0.7885   \u001b[0m | \u001b[0m41.16    \u001b[0m | \u001b[0m0.7837   \u001b[0m | \u001b[0m0.8784   \u001b[0m |\n"
     ]
    },
    {
     "name": "stderr",
     "output_type": "stream",
     "text": [
      "100%|██████████| 1000/1000 [00:01<00:00, 688.19it/s]\n"
     ]
    },
    {
     "name": "stdout",
     "output_type": "stream",
     "text": [
      "| \u001b[0m191      \u001b[0m | \u001b[0m80.4     \u001b[0m | \u001b[0m0.1593   \u001b[0m | \u001b[0m0.7745   \u001b[0m | \u001b[0m0.9202   \u001b[0m | \u001b[0m52.08    \u001b[0m | \u001b[0m0.04579  \u001b[0m | \u001b[0m0.9723   \u001b[0m |\n"
     ]
    },
    {
     "name": "stderr",
     "output_type": "stream",
     "text": [
      "100%|██████████| 1000/1000 [00:02<00:00, 360.08it/s]\n"
     ]
    },
    {
     "name": "stdout",
     "output_type": "stream",
     "text": [
      "| \u001b[0m192      \u001b[0m | \u001b[0m60.7     \u001b[0m | \u001b[0m0.5368   \u001b[0m | \u001b[0m0.6431   \u001b[0m | \u001b[0m0.593    \u001b[0m | \u001b[0m34.73    \u001b[0m | \u001b[0m0.2167   \u001b[0m | \u001b[0m0.1747   \u001b[0m |\n"
     ]
    },
    {
     "name": "stderr",
     "output_type": "stream",
     "text": [
      "100%|██████████| 1000/1000 [00:02<00:00, 435.82it/s]\n"
     ]
    },
    {
     "name": "stdout",
     "output_type": "stream",
     "text": [
      "| \u001b[0m193      \u001b[0m | \u001b[0m88.3     \u001b[0m | \u001b[0m0.3844   \u001b[0m | \u001b[0m0.0      \u001b[0m | \u001b[0m0.0261   \u001b[0m | \u001b[0m74.42    \u001b[0m | \u001b[0m0.0      \u001b[0m | \u001b[0m1.0      \u001b[0m |\n"
     ]
    },
    {
     "name": "stderr",
     "output_type": "stream",
     "text": [
      "100%|██████████| 1000/1000 [00:02<00:00, 447.72it/s]\n"
     ]
    },
    {
     "name": "stdout",
     "output_type": "stream",
     "text": [
      "| \u001b[0m194      \u001b[0m | \u001b[0m90.4     \u001b[0m | \u001b[0m0.5385   \u001b[0m | \u001b[0m0.773    \u001b[0m | \u001b[0m0.9939   \u001b[0m | \u001b[0m52.87    \u001b[0m | \u001b[0m0.0      \u001b[0m | \u001b[0m1.0      \u001b[0m |\n"
     ]
    },
    {
     "name": "stderr",
     "output_type": "stream",
     "text": [
      "100%|██████████| 1000/1000 [00:03<00:00, 325.75it/s]\n"
     ]
    },
    {
     "name": "stdout",
     "output_type": "stream",
     "text": [
      "| \u001b[0m195      \u001b[0m | \u001b[0m70.8     \u001b[0m | \u001b[0m0.7101   \u001b[0m | \u001b[0m1.0      \u001b[0m | \u001b[0m0.9461   \u001b[0m | \u001b[0m52.38    \u001b[0m | \u001b[0m0.4672   \u001b[0m | \u001b[0m1.0      \u001b[0m |\n"
     ]
    },
    {
     "name": "stderr",
     "output_type": "stream",
     "text": [
      "100%|██████████| 1000/1000 [00:02<00:00, 445.54it/s]\n"
     ]
    },
    {
     "name": "stdout",
     "output_type": "stream",
     "text": [
      "| \u001b[0m196      \u001b[0m | \u001b[0m90.9     \u001b[0m | \u001b[0m0.5981   \u001b[0m | \u001b[0m0.5358   \u001b[0m | \u001b[0m0.4095   \u001b[0m | \u001b[0m22.26    \u001b[0m | \u001b[0m0.0      \u001b[0m | \u001b[0m1.0      \u001b[0m |\n"
     ]
    },
    {
     "name": "stderr",
     "output_type": "stream",
     "text": [
      "100%|██████████| 1000/1000 [00:03<00:00, 323.10it/s]\n"
     ]
    },
    {
     "name": "stdout",
     "output_type": "stream",
     "text": [
      "| \u001b[0m197      \u001b[0m | \u001b[0m21.2     \u001b[0m | \u001b[0m0.1508   \u001b[0m | \u001b[0m0.3104   \u001b[0m | \u001b[0m0.772    \u001b[0m | \u001b[0m27.9     \u001b[0m | \u001b[0m0.7412   \u001b[0m | \u001b[0m0.6971   \u001b[0m |\n"
     ]
    },
    {
     "name": "stderr",
     "output_type": "stream",
     "text": [
      "100%|██████████| 1000/1000 [00:01<00:00, 744.29it/s]\n"
     ]
    },
    {
     "name": "stdout",
     "output_type": "stream",
     "text": [
      "| \u001b[0m198      \u001b[0m | \u001b[0m0.6      \u001b[0m | \u001b[0m0.06358  \u001b[0m | \u001b[0m0.6987   \u001b[0m | \u001b[0m0.02196  \u001b[0m | \u001b[0m35.63    \u001b[0m | \u001b[0m0.4181   \u001b[0m | \u001b[0m0.2709   \u001b[0m |\n"
     ]
    },
    {
     "name": "stderr",
     "output_type": "stream",
     "text": [
      "100%|██████████| 1000/1000 [00:02<00:00, 477.51it/s]\n"
     ]
    },
    {
     "name": "stdout",
     "output_type": "stream",
     "text": [
      "| \u001b[0m199      \u001b[0m | \u001b[0m94.9     \u001b[0m | \u001b[0m0.6869   \u001b[0m | \u001b[0m0.5341   \u001b[0m | \u001b[0m0.0      \u001b[0m | \u001b[0m73.94    \u001b[0m | \u001b[0m0.0      \u001b[0m | \u001b[0m1.0      \u001b[0m |\n"
     ]
    },
    {
     "name": "stderr",
     "output_type": "stream",
     "text": [
      "100%|██████████| 1000/1000 [00:02<00:00, 400.55it/s]"
     ]
    },
    {
     "name": "stdout",
     "output_type": "stream",
     "text": [
      "| \u001b[0m200      \u001b[0m | \u001b[0m76.8     \u001b[0m | \u001b[0m0.02479  \u001b[0m | \u001b[0m0.5162   \u001b[0m | \u001b[0m0.8591   \u001b[0m | \u001b[0m52.73    \u001b[0m | \u001b[0m0.2176   \u001b[0m | \u001b[0m0.8896   \u001b[0m |\n",
      "=================================================================================================\n",
      "{'target': 96.2, 'params': {'alpha': 1.0, 'alpha_min': 0.5767726140348918, 'epsilon': 0.558590043088316, 'epsilon_decay': 71.92823397124539, 'epsilon_min': 0.0, 'gamma': 0.8600874667956324}}\n"
     ]
    },
    {
     "name": "stderr",
     "output_type": "stream",
     "text": [
      "\n"
     ]
    }
   ],
   "source": [
    "max_steps = 120\n",
    "num_episodes = 1000\n",
    "\n",
    "def objective(\n",
    "        alpha,\n",
    "        # alpha_decay,\n",
    "        alpha_min,\n",
    "        epsilon,\n",
    "        epsilon_decay,\n",
    "        epsilon_min,\n",
    "        gamma,\n",
    "        # surrogate_c_interval,\n",
    "        ):\n",
    "    # # 'surrogate_c_interval': [1, 2, 5, 10, 20, 40]\n",
    "    # # 'surrogate_lr'    \n",
    "    # convergence_number_of_consequent_actions\n",
    "    # intial_q_values: [0, -7]\n",
    "\n",
    "    # surrogate_c_interval = int(surrogate_c_interval)\n",
    "\n",
    "    new_params = {\n",
    "        'alpha': alpha, \n",
    "        # 'alpha_decay': alpha_decay,\n",
    "        'alpha_min': alpha_min,\n",
    "        'epsilon': epsilon, \n",
    "        'epsilon_decay': epsilon_decay,\n",
    "        'epsilon_min': epsilon_min,\n",
    "        'gamma': gamma,\n",
    "        # 'plots': False,   \n",
    "        # 'surrogate_c_interval': surrogate_c_interval,\n",
    "        #\n",
    "        'noise': True,\n",
    "        'surrogate': False,\n",
    "        # 'diag': 0.9     \n",
    "    }\n",
    "\n",
    "    params = default_params() | new_params\n",
    "\n",
    "    q_values_all_experiments, rewards_all_experiments, episode_lengths, selected_actions, accuracy, _ = qLearningExperiment(params=params)\n",
    "    \n",
    "\n",
    "\n",
    "    # params['surrogate'] = False\n",
    "    # q_values_all_experiments, rewards_all_experiments, episode_lengths, selected_actions, accuracy_no_surrogate, _ = qLearningExperiment(params=params)\n",
    "\n",
    "\n",
    "    # accuracy = accuracy_surrogate - accuracy_no_surrogate\n",
    "    \n",
    "    # mean_episode_length = np.mean(episode_lengths)\n",
    "    # return -mean_episode_length\n",
    "    return accuracy\n",
    "\n",
    "optimizer = BayesianOptimization(\n",
    "    f=objective,\n",
    "    pbounds={\n",
    "        'alpha': (0, 1), \n",
    "        # 'alpha_decay': (1, 1000),\n",
    "        'alpha_min': (0, 1),\n",
    "        'epsilon': (0, 1), \n",
    "        'epsilon_decay': (10, 80),\n",
    "        'epsilon_min': (0, 1),\n",
    "        'gamma': (0, 1),\n",
    "        # 'surrogate_c_interval': (1, 120)\n",
    "        },\n",
    "    random_state=1,\n",
    ")\n",
    "\n",
    "# n_iter: How many steps of bayesian optimization you want to perform. \n",
    "# The more steps the more likely to find a good maximum you are.\n",
    "# init_points: How many steps of random exploration you want to perform.\n",
    "# Random exploration can help by diversifying the exploration space.\n",
    "optimizer.maximize(\n",
    "    init_points=100,\n",
    "    n_iter=100,\n",
    ")\n",
    "\n",
    "best_params = optimizer.max['params']\n",
    "\n",
    "print(optimizer.max)"
   ]
  },
  {
   "cell_type": "code",
   "execution_count": 53,
   "metadata": {},
   "outputs": [
    {
     "name": "stderr",
     "output_type": "stream",
     "text": [
      "100%|██████████| 1000/1000 [00:01<00:00, 585.25it/s]\n"
     ]
    },
    {
     "name": "stdout",
     "output_type": "stream",
     "text": [
      "Accuracy: 96.6\n",
      "Mean episode length: 56.629\n",
      "Last reward processor:\n",
      "Estimated confusion matrix:\n"
     ]
    },
    {
     "data": {
      "image/png": "[encoded data removed]",
      "text/plain": [
       "<Figure size 432x288 with 2 Axes>"
      ]
     },
     "metadata": {
      "needs_background": "light"
     },
     "output_type": "display_data"
    },
    {
     "name": "stdout",
     "output_type": "stream",
     "text": [
      "Reward sets:\n",
      "{(0, 0): [-1, -1], (0, 1): [-1, 0, 0, 0, 0, 0, 0, 0, 0, 0, 0, 0, 0, 0, -1, 0, 0, -1, 0, 0, 0, 0, 0, 0, 0, 0, -1, -1, 0, -1, -1, 0, 0, 0, -1, -1, 0, 0, 0, 0], (0, 2): [-1], (0, 3): [-3, -3], (0, 5): [-3], (0, 4): [-3, -3], (0, 6): [-4]}\n",
      "Reward set counts:\n",
      "Key (0, 0): 2 items\n",
      "Key (0, 1): 40 items\n",
      "Key (0, 2): 1 items\n",
      "Key (0, 3): 2 items\n",
      "Key (0, 5): 1 items\n",
      "Key (0, 4): 2 items\n",
      "Key (0, 6): 1 items\n"
     ]
    },
    {
     "data": {
      "image/png": "[encoded data removed]",
      "text/plain": [
       "<Figure size 576x432 with 4 Axes>"
      ]
     },
     "metadata": {
      "needs_background": "light"
     },
     "output_type": "display_data"
    },
    {
     "name": "stderr",
     "output_type": "stream",
     "text": [
      "100%|██████████| 1000/1000 [00:01<00:00, 622.61it/s]\n"
     ]
    },
    {
     "name": "stdout",
     "output_type": "stream",
     "text": [
      "Accuracy: 96.1\n",
      "Mean episode length: 56.648\n",
      "Last reward processor:\n",
      "Estimated confusion matrix:\n"
     ]
    },
    {
     "data": {
      "image/png": "[encoded data removed]",
      "text/plain": [
       "<Figure size 432x288 with 2 Axes>"
      ]
     },
     "metadata": {
      "needs_background": "light"
     },
     "output_type": "display_data"
    },
    {
     "name": "stdout",
     "output_type": "stream",
     "text": [
      "Reward sets:\n",
      "{(0, 2): [-1], (0, 0): [-1], (0, 1): [0, -1, -1, 0, 0, 0, 0, -2, -1, -1, -1, -1, 0, 0, -2, -1, 0, 0, 0, 0, 0, 0, 0, 0, 0, -1, 0, -1, -2, 0, 0, 0, -1, 0, 0, -2, 0, 0, -2, 0, -2, -2, -1, -1], (0, 3): [-2], (0, 6): [-5, -4]}\n",
      "Reward set counts:\n",
      "Key (0, 2): 1 items\n",
      "Key (0, 0): 1 items\n",
      "Key (0, 1): 44 items\n",
      "Key (0, 3): 1 items\n",
      "Key (0, 6): 2 items\n"
     ]
    },
    {
     "data": {
      "image/png": "[encoded data removed]",
      "text/plain": [
       "<Figure size 576x432 with 4 Axes>"
      ]
     },
     "metadata": {
      "needs_background": "light"
     },
     "output_type": "display_data"
    }
   ],
   "source": [
    "res = {'target': 95.89999999999999, 'params': {'alpha': 0.8236118040381998, 'alpha_decay': 243.0544785033269, 'alpha_min': 0.5113965695937486, 'epsilon': 0.25289603267158034, 'epsilon_decay': 70.53090930872196, 'epsilon_min': 0.044310479986752194, 'gamma': 0.8871072251030447, 'surrogate_c_interval': 67.76179038423699}}\n",
    "params=res['params']\n",
    "\n",
    "params['noise'] = True\n",
    "params['surrogate'] = False\n",
    "plot_mean_q_values(params=params)\n",
    "\n",
    "params['surrogate'] = True\n",
    "plot_mean_q_values(params=params)"
   ]
  },
  {
   "cell_type": "markdown",
   "metadata": {},
   "source": [
    "# TODO"
   ]
  },
  {
   "cell_type": "code",
   "execution_count": 22,
   "metadata": {},
   "outputs": [
    {
     "ename": "ModuleNotFoundError",
     "evalue": "No module named 'pymoo'",
     "output_type": "error",
     "traceback": [
      "\u001b[0;31m---------------------------------------------------------------------------\u001b[0m",
      "\u001b[0;31mModuleNotFoundError\u001b[0m                       Traceback (most recent call last)",
      "\u001b[1;32m/Users/schnuckiputz/other/git/2022-CHI-neuroadaptive-haptics/neuro_haptics/aleks/run_experiment_notebook_stateless.ipynb Cell 34\u001b[0m line \u001b[0;36m<module>\u001b[0;34m\u001b[0m\n\u001b[1;32m      <a href='vscode-notebook-cell:/Users/schnuckiputz/other/git/2022-CHI-neuroadaptive-haptics/neuro_haptics/aleks/run_experiment_notebook_stateless.ipynb#X45sZmlsZQ%3D%3D?line=0'>1</a>\u001b[0m \u001b[39mimport\u001b[39;00m \u001b[39mnumpy\u001b[39;00m \u001b[39mas\u001b[39;00m \u001b[39mnp\u001b[39;00m\n\u001b[1;32m      <a href='vscode-notebook-cell:/Users/schnuckiputz/other/git/2022-CHI-neuroadaptive-haptics/neuro_haptics/aleks/run_experiment_notebook_stateless.ipynb#X45sZmlsZQ%3D%3D?line=1'>2</a>\u001b[0m \u001b[39mfrom\u001b[39;00m \u001b[39mbayes_opt\u001b[39;00m \u001b[39mimport\u001b[39;00m BayesianOptimization\n\u001b[0;32m----> <a href='vscode-notebook-cell:/Users/schnuckiputz/other/git/2022-CHI-neuroadaptive-haptics/neuro_haptics/aleks/run_experiment_notebook_stateless.ipynb#X45sZmlsZQ%3D%3D?line=2'>3</a>\u001b[0m \u001b[39mfrom\u001b[39;00m \u001b[39mpymoo\u001b[39;00m\u001b[39m.\u001b[39;00m\u001b[39moptimize\u001b[39;00m \u001b[39mimport\u001b[39;00m minimize\n\u001b[1;32m      <a href='vscode-notebook-cell:/Users/schnuckiputz/other/git/2022-CHI-neuroadaptive-haptics/neuro_haptics/aleks/run_experiment_notebook_stateless.ipynb#X45sZmlsZQ%3D%3D?line=3'>4</a>\u001b[0m \u001b[39mfrom\u001b[39;00m \u001b[39mpymoo\u001b[39;00m\u001b[39m.\u001b[39;00m\u001b[39mutil\u001b[39;00m \u001b[39mimport\u001b[39;00m plotting\n\u001b[1;32m      <a href='vscode-notebook-cell:/Users/schnuckiputz/other/git/2022-CHI-neuroadaptive-haptics/neuro_haptics/aleks/run_experiment_notebook_stateless.ipynb#X45sZmlsZQ%3D%3D?line=4'>5</a>\u001b[0m \u001b[39mfrom\u001b[39;00m \u001b[39mpymoo\u001b[39;00m\u001b[39m.\u001b[39;00m\u001b[39mmodel\u001b[39;00m\u001b[39m.\u001b[39;00m\u001b[39mproblem\u001b[39;00m \u001b[39mimport\u001b[39;00m Problem\n",
      "\u001b[0;31mModuleNotFoundError\u001b[0m: No module named 'pymoo'"
     ]
    }
   ],
   "source": [
    "import numpy as np\n",
    "from bayes_opt import BayesianOptimization\n",
    "from pymoo.optimize import minimize\n",
    "from pymoo.util import plotting\n",
    "from pymoo.model.problem import Problem\n",
    "\n",
    "max_steps = 120\n",
    "num_episodes = 100\n",
    "\n",
    "class QLearningProblem(Problem):\n",
    "    def __init__(self):\n",
    "        super().__init__(n_var=3, n_obj=2, n_constr=0, xl=np.array([0, 0, 10]), xu=np.array([1, 1, 80]))\n",
    "    \n",
    "    def _evaluate(self, X, out, *args, **kwargs):\n",
    "        alpha, epsilon, epsilon_decay = X\n",
    "\n",
    "        # Run your Q-learning experiment with given parameters\n",
    "        params = {'alpha': alpha, 'epsilon': epsilon, 'epsilon_decay': epsilon_decay}\n",
    "        q_values_all_experiments, _, episode_lengths, _, accuracy = qLearningExperiment(adjust_rewards_surrogate, params=params)\n",
    "\n",
    "        # Maximize accuracy\n",
    "        out[\"F\"] = [-accuracy, -np.mean(episode_lengths)]\n",
    "\n",
    "problem = QLearningProblem()\n",
    "\n",
    "algorithm = minimize(\n",
    "    algorithm=\"nsga2\",\n",
    "    problem=problem,\n",
    "    termination=(\"n_gen\", 20),  # Adjust the number of generations as needed\n",
    "    save_history=True,\n",
    "    verbose=True,\n",
    ")\n",
    "\n",
    "# Get the best solution from the Pareto front\n",
    "best_solution = algorithm.result[0]\n",
    "\n",
    "best_alpha, best_epsilon, best_epsilon_decay = best_solution.X\n",
    "\n",
    "print(f\"Best alpha: {best_alpha}\")\n",
    "print(f\"Best epsilon: {best_epsilon}\")\n",
    "print(f\"Best epsilon_decay: {best_epsilon_decay}\")\n",
    "print(f\"Best accuracy: {-best_solution.F[0]}\")\n",
    "print(f\"Best mean_episode_length: {-best_solution.F[1]}\")\n",
    "\n",
    "# You can visualize the Pareto front using pymoo's plotting functions\n",
    "plotting.plot(obj_space=algorithm.result.F, ideal_point=np.array([0, 0]), title=\"Pareto Front\")\n"
   ]
  },
  {
   "cell_type": "markdown",
   "metadata": {},
   "source": [
    "# Profiling"
   ]
  },
  {
   "cell_type": "code",
   "execution_count": null,
   "metadata": {},
   "outputs": [],
   "source": [
    "# !pip install line_profiler\n",
    "%load_ext line_profiler"
   ]
  },
  {
   "cell_type": "code",
   "execution_count": null,
   "metadata": {},
   "outputs": [
    {
     "name": "stderr",
     "output_type": "stream",
     "text": [
      "100%|██████████| 2/2 [00:00<00:00, 13.47it/s]\n"
     ]
    },
    {
     "name": "stdout",
     "output_type": "stream",
     "text": [
      "Timer unit: 1e-09 s\n",
      "\n",
      "Total time: 0.151271 s\n",
      "File: /var/folders/hj/_04fr6wx5tncwlntq6ym_zr00000gn/T/ipykernel_5724/1818113075.py\n",
      "Function: qLearningExperiment at line 1\n",
      "\n",
      "Line #      Hits         Time  Per Hit   % Time  Line Contents\n",
      "==============================================================\n",
      "     1                                           def qLearningExperiment(difference_fn=None, learner=None, params=default_params()):\n",
      "     2         1       2000.0   2000.0      0.0      plots = params.get('plots', True)\n",
      "     3                                           \n",
      "     4         1          0.0      0.0      0.0      q_values_all_experiments = []\n",
      "     5         1          0.0      0.0      0.0      rewards_all_experiments = []\n",
      "     6         1          0.0      0.0      0.0      episode_lengths = []\n",
      "     7         1          0.0      0.0      0.0      selected_actions = []\n",
      "     8                                           \n",
      "     9         3    3286000.0    1e+06      2.2      for i in tqdm(range(num_episodes)):\n",
      "    10                                                   # TODO: .reset() instead of re-creating?\n",
      "    11         2      76000.0  38000.0      0.1          agent = UCBQAgent(params=params) if learner is None else learner\n",
      "    12         2      10000.0   5000.0      0.0          env = ModifiedRandomEnvironment(correct_action=correct_action)\n",
      "    13         2  147891000.0    7e+07     97.8          q_values_for_chart, rewards, episode_length, selected_action = runner(difference_fn, env=env, agent=agent, params=params)\n",
      "    14         2       1000.0    500.0      0.0          selected_actions.append(selected_action)\n",
      "    15         2       1000.0    500.0      0.0          episode_lengths.append(episode_length)\n",
      "    16                                                           \n",
      "    17         2          0.0      0.0      0.0          rewards_all_experiments.append(rewards)\n",
      "    18         2          0.0      0.0      0.0          q_values_all_experiments.append(q_values_for_chart)\n",
      "    19                                           \n",
      "    20         1       2000.0   2000.0      0.0      correct_count = selected_actions.count(correct_action)\n",
      "    21         1       1000.0   1000.0      0.0      accuracy = (correct_count / len(selected_actions)) * 100\n",
      "    22                                               \n",
      "    23         1       1000.0   1000.0      0.0      return q_values_all_experiments, rewards_all_experiments, episode_lengths, selected_actions, accuracy"
     ]
    }
   ],
   "source": [
    "#402088000.0\n",
    "max_steps = 120\n",
    "num_episodes = 2\n",
    "%lprun -f qLearningExperiment qLearningExperiment(adjust_rewards_surrogate,params={'plots': False})"
   ]
  },
  {
   "cell_type": "code",
   "execution_count": null,
   "metadata": {},
   "outputs": [
    {
     "name": "stdout",
     "output_type": "stream",
     "text": [
      "Timer unit: 1e-09 s\n",
      "\n",
      "Total time: 0.117403 s\n",
      "File: /var/folders/hj/_04fr6wx5tncwlntq6ym_zr00000gn/T/ipykernel_5724/2161407780.py\n",
      "Function: runner at line 1\n",
      "\n",
      "Line #      Hits         Time  Per Hit   % Time  Line Contents\n",
      "==============================================================\n",
      "     1                                           def runner(adjust_rewards=None, \n",
      "     2                                                      agent=None,\n",
      "     3                                                      env=None,\n",
      "     4                                                      params=default_params()):\n",
      "     5                                           \n",
      "     6         1      38000.0  38000.0      0.0      agent = agent if agent else UCBQAgent(num_actions=num_states)\n",
      "     7         1       3000.0   3000.0      0.0      env = env if env else ModifiedRandomEnvironment()\n",
      "     8                                           \n",
      "     9         1          0.0      0.0      0.0      episode_rewards = 0\n",
      "    10         1          0.0      0.0      0.0      rewards = []\n",
      "    11         1          0.0      0.0      0.0      q_values_for_chart = []\n",
      "    12                                               \n",
      "    13         1          0.0      0.0      0.0      t = 0\n",
      "    14         1          0.0      0.0      0.0      action = start_action\n",
      "    15         1          0.0      0.0      0.0      state = 0\n",
      "    16         1       1000.0   1000.0      0.0      plots = params.get('plots', True)\n",
      "    17                                           \n",
      "    18                                               while True:\n",
      "    19       151    3153000.0  20880.8      2.7          action = agent.choose_action(state) \n",
      "    20       151     413000.0   2735.1      0.4          reward, next_state, done = env.step(action)        \n",
      "    21       151      52000.0    344.4      0.0          rewards.append(reward)\n",
      "    22                                           \n",
      "    23       151      21000.0    139.1      0.0          if adjust_rewards:\n",
      "    24       151  112011000.0 741794.7     95.4              reward = adjust_rewards(reward, state, action)\n",
      "    25                                                   \n",
      "    26       151    1599000.0  10589.4      1.4          agent.learn(state, action, reward, next_state)\n",
      "    27       151      29000.0    192.1      0.0          episode_rewards += reward\n",
      "    28       151      39000.0    258.3      0.0          t += 1\n",
      "    29                                           \n",
      "    30       151      21000.0    139.1      0.0          if plots:\n",
      "    31                                                       if t % 10 == 0:\n",
      "    32                                                           sum_q_values_across_states = np.around(np.sum(agent.Q, axis=0), decimals=4)\n",
      "    33                                                           q_values_for_chart.append(sum_q_values_across_states)\n",
      "    34                                           \n",
      "    35       151      13000.0     86.1      0.0          if done:\n",
      "    36         1       1000.0   1000.0      0.0              break\n",
      "    37                                                           \n",
      "    38         1          0.0      0.0      0.0      episode_length = t + 1\n",
      "    39         1          0.0      0.0      0.0      selected_action = action \n",
      "    40                                               \n",
      "    41         1          0.0      0.0      0.0      if t >= max_steps:\n",
      "    42         1       7000.0   7000.0      0.0          sum_q_values_across_states = np.sum(agent.Q, axis=0)\n",
      "    43         1       2000.0   2000.0      0.0          selected_action = np.argmax(sum_q_values_across_states)\n",
      "    44                                           \n",
      "    45                                           \n",
      "    46         1          0.0      0.0      0.0      return q_values_for_chart, rewards, episode_length, selected_action"
     ]
    }
   ],
   "source": [
    "# 97219000.0/413000.0 = 235\n",
    "%lprun -f runner runner(adjust_rewards=adjust_rewards_surrogate, params={'plots': False})"
   ]
  },
  {
   "cell_type": "markdown",
   "metadata": {},
   "source": [
    "# Grid search"
   ]
  },
  {
   "cell_type": "code",
   "execution_count": null,
   "metadata": {},
   "outputs": [],
   "source": [
    "from sklearn.model_selection import ParameterGrid"
   ]
  },
  {
   "cell_type": "code",
   "execution_count": null,
   "metadata": {},
   "outputs": [],
   "source": [
    "from IPython import display\n",
    "import pandas as pd"
   ]
  },
  {
   "cell_type": "code",
   "execution_count": null,
   "metadata": {},
   "outputs": [
    {
     "name": "stderr",
     "output_type": "stream",
     "text": [
      "100%|██████████| 20/20 [00:11<00:00,  1.80it/s]\n",
      "  6%|▋         | 1/16 [00:11<02:47, 11.14s/it]"
     ]
    },
    {
     "name": "stdout",
     "output_type": "stream",
     "text": [
      "0.0 121.0\n"
     ]
    },
    {
     "name": "stderr",
     "output_type": "stream",
     "text": [
      " 90%|█████████ | 18/20 [00:11<00:01,  1.56it/s]\n",
      "  6%|▋         | 1/16 [00:22<05:40, 22.68s/it]\n"
     ]
    },
    {
     "ename": "KeyboardInterrupt",
     "evalue": "",
     "output_type": "error",
     "traceback": [
      "\u001b[0;31m---------------------------------------------------------------------------\u001b[0m",
      "\u001b[0;31mKeyboardInterrupt\u001b[0m                         Traceback (most recent call last)",
      "\u001b[1;32m/Users/schnuckiputz/other/git/2022-CHI-neuroadaptive-haptics/neuro_haptics/aleks/run_experiment_notebook_stateless.ipynb Cell 35\u001b[0m line \u001b[0;36m<module>\u001b[0;34m\u001b[0m\n\u001b[1;32m     <a href='vscode-notebook-cell:/Users/schnuckiputz/other/git/2022-CHI-neuroadaptive-haptics/neuro_haptics/aleks/run_experiment_notebook_stateless.ipynb#Y402sZmlsZQ%3D%3D?line=18'>19</a>\u001b[0m     \u001b[39mreturn\u001b[39;00m accuracy, mean_episode_length\n\u001b[1;32m     <a href='vscode-notebook-cell:/Users/schnuckiputz/other/git/2022-CHI-neuroadaptive-haptics/neuro_haptics/aleks/run_experiment_notebook_stateless.ipynb#Y402sZmlsZQ%3D%3D?line=20'>21</a>\u001b[0m \u001b[39mfor\u001b[39;00m i, params \u001b[39min\u001b[39;00m tqdm(param_grid_out\u001b[39m.\u001b[39miterrows(), total\u001b[39m=\u001b[39mparam_grid_out\u001b[39m.\u001b[39mshape[\u001b[39m0\u001b[39m]):\n\u001b[0;32m---> <a href='vscode-notebook-cell:/Users/schnuckiputz/other/git/2022-CHI-neuroadaptive-haptics/neuro_haptics/aleks/run_experiment_notebook_stateless.ipynb#Y402sZmlsZQ%3D%3D?line=21'>22</a>\u001b[0m     accuracy, mean_episode_length \u001b[39m=\u001b[39m get_results_from_grid_row(params)\n\u001b[1;32m     <a href='vscode-notebook-cell:/Users/schnuckiputz/other/git/2022-CHI-neuroadaptive-haptics/neuro_haptics/aleks/run_experiment_notebook_stateless.ipynb#Y402sZmlsZQ%3D%3D?line=22'>23</a>\u001b[0m     param_grid_out\u001b[39m.\u001b[39mloc[i, \u001b[39m'\u001b[39m\u001b[39maccuracy\u001b[39m\u001b[39m'\u001b[39m] \u001b[39m=\u001b[39m accuracy\n\u001b[1;32m     <a href='vscode-notebook-cell:/Users/schnuckiputz/other/git/2022-CHI-neuroadaptive-haptics/neuro_haptics/aleks/run_experiment_notebook_stateless.ipynb#Y402sZmlsZQ%3D%3D?line=23'>24</a>\u001b[0m     param_grid_out\u001b[39m.\u001b[39mloc[i, \u001b[39m'\u001b[39m\u001b[39mmean_episode_length\u001b[39m\u001b[39m'\u001b[39m] \u001b[39m=\u001b[39m mean_episode_length\n",
      "\u001b[1;32m/Users/schnuckiputz/other/git/2022-CHI-neuroadaptive-haptics/neuro_haptics/aleks/run_experiment_notebook_stateless.ipynb Cell 35\u001b[0m line \u001b[0;36mget_results_from_grid_row\u001b[0;34m(params)\u001b[0m\n\u001b[1;32m     <a href='vscode-notebook-cell:/Users/schnuckiputz/other/git/2022-CHI-neuroadaptive-haptics/neuro_haptics/aleks/run_experiment_notebook_stateless.ipynb#Y402sZmlsZQ%3D%3D?line=13'>14</a>\u001b[0m \u001b[39mdef\u001b[39;00m \u001b[39mget_results_from_grid_row\u001b[39m(params):\n\u001b[0;32m---> <a href='vscode-notebook-cell:/Users/schnuckiputz/other/git/2022-CHI-neuroadaptive-haptics/neuro_haptics/aleks/run_experiment_notebook_stateless.ipynb#Y402sZmlsZQ%3D%3D?line=14'>15</a>\u001b[0m     q_values_all_experiments, rewards_all_experiments, episode_lengths, selected_actions, accuracy \u001b[39m=\u001b[39m qLearningExperiment(adjust_rewards_surrogate, params\u001b[39m=\u001b[39;49mparams)\n\u001b[1;32m     <a href='vscode-notebook-cell:/Users/schnuckiputz/other/git/2022-CHI-neuroadaptive-haptics/neuro_haptics/aleks/run_experiment_notebook_stateless.ipynb#Y402sZmlsZQ%3D%3D?line=15'>16</a>\u001b[0m     mean_episode_length \u001b[39m=\u001b[39m np\u001b[39m.\u001b[39mmean(episode_lengths)\n\u001b[1;32m     <a href='vscode-notebook-cell:/Users/schnuckiputz/other/git/2022-CHI-neuroadaptive-haptics/neuro_haptics/aleks/run_experiment_notebook_stateless.ipynb#Y402sZmlsZQ%3D%3D?line=16'>17</a>\u001b[0m     \u001b[39mprint\u001b[39m(accuracy, mean_episode_length) \n",
      "\u001b[1;32m/Users/schnuckiputz/other/git/2022-CHI-neuroadaptive-haptics/neuro_haptics/aleks/run_experiment_notebook_stateless.ipynb Cell 35\u001b[0m line \u001b[0;36mqLearningExperiment\u001b[0;34m(difference_fn, params)\u001b[0m\n\u001b[1;32m      <a href='vscode-notebook-cell:/Users/schnuckiputz/other/git/2022-CHI-neuroadaptive-haptics/neuro_haptics/aleks/run_experiment_notebook_stateless.ipynb#Y402sZmlsZQ%3D%3D?line=7'>8</a>\u001b[0m agent \u001b[39m=\u001b[39m UCBQAgent(params\u001b[39m=\u001b[39mparams)\n\u001b[1;32m      <a href='vscode-notebook-cell:/Users/schnuckiputz/other/git/2022-CHI-neuroadaptive-haptics/neuro_haptics/aleks/run_experiment_notebook_stateless.ipynb#Y402sZmlsZQ%3D%3D?line=8'>9</a>\u001b[0m env \u001b[39m=\u001b[39m ModifiedRandomEnvironment(correct_action\u001b[39m=\u001b[39mcorrect_action)\n\u001b[0;32m---> <a href='vscode-notebook-cell:/Users/schnuckiputz/other/git/2022-CHI-neuroadaptive-haptics/neuro_haptics/aleks/run_experiment_notebook_stateless.ipynb#Y402sZmlsZQ%3D%3D?line=9'>10</a>\u001b[0m q_values_for_chart, rewards, episode_length, selected_action \u001b[39m=\u001b[39m runner(difference_fn, env\u001b[39m=\u001b[39;49menv, agent\u001b[39m=\u001b[39;49magent, params\u001b[39m=\u001b[39;49mparams)\n\u001b[1;32m     <a href='vscode-notebook-cell:/Users/schnuckiputz/other/git/2022-CHI-neuroadaptive-haptics/neuro_haptics/aleks/run_experiment_notebook_stateless.ipynb#Y402sZmlsZQ%3D%3D?line=10'>11</a>\u001b[0m rewards_all_experiments\u001b[39m.\u001b[39mappend(rewards)\n\u001b[1;32m     <a href='vscode-notebook-cell:/Users/schnuckiputz/other/git/2022-CHI-neuroadaptive-haptics/neuro_haptics/aleks/run_experiment_notebook_stateless.ipynb#Y402sZmlsZQ%3D%3D?line=11'>12</a>\u001b[0m q_values_all_experiments\u001b[39m.\u001b[39mappend(q_values_for_chart)\n",
      "\u001b[1;32m/Users/schnuckiputz/other/git/2022-CHI-neuroadaptive-haptics/neuro_haptics/aleks/run_experiment_notebook_stateless.ipynb Cell 35\u001b[0m line \u001b[0;36mrunner\u001b[0;34m(adjust_rewards, agent, env, params)\u001b[0m\n\u001b[1;32m     <a href='vscode-notebook-cell:/Users/schnuckiputz/other/git/2022-CHI-neuroadaptive-haptics/neuro_haptics/aleks/run_experiment_notebook_stateless.ipynb#Y402sZmlsZQ%3D%3D?line=25'>26</a>\u001b[0m     \u001b[39mbreak\u001b[39;00m\n\u001b[1;32m     <a href='vscode-notebook-cell:/Users/schnuckiputz/other/git/2022-CHI-neuroadaptive-haptics/neuro_haptics/aleks/run_experiment_notebook_stateless.ipynb#Y402sZmlsZQ%3D%3D?line=27'>28</a>\u001b[0m action \u001b[39m=\u001b[39m agent\u001b[39m.\u001b[39mchoose_action(state) \n\u001b[0;32m---> <a href='vscode-notebook-cell:/Users/schnuckiputz/other/git/2022-CHI-neuroadaptive-haptics/neuro_haptics/aleks/run_experiment_notebook_stateless.ipynb#Y402sZmlsZQ%3D%3D?line=28'>29</a>\u001b[0m reward, next_state, done \u001b[39m=\u001b[39m env\u001b[39m.\u001b[39;49mstep(action)        \n\u001b[1;32m     <a href='vscode-notebook-cell:/Users/schnuckiputz/other/git/2022-CHI-neuroadaptive-haptics/neuro_haptics/aleks/run_experiment_notebook_stateless.ipynb#Y402sZmlsZQ%3D%3D?line=29'>30</a>\u001b[0m rewards\u001b[39m.\u001b[39mappend(reward)\n\u001b[1;32m     <a href='vscode-notebook-cell:/Users/schnuckiputz/other/git/2022-CHI-neuroadaptive-haptics/neuro_haptics/aleks/run_experiment_notebook_stateless.ipynb#Y402sZmlsZQ%3D%3D?line=31'>32</a>\u001b[0m \u001b[39mif\u001b[39;00m adjust_rewards:\n",
      "File \u001b[0;32m~/other/git/2022-CHI-neuroadaptive-haptics/neuro_haptics/aleks/ucbq_environment_stateless.py:20\u001b[0m, in \u001b[0;36mModifiedRandomEnvironment.step\u001b[0;34m(self, action)\u001b[0m\n\u001b[1;32m     17\u001b[0m \u001b[39mdef\u001b[39;00m \u001b[39mstep\u001b[39m(\u001b[39mself\u001b[39m, action):\n\u001b[1;32m     18\u001b[0m     \u001b[39mself\u001b[39m\u001b[39m.\u001b[39mt \u001b[39m+\u001b[39m\u001b[39m=\u001b[39m \u001b[39m1\u001b[39m\n\u001b[0;32m---> 20\u001b[0m     reward \u001b[39m=\u001b[39m \u001b[39mself\u001b[39;49m\u001b[39m.\u001b[39;49mget_participant_answer(action)\n\u001b[1;32m     21\u001b[0m     \u001b[39m# TODO: delete\u001b[39;00m\n\u001b[1;32m     22\u001b[0m     \u001b[39m# Our case action == state, but migth consdier this separation in the future\u001b[39;00m\n\u001b[1;32m     23\u001b[0m     next_state \u001b[39m=\u001b[39m \u001b[39m0\u001b[39m\n",
      "File \u001b[0;32m~/other/git/2022-CHI-neuroadaptive-haptics/neuro_haptics/aleks/ucbq_environment.py:27\u001b[0m, in \u001b[0;36mModifiedRandomEnvironment.get_participant_answer\u001b[0;34m(self, action)\u001b[0m\n\u001b[1;32m     14\u001b[0m \u001b[39mdef\u001b[39;00m \u001b[39mget_participant_answer\u001b[39m(\u001b[39mself\u001b[39m, action):\n\u001b[1;32m     15\u001b[0m     \u001b[39m# TODO: use this code when we'll be listenting to the \u001b[39;00m\n\u001b[1;32m     16\u001b[0m     \u001b[39m# actual stream\u001b[39;00m\n\u001b[0;32m   (...)\u001b[0m\n\u001b[1;32m     25\u001b[0m     \u001b[39m# Wait random time before giving an answer.\u001b[39;00m\n\u001b[1;32m     26\u001b[0m     \u001b[39m# This simulates listening to stream.\u001b[39;00m\n\u001b[0;32m---> 27\u001b[0m     time\u001b[39m.\u001b[39;49msleep(random\u001b[39m.\u001b[39;49muniform(\u001b[39m0.001\u001b[39;49m, \u001b[39m0.002\u001b[39;49m))\n\u001b[1;32m     29\u001b[0m     answer \u001b[39m=\u001b[39m \u001b[39m0\u001b[39m \u001b[39mif\u001b[39;00m action \u001b[39m==\u001b[39m \u001b[39mself\u001b[39m\u001b[39m.\u001b[39mcorrect_action \u001b[39melse\u001b[39;00m \u001b[39m-\u001b[39m\u001b[39mabs\u001b[39m(\u001b[39mself\u001b[39m\u001b[39m.\u001b[39mcorrect_action \u001b[39m-\u001b[39m action)\n\u001b[1;32m     31\u001b[0m     \u001b[39mreturn\u001b[39;00m answer\n",
      "\u001b[0;31mKeyboardInterrupt\u001b[0m: "
     ]
    }
   ],
   "source": [
    "max_steps = 120\n",
    "num_episodes = 20\n",
    "\n",
    "param_grid = {\n",
    "    'alpha': [0, 1.0],\n",
    "    # 'alpha_decay'\n",
    "    # alpha_min\n",
    "    'epsilon': [0, 1.0],\n",
    "    # 'epsilon_decay': [0.1, 1.0],\n",
    "    # 'gamma'\n",
    "    'epsilon_decay': [10, 20, 40, 80],\n",
    "    # 'surrogate_c_interval': [1, 2, 5, 10, 20, 40]\n",
    "    # 'surrogate_lr'\n",
    "    }\n",
    "\n",
    "param_grid_out = pd.DataFrame(ParameterGrid(param_grid))\n",
    "\n",
    "def get_results_from_grid_row(params):\n",
    "    q_values_all_experiments, rewards_all_experiments, episode_lengths, selected_actions, accuracy = qLearningExperiment(adjust_rewards_surrogate, params=params)\n",
    "    mean_episode_length = np.mean(episode_lengths)\n",
    "    print(accuracy, mean_episode_length) \n",
    "\n",
    "    return accuracy, mean_episode_length\n",
    "\n",
    "for i, params in tqdm(param_grid_out.iterrows(), total=param_grid_out.shape[0]):\n",
    "    accuracy, mean_episode_length = get_results_from_grid_row(params)\n",
    "    param_grid_out.loc[i, 'accuracy'] = accuracy\n",
    "    param_grid_out.loc[i, 'mean_episode_length'] = mean_episode_length\n",
    "    # display.clear_output()"
   ]
  },
  {
   "cell_type": "code",
   "execution_count": null,
   "metadata": {},
   "outputs": [
    {
     "name": "stdout",
     "output_type": "stream",
     "text": [
      "    alpha  epsilon  epsilon_decay  accuracy  mean_episode_length\n",
      "1     0.1      0.1             20      95.0                73.70\n",
      "7     0.1      1.0             80      90.0                82.70\n",
      "15    1.0      1.0             80      85.0                91.00\n",
      "4     0.1      1.0             10      85.0                83.35\n",
      "10    1.0      0.1             40      85.0                78.55\n",
      "5     0.1      1.0             20      85.0                75.75\n",
      "12    1.0      1.0             10      80.0                80.90\n",
      "6     0.1      1.0             40      75.0                78.45\n",
      "11    1.0      0.1             80      75.0                78.45\n",
      "14    1.0      1.0             40      75.0                77.20\n",
      "8     1.0      0.1             10      75.0                74.95\n",
      "2     0.1      0.1             40      70.0                87.90\n",
      "13    1.0      1.0             20      70.0                82.85\n",
      "3     0.1      0.1             80      65.0                82.65\n",
      "0     0.1      0.1             10      60.0                89.90\n",
      "9     1.0      0.1             20      60.0                73.75\n"
     ]
    }
   ],
   "source": [
    "# param_grid_out.iloc[0]['accuracy'] = 1\n",
    "print(param_grid_out.sort_values(by=['accuracy', 'mean_episode_length'], ascending=False))"
   ]
  },
  {
   "cell_type": "markdown",
   "metadata": {},
   "source": [
    "# Q-value of \"true\" level compared accross different reward techniques"
   ]
  },
  {
   "cell_type": "code",
   "execution_count": null,
   "metadata": {},
   "outputs": [],
   "source": [
    "#TODO:\n",
    "# What if we reset the state to the original one, every 10 steps, and that would be our episode?\n",
    "# -> keep the q-values, reset the parameters epsilon, learning rate, etc."
   ]
  },
  {
   "cell_type": "markdown",
   "metadata": {},
   "source": [
    "# Epsilon test"
   ]
  },
  {
   "cell_type": "code",
   "execution_count": null,
   "metadata": {},
   "outputs": [
    {
     "data": {
      "text/plain": [
       "1.3222192947339193"
      ]
     },
     "execution_count": 27,
     "metadata": {},
     "output_type": "execute_result"
    }
   ],
   "source": [
    "np.log10(20+1)"
   ]
  },
  {
   "cell_type": "code",
   "execution_count": null,
   "metadata": {},
   "outputs": [
    {
     "data": {
      "text/plain": [
       "[<matplotlib.lines.Line2D at 0x14c981940>]"
      ]
     },
     "execution_count": 23,
     "metadata": {},
     "output_type": "execute_result"
    },
    {
     "data": {
      "image/png": "[encoded data removed]",
      "text/plain": [
       "<Figure size 432x288 with 1 Axes>"
      ]
     },
     "metadata": {
      "needs_background": "light"
     },
     "output_type": "display_data"
    }
   ],
   "source": [
    "agent = UCBQAgent()\n",
    "epsilons = []\n",
    "for t in range(200):\n",
    "    epsilons.append(agent.epsilon)\n",
    "    agent.choose_action(0)\n",
    "\n",
    "plt.plot(epsilons)"
   ]
  },
  {
   "cell_type": "code",
   "execution_count": null,
   "metadata": {},
   "outputs": [
    {
     "data": {
      "text/plain": [
       "[<matplotlib.lines.Line2D at 0x14cace130>]"
      ]
     },
     "execution_count": 28,
     "metadata": {},
     "output_type": "execute_result"
    },
    {
     "data": {
      "image/png": "[encoded data removed]",
      "text/plain": [
       "<Figure size 432x288 with 1 Axes>"
      ]
     },
     "metadata": {
      "needs_background": "light"
     },
     "output_type": "display_data"
    }
   ],
   "source": [
    "agent = UCBQAgent()\n",
    "epsilons = []\n",
    "for t in range(200):\n",
    "    epsilons.append(agent.alpha)\n",
    "    agent.choose_action(0)\n",
    "\n",
    "plt.plot(epsilons)"
   ]
  },
  {
   "cell_type": "markdown",
   "metadata": {},
   "source": [
    "# Surrogate rewards without adding noise"
   ]
  },
  {
   "cell_type": "code",
   "execution_count": null,
   "metadata": {},
   "outputs": [],
   "source": [
    "from modified_pendulum_processor_noiseless import ModifiedPendulumProcessorNoiseless"
   ]
  },
  {
   "cell_type": "code",
   "execution_count": null,
   "metadata": {},
   "outputs": [
    {
     "name": "stderr",
     "output_type": "stream",
     "text": [
      "100%|██████████| 20/20 [00:02<00:00,  7.41it/s]\n"
     ]
    },
    {
     "name": "stdout",
     "output_type": "stream",
     "text": [
      "Mean episode length: 61.0\n",
      "Accuracy: 100.0\n",
      "[[0.8 0.  0.  0.  0.  0.  0.2]\n",
      " [0.  0.8 0.  0.  0.  0.2 0. ]\n",
      " [0.  0.  0.8 0.  0.2 0.  0. ]\n",
      " [0.  0.  0.  1.  0.  0.  0. ]\n",
      " [0.  0.  0.2 0.  0.8 0.  0. ]\n",
      " [0.  0.2 0.  0.  0.  0.8 0. ]\n",
      " [0.2 0.  0.  0.  0.  0.  0.8]]\n",
      "{(0, 3): [-3, -3, -3, -3, -3, -3, -3, -3, -3, -3, -3, -3, -3, -3, -3, -3, -3, -3, -3, -3, -3, -3, -3, -3, -3, -3, -3, -3, -3, -3, -3, -3, -3, -3, -3, -3, -3, -3, -3, -3], (0, 0): [-6, -6, -6, -6, -6, -6, -6, -6, -6, -6, -6, -6, -6, -6, -6, -6, -6, -6, -6, -6], (0, 1): [-5, -5, -5, -5, -5, -5, -5, -5, -5, -5, -5, -5, -5, -5, -5, -5, -5, -5, -5, -5], (0, 2): [-4, -4, -4, -4, -4, -4, -4, -4, -4, -4, -4, -4, -4, -4, -4, -4, -4, -4, -4, -4], (0, 4): [-2, -2, -2, -2, -2, -2, -2, -2, -2, -2, -2, -2, -2, -2, -2, -2, -2, -2, -2, -2, -2, -2, -2, -2, -2, -2, -2, -2, -2, -2, -2, -2, -2, -2, -2, -2, -2, -2, -2, -2], (0, 5): [-1, -1, -1, -1, -1, -1, -1, -1, -1, -1, -1, -1, -1, -1, -1, -1, -1, -1, -1, -1, -1, -1, -1, -1, -1, -1, -1, -1, -1, -1, -1, -1, -1, -1, -1, -1, -1, -1, -1, -1, -1, -1, -1, -1, -1, -1, -1, -1, -1, -1, -1, -1, -1, -1, -1, -1, -1, -1, -1, -1, -1, -1, -1, -1, -1, -1, -1, -1, -1, -1, -1, -1, -1, -1, -1, -1, -1, -1, -1, -1], (0, 6): [0, 0, 0, 0, 0, 0, 0, 0, 0, 0, 0, 0, 0, 0, 0, 0, 0, 0, 0, 0, 0, 0, 0, 0, 0, 0, 0, 0, 0, 0, 0, 0, 0, 0, 0, 0, 0, 0, 0, 0, 0, 0, 0, 0, 0, 0, 0, 0, 0, 0, 0, 0, 0, 0, 0, 0, 0, 0, 0, 0, 0, 0, 0, 0, 0, 0, 0, 0, 0, 0, 0, 0, 0, 0, 0, 0, 0, 0, 0, 0, 0, 0, 0, 0, 0, 0, 0, 0, 0, 0, 0, 0, 0, 0, 0, 0, 0, 0, 0, 0, 0, 0, 0, 0, 0, 0, 0, 0, 0, 0, 0, 0, 0, 0, 0, 0, 0, 0, 0, 0, 0, 0, 0, 0, 0, 0, 0, 0, 0, 0, 0, 0, 0, 0, 0, 0, 0, 0, 0, 0, 0, 0, 0, 0, 0, 0, 0, 0, 0, 0, 0, 0, 0, 0, 0, 0, 0, 0, 0, 0, 0, 0, 0, 0, 0, 0, 0, 0, 0, 0, 0, 0, 0, 0, 0, 0, 0, 0, 0, 0, 0, 0, 0, 0, 0, 0, 0, 0, 0, 0, 0, 0, 0, 0, 0, 0, 0, 0, 0, 0, 0, 0, 0, 0, 0, 0, 0, 0, 0, 0, 0, 0, 0, 0, 0, 0, 0, 0, 0, 0, 0, 0, 0, 0, 0, 0, 0, 0, 0, 0, 0, 0, 0, 0, 0, 0, 0, 0, 0, 0, 0, 0, 0, 0, 0, 0, 0, 0, 0, 0, 0, 0, 0, 0, 0, 0, 0, 0, 0, 0, 0, 0, 0, 0, 0, 0, 0, 0, 0, 0, 0, 0, 0, 0, 0, 0, 0, 0, 0, 0, 0, 0, 0, 0, 0, 0, 0, 0, 0, 0, 0, 0, 0, 0, 0, 0, 0, 0, 0, 0, 0, 0, 0, 0, 0, 0, 0, 0, 0, 0, 0, 0, 0, 0, 0, 0, 0, 0, 0, 0, 0, 0, 0, 0, 0, 0, 0, 0, 0, 0, 0, 0, 0, 0, 0, 0, 0, 0, 0, 0, 0, 0, 0, 0, 0, 0, 0, 0, 0, 0, 0, 0, 0, 0, 0, 0, 0, 0, 0, 0, 0, 0, 0, 0, 0, 0, 0, 0, 0, 0, 0, 0, 0, 0, 0, 0, 0, 0, 0, 0, 0, 0, 0, 0, 0, 0, 0, 0, 0, 0, 0, 0, 0, 0, 0, 0, 0, 0, 0, 0, 0, 0, 0, 0, 0, 0, 0, 0, 0, 0, 0, 0, 0, 0, 0, 0, 0, 0, 0, 0, 0, 0, 0, 0, 0, 0, 0, 0, 0, 0, 0, 0, 0, 0, 0, 0, 0, 0, 0, 0, 0, 0, 0, 0, 0, 0, 0, 0, 0, 0, 0, 0, 0, 0, 0, 0, 0, 0, 0, 0, 0, 0, 0, 0, 0, 0, 0, 0, 0, 0, 0, 0, 0, 0, 0, 0, 0, 0, 0, 0, 0, 0, 0, 0, 0, 0, 0, 0, 0, 0, 0, 0, 0, 0, 0, 0, 0, 0, 0, 0, 0, 0, 0, 0, 0, 0, 0, 0, 0, 0, 0, 0, 0, 0, 0, 0, 0, 0, 0, 0, 0, 0, 0, 0, 0, 0, 0, 0, 0, 0, 0, 0, 0, 0, 0, 0, 0, 0, 0, 0, 0, 0, 0, 0, 0, 0, 0, 0, 0, 0, 0, 0, 0, 0, 0, 0, 0, 0, 0, 0, 0, 0, 0, 0, 0, 0, 0, 0, 0, 0, 0, 0, 0, 0, 0, 0, 0, 0, 0, 0, 0, 0, 0, 0, 0, 0, 0, 0, 0, 0, 0, 0, 0, 0, 0, 0, 0, 0, 0, 0, 0, 0, 0, 0, 0, 0, 0, 0, 0, 0, 0, 0, 0, 0, 0, 0, 0, 0, 0, 0, 0, 0, 0, 0, 0, 0, 0, 0, 0, 0, 0, 0, 0, 0, 0, 0, 0, 0, 0, 0, 0, 0, 0, 0, 0, 0, 0, 0, 0, 0, 0, 0, 0, 0, 0, 0, 0, 0, 0, 0, 0, 0, 0, 0, 0, 0, 0, 0, 0, 0, 0, 0, 0, 0, 0, 0, 0, 0, 0, 0, 0, 0, 0, 0, 0, 0, 0, 0, 0, 0, 0, 0, 0, 0, 0, 0, 0, 0, 0, 0, 0, 0, 0, 0, 0, 0, 0, 0, 0, 0, 0, 0, 0, 0, 0, 0, 0, 0, 0, 0, 0, 0, 0, 0, 0, 0, 0, 0, 0, 0, 0, 0, 0, 0, 0, 0, 0, 0, 0, 0, 0, 0, 0, 0, 0, 0, 0, 0, 0, 0, 0, 0, 0, 0, 0, 0, 0, 0, 0, 0, 0, 0, 0, 0, 0, 0, 0, 0, 0, 0, 0, 0, 0, 0, 0, 0, 0, 0, 0, 0, 0, 0, 0, 0, 0, 0, 0, 0, 0, 0, 0, 0, 0, 0, 0, 0, 0, 0, 0, 0, 0, 0, 0, 0, 0, 0, 0, 0, 0, 0, 0, 0, 0, 0, 0, 0, 0, 0, 0, 0, 0, 0, 0, 0, 0, 0, 0, 0, 0, 0, 0, 0, 0, 0, 0, 0, 0, 0, 0, 0, 0, 0, 0, 0, 0, 0, 0, 0, 0, 0, 0, 0, 0, 0, 0, 0, 0, 0, 0, 0, 0, 0, 0, 0, 0, 0, 0, 0, 0, 0, 0, 0, 0, 0, 0, 0, 0, 0, 0, 0, 0, 0, 0, 0, 0, 0, 0, 0, 0, 0, 0, 0, 0, 0, 0, 0, 0, 0, 0, 0, 0, 0, 0, 0, 0, 0, 0, 0, 0, 0, 0, 0, 0, 0, 0, 0, 0, 0, 0, 0, 0, 0, 0, 0, 0, 0, 0, 0, 0, 0, 0, 0, 0, 0, 0, 0, 0, 0, 0, 0, 0, 0, 0, 0, 0, 0, 0, 0, 0, 0, 0, 0, 0, 0, 0, 0, 0, 0, 0, 0, 0, 0, 0, 0, 0, 0, 0, 0, 0, 0, 0, 0, 0, 0, 0, 0, 0, 0, 0, 0]}\n",
      "Estimated confusion matrix:\n",
      "[[1. 0. 0. 0. 0. 0. 0.]\n",
      " [0. 1. 0. 0. 0. 0. 0.]\n",
      " [0. 0. 1. 0. 0. 0. 0.]\n",
      " [0. 0. 0. 1. 0. 0. 0.]\n",
      " [0. 0. 0. 0. 1. 0. 0.]\n",
      " [0. 0. 0. 0. 0. 1. 0.]\n",
      " [0. 0. 0. 0. 0. 0. 1.]]\n"
     ]
    },
    {
     "data": {
      "image/png": "[encoded data removed]",
      "text/plain": [
       "<Figure size 432x288 with 1 Axes>"
      ]
     },
     "metadata": {
      "needs_background": "light"
     },
     "output_type": "display_data"
    },
    {
     "data": {
      "image/png": "[encoded data removed]",
      "text/plain": [
       "<Figure size 432x288 with 1 Axes>"
      ]
     },
     "metadata": {
      "needs_background": "light"
     },
     "output_type": "display_data"
    },
    {
     "data": {
      "image/png": "[encoded data removed]",
      "text/plain": [
       "<Figure size 432x288 with 1 Axes>"
      ]
     },
     "metadata": {
      "needs_background": "light"
     },
     "output_type": "display_data"
    },
    {
     "data": {
      "image/png": "[encoded data removed]",
      "text/plain": [
       "<Figure size 432x288 with 1 Axes>"
      ]
     },
     "metadata": {
      "needs_background": "light"
     },
     "output_type": "display_data"
    }
   ],
   "source": [
    "post_processor_surrogate = ModifiedPendulumProcessorNoiseless()\n",
    "\n",
    "def adjust_rewards_surrogate(reward, state, action):    \n",
    "    observation, reward, done, info = post_processor_surrogate.process_step(state, reward, None, None, action)\n",
    "    return reward\n",
    "\n",
    "plot_mean_q_values(adjust_rewards_surrogate)\n",
    "\n",
    "print(post_processor_surrogate.cmat)\n",
    "print(post_processor_surrogate.r_sets)\n",
    "print('Estimated confusion matrix:')\n",
    "print(np.around(post_processor_surrogate.C, decimals=4))"
   ]
  }
 ],
 "metadata": {
  "kernelspec": {
   "display_name": "base",
   "language": "python",
   "name": "python3"
  },
  "language_info": {
   "codemirror_mode": {
    "name": "ipython",
    "version": 3
   },
   "file_extension": ".py",
   "mimetype": "text/x-python",
   "name": "python",
   "nbconvert_exporter": "python",
   "pygments_lexer": "ipython3",
   "version": "3.9.7"
  },
  "orig_nbformat": 4
 },
 "nbformat": 4,
 "nbformat_minor": 2
}
