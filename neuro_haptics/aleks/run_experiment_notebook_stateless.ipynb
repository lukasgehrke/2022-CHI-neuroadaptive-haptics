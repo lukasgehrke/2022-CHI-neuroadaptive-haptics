{
 "cells": [
  {
   "cell_type": "markdown",
   "metadata": {},
   "source": [
    "# TODO\n",
    " - double check that params are getting properly propagated for the Agent and environment\n",
    " - ~~grid search for parameters~~\n",
    " - figure out parameters in surrogate rewards\n",
    " - ~~make rewards non binary in environment and surrogate rewards~~\n",
    " - ~~add deceay from papers, log and other~~\n",
    " - initiate q-table at `-1`?\n",
    " - run experiment with different `correct_action`\n",
    " - should we be setting up the glove for `very distinguishable` levels? Shouldn't we set it up with `barely distinguishable` levels, as this is where the perturbed rewards come on - they'd help us get through the noise and find the correct level."
   ]
  },
  {
   "cell_type": "markdown",
   "metadata": {},
   "source": [
    "# Scripts"
   ]
  },
  {
   "cell_type": "code",
   "execution_count": 1,
   "metadata": {},
   "outputs": [],
   "source": [
    "import numpy as np\n",
    "import collections\n",
    "import pandas as pd\n",
    "import argparse\n",
    "import time\n",
    "import numpy as np"
   ]
  },
  {
   "cell_type": "code",
   "execution_count": 2,
   "metadata": {},
   "outputs": [],
   "source": [
    "import noise_estimator"
   ]
  },
  {
   "cell_type": "code",
   "execution_count": 3,
   "metadata": {},
   "outputs": [],
   "source": [
    "# from ucbq_agent import UCBQAgent\n",
    "from ucbq_agent_stateless import UCBQAgent\n",
    "# from ucbq_environment import ModifiedRandomEnvironment\n",
    "from ucbq_environment_stateless import ModifiedRandomEnvironment"
   ]
  },
  {
   "cell_type": "markdown",
   "metadata": {},
   "source": [
    "# Params"
   ]
  },
  {
   "cell_type": "code",
   "execution_count": 4,
   "metadata": {},
   "outputs": [],
   "source": [
    "max_steps = 200\n",
    "num_episodes = 1"
   ]
  },
  {
   "cell_type": "code",
   "execution_count": 5,
   "metadata": {},
   "outputs": [],
   "source": [
    "timeOut = None\n",
    "num_states = 7\n",
    "# start_state = 1\n",
    "start_action = 0"
   ]
  },
  {
   "cell_type": "code",
   "execution_count": 6,
   "metadata": {},
   "outputs": [],
   "source": [
    "# zero indexed\n",
    "correct_action = 6"
   ]
  },
  {
   "cell_type": "code",
   "execution_count": 7,
   "metadata": {},
   "outputs": [],
   "source": [
    "def default_params():\n",
    "    \"\"\" These are the default parameters used int eh framework. \"\"\"\n",
    "    return {\n",
    "            # # Runner parameters\n",
    "            # 'max_episodes': int(1E6),         # experiment stops after this many episodes\n",
    "            # 'max_steps': int(1E9),            # experiment stops after this many steps\n",
    "            # 'multi_runner': False,            # uses multiple runners if True\n",
    "            # # Exploration parameters\n",
    "            # 'epsilon_anneal_time': int(5E3),  # exploration anneals epsilon over these many steps\n",
    "            # 'epsilon_finish': 0.1,            # annealing stops at (and keeps) this epsilon\n",
    "            # 'epsilon_start': 1,               # annealing starts at this epsilon\n",
    "            'epsilon': 1,               # annealing starts at this epsilon\n",
    "            'epsilon_decay': 0.5,\n",
    "            # Optimization parameters\n",
    "            'alpha': 0.5,                       # learning rate of optimizer\n",
    "            # 'gamma': 0.99,                    # discount factor gamma\n",
    "            'plots': True,\n",
    "           }"
   ]
  },
  {
   "cell_type": "markdown",
   "metadata": {},
   "source": [
    "# Scripts"
   ]
  },
  {
   "cell_type": "code",
   "execution_count": 8,
   "metadata": {},
   "outputs": [],
   "source": [
    "import matplotlib.pyplot as plt\n",
    "from tqdm import tqdm \n",
    "import utils"
   ]
  },
  {
   "cell_type": "code",
   "execution_count": 9,
   "metadata": {},
   "outputs": [],
   "source": [
    "def get_mean_across_episodes(arr):\n",
    "    min_cols = np.amin([len(row) for row in arr])\n",
    "    truncated_arr = [ x[:min_cols] for x in arr ]\n",
    "    res = np.array(truncated_arr)\n",
    "    mean = res.mean(axis=0)\n",
    "\n",
    "    return mean    \n",
    "\n",
    "def get_cumsum_rewards(rewards):\n",
    "    cumulative_sum_rewards = np.cumsum(rewards)\n",
    "    time_steps = np.arange(1, len(rewards) + 1)\n",
    "    mean_rewards = cumulative_sum_rewards / time_steps\n",
    "    return mean_rewards"
   ]
  },
  {
   "cell_type": "code",
   "execution_count": 10,
   "metadata": {},
   "outputs": [],
   "source": [
    "def runner(adjust_rewards=None, \n",
    "           agent=None,\n",
    "           env=None,\n",
    "           params=default_params()):\n",
    "\n",
    "    agent = agent if agent else UCBQAgent(num_actions=num_states)\n",
    "    env = env if env else ModifiedRandomEnvironment()\n",
    "\n",
    "    episode_rewards = 0\n",
    "    rewards = []\n",
    "    q_values_for_chart = []\n",
    "    \n",
    "    t = 0\n",
    "    action = start_action\n",
    "    state = 0\n",
    "    plots = params.get('plots', True)\n",
    "\n",
    "    while True:\n",
    "        action = agent.choose_action(state) \n",
    "        reward, next_state, done = env.step(action)        \n",
    "        rewards.append(reward)\n",
    "\n",
    "        if adjust_rewards:\n",
    "            reward = adjust_rewards(reward, state, action)\n",
    "        \n",
    "        agent.learn(state, action, reward, next_state)\n",
    "        episode_rewards += reward\n",
    "        t += 1\n",
    "\n",
    "        if plots:\n",
    "            if t % 10 == 0:\n",
    "                sum_q_values_across_states = np.around(np.sum(agent.Q, axis=0), decimals=4)\n",
    "                q_values_for_chart.append(sum_q_values_across_states)\n",
    "\n",
    "        if done:\n",
    "            break\n",
    "                \n",
    "    episode_length = t + 1\n",
    "    selected_action = action \n",
    "    \n",
    "    if t >= max_steps:\n",
    "        sum_q_values_across_states = np.sum(agent.Q, axis=0)\n",
    "        selected_action = np.argmax(sum_q_values_across_states)\n",
    "\n",
    "\n",
    "    return q_values_for_chart, rewards, episode_length, selected_action"
   ]
  },
  {
   "cell_type": "code",
   "execution_count": 11,
   "metadata": {},
   "outputs": [],
   "source": [
    "def qLearningExperiment(difference_fn=None, learner=None, params=default_params()):\n",
    "    plots = params.get('plots', True)\n",
    "\n",
    "    q_values_all_experiments = []\n",
    "    rewards_all_experiments = []\n",
    "    episode_lengths = []\n",
    "    selected_actions = []\n",
    "\n",
    "    for i in tqdm(range(num_episodes)):\n",
    "        # TODO: .reset() instead of re-creating?\n",
    "        agent = UCBQAgent(params=params) if learner is None else learner\n",
    "        env = ModifiedRandomEnvironment(correct_action=correct_action)\n",
    "        q_values_for_chart, rewards, episode_length, selected_action = runner(difference_fn, env=env, agent=agent, params=params)\n",
    "        selected_actions.append(selected_action)\n",
    "        episode_lengths.append(episode_length)\n",
    "                \n",
    "        rewards_all_experiments.append(rewards)\n",
    "        q_values_all_experiments.append(q_values_for_chart)\n",
    "\n",
    "    correct_count = selected_actions.count(correct_action)\n",
    "    accuracy = (correct_count / len(selected_actions)) * 100\n",
    "    \n",
    "    return q_values_all_experiments, rewards_all_experiments, episode_lengths, selected_actions, accuracy\n"
   ]
  },
  {
   "cell_type": "code",
   "execution_count": 12,
   "metadata": {},
   "outputs": [],
   "source": [
    "def plot_mean_q_values(difference_fn=None):\n",
    "    q_values_all_experiments, rewards_all_experiments, episode_lengths, selected_actions, accuracy = qLearningExperiment(difference_fn)\n",
    "\n",
    "    all_mean_rewards = [ get_cumsum_rewards(rewards) for rewards in rewards_all_experiments ]\n",
    "\n",
    "    all_mean_rewards = pd.DataFrame(all_mean_rewards) # rewards have different lengths\n",
    "    # because they terminate earlier sometimes\n",
    "    mean_matrix = np.mean(all_mean_rewards, axis=0)\n",
    "    mean_dataframe = pd.DataFrame(mean_matrix)\n",
    "    mean_dataframe.plot()\n",
    "\n",
    "    mean_matrix = get_mean_across_episodes(q_values_all_experiments)\n",
    "    mean_dataframe = pd.DataFrame(mean_matrix)\n",
    "\n",
    "    mean_dataframe.plot()\n",
    "\n",
    "    pd.DataFrame(episode_lengths).plot()\n",
    "    print(f'Mean episode length: {np.mean(episode_lengths)}') \n",
    "    pd.DataFrame(selected_actions).plot()\n",
    "\n",
    "    print(f'Accuracy: {accuracy}')"
   ]
  },
  {
   "cell_type": "markdown",
   "metadata": {},
   "source": [
    "# Real rewards UCB Q-learning"
   ]
  },
  {
   "cell_type": "code",
   "execution_count": 13,
   "metadata": {},
   "outputs": [],
   "source": [
    "rewards_all_experiments = []\n",
    "\n",
    "qs, rewards, _, _ = runner()\n",
    "rewards_all_experiments.append(rewards)"
   ]
  },
  {
   "cell_type": "code",
   "execution_count": 14,
   "metadata": {},
   "outputs": [
    {
     "name": "stdout",
     "output_type": "stream",
     "text": [
      "Q-table:\n",
      "[[-2.4152 -3.5722 -1.2453 -0.6971 -1.2799 -0.1749  0.    ]]\n",
      "Number of times action was taken:\n",
      "[[  2.   3.   7.  18.   7. 111. 482.]]\n",
      "Total timesteps: 530.0\n"
     ]
    }
   ],
   "source": [
    "agent = UCBQAgent(num_actions=num_states)\n",
    "\n",
    "runner(agent=agent)\n",
    "utils.print_agent_stats(agent)"
   ]
  },
  {
   "cell_type": "code",
   "execution_count": 15,
   "metadata": {},
   "outputs": [
    {
     "name": "stderr",
     "output_type": "stream",
     "text": [
      "100%|██████████| 1/1 [00:00<00:00, 344.22it/s]"
     ]
    },
    {
     "name": "stdout",
     "output_type": "stream",
     "text": [
      "Mean episode length: 164.0\n",
      "Accuracy: 100.0\n"
     ]
    },
    {
     "name": "stderr",
     "output_type": "stream",
     "text": [
      "\n"
     ]
    },
    {
     "data": {
      "image/png": "[encoded data removed]",
      "text/plain": [
       "<Figure size 432x288 with 1 Axes>"
      ]
     },
     "metadata": {
      "needs_background": "light"
     },
     "output_type": "display_data"
    },
    {
     "data": {
      "image/png": "[encoded data removed]",
      "text/plain": [
       "<Figure size 432x288 with 1 Axes>"
      ]
     },
     "metadata": {
      "needs_background": "light"
     },
     "output_type": "display_data"
    },
    {
     "data": {
      "image/png": "[encoded data removed]",
      "text/plain": [
       "<Figure size 432x288 with 1 Axes>"
      ]
     },
     "metadata": {
      "needs_background": "light"
     },
     "output_type": "display_data"
    },
    {
     "data": {
      "image/png": "[encoded data removed]",
      "text/plain": [
       "<Figure size 432x288 with 1 Axes>"
      ]
     },
     "metadata": {
      "needs_background": "light"
     },
     "output_type": "display_data"
    }
   ],
   "source": [
    "# The Q-value shape make sense - we're trying higher numbers later\n",
    "# so they converge to -1 slower than e.g. action 0 or 1\n",
    "plot_mean_q_values()"
   ]
  },
  {
   "cell_type": "markdown",
   "metadata": {},
   "source": [
    "# Noisy rewards\n",
    "- rewards are now noisy\n",
    "- q-learner hasn't changed"
   ]
  },
  {
   "cell_type": "code",
   "execution_count": 16,
   "metadata": {},
   "outputs": [
    {
     "data": {
      "text/plain": [
       "(array([[0.8, 0. , 0. , 0. , 0. , 0. , 0.2],\n",
       "        [0. , 0.8, 0. , 0. , 0. , 0.2, 0. ],\n",
       "        [0. , 0. , 0.8, 0. , 0.2, 0. , 0. ],\n",
       "        [0. , 0. , 0. , 1. , 0. , 0. , 0. ],\n",
       "        [0. , 0. , 0.2, 0. , 0.8, 0. , 0. ],\n",
       "        [0. , 0.2, 0. , 0. , 0. , 0.8, 0. ],\n",
       "        [0.2, 0. , 0. , 0. , 0. , 0. , 0.8]]),\n",
       " 1)"
      ]
     },
     "execution_count": 16,
     "metadata": {},
     "output_type": "execute_result"
    }
   ],
   "source": [
    "# Generate confusion matrix\n",
    "noise_estimator.initialize_cmat(\"anti_iden\", 7, 0.2)"
   ]
  },
  {
   "cell_type": "code",
   "execution_count": 17,
   "metadata": {},
   "outputs": [],
   "source": [
    "from modified_pendulum_processor import ModifiedPendulumProcessor"
   ]
  },
  {
   "cell_type": "code",
   "execution_count": 18,
   "metadata": {},
   "outputs": [
    {
     "name": "stderr",
     "output_type": "stream",
     "text": [
      "100%|██████████| 1/1 [00:00<00:00, 571.12it/s]"
     ]
    },
    {
     "name": "stdout",
     "output_type": "stream",
     "text": [
      "Mean episode length: 93.0\n",
      "Accuracy: 0.0\n",
      "[[0.8 0.  0.  0.  0.  0.  0.2]\n",
      " [0.  0.8 0.  0.  0.  0.2 0. ]\n",
      " [0.  0.  0.8 0.  0.2 0.  0. ]\n",
      " [0.  0.  0.  1.  0.  0.  0. ]\n",
      " [0.  0.  0.2 0.  0.8 0.  0. ]\n",
      " [0.  0.2 0.  0.  0.  0.8 0. ]\n",
      " [0.2 0.  0.  0.  0.  0.  0.8]]\n",
      "{(0, 1): [-5], (0, 0): [0, -6], (0, 2): [-2, -4, -4, -4, -4, -4, -2], (0, 3): [-3, -3, -3, -3, -3, -3], (0, 4): [-2, -2, -2, -2, -4, -4, -2, -2, -2], (0, 5): [-1, -1, -1, -1, -1, -1, -1, -1, -5, -1, -5, -1, -5, -5, -1, -1, -1, -1, -1, -1, -1, -5, -1, -1, -1, -5, -1, -1, -5, -1, -1, -5, -1, -1, -5, -1, -1, -5, -1, -1, -1, -5, -1, -1, -1, -1, -1, -1, -5, -1, -1, -1, -1, -1, -1, -5, -1, -5, -1], (0, 6): [0, 0, 0, -6, 0, 0, 0, 0]}\n",
      "Estimated confusion matrix:\n",
      "[[1. 0. 0. 0. 0. 0. 0.]\n",
      " [0. 1. 0. 0. 0. 0. 0.]\n",
      " [0. 0. 1. 0. 0. 0. 0.]\n",
      " [0. 0. 0. 1. 0. 0. 0.]\n",
      " [0. 0. 0. 0. 1. 0. 0.]\n",
      " [0. 0. 0. 0. 0. 1. 0.]\n",
      " [0. 0. 0. 0. 0. 0. 1.]]\n"
     ]
    },
    {
     "name": "stderr",
     "output_type": "stream",
     "text": [
      "\n"
     ]
    },
    {
     "data": {
      "image/png": "[encoded data removed]",
      "text/plain": [
       "<Figure size 432x288 with 1 Axes>"
      ]
     },
     "metadata": {
      "needs_background": "light"
     },
     "output_type": "display_data"
    },
    {
     "data": {
      "image/png": "[encoded data removed]",
      "text/plain": [
       "<Figure size 432x288 with 1 Axes>"
      ]
     },
     "metadata": {
      "needs_background": "light"
     },
     "output_type": "display_data"
    },
    {
     "data": {
      "image/png": "[encoded data removed]",
      "text/plain": [
       "<Figure size 432x288 with 1 Axes>"
      ]
     },
     "metadata": {
      "needs_background": "light"
     },
     "output_type": "display_data"
    },
    {
     "data": {
      "image/png": "[encoded data removed]",
      "text/plain": [
       "<Figure size 432x288 with 1 Axes>"
      ]
     },
     "metadata": {
      "needs_background": "light"
     },
     "output_type": "display_data"
    }
   ],
   "source": [
    "post_processor_noisy = ModifiedPendulumProcessor(surrogate=False)\n",
    "\n",
    "def adjust_rewards_noisy(reward, state, action):    \n",
    "    observation, reward, done, info = post_processor_noisy.process_step(state, reward, None, None, action)\n",
    "    return reward\n",
    "\n",
    "plot_mean_q_values(adjust_rewards_noisy)\n",
    "print(post_processor_noisy.cmat)\n",
    "print(post_processor_noisy.r_sets)\n",
    "print('Estimated confusion matrix:')\n",
    "print(np.around(post_processor_noisy.C, decimals=4))"
   ]
  },
  {
   "cell_type": "markdown",
   "metadata": {},
   "source": [
    "# Surrogate rewards"
   ]
  },
  {
   "cell_type": "code",
   "execution_count": 19,
   "metadata": {},
   "outputs": [
    {
     "name": "stderr",
     "output_type": "stream",
     "text": [
      "  0%|          | 0/1 [00:00<?, ?it/s]"
     ]
    },
    {
     "name": "stderr",
     "output_type": "stream",
     "text": [
      "100%|██████████| 1/1 [00:00<00:00, 69.93it/s]"
     ]
    },
    {
     "name": "stdout",
     "output_type": "stream",
     "text": [
      "Mean episode length: 114.0\n",
      "Accuracy: 0.0\n",
      "[[0.8 0.  0.  0.  0.  0.  0.2]\n",
      " [0.  0.8 0.  0.  0.  0.2 0. ]\n",
      " [0.  0.  0.8 0.  0.2 0.  0. ]\n",
      " [0.  0.  0.  1.  0.  0.  0. ]\n",
      " [0.  0.  0.2 0.  0.8 0.  0. ]\n",
      " [0.  0.2 0.  0.  0.  0.8 0. ]\n",
      " [0.2 0.  0.  0.  0.  0.  0.8]]\n",
      "{(0, 5): [-1, -1, -1, -5, -1, -5, -1, -1, -1, -1, -1, -1, -1, -1, -1], (0, 0): [-6, -6], (0, 1): [-1, -5, -5, -1, -5, -1, -5], (0, 2): [-4, -4, -4, -4, -4, -2, -4], (0, 3): [-3, -3, -3, -3, -3, -3, -3, -3, -3, -3, -3, -3], (0, 4): [-2, -2, -2, -2, -2, -4, -2, -2, -2, -2, -2, -2, -2, -2, -2, -2, -4, -2, -4, -2, -4, -2, -2, -2, -2, -2, -2, -2, -4, -2, -2, -2, -2, -2, -2, -4, -2, -2, -2, -2, -2, -2, -2, -2, -2, -2, -2, -2, -2, -2, -4, -4, -2, -2, -2, -4, -2, -4, -4, -2, -2, -2, -2, -2], (0, 6): [0, -6, 0, -6, 0, 0]}\n",
      "Estimated confusion matrix:\n",
      "[[0.6667 0.     0.     0.     0.     0.     0.3333]\n",
      " [0.     0.8667 0.     0.     0.     0.1333 0.    ]\n",
      " [0.     0.     0.8281 0.     0.1719 0.     0.    ]\n",
      " [0.     0.     0.     1.     0.     0.     0.    ]\n",
      " [0.     0.     0.1429 0.     0.8571 0.     0.    ]\n",
      " [0.     0.4286 0.     0.     0.     0.5714 0.    ]\n",
      " [0.     0.     0.     0.     0.     0.     1.    ]]\n"
     ]
    },
    {
     "name": "stderr",
     "output_type": "stream",
     "text": [
      "\n"
     ]
    },
    {
     "data": {
      "image/png": "[encoded data removed]",
      "text/plain": [
       "<Figure size 432x288 with 1 Axes>"
      ]
     },
     "metadata": {
      "needs_background": "light"
     },
     "output_type": "display_data"
    },
    {
     "data": {
      "image/png": "[encoded data removed]",
      "text/plain": [
       "<Figure size 432x288 with 1 Axes>"
      ]
     },
     "metadata": {
      "needs_background": "light"
     },
     "output_type": "display_data"
    },
    {
     "data": {
      "image/png": "[encoded data removed]",
      "text/plain": [
       "<Figure size 432x288 with 1 Axes>"
      ]
     },
     "metadata": {
      "needs_background": "light"
     },
     "output_type": "display_data"
    },
    {
     "data": {
      "image/png": "[encoded data removed]",
      "text/plain": [
       "<Figure size 432x288 with 1 Axes>"
      ]
     },
     "metadata": {
      "needs_background": "light"
     },
     "output_type": "display_data"
    }
   ],
   "source": [
    "post_processor_surrogate = ModifiedPendulumProcessor(surrogate=True)\n",
    "\n",
    "def adjust_rewards_surrogate(reward, state, action):    \n",
    "    observation, reward, done, info = post_processor_surrogate.process_step(state, reward, None, None, action)\n",
    "    return reward\n",
    "\n",
    "plot_mean_q_values(adjust_rewards_surrogate)\n",
    "\n",
    "print(post_processor_surrogate.cmat)\n",
    "print(post_processor_surrogate.r_sets)\n",
    "print('Estimated confusion matrix:')\n",
    "print(np.around(post_processor_surrogate.C, decimals=4))"
   ]
  },
  {
   "cell_type": "markdown",
   "metadata": {},
   "source": [
    "# Sanity check"
   ]
  },
  {
   "cell_type": "code",
   "execution_count": 29,
   "metadata": {},
   "outputs": [
    {
     "name": "stdout",
     "output_type": "stream",
     "text": [
      "Accuracy should be higher, timesteps should be lower\n"
     ]
    },
    {
     "name": "stderr",
     "output_type": "stream",
     "text": [
      "100%|██████████| 100/100 [00:00<00:00, 588.52it/s]\n"
     ]
    },
    {
     "name": "stdout",
     "output_type": "stream",
     "text": [
      "51.0 96.78\n"
     ]
    },
    {
     "name": "stderr",
     "output_type": "stream",
     "text": [
      "100%|██████████| 100/100 [00:02<00:00, 33.74it/s]"
     ]
    },
    {
     "name": "stdout",
     "output_type": "stream",
     "text": [
      "47.0 81.66\n"
     ]
    },
    {
     "name": "stderr",
     "output_type": "stream",
     "text": [
      "\n"
     ]
    }
   ],
   "source": [
    "max_steps = 120\n",
    "num_episodes = 100\n",
    "\n",
    "print('Accuracy should be higher, timesteps should be lower')\n",
    "\n",
    "post_processor_noisy = ModifiedPendulumProcessor(surrogate=False)\n",
    "\n",
    "def adjust_rewards_noisy(reward, state, action):    \n",
    "    observation, reward, done, info = post_processor_noisy.process_step(state, reward, None, None, action)\n",
    "    return reward\n",
    "\n",
    "q_values_all_experiments, rewards_all_experiments, episode_lengths, selected_actions, accuracy = qLearningExperiment(adjust_rewards_noisy, params={'plots': False})\n",
    "mean_episode_length = np.mean(episode_lengths)\n",
    "print(accuracy, mean_episode_length) \n",
    "\n",
    "post_processor_surrogate = ModifiedPendulumProcessor(surrogate=True)\n",
    "\n",
    "def adjust_rewards_surrogate(reward, state, action):    \n",
    "    observation, reward, done, info = post_processor_surrogate.process_step(state, reward, None, None, action)\n",
    "    return reward\n",
    "\n",
    "q_values_all_experiments, rewards_all_experiments, episode_lengths, selected_actions, accuracy = qLearningExperiment(adjust_rewards_surrogate, params={'plots': False})\n",
    "mean_episode_length = np.mean(episode_lengths)\n",
    "print(accuracy, mean_episode_length) "
   ]
  },
  {
   "cell_type": "markdown",
   "metadata": {},
   "source": [
    "# Bayesian optimization"
   ]
  },
  {
   "cell_type": "code",
   "execution_count": null,
   "metadata": {},
   "outputs": [],
   "source": [
    "# !pip install bayesian-optimization"
   ]
  },
  {
   "cell_type": "code",
   "execution_count": 30,
   "metadata": {},
   "outputs": [
    {
     "name": "stdout",
     "output_type": "stream",
     "text": [
      "|   iter    |  target   |   alpha   | alpha_... | alpha_min |  epsilon  | epsilo... | epsilo... |   gamma   |\n",
      "-------------------------------------------------------------------------------------------------------------\n"
     ]
    },
    {
     "name": "stderr",
     "output_type": "stream",
     "text": [
      " 58%|█████▊    | 58/100 [00:08<00:06,  6.54it/s]\n"
     ]
    },
    {
     "ename": "KeyboardInterrupt",
     "evalue": "",
     "output_type": "error",
     "traceback": [
      "\u001b[0;31m---------------------------------------------------------------------------\u001b[0m",
      "\u001b[0;31mKeyboardInterrupt\u001b[0m                         Traceback (most recent call last)",
      "\u001b[1;32m/Users/schnuckiputz/other/git/2022-CHI-neuroadaptive-haptics/neuro_haptics/aleks/run_experiment_notebook_stateless.ipynb Cell 31\u001b[0m line \u001b[0;36m<module>\u001b[0;34m\u001b[0m\n\u001b[1;32m     <a href='vscode-notebook-cell:/Users/schnuckiputz/other/git/2022-CHI-neuroadaptive-haptics/neuro_haptics/aleks/run_experiment_notebook_stateless.ipynb#X42sZmlsZQ%3D%3D?line=41'>42</a>\u001b[0m optimizer \u001b[39m=\u001b[39m BayesianOptimization(\n\u001b[1;32m     <a href='vscode-notebook-cell:/Users/schnuckiputz/other/git/2022-CHI-neuroadaptive-haptics/neuro_haptics/aleks/run_experiment_notebook_stateless.ipynb#X42sZmlsZQ%3D%3D?line=42'>43</a>\u001b[0m     f\u001b[39m=\u001b[39mobjective,\n\u001b[1;32m     <a href='vscode-notebook-cell:/Users/schnuckiputz/other/git/2022-CHI-neuroadaptive-haptics/neuro_haptics/aleks/run_experiment_notebook_stateless.ipynb#X42sZmlsZQ%3D%3D?line=43'>44</a>\u001b[0m     pbounds\u001b[39m=\u001b[39m{\n\u001b[0;32m   (...)\u001b[0m\n\u001b[1;32m     <a href='vscode-notebook-cell:/Users/schnuckiputz/other/git/2022-CHI-neuroadaptive-haptics/neuro_haptics/aleks/run_experiment_notebook_stateless.ipynb#X42sZmlsZQ%3D%3D?line=52'>53</a>\u001b[0m     random_state\u001b[39m=\u001b[39m\u001b[39m1\u001b[39m,\n\u001b[1;32m     <a href='vscode-notebook-cell:/Users/schnuckiputz/other/git/2022-CHI-neuroadaptive-haptics/neuro_haptics/aleks/run_experiment_notebook_stateless.ipynb#X42sZmlsZQ%3D%3D?line=53'>54</a>\u001b[0m )\n\u001b[1;32m     <a href='vscode-notebook-cell:/Users/schnuckiputz/other/git/2022-CHI-neuroadaptive-haptics/neuro_haptics/aleks/run_experiment_notebook_stateless.ipynb#X42sZmlsZQ%3D%3D?line=55'>56</a>\u001b[0m \u001b[39m# n_iter: How many steps of bayesian optimization you want to perform. \u001b[39;00m\n\u001b[1;32m     <a href='vscode-notebook-cell:/Users/schnuckiputz/other/git/2022-CHI-neuroadaptive-haptics/neuro_haptics/aleks/run_experiment_notebook_stateless.ipynb#X42sZmlsZQ%3D%3D?line=56'>57</a>\u001b[0m \u001b[39m# The more steps the more likely to find a good maximum you are.\u001b[39;00m\n\u001b[1;32m     <a href='vscode-notebook-cell:/Users/schnuckiputz/other/git/2022-CHI-neuroadaptive-haptics/neuro_haptics/aleks/run_experiment_notebook_stateless.ipynb#X42sZmlsZQ%3D%3D?line=57'>58</a>\u001b[0m \u001b[39m# init_points: How many steps of random exploration you want to perform.\u001b[39;00m\n\u001b[1;32m     <a href='vscode-notebook-cell:/Users/schnuckiputz/other/git/2022-CHI-neuroadaptive-haptics/neuro_haptics/aleks/run_experiment_notebook_stateless.ipynb#X42sZmlsZQ%3D%3D?line=58'>59</a>\u001b[0m \u001b[39m# Random exploration can help by diversifying the exploration space.\u001b[39;00m\n\u001b[0;32m---> <a href='vscode-notebook-cell:/Users/schnuckiputz/other/git/2022-CHI-neuroadaptive-haptics/neuro_haptics/aleks/run_experiment_notebook_stateless.ipynb#X42sZmlsZQ%3D%3D?line=59'>60</a>\u001b[0m optimizer\u001b[39m.\u001b[39;49mmaximize(\n\u001b[1;32m     <a href='vscode-notebook-cell:/Users/schnuckiputz/other/git/2022-CHI-neuroadaptive-haptics/neuro_haptics/aleks/run_experiment_notebook_stateless.ipynb#X42sZmlsZQ%3D%3D?line=60'>61</a>\u001b[0m     init_points\u001b[39m=\u001b[39;49m\u001b[39m10\u001b[39;49m,\n\u001b[1;32m     <a href='vscode-notebook-cell:/Users/schnuckiputz/other/git/2022-CHI-neuroadaptive-haptics/neuro_haptics/aleks/run_experiment_notebook_stateless.ipynb#X42sZmlsZQ%3D%3D?line=61'>62</a>\u001b[0m     n_iter\u001b[39m=\u001b[39;49m\u001b[39m10\u001b[39;49m,\n\u001b[1;32m     <a href='vscode-notebook-cell:/Users/schnuckiputz/other/git/2022-CHI-neuroadaptive-haptics/neuro_haptics/aleks/run_experiment_notebook_stateless.ipynb#X42sZmlsZQ%3D%3D?line=62'>63</a>\u001b[0m )\n\u001b[1;32m     <a href='vscode-notebook-cell:/Users/schnuckiputz/other/git/2022-CHI-neuroadaptive-haptics/neuro_haptics/aleks/run_experiment_notebook_stateless.ipynb#X42sZmlsZQ%3D%3D?line=64'>65</a>\u001b[0m best_params \u001b[39m=\u001b[39m optimizer\u001b[39m.\u001b[39mmax[\u001b[39m'\u001b[39m\u001b[39mparams\u001b[39m\u001b[39m'\u001b[39m]\n\u001b[1;32m     <a href='vscode-notebook-cell:/Users/schnuckiputz/other/git/2022-CHI-neuroadaptive-haptics/neuro_haptics/aleks/run_experiment_notebook_stateless.ipynb#X42sZmlsZQ%3D%3D?line=66'>67</a>\u001b[0m \u001b[39mprint\u001b[39m(optimizer\u001b[39m.\u001b[39mmax)\n",
      "File \u001b[0;32m/opt/homebrew/Caskroom/miniforge/base/lib/python3.9/site-packages/bayes_opt/bayesian_optimization.py:310\u001b[0m, in \u001b[0;36mBayesianOptimization.maximize\u001b[0;34m(self, init_points, n_iter, acquisition_function, acq, kappa, kappa_decay, kappa_decay_delay, xi, **gp_params)\u001b[0m\n\u001b[1;32m    308\u001b[0m     x_probe \u001b[39m=\u001b[39m \u001b[39mself\u001b[39m\u001b[39m.\u001b[39msuggest(util)\n\u001b[1;32m    309\u001b[0m     iteration \u001b[39m+\u001b[39m\u001b[39m=\u001b[39m \u001b[39m1\u001b[39m\n\u001b[0;32m--> 310\u001b[0m \u001b[39mself\u001b[39;49m\u001b[39m.\u001b[39;49mprobe(x_probe, lazy\u001b[39m=\u001b[39;49m\u001b[39mFalse\u001b[39;49;00m)\n\u001b[1;32m    312\u001b[0m \u001b[39mif\u001b[39;00m \u001b[39mself\u001b[39m\u001b[39m.\u001b[39m_bounds_transformer \u001b[39mand\u001b[39;00m iteration \u001b[39m>\u001b[39m \u001b[39m0\u001b[39m:\n\u001b[1;32m    313\u001b[0m     \u001b[39m# The bounds transformer should only modify the bounds after\u001b[39;00m\n\u001b[1;32m    314\u001b[0m     \u001b[39m# the init_points points (only for the true iterations)\u001b[39;00m\n\u001b[1;32m    315\u001b[0m     \u001b[39mself\u001b[39m\u001b[39m.\u001b[39mset_bounds(\n\u001b[1;32m    316\u001b[0m         \u001b[39mself\u001b[39m\u001b[39m.\u001b[39m_bounds_transformer\u001b[39m.\u001b[39mtransform(\u001b[39mself\u001b[39m\u001b[39m.\u001b[39m_space))\n",
      "File \u001b[0;32m/opt/homebrew/Caskroom/miniforge/base/lib/python3.9/site-packages/bayes_opt/bayesian_optimization.py:208\u001b[0m, in \u001b[0;36mBayesianOptimization.probe\u001b[0;34m(self, params, lazy)\u001b[0m\n\u001b[1;32m    206\u001b[0m     \u001b[39mself\u001b[39m\u001b[39m.\u001b[39m_queue\u001b[39m.\u001b[39madd(params)\n\u001b[1;32m    207\u001b[0m \u001b[39melse\u001b[39;00m:\n\u001b[0;32m--> 208\u001b[0m     \u001b[39mself\u001b[39;49m\u001b[39m.\u001b[39;49m_space\u001b[39m.\u001b[39;49mprobe(params)\n\u001b[1;32m    209\u001b[0m     \u001b[39mself\u001b[39m\u001b[39m.\u001b[39mdispatch(Events\u001b[39m.\u001b[39mOPTIMIZATION_STEP)\n",
      "File \u001b[0;32m/opt/homebrew/Caskroom/miniforge/base/lib/python3.9/site-packages/bayes_opt/target_space.py:236\u001b[0m, in \u001b[0;36mTargetSpace.probe\u001b[0;34m(self, params)\u001b[0m\n\u001b[1;32m    234\u001b[0m x \u001b[39m=\u001b[39m \u001b[39mself\u001b[39m\u001b[39m.\u001b[39m_as_array(params)\n\u001b[1;32m    235\u001b[0m params \u001b[39m=\u001b[39m \u001b[39mdict\u001b[39m(\u001b[39mzip\u001b[39m(\u001b[39mself\u001b[39m\u001b[39m.\u001b[39m_keys, x))\n\u001b[0;32m--> 236\u001b[0m target \u001b[39m=\u001b[39m \u001b[39mself\u001b[39;49m\u001b[39m.\u001b[39;49mtarget_func(\u001b[39m*\u001b[39;49m\u001b[39m*\u001b[39;49mparams)\n\u001b[1;32m    238\u001b[0m \u001b[39mif\u001b[39;00m \u001b[39mself\u001b[39m\u001b[39m.\u001b[39m_constraint \u001b[39mis\u001b[39;00m \u001b[39mNone\u001b[39;00m:\n\u001b[1;32m    239\u001b[0m     \u001b[39mself\u001b[39m\u001b[39m.\u001b[39mregister(x, target)\n",
      "\u001b[1;32m/Users/schnuckiputz/other/git/2022-CHI-neuroadaptive-haptics/neuro_haptics/aleks/run_experiment_notebook_stateless.ipynb Cell 31\u001b[0m line \u001b[0;36mobjective\u001b[0;34m(alpha, alpha_decay, alpha_min, epsilon, epsilon_decay, epsilon_min, gamma)\u001b[0m\n\u001b[1;32m     <a href='vscode-notebook-cell:/Users/schnuckiputz/other/git/2022-CHI-neuroadaptive-haptics/neuro_haptics/aleks/run_experiment_notebook_stateless.ipynb#X42sZmlsZQ%3D%3D?line=24'>25</a>\u001b[0m params \u001b[39m=\u001b[39m {\n\u001b[1;32m     <a href='vscode-notebook-cell:/Users/schnuckiputz/other/git/2022-CHI-neuroadaptive-haptics/neuro_haptics/aleks/run_experiment_notebook_stateless.ipynb#X42sZmlsZQ%3D%3D?line=25'>26</a>\u001b[0m     \u001b[39m'\u001b[39m\u001b[39malpha\u001b[39m\u001b[39m'\u001b[39m: alpha, \n\u001b[1;32m     <a href='vscode-notebook-cell:/Users/schnuckiputz/other/git/2022-CHI-neuroadaptive-haptics/neuro_haptics/aleks/run_experiment_notebook_stateless.ipynb#X42sZmlsZQ%3D%3D?line=26'>27</a>\u001b[0m     \u001b[39m'\u001b[39m\u001b[39malpha_decay\u001b[39m\u001b[39m'\u001b[39m: alpha_decay,\n\u001b[0;32m   (...)\u001b[0m\n\u001b[1;32m     <a href='vscode-notebook-cell:/Users/schnuckiputz/other/git/2022-CHI-neuroadaptive-haptics/neuro_haptics/aleks/run_experiment_notebook_stateless.ipynb#X42sZmlsZQ%3D%3D?line=32'>33</a>\u001b[0m     \u001b[39m'\u001b[39m\u001b[39mplots\u001b[39m\u001b[39m'\u001b[39m: \u001b[39mFalse\u001b[39;00m,    \n\u001b[1;32m     <a href='vscode-notebook-cell:/Users/schnuckiputz/other/git/2022-CHI-neuroadaptive-haptics/neuro_haptics/aleks/run_experiment_notebook_stateless.ipynb#X42sZmlsZQ%3D%3D?line=33'>34</a>\u001b[0m }\n\u001b[1;32m     <a href='vscode-notebook-cell:/Users/schnuckiputz/other/git/2022-CHI-neuroadaptive-haptics/neuro_haptics/aleks/run_experiment_notebook_stateless.ipynb#X42sZmlsZQ%3D%3D?line=34'>35</a>\u001b[0m \u001b[39m# _, _, _, _, accuracy = qLearningExperiment(adjust_rewards_surrogate, params=params)\u001b[39;00m\n\u001b[0;32m---> <a href='vscode-notebook-cell:/Users/schnuckiputz/other/git/2022-CHI-neuroadaptive-haptics/neuro_haptics/aleks/run_experiment_notebook_stateless.ipynb#X42sZmlsZQ%3D%3D?line=35'>36</a>\u001b[0m q_values_all_experiments, rewards_all_experiments, episode_lengths, selected_actions, accuracy \u001b[39m=\u001b[39m qLearningExperiment(adjust_rewards_surrogate, params\u001b[39m=\u001b[39;49mparams)\n\u001b[1;32m     <a href='vscode-notebook-cell:/Users/schnuckiputz/other/git/2022-CHI-neuroadaptive-haptics/neuro_haptics/aleks/run_experiment_notebook_stateless.ipynb#X42sZmlsZQ%3D%3D?line=37'>38</a>\u001b[0m \u001b[39mreturn\u001b[39;00m accuracy\n",
      "\u001b[1;32m/Users/schnuckiputz/other/git/2022-CHI-neuroadaptive-haptics/neuro_haptics/aleks/run_experiment_notebook_stateless.ipynb Cell 31\u001b[0m line \u001b[0;36mqLearningExperiment\u001b[0;34m(difference_fn, learner, params)\u001b[0m\n\u001b[1;32m      <a href='vscode-notebook-cell:/Users/schnuckiputz/other/git/2022-CHI-neuroadaptive-haptics/neuro_haptics/aleks/run_experiment_notebook_stateless.ipynb#X42sZmlsZQ%3D%3D?line=5'>6</a>\u001b[0m episode_lengths \u001b[39m=\u001b[39m []\n\u001b[1;32m      <a href='vscode-notebook-cell:/Users/schnuckiputz/other/git/2022-CHI-neuroadaptive-haptics/neuro_haptics/aleks/run_experiment_notebook_stateless.ipynb#X42sZmlsZQ%3D%3D?line=6'>7</a>\u001b[0m selected_actions \u001b[39m=\u001b[39m []\n\u001b[0;32m----> <a href='vscode-notebook-cell:/Users/schnuckiputz/other/git/2022-CHI-neuroadaptive-haptics/neuro_haptics/aleks/run_experiment_notebook_stateless.ipynb#X42sZmlsZQ%3D%3D?line=8'>9</a>\u001b[0m \u001b[39mfor\u001b[39;00m i \u001b[39min\u001b[39;00m tqdm(\u001b[39mrange\u001b[39m(num_episodes)):\n\u001b[1;32m     <a href='vscode-notebook-cell:/Users/schnuckiputz/other/git/2022-CHI-neuroadaptive-haptics/neuro_haptics/aleks/run_experiment_notebook_stateless.ipynb#X42sZmlsZQ%3D%3D?line=9'>10</a>\u001b[0m     \u001b[39m# TODO: .reset() instead of re-creating?\u001b[39;00m\n\u001b[1;32m     <a href='vscode-notebook-cell:/Users/schnuckiputz/other/git/2022-CHI-neuroadaptive-haptics/neuro_haptics/aleks/run_experiment_notebook_stateless.ipynb#X42sZmlsZQ%3D%3D?line=10'>11</a>\u001b[0m     agent \u001b[39m=\u001b[39m UCBQAgent(params\u001b[39m=\u001b[39mparams) \u001b[39mif\u001b[39;00m learner \u001b[39mis\u001b[39;00m \u001b[39mNone\u001b[39;00m \u001b[39melse\u001b[39;00m learner\n\u001b[1;32m     <a href='vscode-notebook-cell:/Users/schnuckiputz/other/git/2022-CHI-neuroadaptive-haptics/neuro_haptics/aleks/run_experiment_notebook_stateless.ipynb#X42sZmlsZQ%3D%3D?line=11'>12</a>\u001b[0m     env \u001b[39m=\u001b[39m ModifiedRandomEnvironment(correct_action\u001b[39m=\u001b[39mcorrect_action)\n",
      "File \u001b[0;32m/opt/homebrew/Caskroom/miniforge/base/lib/python3.9/site-packages/tqdm/std.py:1190\u001b[0m, in \u001b[0;36mtqdm.__iter__\u001b[0;34m(self)\u001b[0m\n\u001b[1;32m   1188\u001b[0m dt \u001b[39m=\u001b[39m cur_t \u001b[39m-\u001b[39m last_print_t\n\u001b[1;32m   1189\u001b[0m \u001b[39mif\u001b[39;00m dt \u001b[39m>\u001b[39m\u001b[39m=\u001b[39m mininterval \u001b[39mand\u001b[39;00m cur_t \u001b[39m>\u001b[39m\u001b[39m=\u001b[39m min_start_t:\n\u001b[0;32m-> 1190\u001b[0m     \u001b[39mself\u001b[39;49m\u001b[39m.\u001b[39;49mupdate(n \u001b[39m-\u001b[39;49m last_print_n)\n\u001b[1;32m   1191\u001b[0m     last_print_n \u001b[39m=\u001b[39m \u001b[39mself\u001b[39m\u001b[39m.\u001b[39mlast_print_n\n\u001b[1;32m   1192\u001b[0m     last_print_t \u001b[39m=\u001b[39m \u001b[39mself\u001b[39m\u001b[39m.\u001b[39mlast_print_t\n",
      "File \u001b[0;32m/opt/homebrew/Caskroom/miniforge/base/lib/python3.9/site-packages/tqdm/std.py:1241\u001b[0m, in \u001b[0;36mtqdm.update\u001b[0;34m(self, n)\u001b[0m\n\u001b[1;32m   1239\u001b[0m     \u001b[39mself\u001b[39m\u001b[39m.\u001b[39m_ema_dn(dn)\n\u001b[1;32m   1240\u001b[0m     \u001b[39mself\u001b[39m\u001b[39m.\u001b[39m_ema_dt(dt)\n\u001b[0;32m-> 1241\u001b[0m \u001b[39mself\u001b[39;49m\u001b[39m.\u001b[39;49mrefresh(lock_args\u001b[39m=\u001b[39;49m\u001b[39mself\u001b[39;49m\u001b[39m.\u001b[39;49mlock_args)\n\u001b[1;32m   1242\u001b[0m \u001b[39mif\u001b[39;00m \u001b[39mself\u001b[39m\u001b[39m.\u001b[39mdynamic_miniters:\n\u001b[1;32m   1243\u001b[0m     \u001b[39m# If no `miniters` was specified, adjust automatically to the\u001b[39;00m\n\u001b[1;32m   1244\u001b[0m     \u001b[39m# maximum iteration rate seen so far between two prints.\u001b[39;00m\n\u001b[1;32m   1245\u001b[0m     \u001b[39m# e.g.: After running `tqdm.update(5)`, subsequent\u001b[39;00m\n\u001b[1;32m   1246\u001b[0m     \u001b[39m# calls to `tqdm.update()` will only cause an update after\u001b[39;00m\n\u001b[1;32m   1247\u001b[0m     \u001b[39m# at least 5 more iterations.\u001b[39;00m\n\u001b[1;32m   1248\u001b[0m     \u001b[39mif\u001b[39;00m \u001b[39mself\u001b[39m\u001b[39m.\u001b[39mmaxinterval \u001b[39mand\u001b[39;00m dt \u001b[39m>\u001b[39m\u001b[39m=\u001b[39m \u001b[39mself\u001b[39m\u001b[39m.\u001b[39mmaxinterval:\n",
      "File \u001b[0;32m/opt/homebrew/Caskroom/miniforge/base/lib/python3.9/site-packages/tqdm/std.py:1346\u001b[0m, in \u001b[0;36mtqdm.refresh\u001b[0;34m(self, nolock, lock_args)\u001b[0m\n\u001b[1;32m   1344\u001b[0m     \u001b[39melse\u001b[39;00m:\n\u001b[1;32m   1345\u001b[0m         \u001b[39mself\u001b[39m\u001b[39m.\u001b[39m_lock\u001b[39m.\u001b[39macquire()\n\u001b[0;32m-> 1346\u001b[0m \u001b[39mself\u001b[39;49m\u001b[39m.\u001b[39;49mdisplay()\n\u001b[1;32m   1347\u001b[0m \u001b[39mif\u001b[39;00m \u001b[39mnot\u001b[39;00m nolock:\n\u001b[1;32m   1348\u001b[0m     \u001b[39mself\u001b[39m\u001b[39m.\u001b[39m_lock\u001b[39m.\u001b[39mrelease()\n",
      "File \u001b[0;32m/opt/homebrew/Caskroom/miniforge/base/lib/python3.9/site-packages/tqdm/std.py:1494\u001b[0m, in \u001b[0;36mtqdm.display\u001b[0;34m(self, msg, pos)\u001b[0m\n\u001b[1;32m   1492\u001b[0m \u001b[39mif\u001b[39;00m pos:\n\u001b[1;32m   1493\u001b[0m     \u001b[39mself\u001b[39m\u001b[39m.\u001b[39mmoveto(pos)\n\u001b[0;32m-> 1494\u001b[0m \u001b[39mself\u001b[39;49m\u001b[39m.\u001b[39;49msp(\u001b[39mself\u001b[39;49m\u001b[39m.\u001b[39;49m\u001b[39m__str__\u001b[39;49m() \u001b[39mif\u001b[39;49;00m msg \u001b[39mis\u001b[39;49;00m \u001b[39mNone\u001b[39;49;00m \u001b[39melse\u001b[39;49;00m msg)\n\u001b[1;32m   1495\u001b[0m \u001b[39mif\u001b[39;00m pos:\n\u001b[1;32m   1496\u001b[0m     \u001b[39mself\u001b[39m\u001b[39m.\u001b[39mmoveto(\u001b[39m-\u001b[39mpos)\n",
      "File \u001b[0;32m/opt/homebrew/Caskroom/miniforge/base/lib/python3.9/site-packages/tqdm/std.py:350\u001b[0m, in \u001b[0;36mtqdm.status_printer.<locals>.print_status\u001b[0;34m(s)\u001b[0m\n\u001b[1;32m    348\u001b[0m \u001b[39mdef\u001b[39;00m \u001b[39mprint_status\u001b[39m(s):\n\u001b[1;32m    349\u001b[0m     len_s \u001b[39m=\u001b[39m disp_len(s)\n\u001b[0;32m--> 350\u001b[0m     fp_write(\u001b[39m'\u001b[39;49m\u001b[39m\\r\u001b[39;49;00m\u001b[39m'\u001b[39;49m \u001b[39m+\u001b[39;49m s \u001b[39m+\u001b[39;49m (\u001b[39m'\u001b[39;49m\u001b[39m \u001b[39;49m\u001b[39m'\u001b[39;49m \u001b[39m*\u001b[39;49m \u001b[39mmax\u001b[39;49m(last_len[\u001b[39m0\u001b[39;49m] \u001b[39m-\u001b[39;49m len_s, \u001b[39m0\u001b[39;49m)))\n\u001b[1;32m    351\u001b[0m     last_len[\u001b[39m0\u001b[39m] \u001b[39m=\u001b[39m len_s\n",
      "File \u001b[0;32m/opt/homebrew/Caskroom/miniforge/base/lib/python3.9/site-packages/tqdm/std.py:344\u001b[0m, in \u001b[0;36mtqdm.status_printer.<locals>.fp_write\u001b[0;34m(s)\u001b[0m\n\u001b[1;32m    342\u001b[0m \u001b[39mdef\u001b[39;00m \u001b[39mfp_write\u001b[39m(s):\n\u001b[1;32m    343\u001b[0m     fp\u001b[39m.\u001b[39mwrite(_unicode(s))\n\u001b[0;32m--> 344\u001b[0m     fp_flush()\n",
      "File \u001b[0;32m/opt/homebrew/Caskroom/miniforge/base/lib/python3.9/site-packages/tqdm/utils.py:145\u001b[0m, in \u001b[0;36mDisableOnWriteError.disable_on_exception.<locals>.inner\u001b[0;34m(*args, **kwargs)\u001b[0m\n\u001b[1;32m    143\u001b[0m \u001b[39mdef\u001b[39;00m \u001b[39minner\u001b[39m(\u001b[39m*\u001b[39margs, \u001b[39m*\u001b[39m\u001b[39m*\u001b[39mkwargs):\n\u001b[1;32m    144\u001b[0m     \u001b[39mtry\u001b[39;00m:\n\u001b[0;32m--> 145\u001b[0m         \u001b[39mreturn\u001b[39;00m func(\u001b[39m*\u001b[39;49margs, \u001b[39m*\u001b[39;49m\u001b[39m*\u001b[39;49mkwargs)\n\u001b[1;32m    146\u001b[0m     \u001b[39mexcept\u001b[39;00m \u001b[39mOSError\u001b[39;00m \u001b[39mas\u001b[39;00m e:\n\u001b[1;32m    147\u001b[0m         \u001b[39mif\u001b[39;00m e\u001b[39m.\u001b[39merrno \u001b[39m!=\u001b[39m \u001b[39m5\u001b[39m:\n",
      "File \u001b[0;32m/opt/homebrew/Caskroom/miniforge/base/lib/python3.9/site-packages/ipykernel/iostream.py:466\u001b[0m, in \u001b[0;36mOutStream.flush\u001b[0;34m(self)\u001b[0m\n\u001b[1;32m    464\u001b[0m         \u001b[39mself\u001b[39m\u001b[39m.\u001b[39mpub_thread\u001b[39m.\u001b[39mschedule(evt\u001b[39m.\u001b[39mset)\n\u001b[1;32m    465\u001b[0m         \u001b[39m# and give a timeout to avoid\u001b[39;00m\n\u001b[0;32m--> 466\u001b[0m         \u001b[39mif\u001b[39;00m \u001b[39mnot\u001b[39;00m evt\u001b[39m.\u001b[39;49mwait(\u001b[39mself\u001b[39;49m\u001b[39m.\u001b[39;49mflush_timeout):\n\u001b[1;32m    467\u001b[0m             \u001b[39m# write directly to __stderr__ instead of warning because\u001b[39;00m\n\u001b[1;32m    468\u001b[0m             \u001b[39m# if this is happening sys.stderr may be the problem.\u001b[39;00m\n\u001b[1;32m    469\u001b[0m             \u001b[39mprint\u001b[39m(\u001b[39m\"\u001b[39m\u001b[39mIOStream.flush timed out\u001b[39m\u001b[39m\"\u001b[39m, file\u001b[39m=\u001b[39msys\u001b[39m.\u001b[39m__stderr__)\n\u001b[1;32m    470\u001b[0m \u001b[39melse\u001b[39;00m:\n",
      "File \u001b[0;32m/opt/homebrew/Caskroom/miniforge/base/lib/python3.9/threading.py:574\u001b[0m, in \u001b[0;36mEvent.wait\u001b[0;34m(self, timeout)\u001b[0m\n\u001b[1;32m    572\u001b[0m signaled \u001b[39m=\u001b[39m \u001b[39mself\u001b[39m\u001b[39m.\u001b[39m_flag\n\u001b[1;32m    573\u001b[0m \u001b[39mif\u001b[39;00m \u001b[39mnot\u001b[39;00m signaled:\n\u001b[0;32m--> 574\u001b[0m     signaled \u001b[39m=\u001b[39m \u001b[39mself\u001b[39;49m\u001b[39m.\u001b[39;49m_cond\u001b[39m.\u001b[39;49mwait(timeout)\n\u001b[1;32m    575\u001b[0m \u001b[39mreturn\u001b[39;00m signaled\n",
      "File \u001b[0;32m/opt/homebrew/Caskroom/miniforge/base/lib/python3.9/threading.py:316\u001b[0m, in \u001b[0;36mCondition.wait\u001b[0;34m(self, timeout)\u001b[0m\n\u001b[1;32m    314\u001b[0m \u001b[39melse\u001b[39;00m:\n\u001b[1;32m    315\u001b[0m     \u001b[39mif\u001b[39;00m timeout \u001b[39m>\u001b[39m \u001b[39m0\u001b[39m:\n\u001b[0;32m--> 316\u001b[0m         gotit \u001b[39m=\u001b[39m waiter\u001b[39m.\u001b[39;49macquire(\u001b[39mTrue\u001b[39;49;00m, timeout)\n\u001b[1;32m    317\u001b[0m     \u001b[39melse\u001b[39;00m:\n\u001b[1;32m    318\u001b[0m         gotit \u001b[39m=\u001b[39m waiter\u001b[39m.\u001b[39macquire(\u001b[39mFalse\u001b[39;00m)\n",
      "\u001b[0;31mKeyboardInterrupt\u001b[0m: "
     ]
    }
   ],
   "source": [
    "max_steps = 120\n",
    "num_episodes = 100\n",
    "\n",
    "from bayes_opt import BayesianOptimization\n",
    "\n",
    "def objective(\n",
    "        alpha,\n",
    "        alpha_decay,\n",
    "        alpha_min,\n",
    "        epsilon,\n",
    "        epsilon_decay,\n",
    "        epsilon_min,\n",
    "        gamma,\n",
    "        ):\n",
    "    # 'alpha': [0, 1.0],\n",
    "    # # 'alpha_decay'\n",
    "    # 'epsilon': [0, 1.0],\n",
    "    # # 'epsilon_decay': [0.1, 1.0],\n",
    "    # # 'gamma'\n",
    "    # 'epsilon_decay': [10, 20, 40, 80],\n",
    "    # # 'surrogate_c_interval': [1, 2, 5, 10, 20, 40]\n",
    "    # # 'surrogate_lr'    \n",
    "    # convergence_number_of_consequent_actions\n",
    "    # intial_q_values: [0, -7]\n",
    "    params = {\n",
    "        'alpha': alpha, \n",
    "        'alpha_decay': alpha_decay,\n",
    "        'alpha_min': alpha_min,\n",
    "        'epsilon': epsilon, \n",
    "        'epsilon_decay': epsilon_decay,\n",
    "        'epsilon_min': epsilon_min,\n",
    "        'gamma': gamma,\n",
    "        'plots': False,    \n",
    "    }\n",
    "    # _, _, _, _, accuracy = qLearningExperiment(adjust_rewards_surrogate, params=params)\n",
    "    q_values_all_experiments, rewards_all_experiments, episode_lengths, selected_actions, accuracy = qLearningExperiment(adjust_rewards_surrogate, params=params)\n",
    "\n",
    "    return accuracy\n",
    "    # mean_episode_length = np.mean(episode_lengths)\n",
    "    # return -mean_episode_length\n",
    "\n",
    "optimizer = BayesianOptimization(\n",
    "    f=objective,\n",
    "    pbounds={\n",
    "        'alpha': (0, 1), \n",
    "        'alpha_decay': (10, 80),\n",
    "        'alpha_min': (0, 1),\n",
    "        'epsilon': (0, 1), \n",
    "        'epsilon_decay': (10, 80),\n",
    "        'epsilon_min': (0, 1),\n",
    "        'gamma': (0, 1),\n",
    "        },\n",
    "    random_state=1,\n",
    ")\n",
    "\n",
    "# n_iter: How many steps of bayesian optimization you want to perform. \n",
    "# The more steps the more likely to find a good maximum you are.\n",
    "# init_points: How many steps of random exploration you want to perform.\n",
    "# Random exploration can help by diversifying the exploration space.\n",
    "optimizer.maximize(\n",
    "    init_points=10,\n",
    "    n_iter=10,\n",
    ")\n",
    "\n",
    "best_params = optimizer.max['params']\n",
    "\n",
    "print(optimizer.max)"
   ]
  },
  {
   "cell_type": "markdown",
   "metadata": {},
   "source": [
    "# TODO"
   ]
  },
  {
   "cell_type": "code",
   "execution_count": null,
   "metadata": {},
   "outputs": [],
   "source": [
    "import numpy as np\n",
    "from bayes_opt import BayesianOptimization\n",
    "from pymoo.optimize import minimize\n",
    "from pymoo.util import plotting\n",
    "from pymoo.model.problem import Problem\n",
    "\n",
    "max_steps = 120\n",
    "num_episodes = 100\n",
    "\n",
    "class QLearningProblem(Problem):\n",
    "    def __init__(self):\n",
    "        super().__init__(n_var=3, n_obj=2, n_constr=0, xl=np.array([0, 0, 10]), xu=np.array([1, 1, 80]))\n",
    "    \n",
    "    def _evaluate(self, X, out, *args, **kwargs):\n",
    "        alpha, epsilon, epsilon_decay = X\n",
    "\n",
    "        # Run your Q-learning experiment with given parameters\n",
    "        params = {'alpha': alpha, 'epsilon': epsilon, 'epsilon_decay': epsilon_decay}\n",
    "        q_values_all_experiments, _, episode_lengths, _, accuracy = qLearningExperiment(adjust_rewards_surrogate, params=params)\n",
    "\n",
    "        # Maximize accuracy\n",
    "        out[\"F\"] = [-accuracy, -np.mean(episode_lengths)]\n",
    "\n",
    "problem = QLearningProblem()\n",
    "\n",
    "algorithm = minimize(\n",
    "    algorithm=\"nsga2\",\n",
    "    problem=problem,\n",
    "    termination=(\"n_gen\", 20),  # Adjust the number of generations as needed\n",
    "    save_history=True,\n",
    "    verbose=True,\n",
    ")\n",
    "\n",
    "# Get the best solution from the Pareto front\n",
    "best_solution = algorithm.result[0]\n",
    "\n",
    "best_alpha, best_epsilon, best_epsilon_decay = best_solution.X\n",
    "\n",
    "print(f\"Best alpha: {best_alpha}\")\n",
    "print(f\"Best epsilon: {best_epsilon}\")\n",
    "print(f\"Best epsilon_decay: {best_epsilon_decay}\")\n",
    "print(f\"Best accuracy: {-best_solution.F[0]}\")\n",
    "print(f\"Best mean_episode_length: {-best_solution.F[1]}\")\n",
    "\n",
    "# You can visualize the Pareto front using pymoo's plotting functions\n",
    "plotting.plot(obj_space=algorithm.result.F, ideal_point=np.array([0, 0]), title=\"Pareto Front\")\n"
   ]
  },
  {
   "cell_type": "markdown",
   "metadata": {},
   "source": [
    "# Profiling"
   ]
  },
  {
   "cell_type": "code",
   "execution_count": 24,
   "metadata": {},
   "outputs": [],
   "source": [
    "# !pip install line_profiler\n",
    "%load_ext line_profiler"
   ]
  },
  {
   "cell_type": "code",
   "execution_count": 25,
   "metadata": {},
   "outputs": [
    {
     "name": "stderr",
     "output_type": "stream",
     "text": [
      "100%|██████████| 2/2 [00:00<00:00, 13.47it/s]\n"
     ]
    },
    {
     "name": "stdout",
     "output_type": "stream",
     "text": [
      "Timer unit: 1e-09 s\n",
      "\n",
      "Total time: 0.151271 s\n",
      "File: /var/folders/hj/_04fr6wx5tncwlntq6ym_zr00000gn/T/ipykernel_5724/1818113075.py\n",
      "Function: qLearningExperiment at line 1\n",
      "\n",
      "Line #      Hits         Time  Per Hit   % Time  Line Contents\n",
      "==============================================================\n",
      "     1                                           def qLearningExperiment(difference_fn=None, learner=None, params=default_params()):\n",
      "     2         1       2000.0   2000.0      0.0      plots = params.get('plots', True)\n",
      "     3                                           \n",
      "     4         1          0.0      0.0      0.0      q_values_all_experiments = []\n",
      "     5         1          0.0      0.0      0.0      rewards_all_experiments = []\n",
      "     6         1          0.0      0.0      0.0      episode_lengths = []\n",
      "     7         1          0.0      0.0      0.0      selected_actions = []\n",
      "     8                                           \n",
      "     9         3    3286000.0    1e+06      2.2      for i in tqdm(range(num_episodes)):\n",
      "    10                                                   # TODO: .reset() instead of re-creating?\n",
      "    11         2      76000.0  38000.0      0.1          agent = UCBQAgent(params=params) if learner is None else learner\n",
      "    12         2      10000.0   5000.0      0.0          env = ModifiedRandomEnvironment(correct_action=correct_action)\n",
      "    13         2  147891000.0    7e+07     97.8          q_values_for_chart, rewards, episode_length, selected_action = runner(difference_fn, env=env, agent=agent, params=params)\n",
      "    14         2       1000.0    500.0      0.0          selected_actions.append(selected_action)\n",
      "    15         2       1000.0    500.0      0.0          episode_lengths.append(episode_length)\n",
      "    16                                                           \n",
      "    17         2          0.0      0.0      0.0          rewards_all_experiments.append(rewards)\n",
      "    18         2          0.0      0.0      0.0          q_values_all_experiments.append(q_values_for_chart)\n",
      "    19                                           \n",
      "    20         1       2000.0   2000.0      0.0      correct_count = selected_actions.count(correct_action)\n",
      "    21         1       1000.0   1000.0      0.0      accuracy = (correct_count / len(selected_actions)) * 100\n",
      "    22                                               \n",
      "    23         1       1000.0   1000.0      0.0      return q_values_all_experiments, rewards_all_experiments, episode_lengths, selected_actions, accuracy"
     ]
    }
   ],
   "source": [
    "#402088000.0\n",
    "max_steps = 120\n",
    "num_episodes = 2\n",
    "%lprun -f qLearningExperiment qLearningExperiment(adjust_rewards_surrogate,params={'plots': False})"
   ]
  },
  {
   "cell_type": "code",
   "execution_count": 26,
   "metadata": {},
   "outputs": [
    {
     "name": "stdout",
     "output_type": "stream",
     "text": [
      "Timer unit: 1e-09 s\n",
      "\n",
      "Total time: 0.117403 s\n",
      "File: /var/folders/hj/_04fr6wx5tncwlntq6ym_zr00000gn/T/ipykernel_5724/2161407780.py\n",
      "Function: runner at line 1\n",
      "\n",
      "Line #      Hits         Time  Per Hit   % Time  Line Contents\n",
      "==============================================================\n",
      "     1                                           def runner(adjust_rewards=None, \n",
      "     2                                                      agent=None,\n",
      "     3                                                      env=None,\n",
      "     4                                                      params=default_params()):\n",
      "     5                                           \n",
      "     6         1      38000.0  38000.0      0.0      agent = agent if agent else UCBQAgent(num_actions=num_states)\n",
      "     7         1       3000.0   3000.0      0.0      env = env if env else ModifiedRandomEnvironment()\n",
      "     8                                           \n",
      "     9         1          0.0      0.0      0.0      episode_rewards = 0\n",
      "    10         1          0.0      0.0      0.0      rewards = []\n",
      "    11         1          0.0      0.0      0.0      q_values_for_chart = []\n",
      "    12                                               \n",
      "    13         1          0.0      0.0      0.0      t = 0\n",
      "    14         1          0.0      0.0      0.0      action = start_action\n",
      "    15         1          0.0      0.0      0.0      state = 0\n",
      "    16         1       1000.0   1000.0      0.0      plots = params.get('plots', True)\n",
      "    17                                           \n",
      "    18                                               while True:\n",
      "    19       151    3153000.0  20880.8      2.7          action = agent.choose_action(state) \n",
      "    20       151     413000.0   2735.1      0.4          reward, next_state, done = env.step(action)        \n",
      "    21       151      52000.0    344.4      0.0          rewards.append(reward)\n",
      "    22                                           \n",
      "    23       151      21000.0    139.1      0.0          if adjust_rewards:\n",
      "    24       151  112011000.0 741794.7     95.4              reward = adjust_rewards(reward, state, action)\n",
      "    25                                                   \n",
      "    26       151    1599000.0  10589.4      1.4          agent.learn(state, action, reward, next_state)\n",
      "    27       151      29000.0    192.1      0.0          episode_rewards += reward\n",
      "    28       151      39000.0    258.3      0.0          t += 1\n",
      "    29                                           \n",
      "    30       151      21000.0    139.1      0.0          if plots:\n",
      "    31                                                       if t % 10 == 0:\n",
      "    32                                                           sum_q_values_across_states = np.around(np.sum(agent.Q, axis=0), decimals=4)\n",
      "    33                                                           q_values_for_chart.append(sum_q_values_across_states)\n",
      "    34                                           \n",
      "    35       151      13000.0     86.1      0.0          if done:\n",
      "    36         1       1000.0   1000.0      0.0              break\n",
      "    37                                                           \n",
      "    38         1          0.0      0.0      0.0      episode_length = t + 1\n",
      "    39         1          0.0      0.0      0.0      selected_action = action \n",
      "    40                                               \n",
      "    41         1          0.0      0.0      0.0      if t >= max_steps:\n",
      "    42         1       7000.0   7000.0      0.0          sum_q_values_across_states = np.sum(agent.Q, axis=0)\n",
      "    43         1       2000.0   2000.0      0.0          selected_action = np.argmax(sum_q_values_across_states)\n",
      "    44                                           \n",
      "    45                                           \n",
      "    46         1          0.0      0.0      0.0      return q_values_for_chart, rewards, episode_length, selected_action"
     ]
    }
   ],
   "source": [
    "# 97219000.0/413000.0 = 235\n",
    "%lprun -f runner runner(adjust_rewards=adjust_rewards_surrogate, params={'plots': False})"
   ]
  },
  {
   "cell_type": "markdown",
   "metadata": {},
   "source": [
    "# Grid search"
   ]
  },
  {
   "cell_type": "code",
   "execution_count": null,
   "metadata": {},
   "outputs": [],
   "source": [
    "from sklearn.model_selection import ParameterGrid"
   ]
  },
  {
   "cell_type": "code",
   "execution_count": null,
   "metadata": {},
   "outputs": [],
   "source": [
    "from IPython import display\n",
    "import pandas as pd"
   ]
  },
  {
   "cell_type": "code",
   "execution_count": null,
   "metadata": {},
   "outputs": [
    {
     "name": "stderr",
     "output_type": "stream",
     "text": [
      "100%|██████████| 20/20 [00:11<00:00,  1.80it/s]\n",
      "  6%|▋         | 1/16 [00:11<02:47, 11.14s/it]"
     ]
    },
    {
     "name": "stdout",
     "output_type": "stream",
     "text": [
      "0.0 121.0\n"
     ]
    },
    {
     "name": "stderr",
     "output_type": "stream",
     "text": [
      " 90%|█████████ | 18/20 [00:11<00:01,  1.56it/s]\n",
      "  6%|▋         | 1/16 [00:22<05:40, 22.68s/it]\n"
     ]
    },
    {
     "ename": "KeyboardInterrupt",
     "evalue": "",
     "output_type": "error",
     "traceback": [
      "\u001b[0;31m---------------------------------------------------------------------------\u001b[0m",
      "\u001b[0;31mKeyboardInterrupt\u001b[0m                         Traceback (most recent call last)",
      "\u001b[1;32m/Users/schnuckiputz/other/git/2022-CHI-neuroadaptive-haptics/neuro_haptics/aleks/run_experiment_notebook_stateless.ipynb Cell 35\u001b[0m line \u001b[0;36m<module>\u001b[0;34m\u001b[0m\n\u001b[1;32m     <a href='vscode-notebook-cell:/Users/schnuckiputz/other/git/2022-CHI-neuroadaptive-haptics/neuro_haptics/aleks/run_experiment_notebook_stateless.ipynb#Y402sZmlsZQ%3D%3D?line=18'>19</a>\u001b[0m     \u001b[39mreturn\u001b[39;00m accuracy, mean_episode_length\n\u001b[1;32m     <a href='vscode-notebook-cell:/Users/schnuckiputz/other/git/2022-CHI-neuroadaptive-haptics/neuro_haptics/aleks/run_experiment_notebook_stateless.ipynb#Y402sZmlsZQ%3D%3D?line=20'>21</a>\u001b[0m \u001b[39mfor\u001b[39;00m i, params \u001b[39min\u001b[39;00m tqdm(param_grid_out\u001b[39m.\u001b[39miterrows(), total\u001b[39m=\u001b[39mparam_grid_out\u001b[39m.\u001b[39mshape[\u001b[39m0\u001b[39m]):\n\u001b[0;32m---> <a href='vscode-notebook-cell:/Users/schnuckiputz/other/git/2022-CHI-neuroadaptive-haptics/neuro_haptics/aleks/run_experiment_notebook_stateless.ipynb#Y402sZmlsZQ%3D%3D?line=21'>22</a>\u001b[0m     accuracy, mean_episode_length \u001b[39m=\u001b[39m get_results_from_grid_row(params)\n\u001b[1;32m     <a href='vscode-notebook-cell:/Users/schnuckiputz/other/git/2022-CHI-neuroadaptive-haptics/neuro_haptics/aleks/run_experiment_notebook_stateless.ipynb#Y402sZmlsZQ%3D%3D?line=22'>23</a>\u001b[0m     param_grid_out\u001b[39m.\u001b[39mloc[i, \u001b[39m'\u001b[39m\u001b[39maccuracy\u001b[39m\u001b[39m'\u001b[39m] \u001b[39m=\u001b[39m accuracy\n\u001b[1;32m     <a href='vscode-notebook-cell:/Users/schnuckiputz/other/git/2022-CHI-neuroadaptive-haptics/neuro_haptics/aleks/run_experiment_notebook_stateless.ipynb#Y402sZmlsZQ%3D%3D?line=23'>24</a>\u001b[0m     param_grid_out\u001b[39m.\u001b[39mloc[i, \u001b[39m'\u001b[39m\u001b[39mmean_episode_length\u001b[39m\u001b[39m'\u001b[39m] \u001b[39m=\u001b[39m mean_episode_length\n",
      "\u001b[1;32m/Users/schnuckiputz/other/git/2022-CHI-neuroadaptive-haptics/neuro_haptics/aleks/run_experiment_notebook_stateless.ipynb Cell 35\u001b[0m line \u001b[0;36mget_results_from_grid_row\u001b[0;34m(params)\u001b[0m\n\u001b[1;32m     <a href='vscode-notebook-cell:/Users/schnuckiputz/other/git/2022-CHI-neuroadaptive-haptics/neuro_haptics/aleks/run_experiment_notebook_stateless.ipynb#Y402sZmlsZQ%3D%3D?line=13'>14</a>\u001b[0m \u001b[39mdef\u001b[39;00m \u001b[39mget_results_from_grid_row\u001b[39m(params):\n\u001b[0;32m---> <a href='vscode-notebook-cell:/Users/schnuckiputz/other/git/2022-CHI-neuroadaptive-haptics/neuro_haptics/aleks/run_experiment_notebook_stateless.ipynb#Y402sZmlsZQ%3D%3D?line=14'>15</a>\u001b[0m     q_values_all_experiments, rewards_all_experiments, episode_lengths, selected_actions, accuracy \u001b[39m=\u001b[39m qLearningExperiment(adjust_rewards_surrogate, params\u001b[39m=\u001b[39;49mparams)\n\u001b[1;32m     <a href='vscode-notebook-cell:/Users/schnuckiputz/other/git/2022-CHI-neuroadaptive-haptics/neuro_haptics/aleks/run_experiment_notebook_stateless.ipynb#Y402sZmlsZQ%3D%3D?line=15'>16</a>\u001b[0m     mean_episode_length \u001b[39m=\u001b[39m np\u001b[39m.\u001b[39mmean(episode_lengths)\n\u001b[1;32m     <a href='vscode-notebook-cell:/Users/schnuckiputz/other/git/2022-CHI-neuroadaptive-haptics/neuro_haptics/aleks/run_experiment_notebook_stateless.ipynb#Y402sZmlsZQ%3D%3D?line=16'>17</a>\u001b[0m     \u001b[39mprint\u001b[39m(accuracy, mean_episode_length) \n",
      "\u001b[1;32m/Users/schnuckiputz/other/git/2022-CHI-neuroadaptive-haptics/neuro_haptics/aleks/run_experiment_notebook_stateless.ipynb Cell 35\u001b[0m line \u001b[0;36mqLearningExperiment\u001b[0;34m(difference_fn, params)\u001b[0m\n\u001b[1;32m      <a href='vscode-notebook-cell:/Users/schnuckiputz/other/git/2022-CHI-neuroadaptive-haptics/neuro_haptics/aleks/run_experiment_notebook_stateless.ipynb#Y402sZmlsZQ%3D%3D?line=7'>8</a>\u001b[0m agent \u001b[39m=\u001b[39m UCBQAgent(params\u001b[39m=\u001b[39mparams)\n\u001b[1;32m      <a href='vscode-notebook-cell:/Users/schnuckiputz/other/git/2022-CHI-neuroadaptive-haptics/neuro_haptics/aleks/run_experiment_notebook_stateless.ipynb#Y402sZmlsZQ%3D%3D?line=8'>9</a>\u001b[0m env \u001b[39m=\u001b[39m ModifiedRandomEnvironment(correct_action\u001b[39m=\u001b[39mcorrect_action)\n\u001b[0;32m---> <a href='vscode-notebook-cell:/Users/schnuckiputz/other/git/2022-CHI-neuroadaptive-haptics/neuro_haptics/aleks/run_experiment_notebook_stateless.ipynb#Y402sZmlsZQ%3D%3D?line=9'>10</a>\u001b[0m q_values_for_chart, rewards, episode_length, selected_action \u001b[39m=\u001b[39m runner(difference_fn, env\u001b[39m=\u001b[39;49menv, agent\u001b[39m=\u001b[39;49magent, params\u001b[39m=\u001b[39;49mparams)\n\u001b[1;32m     <a href='vscode-notebook-cell:/Users/schnuckiputz/other/git/2022-CHI-neuroadaptive-haptics/neuro_haptics/aleks/run_experiment_notebook_stateless.ipynb#Y402sZmlsZQ%3D%3D?line=10'>11</a>\u001b[0m rewards_all_experiments\u001b[39m.\u001b[39mappend(rewards)\n\u001b[1;32m     <a href='vscode-notebook-cell:/Users/schnuckiputz/other/git/2022-CHI-neuroadaptive-haptics/neuro_haptics/aleks/run_experiment_notebook_stateless.ipynb#Y402sZmlsZQ%3D%3D?line=11'>12</a>\u001b[0m q_values_all_experiments\u001b[39m.\u001b[39mappend(q_values_for_chart)\n",
      "\u001b[1;32m/Users/schnuckiputz/other/git/2022-CHI-neuroadaptive-haptics/neuro_haptics/aleks/run_experiment_notebook_stateless.ipynb Cell 35\u001b[0m line \u001b[0;36mrunner\u001b[0;34m(adjust_rewards, agent, env, params)\u001b[0m\n\u001b[1;32m     <a href='vscode-notebook-cell:/Users/schnuckiputz/other/git/2022-CHI-neuroadaptive-haptics/neuro_haptics/aleks/run_experiment_notebook_stateless.ipynb#Y402sZmlsZQ%3D%3D?line=25'>26</a>\u001b[0m     \u001b[39mbreak\u001b[39;00m\n\u001b[1;32m     <a href='vscode-notebook-cell:/Users/schnuckiputz/other/git/2022-CHI-neuroadaptive-haptics/neuro_haptics/aleks/run_experiment_notebook_stateless.ipynb#Y402sZmlsZQ%3D%3D?line=27'>28</a>\u001b[0m action \u001b[39m=\u001b[39m agent\u001b[39m.\u001b[39mchoose_action(state) \n\u001b[0;32m---> <a href='vscode-notebook-cell:/Users/schnuckiputz/other/git/2022-CHI-neuroadaptive-haptics/neuro_haptics/aleks/run_experiment_notebook_stateless.ipynb#Y402sZmlsZQ%3D%3D?line=28'>29</a>\u001b[0m reward, next_state, done \u001b[39m=\u001b[39m env\u001b[39m.\u001b[39;49mstep(action)        \n\u001b[1;32m     <a href='vscode-notebook-cell:/Users/schnuckiputz/other/git/2022-CHI-neuroadaptive-haptics/neuro_haptics/aleks/run_experiment_notebook_stateless.ipynb#Y402sZmlsZQ%3D%3D?line=29'>30</a>\u001b[0m rewards\u001b[39m.\u001b[39mappend(reward)\n\u001b[1;32m     <a href='vscode-notebook-cell:/Users/schnuckiputz/other/git/2022-CHI-neuroadaptive-haptics/neuro_haptics/aleks/run_experiment_notebook_stateless.ipynb#Y402sZmlsZQ%3D%3D?line=31'>32</a>\u001b[0m \u001b[39mif\u001b[39;00m adjust_rewards:\n",
      "File \u001b[0;32m~/other/git/2022-CHI-neuroadaptive-haptics/neuro_haptics/aleks/ucbq_environment_stateless.py:20\u001b[0m, in \u001b[0;36mModifiedRandomEnvironment.step\u001b[0;34m(self, action)\u001b[0m\n\u001b[1;32m     17\u001b[0m \u001b[39mdef\u001b[39;00m \u001b[39mstep\u001b[39m(\u001b[39mself\u001b[39m, action):\n\u001b[1;32m     18\u001b[0m     \u001b[39mself\u001b[39m\u001b[39m.\u001b[39mt \u001b[39m+\u001b[39m\u001b[39m=\u001b[39m \u001b[39m1\u001b[39m\n\u001b[0;32m---> 20\u001b[0m     reward \u001b[39m=\u001b[39m \u001b[39mself\u001b[39;49m\u001b[39m.\u001b[39;49mget_participant_answer(action)\n\u001b[1;32m     21\u001b[0m     \u001b[39m# TODO: delete\u001b[39;00m\n\u001b[1;32m     22\u001b[0m     \u001b[39m# Our case action == state, but migth consdier this separation in the future\u001b[39;00m\n\u001b[1;32m     23\u001b[0m     next_state \u001b[39m=\u001b[39m \u001b[39m0\u001b[39m\n",
      "File \u001b[0;32m~/other/git/2022-CHI-neuroadaptive-haptics/neuro_haptics/aleks/ucbq_environment.py:27\u001b[0m, in \u001b[0;36mModifiedRandomEnvironment.get_participant_answer\u001b[0;34m(self, action)\u001b[0m\n\u001b[1;32m     14\u001b[0m \u001b[39mdef\u001b[39;00m \u001b[39mget_participant_answer\u001b[39m(\u001b[39mself\u001b[39m, action):\n\u001b[1;32m     15\u001b[0m     \u001b[39m# TODO: use this code when we'll be listenting to the \u001b[39;00m\n\u001b[1;32m     16\u001b[0m     \u001b[39m# actual stream\u001b[39;00m\n\u001b[0;32m   (...)\u001b[0m\n\u001b[1;32m     25\u001b[0m     \u001b[39m# Wait random time before giving an answer.\u001b[39;00m\n\u001b[1;32m     26\u001b[0m     \u001b[39m# This simulates listening to stream.\u001b[39;00m\n\u001b[0;32m---> 27\u001b[0m     time\u001b[39m.\u001b[39;49msleep(random\u001b[39m.\u001b[39;49muniform(\u001b[39m0.001\u001b[39;49m, \u001b[39m0.002\u001b[39;49m))\n\u001b[1;32m     29\u001b[0m     answer \u001b[39m=\u001b[39m \u001b[39m0\u001b[39m \u001b[39mif\u001b[39;00m action \u001b[39m==\u001b[39m \u001b[39mself\u001b[39m\u001b[39m.\u001b[39mcorrect_action \u001b[39melse\u001b[39;00m \u001b[39m-\u001b[39m\u001b[39mabs\u001b[39m(\u001b[39mself\u001b[39m\u001b[39m.\u001b[39mcorrect_action \u001b[39m-\u001b[39m action)\n\u001b[1;32m     31\u001b[0m     \u001b[39mreturn\u001b[39;00m answer\n",
      "\u001b[0;31mKeyboardInterrupt\u001b[0m: "
     ]
    }
   ],
   "source": [
    "max_steps = 120\n",
    "num_episodes = 20\n",
    "\n",
    "param_grid = {\n",
    "    'alpha': [0, 1.0],\n",
    "    # 'alpha_decay'\n",
    "    # alpha_min\n",
    "    'epsilon': [0, 1.0],\n",
    "    # 'epsilon_decay': [0.1, 1.0],\n",
    "    # 'gamma'\n",
    "    'epsilon_decay': [10, 20, 40, 80],\n",
    "    # 'surrogate_c_interval': [1, 2, 5, 10, 20, 40]\n",
    "    # 'surrogate_lr'\n",
    "    }\n",
    "\n",
    "param_grid_out = pd.DataFrame(ParameterGrid(param_grid))\n",
    "\n",
    "def get_results_from_grid_row(params):\n",
    "    q_values_all_experiments, rewards_all_experiments, episode_lengths, selected_actions, accuracy = qLearningExperiment(adjust_rewards_surrogate, params=params)\n",
    "    mean_episode_length = np.mean(episode_lengths)\n",
    "    print(accuracy, mean_episode_length) \n",
    "\n",
    "    return accuracy, mean_episode_length\n",
    "\n",
    "for i, params in tqdm(param_grid_out.iterrows(), total=param_grid_out.shape[0]):\n",
    "    accuracy, mean_episode_length = get_results_from_grid_row(params)\n",
    "    param_grid_out.loc[i, 'accuracy'] = accuracy\n",
    "    param_grid_out.loc[i, 'mean_episode_length'] = mean_episode_length\n",
    "    # display.clear_output()"
   ]
  },
  {
   "cell_type": "code",
   "execution_count": null,
   "metadata": {},
   "outputs": [
    {
     "name": "stdout",
     "output_type": "stream",
     "text": [
      "    alpha  epsilon  epsilon_decay  accuracy  mean_episode_length\n",
      "1     0.1      0.1             20      95.0                73.70\n",
      "7     0.1      1.0             80      90.0                82.70\n",
      "15    1.0      1.0             80      85.0                91.00\n",
      "4     0.1      1.0             10      85.0                83.35\n",
      "10    1.0      0.1             40      85.0                78.55\n",
      "5     0.1      1.0             20      85.0                75.75\n",
      "12    1.0      1.0             10      80.0                80.90\n",
      "6     0.1      1.0             40      75.0                78.45\n",
      "11    1.0      0.1             80      75.0                78.45\n",
      "14    1.0      1.0             40      75.0                77.20\n",
      "8     1.0      0.1             10      75.0                74.95\n",
      "2     0.1      0.1             40      70.0                87.90\n",
      "13    1.0      1.0             20      70.0                82.85\n",
      "3     0.1      0.1             80      65.0                82.65\n",
      "0     0.1      0.1             10      60.0                89.90\n",
      "9     1.0      0.1             20      60.0                73.75\n"
     ]
    }
   ],
   "source": [
    "# param_grid_out.iloc[0]['accuracy'] = 1\n",
    "print(param_grid_out.sort_values(by=['accuracy', 'mean_episode_length'], ascending=False))"
   ]
  },
  {
   "cell_type": "markdown",
   "metadata": {},
   "source": [
    "# Q-value of \"true\" level compared accross different reward techniques"
   ]
  },
  {
   "cell_type": "code",
   "execution_count": null,
   "metadata": {},
   "outputs": [],
   "source": [
    "#TODO:\n",
    "# What if we reset the state to the original one, every 10 steps, and that would be our episode?\n",
    "# -> keep the q-values, reset the parameters epsilon, learning rate, etc."
   ]
  },
  {
   "cell_type": "markdown",
   "metadata": {},
   "source": [
    "# Epsilon test"
   ]
  },
  {
   "cell_type": "code",
   "execution_count": null,
   "metadata": {},
   "outputs": [
    {
     "data": {
      "text/plain": [
       "[<matplotlib.lines.Line2D at 0x154dfc850>]"
      ]
     },
     "execution_count": 30,
     "metadata": {},
     "output_type": "execute_result"
    },
    {
     "data": {
      "image/png": "[encoded data removed]",
      "text/plain": [
       "<Figure size 432x288 with 1 Axes>"
      ]
     },
     "metadata": {
      "needs_background": "light"
     },
     "output_type": "display_data"
    }
   ],
   "source": [
    "agent = UCBQAgent()\n",
    "epsilons = []\n",
    "for t in range(200):\n",
    "    epsilons.append(agent.epsilon)\n",
    "    agent.choose_action(0)\n",
    "\n",
    "plt.plot(epsilons)"
   ]
  },
  {
   "cell_type": "markdown",
   "metadata": {},
   "source": [
    "# Surrogate rewards without adding noise"
   ]
  },
  {
   "cell_type": "code",
   "execution_count": null,
   "metadata": {},
   "outputs": [],
   "source": [
    "from modified_pendulum_processor_noiseless import ModifiedPendulumProcessorNoiseless"
   ]
  },
  {
   "cell_type": "code",
   "execution_count": null,
   "metadata": {},
   "outputs": [
    {
     "name": "stderr",
     "output_type": "stream",
     "text": [
      "100%|██████████| 20/20 [00:02<00:00,  7.41it/s]\n"
     ]
    },
    {
     "name": "stdout",
     "output_type": "stream",
     "text": [
      "Mean episode length: 61.0\n",
      "Accuracy: 100.0\n",
      "[[0.8 0.  0.  0.  0.  0.  0.2]\n",
      " [0.  0.8 0.  0.  0.  0.2 0. ]\n",
      " [0.  0.  0.8 0.  0.2 0.  0. ]\n",
      " [0.  0.  0.  1.  0.  0.  0. ]\n",
      " [0.  0.  0.2 0.  0.8 0.  0. ]\n",
      " [0.  0.2 0.  0.  0.  0.8 0. ]\n",
      " [0.2 0.  0.  0.  0.  0.  0.8]]\n",
      "{(0, 3): [-3, -3, -3, -3, -3, -3, -3, -3, -3, -3, -3, -3, -3, -3, -3, -3, -3, -3, -3, -3, -3, -3, -3, -3, -3, -3, -3, -3, -3, -3, -3, -3, -3, -3, -3, -3, -3, -3, -3, -3], (0, 0): [-6, -6, -6, -6, -6, -6, -6, -6, -6, -6, -6, -6, -6, -6, -6, -6, -6, -6, -6, -6], (0, 1): [-5, -5, -5, -5, -5, -5, -5, -5, -5, -5, -5, -5, -5, -5, -5, -5, -5, -5, -5, -5], (0, 2): [-4, -4, -4, -4, -4, -4, -4, -4, -4, -4, -4, -4, -4, -4, -4, -4, -4, -4, -4, -4], (0, 4): [-2, -2, -2, -2, -2, -2, -2, -2, -2, -2, -2, -2, -2, -2, -2, -2, -2, -2, -2, -2, -2, -2, -2, -2, -2, -2, -2, -2, -2, -2, -2, -2, -2, -2, -2, -2, -2, -2, -2, -2], (0, 5): [-1, -1, -1, -1, -1, -1, -1, -1, -1, -1, -1, -1, -1, -1, -1, -1, -1, -1, -1, -1, -1, -1, -1, -1, -1, -1, -1, -1, -1, -1, -1, -1, -1, -1, -1, -1, -1, -1, -1, -1, -1, -1, -1, -1, -1, -1, -1, -1, -1, -1, -1, -1, -1, -1, -1, -1, -1, -1, -1, -1, -1, -1, -1, -1, -1, -1, -1, -1, -1, -1, -1, -1, -1, -1, -1, -1, -1, -1, -1, -1], (0, 6): [0, 0, 0, 0, 0, 0, 0, 0, 0, 0, 0, 0, 0, 0, 0, 0, 0, 0, 0, 0, 0, 0, 0, 0, 0, 0, 0, 0, 0, 0, 0, 0, 0, 0, 0, 0, 0, 0, 0, 0, 0, 0, 0, 0, 0, 0, 0, 0, 0, 0, 0, 0, 0, 0, 0, 0, 0, 0, 0, 0, 0, 0, 0, 0, 0, 0, 0, 0, 0, 0, 0, 0, 0, 0, 0, 0, 0, 0, 0, 0, 0, 0, 0, 0, 0, 0, 0, 0, 0, 0, 0, 0, 0, 0, 0, 0, 0, 0, 0, 0, 0, 0, 0, 0, 0, 0, 0, 0, 0, 0, 0, 0, 0, 0, 0, 0, 0, 0, 0, 0, 0, 0, 0, 0, 0, 0, 0, 0, 0, 0, 0, 0, 0, 0, 0, 0, 0, 0, 0, 0, 0, 0, 0, 0, 0, 0, 0, 0, 0, 0, 0, 0, 0, 0, 0, 0, 0, 0, 0, 0, 0, 0, 0, 0, 0, 0, 0, 0, 0, 0, 0, 0, 0, 0, 0, 0, 0, 0, 0, 0, 0, 0, 0, 0, 0, 0, 0, 0, 0, 0, 0, 0, 0, 0, 0, 0, 0, 0, 0, 0, 0, 0, 0, 0, 0, 0, 0, 0, 0, 0, 0, 0, 0, 0, 0, 0, 0, 0, 0, 0, 0, 0, 0, 0, 0, 0, 0, 0, 0, 0, 0, 0, 0, 0, 0, 0, 0, 0, 0, 0, 0, 0, 0, 0, 0, 0, 0, 0, 0, 0, 0, 0, 0, 0, 0, 0, 0, 0, 0, 0, 0, 0, 0, 0, 0, 0, 0, 0, 0, 0, 0, 0, 0, 0, 0, 0, 0, 0, 0, 0, 0, 0, 0, 0, 0, 0, 0, 0, 0, 0, 0, 0, 0, 0, 0, 0, 0, 0, 0, 0, 0, 0, 0, 0, 0, 0, 0, 0, 0, 0, 0, 0, 0, 0, 0, 0, 0, 0, 0, 0, 0, 0, 0, 0, 0, 0, 0, 0, 0, 0, 0, 0, 0, 0, 0, 0, 0, 0, 0, 0, 0, 0, 0, 0, 0, 0, 0, 0, 0, 0, 0, 0, 0, 0, 0, 0, 0, 0, 0, 0, 0, 0, 0, 0, 0, 0, 0, 0, 0, 0, 0, 0, 0, 0, 0, 0, 0, 0, 0, 0, 0, 0, 0, 0, 0, 0, 0, 0, 0, 0, 0, 0, 0, 0, 0, 0, 0, 0, 0, 0, 0, 0, 0, 0, 0, 0, 0, 0, 0, 0, 0, 0, 0, 0, 0, 0, 0, 0, 0, 0, 0, 0, 0, 0, 0, 0, 0, 0, 0, 0, 0, 0, 0, 0, 0, 0, 0, 0, 0, 0, 0, 0, 0, 0, 0, 0, 0, 0, 0, 0, 0, 0, 0, 0, 0, 0, 0, 0, 0, 0, 0, 0, 0, 0, 0, 0, 0, 0, 0, 0, 0, 0, 0, 0, 0, 0, 0, 0, 0, 0, 0, 0, 0, 0, 0, 0, 0, 0, 0, 0, 0, 0, 0, 0, 0, 0, 0, 0, 0, 0, 0, 0, 0, 0, 0, 0, 0, 0, 0, 0, 0, 0, 0, 0, 0, 0, 0, 0, 0, 0, 0, 0, 0, 0, 0, 0, 0, 0, 0, 0, 0, 0, 0, 0, 0, 0, 0, 0, 0, 0, 0, 0, 0, 0, 0, 0, 0, 0, 0, 0, 0, 0, 0, 0, 0, 0, 0, 0, 0, 0, 0, 0, 0, 0, 0, 0, 0, 0, 0, 0, 0, 0, 0, 0, 0, 0, 0, 0, 0, 0, 0, 0, 0, 0, 0, 0, 0, 0, 0, 0, 0, 0, 0, 0, 0, 0, 0, 0, 0, 0, 0, 0, 0, 0, 0, 0, 0, 0, 0, 0, 0, 0, 0, 0, 0, 0, 0, 0, 0, 0, 0, 0, 0, 0, 0, 0, 0, 0, 0, 0, 0, 0, 0, 0, 0, 0, 0, 0, 0, 0, 0, 0, 0, 0, 0, 0, 0, 0, 0, 0, 0, 0, 0, 0, 0, 0, 0, 0, 0, 0, 0, 0, 0, 0, 0, 0, 0, 0, 0, 0, 0, 0, 0, 0, 0, 0, 0, 0, 0, 0, 0, 0, 0, 0, 0, 0, 0, 0, 0, 0, 0, 0, 0, 0, 0, 0, 0, 0, 0, 0, 0, 0, 0, 0, 0, 0, 0, 0, 0, 0, 0, 0, 0, 0, 0, 0, 0, 0, 0, 0, 0, 0, 0, 0, 0, 0, 0, 0, 0, 0, 0, 0, 0, 0, 0, 0, 0, 0, 0, 0, 0, 0, 0, 0, 0, 0, 0, 0, 0, 0, 0, 0, 0, 0, 0, 0, 0, 0, 0, 0, 0, 0, 0, 0, 0, 0, 0, 0, 0, 0, 0, 0, 0, 0, 0, 0, 0, 0, 0, 0, 0, 0, 0, 0, 0, 0, 0, 0, 0, 0, 0, 0, 0, 0, 0, 0, 0, 0, 0, 0, 0, 0, 0, 0, 0, 0, 0, 0, 0, 0, 0, 0, 0, 0, 0, 0, 0, 0, 0, 0, 0, 0, 0, 0, 0, 0, 0, 0, 0, 0, 0, 0, 0, 0, 0, 0, 0, 0, 0, 0, 0, 0, 0, 0, 0, 0, 0, 0, 0, 0, 0, 0, 0, 0, 0, 0, 0, 0, 0, 0, 0, 0, 0, 0, 0, 0, 0, 0, 0, 0, 0, 0, 0, 0, 0, 0, 0, 0, 0, 0, 0, 0, 0, 0, 0, 0, 0, 0, 0, 0, 0, 0, 0, 0, 0, 0, 0, 0, 0, 0, 0, 0, 0, 0, 0, 0, 0, 0, 0, 0, 0, 0, 0, 0, 0, 0, 0, 0, 0, 0, 0, 0, 0, 0, 0, 0, 0, 0, 0, 0, 0, 0, 0, 0, 0, 0, 0, 0, 0, 0, 0, 0, 0, 0, 0, 0, 0, 0, 0, 0, 0, 0, 0, 0, 0, 0, 0, 0, 0, 0, 0, 0, 0, 0, 0, 0, 0, 0, 0, 0, 0, 0, 0, 0, 0, 0, 0, 0, 0, 0]}\n",
      "Estimated confusion matrix:\n",
      "[[1. 0. 0. 0. 0. 0. 0.]\n",
      " [0. 1. 0. 0. 0. 0. 0.]\n",
      " [0. 0. 1. 0. 0. 0. 0.]\n",
      " [0. 0. 0. 1. 0. 0. 0.]\n",
      " [0. 0. 0. 0. 1. 0. 0.]\n",
      " [0. 0. 0. 0. 0. 1. 0.]\n",
      " [0. 0. 0. 0. 0. 0. 1.]]\n"
     ]
    },
    {
     "data": {
      "image/png": "[encoded data removed]",
      "text/plain": [
       "<Figure size 432x288 with 1 Axes>"
      ]
     },
     "metadata": {
      "needs_background": "light"
     },
     "output_type": "display_data"
    },
    {
     "data": {
      "image/png": "[encoded data removed]",
      "text/plain": [
       "<Figure size 432x288 with 1 Axes>"
      ]
     },
     "metadata": {
      "needs_background": "light"
     },
     "output_type": "display_data"
    },
    {
     "data": {
      "image/png": "[encoded data removed]",
      "text/plain": [
       "<Figure size 432x288 with 1 Axes>"
      ]
     },
     "metadata": {
      "needs_background": "light"
     },
     "output_type": "display_data"
    },
    {
     "data": {
      "image/png": "[encoded data removed]",
      "text/plain": [
       "<Figure size 432x288 with 1 Axes>"
      ]
     },
     "metadata": {
      "needs_background": "light"
     },
     "output_type": "display_data"
    }
   ],
   "source": [
    "post_processor_surrogate = ModifiedPendulumProcessorNoiseless()\n",
    "\n",
    "def adjust_rewards_surrogate(reward, state, action):    \n",
    "    observation, reward, done, info = post_processor_surrogate.process_step(state, reward, None, None, action)\n",
    "    return reward\n",
    "\n",
    "plot_mean_q_values(adjust_rewards_surrogate)\n",
    "\n",
    "print(post_processor_surrogate.cmat)\n",
    "print(post_processor_surrogate.r_sets)\n",
    "print('Estimated confusion matrix:')\n",
    "print(np.around(post_processor_surrogate.C, decimals=4))"
   ]
  }
 ],
 "metadata": {
  "kernelspec": {
   "display_name": "base",
   "language": "python",
   "name": "python3"
  },
  "language_info": {
   "codemirror_mode": {
    "name": "ipython",
    "version": 3
   },
   "file_extension": ".py",
   "mimetype": "text/x-python",
   "name": "python",
   "nbconvert_exporter": "python",
   "pygments_lexer": "ipython3",
   "version": "3.9.7"
  },
  "orig_nbformat": 4
 },
 "nbformat": 4,
 "nbformat_minor": 2
}
