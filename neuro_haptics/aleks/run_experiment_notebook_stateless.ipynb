{
 "cells": [
  {
   "cell_type": "markdown",
   "metadata": {},
   "source": [
    "# TODO\n",
    " - keep the confusion matrix estimation same - across all trials?\n",
    " - double check that params are getting properly propagated for the Agent and environment\n",
    " - ~~grid search for parameters~~\n",
    " - figure out parameters in surrogate rewards\n",
    " - ~~make rewards non binary in environment and surrogate rewards~~\n",
    " - ~~add deceay from papers, log and other~~\n",
    " - initiate q-table at `-1`?\n",
    " - run experiment with different `correct_action`\n",
    " - should we be setting up the glove for `very distinguishable` levels? Shouldn't we set it up with `barely distinguishable` levels, as this is where the perturbed rewards come on - they'd help us get through the noise and find the correct level."
   ]
  },
  {
   "cell_type": "markdown",
   "metadata": {},
   "source": [
    "# Scripts"
   ]
  },
  {
   "cell_type": "code",
   "execution_count": 1,
   "metadata": {},
   "outputs": [],
   "source": [
    "import numpy as np\n",
    "import collections\n",
    "import pandas as pd\n",
    "import argparse\n",
    "import time\n",
    "import numpy as np"
   ]
  },
  {
   "cell_type": "code",
   "execution_count": 2,
   "metadata": {},
   "outputs": [],
   "source": [
    "import noise_estimator"
   ]
  },
  {
   "cell_type": "code",
   "execution_count": 3,
   "metadata": {},
   "outputs": [],
   "source": [
    "# from ucbq_agent import UCBQAgent\n",
    "from ucbq_agent_stateless import UCBQAgent\n",
    "# from ucbq_environment import ModifiedRandomEnvironment\n",
    "from ucbq_environment_stateless import ModifiedRandomEnvironment"
   ]
  },
  {
   "cell_type": "markdown",
   "metadata": {},
   "source": [
    "# Params"
   ]
  },
  {
   "cell_type": "code",
   "execution_count": 4,
   "metadata": {},
   "outputs": [],
   "source": [
    "max_steps = 120\n",
    "num_episodes = 100"
   ]
  },
  {
   "cell_type": "code",
   "execution_count": 5,
   "metadata": {},
   "outputs": [],
   "source": [
    "num_actions = 7\n",
    "# start_state = 1\n",
    "start_action = 0"
   ]
  },
  {
   "cell_type": "code",
   "execution_count": 6,
   "metadata": {},
   "outputs": [],
   "source": [
    "# zero indexed\n",
    "correct_action = 6"
   ]
  },
  {
   "cell_type": "code",
   "execution_count": 7,
   "metadata": {},
   "outputs": [],
   "source": [
    "# def default_params():\n",
    "#     \"\"\" These are the default parameters used int eh framework. \"\"\"\n",
    "#     return {\n",
    "#             # # Runner parameters\n",
    "#             # 'max_episodes': int(1E6),         # experiment stops after this many episodes\n",
    "#             # 'max_steps': int(1E9),            # experiment stops after this many steps\n",
    "#             # 'multi_runner': False,            # uses multiple runners if True\n",
    "#             # Optimization parameters\n",
    "#             'alpha': 0.5,                       # learning rate of optimizer\n",
    "#             'alpha_decay': 40,\n",
    "#             'alpha_min': 0.001,\n",
    "#             # Exploration parameters\n",
    "#             'epsilon': 1,               # annealing starts at this epsilon\n",
    "#             'epsilon_decay': 0.5,\n",
    "#             'epsilon_min': 0.01,    \n",
    "#             'gamma': 0.95,                    # discount factor gamma\n",
    "#             'plots': False,\n",
    "#            }"
   ]
  },
  {
   "cell_type": "markdown",
   "metadata": {},
   "source": [
    "# Scripts"
   ]
  },
  {
   "cell_type": "code",
   "execution_count": 8,
   "metadata": {},
   "outputs": [],
   "source": [
    "import matplotlib.pyplot as plt\n",
    "from tqdm import tqdm \n",
    "import utils"
   ]
  },
  {
   "cell_type": "code",
   "execution_count": 9,
   "metadata": {},
   "outputs": [],
   "source": [
    "def get_mean_across_episodes(arr):\n",
    "    min_cols = np.amin([len(row) for row in arr])\n",
    "    truncated_arr = [ x[:min_cols] for x in arr ]\n",
    "    res = np.array(truncated_arr)\n",
    "    mean = res.mean(axis=0)\n",
    "\n",
    "    return mean    \n",
    "\n",
    "def get_cumsum_rewards(rewards):\n",
    "    cumulative_sum_rewards = np.cumsum(rewards)\n",
    "    time_steps = np.arange(1, len(rewards) + 1)\n",
    "    mean_rewards = cumulative_sum_rewards / time_steps\n",
    "    return mean_rewards"
   ]
  },
  {
   "cell_type": "code",
   "execution_count": 10,
   "metadata": {},
   "outputs": [],
   "source": [
    "from modified_pendulum_processor import ModifiedPendulumProcessor"
   ]
  },
  {
   "cell_type": "code",
   "execution_count": 11,
   "metadata": {},
   "outputs": [],
   "source": [
    "def runner(adjust_rewards=None, \n",
    "           agent=None,\n",
    "           env=None,\n",
    "           params={}):\n",
    "\n",
    "    agent = agent if agent else UCBQAgent()\n",
    "    env = env if env else ModifiedRandomEnvironment()\n",
    "\n",
    "    episode_rewards = 0\n",
    "    rewards = []\n",
    "    q_values_for_chart = []\n",
    "    \n",
    "    t = 0\n",
    "    action = start_action\n",
    "    state = 0\n",
    "    plots = params.get('plots', True)\n",
    "    noise = params.get('noise', False)\n",
    "    surrogate = params.get('surrogate', False)\n",
    "    reward_processor = None\n",
    "\n",
    "    # surrogate can only be with noise=True for now\n",
    "    if surrogate:\n",
    "        noise = True\n",
    "    \n",
    "    if noise: \n",
    "        #TODO: should we keep/carry over the estimated confusion matrix across all episodes?\n",
    "        reward_processor = ModifiedPendulumProcessor(surrogate=surrogate)\n",
    "\n",
    "    while True:\n",
    "        if t == max_steps - 1:\n",
    "            break\n",
    "\n",
    "        action = agent.choose_action(state) \n",
    "        reward, next_state, done = env.step(action)        \n",
    "        \n",
    "        if done:\n",
    "            break     \n",
    "\n",
    "        rewards.append(reward)\n",
    "\n",
    "        if noise or surrogate:\n",
    "            observation, reward, done, info = reward_processor.process_step(state, reward, None, None, action)\n",
    "        \n",
    "        agent.learn(state, action, reward, next_state)\n",
    "        episode_rewards += reward\n",
    "        t += 1\n",
    "\n",
    "        if plots:\n",
    "            if t % 10 == 0:\n",
    "                sum_q_values_across_states = np.around(np.sum(agent.Q, axis=0), decimals=4)\n",
    "                q_values_for_chart.append(sum_q_values_across_states)\n",
    "      \n",
    "                \n",
    "    episode_length = t + 1\n",
    "    selected_action = action \n",
    "    \n",
    "    if t == max_steps - 1:\n",
    "        # If we reached the end of the episode\n",
    "        # select the action with the highest Q-values as the correct one\n",
    "        sum_q_values_across_states = np.sum(agent.Q, axis=0)\n",
    "        selected_action = np.argmax(sum_q_values_across_states)\n",
    "\n",
    "    return q_values_for_chart, rewards, episode_length, selected_action, reward_processor"
   ]
  },
  {
   "cell_type": "code",
   "execution_count": 12,
   "metadata": {},
   "outputs": [],
   "source": [
    "def qLearningExperiment(learner=None, params={}):\n",
    "    plots = params.get('plots', True)\n",
    "\n",
    "    q_values_all_experiments = []\n",
    "    rewards_all_experiments = []\n",
    "    episode_lengths = []\n",
    "    selected_actions = []\n",
    "\n",
    "    for i in tqdm(range(num_episodes)):\n",
    "        # TODO: .reset() instead of re-creating?\n",
    "        agent = UCBQAgent(params=params) if learner is None else learner\n",
    "        env = ModifiedRandomEnvironment(correct_action=correct_action)\n",
    "        q_values_for_chart, rewards, episode_length, selected_action, reward_processor = runner(env=env, agent=agent, params=params)\n",
    "        selected_actions.append(selected_action)\n",
    "        episode_lengths.append(episode_length)\n",
    "                \n",
    "        rewards_all_experiments.append(rewards)\n",
    "        q_values_all_experiments.append(q_values_for_chart)\n",
    "\n",
    "    correct_count = selected_actions.count(correct_action)\n",
    "    accuracy = (correct_count / len(selected_actions)) * 100\n",
    "    \n",
    "    return q_values_all_experiments, rewards_all_experiments, episode_lengths, selected_actions, accuracy, reward_processor\n"
   ]
  },
  {
   "cell_type": "code",
   "execution_count": 13,
   "metadata": {},
   "outputs": [],
   "source": [
    "def plot_mean_q_values(params={}):\n",
    "    q_values_all_experiments, rewards_all_experiments, episode_lengths, selected_actions, accuracy, last_reward_processor = qLearningExperiment(params=params)\n",
    "    print(f'Accuracy: {accuracy}')    \n",
    "    print(f'Mean episode length: {np.mean(episode_lengths)}')\n",
    "\n",
    "    all_mean_rewards = [ get_cumsum_rewards(rewards) for rewards in rewards_all_experiments ]\n",
    "\n",
    "    all_mean_rewards = pd.DataFrame(all_mean_rewards) # rewards have different lengths\n",
    "    # because they terminate earlier sometimes\n",
    "    mean_matrix = np.mean(all_mean_rewards, axis=0)\n",
    "    mean_rewards_across_episodes = pd.DataFrame(mean_matrix)\n",
    "\n",
    "    mean_matrix = get_mean_across_episodes(q_values_all_experiments)\n",
    "    mean_q_values_across_episodes = pd.DataFrame(mean_matrix)\n",
    "    if params.get('noise', False): \n",
    "        print('Last reward processor:')\n",
    "        last_reward_processor.print()\n",
    "\n",
    "    fig, axes = plt.subplots(2, 2, figsize=(8, 6))\n",
    "    mean_rewards_across_episodes.plot(ax=axes[0, 0], title='Mean reward for this step across all episodes')\n",
    "    mean_q_values_across_episodes.plot(ax=axes[0, 1], title='Mean Q-values accross all episodes')\n",
    "    pd.DataFrame(episode_lengths).plot(ax=axes[1, 0], title='Episode lengths', marker='*')\n",
    "    pd.DataFrame(selected_actions).plot(ax=axes[1, 1], title='Guessed correct action per episode', marker='*')\n",
    "    plt.tight_layout()\n",
    "    plt.show()"
   ]
  },
  {
   "cell_type": "markdown",
   "metadata": {},
   "source": [
    "# Real rewards UCB Q-learning"
   ]
  },
  {
   "cell_type": "code",
   "execution_count": 14,
   "metadata": {},
   "outputs": [],
   "source": [
    "rewards_all_experiments = []\n",
    "\n",
    "qs, rewards, _, _, _ = runner()\n",
    "rewards_all_experiments.append(rewards)"
   ]
  },
  {
   "cell_type": "code",
   "execution_count": 15,
   "metadata": {},
   "outputs": [
    {
     "name": "stdout",
     "output_type": "stream",
     "text": [
      "Q-table:\n",
      "[[-7 -6 -5 -5 -5 -5  0]]\n",
      "Number of times action was taken:\n",
      "[[ 3.  2.  3.  4.  3.  2. 39.]]\n",
      "Total timesteps:\n",
      "50\n"
     ]
    }
   ],
   "source": [
    "agent = UCBQAgent()\n",
    "\n",
    "runner(agent=agent)\n",
    "utils.print_agent_stats(agent)"
   ]
  },
  {
   "cell_type": "code",
   "execution_count": 16,
   "metadata": {},
   "outputs": [
    {
     "name": "stderr",
     "output_type": "stream",
     "text": [
      "  0%|          | 0/100 [00:00<?, ?it/s]"
     ]
    },
    {
     "name": "stderr",
     "output_type": "stream",
     "text": [
      "100%|██████████| 100/100 [00:00<00:00, 866.57it/s]"
     ]
    },
    {
     "name": "stdout",
     "output_type": "stream",
     "text": [
      "Accuracy: 100.0\n",
      "Mean episode length: 50.0\n"
     ]
    },
    {
     "name": "stderr",
     "output_type": "stream",
     "text": [
      "\n"
     ]
    },
    {
     "data": {
      "image/png": "[encoded data removed]",
      "text/plain": [
       "<Figure size 576x432 with 4 Axes>"
      ]
     },
     "metadata": {
      "needs_background": "light"
     },
     "output_type": "display_data"
    }
   ],
   "source": [
    "# The Q-value shape make sense - we're trying higher numbers later\n",
    "# so they converge to -1 slower than e.g. action 0 or 1\n",
    "plot_mean_q_values()"
   ]
  },
  {
   "cell_type": "markdown",
   "metadata": {},
   "source": [
    "# Noisy rewards\n",
    "- rewards are now noisy\n",
    "- q-learner hasn't changed"
   ]
  },
  {
   "cell_type": "code",
   "execution_count": 17,
   "metadata": {},
   "outputs": [
    {
     "data": {
      "text/plain": [
       "(array([[0.8, 0. , 0. , 0. , 0. , 0. , 0.2],\n",
       "        [0. , 0.8, 0. , 0. , 0. , 0.2, 0. ],\n",
       "        [0. , 0. , 0.8, 0. , 0.2, 0. , 0. ],\n",
       "        [0. , 0. , 0. , 1. , 0. , 0. , 0. ],\n",
       "        [0. , 0. , 0.2, 0. , 0.8, 0. , 0. ],\n",
       "        [0. , 0.2, 0. , 0. , 0. , 0.8, 0. ],\n",
       "        [0.2, 0. , 0. , 0. , 0. , 0. , 0.8]]),\n",
       " 1)"
      ]
     },
     "execution_count": 17,
     "metadata": {},
     "output_type": "execute_result"
    }
   ],
   "source": [
    "# Confusion matrix used as noise\n",
    "noise_estimator.initialize_cmat(\"anti_iden\", num_actions, 0.2)"
   ]
  },
  {
   "cell_type": "code",
   "execution_count": 18,
   "metadata": {},
   "outputs": [
    {
     "name": "stderr",
     "output_type": "stream",
     "text": [
      "100%|██████████| 100/100 [00:00<00:00, 525.14it/s]\n"
     ]
    },
    {
     "name": "stdout",
     "output_type": "stream",
     "text": [
      "Accuracy: 92.0\n",
      "Mean episode length: 68.67\n",
      "Last reward processor:\n",
      "Original noise/confusion matrix:\n",
      "[[0.8 0.  0.  0.  0.  0.  0.2]\n",
      " [0.  0.8 0.  0.  0.  0.2 0. ]\n",
      " [0.  0.  0.8 0.  0.2 0.  0. ]\n",
      " [0.  0.  0.  1.  0.  0.  0. ]\n",
      " [0.  0.  0.2 0.  0.8 0.  0. ]\n",
      " [0.  0.2 0.  0.  0.  0.8 0. ]\n",
      " [0.2 0.  0.  0.  0.  0.  0.8]]\n",
      "Reward sets:\n",
      "{(0, 3): [-3], (0, 2): [-4, -2, -4], (0, 0): [0, -6, 0, -6, -6], (0, 5): [-1, -1, -1, -1, -1, -1, -1, -1, -1, -1, -1, -5], (0, 4): [-2, -4], (0, 1): [-5], (0, 6): [0, 0, 0, 0, 0, 0, -6, 0, -6, 0, 0, 0, -6, 0, 0, 0, -6, 0, 0, 0, 0, 0, 0, -6, 0, 0, -6, -6, 0, 0, -6, 0, 0, 0, 0, 0, 0, 0, 0, 0, -6, 0]}\n",
      "Reward set counts:\n",
      "Key (0, 3): 1 items\n",
      "Key (0, 2): 3 items\n",
      "Key (0, 0): 5 items\n",
      "Key (0, 5): 12 items\n",
      "Key (0, 4): 2 items\n",
      "Key (0, 1): 1 items\n",
      "Key (0, 6): 42 items\n",
      "Estimated confusion matrix:\n",
      "[[1. 0. 0. 0. 0. 0. 0.]\n",
      " [0. 1. 0. 0. 0. 0. 0.]\n",
      " [0. 0. 1. 0. 0. 0. 0.]\n",
      " [0. 0. 0. 1. 0. 0. 0.]\n",
      " [0. 0. 0. 0. 1. 0. 0.]\n",
      " [0. 0. 0. 0. 0. 1. 0.]\n",
      " [0. 0. 0. 0. 0. 0. 1.]]\n"
     ]
    },
    {
     "data": {
      "image/png": "[encoded data removed]",
      "text/plain": [
       "<Figure size 576x432 with 4 Axes>"
      ]
     },
     "metadata": {
      "needs_background": "light"
     },
     "output_type": "display_data"
    }
   ],
   "source": [
    "plot_mean_q_values(params={'noise': True})"
   ]
  },
  {
   "cell_type": "markdown",
   "metadata": {},
   "source": [
    "# Surrogate rewards"
   ]
  },
  {
   "cell_type": "code",
   "execution_count": 19,
   "metadata": {},
   "outputs": [
    {
     "name": "stderr",
     "output_type": "stream",
     "text": [
      "100%|██████████| 100/100 [00:00<00:00, 127.22it/s]\n"
     ]
    },
    {
     "name": "stdout",
     "output_type": "stream",
     "text": [
      "Accuracy: 82.0\n",
      "Mean episode length: 64.41\n",
      "Last reward processor:\n",
      "Original noise/confusion matrix:\n",
      "[[0.8 0.  0.  0.  0.  0.  0.2]\n",
      " [0.  0.8 0.  0.  0.  0.2 0. ]\n",
      " [0.  0.  0.8 0.  0.2 0.  0. ]\n",
      " [0.  0.  0.  1.  0.  0.  0. ]\n",
      " [0.  0.  0.2 0.  0.8 0.  0. ]\n",
      " [0.  0.2 0.  0.  0.  0.8 0. ]\n",
      " [0.2 0.  0.  0.  0.  0.  0.8]]\n",
      "Reward sets:\n",
      "{(0, 5): [-1, -1, -1, -1, -5, -1, -1, -1, -1, -1, -1, -1, -1, -1, -1, -1, -1, -5], (0, 3): [-3, -3, -3, -3, -3], (0, 0): [-6, -6, 0, -6], (0, 2): [-4, -2, -4, -4, -4], (0, 4): [-2, -2, -2, -4, -2, -2, -4, -2, -4, -2, -2, -2, -2, -2, -2, -2, -2, -2, -2], (0, 1): [-5, -5, -5], (0, 6): [-6, -6, 0, 0, 0, 0, 0, 0, 0, 0, 0, 0, -6, 0, 0, 0]}\n",
      "Reward set counts:\n",
      "Key (0, 5): 18 items\n",
      "Key (0, 3): 5 items\n",
      "Key (0, 0): 4 items\n",
      "Key (0, 2): 5 items\n",
      "Key (0, 4): 19 items\n",
      "Key (0, 1): 3 items\n",
      "Key (0, 6): 16 items\n",
      "Estimated confusion matrix:\n",
      "[[0.8125 0.     0.     0.     0.     0.     0.1875]\n",
      " [0.     0.8889 0.     0.     0.     0.1111 0.    ]\n",
      " [0.     0.     0.8421 0.     0.1579 0.     0.    ]\n",
      " [0.     0.     0.     1.     0.     0.     0.    ]\n",
      " [0.     0.     0.2    0.     0.8    0.     0.    ]\n",
      " [0.     0.     0.     0.     0.     1.     0.    ]\n",
      " [0.25   0.     0.     0.     0.     0.     0.75  ]]\n"
     ]
    },
    {
     "data": {
      "image/png": "[encoded data removed]",
      "text/plain": [
       "<Figure size 576x432 with 4 Axes>"
      ]
     },
     "metadata": {
      "needs_background": "light"
     },
     "output_type": "display_data"
    }
   ],
   "source": [
    "plot_mean_q_values(params={'noise': True, 'surrogate': True})"
   ]
  },
  {
   "cell_type": "markdown",
   "metadata": {},
   "source": [
    "# Sanity check"
   ]
  },
  {
   "cell_type": "code",
   "execution_count": 20,
   "metadata": {},
   "outputs": [
    {
     "name": "stdout",
     "output_type": "stream",
     "text": [
      "Accuracy should be higher, timesteps should be lower\n"
     ]
    },
    {
     "name": "stderr",
     "output_type": "stream",
     "text": [
      "100%|██████████| 100/100 [00:00<00:00, 808.61it/s]\n"
     ]
    },
    {
     "name": "stdout",
     "output_type": "stream",
     "text": [
      "100.0 50.0\n"
     ]
    },
    {
     "name": "stderr",
     "output_type": "stream",
     "text": [
      "100%|██████████| 100/100 [00:00<00:00, 549.55it/s]\n"
     ]
    },
    {
     "name": "stdout",
     "output_type": "stream",
     "text": [
      "95.0 64.02\n"
     ]
    },
    {
     "name": "stderr",
     "output_type": "stream",
     "text": [
      "100%|██████████| 100/100 [00:00<00:00, 126.55it/s]"
     ]
    },
    {
     "name": "stdout",
     "output_type": "stream",
     "text": [
      "80.0 66.01\n"
     ]
    },
    {
     "name": "stderr",
     "output_type": "stream",
     "text": [
      "\n"
     ]
    }
   ],
   "source": [
    "max_steps = 120\n",
    "num_episodes = 100\n",
    "\n",
    "params = {\n",
    "    # # Runner parameters\n",
    "    # 'max_episodes': int(1E6),         # experiment stops after this many episodes\n",
    "    # 'max_steps': int(1E9),            # experiment stops after this many steps\n",
    "    # 'multi_runner': False,            # uses multiple runners if True\n",
    "    # Optimization parameters\n",
    "    'alpha': 0.5,                       # learning rate of optimizer\n",
    "    'alpha_decay': 40,\n",
    "    'alpha_min': 0.001,\n",
    "    # Exploration parameters\n",
    "    'epsilon': 1,               # annealing starts at this epsilon\n",
    "    'epsilon_decay': 20,\n",
    "    'epsilon_min': 0.01,    \n",
    "    'gamma': 0.95,                    # discount factor gamma\n",
    "    'plots': False,\n",
    "}\n",
    "\n",
    "print('Accuracy should be higher, timesteps should be lower')\n",
    "\n",
    "params['surrogate'] = False\n",
    "params['noise'] = False\n",
    "q_values_all_experiments, rewards_all_experiments, episode_lengths, selected_actions, accuracy, _ = qLearningExperiment(params=params)\n",
    "mean_episode_length = np.mean(episode_lengths)\n",
    "print(accuracy, mean_episode_length) \n",
    "\n",
    "\n",
    "params['surrogate'] = False\n",
    "params['noise'] = True\n",
    "q_values_all_experiments, rewards_all_experiments, episode_lengths, selected_actions, accuracy, _ = qLearningExperiment(params=params)\n",
    "mean_episode_length = np.mean(episode_lengths)\n",
    "print(accuracy, mean_episode_length) \n",
    "\n",
    "params['surrogate'] = True\n",
    "q_values_all_experiments, rewards_all_experiments, episode_lengths, selected_actions, accuracy, _ = qLearningExperiment(params=params)\n",
    "mean_episode_length = np.mean(episode_lengths)\n",
    "print(accuracy, mean_episode_length) "
   ]
  },
  {
   "cell_type": "markdown",
   "metadata": {},
   "source": [
    "# Bayesian optimization"
   ]
  },
  {
   "cell_type": "code",
   "execution_count": 21,
   "metadata": {},
   "outputs": [],
   "source": [
    "# !pip install bayesian-optimization"
   ]
  },
  {
   "cell_type": "code",
   "execution_count": 22,
   "metadata": {},
   "outputs": [
    {
     "name": "stdout",
     "output_type": "stream",
     "text": [
      "|   iter    |  target   |   alpha   |\n",
      "-------------------------------------\n"
     ]
    },
    {
     "name": "stderr",
     "output_type": "stream",
     "text": [
      "100%|██████████| 100/100 [00:00<00:00, 140.33it/s]\n"
     ]
    },
    {
     "name": "stdout",
     "output_type": "stream",
     "text": [
      "| \u001b[0m1        \u001b[0m | \u001b[0m94.0     \u001b[0m | \u001b[0m0.417    \u001b[0m |\n"
     ]
    },
    {
     "name": "stderr",
     "output_type": "stream",
     "text": [
      "100%|██████████| 100/100 [00:00<00:00, 116.14it/s]\n"
     ]
    },
    {
     "name": "stdout",
     "output_type": "stream",
     "text": [
      "| \u001b[0m2        \u001b[0m | \u001b[0m78.0     \u001b[0m | \u001b[0m0.7203   \u001b[0m |\n"
     ]
    },
    {
     "name": "stderr",
     "output_type": "stream",
     "text": [
      "100%|██████████| 100/100 [00:00<00:00, 189.30it/s]\n"
     ]
    },
    {
     "name": "stdout",
     "output_type": "stream",
     "text": [
      "| \u001b[0m3        \u001b[0m | \u001b[0m91.0     \u001b[0m | \u001b[0m0.0001144\u001b[0m |\n"
     ]
    },
    {
     "name": "stderr",
     "output_type": "stream",
     "text": [
      "100%|██████████| 100/100 [00:00<00:00, 182.93it/s]\n"
     ]
    },
    {
     "name": "stdout",
     "output_type": "stream",
     "text": [
      "| \u001b[0m4        \u001b[0m | \u001b[0m85.0     \u001b[0m | \u001b[0m0.3023   \u001b[0m |\n"
     ]
    },
    {
     "name": "stderr",
     "output_type": "stream",
     "text": [
      "100%|██████████| 100/100 [00:00<00:00, 189.27it/s]\n"
     ]
    },
    {
     "name": "stdout",
     "output_type": "stream",
     "text": [
      "| \u001b[0m5        \u001b[0m | \u001b[0m93.0     \u001b[0m | \u001b[0m0.1468   \u001b[0m |\n"
     ]
    },
    {
     "name": "stderr",
     "output_type": "stream",
     "text": [
      "100%|██████████| 100/100 [00:00<00:00, 189.76it/s]\n"
     ]
    },
    {
     "name": "stdout",
     "output_type": "stream",
     "text": [
      "| \u001b[0m6        \u001b[0m | \u001b[0m91.0     \u001b[0m | \u001b[0m0.09234  \u001b[0m |\n"
     ]
    },
    {
     "name": "stderr",
     "output_type": "stream",
     "text": [
      "100%|██████████| 100/100 [00:00<00:00, 149.08it/s]\n"
     ]
    },
    {
     "name": "stdout",
     "output_type": "stream",
     "text": [
      "| \u001b[0m7        \u001b[0m | \u001b[0m79.0     \u001b[0m | \u001b[0m0.1863   \u001b[0m |\n"
     ]
    },
    {
     "name": "stderr",
     "output_type": "stream",
     "text": [
      "100%|██████████| 100/100 [00:00<00:00, 151.33it/s]\n"
     ]
    },
    {
     "name": "stdout",
     "output_type": "stream",
     "text": [
      "| \u001b[0m8        \u001b[0m | \u001b[0m68.0     \u001b[0m | \u001b[0m0.3456   \u001b[0m |\n"
     ]
    },
    {
     "name": "stderr",
     "output_type": "stream",
     "text": [
      "100%|██████████| 100/100 [00:00<00:00, 143.42it/s]\n"
     ]
    },
    {
     "name": "stdout",
     "output_type": "stream",
     "text": [
      "| \u001b[0m9        \u001b[0m | \u001b[0m85.0     \u001b[0m | \u001b[0m0.3968   \u001b[0m |\n"
     ]
    },
    {
     "name": "stderr",
     "output_type": "stream",
     "text": [
      "100%|██████████| 100/100 [00:00<00:00, 121.85it/s]\n"
     ]
    },
    {
     "name": "stdout",
     "output_type": "stream",
     "text": [
      "| \u001b[0m10       \u001b[0m | \u001b[0m87.0     \u001b[0m | \u001b[0m0.5388   \u001b[0m |\n"
     ]
    },
    {
     "name": "stderr",
     "output_type": "stream",
     "text": [
      "100%|██████████| 100/100 [00:00<00:00, 179.03it/s]\n"
     ]
    },
    {
     "name": "stdout",
     "output_type": "stream",
     "text": [
      "| \u001b[0m11       \u001b[0m | \u001b[0m82.0     \u001b[0m | \u001b[0m0.1468   \u001b[0m |\n"
     ]
    },
    {
     "name": "stderr",
     "output_type": "stream",
     "text": [
      "100%|██████████| 100/100 [00:00<00:00, 146.96it/s]\n"
     ]
    },
    {
     "name": "stdout",
     "output_type": "stream",
     "text": [
      "| \u001b[95m12       \u001b[0m | \u001b[95m96.0     \u001b[0m | \u001b[95m0.417    \u001b[0m |\n"
     ]
    },
    {
     "name": "stderr",
     "output_type": "stream",
     "text": [
      "100%|██████████| 100/100 [00:00<00:00, 148.48it/s]\n"
     ]
    },
    {
     "name": "stdout",
     "output_type": "stream",
     "text": [
      "| \u001b[0m13       \u001b[0m | \u001b[0m95.0     \u001b[0m | \u001b[0m0.4171   \u001b[0m |\n"
     ]
    },
    {
     "name": "stderr",
     "output_type": "stream",
     "text": [
      "100%|██████████| 100/100 [00:00<00:00, 184.53it/s]\n"
     ]
    },
    {
     "name": "stdout",
     "output_type": "stream",
     "text": [
      "| \u001b[0m14       \u001b[0m | \u001b[0m91.0     \u001b[0m | \u001b[0m0.09236  \u001b[0m |\n"
     ]
    },
    {
     "name": "stderr",
     "output_type": "stream",
     "text": [
      "100%|██████████| 100/100 [00:00<00:00, 139.25it/s]\n"
     ]
    },
    {
     "name": "stdout",
     "output_type": "stream",
     "text": [
      "| \u001b[0m15       \u001b[0m | \u001b[0m95.0     \u001b[0m | \u001b[0m0.4171   \u001b[0m |\n"
     ]
    },
    {
     "name": "stderr",
     "output_type": "stream",
     "text": [
      "100%|██████████| 100/100 [00:00<00:00, 179.09it/s]\n"
     ]
    },
    {
     "name": "stdout",
     "output_type": "stream",
     "text": [
      "| \u001b[0m16       \u001b[0m | \u001b[0m92.0     \u001b[0m | \u001b[0m0.09231  \u001b[0m |\n"
     ]
    },
    {
     "name": "stderr",
     "output_type": "stream",
     "text": [
      "100%|██████████| 100/100 [00:00<00:00, 184.30it/s]\n"
     ]
    },
    {
     "name": "stdout",
     "output_type": "stream",
     "text": [
      "| \u001b[0m17       \u001b[0m | \u001b[0m94.0     \u001b[0m | \u001b[0m0.1467   \u001b[0m |\n"
     ]
    },
    {
     "name": "stderr",
     "output_type": "stream",
     "text": [
      "100%|██████████| 100/100 [00:00<00:00, 137.24it/s]\n"
     ]
    },
    {
     "name": "stdout",
     "output_type": "stream",
     "text": [
      "| \u001b[0m18       \u001b[0m | \u001b[0m96.0     \u001b[0m | \u001b[0m0.417    \u001b[0m |\n"
     ]
    },
    {
     "name": "stderr",
     "output_type": "stream",
     "text": [
      "100%|██████████| 100/100 [00:00<00:00, 180.82it/s]\n"
     ]
    },
    {
     "name": "stdout",
     "output_type": "stream",
     "text": [
      "| \u001b[0m19       \u001b[0m | \u001b[0m88.0     \u001b[0m | \u001b[0m0.0001514\u001b[0m |\n"
     ]
    },
    {
     "name": "stderr",
     "output_type": "stream",
     "text": [
      "100%|██████████| 100/100 [00:00<00:00, 183.64it/s]"
     ]
    },
    {
     "name": "stdout",
     "output_type": "stream",
     "text": [
      "| \u001b[0m20       \u001b[0m | \u001b[0m93.0     \u001b[0m | \u001b[0m0.09228  \u001b[0m |\n",
      "=====================================\n",
      "{'target': 96.0, 'params': {'alpha': 0.4170495462604823}}\n"
     ]
    },
    {
     "name": "stderr",
     "output_type": "stream",
     "text": [
      "\n"
     ]
    }
   ],
   "source": [
    "max_steps = 120\n",
    "num_episodes = 100\n",
    "\n",
    "from bayes_opt import BayesianOptimization\n",
    "\n",
    "def objective(\n",
    "        alpha,\n",
    "        # alpha_decay,\n",
    "        # alpha_min,\n",
    "        # epsilon,\n",
    "        # epsilon_decay,\n",
    "        # epsilon_min,\n",
    "        # gamma,\n",
    "        ):\n",
    "    # # 'surrogate_c_interval': [1, 2, 5, 10, 20, 40]\n",
    "    # # 'surrogate_lr'    \n",
    "    # convergence_number_of_consequent_actions\n",
    "    # intial_q_values: [0, -7]\n",
    "    params = {\n",
    "        'alpha': alpha, \n",
    "        # 'alpha_decay': alpha_decay,\n",
    "        # 'alpha_min': alpha_min,\n",
    "        # 'epsilon': epsilon, \n",
    "        # 'epsilon_decay': epsilon_decay,\n",
    "        # 'epsilon_min': epsilon_min,\n",
    "        # 'gamma': gamma,\n",
    "        # 'plots': False,    \n",
    "    }\n",
    "    # _, _, _, _, accuracy = qLearningExperiment(adjust_rewards_surrogate, params=params)\n",
    "    q_values_all_experiments, rewards_all_experiments, episode_lengths, selected_actions, accuracy = qLearningExperiment(adjust_rewards_surrogate, params=params)\n",
    "\n",
    "    return accuracy\n",
    "    # mean_episode_length = np.mean(episode_lengths)\n",
    "    # return -mean_episode_length\n",
    "\n",
    "optimizer = BayesianOptimization(\n",
    "    f=objective,\n",
    "    pbounds={\n",
    "        'alpha': (0, 1), \n",
    "        # 'alpha_decay': (1, 500),\n",
    "        # 'alpha_min': (0, 1),\n",
    "        # 'epsilon': (0, 1), \n",
    "        # 'epsilon_decay': (10, 80),\n",
    "        # 'epsilon_min': (0, 1),\n",
    "        # 'gamma': (0, 1),\n",
    "        },\n",
    "    random_state=1,\n",
    ")\n",
    "\n",
    "# n_iter: How many steps of bayesian optimization you want to perform. \n",
    "# The more steps the more likely to find a good maximum you are.\n",
    "# init_points: How many steps of random exploration you want to perform.\n",
    "# Random exploration can help by diversifying the exploration space.\n",
    "optimizer.maximize(\n",
    "    init_points=10,\n",
    "    n_iter=10,\n",
    ")\n",
    "\n",
    "best_params = optimizer.max['params']\n",
    "\n",
    "print(optimizer.max)"
   ]
  },
  {
   "cell_type": "markdown",
   "metadata": {},
   "source": [
    "# TODO"
   ]
  },
  {
   "cell_type": "code",
   "execution_count": null,
   "metadata": {},
   "outputs": [],
   "source": [
    "import numpy as np\n",
    "from bayes_opt import BayesianOptimization\n",
    "from pymoo.optimize import minimize\n",
    "from pymoo.util import plotting\n",
    "from pymoo.model.problem import Problem\n",
    "\n",
    "max_steps = 120\n",
    "num_episodes = 100\n",
    "\n",
    "class QLearningProblem(Problem):\n",
    "    def __init__(self):\n",
    "        super().__init__(n_var=3, n_obj=2, n_constr=0, xl=np.array([0, 0, 10]), xu=np.array([1, 1, 80]))\n",
    "    \n",
    "    def _evaluate(self, X, out, *args, **kwargs):\n",
    "        alpha, epsilon, epsilon_decay = X\n",
    "\n",
    "        # Run your Q-learning experiment with given parameters\n",
    "        params = {'alpha': alpha, 'epsilon': epsilon, 'epsilon_decay': epsilon_decay}\n",
    "        q_values_all_experiments, _, episode_lengths, _, accuracy = qLearningExperiment(adjust_rewards_surrogate, params=params)\n",
    "\n",
    "        # Maximize accuracy\n",
    "        out[\"F\"] = [-accuracy, -np.mean(episode_lengths)]\n",
    "\n",
    "problem = QLearningProblem()\n",
    "\n",
    "algorithm = minimize(\n",
    "    algorithm=\"nsga2\",\n",
    "    problem=problem,\n",
    "    termination=(\"n_gen\", 20),  # Adjust the number of generations as needed\n",
    "    save_history=True,\n",
    "    verbose=True,\n",
    ")\n",
    "\n",
    "# Get the best solution from the Pareto front\n",
    "best_solution = algorithm.result[0]\n",
    "\n",
    "best_alpha, best_epsilon, best_epsilon_decay = best_solution.X\n",
    "\n",
    "print(f\"Best alpha: {best_alpha}\")\n",
    "print(f\"Best epsilon: {best_epsilon}\")\n",
    "print(f\"Best epsilon_decay: {best_epsilon_decay}\")\n",
    "print(f\"Best accuracy: {-best_solution.F[0]}\")\n",
    "print(f\"Best mean_episode_length: {-best_solution.F[1]}\")\n",
    "\n",
    "# You can visualize the Pareto front using pymoo's plotting functions\n",
    "plotting.plot(obj_space=algorithm.result.F, ideal_point=np.array([0, 0]), title=\"Pareto Front\")\n"
   ]
  },
  {
   "cell_type": "markdown",
   "metadata": {},
   "source": [
    "# Profiling"
   ]
  },
  {
   "cell_type": "code",
   "execution_count": 24,
   "metadata": {},
   "outputs": [],
   "source": [
    "# !pip install line_profiler\n",
    "%load_ext line_profiler"
   ]
  },
  {
   "cell_type": "code",
   "execution_count": 25,
   "metadata": {},
   "outputs": [
    {
     "name": "stderr",
     "output_type": "stream",
     "text": [
      "100%|██████████| 2/2 [00:00<00:00, 13.47it/s]\n"
     ]
    },
    {
     "name": "stdout",
     "output_type": "stream",
     "text": [
      "Timer unit: 1e-09 s\n",
      "\n",
      "Total time: 0.151271 s\n",
      "File: /var/folders/hj/_04fr6wx5tncwlntq6ym_zr00000gn/T/ipykernel_5724/1818113075.py\n",
      "Function: qLearningExperiment at line 1\n",
      "\n",
      "Line #      Hits         Time  Per Hit   % Time  Line Contents\n",
      "==============================================================\n",
      "     1                                           def qLearningExperiment(difference_fn=None, learner=None, params=default_params()):\n",
      "     2         1       2000.0   2000.0      0.0      plots = params.get('plots', True)\n",
      "     3                                           \n",
      "     4         1          0.0      0.0      0.0      q_values_all_experiments = []\n",
      "     5         1          0.0      0.0      0.0      rewards_all_experiments = []\n",
      "     6         1          0.0      0.0      0.0      episode_lengths = []\n",
      "     7         1          0.0      0.0      0.0      selected_actions = []\n",
      "     8                                           \n",
      "     9         3    3286000.0    1e+06      2.2      for i in tqdm(range(num_episodes)):\n",
      "    10                                                   # TODO: .reset() instead of re-creating?\n",
      "    11         2      76000.0  38000.0      0.1          agent = UCBQAgent(params=params) if learner is None else learner\n",
      "    12         2      10000.0   5000.0      0.0          env = ModifiedRandomEnvironment(correct_action=correct_action)\n",
      "    13         2  147891000.0    7e+07     97.8          q_values_for_chart, rewards, episode_length, selected_action = runner(difference_fn, env=env, agent=agent, params=params)\n",
      "    14         2       1000.0    500.0      0.0          selected_actions.append(selected_action)\n",
      "    15         2       1000.0    500.0      0.0          episode_lengths.append(episode_length)\n",
      "    16                                                           \n",
      "    17         2          0.0      0.0      0.0          rewards_all_experiments.append(rewards)\n",
      "    18         2          0.0      0.0      0.0          q_values_all_experiments.append(q_values_for_chart)\n",
      "    19                                           \n",
      "    20         1       2000.0   2000.0      0.0      correct_count = selected_actions.count(correct_action)\n",
      "    21         1       1000.0   1000.0      0.0      accuracy = (correct_count / len(selected_actions)) * 100\n",
      "    22                                               \n",
      "    23         1       1000.0   1000.0      0.0      return q_values_all_experiments, rewards_all_experiments, episode_lengths, selected_actions, accuracy"
     ]
    }
   ],
   "source": [
    "#402088000.0\n",
    "max_steps = 120\n",
    "num_episodes = 2\n",
    "%lprun -f qLearningExperiment qLearningExperiment(adjust_rewards_surrogate,params={'plots': False})"
   ]
  },
  {
   "cell_type": "code",
   "execution_count": 26,
   "metadata": {},
   "outputs": [
    {
     "name": "stdout",
     "output_type": "stream",
     "text": [
      "Timer unit: 1e-09 s\n",
      "\n",
      "Total time: 0.117403 s\n",
      "File: /var/folders/hj/_04fr6wx5tncwlntq6ym_zr00000gn/T/ipykernel_5724/2161407780.py\n",
      "Function: runner at line 1\n",
      "\n",
      "Line #      Hits         Time  Per Hit   % Time  Line Contents\n",
      "==============================================================\n",
      "     1                                           def runner(adjust_rewards=None, \n",
      "     2                                                      agent=None,\n",
      "     3                                                      env=None,\n",
      "     4                                                      params=default_params()):\n",
      "     5                                           \n",
      "     6         1      38000.0  38000.0      0.0      agent = agent if agent else UCBQAgent(num_actions=num_states)\n",
      "     7         1       3000.0   3000.0      0.0      env = env if env else ModifiedRandomEnvironment()\n",
      "     8                                           \n",
      "     9         1          0.0      0.0      0.0      episode_rewards = 0\n",
      "    10         1          0.0      0.0      0.0      rewards = []\n",
      "    11         1          0.0      0.0      0.0      q_values_for_chart = []\n",
      "    12                                               \n",
      "    13         1          0.0      0.0      0.0      t = 0\n",
      "    14         1          0.0      0.0      0.0      action = start_action\n",
      "    15         1          0.0      0.0      0.0      state = 0\n",
      "    16         1       1000.0   1000.0      0.0      plots = params.get('plots', True)\n",
      "    17                                           \n",
      "    18                                               while True:\n",
      "    19       151    3153000.0  20880.8      2.7          action = agent.choose_action(state) \n",
      "    20       151     413000.0   2735.1      0.4          reward, next_state, done = env.step(action)        \n",
      "    21       151      52000.0    344.4      0.0          rewards.append(reward)\n",
      "    22                                           \n",
      "    23       151      21000.0    139.1      0.0          if adjust_rewards:\n",
      "    24       151  112011000.0 741794.7     95.4              reward = adjust_rewards(reward, state, action)\n",
      "    25                                                   \n",
      "    26       151    1599000.0  10589.4      1.4          agent.learn(state, action, reward, next_state)\n",
      "    27       151      29000.0    192.1      0.0          episode_rewards += reward\n",
      "    28       151      39000.0    258.3      0.0          t += 1\n",
      "    29                                           \n",
      "    30       151      21000.0    139.1      0.0          if plots:\n",
      "    31                                                       if t % 10 == 0:\n",
      "    32                                                           sum_q_values_across_states = np.around(np.sum(agent.Q, axis=0), decimals=4)\n",
      "    33                                                           q_values_for_chart.append(sum_q_values_across_states)\n",
      "    34                                           \n",
      "    35       151      13000.0     86.1      0.0          if done:\n",
      "    36         1       1000.0   1000.0      0.0              break\n",
      "    37                                                           \n",
      "    38         1          0.0      0.0      0.0      episode_length = t + 1\n",
      "    39         1          0.0      0.0      0.0      selected_action = action \n",
      "    40                                               \n",
      "    41         1          0.0      0.0      0.0      if t >= max_steps:\n",
      "    42         1       7000.0   7000.0      0.0          sum_q_values_across_states = np.sum(agent.Q, axis=0)\n",
      "    43         1       2000.0   2000.0      0.0          selected_action = np.argmax(sum_q_values_across_states)\n",
      "    44                                           \n",
      "    45                                           \n",
      "    46         1          0.0      0.0      0.0      return q_values_for_chart, rewards, episode_length, selected_action"
     ]
    }
   ],
   "source": [
    "# 97219000.0/413000.0 = 235\n",
    "%lprun -f runner runner(adjust_rewards=adjust_rewards_surrogate, params={'plots': False})"
   ]
  },
  {
   "cell_type": "markdown",
   "metadata": {},
   "source": [
    "# Grid search"
   ]
  },
  {
   "cell_type": "code",
   "execution_count": null,
   "metadata": {},
   "outputs": [],
   "source": [
    "from sklearn.model_selection import ParameterGrid"
   ]
  },
  {
   "cell_type": "code",
   "execution_count": null,
   "metadata": {},
   "outputs": [],
   "source": [
    "from IPython import display\n",
    "import pandas as pd"
   ]
  },
  {
   "cell_type": "code",
   "execution_count": null,
   "metadata": {},
   "outputs": [
    {
     "name": "stderr",
     "output_type": "stream",
     "text": [
      "100%|██████████| 20/20 [00:11<00:00,  1.80it/s]\n",
      "  6%|▋         | 1/16 [00:11<02:47, 11.14s/it]"
     ]
    },
    {
     "name": "stdout",
     "output_type": "stream",
     "text": [
      "0.0 121.0\n"
     ]
    },
    {
     "name": "stderr",
     "output_type": "stream",
     "text": [
      " 90%|█████████ | 18/20 [00:11<00:01,  1.56it/s]\n",
      "  6%|▋         | 1/16 [00:22<05:40, 22.68s/it]\n"
     ]
    },
    {
     "ename": "KeyboardInterrupt",
     "evalue": "",
     "output_type": "error",
     "traceback": [
      "\u001b[0;31m---------------------------------------------------------------------------\u001b[0m",
      "\u001b[0;31mKeyboardInterrupt\u001b[0m                         Traceback (most recent call last)",
      "\u001b[1;32m/Users/schnuckiputz/other/git/2022-CHI-neuroadaptive-haptics/neuro_haptics/aleks/run_experiment_notebook_stateless.ipynb Cell 35\u001b[0m line \u001b[0;36m<module>\u001b[0;34m\u001b[0m\n\u001b[1;32m     <a href='vscode-notebook-cell:/Users/schnuckiputz/other/git/2022-CHI-neuroadaptive-haptics/neuro_haptics/aleks/run_experiment_notebook_stateless.ipynb#Y402sZmlsZQ%3D%3D?line=18'>19</a>\u001b[0m     \u001b[39mreturn\u001b[39;00m accuracy, mean_episode_length\n\u001b[1;32m     <a href='vscode-notebook-cell:/Users/schnuckiputz/other/git/2022-CHI-neuroadaptive-haptics/neuro_haptics/aleks/run_experiment_notebook_stateless.ipynb#Y402sZmlsZQ%3D%3D?line=20'>21</a>\u001b[0m \u001b[39mfor\u001b[39;00m i, params \u001b[39min\u001b[39;00m tqdm(param_grid_out\u001b[39m.\u001b[39miterrows(), total\u001b[39m=\u001b[39mparam_grid_out\u001b[39m.\u001b[39mshape[\u001b[39m0\u001b[39m]):\n\u001b[0;32m---> <a href='vscode-notebook-cell:/Users/schnuckiputz/other/git/2022-CHI-neuroadaptive-haptics/neuro_haptics/aleks/run_experiment_notebook_stateless.ipynb#Y402sZmlsZQ%3D%3D?line=21'>22</a>\u001b[0m     accuracy, mean_episode_length \u001b[39m=\u001b[39m get_results_from_grid_row(params)\n\u001b[1;32m     <a href='vscode-notebook-cell:/Users/schnuckiputz/other/git/2022-CHI-neuroadaptive-haptics/neuro_haptics/aleks/run_experiment_notebook_stateless.ipynb#Y402sZmlsZQ%3D%3D?line=22'>23</a>\u001b[0m     param_grid_out\u001b[39m.\u001b[39mloc[i, \u001b[39m'\u001b[39m\u001b[39maccuracy\u001b[39m\u001b[39m'\u001b[39m] \u001b[39m=\u001b[39m accuracy\n\u001b[1;32m     <a href='vscode-notebook-cell:/Users/schnuckiputz/other/git/2022-CHI-neuroadaptive-haptics/neuro_haptics/aleks/run_experiment_notebook_stateless.ipynb#Y402sZmlsZQ%3D%3D?line=23'>24</a>\u001b[0m     param_grid_out\u001b[39m.\u001b[39mloc[i, \u001b[39m'\u001b[39m\u001b[39mmean_episode_length\u001b[39m\u001b[39m'\u001b[39m] \u001b[39m=\u001b[39m mean_episode_length\n",
      "\u001b[1;32m/Users/schnuckiputz/other/git/2022-CHI-neuroadaptive-haptics/neuro_haptics/aleks/run_experiment_notebook_stateless.ipynb Cell 35\u001b[0m line \u001b[0;36mget_results_from_grid_row\u001b[0;34m(params)\u001b[0m\n\u001b[1;32m     <a href='vscode-notebook-cell:/Users/schnuckiputz/other/git/2022-CHI-neuroadaptive-haptics/neuro_haptics/aleks/run_experiment_notebook_stateless.ipynb#Y402sZmlsZQ%3D%3D?line=13'>14</a>\u001b[0m \u001b[39mdef\u001b[39;00m \u001b[39mget_results_from_grid_row\u001b[39m(params):\n\u001b[0;32m---> <a href='vscode-notebook-cell:/Users/schnuckiputz/other/git/2022-CHI-neuroadaptive-haptics/neuro_haptics/aleks/run_experiment_notebook_stateless.ipynb#Y402sZmlsZQ%3D%3D?line=14'>15</a>\u001b[0m     q_values_all_experiments, rewards_all_experiments, episode_lengths, selected_actions, accuracy \u001b[39m=\u001b[39m qLearningExperiment(adjust_rewards_surrogate, params\u001b[39m=\u001b[39;49mparams)\n\u001b[1;32m     <a href='vscode-notebook-cell:/Users/schnuckiputz/other/git/2022-CHI-neuroadaptive-haptics/neuro_haptics/aleks/run_experiment_notebook_stateless.ipynb#Y402sZmlsZQ%3D%3D?line=15'>16</a>\u001b[0m     mean_episode_length \u001b[39m=\u001b[39m np\u001b[39m.\u001b[39mmean(episode_lengths)\n\u001b[1;32m     <a href='vscode-notebook-cell:/Users/schnuckiputz/other/git/2022-CHI-neuroadaptive-haptics/neuro_haptics/aleks/run_experiment_notebook_stateless.ipynb#Y402sZmlsZQ%3D%3D?line=16'>17</a>\u001b[0m     \u001b[39mprint\u001b[39m(accuracy, mean_episode_length) \n",
      "\u001b[1;32m/Users/schnuckiputz/other/git/2022-CHI-neuroadaptive-haptics/neuro_haptics/aleks/run_experiment_notebook_stateless.ipynb Cell 35\u001b[0m line \u001b[0;36mqLearningExperiment\u001b[0;34m(difference_fn, params)\u001b[0m\n\u001b[1;32m      <a href='vscode-notebook-cell:/Users/schnuckiputz/other/git/2022-CHI-neuroadaptive-haptics/neuro_haptics/aleks/run_experiment_notebook_stateless.ipynb#Y402sZmlsZQ%3D%3D?line=7'>8</a>\u001b[0m agent \u001b[39m=\u001b[39m UCBQAgent(params\u001b[39m=\u001b[39mparams)\n\u001b[1;32m      <a href='vscode-notebook-cell:/Users/schnuckiputz/other/git/2022-CHI-neuroadaptive-haptics/neuro_haptics/aleks/run_experiment_notebook_stateless.ipynb#Y402sZmlsZQ%3D%3D?line=8'>9</a>\u001b[0m env \u001b[39m=\u001b[39m ModifiedRandomEnvironment(correct_action\u001b[39m=\u001b[39mcorrect_action)\n\u001b[0;32m---> <a href='vscode-notebook-cell:/Users/schnuckiputz/other/git/2022-CHI-neuroadaptive-haptics/neuro_haptics/aleks/run_experiment_notebook_stateless.ipynb#Y402sZmlsZQ%3D%3D?line=9'>10</a>\u001b[0m q_values_for_chart, rewards, episode_length, selected_action \u001b[39m=\u001b[39m runner(difference_fn, env\u001b[39m=\u001b[39;49menv, agent\u001b[39m=\u001b[39;49magent, params\u001b[39m=\u001b[39;49mparams)\n\u001b[1;32m     <a href='vscode-notebook-cell:/Users/schnuckiputz/other/git/2022-CHI-neuroadaptive-haptics/neuro_haptics/aleks/run_experiment_notebook_stateless.ipynb#Y402sZmlsZQ%3D%3D?line=10'>11</a>\u001b[0m rewards_all_experiments\u001b[39m.\u001b[39mappend(rewards)\n\u001b[1;32m     <a href='vscode-notebook-cell:/Users/schnuckiputz/other/git/2022-CHI-neuroadaptive-haptics/neuro_haptics/aleks/run_experiment_notebook_stateless.ipynb#Y402sZmlsZQ%3D%3D?line=11'>12</a>\u001b[0m q_values_all_experiments\u001b[39m.\u001b[39mappend(q_values_for_chart)\n",
      "\u001b[1;32m/Users/schnuckiputz/other/git/2022-CHI-neuroadaptive-haptics/neuro_haptics/aleks/run_experiment_notebook_stateless.ipynb Cell 35\u001b[0m line \u001b[0;36mrunner\u001b[0;34m(adjust_rewards, agent, env, params)\u001b[0m\n\u001b[1;32m     <a href='vscode-notebook-cell:/Users/schnuckiputz/other/git/2022-CHI-neuroadaptive-haptics/neuro_haptics/aleks/run_experiment_notebook_stateless.ipynb#Y402sZmlsZQ%3D%3D?line=25'>26</a>\u001b[0m     \u001b[39mbreak\u001b[39;00m\n\u001b[1;32m     <a href='vscode-notebook-cell:/Users/schnuckiputz/other/git/2022-CHI-neuroadaptive-haptics/neuro_haptics/aleks/run_experiment_notebook_stateless.ipynb#Y402sZmlsZQ%3D%3D?line=27'>28</a>\u001b[0m action \u001b[39m=\u001b[39m agent\u001b[39m.\u001b[39mchoose_action(state) \n\u001b[0;32m---> <a href='vscode-notebook-cell:/Users/schnuckiputz/other/git/2022-CHI-neuroadaptive-haptics/neuro_haptics/aleks/run_experiment_notebook_stateless.ipynb#Y402sZmlsZQ%3D%3D?line=28'>29</a>\u001b[0m reward, next_state, done \u001b[39m=\u001b[39m env\u001b[39m.\u001b[39;49mstep(action)        \n\u001b[1;32m     <a href='vscode-notebook-cell:/Users/schnuckiputz/other/git/2022-CHI-neuroadaptive-haptics/neuro_haptics/aleks/run_experiment_notebook_stateless.ipynb#Y402sZmlsZQ%3D%3D?line=29'>30</a>\u001b[0m rewards\u001b[39m.\u001b[39mappend(reward)\n\u001b[1;32m     <a href='vscode-notebook-cell:/Users/schnuckiputz/other/git/2022-CHI-neuroadaptive-haptics/neuro_haptics/aleks/run_experiment_notebook_stateless.ipynb#Y402sZmlsZQ%3D%3D?line=31'>32</a>\u001b[0m \u001b[39mif\u001b[39;00m adjust_rewards:\n",
      "File \u001b[0;32m~/other/git/2022-CHI-neuroadaptive-haptics/neuro_haptics/aleks/ucbq_environment_stateless.py:20\u001b[0m, in \u001b[0;36mModifiedRandomEnvironment.step\u001b[0;34m(self, action)\u001b[0m\n\u001b[1;32m     17\u001b[0m \u001b[39mdef\u001b[39;00m \u001b[39mstep\u001b[39m(\u001b[39mself\u001b[39m, action):\n\u001b[1;32m     18\u001b[0m     \u001b[39mself\u001b[39m\u001b[39m.\u001b[39mt \u001b[39m+\u001b[39m\u001b[39m=\u001b[39m \u001b[39m1\u001b[39m\n\u001b[0;32m---> 20\u001b[0m     reward \u001b[39m=\u001b[39m \u001b[39mself\u001b[39;49m\u001b[39m.\u001b[39;49mget_participant_answer(action)\n\u001b[1;32m     21\u001b[0m     \u001b[39m# TODO: delete\u001b[39;00m\n\u001b[1;32m     22\u001b[0m     \u001b[39m# Our case action == state, but migth consdier this separation in the future\u001b[39;00m\n\u001b[1;32m     23\u001b[0m     next_state \u001b[39m=\u001b[39m \u001b[39m0\u001b[39m\n",
      "File \u001b[0;32m~/other/git/2022-CHI-neuroadaptive-haptics/neuro_haptics/aleks/ucbq_environment.py:27\u001b[0m, in \u001b[0;36mModifiedRandomEnvironment.get_participant_answer\u001b[0;34m(self, action)\u001b[0m\n\u001b[1;32m     14\u001b[0m \u001b[39mdef\u001b[39;00m \u001b[39mget_participant_answer\u001b[39m(\u001b[39mself\u001b[39m, action):\n\u001b[1;32m     15\u001b[0m     \u001b[39m# TODO: use this code when we'll be listenting to the \u001b[39;00m\n\u001b[1;32m     16\u001b[0m     \u001b[39m# actual stream\u001b[39;00m\n\u001b[0;32m   (...)\u001b[0m\n\u001b[1;32m     25\u001b[0m     \u001b[39m# Wait random time before giving an answer.\u001b[39;00m\n\u001b[1;32m     26\u001b[0m     \u001b[39m# This simulates listening to stream.\u001b[39;00m\n\u001b[0;32m---> 27\u001b[0m     time\u001b[39m.\u001b[39;49msleep(random\u001b[39m.\u001b[39;49muniform(\u001b[39m0.001\u001b[39;49m, \u001b[39m0.002\u001b[39;49m))\n\u001b[1;32m     29\u001b[0m     answer \u001b[39m=\u001b[39m \u001b[39m0\u001b[39m \u001b[39mif\u001b[39;00m action \u001b[39m==\u001b[39m \u001b[39mself\u001b[39m\u001b[39m.\u001b[39mcorrect_action \u001b[39melse\u001b[39;00m \u001b[39m-\u001b[39m\u001b[39mabs\u001b[39m(\u001b[39mself\u001b[39m\u001b[39m.\u001b[39mcorrect_action \u001b[39m-\u001b[39m action)\n\u001b[1;32m     31\u001b[0m     \u001b[39mreturn\u001b[39;00m answer\n",
      "\u001b[0;31mKeyboardInterrupt\u001b[0m: "
     ]
    }
   ],
   "source": [
    "max_steps = 120\n",
    "num_episodes = 20\n",
    "\n",
    "param_grid = {\n",
    "    'alpha': [0, 1.0],\n",
    "    # 'alpha_decay'\n",
    "    # alpha_min\n",
    "    'epsilon': [0, 1.0],\n",
    "    # 'epsilon_decay': [0.1, 1.0],\n",
    "    # 'gamma'\n",
    "    'epsilon_decay': [10, 20, 40, 80],\n",
    "    # 'surrogate_c_interval': [1, 2, 5, 10, 20, 40]\n",
    "    # 'surrogate_lr'\n",
    "    }\n",
    "\n",
    "param_grid_out = pd.DataFrame(ParameterGrid(param_grid))\n",
    "\n",
    "def get_results_from_grid_row(params):\n",
    "    q_values_all_experiments, rewards_all_experiments, episode_lengths, selected_actions, accuracy = qLearningExperiment(adjust_rewards_surrogate, params=params)\n",
    "    mean_episode_length = np.mean(episode_lengths)\n",
    "    print(accuracy, mean_episode_length) \n",
    "\n",
    "    return accuracy, mean_episode_length\n",
    "\n",
    "for i, params in tqdm(param_grid_out.iterrows(), total=param_grid_out.shape[0]):\n",
    "    accuracy, mean_episode_length = get_results_from_grid_row(params)\n",
    "    param_grid_out.loc[i, 'accuracy'] = accuracy\n",
    "    param_grid_out.loc[i, 'mean_episode_length'] = mean_episode_length\n",
    "    # display.clear_output()"
   ]
  },
  {
   "cell_type": "code",
   "execution_count": null,
   "metadata": {},
   "outputs": [
    {
     "name": "stdout",
     "output_type": "stream",
     "text": [
      "    alpha  epsilon  epsilon_decay  accuracy  mean_episode_length\n",
      "1     0.1      0.1             20      95.0                73.70\n",
      "7     0.1      1.0             80      90.0                82.70\n",
      "15    1.0      1.0             80      85.0                91.00\n",
      "4     0.1      1.0             10      85.0                83.35\n",
      "10    1.0      0.1             40      85.0                78.55\n",
      "5     0.1      1.0             20      85.0                75.75\n",
      "12    1.0      1.0             10      80.0                80.90\n",
      "6     0.1      1.0             40      75.0                78.45\n",
      "11    1.0      0.1             80      75.0                78.45\n",
      "14    1.0      1.0             40      75.0                77.20\n",
      "8     1.0      0.1             10      75.0                74.95\n",
      "2     0.1      0.1             40      70.0                87.90\n",
      "13    1.0      1.0             20      70.0                82.85\n",
      "3     0.1      0.1             80      65.0                82.65\n",
      "0     0.1      0.1             10      60.0                89.90\n",
      "9     1.0      0.1             20      60.0                73.75\n"
     ]
    }
   ],
   "source": [
    "# param_grid_out.iloc[0]['accuracy'] = 1\n",
    "print(param_grid_out.sort_values(by=['accuracy', 'mean_episode_length'], ascending=False))"
   ]
  },
  {
   "cell_type": "markdown",
   "metadata": {},
   "source": [
    "# Q-value of \"true\" level compared accross different reward techniques"
   ]
  },
  {
   "cell_type": "code",
   "execution_count": null,
   "metadata": {},
   "outputs": [],
   "source": [
    "#TODO:\n",
    "# What if we reset the state to the original one, every 10 steps, and that would be our episode?\n",
    "# -> keep the q-values, reset the parameters epsilon, learning rate, etc."
   ]
  },
  {
   "cell_type": "markdown",
   "metadata": {},
   "source": [
    "# Epsilon test"
   ]
  },
  {
   "cell_type": "code",
   "execution_count": 27,
   "metadata": {},
   "outputs": [
    {
     "data": {
      "text/plain": [
       "1.3222192947339193"
      ]
     },
     "execution_count": 27,
     "metadata": {},
     "output_type": "execute_result"
    }
   ],
   "source": [
    "np.log10(20+1)"
   ]
  },
  {
   "cell_type": "code",
   "execution_count": 23,
   "metadata": {},
   "outputs": [
    {
     "data": {
      "text/plain": [
       "[<matplotlib.lines.Line2D at 0x14c981940>]"
      ]
     },
     "execution_count": 23,
     "metadata": {},
     "output_type": "execute_result"
    },
    {
     "data": {
      "image/png": "[encoded data removed]",
      "text/plain": [
       "<Figure size 432x288 with 1 Axes>"
      ]
     },
     "metadata": {
      "needs_background": "light"
     },
     "output_type": "display_data"
    }
   ],
   "source": [
    "agent = UCBQAgent()\n",
    "epsilons = []\n",
    "for t in range(200):\n",
    "    epsilons.append(agent.epsilon)\n",
    "    agent.choose_action(0)\n",
    "\n",
    "plt.plot(epsilons)"
   ]
  },
  {
   "cell_type": "code",
   "execution_count": 28,
   "metadata": {},
   "outputs": [
    {
     "data": {
      "text/plain": [
       "[<matplotlib.lines.Line2D at 0x14cace130>]"
      ]
     },
     "execution_count": 28,
     "metadata": {},
     "output_type": "execute_result"
    },
    {
     "data": {
      "image/png": "[encoded data removed]",
      "text/plain": [
       "<Figure size 432x288 with 1 Axes>"
      ]
     },
     "metadata": {
      "needs_background": "light"
     },
     "output_type": "display_data"
    }
   ],
   "source": [
    "agent = UCBQAgent()\n",
    "epsilons = []\n",
    "for t in range(200):\n",
    "    epsilons.append(agent.alpha)\n",
    "    agent.choose_action(0)\n",
    "\n",
    "plt.plot(epsilons)"
   ]
  },
  {
   "cell_type": "markdown",
   "metadata": {},
   "source": [
    "# Surrogate rewards without adding noise"
   ]
  },
  {
   "cell_type": "code",
   "execution_count": null,
   "metadata": {},
   "outputs": [],
   "source": [
    "from modified_pendulum_processor_noiseless import ModifiedPendulumProcessorNoiseless"
   ]
  },
  {
   "cell_type": "code",
   "execution_count": null,
   "metadata": {},
   "outputs": [
    {
     "name": "stderr",
     "output_type": "stream",
     "text": [
      "100%|██████████| 20/20 [00:02<00:00,  7.41it/s]\n"
     ]
    },
    {
     "name": "stdout",
     "output_type": "stream",
     "text": [
      "Mean episode length: 61.0\n",
      "Accuracy: 100.0\n",
      "[[0.8 0.  0.  0.  0.  0.  0.2]\n",
      " [0.  0.8 0.  0.  0.  0.2 0. ]\n",
      " [0.  0.  0.8 0.  0.2 0.  0. ]\n",
      " [0.  0.  0.  1.  0.  0.  0. ]\n",
      " [0.  0.  0.2 0.  0.8 0.  0. ]\n",
      " [0.  0.2 0.  0.  0.  0.8 0. ]\n",
      " [0.2 0.  0.  0.  0.  0.  0.8]]\n",
      "{(0, 3): [-3, -3, -3, -3, -3, -3, -3, -3, -3, -3, -3, -3, -3, -3, -3, -3, -3, -3, -3, -3, -3, -3, -3, -3, -3, -3, -3, -3, -3, -3, -3, -3, -3, -3, -3, -3, -3, -3, -3, -3], (0, 0): [-6, -6, -6, -6, -6, -6, -6, -6, -6, -6, -6, -6, -6, -6, -6, -6, -6, -6, -6, -6], (0, 1): [-5, -5, -5, -5, -5, -5, -5, -5, -5, -5, -5, -5, -5, -5, -5, -5, -5, -5, -5, -5], (0, 2): [-4, -4, -4, -4, -4, -4, -4, -4, -4, -4, -4, -4, -4, -4, -4, -4, -4, -4, -4, -4], (0, 4): [-2, -2, -2, -2, -2, -2, -2, -2, -2, -2, -2, -2, -2, -2, -2, -2, -2, -2, -2, -2, -2, -2, -2, -2, -2, -2, -2, -2, -2, -2, -2, -2, -2, -2, -2, -2, -2, -2, -2, -2], (0, 5): [-1, -1, -1, -1, -1, -1, -1, -1, -1, -1, -1, -1, -1, -1, -1, -1, -1, -1, -1, -1, -1, -1, -1, -1, -1, -1, -1, -1, -1, -1, -1, -1, -1, -1, -1, -1, -1, -1, -1, -1, -1, -1, -1, -1, -1, -1, -1, -1, -1, -1, -1, -1, -1, -1, -1, -1, -1, -1, -1, -1, -1, -1, -1, -1, -1, -1, -1, -1, -1, -1, -1, -1, -1, -1, -1, -1, -1, -1, -1, -1], (0, 6): [0, 0, 0, 0, 0, 0, 0, 0, 0, 0, 0, 0, 0, 0, 0, 0, 0, 0, 0, 0, 0, 0, 0, 0, 0, 0, 0, 0, 0, 0, 0, 0, 0, 0, 0, 0, 0, 0, 0, 0, 0, 0, 0, 0, 0, 0, 0, 0, 0, 0, 0, 0, 0, 0, 0, 0, 0, 0, 0, 0, 0, 0, 0, 0, 0, 0, 0, 0, 0, 0, 0, 0, 0, 0, 0, 0, 0, 0, 0, 0, 0, 0, 0, 0, 0, 0, 0, 0, 0, 0, 0, 0, 0, 0, 0, 0, 0, 0, 0, 0, 0, 0, 0, 0, 0, 0, 0, 0, 0, 0, 0, 0, 0, 0, 0, 0, 0, 0, 0, 0, 0, 0, 0, 0, 0, 0, 0, 0, 0, 0, 0, 0, 0, 0, 0, 0, 0, 0, 0, 0, 0, 0, 0, 0, 0, 0, 0, 0, 0, 0, 0, 0, 0, 0, 0, 0, 0, 0, 0, 0, 0, 0, 0, 0, 0, 0, 0, 0, 0, 0, 0, 0, 0, 0, 0, 0, 0, 0, 0, 0, 0, 0, 0, 0, 0, 0, 0, 0, 0, 0, 0, 0, 0, 0, 0, 0, 0, 0, 0, 0, 0, 0, 0, 0, 0, 0, 0, 0, 0, 0, 0, 0, 0, 0, 0, 0, 0, 0, 0, 0, 0, 0, 0, 0, 0, 0, 0, 0, 0, 0, 0, 0, 0, 0, 0, 0, 0, 0, 0, 0, 0, 0, 0, 0, 0, 0, 0, 0, 0, 0, 0, 0, 0, 0, 0, 0, 0, 0, 0, 0, 0, 0, 0, 0, 0, 0, 0, 0, 0, 0, 0, 0, 0, 0, 0, 0, 0, 0, 0, 0, 0, 0, 0, 0, 0, 0, 0, 0, 0, 0, 0, 0, 0, 0, 0, 0, 0, 0, 0, 0, 0, 0, 0, 0, 0, 0, 0, 0, 0, 0, 0, 0, 0, 0, 0, 0, 0, 0, 0, 0, 0, 0, 0, 0, 0, 0, 0, 0, 0, 0, 0, 0, 0, 0, 0, 0, 0, 0, 0, 0, 0, 0, 0, 0, 0, 0, 0, 0, 0, 0, 0, 0, 0, 0, 0, 0, 0, 0, 0, 0, 0, 0, 0, 0, 0, 0, 0, 0, 0, 0, 0, 0, 0, 0, 0, 0, 0, 0, 0, 0, 0, 0, 0, 0, 0, 0, 0, 0, 0, 0, 0, 0, 0, 0, 0, 0, 0, 0, 0, 0, 0, 0, 0, 0, 0, 0, 0, 0, 0, 0, 0, 0, 0, 0, 0, 0, 0, 0, 0, 0, 0, 0, 0, 0, 0, 0, 0, 0, 0, 0, 0, 0, 0, 0, 0, 0, 0, 0, 0, 0, 0, 0, 0, 0, 0, 0, 0, 0, 0, 0, 0, 0, 0, 0, 0, 0, 0, 0, 0, 0, 0, 0, 0, 0, 0, 0, 0, 0, 0, 0, 0, 0, 0, 0, 0, 0, 0, 0, 0, 0, 0, 0, 0, 0, 0, 0, 0, 0, 0, 0, 0, 0, 0, 0, 0, 0, 0, 0, 0, 0, 0, 0, 0, 0, 0, 0, 0, 0, 0, 0, 0, 0, 0, 0, 0, 0, 0, 0, 0, 0, 0, 0, 0, 0, 0, 0, 0, 0, 0, 0, 0, 0, 0, 0, 0, 0, 0, 0, 0, 0, 0, 0, 0, 0, 0, 0, 0, 0, 0, 0, 0, 0, 0, 0, 0, 0, 0, 0, 0, 0, 0, 0, 0, 0, 0, 0, 0, 0, 0, 0, 0, 0, 0, 0, 0, 0, 0, 0, 0, 0, 0, 0, 0, 0, 0, 0, 0, 0, 0, 0, 0, 0, 0, 0, 0, 0, 0, 0, 0, 0, 0, 0, 0, 0, 0, 0, 0, 0, 0, 0, 0, 0, 0, 0, 0, 0, 0, 0, 0, 0, 0, 0, 0, 0, 0, 0, 0, 0, 0, 0, 0, 0, 0, 0, 0, 0, 0, 0, 0, 0, 0, 0, 0, 0, 0, 0, 0, 0, 0, 0, 0, 0, 0, 0, 0, 0, 0, 0, 0, 0, 0, 0, 0, 0, 0, 0, 0, 0, 0, 0, 0, 0, 0, 0, 0, 0, 0, 0, 0, 0, 0, 0, 0, 0, 0, 0, 0, 0, 0, 0, 0, 0, 0, 0, 0, 0, 0, 0, 0, 0, 0, 0, 0, 0, 0, 0, 0, 0, 0, 0, 0, 0, 0, 0, 0, 0, 0, 0, 0, 0, 0, 0, 0, 0, 0, 0, 0, 0, 0, 0, 0, 0, 0, 0, 0, 0, 0, 0, 0, 0, 0, 0, 0, 0, 0, 0, 0, 0, 0, 0, 0, 0, 0, 0, 0, 0, 0, 0, 0, 0, 0, 0, 0, 0, 0, 0, 0, 0, 0, 0, 0, 0, 0, 0, 0, 0, 0, 0, 0, 0, 0, 0, 0, 0, 0, 0, 0, 0, 0, 0, 0, 0, 0, 0, 0, 0, 0, 0, 0, 0, 0, 0, 0, 0, 0, 0, 0, 0, 0, 0, 0, 0, 0, 0, 0, 0, 0, 0, 0, 0, 0, 0, 0, 0, 0, 0, 0, 0, 0, 0, 0, 0, 0, 0, 0, 0, 0, 0, 0, 0, 0, 0, 0, 0, 0, 0, 0, 0, 0, 0, 0, 0, 0, 0, 0, 0, 0, 0, 0, 0, 0, 0, 0, 0, 0, 0, 0, 0, 0, 0, 0, 0, 0, 0, 0, 0, 0, 0, 0, 0, 0, 0, 0, 0, 0, 0, 0, 0, 0, 0, 0, 0, 0, 0, 0, 0, 0, 0, 0, 0, 0, 0, 0, 0, 0, 0, 0, 0, 0, 0, 0, 0, 0, 0, 0, 0, 0, 0, 0, 0, 0, 0, 0, 0, 0, 0, 0, 0, 0, 0, 0, 0, 0, 0, 0, 0, 0, 0, 0, 0, 0, 0, 0, 0, 0, 0, 0, 0, 0, 0, 0, 0, 0, 0, 0, 0, 0, 0, 0, 0, 0, 0, 0, 0, 0, 0, 0, 0, 0, 0, 0, 0, 0, 0, 0, 0, 0, 0, 0, 0]}\n",
      "Estimated confusion matrix:\n",
      "[[1. 0. 0. 0. 0. 0. 0.]\n",
      " [0. 1. 0. 0. 0. 0. 0.]\n",
      " [0. 0. 1. 0. 0. 0. 0.]\n",
      " [0. 0. 0. 1. 0. 0. 0.]\n",
      " [0. 0. 0. 0. 1. 0. 0.]\n",
      " [0. 0. 0. 0. 0. 1. 0.]\n",
      " [0. 0. 0. 0. 0. 0. 1.]]\n"
     ]
    },
    {
     "data": {
      "image/png": "[encoded data removed]",
      "text/plain": [
       "<Figure size 432x288 with 1 Axes>"
      ]
     },
     "metadata": {
      "needs_background": "light"
     },
     "output_type": "display_data"
    },
    {
     "data": {
      "image/png": "[encoded data removed]",
      "text/plain": [
       "<Figure size 432x288 with 1 Axes>"
      ]
     },
     "metadata": {
      "needs_background": "light"
     },
     "output_type": "display_data"
    },
    {
     "data": {
      "image/png": "[encoded data removed]",
      "text/plain": [
       "<Figure size 432x288 with 1 Axes>"
      ]
     },
     "metadata": {
      "needs_background": "light"
     },
     "output_type": "display_data"
    },
    {
     "data": {
      "image/png": "[encoded data removed]",
      "text/plain": [
       "<Figure size 432x288 with 1 Axes>"
      ]
     },
     "metadata": {
      "needs_background": "light"
     },
     "output_type": "display_data"
    }
   ],
   "source": [
    "post_processor_surrogate = ModifiedPendulumProcessorNoiseless()\n",
    "\n",
    "def adjust_rewards_surrogate(reward, state, action):    \n",
    "    observation, reward, done, info = post_processor_surrogate.process_step(state, reward, None, None, action)\n",
    "    return reward\n",
    "\n",
    "plot_mean_q_values(adjust_rewards_surrogate)\n",
    "\n",
    "print(post_processor_surrogate.cmat)\n",
    "print(post_processor_surrogate.r_sets)\n",
    "print('Estimated confusion matrix:')\n",
    "print(np.around(post_processor_surrogate.C, decimals=4))"
   ]
  }
 ],
 "metadata": {
  "kernelspec": {
   "display_name": "base",
   "language": "python",
   "name": "python3"
  },
  "language_info": {
   "codemirror_mode": {
    "name": "ipython",
    "version": 3
   },
   "file_extension": ".py",
   "mimetype": "text/x-python",
   "name": "python",
   "nbconvert_exporter": "python",
   "pygments_lexer": "ipython3",
   "version": "3.9.7"
  },
  "orig_nbformat": 4
 },
 "nbformat": 4,
 "nbformat_minor": 2
}
