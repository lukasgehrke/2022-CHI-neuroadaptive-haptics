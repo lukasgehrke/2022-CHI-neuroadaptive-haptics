{
 "cells": [
  {
   "cell_type": "markdown",
   "metadata": {},
   "source": [
    "# Log\n",
    "- optimization averege across different confusion matrices - that seems to have a big effect on the performance of enabling surrogate"
   ]
  },
  {
   "cell_type": "markdown",
   "metadata": {},
   "source": [
    "# TODO\n",
    " - keep the confusion matrix estimation same - across all trials?\n",
    " - double check that params are getting properly propagated for the Agent and environment\n",
    " - ~~grid search for parameters~~\n",
    " - figure out parameters in surrogate rewards\n",
    " - ~~make rewards non binary in environment and surrogate rewards~~\n",
    " - ~~add deceay from papers, log and other~~\n",
    " - initiate q-table at `-1`?\n",
    " - run experiment with different `correct_action`\n",
    " - should we be setting up the glove for `very distinguishable` levels? Shouldn't we set it up with `barely distinguishable` levels, as this is where the perturbed rewards come on - they'd help us get through the noise and find the correct level."
   ]
  },
  {
   "cell_type": "markdown",
   "metadata": {},
   "source": [
    "# Scripts"
   ]
  },
  {
   "cell_type": "code",
   "execution_count": 1,
   "metadata": {},
   "outputs": [],
   "source": [
    "import numpy as np\n",
    "import collections\n",
    "import pandas as pd\n",
    "import argparse\n",
    "import time\n",
    "import numpy as np"
   ]
  },
  {
   "cell_type": "code",
   "execution_count": 2,
   "metadata": {},
   "outputs": [],
   "source": [
    "import noise_estimator"
   ]
  },
  {
   "cell_type": "code",
   "execution_count": 3,
   "metadata": {},
   "outputs": [],
   "source": [
    "# from ucbq_agent import UCBQAgent\n",
    "from ucbq_agent_stateless import UCBQAgent\n",
    "# from ucbq_environment import ModifiedRandomEnvironment\n",
    "from ucbq_environment_stateless import ModifiedRandomEnvironment"
   ]
  },
  {
   "cell_type": "markdown",
   "metadata": {},
   "source": [
    "# Params"
   ]
  },
  {
   "cell_type": "code",
   "execution_count": 4,
   "metadata": {},
   "outputs": [],
   "source": [
    "max_steps = 120\n",
    "num_episodes = 100\n",
    "num_actions = 7\n",
    "# start_state = 1\n",
    "start_action = 0\n",
    "# zero indexed\n",
    "correct_action = 1"
   ]
  },
  {
   "cell_type": "markdown",
   "metadata": {},
   "source": [
    "# Scripts"
   ]
  },
  {
   "cell_type": "code",
   "execution_count": 5,
   "metadata": {},
   "outputs": [],
   "source": [
    "import matplotlib.pyplot as plt\n",
    "from tqdm import tqdm \n",
    "import utils"
   ]
  },
  {
   "cell_type": "code",
   "execution_count": 6,
   "metadata": {},
   "outputs": [],
   "source": [
    "def get_mean_across_episodes(arr):\n",
    "    min_cols = np.amin([len(row) for row in arr])\n",
    "    truncated_arr = [ x[:min_cols] for x in arr ]\n",
    "    res = np.array(truncated_arr)\n",
    "    mean = res.mean(axis=0)\n",
    "\n",
    "    return mean    \n",
    "\n",
    "def get_cumsum_rewards(rewards):\n",
    "    cumulative_sum_rewards = np.cumsum(rewards)\n",
    "    time_steps = np.arange(1, len(rewards) + 1)\n",
    "    mean_rewards = cumulative_sum_rewards / time_steps\n",
    "    return mean_rewards"
   ]
  },
  {
   "cell_type": "code",
   "execution_count": 7,
   "metadata": {},
   "outputs": [],
   "source": [
    "from modified_pendulum_processor import ModifiedPendulumProcessor"
   ]
  },
  {
   "cell_type": "code",
   "execution_count": 8,
   "metadata": {},
   "outputs": [],
   "source": [
    "def runner(adjust_rewards=None, \n",
    "           agent=None,\n",
    "           env=None,\n",
    "           params={}):\n",
    "\n",
    "    agent = UCBQAgent(params=params) if agent is None else agent\n",
    "    env = env if env else ModifiedRandomEnvironment()\n",
    "\n",
    "    episode_rewards = 0\n",
    "    rewards = []\n",
    "    q_values_for_chart = []\n",
    "    \n",
    "    t = 0\n",
    "    action = start_action\n",
    "    state = 0\n",
    "    plots = params.get('plots', True)\n",
    "    noise = params.get('noise', False)\n",
    "    surrogate = params.get('surrogate', False)\n",
    "    surrogate_c_interval = params.get('surrogate_c_interval', 10)\n",
    "    \n",
    "    reward_processor = None\n",
    "\n",
    "    # surrogate can only be with noise=True for now\n",
    "    if surrogate:\n",
    "        noise = True\n",
    "    \n",
    "    if noise: \n",
    "        #TODO: should we keep/carry over the estimated confusion matrix across all episodes?\n",
    "        # num_unique_rewards = correct_action + 1\n",
    "        num_unique_rewards = utils.get_num_unique_rewards(num_actions, correct_action)\n",
    "        reward_processor = ModifiedPendulumProcessor(surrogate=surrogate, surrogate_c_interval=surrogate_c_interval, num_unique_rewards=num_unique_rewards)\n",
    "\n",
    "    while True:\n",
    "        if t == max_steps - 1:\n",
    "            break\n",
    "\n",
    "        action = agent.choose_action(state) \n",
    "        reward, next_state, done = env.step(action)        \n",
    "        \n",
    "        if done:\n",
    "            break     \n",
    "\n",
    "        rewards.append(reward)\n",
    "\n",
    "        if noise or surrogate:\n",
    "            observation, reward, done, info = reward_processor.process_step(state, reward, None, None, action)\n",
    "        \n",
    "        agent.learn(state, action, reward, next_state)\n",
    "        episode_rewards += reward\n",
    "        t += 1\n",
    "\n",
    "        if plots:\n",
    "            if t % 10 == 0:\n",
    "                sum_q_values_across_states = np.around(np.sum(agent.Q, axis=0), decimals=4)\n",
    "                q_values_for_chart.append(sum_q_values_across_states)\n",
    "      \n",
    "                \n",
    "    episode_length = t + 1\n",
    "    selected_action = action \n",
    "    \n",
    "    if t == max_steps - 1:\n",
    "        # If we reached the end of the episode\n",
    "        # select the action with the highest Q-values as the correct one\n",
    "        sum_q_values_across_states = np.sum(agent.Q, axis=0)\n",
    "        selected_action = np.argmax(sum_q_values_across_states)\n",
    "\n",
    "    return q_values_for_chart, rewards, episode_length, selected_action, reward_processor"
   ]
  },
  {
   "cell_type": "code",
   "execution_count": 9,
   "metadata": {},
   "outputs": [],
   "source": [
    "def qLearningExperiment(learner=None, params={}):\n",
    "    plots = params.get('plots', True)\n",
    "\n",
    "    q_values_all_experiments = []\n",
    "    rewards_all_experiments = []\n",
    "    episode_lengths = []\n",
    "    selected_actions = []\n",
    "\n",
    "    for i in tqdm(range(num_episodes)):\n",
    "        # TODO: .reset() instead of re-creating?\n",
    "        agent = UCBQAgent(params=params) if learner is None else learner\n",
    "        env = ModifiedRandomEnvironment(correct_action=correct_action)\n",
    "        q_values_for_chart, rewards, episode_length, selected_action, reward_processor = runner(env=env, agent=agent, params=params)\n",
    "        selected_actions.append(selected_action)\n",
    "        episode_lengths.append(episode_length)\n",
    "                \n",
    "        rewards_all_experiments.append(rewards)\n",
    "        q_values_all_experiments.append(q_values_for_chart)\n",
    "\n",
    "    correct_count = selected_actions.count(correct_action)\n",
    "    accuracy = (correct_count / len(selected_actions)) * 100\n",
    "    \n",
    "    return q_values_all_experiments, rewards_all_experiments, episode_lengths, selected_actions, accuracy, reward_processor\n"
   ]
  },
  {
   "cell_type": "code",
   "execution_count": 10,
   "metadata": {},
   "outputs": [],
   "source": [
    "def plot_mean_q_values(params={}):\n",
    "    q_values_all_experiments, rewards_all_experiments, episode_lengths, selected_actions, accuracy, last_reward_processor = qLearningExperiment(params=params)\n",
    "    print(f'Accuracy: {accuracy}')    \n",
    "    print(f'Mean episode length: {np.mean(episode_lengths)}')\n",
    "\n",
    "    all_mean_rewards = [ get_cumsum_rewards(rewards) for rewards in rewards_all_experiments ]\n",
    "\n",
    "    all_mean_rewards = pd.DataFrame(all_mean_rewards) # rewards have different lengths\n",
    "    # because they terminate earlier sometimes\n",
    "    mean_matrix = np.mean(all_mean_rewards, axis=0)\n",
    "    mean_rewards_across_episodes = pd.DataFrame(mean_matrix)\n",
    "\n",
    "    mean_matrix = get_mean_across_episodes(q_values_all_experiments)\n",
    "    mean_q_values_across_episodes = pd.DataFrame(mean_matrix)\n",
    "    if params.get('noise', False): \n",
    "        print('Last reward processor:')\n",
    "        last_reward_processor.print()\n",
    "\n",
    "    fig, axes = plt.subplots(2, 2, figsize=(8, 6))\n",
    "    mean_rewards_across_episodes.plot(ax=axes[0, 0], title='Mean reward for this step across all episodes')\n",
    "    mean_q_values_across_episodes.plot(ax=axes[0, 1], title='Mean Q-values accross all episodes')\n",
    "    pd.DataFrame(episode_lengths).plot(ax=axes[1, 0], title='Episode lengths', marker='*')\n",
    "    pd.DataFrame(selected_actions).plot(ax=axes[1, 1], title='Guessed correct action per episode', marker='*')\n",
    "    plt.tight_layout()\n",
    "    plt.show()"
   ]
  },
  {
   "cell_type": "markdown",
   "metadata": {},
   "source": [
    "# Params"
   ]
  },
  {
   "cell_type": "code",
   "execution_count": 11,
   "metadata": {},
   "outputs": [],
   "source": [
    "def default_params():\n",
    "    \"\"\" These are the default parameters used in the framework. \"\"\"\n",
    "    return {\n",
    "            # # Runner parameters\n",
    "            # 'max_episodes': int(1E6),         # experiment stops after this many episodes\n",
    "            # 'max_steps': int(1E9),            # experiment stops after this many steps\n",
    "            # 'multi_runner': False,            # uses multiple runners if True\n",
    "            # Optimization parameters\n",
    "            'alpha': 0.5,                       # learning rate of optimizer\n",
    "            'alpha_decay': 40,\n",
    "            'alpha_min': 0.001,\n",
    "            # Exploration parameters\n",
    "            'epsilon': 1,               # annealing starts at this epsilon\n",
    "            'epsilon_decay': 20,\n",
    "            'epsilon_min': 0.01,    \n",
    "            'gamma': 0.95,                    # discount factor gamma\n",
    "            'plots': False,\n",
    "           }"
   ]
  },
  {
   "cell_type": "markdown",
   "metadata": {},
   "source": [
    "# Real rewards UCB Q-learning"
   ]
  },
  {
   "cell_type": "code",
   "execution_count": 12,
   "metadata": {},
   "outputs": [],
   "source": [
    "rewards_all_experiments = []\n",
    "\n",
    "qs, rewards, _, _, _ = runner()\n",
    "rewards_all_experiments.append(rewards)"
   ]
  },
  {
   "cell_type": "code",
   "execution_count": 13,
   "metadata": {},
   "outputs": [
    {
     "name": "stdout",
     "output_type": "stream",
     "text": [
      "Q-table:\n",
      "[[-8 -6 -6 -5 -5 -6  0]]\n",
      "Number of times action was taken:\n",
      "[[ 2.  1.  4.  4.  3.  1. 41.]]\n",
      "Total timesteps:\n",
      "50\n"
     ]
    }
   ],
   "source": [
    "agent = UCBQAgent()\n",
    "\n",
    "runner(agent=agent)\n",
    "utils.print_agent_stats(agent)"
   ]
  },
  {
   "cell_type": "code",
   "execution_count": 14,
   "metadata": {},
   "outputs": [
    {
     "name": "stderr",
     "output_type": "stream",
     "text": [
      "100%|██████████| 100/100 [00:00<00:00, 862.98it/s]"
     ]
    },
    {
     "name": "stdout",
     "output_type": "stream",
     "text": [
      "Accuracy: 100.0\n",
      "Mean episode length: 50.0\n"
     ]
    },
    {
     "name": "stderr",
     "output_type": "stream",
     "text": [
      "\n"
     ]
    },
    {
     "data": {
      "image/png": "[encoded data removed]",
      "text/plain": [
       "<Figure size 576x432 with 4 Axes>"
      ]
     },
     "metadata": {
      "needs_background": "light"
     },
     "output_type": "display_data"
    }
   ],
   "source": [
    "# The Q-value shape make sense - we're trying higher numbers later\n",
    "# so they converge to -1 slower than e.g. action 0 or 1\n",
    "plot_mean_q_values()"
   ]
  },
  {
   "cell_type": "markdown",
   "metadata": {},
   "source": [
    "# Noisy rewards\n",
    "- rewards are now noisy\n",
    "- q-learner hasn't changed"
   ]
  },
  {
   "cell_type": "code",
   "execution_count": 15,
   "metadata": {},
   "outputs": [],
   "source": [
    "from sklearn.metrics import ConfusionMatrixDisplay"
   ]
  },
  {
   "cell_type": "code",
   "execution_count": 16,
   "metadata": {},
   "outputs": [
    {
     "data": {
      "image/png": "[encoded data removed]",
      "text/plain": [
       "<Figure size 432x288 with 2 Axes>"
      ]
     },
     "metadata": {
      "needs_background": "light"
     },
     "output_type": "display_data"
    },
    {
     "data": {
      "text/plain": [
       "True"
      ]
     },
     "execution_count": 16,
     "metadata": {},
     "output_type": "execute_result"
    }
   ],
   "source": [
    "# Confusion matrix used as noise\n",
    "num_unique_rewards = utils.get_num_unique_rewards(num_actions=num_actions, correct_action=correct_action)\n",
    "cmat = ModifiedPendulumProcessor(num_unique_rewards=num_unique_rewards).initialize_cmat()\n",
    "ConfusionMatrixDisplay(confusion_matrix=cmat).plot()\n",
    "plt.show()\n",
    "noise_estimator.is_invertible(cmat)"
   ]
  },
  {
   "cell_type": "code",
   "execution_count": 17,
   "metadata": {},
   "outputs": [
    {
     "name": "stderr",
     "output_type": "stream",
     "text": [
      "100%|██████████| 100/100 [00:00<00:00, 669.99it/s]\n"
     ]
    },
    {
     "name": "stdout",
     "output_type": "stream",
     "text": [
      "Accuracy: 86.0\n",
      "Mean episode length: 50.34\n",
      "Last reward processor:\n",
      "Estimated confusion matrix:\n"
     ]
    },
    {
     "data": {
      "image/png": "[encoded data removed]",
      "text/plain": [
       "<Figure size 432x288 with 2 Axes>"
      ]
     },
     "metadata": {
      "needs_background": "light"
     },
     "output_type": "display_data"
    },
    {
     "name": "stdout",
     "output_type": "stream",
     "text": [
      "Reward sets:\n",
      "{(0, 4): [-2, -2], (0, 0): [-1, -2, -1, -1], (0, 3): [-1, -2], (0, 5): [-5], (0, 6): [-5], (0, 1): [-1], (0, 2): [0, -1, -1, -1, -1, -1, -1, -2, 0, -2, -2, -1, -1, -1, -2, 0, -2, -1, -1, 0, -2, -2, -1, -2, 0, -2, -1, -1, 0, -1, 0, 0, -1, -1, -3, -1, 0, -1]}\n",
      "Reward set counts:\n",
      "Key (0, 4): 2 items\n",
      "Key (0, 0): 4 items\n",
      "Key (0, 3): 2 items\n",
      "Key (0, 5): 1 items\n",
      "Key (0, 6): 1 items\n",
      "Key (0, 1): 1 items\n",
      "Key (0, 2): 38 items\n"
     ]
    },
    {
     "data": {
      "image/png": "[encoded data removed]",
      "text/plain": [
       "<Figure size 576x432 with 4 Axes>"
      ]
     },
     "metadata": {
      "needs_background": "light"
     },
     "output_type": "display_data"
    }
   ],
   "source": [
    "plot_mean_q_values(params={'noise': True})"
   ]
  },
  {
   "cell_type": "markdown",
   "metadata": {},
   "source": [
    "# Surrogate rewards"
   ]
  },
  {
   "cell_type": "code",
   "execution_count": 19,
   "metadata": {},
   "outputs": [
    {
     "name": "stderr",
     "output_type": "stream",
     "text": [
      "100%|██████████| 100/100 [00:00<00:00, 396.83it/s]\n"
     ]
    },
    {
     "name": "stdout",
     "output_type": "stream",
     "text": [
      "Accuracy: 81.0\n",
      "Mean episode length: 50.45\n",
      "Last reward processor:\n",
      "Estimated confusion matrix:\n"
     ]
    },
    {
     "data": {
      "image/png": "[encoded data removed]",
      "text/plain": [
       "<Figure size 432x288 with 2 Axes>"
      ]
     },
     "metadata": {
      "needs_background": "light"
     },
     "output_type": "display_data"
    },
    {
     "name": "stdout",
     "output_type": "stream",
     "text": [
      "Reward sets:\n",
      "{(0, 1): [0, -2, -2, -1], (0, 0): [-2, -2], (0, 4): [-5, -3], (0, 2): [-1, -1, 0, -1, -1, 0, -1, -1, -1, -2, -1, -2, -1, -1, -1, 0, -1, 0, -1, -2, 0, -1, -2, -1, -1, -1, -1, -2, -2, -2, -1, -1, -1, -1, -1, -1, -2, -1, -2], (0, 6): [-4], (0, 5): [-4]}\n",
      "Reward set counts:\n",
      "Key (0, 1): 4 items\n",
      "Key (0, 0): 2 items\n",
      "Key (0, 4): 2 items\n",
      "Key (0, 2): 39 items\n",
      "Key (0, 6): 1 items\n",
      "Key (0, 5): 1 items\n"
     ]
    },
    {
     "data": {
      "image/png": "[encoded data removed]",
      "text/plain": [
       "<Figure size 576x432 with 4 Axes>"
      ]
     },
     "metadata": {
      "needs_background": "light"
     },
     "output_type": "display_data"
    }
   ],
   "source": [
    "plot_mean_q_values(params={'noise': True, 'surrogate': True, 'surrogate_c_interval': 10})"
   ]
  },
  {
   "cell_type": "markdown",
   "metadata": {},
   "source": [
    "# Sanity check"
   ]
  },
  {
   "cell_type": "code",
   "execution_count": 19,
   "metadata": {},
   "outputs": [
    {
     "name": "stdout",
     "output_type": "stream",
     "text": [
      "Accuracy should be higher, timesteps should be lower\n"
     ]
    },
    {
     "name": "stderr",
     "output_type": "stream",
     "text": [
      "100%|██████████| 100/100 [00:00<00:00, 983.15it/s]\n"
     ]
    },
    {
     "name": "stdout",
     "output_type": "stream",
     "text": [
      "100.0 50.0\n"
     ]
    },
    {
     "name": "stderr",
     "output_type": "stream",
     "text": [
      "100%|██████████| 100/100 [00:00<00:00, 734.43it/s]\n"
     ]
    },
    {
     "name": "stdout",
     "output_type": "stream",
     "text": [
      "83.0 50.26\n"
     ]
    },
    {
     "name": "stderr",
     "output_type": "stream",
     "text": [
      "100%|██████████| 100/100 [00:00<00:00, 535.92it/s]"
     ]
    },
    {
     "name": "stdout",
     "output_type": "stream",
     "text": [
      "84.0 50.3\n"
     ]
    },
    {
     "name": "stderr",
     "output_type": "stream",
     "text": [
      "\n"
     ]
    }
   ],
   "source": [
    "max_steps = 120\n",
    "num_episodes = 100\n",
    "\n",
    "params = {\n",
    "    # # Runner parameters\n",
    "    # 'max_episodes': int(1E6),         # experiment stops after this many episodes\n",
    "    # 'max_steps': int(1E9),            # experiment stops after this many steps\n",
    "    # 'multi_runner': False,            # uses multiple runners if True\n",
    "    # Optimization parameters\n",
    "    'alpha': 0.5,                       # learning rate of optimizer\n",
    "    'alpha_decay': 40,\n",
    "    'alpha_min': 0.001,\n",
    "    # Exploration parameters\n",
    "    'epsilon': 1,               # annealing starts at this epsilon\n",
    "    'epsilon_decay': 20,\n",
    "    'epsilon_min': 0.01,    \n",
    "    'gamma': 0.95,                    # discount factor gamma\n",
    "    'plots': False,\n",
    "}\n",
    "\n",
    "print('Accuracy should be higher, timesteps should be lower')\n",
    "\n",
    "params['noise'] = False\n",
    "params['surrogate'] = False\n",
    "q_values_all_experiments, rewards_all_experiments, episode_lengths, selected_actions, accuracy, _ = qLearningExperiment(params=params)\n",
    "mean_episode_length = np.mean(episode_lengths)\n",
    "print(accuracy, mean_episode_length) \n",
    "\n",
    "params['noise'] = True\n",
    "params['surrogate'] = False\n",
    "q_values_all_experiments, rewards_all_experiments, episode_lengths, selected_actions, accuracy, _ = qLearningExperiment(params=params)\n",
    "mean_episode_length = np.mean(episode_lengths)\n",
    "print(accuracy, mean_episode_length) \n",
    "\n",
    "params['noise'] = True\n",
    "params['surrogate'] = True\n",
    "q_values_all_experiments, rewards_all_experiments, episode_lengths, selected_actions, accuracy, _ = qLearningExperiment(params=params)\n",
    "mean_episode_length = np.mean(episode_lengths)\n",
    "print(accuracy, mean_episode_length) "
   ]
  },
  {
   "cell_type": "markdown",
   "metadata": {},
   "source": [
    "# Bayesian optimization"
   ]
  },
  {
   "cell_type": "code",
   "execution_count": 20,
   "metadata": {},
   "outputs": [],
   "source": [
    "# !pip install bayesian-optimization"
   ]
  },
  {
   "cell_type": "code",
   "execution_count": 21,
   "metadata": {},
   "outputs": [],
   "source": [
    "# | 24        | 100.0     | 0.9026    | 826.9     | 0.0       | 73.21     |\n",
    "# this with noise True and surrogate False\n",
    "# no alpha decay\n",
    "# | 184       | 99.0      | 0.8236    | 243.1     | 0.5114    | 0.2529    | 70.53     | 0.04431   | 0.8871    | 67.76     |"
   ]
  },
  {
   "cell_type": "code",
   "execution_count": 22,
   "metadata": {},
   "outputs": [
    {
     "name": "stdout",
     "output_type": "stream",
     "text": [
      "|   iter    |  target   |   alpha   | alpha_... | alpha_min |  epsilon  | epsilo... | epsilo... |   gamma   | surrog... |\n",
      "-------------------------------------------------------------------------------------------------------------------------\n"
     ]
    },
    {
     "name": "stderr",
     "output_type": "stream",
     "text": [
      "100%|██████████| 100/100 [00:00<00:00, 613.74it/s]\n"
     ]
    },
    {
     "name": "stdout",
     "output_type": "stream",
     "text": [
      "61.05\n",
      "| \u001b[0m1        \u001b[0m | \u001b[0m23.0     \u001b[0m | \u001b[0m0.417    \u001b[0m | \u001b[0m720.6    \u001b[0m | \u001b[0m0.0001144\u001b[0m | \u001b[0m0.3023   \u001b[0m | \u001b[0m20.27    \u001b[0m | \u001b[0m0.09234  \u001b[0m | \u001b[0m0.1863   \u001b[0m | \u001b[0m42.12    \u001b[0m |\n"
     ]
    },
    {
     "name": "stderr",
     "output_type": "stream",
     "text": [
      "100%|██████████| 100/100 [00:00<00:00, 336.52it/s]\n"
     ]
    },
    {
     "name": "stdout",
     "output_type": "stream",
     "text": [
      "120.0\n",
      "| \u001b[95m2        \u001b[0m | \u001b[95m47.0     \u001b[0m | \u001b[95m0.3968   \u001b[0m | \u001b[95m539.3    \u001b[0m | \u001b[95m0.4192   \u001b[0m | \u001b[95m0.6852   \u001b[0m | \u001b[95m24.31    \u001b[0m | \u001b[95m0.8781   \u001b[0m | \u001b[95m0.02739  \u001b[0m | \u001b[95m80.79    \u001b[0m |\n"
     ]
    },
    {
     "name": "stderr",
     "output_type": "stream",
     "text": [
      "100%|██████████| 100/100 [00:00<00:00, 445.99it/s]\n"
     ]
    },
    {
     "name": "stdout",
     "output_type": "stream",
     "text": [
      "94.73\n",
      "| \u001b[95m3        \u001b[0m | \u001b[95m56.0     \u001b[0m | \u001b[95m0.4173   \u001b[0m | \u001b[95m559.1    \u001b[0m | \u001b[95m0.1404   \u001b[0m | \u001b[95m0.1981   \u001b[0m | \u001b[95m66.05    \u001b[0m | \u001b[95m0.9683   \u001b[0m | \u001b[95m0.3134   \u001b[0m | \u001b[95m83.39    \u001b[0m |\n"
     ]
    },
    {
     "name": "stderr",
     "output_type": "stream",
     "text": [
      "100%|██████████| 100/100 [00:00<00:00, 627.68it/s]\n"
     ]
    },
    {
     "name": "stdout",
     "output_type": "stream",
     "text": [
      "66.95\n",
      "| \u001b[0m4        \u001b[0m | \u001b[0m23.0     \u001b[0m | \u001b[0m0.8764   \u001b[0m | \u001b[0m894.7    \u001b[0m | \u001b[0m0.08504  \u001b[0m | \u001b[0m0.03905  \u001b[0m | \u001b[0m21.89    \u001b[0m | \u001b[0m0.8781   \u001b[0m | \u001b[0m0.09835  \u001b[0m | \u001b[0m51.11    \u001b[0m |\n"
     ]
    },
    {
     "name": "stderr",
     "output_type": "stream",
     "text": [
      "100%|██████████| 100/100 [00:00<00:00, 349.83it/s]\n"
     ]
    },
    {
     "name": "stdout",
     "output_type": "stream",
     "text": [
      "117.7\n",
      "| \u001b[0m5        \u001b[0m | \u001b[0m53.0     \u001b[0m | \u001b[0m0.9579   \u001b[0m | \u001b[0m533.6    \u001b[0m | \u001b[0m0.6919   \u001b[0m | \u001b[0m0.3155   \u001b[0m | \u001b[0m58.06    \u001b[0m | \u001b[0m0.8346   \u001b[0m | \u001b[0m0.01829  \u001b[0m | \u001b[0m90.27    \u001b[0m |\n"
     ]
    },
    {
     "name": "stderr",
     "output_type": "stream",
     "text": [
      "100%|██████████| 100/100 [00:00<00:00, 339.21it/s]\n"
     ]
    },
    {
     "name": "stdout",
     "output_type": "stream",
     "text": [
      "119.24\n",
      "| \u001b[95m6        \u001b[0m | \u001b[95m66.0     \u001b[0m | \u001b[95m0.9889   \u001b[0m | \u001b[95m748.4    \u001b[0m | \u001b[95m0.2804   \u001b[0m | \u001b[95m0.7893   \u001b[0m | \u001b[95m17.23    \u001b[0m | \u001b[95m0.4479   \u001b[0m | \u001b[95m0.9086   \u001b[0m | \u001b[95m35.94    \u001b[0m |\n"
     ]
    },
    {
     "name": "stderr",
     "output_type": "stream",
     "text": [
      "100%|██████████| 100/100 [00:00<00:00, 390.93it/s]\n"
     ]
    },
    {
     "name": "stdout",
     "output_type": "stream",
     "text": [
      "104.9\n",
      "| \u001b[0m7        \u001b[0m | \u001b[0m50.0     \u001b[0m | \u001b[0m0.2878   \u001b[0m | \u001b[0m130.9    \u001b[0m | \u001b[0m0.01937  \u001b[0m | \u001b[0m0.6788   \u001b[0m | \u001b[0m24.81    \u001b[0m | \u001b[0m0.2655   \u001b[0m | \u001b[0m0.4916   \u001b[0m | \u001b[0m7.35     \u001b[0m |\n"
     ]
    },
    {
     "name": "stderr",
     "output_type": "stream",
     "text": [
      "100%|██████████| 100/100 [00:00<00:00, 335.49it/s]\n"
     ]
    },
    {
     "name": "stdout",
     "output_type": "stream",
     "text": [
      "119.62\n",
      "| \u001b[0m8        \u001b[0m | \u001b[0m50.0     \u001b[0m | \u001b[0m0.5741   \u001b[0m | \u001b[0m147.6    \u001b[0m | \u001b[0m0.5893   \u001b[0m | \u001b[0m0.6998   \u001b[0m | \u001b[0m17.16    \u001b[0m | \u001b[0m0.4141   \u001b[0m | \u001b[0m0.6944   \u001b[0m | \u001b[0m50.29    \u001b[0m |\n"
     ]
    },
    {
     "name": "stderr",
     "output_type": "stream",
     "text": [
      "100%|██████████| 100/100 [00:00<00:00, 340.95it/s]\n"
     ]
    },
    {
     "name": "stdout",
     "output_type": "stream",
     "text": [
      "120.0\n",
      "| \u001b[0m9        \u001b[0m | \u001b[0m38.0     \u001b[0m | \u001b[0m0.04995  \u001b[0m | \u001b[0m536.4    \u001b[0m | \u001b[0m0.6638   \u001b[0m | \u001b[0m0.5149   \u001b[0m | \u001b[0m76.12    \u001b[0m | \u001b[0m0.5866   \u001b[0m | \u001b[0m0.9034   \u001b[0m | \u001b[0m17.36    \u001b[0m |\n"
     ]
    },
    {
     "name": "stderr",
     "output_type": "stream",
     "text": [
      "100%|██████████| 100/100 [00:00<00:00, 479.55it/s]\n"
     ]
    },
    {
     "name": "stdout",
     "output_type": "stream",
     "text": [
      "85.47\n",
      "| \u001b[0m10       \u001b[0m | \u001b[0m37.0     \u001b[0m | \u001b[0m0.1393   \u001b[0m | \u001b[0m807.6    \u001b[0m | \u001b[0m0.3977   \u001b[0m | \u001b[0m0.1654   \u001b[0m | \u001b[0m74.93    \u001b[0m | \u001b[0m0.3478   \u001b[0m | \u001b[0m0.7508   \u001b[0m | \u001b[0m87.39    \u001b[0m |\n"
     ]
    },
    {
     "name": "stderr",
     "output_type": "stream",
     "text": [
      "100%|██████████| 100/100 [00:00<00:00, 351.42it/s]\n"
     ]
    },
    {
     "name": "stdout",
     "output_type": "stream",
     "text": [
      "119.8\n",
      "| \u001b[95m11       \u001b[0m | \u001b[95m69.0     \u001b[0m | \u001b[95m0.8833   \u001b[0m | \u001b[95m624.0    \u001b[0m | \u001b[95m0.7509   \u001b[0m | \u001b[95m0.3489   \u001b[0m | \u001b[95m28.89    \u001b[0m | \u001b[95m0.8959   \u001b[0m | \u001b[95m0.4281   \u001b[0m | \u001b[95m115.8    \u001b[0m |\n"
     ]
    },
    {
     "name": "stderr",
     "output_type": "stream",
     "text": [
      "100%|██████████| 100/100 [00:00<00:00, 329.34it/s]\n"
     ]
    },
    {
     "name": "stdout",
     "output_type": "stream",
     "text": [
      "120.0\n",
      "| \u001b[0m12       \u001b[0m | \u001b[0m59.0     \u001b[0m | \u001b[0m0.6634   \u001b[0m | \u001b[0m622.1    \u001b[0m | \u001b[0m0.1147   \u001b[0m | \u001b[0m0.9495   \u001b[0m | \u001b[0m41.49    \u001b[0m | \u001b[0m0.5784   \u001b[0m | \u001b[0m0.4081   \u001b[0m | \u001b[0m29.21    \u001b[0m |\n"
     ]
    },
    {
     "name": "stderr",
     "output_type": "stream",
     "text": [
      "100%|██████████| 100/100 [00:00<00:00, 342.92it/s]\n"
     ]
    },
    {
     "name": "stdout",
     "output_type": "stream",
     "text": [
      "120.0\n",
      "| \u001b[95m13       \u001b[0m | \u001b[95m71.0     \u001b[0m | \u001b[95m0.9034   \u001b[0m | \u001b[95m574.1    \u001b[0m | \u001b[95m0.00287  \u001b[0m | \u001b[95m0.6171   \u001b[0m | \u001b[95m32.87    \u001b[0m | \u001b[95m0.5271   \u001b[0m | \u001b[95m0.8859   \u001b[0m | \u001b[95m43.52    \u001b[0m |\n"
     ]
    },
    {
     "name": "stderr",
     "output_type": "stream",
     "text": [
      "100%|██████████| 100/100 [00:00<00:00, 354.06it/s]\n"
     ]
    },
    {
     "name": "stdout",
     "output_type": "stream",
     "text": [
      "120.0\n",
      "| \u001b[0m14       \u001b[0m | \u001b[0m51.0     \u001b[0m | \u001b[0m0.9085   \u001b[0m | \u001b[0m623.7    \u001b[0m | \u001b[0m0.01582  \u001b[0m | \u001b[0m0.9294   \u001b[0m | \u001b[0m58.36    \u001b[0m | \u001b[0m0.9973   \u001b[0m | \u001b[0m0.1723   \u001b[0m | \u001b[0m17.32    \u001b[0m |\n"
     ]
    },
    {
     "name": "stderr",
     "output_type": "stream",
     "text": [
      "100%|██████████| 100/100 [00:00<00:00, 329.03it/s]\n"
     ]
    },
    {
     "name": "stdout",
     "output_type": "stream",
     "text": [
      "120.0\n",
      "| \u001b[0m15       \u001b[0m | \u001b[0m61.0     \u001b[0m | \u001b[0m0.9326   \u001b[0m | \u001b[0m697.1    \u001b[0m | \u001b[0m0.066    \u001b[0m | \u001b[0m0.7555   \u001b[0m | \u001b[0m62.77    \u001b[0m | \u001b[0m0.923    \u001b[0m | \u001b[0m0.7115   \u001b[0m | \u001b[0m15.79    \u001b[0m |\n"
     ]
    },
    {
     "name": "stderr",
     "output_type": "stream",
     "text": [
      "100%|██████████| 100/100 [00:00<00:00, 405.34it/s]\n"
     ]
    },
    {
     "name": "stdout",
     "output_type": "stream",
     "text": [
      "101.96\n",
      "| \u001b[0m16       \u001b[0m | \u001b[0m26.0     \u001b[0m | \u001b[0m0.01988  \u001b[0m | \u001b[0m27.18    \u001b[0m | \u001b[0m0.02831  \u001b[0m | \u001b[0m0.2462   \u001b[0m | \u001b[0m70.2     \u001b[0m | \u001b[0m0.5388   \u001b[0m | \u001b[0m0.5528   \u001b[0m | \u001b[0m101.2    \u001b[0m |\n"
     ]
    },
    {
     "name": "stderr",
     "output_type": "stream",
     "text": [
      "100%|██████████| 100/100 [00:00<00:00, 772.19it/s]\n"
     ]
    },
    {
     "name": "stdout",
     "output_type": "stream",
     "text": [
      "51.36\n",
      "| \u001b[95m17       \u001b[0m | \u001b[95m73.0     \u001b[0m | \u001b[95m0.1242   \u001b[0m | \u001b[95m279.9    \u001b[0m | \u001b[95m0.5858   \u001b[0m | \u001b[95m0.9696   \u001b[0m | \u001b[95m49.27    \u001b[0m | \u001b[95m0.01865  \u001b[0m | \u001b[95m0.8006   \u001b[0m | \u001b[95m28.72    \u001b[0m |\n"
     ]
    },
    {
     "name": "stderr",
     "output_type": "stream",
     "text": [
      "100%|██████████| 100/100 [00:00<00:00, 424.87it/s]\n"
     ]
    },
    {
     "name": "stdout",
     "output_type": "stream",
     "text": [
      "98.28\n",
      "| \u001b[95m18       \u001b[0m | \u001b[95m75.0     \u001b[0m | \u001b[95m0.8071   \u001b[0m | \u001b[95m388.5    \u001b[0m | \u001b[95m0.8635   \u001b[0m | \u001b[95m0.7471   \u001b[0m | \u001b[95m48.94    \u001b[0m | \u001b[95m0.1365   \u001b[0m | \u001b[95m0.05992  \u001b[0m | \u001b[95m15.44    \u001b[0m |\n"
     ]
    },
    {
     "name": "stderr",
     "output_type": "stream",
     "text": [
      "100%|██████████| 100/100 [00:00<00:00, 804.34it/s]\n"
     ]
    },
    {
     "name": "stdout",
     "output_type": "stream",
     "text": [
      "50.06\n",
      "| \u001b[0m19       \u001b[0m | \u001b[0m10.0     \u001b[0m | \u001b[0m0.04455  \u001b[0m | \u001b[0m108.4    \u001b[0m | \u001b[0m0.2257   \u001b[0m | \u001b[0m0.713    \u001b[0m | \u001b[0m49.18    \u001b[0m | \u001b[0m0.01256  \u001b[0m | \u001b[0m0.07197  \u001b[0m | \u001b[0m116.1    \u001b[0m |\n"
     ]
    },
    {
     "name": "stderr",
     "output_type": "stream",
     "text": [
      "100%|██████████| 100/100 [00:00<00:00, 338.94it/s]\n"
     ]
    },
    {
     "name": "stdout",
     "output_type": "stream",
     "text": [
      "120.0\n",
      "| \u001b[0m20       \u001b[0m | \u001b[0m63.0     \u001b[0m | \u001b[0m0.5681   \u001b[0m | \u001b[0m204.1    \u001b[0m | \u001b[0m0.2523   \u001b[0m | \u001b[0m0.7438   \u001b[0m | \u001b[0m23.68    \u001b[0m | \u001b[0m0.5814   \u001b[0m | \u001b[0m0.97     \u001b[0m | \u001b[0m101.8    \u001b[0m |\n"
     ]
    },
    {
     "name": "stderr",
     "output_type": "stream",
     "text": [
      "100%|██████████| 100/100 [00:00<00:00, 777.84it/s]\n"
     ]
    },
    {
     "name": "stdout",
     "output_type": "stream",
     "text": [
      "51.67\n",
      "| \u001b[0m21       \u001b[0m | \u001b[0m33.0     \u001b[0m | \u001b[0m0.2398   \u001b[0m | \u001b[0m494.3    \u001b[0m | \u001b[0m0.62     \u001b[0m | \u001b[0m0.829    \u001b[0m | \u001b[0m20.98    \u001b[0m | \u001b[0m0.01858  \u001b[0m | \u001b[0m0.07002  \u001b[0m | \u001b[0m58.88    \u001b[0m |\n"
     ]
    },
    {
     "name": "stderr",
     "output_type": "stream",
     "text": [
      "100%|██████████| 100/100 [00:00<00:00, 344.69it/s]\n"
     ]
    },
    {
     "name": "stdout",
     "output_type": "stream",
     "text": [
      "119.92\n",
      "| \u001b[0m22       \u001b[0m | \u001b[0m64.0     \u001b[0m | \u001b[0m0.6063   \u001b[0m | \u001b[0m569.3    \u001b[0m | \u001b[0m0.3174   \u001b[0m | \u001b[0m0.9886   \u001b[0m | \u001b[0m50.58    \u001b[0m | \u001b[0m0.3801   \u001b[0m | \u001b[0m0.5509   \u001b[0m | \u001b[0m89.69    \u001b[0m |\n"
     ]
    },
    {
     "name": "stderr",
     "output_type": "stream",
     "text": [
      "100%|██████████| 100/100 [00:00<00:00, 397.91it/s]\n"
     ]
    },
    {
     "name": "stdout",
     "output_type": "stream",
     "text": [
      "107.33\n",
      "| \u001b[95m23       \u001b[0m | \u001b[95m81.0     \u001b[0m | \u001b[95m0.6692   \u001b[0m | \u001b[95m265.7    \u001b[0m | \u001b[95m0.06633  \u001b[0m | \u001b[95m0.3701   \u001b[0m | \u001b[95m54.08    \u001b[0m | \u001b[95m0.2102   \u001b[0m | \u001b[95m0.7528   \u001b[0m | \u001b[95m8.918    \u001b[0m |\n"
     ]
    },
    {
     "name": "stderr",
     "output_type": "stream",
     "text": [
      "100%|██████████| 100/100 [00:00<00:00, 346.20it/s]\n"
     ]
    },
    {
     "name": "stdout",
     "output_type": "stream",
     "text": [
      "120.0\n",
      "| \u001b[0m24       \u001b[0m | \u001b[0m19.0     \u001b[0m | \u001b[0m0.2603   \u001b[0m | \u001b[0m804.9    \u001b[0m | \u001b[0m0.1934   \u001b[0m | \u001b[0m0.6395   \u001b[0m | \u001b[0m46.73    \u001b[0m | \u001b[0m0.9248   \u001b[0m | \u001b[0m0.2633   \u001b[0m | \u001b[0m8.849    \u001b[0m |\n"
     ]
    },
    {
     "name": "stderr",
     "output_type": "stream",
     "text": [
      "100%|██████████| 100/100 [00:00<00:00, 440.65it/s]\n"
     ]
    },
    {
     "name": "stdout",
     "output_type": "stream",
     "text": [
      "96.57\n",
      "| \u001b[0m25       \u001b[0m | \u001b[0m72.0     \u001b[0m | \u001b[0m0.7351   \u001b[0m | \u001b[0m772.4    \u001b[0m | \u001b[0m0.9078   \u001b[0m | \u001b[0m0.932    \u001b[0m | \u001b[0m10.98    \u001b[0m | \u001b[0m0.2344   \u001b[0m | \u001b[0m0.6168   \u001b[0m | \u001b[0m113.9    \u001b[0m |\n"
     ]
    },
    {
     "name": "stderr",
     "output_type": "stream",
     "text": [
      "100%|██████████| 100/100 [00:00<00:00, 349.19it/s]\n"
     ]
    },
    {
     "name": "stdout",
     "output_type": "stream",
     "text": [
      "120.0\n",
      "| \u001b[0m26       \u001b[0m | \u001b[0m73.0     \u001b[0m | \u001b[0m0.9502   \u001b[0m | \u001b[0m557.1    \u001b[0m | \u001b[0m0.9156   \u001b[0m | \u001b[0m0.6416   \u001b[0m | \u001b[0m37.3     \u001b[0m | \u001b[0m0.486    \u001b[0m | \u001b[0m0.6043   \u001b[0m | \u001b[0m66.4     \u001b[0m |\n"
     ]
    },
    {
     "name": "stderr",
     "output_type": "stream",
     "text": [
      "100%|██████████| 100/100 [00:00<00:00, 532.94it/s]\n"
     ]
    },
    {
     "name": "stdout",
     "output_type": "stream",
     "text": [
      "78.73\n",
      "| \u001b[0m27       \u001b[0m | \u001b[0m79.0     \u001b[0m | \u001b[0m0.9262   \u001b[0m | \u001b[0m918.8    \u001b[0m | \u001b[0m0.3949   \u001b[0m | \u001b[0m0.9633   \u001b[0m | \u001b[0m22.18    \u001b[0m | \u001b[0m0.1263   \u001b[0m | \u001b[0m0.1351   \u001b[0m | \u001b[0m61.17    \u001b[0m |\n"
     ]
    },
    {
     "name": "stderr",
     "output_type": "stream",
     "text": [
      "100%|██████████| 100/100 [00:00<00:00, 849.65it/s]\n"
     ]
    },
    {
     "name": "stdout",
     "output_type": "stream",
     "text": [
      "51.32\n",
      "| \u001b[0m28       \u001b[0m | \u001b[0m0.0      \u001b[0m | \u001b[0m0.02152  \u001b[0m | \u001b[0m948.0    \u001b[0m | \u001b[0m0.8271   \u001b[0m | \u001b[0m0.01502  \u001b[0m | \u001b[0m22.33    \u001b[0m | \u001b[0m0.3321   \u001b[0m | \u001b[0m0.131    \u001b[0m | \u001b[0m97.33    \u001b[0m |\n"
     ]
    },
    {
     "name": "stderr",
     "output_type": "stream",
     "text": [
      "100%|██████████| 100/100 [00:00<00:00, 357.41it/s]\n"
     ]
    },
    {
     "name": "stdout",
     "output_type": "stream",
     "text": [
      "120.0\n",
      "| \u001b[0m29       \u001b[0m | \u001b[0m23.0     \u001b[0m | \u001b[0m0.3447   \u001b[0m | \u001b[0m940.2    \u001b[0m | \u001b[0m0.582    \u001b[0m | \u001b[0m0.8788   \u001b[0m | \u001b[0m69.13    \u001b[0m | \u001b[0m0.9054   \u001b[0m | \u001b[0m0.4599   \u001b[0m | \u001b[0m66.02    \u001b[0m |\n"
     ]
    },
    {
     "name": "stderr",
     "output_type": "stream",
     "text": [
      "100%|██████████| 100/100 [00:00<00:00, 348.10it/s]\n"
     ]
    },
    {
     "name": "stdout",
     "output_type": "stream",
     "text": [
      "120.0\n",
      "| \u001b[0m30       \u001b[0m | \u001b[0m69.0     \u001b[0m | \u001b[0m0.7986   \u001b[0m | \u001b[0m286.4    \u001b[0m | \u001b[0m0.4903   \u001b[0m | \u001b[0m0.5991   \u001b[0m | \u001b[0m11.09    \u001b[0m | \u001b[0m0.5935   \u001b[0m | \u001b[0m0.4337   \u001b[0m | \u001b[0m97.08    \u001b[0m |\n"
     ]
    },
    {
     "name": "stderr",
     "output_type": "stream",
     "text": [
      "100%|██████████| 100/100 [00:00<00:00, 485.71it/s]\n"
     ]
    },
    {
     "name": "stdout",
     "output_type": "stream",
     "text": [
      "87.45\n",
      "| \u001b[0m31       \u001b[0m | \u001b[0m38.0     \u001b[0m | \u001b[0m0.3152   \u001b[0m | \u001b[0m893.0    \u001b[0m | \u001b[0m0.5779   \u001b[0m | \u001b[0m0.184    \u001b[0m | \u001b[0m65.16    \u001b[0m | \u001b[0m0.612    \u001b[0m | \u001b[0m0.05391  \u001b[0m | \u001b[0m51.0     \u001b[0m |\n"
     ]
    },
    {
     "name": "stderr",
     "output_type": "stream",
     "text": [
      "100%|██████████| 100/100 [00:00<00:00, 358.42it/s]\n"
     ]
    },
    {
     "name": "stdout",
     "output_type": "stream",
     "text": [
      "120.0\n",
      "| \u001b[0m32       \u001b[0m | \u001b[0m38.0     \u001b[0m | \u001b[0m0.6791   \u001b[0m | \u001b[0m918.7    \u001b[0m | \u001b[0m0.000402 \u001b[0m | \u001b[0m0.9768   \u001b[0m | \u001b[0m36.36    \u001b[0m | \u001b[0m0.9738   \u001b[0m | \u001b[0m0.6047   \u001b[0m | \u001b[0m99.63    \u001b[0m |\n"
     ]
    },
    {
     "name": "stderr",
     "output_type": "stream",
     "text": [
      "100%|██████████| 100/100 [00:00<00:00, 354.55it/s]\n"
     ]
    },
    {
     "name": "stdout",
     "output_type": "stream",
     "text": [
      "119.89\n",
      "| \u001b[0m33       \u001b[0m | \u001b[0m72.0     \u001b[0m | \u001b[0m0.5747   \u001b[0m | \u001b[0m628.4    \u001b[0m | \u001b[0m0.2856   \u001b[0m | \u001b[0m0.5868   \u001b[0m | \u001b[0m62.5     \u001b[0m | \u001b[0m0.8583   \u001b[0m | \u001b[0m0.7551   \u001b[0m | \u001b[0m84.07    \u001b[0m |\n"
     ]
    },
    {
     "name": "stderr",
     "output_type": "stream",
     "text": [
      "100%|██████████| 100/100 [00:00<00:00, 351.06it/s]\n"
     ]
    },
    {
     "name": "stdout",
     "output_type": "stream",
     "text": [
      "118.96\n",
      "| \u001b[0m34       \u001b[0m | \u001b[0m76.0     \u001b[0m | \u001b[0m0.8645   \u001b[0m | \u001b[0m323.4    \u001b[0m | \u001b[0m0.6708   \u001b[0m | \u001b[0m0.4509   \u001b[0m | \u001b[0m36.75    \u001b[0m | \u001b[0m0.4108   \u001b[0m | \u001b[0m0.4015   \u001b[0m | \u001b[0m38.77    \u001b[0m |\n"
     ]
    },
    {
     "name": "stderr",
     "output_type": "stream",
     "text": [
      "100%|██████████| 100/100 [00:00<00:00, 346.86it/s]\n"
     ]
    },
    {
     "name": "stdout",
     "output_type": "stream",
     "text": [
      "120.0\n",
      "| \u001b[0m35       \u001b[0m | \u001b[0m58.0     \u001b[0m | \u001b[0m0.6219   \u001b[0m | \u001b[0m430.8    \u001b[0m | \u001b[0m0.9738   \u001b[0m | \u001b[0m0.6778   \u001b[0m | \u001b[0m23.9     \u001b[0m | \u001b[0m0.4267   \u001b[0m | \u001b[0m0.3433   \u001b[0m | \u001b[0m95.92    \u001b[0m |\n"
     ]
    },
    {
     "name": "stderr",
     "output_type": "stream",
     "text": [
      "100%|██████████| 100/100 [00:00<00:00, 359.04it/s]\n"
     ]
    },
    {
     "name": "stdout",
     "output_type": "stream",
     "text": [
      "115.32\n",
      "| \u001b[0m36       \u001b[0m | \u001b[0m69.0     \u001b[0m | \u001b[0m0.88     \u001b[0m | \u001b[0m903.9    \u001b[0m | \u001b[0m0.6627   \u001b[0m | \u001b[0m0.2702   \u001b[0m | \u001b[0m27.67    \u001b[0m | \u001b[0m0.8549   \u001b[0m | \u001b[0m0.5277   \u001b[0m | \u001b[0m96.46    \u001b[0m |\n"
     ]
    },
    {
     "name": "stderr",
     "output_type": "stream",
     "text": [
      "100%|██████████| 100/100 [00:00<00:00, 348.18it/s]\n"
     ]
    },
    {
     "name": "stdout",
     "output_type": "stream",
     "text": [
      "119.37\n",
      "| \u001b[0m37       \u001b[0m | \u001b[0m51.0     \u001b[0m | \u001b[0m0.5725   \u001b[0m | \u001b[0m733.4    \u001b[0m | \u001b[0m0.519    \u001b[0m | \u001b[0m0.7709   \u001b[0m | \u001b[0m49.82    \u001b[0m | \u001b[0m0.4657   \u001b[0m | \u001b[0m0.3427   \u001b[0m | \u001b[0m9.117    \u001b[0m |\n"
     ]
    },
    {
     "name": "stderr",
     "output_type": "stream",
     "text": [
      "100%|██████████| 100/100 [00:00<00:00, 423.24it/s]\n"
     ]
    },
    {
     "name": "stdout",
     "output_type": "stream",
     "text": [
      "94.4\n",
      "| \u001b[0m38       \u001b[0m | \u001b[0m64.0     \u001b[0m | \u001b[0m0.3779   \u001b[0m | \u001b[0m80.55    \u001b[0m | \u001b[0m0.9828   \u001b[0m | \u001b[0m0.1816   \u001b[0m | \u001b[0m66.83    \u001b[0m | \u001b[0m0.875    \u001b[0m | \u001b[0m0.6884   \u001b[0m | \u001b[0m68.77    \u001b[0m |\n"
     ]
    },
    {
     "name": "stderr",
     "output_type": "stream",
     "text": [
      "100%|██████████| 100/100 [00:00<00:00, 429.41it/s]\n"
     ]
    },
    {
     "name": "stdout",
     "output_type": "stream",
     "text": [
      "99.48\n",
      "| \u001b[0m39       \u001b[0m | \u001b[0m76.0     \u001b[0m | \u001b[0m0.161    \u001b[0m | \u001b[0m467.4    \u001b[0m | \u001b[0m0.3452   \u001b[0m | \u001b[0m0.225    \u001b[0m | \u001b[0m51.48    \u001b[0m | \u001b[0m0.3123   \u001b[0m | \u001b[0m0.9163   \u001b[0m | \u001b[0m109.2    \u001b[0m |\n"
     ]
    },
    {
     "name": "stderr",
     "output_type": "stream",
     "text": [
      "100%|██████████| 100/100 [00:00<00:00, 420.18it/s]\n"
     ]
    },
    {
     "name": "stdout",
     "output_type": "stream",
     "text": [
      "99.46\n",
      "| \u001b[0m40       \u001b[0m | \u001b[0m37.0     \u001b[0m | \u001b[0m0.2571   \u001b[0m | \u001b[0m111.8    \u001b[0m | \u001b[0m0.193    \u001b[0m | \u001b[0m0.4996   \u001b[0m | \u001b[0m61.0     \u001b[0m | \u001b[0m0.2082   \u001b[0m | \u001b[0m0.248    \u001b[0m | \u001b[0m102.3    \u001b[0m |\n"
     ]
    },
    {
     "name": "stderr",
     "output_type": "stream",
     "text": [
      "100%|██████████| 100/100 [00:00<00:00, 576.54it/s]\n"
     ]
    },
    {
     "name": "stdout",
     "output_type": "stream",
     "text": [
      "71.13\n",
      "| \u001b[0m41       \u001b[0m | \u001b[0m28.0     \u001b[0m | \u001b[0m0.4158   \u001b[0m | \u001b[0m617.1    \u001b[0m | \u001b[0m0.2337   \u001b[0m | \u001b[0m0.102    \u001b[0m | \u001b[0m46.11    \u001b[0m | \u001b[0m0.4771   \u001b[0m | \u001b[0m0.1527   \u001b[0m | \u001b[0m74.99    \u001b[0m |\n"
     ]
    },
    {
     "name": "stderr",
     "output_type": "stream",
     "text": [
      "100%|██████████| 100/100 [00:00<00:00, 331.35it/s]\n"
     ]
    },
    {
     "name": "stdout",
     "output_type": "stream",
     "text": [
      "120.0\n",
      "| \u001b[0m42       \u001b[0m | \u001b[0m56.0     \u001b[0m | \u001b[0m0.544    \u001b[0m | \u001b[0m654.5    \u001b[0m | \u001b[0m0.1445   \u001b[0m | \u001b[0m0.7515   \u001b[0m | \u001b[0m25.54    \u001b[0m | \u001b[0m0.5194   \u001b[0m | \u001b[0m0.7853   \u001b[0m | \u001b[0m3.657    \u001b[0m |\n"
     ]
    },
    {
     "name": "stderr",
     "output_type": "stream",
     "text": [
      "100%|██████████| 100/100 [00:00<00:00, 319.84it/s]\n"
     ]
    },
    {
     "name": "stdout",
     "output_type": "stream",
     "text": [
      "120.0\n",
      "| \u001b[0m43       \u001b[0m | \u001b[0m30.0     \u001b[0m | \u001b[0m0.3244   \u001b[0m | \u001b[0m873.0    \u001b[0m | \u001b[0m0.8447   \u001b[0m | \u001b[0m0.5384   \u001b[0m | \u001b[0m70.66    \u001b[0m | \u001b[0m0.9498   \u001b[0m | \u001b[0m0.8264   \u001b[0m | \u001b[0m102.6    \u001b[0m |\n"
     ]
    },
    {
     "name": "stderr",
     "output_type": "stream",
     "text": [
      "100%|██████████| 100/100 [00:00<00:00, 727.20it/s]\n"
     ]
    },
    {
     "name": "stdout",
     "output_type": "stream",
     "text": [
      "53.27\n",
      "| \u001b[0m44       \u001b[0m | \u001b[0m42.0     \u001b[0m | \u001b[0m0.09874  \u001b[0m | \u001b[0m651.7    \u001b[0m | \u001b[0m0.7035   \u001b[0m | \u001b[0m0.6102   \u001b[0m | \u001b[0m65.97    \u001b[0m | \u001b[0m0.03457  \u001b[0m | \u001b[0m0.7702   \u001b[0m | \u001b[0m88.08    \u001b[0m |\n"
     ]
    },
    {
     "name": "stderr",
     "output_type": "stream",
     "text": [
      "100%|██████████| 100/100 [00:00<00:00, 320.13it/s]\n"
     ]
    },
    {
     "name": "stdout",
     "output_type": "stream",
     "text": [
      "117.56\n",
      "| \u001b[0m45       \u001b[0m | \u001b[0m41.0     \u001b[0m | \u001b[0m0.2597   \u001b[0m | \u001b[0m257.8    \u001b[0m | \u001b[0m0.6323   \u001b[0m | \u001b[0m0.3453   \u001b[0m | \u001b[0m65.76    \u001b[0m | \u001b[0m0.4461   \u001b[0m | \u001b[0m0.7827   \u001b[0m | \u001b[0m118.9    \u001b[0m |\n"
     ]
    },
    {
     "name": "stderr",
     "output_type": "stream",
     "text": [
      "100%|██████████| 100/100 [00:00<00:00, 339.21it/s]\n"
     ]
    },
    {
     "name": "stdout",
     "output_type": "stream",
     "text": [
      "120.0\n",
      "| \u001b[0m46       \u001b[0m | \u001b[0m39.0     \u001b[0m | \u001b[0m0.3002   \u001b[0m | \u001b[0m143.9    \u001b[0m | \u001b[0m0.9013   \u001b[0m | \u001b[0m0.5416   \u001b[0m | \u001b[0m78.23    \u001b[0m | \u001b[0m0.6366   \u001b[0m | \u001b[0m0.9939   \u001b[0m | \u001b[0m65.98    \u001b[0m |\n"
     ]
    },
    {
     "name": "stderr",
     "output_type": "stream",
     "text": [
      "100%|██████████| 100/100 [00:00<00:00, 725.17it/s]\n"
     ]
    },
    {
     "name": "stdout",
     "output_type": "stream",
     "text": [
      "58.01\n",
      "| \u001b[0m47       \u001b[0m | \u001b[0m18.0     \u001b[0m | \u001b[0m0.5264   \u001b[0m | \u001b[0m136.3    \u001b[0m | \u001b[0m0.3557   \u001b[0m | \u001b[0m0.02622  \u001b[0m | \u001b[0m21.23    \u001b[0m | \u001b[0m0.7456   \u001b[0m | \u001b[0m0.0304   \u001b[0m | \u001b[0m44.62    \u001b[0m |\n"
     ]
    },
    {
     "name": "stderr",
     "output_type": "stream",
     "text": [
      "100%|██████████| 100/100 [00:00<00:00, 410.63it/s]\n"
     ]
    },
    {
     "name": "stdout",
     "output_type": "stream",
     "text": [
      "105.49\n",
      "| \u001b[0m48       \u001b[0m | \u001b[0m80.0     \u001b[0m | \u001b[0m0.8623   \u001b[0m | \u001b[0m693.0    \u001b[0m | \u001b[0m0.6909   \u001b[0m | \u001b[0m0.1886   \u001b[0m | \u001b[0m40.93    \u001b[0m | \u001b[0m0.5816   \u001b[0m | \u001b[0m0.9898   \u001b[0m | \u001b[0m25.26    \u001b[0m |\n"
     ]
    },
    {
     "name": "stderr",
     "output_type": "stream",
     "text": [
      "100%|██████████| 100/100 [00:00<00:00, 349.90it/s]\n"
     ]
    },
    {
     "name": "stdout",
     "output_type": "stream",
     "text": [
      "119.46\n",
      "| \u001b[0m49       \u001b[0m | \u001b[0m29.0     \u001b[0m | \u001b[0m0.2477   \u001b[0m | \u001b[0m262.9    \u001b[0m | \u001b[0m0.7502   \u001b[0m | \u001b[0m0.457    \u001b[0m | \u001b[0m13.99    \u001b[0m | \u001b[0m0.5085   \u001b[0m | \u001b[0m0.212    \u001b[0m | \u001b[0m96.03    \u001b[0m |\n"
     ]
    },
    {
     "name": "stderr",
     "output_type": "stream",
     "text": [
      "100%|██████████| 100/100 [00:00<00:00, 348.54it/s]\n"
     ]
    },
    {
     "name": "stdout",
     "output_type": "stream",
     "text": [
      "120.0\n",
      "| \u001b[0m50       \u001b[0m | \u001b[0m11.0     \u001b[0m | \u001b[0m0.2973   \u001b[0m | \u001b[0m28.58    \u001b[0m | \u001b[0m0.5934   \u001b[0m | \u001b[0m0.8438   \u001b[0m | \u001b[0m36.67    \u001b[0m | \u001b[0m0.7499   \u001b[0m | \u001b[0m0.5111   \u001b[0m | \u001b[0m65.37    \u001b[0m |\n"
     ]
    },
    {
     "name": "stderr",
     "output_type": "stream",
     "text": [
      "100%|██████████| 100/100 [00:00<00:00, 334.65it/s]\n"
     ]
    },
    {
     "name": "stdout",
     "output_type": "stream",
     "text": [
      "120.0\n",
      "| \u001b[0m51       \u001b[0m | \u001b[0m59.0     \u001b[0m | \u001b[0m0.9594   \u001b[0m | \u001b[0m804.2    \u001b[0m | \u001b[0m0.03232  \u001b[0m | \u001b[0m0.7094   \u001b[0m | \u001b[0m42.55    \u001b[0m | \u001b[0m0.9475   \u001b[0m | \u001b[0m0.2214   \u001b[0m | \u001b[0m32.78    \u001b[0m |\n"
     ]
    },
    {
     "name": "stderr",
     "output_type": "stream",
     "text": [
      "100%|██████████| 100/100 [00:00<00:00, 352.18it/s]\n"
     ]
    },
    {
     "name": "stdout",
     "output_type": "stream",
     "text": [
      "120.0\n",
      "| \u001b[0m52       \u001b[0m | \u001b[0m23.0     \u001b[0m | \u001b[0m0.08147  \u001b[0m | \u001b[0m429.2    \u001b[0m | \u001b[0m0.109    \u001b[0m | \u001b[0m0.6338   \u001b[0m | \u001b[0m66.21    \u001b[0m | \u001b[0m0.6968   \u001b[0m | \u001b[0m0.7662   \u001b[0m | \u001b[0m41.75    \u001b[0m |\n"
     ]
    },
    {
     "name": "stderr",
     "output_type": "stream",
     "text": [
      "100%|██████████| 100/100 [00:00<00:00, 558.34it/s]\n"
     ]
    },
    {
     "name": "stdout",
     "output_type": "stream",
     "text": [
      "75.02\n",
      "| \u001b[0m53       \u001b[0m | \u001b[0m52.0     \u001b[0m | \u001b[0m0.8459   \u001b[0m | \u001b[0m429.3    \u001b[0m | \u001b[0m0.824    \u001b[0m | \u001b[0m0.6265   \u001b[0m | \u001b[0m20.04    \u001b[0m | \u001b[0m0.07839  \u001b[0m | \u001b[0m0.01833  \u001b[0m | \u001b[0m8.94     \u001b[0m |\n"
     ]
    },
    {
     "name": "stderr",
     "output_type": "stream",
     "text": [
      "100%|██████████| 100/100 [00:00<00:00, 327.53it/s]\n"
     ]
    },
    {
     "name": "stdout",
     "output_type": "stream",
     "text": [
      "120.0\n",
      "| \u001b[0m54       \u001b[0m | \u001b[0m31.0     \u001b[0m | \u001b[0m0.4586   \u001b[0m | \u001b[0m114.2    \u001b[0m | \u001b[0m0.02778  \u001b[0m | \u001b[0m0.7549   \u001b[0m | \u001b[0m37.64    \u001b[0m | \u001b[0m0.7469   \u001b[0m | \u001b[0m0.4524   \u001b[0m | \u001b[0m54.56    \u001b[0m |\n"
     ]
    },
    {
     "name": "stderr",
     "output_type": "stream",
     "text": [
      "100%|██████████| 100/100 [00:00<00:00, 715.16it/s]\n"
     ]
    },
    {
     "name": "stdout",
     "output_type": "stream",
     "text": [
      "52.37\n",
      "| \u001b[0m55       \u001b[0m | \u001b[0m70.0     \u001b[0m | \u001b[0m0.4781   \u001b[0m | \u001b[0m474.5    \u001b[0m | \u001b[0m0.8032   \u001b[0m | \u001b[0m0.4024   \u001b[0m | \u001b[0m73.33    \u001b[0m | \u001b[0m0.03706  \u001b[0m | \u001b[0m0.7739   \u001b[0m | \u001b[0m15.95    \u001b[0m |\n"
     ]
    },
    {
     "name": "stderr",
     "output_type": "stream",
     "text": [
      "100%|██████████| 100/100 [00:00<00:00, 851.61it/s]\n"
     ]
    },
    {
     "name": "stdout",
     "output_type": "stream",
     "text": [
      "50.97\n",
      "| \u001b[0m56       \u001b[0m | \u001b[0m50.0     \u001b[0m | \u001b[0m0.6185   \u001b[0m | \u001b[0m11.35    \u001b[0m | \u001b[0m0.5386   \u001b[0m | \u001b[0m0.003018 \u001b[0m | \u001b[0m76.58    \u001b[0m | \u001b[0m0.9054   \u001b[0m | \u001b[0m0.796    \u001b[0m | \u001b[0m109.9    \u001b[0m |\n"
     ]
    },
    {
     "name": "stderr",
     "output_type": "stream",
     "text": [
      "100%|██████████| 100/100 [00:00<00:00, 353.49it/s]\n"
     ]
    },
    {
     "name": "stdout",
     "output_type": "stream",
     "text": [
      "120.0\n",
      "| \u001b[0m57       \u001b[0m | \u001b[0m28.0     \u001b[0m | \u001b[0m0.1456   \u001b[0m | \u001b[0m158.6    \u001b[0m | \u001b[0m0.1876   \u001b[0m | \u001b[0m0.6225   \u001b[0m | \u001b[0m73.41    \u001b[0m | \u001b[0m0.99     \u001b[0m | \u001b[0m0.7111   \u001b[0m | \u001b[0m88.08    \u001b[0m |\n"
     ]
    },
    {
     "name": "stderr",
     "output_type": "stream",
     "text": [
      "100%|██████████| 100/100 [00:00<00:00, 388.85it/s]\n"
     ]
    },
    {
     "name": "stdout",
     "output_type": "stream",
     "text": [
      "111.38\n",
      "| \u001b[95m58       \u001b[0m | \u001b[95m84.0     \u001b[0m | \u001b[95m0.9093   \u001b[0m | \u001b[95m401.5    \u001b[0m | \u001b[95m0.2499   \u001b[0m | \u001b[95m0.1734   \u001b[0m | \u001b[95m18.36    \u001b[0m | \u001b[95m0.8126   \u001b[0m | \u001b[95m0.1468   \u001b[0m | \u001b[95m32.45    \u001b[0m |\n"
     ]
    },
    {
     "name": "stderr",
     "output_type": "stream",
     "text": [
      "100%|██████████| 100/100 [00:00<00:00, 380.29it/s]\n"
     ]
    },
    {
     "name": "stdout",
     "output_type": "stream",
     "text": [
      "113.96\n",
      "| \u001b[0m59       \u001b[0m | \u001b[0m78.0     \u001b[0m | \u001b[0m0.8191   \u001b[0m | \u001b[0m311.3    \u001b[0m | \u001b[0m0.9824   \u001b[0m | \u001b[0m0.2666   \u001b[0m | \u001b[0m47.36    \u001b[0m | \u001b[0m0.3145   \u001b[0m | \u001b[0m0.9108   \u001b[0m | \u001b[0m44.62    \u001b[0m |\n"
     ]
    },
    {
     "name": "stderr",
     "output_type": "stream",
     "text": [
      "100%|██████████| 100/100 [00:00<00:00, 821.09it/s]\n"
     ]
    },
    {
     "name": "stdout",
     "output_type": "stream",
     "text": [
      "52.2\n",
      "| \u001b[0m60       \u001b[0m | \u001b[0m3.0      \u001b[0m | \u001b[0m0.4336   \u001b[0m | \u001b[0m512.8    \u001b[0m | \u001b[0m0.9389   \u001b[0m | \u001b[0m0.03095  \u001b[0m | \u001b[0m60.18    \u001b[0m | \u001b[0m0.891    \u001b[0m | \u001b[0m0.02729  \u001b[0m | \u001b[0m63.12    \u001b[0m |\n"
     ]
    },
    {
     "name": "stderr",
     "output_type": "stream",
     "text": [
      "100%|██████████| 100/100 [00:00<00:00, 351.25it/s]\n"
     ]
    },
    {
     "name": "stdout",
     "output_type": "stream",
     "text": [
      "120.0\n",
      "| \u001b[0m61       \u001b[0m | \u001b[0m15.0     \u001b[0m | \u001b[0m0.326    \u001b[0m | \u001b[0m859.6    \u001b[0m | \u001b[0m0.5585   \u001b[0m | \u001b[0m0.6902   \u001b[0m | \u001b[0m41.7     \u001b[0m | \u001b[0m0.6283   \u001b[0m | \u001b[0m0.2901   \u001b[0m | \u001b[0m2.112    \u001b[0m |\n"
     ]
    },
    {
     "name": "stderr",
     "output_type": "stream",
     "text": [
      "100%|██████████| 100/100 [00:00<00:00, 372.63it/s]\n"
     ]
    },
    {
     "name": "stdout",
     "output_type": "stream",
     "text": [
      "113.17\n",
      "| \u001b[0m62       \u001b[0m | \u001b[0m58.0     \u001b[0m | \u001b[0m0.5768   \u001b[0m | \u001b[0m312.1    \u001b[0m | \u001b[0m0.5173   \u001b[0m | \u001b[0m0.9164   \u001b[0m | \u001b[0m39.85    \u001b[0m | \u001b[0m0.2474   \u001b[0m | \u001b[0m0.3713   \u001b[0m | \u001b[0m111.9    \u001b[0m |\n"
     ]
    },
    {
     "name": "stderr",
     "output_type": "stream",
     "text": [
      "100%|██████████| 100/100 [00:00<00:00, 383.92it/s]\n"
     ]
    },
    {
     "name": "stdout",
     "output_type": "stream",
     "text": [
      "111.66\n",
      "| \u001b[0m63       \u001b[0m | \u001b[0m76.0     \u001b[0m | \u001b[0m0.9369   \u001b[0m | \u001b[0m844.5    \u001b[0m | \u001b[0m0.9202   \u001b[0m | \u001b[0m0.2279   \u001b[0m | \u001b[0m16.12    \u001b[0m | \u001b[0m0.2273   \u001b[0m | \u001b[0m0.3144   \u001b[0m | \u001b[0m21.8     \u001b[0m |\n"
     ]
    },
    {
     "name": "stderr",
     "output_type": "stream",
     "text": [
      "100%|██████████| 100/100 [00:00<00:00, 418.01it/s]\n"
     ]
    },
    {
     "name": "stdout",
     "output_type": "stream",
     "text": [
      "102.16\n",
      "| \u001b[0m64       \u001b[0m | \u001b[0m57.0     \u001b[0m | \u001b[0m0.6071   \u001b[0m | \u001b[0m414.2    \u001b[0m | \u001b[0m0.8164   \u001b[0m | \u001b[0m0.1851   \u001b[0m | \u001b[0m59.13    \u001b[0m | \u001b[0m0.2404   \u001b[0m | \u001b[0m0.5742   \u001b[0m | \u001b[0m42.53    \u001b[0m |\n"
     ]
    },
    {
     "name": "stderr",
     "output_type": "stream",
     "text": [
      "100%|██████████| 100/100 [00:00<00:00, 484.35it/s]\n"
     ]
    },
    {
     "name": "stdout",
     "output_type": "stream",
     "text": [
      "87.02\n",
      "| \u001b[0m65       \u001b[0m | \u001b[0m28.0     \u001b[0m | \u001b[0m0.05696  \u001b[0m | \u001b[0m229.6    \u001b[0m | \u001b[0m0.6641   \u001b[0m | \u001b[0m0.4973   \u001b[0m | \u001b[0m46.33    \u001b[0m | \u001b[0m0.1747   \u001b[0m | \u001b[0m0.5707   \u001b[0m | \u001b[0m119.6    \u001b[0m |\n"
     ]
    },
    {
     "name": "stderr",
     "output_type": "stream",
     "text": [
      "100%|██████████| 100/100 [00:00<00:00, 525.66it/s]\n"
     ]
    },
    {
     "name": "stdout",
     "output_type": "stream",
     "text": [
      "78.51\n",
      "| \u001b[0m66       \u001b[0m | \u001b[0m77.0     \u001b[0m | \u001b[0m0.8168   \u001b[0m | \u001b[0m594.8    \u001b[0m | \u001b[0m0.976    \u001b[0m | \u001b[0m0.9016   \u001b[0m | \u001b[0m51.69    \u001b[0m | \u001b[0m0.03243  \u001b[0m | \u001b[0m0.09358  \u001b[0m | \u001b[0m8.779    \u001b[0m |\n"
     ]
    },
    {
     "name": "stderr",
     "output_type": "stream",
     "text": [
      "100%|██████████| 100/100 [00:00<00:00, 474.98it/s]\n"
     ]
    },
    {
     "name": "stdout",
     "output_type": "stream",
     "text": [
      "90.93\n",
      "| \u001b[0m67       \u001b[0m | \u001b[0m80.0     \u001b[0m | \u001b[0m0.4517   \u001b[0m | \u001b[0m376.1    \u001b[0m | \u001b[0m0.9754   \u001b[0m | \u001b[0m0.168    \u001b[0m | \u001b[0m78.1     \u001b[0m | \u001b[0m0.7675   \u001b[0m | \u001b[0m0.8242   \u001b[0m | \u001b[0m76.28    \u001b[0m |\n"
     ]
    },
    {
     "name": "stderr",
     "output_type": "stream",
     "text": [
      "100%|██████████| 100/100 [00:00<00:00, 315.09it/s]\n"
     ]
    },
    {
     "name": "stdout",
     "output_type": "stream",
     "text": [
      "119.15\n",
      "| \u001b[0m68       \u001b[0m | \u001b[0m55.0     \u001b[0m | \u001b[0m0.6687   \u001b[0m | \u001b[0m477.4    \u001b[0m | \u001b[0m0.01314  \u001b[0m | \u001b[0m0.353    \u001b[0m | \u001b[0m44.45    \u001b[0m | \u001b[0m0.7301   \u001b[0m | \u001b[0m0.4686   \u001b[0m | \u001b[0m55.43    \u001b[0m |\n"
     ]
    },
    {
     "name": "stderr",
     "output_type": "stream",
     "text": [
      "100%|██████████| 100/100 [00:00<00:00, 411.53it/s]\n"
     ]
    },
    {
     "name": "stdout",
     "output_type": "stream",
     "text": [
      "97.02\n",
      "| \u001b[0m69       \u001b[0m | \u001b[0m23.0     \u001b[0m | \u001b[0m0.1377   \u001b[0m | \u001b[0m11.88    \u001b[0m | \u001b[0m0.7583   \u001b[0m | \u001b[0m0.32     \u001b[0m | \u001b[0m78.91    \u001b[0m | \u001b[0m0.2202   \u001b[0m | \u001b[0m0.3387   \u001b[0m | \u001b[0m63.34    \u001b[0m |\n"
     ]
    },
    {
     "name": "stderr",
     "output_type": "stream",
     "text": [
      "100%|██████████| 100/100 [00:00<00:00, 343.57it/s]\n"
     ]
    },
    {
     "name": "stdout",
     "output_type": "stream",
     "text": [
      "118.39\n",
      "| \u001b[0m70       \u001b[0m | \u001b[0m69.0     \u001b[0m | \u001b[0m0.7549   \u001b[0m | \u001b[0m464.4    \u001b[0m | \u001b[0m0.1248   \u001b[0m | \u001b[0m0.3125   \u001b[0m | \u001b[0m45.32    \u001b[0m | \u001b[0m0.6738   \u001b[0m | \u001b[0m0.7701   \u001b[0m | \u001b[0m16.51    \u001b[0m |\n"
     ]
    },
    {
     "name": "stderr",
     "output_type": "stream",
     "text": [
      "100%|██████████| 100/100 [00:00<00:00, 828.06it/s]\n"
     ]
    },
    {
     "name": "stdout",
     "output_type": "stream",
     "text": [
      "51.34\n",
      "| \u001b[0m71       \u001b[0m | \u001b[0m0.0      \u001b[0m | \u001b[0m0.02292  \u001b[0m | \u001b[0m519.6    \u001b[0m | \u001b[0m0.81     \u001b[0m | \u001b[0m0.0126   \u001b[0m | \u001b[0m57.07    \u001b[0m | \u001b[0m0.6868   \u001b[0m | \u001b[0m0.4492   \u001b[0m | \u001b[0m109.9    \u001b[0m |\n"
     ]
    },
    {
     "name": "stderr",
     "output_type": "stream",
     "text": [
      "100%|██████████| 100/100 [00:00<00:00, 334.47it/s]\n"
     ]
    },
    {
     "name": "stdout",
     "output_type": "stream",
     "text": [
      "120.0\n",
      "| \u001b[0m72       \u001b[0m | \u001b[0m70.0     \u001b[0m | \u001b[0m0.6444   \u001b[0m | \u001b[0m6.235    \u001b[0m | \u001b[0m0.4844   \u001b[0m | \u001b[0m0.8593   \u001b[0m | \u001b[0m68.13    \u001b[0m | \u001b[0m0.6492   \u001b[0m | \u001b[0m0.6737   \u001b[0m | \u001b[0m69.84    \u001b[0m |\n"
     ]
    },
    {
     "name": "stderr",
     "output_type": "stream",
     "text": [
      "100%|██████████| 100/100 [00:00<00:00, 451.85it/s]\n"
     ]
    },
    {
     "name": "stdout",
     "output_type": "stream",
     "text": [
      "89.46\n",
      "| \u001b[0m73       \u001b[0m | \u001b[0m39.0     \u001b[0m | \u001b[0m0.2741   \u001b[0m | \u001b[0m561.0    \u001b[0m | \u001b[0m0.6717   \u001b[0m | \u001b[0m0.3524   \u001b[0m | \u001b[0m69.91    \u001b[0m | \u001b[0m0.195    \u001b[0m | \u001b[0m0.7473   \u001b[0m | \u001b[0m35.46    \u001b[0m |\n"
     ]
    },
    {
     "name": "stderr",
     "output_type": "stream",
     "text": [
      "100%|██████████| 100/100 [00:00<00:00, 350.38it/s]\n"
     ]
    },
    {
     "name": "stdout",
     "output_type": "stream",
     "text": [
      "117.49\n",
      "| \u001b[0m74       \u001b[0m | \u001b[0m69.0     \u001b[0m | \u001b[0m0.7738   \u001b[0m | \u001b[0m428.3    \u001b[0m | \u001b[0m0.8077   \u001b[0m | \u001b[0m0.3535   \u001b[0m | \u001b[0m24.96    \u001b[0m | \u001b[0m0.7673   \u001b[0m | \u001b[0m0.3086   \u001b[0m | \u001b[0m88.26    \u001b[0m |\n"
     ]
    },
    {
     "name": "stderr",
     "output_type": "stream",
     "text": [
      "100%|██████████| 100/100 [00:00<00:00, 388.53it/s]\n"
     ]
    },
    {
     "name": "stdout",
     "output_type": "stream",
     "text": [
      "109.52\n",
      "| \u001b[0m75       \u001b[0m | \u001b[0m74.0     \u001b[0m | \u001b[0m0.7445   \u001b[0m | \u001b[0m222.2    \u001b[0m | \u001b[0m0.2141   \u001b[0m | \u001b[0m0.1989   \u001b[0m | \u001b[0m19.98    \u001b[0m | \u001b[0m0.3771   \u001b[0m | \u001b[0m0.02663  \u001b[0m | \u001b[0m14.2     \u001b[0m |\n"
     ]
    },
    {
     "name": "stderr",
     "output_type": "stream",
     "text": [
      "100%|██████████| 100/100 [00:00<00:00, 378.39it/s]\n"
     ]
    },
    {
     "name": "stdout",
     "output_type": "stream",
     "text": [
      "110.22\n",
      "| \u001b[0m76       \u001b[0m | \u001b[0m78.0     \u001b[0m | \u001b[0m0.6746   \u001b[0m | \u001b[0m800.0    \u001b[0m | \u001b[0m0.08053  \u001b[0m | \u001b[0m0.2317   \u001b[0m | \u001b[0m24.53    \u001b[0m | \u001b[0m0.9173   \u001b[0m | \u001b[0m0.7113   \u001b[0m | \u001b[0m66.91    \u001b[0m |\n"
     ]
    },
    {
     "name": "stderr",
     "output_type": "stream",
     "text": [
      "100%|██████████| 100/100 [00:00<00:00, 324.33it/s]\n"
     ]
    },
    {
     "name": "stdout",
     "output_type": "stream",
     "text": [
      "120.0\n",
      "| \u001b[0m77       \u001b[0m | \u001b[0m20.0     \u001b[0m | \u001b[0m0.3045   \u001b[0m | \u001b[0m835.0    \u001b[0m | \u001b[0m0.4353   \u001b[0m | \u001b[0m0.9235   \u001b[0m | \u001b[0m59.42    \u001b[0m | \u001b[0m0.478    \u001b[0m | \u001b[0m0.1262   \u001b[0m | \u001b[0m117.1    \u001b[0m |\n"
     ]
    },
    {
     "name": "stderr",
     "output_type": "stream",
     "text": [
      "100%|██████████| 100/100 [00:00<00:00, 350.33it/s]\n"
     ]
    },
    {
     "name": "stdout",
     "output_type": "stream",
     "text": [
      "116.12\n",
      "| \u001b[0m78       \u001b[0m | \u001b[0m36.0     \u001b[0m | \u001b[0m0.1598   \u001b[0m | \u001b[0m203.4    \u001b[0m | \u001b[0m0.4312   \u001b[0m | \u001b[0m0.4042   \u001b[0m | \u001b[0m20.27    \u001b[0m | \u001b[0m0.7293   \u001b[0m | \u001b[0m0.1887   \u001b[0m | \u001b[0m77.62    \u001b[0m |\n"
     ]
    },
    {
     "name": "stderr",
     "output_type": "stream",
     "text": [
      "100%|██████████| 100/100 [00:00<00:00, 341.38it/s]\n"
     ]
    },
    {
     "name": "stdout",
     "output_type": "stream",
     "text": [
      "120.0\n",
      "| \u001b[0m79       \u001b[0m | \u001b[0m62.0     \u001b[0m | \u001b[0m0.7543   \u001b[0m | \u001b[0m211.5    \u001b[0m | \u001b[0m0.601    \u001b[0m | \u001b[0m0.7489   \u001b[0m | \u001b[0m54.68    \u001b[0m | \u001b[0m0.5971   \u001b[0m | \u001b[0m0.2955   \u001b[0m | \u001b[0m88.06    \u001b[0m |\n"
     ]
    },
    {
     "name": "stderr",
     "output_type": "stream",
     "text": [
      "100%|██████████| 100/100 [00:00<00:00, 610.41it/s]\n"
     ]
    },
    {
     "name": "stdout",
     "output_type": "stream",
     "text": [
      "68.85\n",
      "| \u001b[0m80       \u001b[0m | \u001b[0m41.0     \u001b[0m | \u001b[0m0.9453   \u001b[0m | \u001b[0m426.1    \u001b[0m | \u001b[0m0.7822   \u001b[0m | \u001b[0m0.05614  \u001b[0m | \u001b[0m68.47    \u001b[0m | \u001b[0m0.1923   \u001b[0m | \u001b[0m0.3951   \u001b[0m | \u001b[0m36.71    \u001b[0m |\n"
     ]
    },
    {
     "name": "stderr",
     "output_type": "stream",
     "text": [
      "100%|██████████| 100/100 [00:00<00:00, 536.04it/s]\n"
     ]
    },
    {
     "name": "stdout",
     "output_type": "stream",
     "text": [
      "72.77\n",
      "| \u001b[0m81       \u001b[0m | \u001b[0m14.0     \u001b[0m | \u001b[0m0.0801   \u001b[0m | \u001b[0m904.7    \u001b[0m | \u001b[0m0.3702   \u001b[0m | \u001b[0m0.5307   \u001b[0m | \u001b[0m44.59    \u001b[0m | \u001b[0m0.1322   \u001b[0m | \u001b[0m0.2065   \u001b[0m | \u001b[0m10.07    \u001b[0m |\n"
     ]
    },
    {
     "name": "stderr",
     "output_type": "stream",
     "text": [
      "100%|██████████| 100/100 [00:00<00:00, 564.24it/s]\n"
     ]
    },
    {
     "name": "stdout",
     "output_type": "stream",
     "text": [
      "74.85\n",
      "| \u001b[95m82       \u001b[0m | \u001b[95m89.0     \u001b[0m | \u001b[95m0.5079   \u001b[0m | \u001b[95m262.3    \u001b[0m | \u001b[95m0.3571   \u001b[0m | \u001b[95m0.1081   \u001b[0m | \u001b[95m65.13    \u001b[0m | \u001b[95m0.1066   \u001b[0m | \u001b[95m0.9857   \u001b[0m | \u001b[95m22.08    \u001b[0m |\n"
     ]
    },
    {
     "name": "stderr",
     "output_type": "stream",
     "text": [
      "100%|██████████| 100/100 [00:00<00:00, 414.79it/s]\n"
     ]
    },
    {
     "name": "stdout",
     "output_type": "stream",
     "text": [
      "101.46\n",
      "| \u001b[0m83       \u001b[0m | \u001b[0m58.0     \u001b[0m | \u001b[0m0.5724   \u001b[0m | \u001b[0m45.8     \u001b[0m | \u001b[0m0.7871   \u001b[0m | \u001b[0m0.1896   \u001b[0m | \u001b[0m46.95    \u001b[0m | \u001b[0m0.7401   \u001b[0m | \u001b[0m0.1499   \u001b[0m | \u001b[0m66.58    \u001b[0m |\n"
     ]
    },
    {
     "name": "stderr",
     "output_type": "stream",
     "text": [
      "100%|██████████| 100/100 [00:00<00:00, 831.44it/s]\n"
     ]
    },
    {
     "name": "stdout",
     "output_type": "stream",
     "text": [
      "50.39\n",
      "| \u001b[0m84       \u001b[0m | \u001b[0m70.0     \u001b[0m | \u001b[0m0.2166   \u001b[0m | \u001b[0m759.4    \u001b[0m | \u001b[0m0.7229   \u001b[0m | \u001b[0m0.1765   \u001b[0m | \u001b[0m70.34    \u001b[0m | \u001b[0m0.01978  \u001b[0m | \u001b[0m0.8602   \u001b[0m | \u001b[0m67.51    \u001b[0m |\n"
     ]
    },
    {
     "name": "stderr",
     "output_type": "stream",
     "text": [
      "100%|██████████| 100/100 [00:00<00:00, 816.49it/s]\n"
     ]
    },
    {
     "name": "stdout",
     "output_type": "stream",
     "text": [
      "50.0\n",
      "| \u001b[0m85       \u001b[0m | \u001b[0m82.0     \u001b[0m | \u001b[0m0.4032   \u001b[0m | \u001b[0m759.0    \u001b[0m | \u001b[0m0.7169   \u001b[0m | \u001b[0m0.9873   \u001b[0m | \u001b[0m29.47    \u001b[0m | \u001b[0m0.003794 \u001b[0m | \u001b[0m0.9339   \u001b[0m | \u001b[0m103.1    \u001b[0m |\n"
     ]
    },
    {
     "name": "stderr",
     "output_type": "stream",
     "text": [
      "100%|██████████| 100/100 [00:00<00:00, 343.82it/s]\n"
     ]
    },
    {
     "name": "stdout",
     "output_type": "stream",
     "text": [
      "120.0\n",
      "| \u001b[0m86       \u001b[0m | \u001b[0m61.0     \u001b[0m | \u001b[0m0.7289   \u001b[0m | \u001b[0m517.2    \u001b[0m | \u001b[0m0.707    \u001b[0m | \u001b[0m0.7805   \u001b[0m | \u001b[0m36.24    \u001b[0m | \u001b[0m0.7703   \u001b[0m | \u001b[0m0.7506   \u001b[0m | \u001b[0m73.97    \u001b[0m |\n"
     ]
    },
    {
     "name": "stderr",
     "output_type": "stream",
     "text": [
      "100%|██████████| 100/100 [00:00<00:00, 408.10it/s]\n"
     ]
    },
    {
     "name": "stdout",
     "output_type": "stream",
     "text": [
      "100.44\n",
      "| \u001b[0m87       \u001b[0m | \u001b[0m75.0     \u001b[0m | \u001b[0m0.4019   \u001b[0m | \u001b[0m697.6    \u001b[0m | \u001b[0m0.003113 \u001b[0m | \u001b[0m0.7749   \u001b[0m | \u001b[0m72.75    \u001b[0m | \u001b[0m0.2393   \u001b[0m | \u001b[0m0.1208   \u001b[0m | \u001b[0m27.21    \u001b[0m |\n"
     ]
    },
    {
     "name": "stderr",
     "output_type": "stream",
     "text": [
      "100%|██████████| 100/100 [00:00<00:00, 375.58it/s]\n"
     ]
    },
    {
     "name": "stdout",
     "output_type": "stream",
     "text": [
      "111.39\n",
      "| \u001b[0m88       \u001b[0m | \u001b[0m42.0     \u001b[0m | \u001b[0m0.3021   \u001b[0m | \u001b[0m883.1    \u001b[0m | \u001b[0m0.5432   \u001b[0m | \u001b[0m0.2867   \u001b[0m | \u001b[0m19.68    \u001b[0m | \u001b[0m0.2901   \u001b[0m | \u001b[0m0.6139   \u001b[0m | \u001b[0m39.57    \u001b[0m |\n"
     ]
    },
    {
     "name": "stderr",
     "output_type": "stream",
     "text": [
      "100%|██████████| 100/100 [00:00<00:00, 348.59it/s]\n"
     ]
    },
    {
     "name": "stdout",
     "output_type": "stream",
     "text": [
      "118.99\n",
      "| \u001b[0m89       \u001b[0m | \u001b[0m68.0     \u001b[0m | \u001b[0m0.4574   \u001b[0m | \u001b[0m444.7    \u001b[0m | \u001b[0m0.8281   \u001b[0m | \u001b[0m0.4263   \u001b[0m | \u001b[0m34.2     \u001b[0m | \u001b[0m0.675    \u001b[0m | \u001b[0m0.2215   \u001b[0m | \u001b[0m56.6     \u001b[0m |\n"
     ]
    },
    {
     "name": "stderr",
     "output_type": "stream",
     "text": [
      "100%|██████████| 100/100 [00:00<00:00, 347.01it/s]\n"
     ]
    },
    {
     "name": "stdout",
     "output_type": "stream",
     "text": [
      "119.62\n",
      "| \u001b[0m90       \u001b[0m | \u001b[0m28.0     \u001b[0m | \u001b[0m0.3148   \u001b[0m | \u001b[0m627.2    \u001b[0m | \u001b[0m0.8774   \u001b[0m | \u001b[0m0.4477   \u001b[0m | \u001b[0m64.91    \u001b[0m | \u001b[0m0.457    \u001b[0m | \u001b[0m0.6562   \u001b[0m | \u001b[0m16.69    \u001b[0m |\n"
     ]
    },
    {
     "name": "stderr",
     "output_type": "stream",
     "text": [
      "100%|██████████| 100/100 [00:00<00:00, 344.11it/s]\n"
     ]
    },
    {
     "name": "stdout",
     "output_type": "stream",
     "text": [
      "119.92\n",
      "| \u001b[0m91       \u001b[0m | \u001b[0m63.0     \u001b[0m | \u001b[0m0.433    \u001b[0m | \u001b[0m909.4    \u001b[0m | \u001b[0m0.6055   \u001b[0m | \u001b[0m0.7668   \u001b[0m | \u001b[0m45.33    \u001b[0m | \u001b[0m0.4981   \u001b[0m | \u001b[0m0.8429   \u001b[0m | \u001b[0m9.069    \u001b[0m |\n"
     ]
    },
    {
     "name": "stderr",
     "output_type": "stream",
     "text": [
      "100%|██████████| 100/100 [00:00<00:00, 399.83it/s]\n"
     ]
    },
    {
     "name": "stdout",
     "output_type": "stream",
     "text": [
      "100.74\n",
      "| \u001b[0m92       \u001b[0m | \u001b[0m56.0     \u001b[0m | \u001b[0m0.5733   \u001b[0m | \u001b[0m942.8    \u001b[0m | \u001b[0m0.5179   \u001b[0m | \u001b[0m0.1945   \u001b[0m | \u001b[0m69.36    \u001b[0m | \u001b[0m0.2516   \u001b[0m | \u001b[0m0.7007   \u001b[0m | \u001b[0m65.29    \u001b[0m |\n"
     ]
    },
    {
     "name": "stderr",
     "output_type": "stream",
     "text": [
      "100%|██████████| 100/100 [00:00<00:00, 810.07it/s]\n"
     ]
    },
    {
     "name": "stdout",
     "output_type": "stream",
     "text": [
      "53.04\n",
      "| \u001b[0m93       \u001b[0m | \u001b[0m5.0      \u001b[0m | \u001b[0m0.9488   \u001b[0m | \u001b[0m624.7    \u001b[0m | \u001b[0m0.838    \u001b[0m | \u001b[0m0.007933 \u001b[0m | \u001b[0m79.25    \u001b[0m | \u001b[0m0.07771  \u001b[0m | \u001b[0m0.3221   \u001b[0m | \u001b[0m113.6    \u001b[0m |\n"
     ]
    },
    {
     "name": "stderr",
     "output_type": "stream",
     "text": [
      "100%|██████████| 100/100 [00:00<00:00, 343.18it/s]\n"
     ]
    },
    {
     "name": "stdout",
     "output_type": "stream",
     "text": [
      "118.88\n",
      "| \u001b[0m94       \u001b[0m | \u001b[0m25.0     \u001b[0m | \u001b[0m0.008939 \u001b[0m | \u001b[0m822.9    \u001b[0m | \u001b[0m0.8612   \u001b[0m | \u001b[0m0.4398   \u001b[0m | \u001b[0m27.9     \u001b[0m | \u001b[0m0.8027   \u001b[0m | \u001b[0m0.4779   \u001b[0m | \u001b[0m16.99    \u001b[0m |\n"
     ]
    },
    {
     "name": "stderr",
     "output_type": "stream",
     "text": [
      "100%|██████████| 100/100 [00:00<00:00, 343.75it/s]\n"
     ]
    },
    {
     "name": "stdout",
     "output_type": "stream",
     "text": [
      "120.0\n",
      "| \u001b[0m95       \u001b[0m | \u001b[0m56.0     \u001b[0m | \u001b[0m0.9278   \u001b[0m | \u001b[0m896.1    \u001b[0m | \u001b[0m0.4915   \u001b[0m | \u001b[0m0.8567   \u001b[0m | \u001b[0m39.3     \u001b[0m | \u001b[0m0.6835   \u001b[0m | \u001b[0m0.398    \u001b[0m | \u001b[0m61.18    \u001b[0m |\n"
     ]
    },
    {
     "name": "stderr",
     "output_type": "stream",
     "text": [
      "100%|██████████| 100/100 [00:00<00:00, 828.97it/s]\n"
     ]
    },
    {
     "name": "stdout",
     "output_type": "stream",
     "text": [
      "50.0\n",
      "| \u001b[0m96       \u001b[0m | \u001b[0m29.0     \u001b[0m | \u001b[0m0.1896   \u001b[0m | \u001b[0m965.0    \u001b[0m | \u001b[0m0.2942   \u001b[0m | \u001b[0m0.1035   \u001b[0m | \u001b[0m20.1     \u001b[0m | \u001b[0m0.01409  \u001b[0m | \u001b[0m0.7159   \u001b[0m | \u001b[0m68.18    \u001b[0m |\n"
     ]
    },
    {
     "name": "stderr",
     "output_type": "stream",
     "text": [
      "100%|██████████| 100/100 [00:00<00:00, 340.14it/s]\n"
     ]
    },
    {
     "name": "stdout",
     "output_type": "stream",
     "text": [
      "120.0\n",
      "| \u001b[0m97       \u001b[0m | \u001b[0m64.0     \u001b[0m | \u001b[0m0.7946   \u001b[0m | \u001b[0m507.6    \u001b[0m | \u001b[0m0.7918   \u001b[0m | \u001b[0m0.6958   \u001b[0m | \u001b[0m64.45    \u001b[0m | \u001b[0m0.4065   \u001b[0m | \u001b[0m0.6478   \u001b[0m | \u001b[0m22.4     \u001b[0m |\n"
     ]
    },
    {
     "name": "stderr",
     "output_type": "stream",
     "text": [
      "100%|██████████| 100/100 [00:00<00:00, 391.69it/s]\n"
     ]
    },
    {
     "name": "stdout",
     "output_type": "stream",
     "text": [
      "105.82\n",
      "| \u001b[0m98       \u001b[0m | \u001b[0m49.0     \u001b[0m | \u001b[0m0.3218   \u001b[0m | \u001b[0m173.4    \u001b[0m | \u001b[0m0.4086   \u001b[0m | \u001b[0m0.2414   \u001b[0m | \u001b[0m38.48    \u001b[0m | \u001b[0m0.9752   \u001b[0m | \u001b[0m0.3203   \u001b[0m | \u001b[0m117.9    \u001b[0m |\n"
     ]
    },
    {
     "name": "stderr",
     "output_type": "stream",
     "text": [
      "100%|██████████| 100/100 [00:00<00:00, 341.58it/s]\n"
     ]
    },
    {
     "name": "stdout",
     "output_type": "stream",
     "text": [
      "120.0\n",
      "| \u001b[0m99       \u001b[0m | \u001b[0m61.0     \u001b[0m | \u001b[0m0.6363   \u001b[0m | \u001b[0m375.7    \u001b[0m | \u001b[0m0.8575   \u001b[0m | \u001b[0m0.6196   \u001b[0m | \u001b[0m27.64    \u001b[0m | \u001b[0m0.7929   \u001b[0m | \u001b[0m0.4329   \u001b[0m | \u001b[0m43.54    \u001b[0m |\n"
     ]
    },
    {
     "name": "stderr",
     "output_type": "stream",
     "text": [
      "100%|██████████| 100/100 [00:00<00:00, 346.08it/s]\n"
     ]
    },
    {
     "name": "stdout",
     "output_type": "stream",
     "text": [
      "120.0\n",
      "| \u001b[0m100      \u001b[0m | \u001b[0m22.0     \u001b[0m | \u001b[0m0.3303   \u001b[0m | \u001b[0m697.7    \u001b[0m | \u001b[0m0.2687   \u001b[0m | \u001b[0m0.8083   \u001b[0m | \u001b[0m30.67    \u001b[0m | \u001b[0m0.5441   \u001b[0m | \u001b[0m0.4879   \u001b[0m | \u001b[0m102.8    \u001b[0m |\n"
     ]
    },
    {
     "name": "stderr",
     "output_type": "stream",
     "text": [
      "100%|██████████| 100/100 [00:00<00:00, 325.25it/s]\n"
     ]
    },
    {
     "name": "stdout",
     "output_type": "stream",
     "text": [
      "120.0\n",
      "| \u001b[0m101      \u001b[0m | \u001b[0m31.0     \u001b[0m | \u001b[0m0.03706  \u001b[0m | \u001b[0m774.1    \u001b[0m | \u001b[0m0.1256   \u001b[0m | \u001b[0m0.6185   \u001b[0m | \u001b[0m10.73    \u001b[0m | \u001b[0m0.5386   \u001b[0m | \u001b[0m0.003018 \u001b[0m | \u001b[0m114.2    \u001b[0m |\n"
     ]
    },
    {
     "name": "stderr",
     "output_type": "stream",
     "text": [
      "100%|██████████| 100/100 [00:00<00:00, 311.28it/s]\n"
     ]
    },
    {
     "name": "stdout",
     "output_type": "stream",
     "text": [
      "120.0\n",
      "| \u001b[0m102      \u001b[0m | \u001b[0m69.0     \u001b[0m | \u001b[0m0.8054   \u001b[0m | \u001b[0m152.6    \u001b[0m | \u001b[0m0.3237   \u001b[0m | \u001b[0m0.4322   \u001b[0m | \u001b[0m77.15    \u001b[0m | \u001b[0m0.6474   \u001b[0m | \u001b[0m0.544    \u001b[0m | \u001b[0m113.8    \u001b[0m |\n"
     ]
    },
    {
     "name": "stderr",
     "output_type": "stream",
     "text": [
      "100%|██████████| 100/100 [00:00<00:00, 698.02it/s]\n"
     ]
    },
    {
     "name": "stdout",
     "output_type": "stream",
     "text": [
      "53.45\n",
      "| \u001b[0m103      \u001b[0m | \u001b[0m16.0     \u001b[0m | \u001b[0m0.2829   \u001b[0m | \u001b[0m836.9    \u001b[0m | \u001b[0m0.01909  \u001b[0m | \u001b[0m0.2006   \u001b[0m | \u001b[0m34.29    \u001b[0m | \u001b[0m0.05477  \u001b[0m | \u001b[0m0.5307   \u001b[0m | \u001b[0m49.73    \u001b[0m |\n"
     ]
    },
    {
     "name": "stderr",
     "output_type": "stream",
     "text": [
      "100%|██████████| 100/100 [00:00<00:00, 335.03it/s]\n"
     ]
    },
    {
     "name": "stdout",
     "output_type": "stream",
     "text": [
      "106.22\n",
      "| \u001b[0m104      \u001b[0m | \u001b[0m75.0     \u001b[0m | \u001b[0m0.3659   \u001b[0m | \u001b[0m469.7    \u001b[0m | \u001b[0m0.5373   \u001b[0m | \u001b[0m0.2653   \u001b[0m | \u001b[0m79.64    \u001b[0m | \u001b[0m0.2238   \u001b[0m | \u001b[0m0.2518   \u001b[0m | \u001b[0m107.4    \u001b[0m |\n"
     ]
    },
    {
     "name": "stderr",
     "output_type": "stream",
     "text": [
      "100%|██████████| 100/100 [00:00<00:00, 245.96it/s]\n"
     ]
    },
    {
     "name": "stdout",
     "output_type": "stream",
     "text": [
      "119.03\n",
      "| \u001b[0m105      \u001b[0m | \u001b[0m53.0     \u001b[0m | \u001b[0m0.1286   \u001b[0m | \u001b[0m21.81    \u001b[0m | \u001b[0m0.8872   \u001b[0m | \u001b[0m0.7994   \u001b[0m | \u001b[0m66.18    \u001b[0m | \u001b[0m0.4713   \u001b[0m | \u001b[0m0.8262   \u001b[0m | \u001b[0m72.46    \u001b[0m |\n"
     ]
    },
    {
     "name": "stderr",
     "output_type": "stream",
     "text": [
      "100%|██████████| 100/100 [00:00<00:00, 291.90it/s]\n"
     ]
    },
    {
     "name": "stdout",
     "output_type": "stream",
     "text": [
      "120.0\n",
      "| \u001b[0m106      \u001b[0m | \u001b[0m60.0     \u001b[0m | \u001b[0m0.9545   \u001b[0m | \u001b[0m508.5    \u001b[0m | \u001b[0m0.3294   \u001b[0m | \u001b[0m0.5376   \u001b[0m | \u001b[0m51.39    \u001b[0m | \u001b[0m0.5527   \u001b[0m | \u001b[0m0.6357   \u001b[0m | \u001b[0m105.8    \u001b[0m |\n"
     ]
    },
    {
     "name": "stderr",
     "output_type": "stream",
     "text": [
      "100%|██████████| 100/100 [00:00<00:00, 250.41it/s]\n"
     ]
    },
    {
     "name": "stdout",
     "output_type": "stream",
     "text": [
      "119.07\n",
      "| \u001b[0m107      \u001b[0m | \u001b[0m44.0     \u001b[0m | \u001b[0m0.09118  \u001b[0m | \u001b[0m466.7    \u001b[0m | \u001b[0m0.1003   \u001b[0m | \u001b[0m0.706    \u001b[0m | \u001b[0m46.0     \u001b[0m | \u001b[0m0.4872   \u001b[0m | \u001b[0m0.9819   \u001b[0m | \u001b[0m24.57    \u001b[0m |\n"
     ]
    },
    {
     "name": "stderr",
     "output_type": "stream",
     "text": [
      "100%|██████████| 100/100 [00:00<00:00, 294.82it/s]\n"
     ]
    },
    {
     "name": "stdout",
     "output_type": "stream",
     "text": [
      "118.89\n",
      "| \u001b[0m108      \u001b[0m | \u001b[0m28.0     \u001b[0m | \u001b[0m0.08246  \u001b[0m | \u001b[0m250.3    \u001b[0m | \u001b[0m0.2219   \u001b[0m | \u001b[0m0.8699   \u001b[0m | \u001b[0m25.99    \u001b[0m | \u001b[0m0.4157   \u001b[0m | \u001b[0m0.3799   \u001b[0m | \u001b[0m114.0    \u001b[0m |\n"
     ]
    },
    {
     "name": "stderr",
     "output_type": "stream",
     "text": [
      "100%|██████████| 100/100 [00:00<00:00, 381.91it/s]\n"
     ]
    },
    {
     "name": "stdout",
     "output_type": "stream",
     "text": [
      "63.12\n",
      "| \u001b[0m109      \u001b[0m | \u001b[0m34.0     \u001b[0m | \u001b[0m0.2417   \u001b[0m | \u001b[0m840.3    \u001b[0m | \u001b[0m0.8518   \u001b[0m | \u001b[0m0.5874   \u001b[0m | \u001b[0m23.88    \u001b[0m | \u001b[0m0.111    \u001b[0m | \u001b[0m0.7203   \u001b[0m | \u001b[0m74.98    \u001b[0m |\n"
     ]
    },
    {
     "name": "stderr",
     "output_type": "stream",
     "text": [
      "100%|██████████| 100/100 [00:00<00:00, 277.40it/s]\n"
     ]
    },
    {
     "name": "stdout",
     "output_type": "stream",
     "text": [
      "101.57\n",
      "| \u001b[0m110      \u001b[0m | \u001b[0m41.0     \u001b[0m | \u001b[0m0.3043   \u001b[0m | \u001b[0m504.6    \u001b[0m | \u001b[0m0.002496 \u001b[0m | \u001b[0m0.8423   \u001b[0m | \u001b[0m60.58    \u001b[0m | \u001b[0m0.2315   \u001b[0m | \u001b[0m0.04112  \u001b[0m | \u001b[0m91.88    \u001b[0m |\n"
     ]
    },
    {
     "name": "stderr",
     "output_type": "stream",
     "text": [
      "100%|██████████| 100/100 [00:00<00:00, 325.83it/s]\n"
     ]
    },
    {
     "name": "stdout",
     "output_type": "stream",
     "text": [
      "100.89\n",
      "| \u001b[0m111      \u001b[0m | \u001b[0m30.0     \u001b[0m | \u001b[0m0.1512   \u001b[0m | \u001b[0m390.3    \u001b[0m | \u001b[0m0.7288   \u001b[0m | \u001b[0m0.6121   \u001b[0m | \u001b[0m78.66    \u001b[0m | \u001b[0m0.2008   \u001b[0m | \u001b[0m0.5446   \u001b[0m | \u001b[0m14.77    \u001b[0m |\n"
     ]
    },
    {
     "name": "stderr",
     "output_type": "stream",
     "text": [
      "100%|██████████| 100/100 [00:00<00:00, 246.74it/s]\n"
     ]
    },
    {
     "name": "stdout",
     "output_type": "stream",
     "text": [
      "109.84\n",
      "| \u001b[0m112      \u001b[0m | \u001b[0m80.0     \u001b[0m | \u001b[0m0.6462   \u001b[0m | \u001b[0m856.3    \u001b[0m | \u001b[0m0.3537   \u001b[0m | \u001b[0m0.2252   \u001b[0m | \u001b[0m43.68    \u001b[0m | \u001b[0m0.4574   \u001b[0m | \u001b[0m0.9138   \u001b[0m | \u001b[0m50.03    \u001b[0m |\n"
     ]
    },
    {
     "name": "stderr",
     "output_type": "stream",
     "text": [
      "100%|██████████| 100/100 [00:00<00:00, 306.40it/s]\n"
     ]
    },
    {
     "name": "stdout",
     "output_type": "stream",
     "text": [
      "114.86\n",
      "| \u001b[0m113      \u001b[0m | \u001b[0m44.0     \u001b[0m | \u001b[0m0.3222   \u001b[0m | \u001b[0m152.7    \u001b[0m | \u001b[0m0.4066   \u001b[0m | \u001b[0m0.7223   \u001b[0m | \u001b[0m13.08    \u001b[0m | \u001b[0m0.3115   \u001b[0m | \u001b[0m0.1475   \u001b[0m | \u001b[0m4.311    \u001b[0m |\n"
     ]
    },
    {
     "name": "stderr",
     "output_type": "stream",
     "text": [
      "100%|██████████| 100/100 [00:00<00:00, 230.31it/s]\n"
     ]
    },
    {
     "name": "stdout",
     "output_type": "stream",
     "text": [
      "119.26\n",
      "| \u001b[0m114      \u001b[0m | \u001b[0m24.0     \u001b[0m | \u001b[0m0.1593   \u001b[0m | \u001b[0m603.1    \u001b[0m | \u001b[0m0.1481   \u001b[0m | \u001b[0m0.5014   \u001b[0m | \u001b[0m65.81    \u001b[0m | \u001b[0m0.7556   \u001b[0m | \u001b[0m0.5507   \u001b[0m | \u001b[0m31.36    \u001b[0m |\n"
     ]
    },
    {
     "name": "stderr",
     "output_type": "stream",
     "text": [
      "100%|██████████| 100/100 [00:00<00:00, 297.31it/s]\n"
     ]
    },
    {
     "name": "stdout",
     "output_type": "stream",
     "text": [
      "119.96\n",
      "| \u001b[0m115      \u001b[0m | \u001b[0m64.0     \u001b[0m | \u001b[0m0.4164   \u001b[0m | \u001b[0m97.99    \u001b[0m | \u001b[0m0.08714  \u001b[0m | \u001b[0m0.4179   \u001b[0m | \u001b[0m31.33    \u001b[0m | \u001b[0m0.7092   \u001b[0m | \u001b[0m0.05934  \u001b[0m | \u001b[0m18.59    \u001b[0m |\n"
     ]
    },
    {
     "name": "stderr",
     "output_type": "stream",
     "text": [
      "100%|██████████| 100/100 [00:00<00:00, 376.18it/s]\n"
     ]
    },
    {
     "name": "stdout",
     "output_type": "stream",
     "text": [
      "61.35\n",
      "| \u001b[0m116      \u001b[0m | \u001b[0m31.0     \u001b[0m | \u001b[0m0.3053   \u001b[0m | \u001b[0m447.6    \u001b[0m | \u001b[0m0.1256   \u001b[0m | \u001b[0m0.2499   \u001b[0m | \u001b[0m72.81    \u001b[0m | \u001b[0m0.09095  \u001b[0m | \u001b[0m0.7328   \u001b[0m | \u001b[0m80.77    \u001b[0m |\n"
     ]
    },
    {
     "name": "stderr",
     "output_type": "stream",
     "text": [
      "100%|██████████| 100/100 [00:00<00:00, 265.04it/s]\n"
     ]
    },
    {
     "name": "stdout",
     "output_type": "stream",
     "text": [
      "118.97\n",
      "| \u001b[0m117      \u001b[0m | \u001b[0m77.0     \u001b[0m | \u001b[0m0.6784   \u001b[0m | \u001b[0m741.6    \u001b[0m | \u001b[0m0.8726   \u001b[0m | \u001b[0m0.6291   \u001b[0m | \u001b[0m16.62    \u001b[0m | \u001b[0m0.3629   \u001b[0m | \u001b[0m0.6375   \u001b[0m | \u001b[0m7.078    \u001b[0m |\n"
     ]
    },
    {
     "name": "stderr",
     "output_type": "stream",
     "text": [
      "100%|██████████| 100/100 [00:00<00:00, 245.95it/s]\n"
     ]
    },
    {
     "name": "stdout",
     "output_type": "stream",
     "text": [
      "110.65\n",
      "| \u001b[0m118      \u001b[0m | \u001b[0m73.0     \u001b[0m | \u001b[0m0.9457   \u001b[0m | \u001b[0m987.3    \u001b[0m | \u001b[0m0.6256   \u001b[0m | \u001b[0m0.2373   \u001b[0m | \u001b[0m70.5     \u001b[0m | \u001b[0m0.6155   \u001b[0m | \u001b[0m0.6717   \u001b[0m | \u001b[0m8.256    \u001b[0m |\n"
     ]
    },
    {
     "name": "stderr",
     "output_type": "stream",
     "text": [
      "100%|██████████| 100/100 [00:00<00:00, 320.11it/s]\n"
     ]
    },
    {
     "name": "stdout",
     "output_type": "stream",
     "text": [
      "76.59\n",
      "| \u001b[0m119      \u001b[0m | \u001b[0m41.0     \u001b[0m | \u001b[0m0.5648   \u001b[0m | \u001b[0m808.8    \u001b[0m | \u001b[0m0.9738   \u001b[0m | \u001b[0m0.08996  \u001b[0m | \u001b[0m43.01    \u001b[0m | \u001b[0m0.3071   \u001b[0m | \u001b[0m0.1112   \u001b[0m | \u001b[0m90.01    \u001b[0m |\n"
     ]
    },
    {
     "name": "stderr",
     "output_type": "stream",
     "text": [
      "100%|██████████| 100/100 [00:00<00:00, 243.20it/s]\n"
     ]
    },
    {
     "name": "stdout",
     "output_type": "stream",
     "text": [
      "120.0\n",
      "| \u001b[0m120      \u001b[0m | \u001b[0m65.0     \u001b[0m | \u001b[0m0.8138   \u001b[0m | \u001b[0m912.2    \u001b[0m | \u001b[0m0.6691   \u001b[0m | \u001b[0m0.6231   \u001b[0m | \u001b[0m43.06    \u001b[0m | \u001b[0m0.8112   \u001b[0m | \u001b[0m0.5449   \u001b[0m | \u001b[0m108.6    \u001b[0m |\n"
     ]
    },
    {
     "name": "stderr",
     "output_type": "stream",
     "text": [
      "100%|██████████| 100/100 [00:00<00:00, 248.09it/s]\n"
     ]
    },
    {
     "name": "stdout",
     "output_type": "stream",
     "text": [
      "120.0\n",
      "| \u001b[0m121      \u001b[0m | \u001b[0m66.0     \u001b[0m | \u001b[0m0.8348   \u001b[0m | \u001b[0m844.3    \u001b[0m | \u001b[0m0.6595   \u001b[0m | \u001b[0m0.7349   \u001b[0m | \u001b[0m36.84    \u001b[0m | \u001b[0m0.6682   \u001b[0m | \u001b[0m0.3383   \u001b[0m | \u001b[0m9.261    \u001b[0m |\n"
     ]
    },
    {
     "name": "stderr",
     "output_type": "stream",
     "text": [
      "100%|██████████| 100/100 [00:00<00:00, 265.16it/s]\n"
     ]
    },
    {
     "name": "stdout",
     "output_type": "stream",
     "text": [
      "118.64\n",
      "| \u001b[0m122      \u001b[0m | \u001b[0m54.0     \u001b[0m | \u001b[0m0.7684   \u001b[0m | \u001b[0m198.6    \u001b[0m | \u001b[0m0.7618   \u001b[0m | \u001b[0m0.9706   \u001b[0m | \u001b[0m46.89    \u001b[0m | \u001b[0m0.3903   \u001b[0m | \u001b[0m0.212    \u001b[0m | \u001b[0m81.68    \u001b[0m |\n"
     ]
    },
    {
     "name": "stderr",
     "output_type": "stream",
     "text": [
      "100%|██████████| 100/100 [00:00<00:00, 359.69it/s]\n"
     ]
    },
    {
     "name": "stdout",
     "output_type": "stream",
     "text": [
      "63.13\n",
      "| \u001b[0m123      \u001b[0m | \u001b[0m76.0     \u001b[0m | \u001b[0m0.916    \u001b[0m | \u001b[0m297.8    \u001b[0m | \u001b[0m0.7926   \u001b[0m | \u001b[0m0.6722   \u001b[0m | \u001b[0m30.5     \u001b[0m | \u001b[0m0.04177  \u001b[0m | \u001b[0m0.6387   \u001b[0m | \u001b[0m29.49    \u001b[0m |\n"
     ]
    },
    {
     "name": "stderr",
     "output_type": "stream",
     "text": [
      "100%|██████████| 100/100 [00:00<00:00, 233.36it/s]\n"
     ]
    },
    {
     "name": "stdout",
     "output_type": "stream",
     "text": [
      "119.06\n",
      "| \u001b[0m124      \u001b[0m | \u001b[0m36.0     \u001b[0m | \u001b[0m0.3104   \u001b[0m | \u001b[0m922.3    \u001b[0m | \u001b[0m0.7517   \u001b[0m | \u001b[0m0.4567   \u001b[0m | \u001b[0m66.52    \u001b[0m | \u001b[0m0.5592   \u001b[0m | \u001b[0m0.4045   \u001b[0m | \u001b[0m84.84    \u001b[0m |\n"
     ]
    },
    {
     "name": "stderr",
     "output_type": "stream",
     "text": [
      "100%|██████████| 100/100 [00:00<00:00, 272.67it/s]\n"
     ]
    },
    {
     "name": "stdout",
     "output_type": "stream",
     "text": [
      "117.85\n",
      "| \u001b[0m125      \u001b[0m | \u001b[0m57.0     \u001b[0m | \u001b[0m0.6601   \u001b[0m | \u001b[0m40.8     \u001b[0m | \u001b[0m0.2272   \u001b[0m | \u001b[0m0.3149   \u001b[0m | \u001b[0m58.18    \u001b[0m | \u001b[0m0.4732   \u001b[0m | \u001b[0m0.01367  \u001b[0m | \u001b[0m30.67    \u001b[0m |\n"
     ]
    },
    {
     "name": "stderr",
     "output_type": "stream",
     "text": [
      "100%|██████████| 100/100 [00:00<00:00, 258.49it/s]\n"
     ]
    },
    {
     "name": "stdout",
     "output_type": "stream",
     "text": [
      "120.0\n",
      "| \u001b[0m126      \u001b[0m | \u001b[0m66.0     \u001b[0m | \u001b[0m0.8908   \u001b[0m | \u001b[0m811.7    \u001b[0m | \u001b[0m0.7692   \u001b[0m | \u001b[0m0.8749   \u001b[0m | \u001b[0m67.0     \u001b[0m | \u001b[0m0.7013   \u001b[0m | \u001b[0m0.4142   \u001b[0m | \u001b[0m28.64    \u001b[0m |\n"
     ]
    },
    {
     "name": "stderr",
     "output_type": "stream",
     "text": [
      "100%|██████████| 100/100 [00:00<00:00, 304.33it/s]\n"
     ]
    },
    {
     "name": "stdout",
     "output_type": "stream",
     "text": [
      "101.58\n",
      "| \u001b[0m127      \u001b[0m | \u001b[0m44.0     \u001b[0m | \u001b[0m0.1388   \u001b[0m | \u001b[0m318.3    \u001b[0m | \u001b[0m0.7932   \u001b[0m | \u001b[0m0.9068   \u001b[0m | \u001b[0m76.37    \u001b[0m | \u001b[0m0.2568   \u001b[0m | \u001b[0m0.6069   \u001b[0m | \u001b[0m106.8    \u001b[0m |\n"
     ]
    },
    {
     "name": "stderr",
     "output_type": "stream",
     "text": [
      "100%|██████████| 100/100 [00:00<00:00, 254.31it/s]\n"
     ]
    },
    {
     "name": "stdout",
     "output_type": "stream",
     "text": [
      "120.0\n",
      "| \u001b[0m128      \u001b[0m | \u001b[0m65.0     \u001b[0m | \u001b[0m0.4646   \u001b[0m | \u001b[0m972.0    \u001b[0m | \u001b[0m0.2676   \u001b[0m | \u001b[0m0.8335   \u001b[0m | \u001b[0m51.16    \u001b[0m | \u001b[0m0.4854   \u001b[0m | \u001b[0m0.1836   \u001b[0m | \u001b[0m48.43    \u001b[0m |\n"
     ]
    },
    {
     "name": "stderr",
     "output_type": "stream",
     "text": [
      "100%|██████████| 100/100 [00:00<00:00, 278.54it/s]\n"
     ]
    },
    {
     "name": "stdout",
     "output_type": "stream",
     "text": [
      "119.57\n",
      "| \u001b[0m129      \u001b[0m | \u001b[0m58.0     \u001b[0m | \u001b[0m0.8273   \u001b[0m | \u001b[0m124.3    \u001b[0m | \u001b[0m0.4054   \u001b[0m | \u001b[0m0.3544   \u001b[0m | \u001b[0m46.25    \u001b[0m | \u001b[0m0.9928   \u001b[0m | \u001b[0m0.1839   \u001b[0m | \u001b[0m55.91    \u001b[0m |\n"
     ]
    },
    {
     "name": "stderr",
     "output_type": "stream",
     "text": [
      "100%|██████████| 100/100 [00:00<00:00, 249.44it/s]\n"
     ]
    },
    {
     "name": "stdout",
     "output_type": "stream",
     "text": [
      "120.0\n",
      "| \u001b[0m130      \u001b[0m | \u001b[0m57.0     \u001b[0m | \u001b[0m0.537    \u001b[0m | \u001b[0m969.1    \u001b[0m | \u001b[0m0.7768   \u001b[0m | \u001b[0m0.4985   \u001b[0m | \u001b[0m15.95    \u001b[0m | \u001b[0m0.9863   \u001b[0m | \u001b[0m0.1314   \u001b[0m | \u001b[0m35.41    \u001b[0m |\n"
     ]
    },
    {
     "name": "stderr",
     "output_type": "stream",
     "text": [
      "100%|██████████| 100/100 [00:00<00:00, 289.71it/s]\n"
     ]
    },
    {
     "name": "stdout",
     "output_type": "stream",
     "text": [
      "118.84\n",
      "| \u001b[0m131      \u001b[0m | \u001b[0m28.0     \u001b[0m | \u001b[0m0.1382   \u001b[0m | \u001b[0m176.3    \u001b[0m | \u001b[0m0.1294   \u001b[0m | \u001b[0m0.7642   \u001b[0m | \u001b[0m10.55    \u001b[0m | \u001b[0m0.4724   \u001b[0m | \u001b[0m0.4173   \u001b[0m | \u001b[0m33.77    \u001b[0m |\n"
     ]
    },
    {
     "name": "stderr",
     "output_type": "stream",
     "text": [
      "100%|██████████| 100/100 [00:00<00:00, 214.96it/s]\n"
     ]
    },
    {
     "name": "stdout",
     "output_type": "stream",
     "text": [
      "120.0\n",
      "| \u001b[0m132      \u001b[0m | \u001b[0m59.0     \u001b[0m | \u001b[0m0.8985   \u001b[0m | \u001b[0m283.0    \u001b[0m | \u001b[0m0.3266   \u001b[0m | \u001b[0m0.899    \u001b[0m | \u001b[0m60.83    \u001b[0m | \u001b[0m0.826    \u001b[0m | \u001b[0m0.4756   \u001b[0m | \u001b[0m13.28    \u001b[0m |\n"
     ]
    },
    {
     "name": "stderr",
     "output_type": "stream",
     "text": [
      "100%|██████████| 100/100 [00:00<00:00, 220.55it/s]\n"
     ]
    },
    {
     "name": "stdout",
     "output_type": "stream",
     "text": [
      "120.0\n",
      "| \u001b[0m133      \u001b[0m | \u001b[0m52.0     \u001b[0m | \u001b[0m0.443    \u001b[0m | \u001b[0m821.6    \u001b[0m | \u001b[0m0.3417   \u001b[0m | \u001b[0m0.6875   \u001b[0m | \u001b[0m74.54    \u001b[0m | \u001b[0m0.9541   \u001b[0m | \u001b[0m0.941    \u001b[0m | \u001b[0m56.83    \u001b[0m |\n"
     ]
    },
    {
     "name": "stderr",
     "output_type": "stream",
     "text": [
      "100%|██████████| 100/100 [00:00<00:00, 353.77it/s]\n"
     ]
    },
    {
     "name": "stdout",
     "output_type": "stream",
     "text": [
      "89.14\n",
      "| \u001b[0m134      \u001b[0m | \u001b[0m77.0     \u001b[0m | \u001b[0m0.696    \u001b[0m | \u001b[0m808.1    \u001b[0m | \u001b[0m0.008623 \u001b[0m | \u001b[0m0.9809   \u001b[0m | \u001b[0m33.49    \u001b[0m | \u001b[0m0.1289   \u001b[0m | \u001b[0m0.311    \u001b[0m | \u001b[0m33.87    \u001b[0m |\n"
     ]
    },
    {
     "name": "stderr",
     "output_type": "stream",
     "text": [
      "100%|██████████| 100/100 [00:00<00:00, 243.16it/s]\n"
     ]
    },
    {
     "name": "stdout",
     "output_type": "stream",
     "text": [
      "112.44\n",
      "| \u001b[0m135      \u001b[0m | \u001b[0m65.0     \u001b[0m | \u001b[0m0.4681   \u001b[0m | \u001b[0m95.72    \u001b[0m | \u001b[0m0.2457   \u001b[0m | \u001b[0m0.3042   \u001b[0m | \u001b[0m38.86    \u001b[0m | \u001b[0m0.2652   \u001b[0m | \u001b[0m0.2029   \u001b[0m | \u001b[0m81.29    \u001b[0m |\n"
     ]
    },
    {
     "name": "stderr",
     "output_type": "stream",
     "text": [
      "100%|██████████| 100/100 [00:00<00:00, 400.16it/s]\n"
     ]
    },
    {
     "name": "stdout",
     "output_type": "stream",
     "text": [
      "76.72\n",
      "| \u001b[0m136      \u001b[0m | \u001b[0m48.0     \u001b[0m | \u001b[0m0.5627   \u001b[0m | \u001b[0m434.0    \u001b[0m | \u001b[0m0.5677   \u001b[0m | \u001b[0m0.105    \u001b[0m | \u001b[0m59.59    \u001b[0m | \u001b[0m0.1437   \u001b[0m | \u001b[0m0.7369   \u001b[0m | \u001b[0m80.54    \u001b[0m |\n"
     ]
    },
    {
     "name": "stderr",
     "output_type": "stream",
     "text": [
      "100%|██████████| 100/100 [00:00<00:00, 259.92it/s]\n"
     ]
    },
    {
     "name": "stdout",
     "output_type": "stream",
     "text": [
      "114.32\n",
      "| \u001b[0m137      \u001b[0m | \u001b[0m70.0     \u001b[0m | \u001b[0m0.8983   \u001b[0m | \u001b[0m303.4    \u001b[0m | \u001b[0m0.2525   \u001b[0m | \u001b[0m0.2209   \u001b[0m | \u001b[0m11.05    \u001b[0m | \u001b[0m0.4275   \u001b[0m | \u001b[0m0.411    \u001b[0m | \u001b[0m77.7     \u001b[0m |\n"
     ]
    },
    {
     "name": "stderr",
     "output_type": "stream",
     "text": [
      "100%|██████████| 100/100 [00:00<00:00, 277.22it/s]\n"
     ]
    },
    {
     "name": "stdout",
     "output_type": "stream",
     "text": [
      "120.0\n",
      "| \u001b[0m138      \u001b[0m | \u001b[0m22.0     \u001b[0m | \u001b[0m0.1796   \u001b[0m | \u001b[0m128.6    \u001b[0m | \u001b[0m0.02728  \u001b[0m | \u001b[0m0.7183   \u001b[0m | \u001b[0m69.39    \u001b[0m | \u001b[0m0.8256   \u001b[0m | \u001b[0m0.2732   \u001b[0m | \u001b[0m17.54    \u001b[0m |\n"
     ]
    },
    {
     "name": "stderr",
     "output_type": "stream",
     "text": [
      "100%|██████████| 100/100 [00:00<00:00, 343.27it/s]\n"
     ]
    },
    {
     "name": "stdout",
     "output_type": "stream",
     "text": [
      "60.6\n",
      "| \u001b[0m139      \u001b[0m | \u001b[0m16.0     \u001b[0m | \u001b[0m0.5998   \u001b[0m | \u001b[0m306.3    \u001b[0m | \u001b[0m0.1153   \u001b[0m | \u001b[0m0.02101  \u001b[0m | \u001b[0m11.7     \u001b[0m | \u001b[0m0.881    \u001b[0m | \u001b[0m0.05357  \u001b[0m | \u001b[0m105.3    \u001b[0m |\n"
     ]
    },
    {
     "name": "stderr",
     "output_type": "stream",
     "text": [
      "100%|██████████| 100/100 [00:00<00:00, 243.87it/s]\n"
     ]
    },
    {
     "name": "stdout",
     "output_type": "stream",
     "text": [
      "119.61\n",
      "| \u001b[0m140      \u001b[0m | \u001b[0m70.0     \u001b[0m | \u001b[0m0.491    \u001b[0m | \u001b[0m108.9    \u001b[0m | \u001b[0m0.1021   \u001b[0m | \u001b[0m0.5465   \u001b[0m | \u001b[0m42.98    \u001b[0m | \u001b[0m0.4734   \u001b[0m | \u001b[0m0.7893   \u001b[0m | \u001b[0m12.12    \u001b[0m |\n"
     ]
    },
    {
     "name": "stderr",
     "output_type": "stream",
     "text": [
      "100%|██████████| 100/100 [00:00<00:00, 241.86it/s]\n"
     ]
    },
    {
     "name": "stdout",
     "output_type": "stream",
     "text": [
      "118.7\n",
      "| \u001b[0m141      \u001b[0m | \u001b[0m46.0     \u001b[0m | \u001b[0m0.7877   \u001b[0m | \u001b[0m273.7    \u001b[0m | \u001b[0m0.3834   \u001b[0m | \u001b[0m0.3776   \u001b[0m | \u001b[0m36.55    \u001b[0m | \u001b[0m0.3966   \u001b[0m | \u001b[0m0.2057   \u001b[0m | \u001b[0m23.2     \u001b[0m |\n"
     ]
    },
    {
     "name": "stderr",
     "output_type": "stream",
     "text": [
      "100%|██████████| 100/100 [00:00<00:00, 352.85it/s]\n"
     ]
    },
    {
     "name": "stdout",
     "output_type": "stream",
     "text": [
      "61.1\n",
      "| \u001b[0m142      \u001b[0m | \u001b[0m21.0     \u001b[0m | \u001b[0m0.3348   \u001b[0m | \u001b[0m675.7    \u001b[0m | \u001b[0m0.535    \u001b[0m | \u001b[0m0.07981  \u001b[0m | \u001b[0m35.78    \u001b[0m | \u001b[0m0.6801   \u001b[0m | \u001b[0m0.3919   \u001b[0m | \u001b[0m80.14    \u001b[0m |\n"
     ]
    },
    {
     "name": "stderr",
     "output_type": "stream",
     "text": [
      "100%|██████████| 100/100 [00:00<00:00, 277.36it/s]\n"
     ]
    },
    {
     "name": "stdout",
     "output_type": "stream",
     "text": [
      "100.36\n",
      "| \u001b[0m143      \u001b[0m | \u001b[0m81.0     \u001b[0m | \u001b[0m0.761    \u001b[0m | \u001b[0m73.63    \u001b[0m | \u001b[0m0.7223   \u001b[0m | \u001b[0m0.1582   \u001b[0m | \u001b[0m51.1     \u001b[0m | \u001b[0m0.3536   \u001b[0m | \u001b[0m0.7491   \u001b[0m | \u001b[0m17.9     \u001b[0m |\n"
     ]
    },
    {
     "name": "stderr",
     "output_type": "stream",
     "text": [
      "100%|██████████| 100/100 [00:00<00:00, 289.43it/s]\n"
     ]
    },
    {
     "name": "stdout",
     "output_type": "stream",
     "text": [
      "110.81\n",
      "| \u001b[0m144      \u001b[0m | \u001b[0m61.0     \u001b[0m | \u001b[0m0.2237   \u001b[0m | \u001b[0m20.17    \u001b[0m | \u001b[0m0.0494   \u001b[0m | \u001b[0m0.448    \u001b[0m | \u001b[0m22.12    \u001b[0m | \u001b[0m0.3067   \u001b[0m | \u001b[0m0.9      \u001b[0m | \u001b[0m25.85    \u001b[0m |\n"
     ]
    },
    {
     "name": "stderr",
     "output_type": "stream",
     "text": [
      "100%|██████████| 100/100 [00:00<00:00, 303.49it/s]\n"
     ]
    },
    {
     "name": "stdout",
     "output_type": "stream",
     "text": [
      "89.0\n",
      "| \u001b[0m145      \u001b[0m | \u001b[0m48.0     \u001b[0m | \u001b[0m0.5488   \u001b[0m | \u001b[0m52.4     \u001b[0m | \u001b[0m0.5341   \u001b[0m | \u001b[0m0.1568   \u001b[0m | \u001b[0m41.23    \u001b[0m | \u001b[0m0.2626   \u001b[0m | \u001b[0m0.5867   \u001b[0m | \u001b[0m66.38    \u001b[0m |\n"
     ]
    },
    {
     "name": "stderr",
     "output_type": "stream",
     "text": [
      "100%|██████████| 100/100 [00:00<00:00, 411.94it/s]\n"
     ]
    },
    {
     "name": "stdout",
     "output_type": "stream",
     "text": [
      "77.0\n",
      "| \u001b[0m146      \u001b[0m | \u001b[0m21.0     \u001b[0m | \u001b[0m0.2769   \u001b[0m | \u001b[0m323.4    \u001b[0m | \u001b[0m0.1088   \u001b[0m | \u001b[0m0.1774   \u001b[0m | \u001b[0m37.89    \u001b[0m | \u001b[0m0.1261   \u001b[0m | \u001b[0m0.06607  \u001b[0m | \u001b[0m39.06    \u001b[0m |\n"
     ]
    },
    {
     "name": "stderr",
     "output_type": "stream",
     "text": [
      "100%|██████████| 100/100 [00:00<00:00, 243.10it/s]\n"
     ]
    },
    {
     "name": "stdout",
     "output_type": "stream",
     "text": [
      "120.0\n",
      "| \u001b[0m147      \u001b[0m | \u001b[0m37.0     \u001b[0m | \u001b[0m0.4868   \u001b[0m | \u001b[0m150.9    \u001b[0m | \u001b[0m0.3055   \u001b[0m | \u001b[0m0.93     \u001b[0m | \u001b[0m13.97    \u001b[0m | \u001b[0m0.8859   \u001b[0m | \u001b[0m0.08759  \u001b[0m | \u001b[0m117.2    \u001b[0m |\n"
     ]
    },
    {
     "name": "stderr",
     "output_type": "stream",
     "text": [
      "100%|██████████| 100/100 [00:00<00:00, 300.07it/s]\n"
     ]
    },
    {
     "name": "stdout",
     "output_type": "stream",
     "text": [
      "118.57\n",
      "| \u001b[0m148      \u001b[0m | \u001b[0m30.0     \u001b[0m | \u001b[0m0.09622  \u001b[0m | \u001b[0m717.7    \u001b[0m | \u001b[0m0.1747   \u001b[0m | \u001b[0m0.7084   \u001b[0m | \u001b[0m25.75    \u001b[0m | \u001b[0m0.4109   \u001b[0m | \u001b[0m0.5178   \u001b[0m | \u001b[0m77.69    \u001b[0m |\n"
     ]
    },
    {
     "name": "stderr",
     "output_type": "stream",
     "text": [
      "100%|██████████| 100/100 [00:00<00:00, 241.22it/s]\n"
     ]
    },
    {
     "name": "stdout",
     "output_type": "stream",
     "text": [
      "119.48\n",
      "| \u001b[0m149      \u001b[0m | \u001b[0m51.0     \u001b[0m | \u001b[0m0.3632   \u001b[0m | \u001b[0m720.8    \u001b[0m | \u001b[0m0.7913   \u001b[0m | \u001b[0m0.46     \u001b[0m | \u001b[0m29.43    \u001b[0m | \u001b[0m0.7847   \u001b[0m | \u001b[0m0.02632  \u001b[0m | \u001b[0m80.91    \u001b[0m |\n"
     ]
    },
    {
     "name": "stderr",
     "output_type": "stream",
     "text": [
      "100%|██████████| 100/100 [00:00<00:00, 406.40it/s]\n"
     ]
    },
    {
     "name": "stdout",
     "output_type": "stream",
     "text": [
      "93.92\n",
      "| \u001b[0m150      \u001b[0m | \u001b[0m37.0     \u001b[0m | \u001b[0m0.2503   \u001b[0m | \u001b[0m190.3    \u001b[0m | \u001b[0m0.2448   \u001b[0m | \u001b[0m0.2367   \u001b[0m | \u001b[0m43.92    \u001b[0m | \u001b[0m0.1933   \u001b[0m | \u001b[0m0.3883   \u001b[0m | \u001b[0m43.05    \u001b[0m |\n"
     ]
    },
    {
     "name": "stderr",
     "output_type": "stream",
     "text": [
      "100%|██████████| 100/100 [00:00<00:00, 283.76it/s]\n"
     ]
    },
    {
     "name": "stdout",
     "output_type": "stream",
     "text": [
      "85.93\n",
      "| \u001b[0m151      \u001b[0m | \u001b[0m48.0     \u001b[0m | \u001b[0m0.385    \u001b[0m | \u001b[0m210.1    \u001b[0m | \u001b[0m0.06173  \u001b[0m | \u001b[0m0.149    \u001b[0m | \u001b[0m79.85    \u001b[0m | \u001b[0m0.7163   \u001b[0m | \u001b[0m0.09798  \u001b[0m | \u001b[0m49.98    \u001b[0m |\n"
     ]
    },
    {
     "name": "stderr",
     "output_type": "stream",
     "text": [
      "100%|██████████| 100/100 [00:00<00:00, 665.00it/s]\n"
     ]
    },
    {
     "name": "stdout",
     "output_type": "stream",
     "text": [
      "51.87\n",
      "| \u001b[0m152      \u001b[0m | \u001b[0m2.0      \u001b[0m | \u001b[0m0.345    \u001b[0m | \u001b[0m547.9    \u001b[0m | \u001b[0m0.6835   \u001b[0m | \u001b[0m0.01781  \u001b[0m | \u001b[0m16.5     \u001b[0m | \u001b[0m0.5806   \u001b[0m | \u001b[0m0.1434   \u001b[0m | \u001b[0m114.0    \u001b[0m |\n"
     ]
    },
    {
     "name": "stderr",
     "output_type": "stream",
     "text": [
      "100%|██████████| 100/100 [00:00<00:00, 363.35it/s]\n"
     ]
    },
    {
     "name": "stdout",
     "output_type": "stream",
     "text": [
      "60.34\n",
      "| \u001b[0m153      \u001b[0m | \u001b[0m23.0     \u001b[0m | \u001b[0m0.2512   \u001b[0m | \u001b[0m289.7    \u001b[0m | \u001b[0m0.2718   \u001b[0m | \u001b[0m0.501    \u001b[0m | \u001b[0m45.62    \u001b[0m | \u001b[0m0.06904  \u001b[0m | \u001b[0m0.3259   \u001b[0m | \u001b[0m66.84    \u001b[0m |\n"
     ]
    },
    {
     "name": "stderr",
     "output_type": "stream",
     "text": [
      "100%|██████████| 100/100 [00:00<00:00, 254.68it/s]\n"
     ]
    },
    {
     "name": "stdout",
     "output_type": "stream",
     "text": [
      "120.0\n",
      "| \u001b[0m154      \u001b[0m | \u001b[0m54.0     \u001b[0m | \u001b[0m0.201    \u001b[0m | \u001b[0m557.1    \u001b[0m | \u001b[0m0.6229   \u001b[0m | \u001b[0m0.5389   \u001b[0m | \u001b[0m69.65    \u001b[0m | \u001b[0m0.4876   \u001b[0m | \u001b[0m0.8618   \u001b[0m | \u001b[0m75.01    \u001b[0m |\n"
     ]
    },
    {
     "name": "stderr",
     "output_type": "stream",
     "text": [
      "100%|██████████| 100/100 [00:00<00:00, 281.20it/s]\n"
     ]
    },
    {
     "name": "stdout",
     "output_type": "stream",
     "text": [
      "108.9\n",
      "| \u001b[0m155      \u001b[0m | \u001b[0m43.0     \u001b[0m | \u001b[0m0.2464   \u001b[0m | \u001b[0m613.1    \u001b[0m | \u001b[0m0.1728   \u001b[0m | \u001b[0m0.6105   \u001b[0m | \u001b[0m48.94    \u001b[0m | \u001b[0m0.2735   \u001b[0m | \u001b[0m0.09314  \u001b[0m | \u001b[0m99.26    \u001b[0m |\n"
     ]
    },
    {
     "name": "stderr",
     "output_type": "stream",
     "text": [
      "100%|██████████| 100/100 [00:00<00:00, 238.76it/s]\n"
     ]
    },
    {
     "name": "stdout",
     "output_type": "stream",
     "text": [
      "120.0\n",
      "| \u001b[0m156      \u001b[0m | \u001b[0m66.0     \u001b[0m | \u001b[0m0.6993   \u001b[0m | \u001b[0m669.9    \u001b[0m | \u001b[0m0.5853   \u001b[0m | \u001b[0m0.7589   \u001b[0m | \u001b[0m37.41    \u001b[0m | \u001b[0m0.5041   \u001b[0m | \u001b[0m0.4946   \u001b[0m | \u001b[0m20.26    \u001b[0m |\n"
     ]
    },
    {
     "name": "stderr",
     "output_type": "stream",
     "text": [
      "100%|██████████| 100/100 [00:00<00:00, 281.74it/s]\n"
     ]
    },
    {
     "name": "stdout",
     "output_type": "stream",
     "text": [
      "119.61\n",
      "| \u001b[0m157      \u001b[0m | \u001b[0m61.0     \u001b[0m | \u001b[0m0.8471   \u001b[0m | \u001b[0m182.9    \u001b[0m | \u001b[0m0.9841   \u001b[0m | \u001b[0m0.4554   \u001b[0m | \u001b[0m63.54    \u001b[0m | \u001b[0m0.7231   \u001b[0m | \u001b[0m0.2857   \u001b[0m | \u001b[0m10.67    \u001b[0m |\n"
     ]
    },
    {
     "name": "stderr",
     "output_type": "stream",
     "text": [
      "100%|██████████| 100/100 [00:00<00:00, 259.57it/s]\n"
     ]
    },
    {
     "name": "stdout",
     "output_type": "stream",
     "text": [
      "120.0\n",
      "| \u001b[0m158      \u001b[0m | \u001b[0m54.0     \u001b[0m | \u001b[0m0.8503   \u001b[0m | \u001b[0m907.1    \u001b[0m | \u001b[0m0.9833   \u001b[0m | \u001b[0m0.5947   \u001b[0m | \u001b[0m36.68    \u001b[0m | \u001b[0m0.6635   \u001b[0m | \u001b[0m0.1728   \u001b[0m | \u001b[0m58.01    \u001b[0m |\n"
     ]
    },
    {
     "name": "stderr",
     "output_type": "stream",
     "text": [
      "100%|██████████| 100/100 [00:00<00:00, 284.93it/s]\n"
     ]
    },
    {
     "name": "stdout",
     "output_type": "stream",
     "text": [
      "120.0\n",
      "| \u001b[0m159      \u001b[0m | \u001b[0m64.0     \u001b[0m | \u001b[0m0.8829   \u001b[0m | \u001b[0m463.6    \u001b[0m | \u001b[0m0.3203   \u001b[0m | \u001b[0m0.6764   \u001b[0m | \u001b[0m32.03    \u001b[0m | \u001b[0m0.7953   \u001b[0m | \u001b[0m0.7217   \u001b[0m | \u001b[0m103.8    \u001b[0m |\n"
     ]
    },
    {
     "name": "stderr",
     "output_type": "stream",
     "text": [
      "100%|██████████| 100/100 [00:00<00:00, 322.05it/s]\n"
     ]
    },
    {
     "name": "stdout",
     "output_type": "stream",
     "text": [
      "92.75\n",
      "| \u001b[0m160      \u001b[0m | \u001b[0m33.0     \u001b[0m | \u001b[0m0.1253   \u001b[0m | \u001b[0m558.2    \u001b[0m | \u001b[0m0.2755   \u001b[0m | \u001b[0m0.9558   \u001b[0m | \u001b[0m79.73    \u001b[0m | \u001b[0m0.181    \u001b[0m | \u001b[0m0.3707   \u001b[0m | \u001b[0m51.43    \u001b[0m |\n"
     ]
    },
    {
     "name": "stderr",
     "output_type": "stream",
     "text": [
      "100%|██████████| 100/100 [00:00<00:00, 290.47it/s]\n"
     ]
    },
    {
     "name": "stdout",
     "output_type": "stream",
     "text": [
      "107.15\n",
      "| \u001b[0m161      \u001b[0m | \u001b[0m71.0     \u001b[0m | \u001b[0m0.7629   \u001b[0m | \u001b[0m626.3    \u001b[0m | \u001b[0m0.9436   \u001b[0m | \u001b[0m0.1935   \u001b[0m | \u001b[0m29.65    \u001b[0m | \u001b[0m0.4263   \u001b[0m | \u001b[0m0.4505   \u001b[0m | \u001b[0m99.14    \u001b[0m |\n"
     ]
    },
    {
     "name": "stderr",
     "output_type": "stream",
     "text": [
      "100%|██████████| 100/100 [00:00<00:00, 627.02it/s]\n"
     ]
    },
    {
     "name": "stdout",
     "output_type": "stream",
     "text": [
      "54.24\n",
      "| \u001b[0m162      \u001b[0m | \u001b[0m87.0     \u001b[0m | \u001b[0m0.5668   \u001b[0m | \u001b[0m730.0    \u001b[0m | \u001b[0m0.2777   \u001b[0m | \u001b[0m0.03109  \u001b[0m | \u001b[0m58.58    \u001b[0m | \u001b[0m0.9146   \u001b[0m | \u001b[0m0.902    \u001b[0m | \u001b[0m37.64    \u001b[0m |\n"
     ]
    },
    {
     "name": "stderr",
     "output_type": "stream",
     "text": [
      "100%|██████████| 100/100 [00:00<00:00, 241.55it/s]\n"
     ]
    },
    {
     "name": "stdout",
     "output_type": "stream",
     "text": [
      "120.0\n",
      "| \u001b[0m163      \u001b[0m | \u001b[0m60.0     \u001b[0m | \u001b[0m0.5761   \u001b[0m | \u001b[0m815.3    \u001b[0m | \u001b[0m0.3934   \u001b[0m | \u001b[0m0.6037   \u001b[0m | \u001b[0m33.89    \u001b[0m | \u001b[0m0.7181   \u001b[0m | \u001b[0m0.2471   \u001b[0m | \u001b[0m21.03    \u001b[0m |\n"
     ]
    },
    {
     "name": "stderr",
     "output_type": "stream",
     "text": [
      "100%|██████████| 100/100 [00:00<00:00, 327.49it/s]\n"
     ]
    },
    {
     "name": "stdout",
     "output_type": "stream",
     "text": [
      "115.81\n",
      "| \u001b[0m164      \u001b[0m | \u001b[0m79.0     \u001b[0m | \u001b[0m0.3391   \u001b[0m | \u001b[0m784.3    \u001b[0m | \u001b[0m0.2078   \u001b[0m | \u001b[0m0.2938   \u001b[0m | \u001b[0m76.16    \u001b[0m | \u001b[0m0.4204   \u001b[0m | \u001b[0m0.8607   \u001b[0m | \u001b[0m71.19    \u001b[0m |\n"
     ]
    },
    {
     "name": "stderr",
     "output_type": "stream",
     "text": [
      "100%|██████████| 100/100 [00:00<00:00, 239.11it/s]\n"
     ]
    },
    {
     "name": "stdout",
     "output_type": "stream",
     "text": [
      "102.78\n",
      "| \u001b[0m165      \u001b[0m | \u001b[0m56.0     \u001b[0m | \u001b[0m0.5534   \u001b[0m | \u001b[0m644.3    \u001b[0m | \u001b[0m0.2066   \u001b[0m | \u001b[0m0.2031   \u001b[0m | \u001b[0m45.89    \u001b[0m | \u001b[0m0.2362   \u001b[0m | \u001b[0m0.4597   \u001b[0m | \u001b[0m51.73    \u001b[0m |\n"
     ]
    },
    {
     "name": "stderr",
     "output_type": "stream",
     "text": [
      "100%|██████████| 100/100 [00:00<00:00, 322.56it/s]\n"
     ]
    },
    {
     "name": "stdout",
     "output_type": "stream",
     "text": [
      "113.44\n",
      "| \u001b[0m166      \u001b[0m | \u001b[0m72.0     \u001b[0m | \u001b[0m0.4663   \u001b[0m | \u001b[0m452.3    \u001b[0m | \u001b[0m0.8597   \u001b[0m | \u001b[0m0.3126   \u001b[0m | \u001b[0m32.23    \u001b[0m | \u001b[0m0.4407   \u001b[0m | \u001b[0m0.7952   \u001b[0m | \u001b[0m12.52    \u001b[0m |\n"
     ]
    },
    {
     "name": "stderr",
     "output_type": "stream",
     "text": [
      "100%|██████████| 100/100 [00:00<00:00, 277.48it/s]\n"
     ]
    },
    {
     "name": "stdout",
     "output_type": "stream",
     "text": [
      "64.39\n",
      "| \u001b[0m167      \u001b[0m | \u001b[0m25.0     \u001b[0m | \u001b[0m0.3602   \u001b[0m | \u001b[0m167.6    \u001b[0m | \u001b[0m0.89     \u001b[0m | \u001b[0m0.06445  \u001b[0m | \u001b[0m42.43    \u001b[0m | \u001b[0m0.733    \u001b[0m | \u001b[0m0.7702   \u001b[0m | \u001b[0m76.8     \u001b[0m |\n"
     ]
    },
    {
     "name": "stderr",
     "output_type": "stream",
     "text": [
      "100%|██████████| 100/100 [00:00<00:00, 247.96it/s]\n"
     ]
    },
    {
     "name": "stdout",
     "output_type": "stream",
     "text": [
      "119.35\n",
      "| \u001b[0m168      \u001b[0m | \u001b[0m27.0     \u001b[0m | \u001b[0m0.2401   \u001b[0m | \u001b[0m564.1    \u001b[0m | \u001b[0m0.9312   \u001b[0m | \u001b[0m0.4829   \u001b[0m | \u001b[0m42.84    \u001b[0m | \u001b[0m0.9979   \u001b[0m | \u001b[0m0.2957   \u001b[0m | \u001b[0m76.92    \u001b[0m |\n"
     ]
    },
    {
     "name": "stderr",
     "output_type": "stream",
     "text": [
      "100%|██████████| 100/100 [00:00<00:00, 662.34it/s]\n"
     ]
    },
    {
     "name": "stdout",
     "output_type": "stream",
     "text": [
      "50.42\n",
      "| \u001b[0m169      \u001b[0m | \u001b[0m34.0     \u001b[0m | \u001b[0m0.1493   \u001b[0m | \u001b[0m448.3    \u001b[0m | \u001b[0m0.4433   \u001b[0m | \u001b[0m0.9638   \u001b[0m | \u001b[0m11.44    \u001b[0m | \u001b[0m0.0218   \u001b[0m | \u001b[0m0.6151   \u001b[0m | \u001b[0m26.75    \u001b[0m |\n"
     ]
    },
    {
     "name": "stderr",
     "output_type": "stream",
     "text": [
      "100%|██████████| 100/100 [00:00<00:00, 235.23it/s]\n"
     ]
    },
    {
     "name": "stdout",
     "output_type": "stream",
     "text": [
      "120.0\n",
      "| \u001b[0m170      \u001b[0m | \u001b[0m63.0     \u001b[0m | \u001b[0m0.9218   \u001b[0m | \u001b[0m834.5    \u001b[0m | \u001b[0m0.6094   \u001b[0m | \u001b[0m0.7925   \u001b[0m | \u001b[0m19.58    \u001b[0m | \u001b[0m0.7414   \u001b[0m | \u001b[0m0.6769   \u001b[0m | \u001b[0m48.99    \u001b[0m |\n"
     ]
    },
    {
     "name": "stderr",
     "output_type": "stream",
     "text": [
      "100%|██████████| 100/100 [00:00<00:00, 519.74it/s]\n"
     ]
    },
    {
     "name": "stdout",
     "output_type": "stream",
     "text": [
      "61.18\n",
      "| \u001b[0m171      \u001b[0m | \u001b[0m67.0     \u001b[0m | \u001b[0m0.429    \u001b[0m | \u001b[0m71.22    \u001b[0m | \u001b[0m0.05555  \u001b[0m | \u001b[0m0.3721   \u001b[0m | \u001b[0m79.45    \u001b[0m | \u001b[0m0.07597  \u001b[0m | \u001b[0m0.8317   \u001b[0m | \u001b[0m91.16    \u001b[0m |\n"
     ]
    },
    {
     "name": "stderr",
     "output_type": "stream",
     "text": [
      "100%|██████████| 100/100 [00:00<00:00, 228.27it/s]\n"
     ]
    },
    {
     "name": "stdout",
     "output_type": "stream",
     "text": [
      "116.86\n",
      "| \u001b[0m172      \u001b[0m | \u001b[0m80.0     \u001b[0m | \u001b[0m0.7471   \u001b[0m | \u001b[0m292.4    \u001b[0m | \u001b[0m0.9912   \u001b[0m | \u001b[0m0.307    \u001b[0m | \u001b[0m32.84    \u001b[0m | \u001b[0m0.9725   \u001b[0m | \u001b[0m0.771    \u001b[0m | \u001b[0m70.1     \u001b[0m |\n"
     ]
    },
    {
     "name": "stderr",
     "output_type": "stream",
     "text": [
      "100%|██████████| 100/100 [00:00<00:00, 602.19it/s]\n"
     ]
    },
    {
     "name": "stdout",
     "output_type": "stream",
     "text": [
      "61.1\n",
      "| \u001b[0m173      \u001b[0m | \u001b[0m78.0     \u001b[0m | \u001b[0m0.08901  \u001b[0m | \u001b[0m976.2    \u001b[0m | \u001b[0m0.3424   \u001b[0m | \u001b[0m0.9463   \u001b[0m | \u001b[0m42.09    \u001b[0m | \u001b[0m0.07264  \u001b[0m | \u001b[0m0.8932   \u001b[0m | \u001b[0m49.33    \u001b[0m |\n"
     ]
    },
    {
     "name": "stderr",
     "output_type": "stream",
     "text": [
      "100%|██████████| 100/100 [00:00<00:00, 217.60it/s]\n"
     ]
    },
    {
     "name": "stdout",
     "output_type": "stream",
     "text": [
      "119.35\n",
      "| \u001b[0m174      \u001b[0m | \u001b[0m51.0     \u001b[0m | \u001b[0m0.2818   \u001b[0m | \u001b[0m226.3    \u001b[0m | \u001b[0m0.2214   \u001b[0m | \u001b[0m0.6262   \u001b[0m | \u001b[0m26.31    \u001b[0m | \u001b[0m0.4514   \u001b[0m | \u001b[0m0.9088   \u001b[0m | \u001b[0m64.65    \u001b[0m |\n"
     ]
    },
    {
     "name": "stderr",
     "output_type": "stream",
     "text": [
      "100%|██████████| 100/100 [00:00<00:00, 451.96it/s]\n"
     ]
    },
    {
     "name": "stdout",
     "output_type": "stream",
     "text": [
      "85.43\n",
      "| \u001b[0m175      \u001b[0m | \u001b[0m76.0     \u001b[0m | \u001b[0m0.3557   \u001b[0m | \u001b[0m290.0    \u001b[0m | \u001b[0m0.1136   \u001b[0m | \u001b[0m0.4265   \u001b[0m | \u001b[0m69.33    \u001b[0m | \u001b[0m0.1635   \u001b[0m | \u001b[0m0.8645   \u001b[0m | \u001b[0m57.22    \u001b[0m |\n"
     ]
    },
    {
     "name": "stderr",
     "output_type": "stream",
     "text": [
      "100%|██████████| 100/100 [00:00<00:00, 202.80it/s]\n"
     ]
    },
    {
     "name": "stdout",
     "output_type": "stream",
     "text": [
      "120.0\n",
      "| \u001b[0m176      \u001b[0m | \u001b[0m62.0     \u001b[0m | \u001b[0m0.4478   \u001b[0m | \u001b[0m472.4    \u001b[0m | \u001b[0m0.4956   \u001b[0m | \u001b[0m0.9726   \u001b[0m | \u001b[0m73.27    \u001b[0m | \u001b[0m0.4903   \u001b[0m | \u001b[0m0.9296   \u001b[0m | \u001b[0m34.1     \u001b[0m |\n"
     ]
    },
    {
     "name": "stderr",
     "output_type": "stream",
     "text": [
      "100%|██████████| 100/100 [00:00<00:00, 301.61it/s]\n"
     ]
    },
    {
     "name": "stdout",
     "output_type": "stream",
     "text": [
      "106.75\n",
      "| \u001b[0m177      \u001b[0m | \u001b[0m76.0     \u001b[0m | \u001b[0m0.7864   \u001b[0m | \u001b[0m517.0    \u001b[0m | \u001b[0m0.2657   \u001b[0m | \u001b[0m0.1927   \u001b[0m | \u001b[0m76.44    \u001b[0m | \u001b[0m0.5201   \u001b[0m | \u001b[0m0.4273   \u001b[0m | \u001b[0m54.33    \u001b[0m |\n"
     ]
    },
    {
     "name": "stderr",
     "output_type": "stream",
     "text": [
      "100%|██████████| 100/100 [00:00<00:00, 393.17it/s]\n"
     ]
    },
    {
     "name": "stdout",
     "output_type": "stream",
     "text": [
      "53.6\n",
      "| \u001b[0m178      \u001b[0m | \u001b[0m9.0      \u001b[0m | \u001b[0m0.6972   \u001b[0m | \u001b[0m908.0    \u001b[0m | \u001b[0m0.2677   \u001b[0m | \u001b[0m0.01574  \u001b[0m | \u001b[0m37.15    \u001b[0m | \u001b[0m0.2946   \u001b[0m | \u001b[0m0.4269   \u001b[0m | \u001b[0m99.03    \u001b[0m |\n"
     ]
    },
    {
     "name": "stderr",
     "output_type": "stream",
     "text": [
      "100%|██████████| 100/100 [00:00<00:00, 234.91it/s]\n"
     ]
    },
    {
     "name": "stdout",
     "output_type": "stream",
     "text": [
      "120.0\n",
      "| \u001b[0m179      \u001b[0m | \u001b[0m16.0     \u001b[0m | \u001b[0m0.2176   \u001b[0m | \u001b[0m700.6    \u001b[0m | \u001b[0m0.823    \u001b[0m | \u001b[0m0.6037   \u001b[0m | \u001b[0m79.33    \u001b[0m | \u001b[0m0.6043   \u001b[0m | \u001b[0m0.2288   \u001b[0m | \u001b[0m48.36    \u001b[0m |\n"
     ]
    },
    {
     "name": "stderr",
     "output_type": "stream",
     "text": [
      "100%|██████████| 100/100 [00:00<00:00, 253.27it/s]\n"
     ]
    },
    {
     "name": "stdout",
     "output_type": "stream",
     "text": [
      "114.33\n",
      "| \u001b[0m180      \u001b[0m | \u001b[0m60.0     \u001b[0m | \u001b[0m0.0672   \u001b[0m | \u001b[0m373.3    \u001b[0m | \u001b[0m0.8321   \u001b[0m | \u001b[0m0.3522   \u001b[0m | \u001b[0m79.97    \u001b[0m | \u001b[0m0.5312   \u001b[0m | \u001b[0m0.9312   \u001b[0m | \u001b[0m55.92    \u001b[0m |\n"
     ]
    },
    {
     "name": "stderr",
     "output_type": "stream",
     "text": [
      "100%|██████████| 100/100 [00:00<00:00, 235.36it/s]\n"
     ]
    },
    {
     "name": "stdout",
     "output_type": "stream",
     "text": [
      "120.0\n",
      "| \u001b[0m181      \u001b[0m | \u001b[0m50.0     \u001b[0m | \u001b[0m0.3343   \u001b[0m | \u001b[0m717.1    \u001b[0m | \u001b[0m0.8582   \u001b[0m | \u001b[0m0.8027   \u001b[0m | \u001b[0m18.67    \u001b[0m | \u001b[0m0.6304   \u001b[0m | \u001b[0m0.671    \u001b[0m | \u001b[0m5.2      \u001b[0m |\n"
     ]
    },
    {
     "name": "stderr",
     "output_type": "stream",
     "text": [
      "100%|██████████| 100/100 [00:00<00:00, 234.58it/s]\n"
     ]
    },
    {
     "name": "stdout",
     "output_type": "stream",
     "text": [
      "119.66\n",
      "| \u001b[0m182      \u001b[0m | \u001b[0m64.0     \u001b[0m | \u001b[0m0.851    \u001b[0m | \u001b[0m890.3    \u001b[0m | \u001b[0m0.6537   \u001b[0m | \u001b[0m0.6242   \u001b[0m | \u001b[0m77.87    \u001b[0m | \u001b[0m0.5059   \u001b[0m | \u001b[0m0.5192   \u001b[0m | \u001b[0m13.81    \u001b[0m |\n"
     ]
    },
    {
     "name": "stderr",
     "output_type": "stream",
     "text": [
      "100%|██████████| 100/100 [00:00<00:00, 247.02it/s]\n"
     ]
    },
    {
     "name": "stdout",
     "output_type": "stream",
     "text": [
      "113.94\n",
      "| \u001b[0m183      \u001b[0m | \u001b[0m70.0     \u001b[0m | \u001b[0m0.3922   \u001b[0m | \u001b[0m656.0    \u001b[0m | \u001b[0m0.215    \u001b[0m | \u001b[0m0.309    \u001b[0m | \u001b[0m78.09    \u001b[0m | \u001b[0m0.8175   \u001b[0m | \u001b[0m0.007174 \u001b[0m | \u001b[0m52.74    \u001b[0m |\n"
     ]
    },
    {
     "name": "stderr",
     "output_type": "stream",
     "text": [
      "100%|██████████| 100/100 [00:00<00:00, 394.83it/s]\n"
     ]
    },
    {
     "name": "stdout",
     "output_type": "stream",
     "text": [
      "59.49\n",
      "| \u001b[95m184      \u001b[0m | \u001b[95m99.0     \u001b[0m | \u001b[95m0.8236   \u001b[0m | \u001b[95m243.1    \u001b[0m | \u001b[95m0.5114   \u001b[0m | \u001b[95m0.2529   \u001b[0m | \u001b[95m70.53    \u001b[0m | \u001b[95m0.04431  \u001b[0m | \u001b[95m0.8871   \u001b[0m | \u001b[95m67.76    \u001b[0m |\n"
     ]
    },
    {
     "name": "stderr",
     "output_type": "stream",
     "text": [
      "100%|██████████| 100/100 [00:00<00:00, 341.21it/s]\n"
     ]
    },
    {
     "name": "stdout",
     "output_type": "stream",
     "text": [
      "63.86\n",
      "| \u001b[0m185      \u001b[0m | \u001b[0m30.0     \u001b[0m | \u001b[0m0.5739   \u001b[0m | \u001b[0m573.7    \u001b[0m | \u001b[0m0.505    \u001b[0m | \u001b[0m0.05187  \u001b[0m | \u001b[0m52.43    \u001b[0m | \u001b[0m0.8983   \u001b[0m | \u001b[0m0.1413   \u001b[0m | \u001b[0m117.1    \u001b[0m |\n"
     ]
    },
    {
     "name": "stderr",
     "output_type": "stream",
     "text": [
      "100%|██████████| 100/100 [00:00<00:00, 357.23it/s]\n"
     ]
    },
    {
     "name": "stdout",
     "output_type": "stream",
     "text": [
      "63.54\n",
      "| \u001b[0m186      \u001b[0m | \u001b[0m77.0     \u001b[0m | \u001b[0m0.9205   \u001b[0m | \u001b[0m502.4    \u001b[0m | \u001b[0m0.9033   \u001b[0m | \u001b[0m0.7448   \u001b[0m | \u001b[0m45.16    \u001b[0m | \u001b[0m0.008553 \u001b[0m | \u001b[0m0.3741   \u001b[0m | \u001b[0m43.22    \u001b[0m |\n"
     ]
    },
    {
     "name": "stderr",
     "output_type": "stream",
     "text": [
      "100%|██████████| 100/100 [00:00<00:00, 249.74it/s]\n"
     ]
    },
    {
     "name": "stdout",
     "output_type": "stream",
     "text": [
      "120.0\n",
      "| \u001b[0m187      \u001b[0m | \u001b[0m8.0      \u001b[0m | \u001b[0m0.138    \u001b[0m | \u001b[0m974.2    \u001b[0m | \u001b[0m0.2051   \u001b[0m | \u001b[0m0.9607   \u001b[0m | \u001b[0m11.16    \u001b[0m | \u001b[0m0.8322   \u001b[0m | \u001b[0m0.7438   \u001b[0m | \u001b[0m104.8    \u001b[0m |\n"
     ]
    },
    {
     "name": "stderr",
     "output_type": "stream",
     "text": [
      "100%|██████████| 100/100 [00:00<00:00, 363.85it/s]\n"
     ]
    },
    {
     "name": "stdout",
     "output_type": "stream",
     "text": [
      "91.85\n",
      "| \u001b[0m188      \u001b[0m | \u001b[0m20.0     \u001b[0m | \u001b[0m0.1546   \u001b[0m | \u001b[0m915.5    \u001b[0m | \u001b[0m0.7596   \u001b[0m | \u001b[0m0.1715   \u001b[0m | \u001b[0m40.86    \u001b[0m | \u001b[0m0.9221   \u001b[0m | \u001b[0m0.2138   \u001b[0m | \u001b[0m89.6     \u001b[0m |\n"
     ]
    },
    {
     "name": "stderr",
     "output_type": "stream",
     "text": [
      "100%|██████████| 100/100 [00:00<00:00, 239.06it/s]\n"
     ]
    },
    {
     "name": "stdout",
     "output_type": "stream",
     "text": [
      "120.0\n",
      "| \u001b[0m189      \u001b[0m | \u001b[0m72.0     \u001b[0m | \u001b[0m0.7393   \u001b[0m | \u001b[0m164.3    \u001b[0m | \u001b[0m0.6926   \u001b[0m | \u001b[0m0.9813   \u001b[0m | \u001b[0m35.13    \u001b[0m | \u001b[0m0.4501   \u001b[0m | \u001b[0m0.6412   \u001b[0m | \u001b[0m108.2    \u001b[0m |\n"
     ]
    },
    {
     "name": "stderr",
     "output_type": "stream",
     "text": [
      "100%|██████████| 100/100 [00:00<00:00, 300.40it/s]\n"
     ]
    },
    {
     "name": "stdout",
     "output_type": "stream",
     "text": [
      "120.0\n",
      "| \u001b[0m190      \u001b[0m | \u001b[0m58.0     \u001b[0m | \u001b[0m0.9611   \u001b[0m | \u001b[0m964.1    \u001b[0m | \u001b[0m0.1339   \u001b[0m | \u001b[0m0.9143   \u001b[0m | \u001b[0m66.84    \u001b[0m | \u001b[0m0.5378   \u001b[0m | \u001b[0m0.06874  \u001b[0m | \u001b[0m26.2     \u001b[0m |\n"
     ]
    },
    {
     "name": "stderr",
     "output_type": "stream",
     "text": [
      "100%|██████████| 100/100 [00:00<00:00, 215.35it/s]\n"
     ]
    },
    {
     "name": "stdout",
     "output_type": "stream",
     "text": [
      "120.0\n",
      "| \u001b[0m191      \u001b[0m | \u001b[0m63.0     \u001b[0m | \u001b[0m0.345    \u001b[0m | \u001b[0m346.9    \u001b[0m | \u001b[0m0.7632   \u001b[0m | \u001b[0m0.4344   \u001b[0m | \u001b[0m23.52    \u001b[0m | \u001b[0m0.5956   \u001b[0m | \u001b[0m0.0868   \u001b[0m | \u001b[0m86.51    \u001b[0m |\n"
     ]
    },
    {
     "name": "stderr",
     "output_type": "stream",
     "text": [
      "100%|██████████| 100/100 [00:00<00:00, 164.37it/s]\n"
     ]
    },
    {
     "name": "stdout",
     "output_type": "stream",
     "text": [
      "116.02\n",
      "| \u001b[0m192      \u001b[0m | \u001b[0m58.0     \u001b[0m | \u001b[0m0.5583   \u001b[0m | \u001b[0m601.3    \u001b[0m | \u001b[0m0.6445   \u001b[0m | \u001b[0m0.4587   \u001b[0m | \u001b[0m61.83    \u001b[0m | \u001b[0m0.2877   \u001b[0m | \u001b[0m0.4225   \u001b[0m | \u001b[0m28.13    \u001b[0m |\n"
     ]
    },
    {
     "name": "stderr",
     "output_type": "stream",
     "text": [
      "100%|██████████| 100/100 [00:00<00:00, 217.04it/s]\n"
     ]
    },
    {
     "name": "stdout",
     "output_type": "stream",
     "text": [
      "120.0\n",
      "| \u001b[0m193      \u001b[0m | \u001b[0m52.0     \u001b[0m | \u001b[0m0.9504   \u001b[0m | \u001b[0m109.9    \u001b[0m | \u001b[0m0.2081   \u001b[0m | \u001b[0m0.8592   \u001b[0m | \u001b[0m52.86    \u001b[0m | \u001b[0m0.9365   \u001b[0m | \u001b[0m0.01431  \u001b[0m | \u001b[0m78.19    \u001b[0m |\n"
     ]
    },
    {
     "name": "stderr",
     "output_type": "stream",
     "text": [
      "100%|██████████| 100/100 [00:00<00:00, 172.70it/s]\n"
     ]
    },
    {
     "name": "stdout",
     "output_type": "stream",
     "text": [
      "116.91\n",
      "| \u001b[0m194      \u001b[0m | \u001b[0m69.0     \u001b[0m | \u001b[0m0.1532   \u001b[0m | \u001b[0m745.6    \u001b[0m | \u001b[0m0.3588   \u001b[0m | \u001b[0m0.7805   \u001b[0m | \u001b[0m76.47    \u001b[0m | \u001b[0m0.3405   \u001b[0m | \u001b[0m0.8447   \u001b[0m | \u001b[0m41.38    \u001b[0m |\n"
     ]
    },
    {
     "name": "stderr",
     "output_type": "stream",
     "text": [
      "100%|██████████| 100/100 [00:00<00:00, 252.66it/s]\n"
     ]
    },
    {
     "name": "stdout",
     "output_type": "stream",
     "text": [
      "120.0\n",
      "| \u001b[0m195      \u001b[0m | \u001b[0m62.0     \u001b[0m | \u001b[0m0.6319   \u001b[0m | \u001b[0m196.4    \u001b[0m | \u001b[0m0.5272   \u001b[0m | \u001b[0m0.4709   \u001b[0m | \u001b[0m38.86    \u001b[0m | \u001b[0m0.488    \u001b[0m | \u001b[0m0.5778   \u001b[0m | \u001b[0m59.71    \u001b[0m |\n"
     ]
    },
    {
     "name": "stderr",
     "output_type": "stream",
     "text": [
      "100%|██████████| 100/100 [00:00<00:00, 235.61it/s]\n"
     ]
    },
    {
     "name": "stdout",
     "output_type": "stream",
     "text": [
      "119.86\n",
      "| \u001b[0m196      \u001b[0m | \u001b[0m37.0     \u001b[0m | \u001b[0m0.1572   \u001b[0m | \u001b[0m396.7    \u001b[0m | \u001b[0m0.4928   \u001b[0m | \u001b[0m0.6531   \u001b[0m | \u001b[0m48.5     \u001b[0m | \u001b[0m0.4797   \u001b[0m | \u001b[0m0.7609   \u001b[0m | \u001b[0m27.94    \u001b[0m |\n"
     ]
    },
    {
     "name": "stderr",
     "output_type": "stream",
     "text": [
      "100%|██████████| 100/100 [00:00<00:00, 224.98it/s]\n"
     ]
    },
    {
     "name": "stdout",
     "output_type": "stream",
     "text": [
      "106.12\n",
      "| \u001b[0m197      \u001b[0m | \u001b[0m67.0     \u001b[0m | \u001b[0m0.4444   \u001b[0m | \u001b[0m13.14    \u001b[0m | \u001b[0m0.8008   \u001b[0m | \u001b[0m0.223    \u001b[0m | \u001b[0m54.79    \u001b[0m | \u001b[0m0.7615   \u001b[0m | \u001b[0m0.08216  \u001b[0m | \u001b[0m105.4    \u001b[0m |\n"
     ]
    },
    {
     "name": "stderr",
     "output_type": "stream",
     "text": [
      "100%|██████████| 100/100 [00:00<00:00, 249.03it/s]\n"
     ]
    },
    {
     "name": "stdout",
     "output_type": "stream",
     "text": [
      "119.61\n",
      "| \u001b[0m198      \u001b[0m | \u001b[0m51.0     \u001b[0m | \u001b[0m0.4266   \u001b[0m | \u001b[0m558.3    \u001b[0m | \u001b[0m0.01534  \u001b[0m | \u001b[0m0.4821   \u001b[0m | \u001b[0m19.16    \u001b[0m | \u001b[0m0.8665   \u001b[0m | \u001b[0m0.3014   \u001b[0m | \u001b[0m27.2     \u001b[0m |\n"
     ]
    },
    {
     "name": "stderr",
     "output_type": "stream",
     "text": [
      "100%|██████████| 100/100 [00:00<00:00, 220.42it/s]\n"
     ]
    },
    {
     "name": "stdout",
     "output_type": "stream",
     "text": [
      "110.27\n",
      "| \u001b[0m199      \u001b[0m | \u001b[0m75.0     \u001b[0m | \u001b[0m0.1116   \u001b[0m | \u001b[0m323.0    \u001b[0m | \u001b[0m0.8957   \u001b[0m | \u001b[0m0.2764   \u001b[0m | \u001b[0m15.46    \u001b[0m | \u001b[0m0.3871   \u001b[0m | \u001b[0m0.9468   \u001b[0m | \u001b[0m92.97    \u001b[0m |\n"
     ]
    },
    {
     "name": "stderr",
     "output_type": "stream",
     "text": [
      "100%|██████████| 100/100 [00:00<00:00, 295.52it/s]"
     ]
    },
    {
     "name": "stdout",
     "output_type": "stream",
     "text": [
      "98.67\n",
      "| \u001b[0m200      \u001b[0m | \u001b[0m72.0     \u001b[0m | \u001b[0m0.4964   \u001b[0m | \u001b[0m952.5    \u001b[0m | \u001b[0m0.1081   \u001b[0m | \u001b[0m0.2101   \u001b[0m | \u001b[0m11.37    \u001b[0m | \u001b[0m0.9507   \u001b[0m | \u001b[0m0.7209   \u001b[0m | \u001b[0m99.44    \u001b[0m |\n",
      "=========================================================================================================================\n",
      "{'target': 99.0, 'params': {'alpha': 0.8236118040381998, 'alpha_decay': 243.0544785033269, 'alpha_min': 0.5113965695937486, 'epsilon': 0.25289603267158034, 'epsilon_decay': 70.53090930872196, 'epsilon_min': 0.044310479986752194, 'gamma': 0.8871072251030447, 'surrogate_c_interval': 67.76179038423699}}\n"
     ]
    },
    {
     "name": "stderr",
     "output_type": "stream",
     "text": [
      "\n"
     ]
    }
   ],
   "source": [
    "max_steps = 120\n",
    "num_episodes = 100\n",
    "\n",
    "from bayes_opt import BayesianOptimization\n",
    "\n",
    "def objective(\n",
    "        alpha,\n",
    "        alpha_decay,\n",
    "        alpha_min,\n",
    "        epsilon,\n",
    "        epsilon_decay,\n",
    "        epsilon_min,\n",
    "        gamma,\n",
    "        surrogate_c_interval,\n",
    "#| 7         | 87.5      | 23.16     |\n",
    "\n",
    "        ):\n",
    "    # # 'surrogate_c_interval': [1, 2, 5, 10, 20, 40]\n",
    "    # # 'surrogate_lr'    \n",
    "    # convergence_number_of_consequent_actions\n",
    "    # intial_q_values: [0, -7]\n",
    "\n",
    "    # surrogate_c_interval = int(surrogate_c_interval)\n",
    "\n",
    "    new_params = {\n",
    "        'noise': True,\n",
    "        'surrogate': False,\n",
    "        'alpha': alpha, \n",
    "        'alpha_decay': alpha_decay,\n",
    "        'alpha_min': alpha_min,\n",
    "        'epsilon': epsilon, \n",
    "        'epsilon_decay': epsilon_decay,\n",
    "        'epsilon_min': epsilon_min,\n",
    "        'gamma': gamma,\n",
    "        # 'plots': False,   \n",
    "        'surrogate_c_interval': surrogate_c_interval,\n",
    "    }\n",
    "\n",
    "    params = default_params() | new_params\n",
    "\n",
    "    # _, _, _, _, accuracy = qLearningExperiment(adjust_rewards_surrogate, params=params)\n",
    "    q_values_all_experiments, rewards_all_experiments, episode_lengths, selected_actions, accuracy, _ = qLearningExperiment(params=params)\n",
    "    \n",
    "    mean_episode_length = np.mean(episode_lengths)\n",
    "    print(mean_episode_length) \n",
    "\n",
    "    return accuracy\n",
    "    # mean_episode_length = np.mean(episode_lengths)\n",
    "    # return -mean_episode_length\n",
    "\n",
    "optimizer = BayesianOptimization(\n",
    "    f=objective,\n",
    "    pbounds={\n",
    "        'alpha': (0, 1), \n",
    "        'alpha_decay': (1, 1000),\n",
    "        'alpha_min': (0, 1),\n",
    "        'epsilon': (0, 1), \n",
    "        'epsilon_decay': (10, 80),\n",
    "        'epsilon_min': (0, 1),\n",
    "        'gamma': (0, 1),\n",
    "        'surrogate_c_interval': (1, 120)\n",
    "        },\n",
    "    random_state=1,\n",
    ")\n",
    "\n",
    "# n_iter: How many steps of bayesian optimization you want to perform. \n",
    "# The more steps the more likely to find a good maximum you are.\n",
    "# init_points: How many steps of random exploration you want to perform.\n",
    "# Random exploration can help by diversifying the exploration space.\n",
    "optimizer.maximize(\n",
    "    init_points=100,\n",
    "    n_iter=100,\n",
    ")\n",
    "\n",
    "best_params = optimizer.max['params']\n",
    "\n",
    "print(optimizer.max)"
   ]
  },
  {
   "cell_type": "markdown",
   "metadata": {},
   "source": [
    "# TODO"
   ]
  },
  {
   "cell_type": "code",
   "execution_count": 22,
   "metadata": {},
   "outputs": [
    {
     "ename": "ModuleNotFoundError",
     "evalue": "No module named 'pymoo'",
     "output_type": "error",
     "traceback": [
      "\u001b[0;31m---------------------------------------------------------------------------\u001b[0m",
      "\u001b[0;31mModuleNotFoundError\u001b[0m                       Traceback (most recent call last)",
      "\u001b[1;32m/Users/schnuckiputz/other/git/2022-CHI-neuroadaptive-haptics/neuro_haptics/aleks/run_experiment_notebook_stateless.ipynb Cell 34\u001b[0m line \u001b[0;36m<module>\u001b[0;34m\u001b[0m\n\u001b[1;32m      <a href='vscode-notebook-cell:/Users/schnuckiputz/other/git/2022-CHI-neuroadaptive-haptics/neuro_haptics/aleks/run_experiment_notebook_stateless.ipynb#X45sZmlsZQ%3D%3D?line=0'>1</a>\u001b[0m \u001b[39mimport\u001b[39;00m \u001b[39mnumpy\u001b[39;00m \u001b[39mas\u001b[39;00m \u001b[39mnp\u001b[39;00m\n\u001b[1;32m      <a href='vscode-notebook-cell:/Users/schnuckiputz/other/git/2022-CHI-neuroadaptive-haptics/neuro_haptics/aleks/run_experiment_notebook_stateless.ipynb#X45sZmlsZQ%3D%3D?line=1'>2</a>\u001b[0m \u001b[39mfrom\u001b[39;00m \u001b[39mbayes_opt\u001b[39;00m \u001b[39mimport\u001b[39;00m BayesianOptimization\n\u001b[0;32m----> <a href='vscode-notebook-cell:/Users/schnuckiputz/other/git/2022-CHI-neuroadaptive-haptics/neuro_haptics/aleks/run_experiment_notebook_stateless.ipynb#X45sZmlsZQ%3D%3D?line=2'>3</a>\u001b[0m \u001b[39mfrom\u001b[39;00m \u001b[39mpymoo\u001b[39;00m\u001b[39m.\u001b[39;00m\u001b[39moptimize\u001b[39;00m \u001b[39mimport\u001b[39;00m minimize\n\u001b[1;32m      <a href='vscode-notebook-cell:/Users/schnuckiputz/other/git/2022-CHI-neuroadaptive-haptics/neuro_haptics/aleks/run_experiment_notebook_stateless.ipynb#X45sZmlsZQ%3D%3D?line=3'>4</a>\u001b[0m \u001b[39mfrom\u001b[39;00m \u001b[39mpymoo\u001b[39;00m\u001b[39m.\u001b[39;00m\u001b[39mutil\u001b[39;00m \u001b[39mimport\u001b[39;00m plotting\n\u001b[1;32m      <a href='vscode-notebook-cell:/Users/schnuckiputz/other/git/2022-CHI-neuroadaptive-haptics/neuro_haptics/aleks/run_experiment_notebook_stateless.ipynb#X45sZmlsZQ%3D%3D?line=4'>5</a>\u001b[0m \u001b[39mfrom\u001b[39;00m \u001b[39mpymoo\u001b[39;00m\u001b[39m.\u001b[39;00m\u001b[39mmodel\u001b[39;00m\u001b[39m.\u001b[39;00m\u001b[39mproblem\u001b[39;00m \u001b[39mimport\u001b[39;00m Problem\n",
      "\u001b[0;31mModuleNotFoundError\u001b[0m: No module named 'pymoo'"
     ]
    }
   ],
   "source": [
    "import numpy as np\n",
    "from bayes_opt import BayesianOptimization\n",
    "from pymoo.optimize import minimize\n",
    "from pymoo.util import plotting\n",
    "from pymoo.model.problem import Problem\n",
    "\n",
    "max_steps = 120\n",
    "num_episodes = 100\n",
    "\n",
    "class QLearningProblem(Problem):\n",
    "    def __init__(self):\n",
    "        super().__init__(n_var=3, n_obj=2, n_constr=0, xl=np.array([0, 0, 10]), xu=np.array([1, 1, 80]))\n",
    "    \n",
    "    def _evaluate(self, X, out, *args, **kwargs):\n",
    "        alpha, epsilon, epsilon_decay = X\n",
    "\n",
    "        # Run your Q-learning experiment with given parameters\n",
    "        params = {'alpha': alpha, 'epsilon': epsilon, 'epsilon_decay': epsilon_decay}\n",
    "        q_values_all_experiments, _, episode_lengths, _, accuracy = qLearningExperiment(adjust_rewards_surrogate, params=params)\n",
    "\n",
    "        # Maximize accuracy\n",
    "        out[\"F\"] = [-accuracy, -np.mean(episode_lengths)]\n",
    "\n",
    "problem = QLearningProblem()\n",
    "\n",
    "algorithm = minimize(\n",
    "    algorithm=\"nsga2\",\n",
    "    problem=problem,\n",
    "    termination=(\"n_gen\", 20),  # Adjust the number of generations as needed\n",
    "    save_history=True,\n",
    "    verbose=True,\n",
    ")\n",
    "\n",
    "# Get the best solution from the Pareto front\n",
    "best_solution = algorithm.result[0]\n",
    "\n",
    "best_alpha, best_epsilon, best_epsilon_decay = best_solution.X\n",
    "\n",
    "print(f\"Best alpha: {best_alpha}\")\n",
    "print(f\"Best epsilon: {best_epsilon}\")\n",
    "print(f\"Best epsilon_decay: {best_epsilon_decay}\")\n",
    "print(f\"Best accuracy: {-best_solution.F[0]}\")\n",
    "print(f\"Best mean_episode_length: {-best_solution.F[1]}\")\n",
    "\n",
    "# You can visualize the Pareto front using pymoo's plotting functions\n",
    "plotting.plot(obj_space=algorithm.result.F, ideal_point=np.array([0, 0]), title=\"Pareto Front\")\n"
   ]
  },
  {
   "cell_type": "markdown",
   "metadata": {},
   "source": [
    "# Profiling"
   ]
  },
  {
   "cell_type": "code",
   "execution_count": null,
   "metadata": {},
   "outputs": [],
   "source": [
    "# !pip install line_profiler\n",
    "%load_ext line_profiler"
   ]
  },
  {
   "cell_type": "code",
   "execution_count": null,
   "metadata": {},
   "outputs": [
    {
     "name": "stderr",
     "output_type": "stream",
     "text": [
      "100%|██████████| 2/2 [00:00<00:00, 13.47it/s]\n"
     ]
    },
    {
     "name": "stdout",
     "output_type": "stream",
     "text": [
      "Timer unit: 1e-09 s\n",
      "\n",
      "Total time: 0.151271 s\n",
      "File: /var/folders/hj/_04fr6wx5tncwlntq6ym_zr00000gn/T/ipykernel_5724/1818113075.py\n",
      "Function: qLearningExperiment at line 1\n",
      "\n",
      "Line #      Hits         Time  Per Hit   % Time  Line Contents\n",
      "==============================================================\n",
      "     1                                           def qLearningExperiment(difference_fn=None, learner=None, params=default_params()):\n",
      "     2         1       2000.0   2000.0      0.0      plots = params.get('plots', True)\n",
      "     3                                           \n",
      "     4         1          0.0      0.0      0.0      q_values_all_experiments = []\n",
      "     5         1          0.0      0.0      0.0      rewards_all_experiments = []\n",
      "     6         1          0.0      0.0      0.0      episode_lengths = []\n",
      "     7         1          0.0      0.0      0.0      selected_actions = []\n",
      "     8                                           \n",
      "     9         3    3286000.0    1e+06      2.2      for i in tqdm(range(num_episodes)):\n",
      "    10                                                   # TODO: .reset() instead of re-creating?\n",
      "    11         2      76000.0  38000.0      0.1          agent = UCBQAgent(params=params) if learner is None else learner\n",
      "    12         2      10000.0   5000.0      0.0          env = ModifiedRandomEnvironment(correct_action=correct_action)\n",
      "    13         2  147891000.0    7e+07     97.8          q_values_for_chart, rewards, episode_length, selected_action = runner(difference_fn, env=env, agent=agent, params=params)\n",
      "    14         2       1000.0    500.0      0.0          selected_actions.append(selected_action)\n",
      "    15         2       1000.0    500.0      0.0          episode_lengths.append(episode_length)\n",
      "    16                                                           \n",
      "    17         2          0.0      0.0      0.0          rewards_all_experiments.append(rewards)\n",
      "    18         2          0.0      0.0      0.0          q_values_all_experiments.append(q_values_for_chart)\n",
      "    19                                           \n",
      "    20         1       2000.0   2000.0      0.0      correct_count = selected_actions.count(correct_action)\n",
      "    21         1       1000.0   1000.0      0.0      accuracy = (correct_count / len(selected_actions)) * 100\n",
      "    22                                               \n",
      "    23         1       1000.0   1000.0      0.0      return q_values_all_experiments, rewards_all_experiments, episode_lengths, selected_actions, accuracy"
     ]
    }
   ],
   "source": [
    "#402088000.0\n",
    "max_steps = 120\n",
    "num_episodes = 2\n",
    "%lprun -f qLearningExperiment qLearningExperiment(adjust_rewards_surrogate,params={'plots': False})"
   ]
  },
  {
   "cell_type": "code",
   "execution_count": null,
   "metadata": {},
   "outputs": [
    {
     "name": "stdout",
     "output_type": "stream",
     "text": [
      "Timer unit: 1e-09 s\n",
      "\n",
      "Total time: 0.117403 s\n",
      "File: /var/folders/hj/_04fr6wx5tncwlntq6ym_zr00000gn/T/ipykernel_5724/2161407780.py\n",
      "Function: runner at line 1\n",
      "\n",
      "Line #      Hits         Time  Per Hit   % Time  Line Contents\n",
      "==============================================================\n",
      "     1                                           def runner(adjust_rewards=None, \n",
      "     2                                                      agent=None,\n",
      "     3                                                      env=None,\n",
      "     4                                                      params=default_params()):\n",
      "     5                                           \n",
      "     6         1      38000.0  38000.0      0.0      agent = agent if agent else UCBQAgent(num_actions=num_states)\n",
      "     7         1       3000.0   3000.0      0.0      env = env if env else ModifiedRandomEnvironment()\n",
      "     8                                           \n",
      "     9         1          0.0      0.0      0.0      episode_rewards = 0\n",
      "    10         1          0.0      0.0      0.0      rewards = []\n",
      "    11         1          0.0      0.0      0.0      q_values_for_chart = []\n",
      "    12                                               \n",
      "    13         1          0.0      0.0      0.0      t = 0\n",
      "    14         1          0.0      0.0      0.0      action = start_action\n",
      "    15         1          0.0      0.0      0.0      state = 0\n",
      "    16         1       1000.0   1000.0      0.0      plots = params.get('plots', True)\n",
      "    17                                           \n",
      "    18                                               while True:\n",
      "    19       151    3153000.0  20880.8      2.7          action = agent.choose_action(state) \n",
      "    20       151     413000.0   2735.1      0.4          reward, next_state, done = env.step(action)        \n",
      "    21       151      52000.0    344.4      0.0          rewards.append(reward)\n",
      "    22                                           \n",
      "    23       151      21000.0    139.1      0.0          if adjust_rewards:\n",
      "    24       151  112011000.0 741794.7     95.4              reward = adjust_rewards(reward, state, action)\n",
      "    25                                                   \n",
      "    26       151    1599000.0  10589.4      1.4          agent.learn(state, action, reward, next_state)\n",
      "    27       151      29000.0    192.1      0.0          episode_rewards += reward\n",
      "    28       151      39000.0    258.3      0.0          t += 1\n",
      "    29                                           \n",
      "    30       151      21000.0    139.1      0.0          if plots:\n",
      "    31                                                       if t % 10 == 0:\n",
      "    32                                                           sum_q_values_across_states = np.around(np.sum(agent.Q, axis=0), decimals=4)\n",
      "    33                                                           q_values_for_chart.append(sum_q_values_across_states)\n",
      "    34                                           \n",
      "    35       151      13000.0     86.1      0.0          if done:\n",
      "    36         1       1000.0   1000.0      0.0              break\n",
      "    37                                                           \n",
      "    38         1          0.0      0.0      0.0      episode_length = t + 1\n",
      "    39         1          0.0      0.0      0.0      selected_action = action \n",
      "    40                                               \n",
      "    41         1          0.0      0.0      0.0      if t >= max_steps:\n",
      "    42         1       7000.0   7000.0      0.0          sum_q_values_across_states = np.sum(agent.Q, axis=0)\n",
      "    43         1       2000.0   2000.0      0.0          selected_action = np.argmax(sum_q_values_across_states)\n",
      "    44                                           \n",
      "    45                                           \n",
      "    46         1          0.0      0.0      0.0      return q_values_for_chart, rewards, episode_length, selected_action"
     ]
    }
   ],
   "source": [
    "# 97219000.0/413000.0 = 235\n",
    "%lprun -f runner runner(adjust_rewards=adjust_rewards_surrogate, params={'plots': False})"
   ]
  },
  {
   "cell_type": "markdown",
   "metadata": {},
   "source": [
    "# Grid search"
   ]
  },
  {
   "cell_type": "code",
   "execution_count": null,
   "metadata": {},
   "outputs": [],
   "source": [
    "from sklearn.model_selection import ParameterGrid"
   ]
  },
  {
   "cell_type": "code",
   "execution_count": null,
   "metadata": {},
   "outputs": [],
   "source": [
    "from IPython import display\n",
    "import pandas as pd"
   ]
  },
  {
   "cell_type": "code",
   "execution_count": null,
   "metadata": {},
   "outputs": [
    {
     "name": "stderr",
     "output_type": "stream",
     "text": [
      "100%|██████████| 20/20 [00:11<00:00,  1.80it/s]\n",
      "  6%|▋         | 1/16 [00:11<02:47, 11.14s/it]"
     ]
    },
    {
     "name": "stdout",
     "output_type": "stream",
     "text": [
      "0.0 121.0\n"
     ]
    },
    {
     "name": "stderr",
     "output_type": "stream",
     "text": [
      " 90%|█████████ | 18/20 [00:11<00:01,  1.56it/s]\n",
      "  6%|▋         | 1/16 [00:22<05:40, 22.68s/it]\n"
     ]
    },
    {
     "ename": "KeyboardInterrupt",
     "evalue": "",
     "output_type": "error",
     "traceback": [
      "\u001b[0;31m---------------------------------------------------------------------------\u001b[0m",
      "\u001b[0;31mKeyboardInterrupt\u001b[0m                         Traceback (most recent call last)",
      "\u001b[1;32m/Users/schnuckiputz/other/git/2022-CHI-neuroadaptive-haptics/neuro_haptics/aleks/run_experiment_notebook_stateless.ipynb Cell 35\u001b[0m line \u001b[0;36m<module>\u001b[0;34m\u001b[0m\n\u001b[1;32m     <a href='vscode-notebook-cell:/Users/schnuckiputz/other/git/2022-CHI-neuroadaptive-haptics/neuro_haptics/aleks/run_experiment_notebook_stateless.ipynb#Y402sZmlsZQ%3D%3D?line=18'>19</a>\u001b[0m     \u001b[39mreturn\u001b[39;00m accuracy, mean_episode_length\n\u001b[1;32m     <a href='vscode-notebook-cell:/Users/schnuckiputz/other/git/2022-CHI-neuroadaptive-haptics/neuro_haptics/aleks/run_experiment_notebook_stateless.ipynb#Y402sZmlsZQ%3D%3D?line=20'>21</a>\u001b[0m \u001b[39mfor\u001b[39;00m i, params \u001b[39min\u001b[39;00m tqdm(param_grid_out\u001b[39m.\u001b[39miterrows(), total\u001b[39m=\u001b[39mparam_grid_out\u001b[39m.\u001b[39mshape[\u001b[39m0\u001b[39m]):\n\u001b[0;32m---> <a href='vscode-notebook-cell:/Users/schnuckiputz/other/git/2022-CHI-neuroadaptive-haptics/neuro_haptics/aleks/run_experiment_notebook_stateless.ipynb#Y402sZmlsZQ%3D%3D?line=21'>22</a>\u001b[0m     accuracy, mean_episode_length \u001b[39m=\u001b[39m get_results_from_grid_row(params)\n\u001b[1;32m     <a href='vscode-notebook-cell:/Users/schnuckiputz/other/git/2022-CHI-neuroadaptive-haptics/neuro_haptics/aleks/run_experiment_notebook_stateless.ipynb#Y402sZmlsZQ%3D%3D?line=22'>23</a>\u001b[0m     param_grid_out\u001b[39m.\u001b[39mloc[i, \u001b[39m'\u001b[39m\u001b[39maccuracy\u001b[39m\u001b[39m'\u001b[39m] \u001b[39m=\u001b[39m accuracy\n\u001b[1;32m     <a href='vscode-notebook-cell:/Users/schnuckiputz/other/git/2022-CHI-neuroadaptive-haptics/neuro_haptics/aleks/run_experiment_notebook_stateless.ipynb#Y402sZmlsZQ%3D%3D?line=23'>24</a>\u001b[0m     param_grid_out\u001b[39m.\u001b[39mloc[i, \u001b[39m'\u001b[39m\u001b[39mmean_episode_length\u001b[39m\u001b[39m'\u001b[39m] \u001b[39m=\u001b[39m mean_episode_length\n",
      "\u001b[1;32m/Users/schnuckiputz/other/git/2022-CHI-neuroadaptive-haptics/neuro_haptics/aleks/run_experiment_notebook_stateless.ipynb Cell 35\u001b[0m line \u001b[0;36mget_results_from_grid_row\u001b[0;34m(params)\u001b[0m\n\u001b[1;32m     <a href='vscode-notebook-cell:/Users/schnuckiputz/other/git/2022-CHI-neuroadaptive-haptics/neuro_haptics/aleks/run_experiment_notebook_stateless.ipynb#Y402sZmlsZQ%3D%3D?line=13'>14</a>\u001b[0m \u001b[39mdef\u001b[39;00m \u001b[39mget_results_from_grid_row\u001b[39m(params):\n\u001b[0;32m---> <a href='vscode-notebook-cell:/Users/schnuckiputz/other/git/2022-CHI-neuroadaptive-haptics/neuro_haptics/aleks/run_experiment_notebook_stateless.ipynb#Y402sZmlsZQ%3D%3D?line=14'>15</a>\u001b[0m     q_values_all_experiments, rewards_all_experiments, episode_lengths, selected_actions, accuracy \u001b[39m=\u001b[39m qLearningExperiment(adjust_rewards_surrogate, params\u001b[39m=\u001b[39;49mparams)\n\u001b[1;32m     <a href='vscode-notebook-cell:/Users/schnuckiputz/other/git/2022-CHI-neuroadaptive-haptics/neuro_haptics/aleks/run_experiment_notebook_stateless.ipynb#Y402sZmlsZQ%3D%3D?line=15'>16</a>\u001b[0m     mean_episode_length \u001b[39m=\u001b[39m np\u001b[39m.\u001b[39mmean(episode_lengths)\n\u001b[1;32m     <a href='vscode-notebook-cell:/Users/schnuckiputz/other/git/2022-CHI-neuroadaptive-haptics/neuro_haptics/aleks/run_experiment_notebook_stateless.ipynb#Y402sZmlsZQ%3D%3D?line=16'>17</a>\u001b[0m     \u001b[39mprint\u001b[39m(accuracy, mean_episode_length) \n",
      "\u001b[1;32m/Users/schnuckiputz/other/git/2022-CHI-neuroadaptive-haptics/neuro_haptics/aleks/run_experiment_notebook_stateless.ipynb Cell 35\u001b[0m line \u001b[0;36mqLearningExperiment\u001b[0;34m(difference_fn, params)\u001b[0m\n\u001b[1;32m      <a href='vscode-notebook-cell:/Users/schnuckiputz/other/git/2022-CHI-neuroadaptive-haptics/neuro_haptics/aleks/run_experiment_notebook_stateless.ipynb#Y402sZmlsZQ%3D%3D?line=7'>8</a>\u001b[0m agent \u001b[39m=\u001b[39m UCBQAgent(params\u001b[39m=\u001b[39mparams)\n\u001b[1;32m      <a href='vscode-notebook-cell:/Users/schnuckiputz/other/git/2022-CHI-neuroadaptive-haptics/neuro_haptics/aleks/run_experiment_notebook_stateless.ipynb#Y402sZmlsZQ%3D%3D?line=8'>9</a>\u001b[0m env \u001b[39m=\u001b[39m ModifiedRandomEnvironment(correct_action\u001b[39m=\u001b[39mcorrect_action)\n\u001b[0;32m---> <a href='vscode-notebook-cell:/Users/schnuckiputz/other/git/2022-CHI-neuroadaptive-haptics/neuro_haptics/aleks/run_experiment_notebook_stateless.ipynb#Y402sZmlsZQ%3D%3D?line=9'>10</a>\u001b[0m q_values_for_chart, rewards, episode_length, selected_action \u001b[39m=\u001b[39m runner(difference_fn, env\u001b[39m=\u001b[39;49menv, agent\u001b[39m=\u001b[39;49magent, params\u001b[39m=\u001b[39;49mparams)\n\u001b[1;32m     <a href='vscode-notebook-cell:/Users/schnuckiputz/other/git/2022-CHI-neuroadaptive-haptics/neuro_haptics/aleks/run_experiment_notebook_stateless.ipynb#Y402sZmlsZQ%3D%3D?line=10'>11</a>\u001b[0m rewards_all_experiments\u001b[39m.\u001b[39mappend(rewards)\n\u001b[1;32m     <a href='vscode-notebook-cell:/Users/schnuckiputz/other/git/2022-CHI-neuroadaptive-haptics/neuro_haptics/aleks/run_experiment_notebook_stateless.ipynb#Y402sZmlsZQ%3D%3D?line=11'>12</a>\u001b[0m q_values_all_experiments\u001b[39m.\u001b[39mappend(q_values_for_chart)\n",
      "\u001b[1;32m/Users/schnuckiputz/other/git/2022-CHI-neuroadaptive-haptics/neuro_haptics/aleks/run_experiment_notebook_stateless.ipynb Cell 35\u001b[0m line \u001b[0;36mrunner\u001b[0;34m(adjust_rewards, agent, env, params)\u001b[0m\n\u001b[1;32m     <a href='vscode-notebook-cell:/Users/schnuckiputz/other/git/2022-CHI-neuroadaptive-haptics/neuro_haptics/aleks/run_experiment_notebook_stateless.ipynb#Y402sZmlsZQ%3D%3D?line=25'>26</a>\u001b[0m     \u001b[39mbreak\u001b[39;00m\n\u001b[1;32m     <a href='vscode-notebook-cell:/Users/schnuckiputz/other/git/2022-CHI-neuroadaptive-haptics/neuro_haptics/aleks/run_experiment_notebook_stateless.ipynb#Y402sZmlsZQ%3D%3D?line=27'>28</a>\u001b[0m action \u001b[39m=\u001b[39m agent\u001b[39m.\u001b[39mchoose_action(state) \n\u001b[0;32m---> <a href='vscode-notebook-cell:/Users/schnuckiputz/other/git/2022-CHI-neuroadaptive-haptics/neuro_haptics/aleks/run_experiment_notebook_stateless.ipynb#Y402sZmlsZQ%3D%3D?line=28'>29</a>\u001b[0m reward, next_state, done \u001b[39m=\u001b[39m env\u001b[39m.\u001b[39;49mstep(action)        \n\u001b[1;32m     <a href='vscode-notebook-cell:/Users/schnuckiputz/other/git/2022-CHI-neuroadaptive-haptics/neuro_haptics/aleks/run_experiment_notebook_stateless.ipynb#Y402sZmlsZQ%3D%3D?line=29'>30</a>\u001b[0m rewards\u001b[39m.\u001b[39mappend(reward)\n\u001b[1;32m     <a href='vscode-notebook-cell:/Users/schnuckiputz/other/git/2022-CHI-neuroadaptive-haptics/neuro_haptics/aleks/run_experiment_notebook_stateless.ipynb#Y402sZmlsZQ%3D%3D?line=31'>32</a>\u001b[0m \u001b[39mif\u001b[39;00m adjust_rewards:\n",
      "File \u001b[0;32m~/other/git/2022-CHI-neuroadaptive-haptics/neuro_haptics/aleks/ucbq_environment_stateless.py:20\u001b[0m, in \u001b[0;36mModifiedRandomEnvironment.step\u001b[0;34m(self, action)\u001b[0m\n\u001b[1;32m     17\u001b[0m \u001b[39mdef\u001b[39;00m \u001b[39mstep\u001b[39m(\u001b[39mself\u001b[39m, action):\n\u001b[1;32m     18\u001b[0m     \u001b[39mself\u001b[39m\u001b[39m.\u001b[39mt \u001b[39m+\u001b[39m\u001b[39m=\u001b[39m \u001b[39m1\u001b[39m\n\u001b[0;32m---> 20\u001b[0m     reward \u001b[39m=\u001b[39m \u001b[39mself\u001b[39;49m\u001b[39m.\u001b[39;49mget_participant_answer(action)\n\u001b[1;32m     21\u001b[0m     \u001b[39m# TODO: delete\u001b[39;00m\n\u001b[1;32m     22\u001b[0m     \u001b[39m# Our case action == state, but migth consdier this separation in the future\u001b[39;00m\n\u001b[1;32m     23\u001b[0m     next_state \u001b[39m=\u001b[39m \u001b[39m0\u001b[39m\n",
      "File \u001b[0;32m~/other/git/2022-CHI-neuroadaptive-haptics/neuro_haptics/aleks/ucbq_environment.py:27\u001b[0m, in \u001b[0;36mModifiedRandomEnvironment.get_participant_answer\u001b[0;34m(self, action)\u001b[0m\n\u001b[1;32m     14\u001b[0m \u001b[39mdef\u001b[39;00m \u001b[39mget_participant_answer\u001b[39m(\u001b[39mself\u001b[39m, action):\n\u001b[1;32m     15\u001b[0m     \u001b[39m# TODO: use this code when we'll be listenting to the \u001b[39;00m\n\u001b[1;32m     16\u001b[0m     \u001b[39m# actual stream\u001b[39;00m\n\u001b[0;32m   (...)\u001b[0m\n\u001b[1;32m     25\u001b[0m     \u001b[39m# Wait random time before giving an answer.\u001b[39;00m\n\u001b[1;32m     26\u001b[0m     \u001b[39m# This simulates listening to stream.\u001b[39;00m\n\u001b[0;32m---> 27\u001b[0m     time\u001b[39m.\u001b[39;49msleep(random\u001b[39m.\u001b[39;49muniform(\u001b[39m0.001\u001b[39;49m, \u001b[39m0.002\u001b[39;49m))\n\u001b[1;32m     29\u001b[0m     answer \u001b[39m=\u001b[39m \u001b[39m0\u001b[39m \u001b[39mif\u001b[39;00m action \u001b[39m==\u001b[39m \u001b[39mself\u001b[39m\u001b[39m.\u001b[39mcorrect_action \u001b[39melse\u001b[39;00m \u001b[39m-\u001b[39m\u001b[39mabs\u001b[39m(\u001b[39mself\u001b[39m\u001b[39m.\u001b[39mcorrect_action \u001b[39m-\u001b[39m action)\n\u001b[1;32m     31\u001b[0m     \u001b[39mreturn\u001b[39;00m answer\n",
      "\u001b[0;31mKeyboardInterrupt\u001b[0m: "
     ]
    }
   ],
   "source": [
    "max_steps = 120\n",
    "num_episodes = 20\n",
    "\n",
    "param_grid = {\n",
    "    'alpha': [0, 1.0],\n",
    "    # 'alpha_decay'\n",
    "    # alpha_min\n",
    "    'epsilon': [0, 1.0],\n",
    "    # 'epsilon_decay': [0.1, 1.0],\n",
    "    # 'gamma'\n",
    "    'epsilon_decay': [10, 20, 40, 80],\n",
    "    # 'surrogate_c_interval': [1, 2, 5, 10, 20, 40]\n",
    "    # 'surrogate_lr'\n",
    "    }\n",
    "\n",
    "param_grid_out = pd.DataFrame(ParameterGrid(param_grid))\n",
    "\n",
    "def get_results_from_grid_row(params):\n",
    "    q_values_all_experiments, rewards_all_experiments, episode_lengths, selected_actions, accuracy = qLearningExperiment(adjust_rewards_surrogate, params=params)\n",
    "    mean_episode_length = np.mean(episode_lengths)\n",
    "    print(accuracy, mean_episode_length) \n",
    "\n",
    "    return accuracy, mean_episode_length\n",
    "\n",
    "for i, params in tqdm(param_grid_out.iterrows(), total=param_grid_out.shape[0]):\n",
    "    accuracy, mean_episode_length = get_results_from_grid_row(params)\n",
    "    param_grid_out.loc[i, 'accuracy'] = accuracy\n",
    "    param_grid_out.loc[i, 'mean_episode_length'] = mean_episode_length\n",
    "    # display.clear_output()"
   ]
  },
  {
   "cell_type": "code",
   "execution_count": null,
   "metadata": {},
   "outputs": [
    {
     "name": "stdout",
     "output_type": "stream",
     "text": [
      "    alpha  epsilon  epsilon_decay  accuracy  mean_episode_length\n",
      "1     0.1      0.1             20      95.0                73.70\n",
      "7     0.1      1.0             80      90.0                82.70\n",
      "15    1.0      1.0             80      85.0                91.00\n",
      "4     0.1      1.0             10      85.0                83.35\n",
      "10    1.0      0.1             40      85.0                78.55\n",
      "5     0.1      1.0             20      85.0                75.75\n",
      "12    1.0      1.0             10      80.0                80.90\n",
      "6     0.1      1.0             40      75.0                78.45\n",
      "11    1.0      0.1             80      75.0                78.45\n",
      "14    1.0      1.0             40      75.0                77.20\n",
      "8     1.0      0.1             10      75.0                74.95\n",
      "2     0.1      0.1             40      70.0                87.90\n",
      "13    1.0      1.0             20      70.0                82.85\n",
      "3     0.1      0.1             80      65.0                82.65\n",
      "0     0.1      0.1             10      60.0                89.90\n",
      "9     1.0      0.1             20      60.0                73.75\n"
     ]
    }
   ],
   "source": [
    "# param_grid_out.iloc[0]['accuracy'] = 1\n",
    "print(param_grid_out.sort_values(by=['accuracy', 'mean_episode_length'], ascending=False))"
   ]
  },
  {
   "cell_type": "markdown",
   "metadata": {},
   "source": [
    "# Q-value of \"true\" level compared accross different reward techniques"
   ]
  },
  {
   "cell_type": "code",
   "execution_count": null,
   "metadata": {},
   "outputs": [],
   "source": [
    "#TODO:\n",
    "# What if we reset the state to the original one, every 10 steps, and that would be our episode?\n",
    "# -> keep the q-values, reset the parameters epsilon, learning rate, etc."
   ]
  },
  {
   "cell_type": "markdown",
   "metadata": {},
   "source": [
    "# Epsilon test"
   ]
  },
  {
   "cell_type": "code",
   "execution_count": null,
   "metadata": {},
   "outputs": [
    {
     "data": {
      "text/plain": [
       "1.3222192947339193"
      ]
     },
     "execution_count": 27,
     "metadata": {},
     "output_type": "execute_result"
    }
   ],
   "source": [
    "np.log10(20+1)"
   ]
  },
  {
   "cell_type": "code",
   "execution_count": null,
   "metadata": {},
   "outputs": [
    {
     "data": {
      "text/plain": [
       "[<matplotlib.lines.Line2D at 0x14c981940>]"
      ]
     },
     "execution_count": 23,
     "metadata": {},
     "output_type": "execute_result"
    },
    {
     "data": {
      "image/png": "[encoded data removed]",
      "text/plain": [
       "<Figure size 432x288 with 1 Axes>"
      ]
     },
     "metadata": {
      "needs_background": "light"
     },
     "output_type": "display_data"
    }
   ],
   "source": [
    "agent = UCBQAgent()\n",
    "epsilons = []\n",
    "for t in range(200):\n",
    "    epsilons.append(agent.epsilon)\n",
    "    agent.choose_action(0)\n",
    "\n",
    "plt.plot(epsilons)"
   ]
  },
  {
   "cell_type": "code",
   "execution_count": null,
   "metadata": {},
   "outputs": [
    {
     "data": {
      "text/plain": [
       "[<matplotlib.lines.Line2D at 0x14cace130>]"
      ]
     },
     "execution_count": 28,
     "metadata": {},
     "output_type": "execute_result"
    },
    {
     "data": {
      "image/png": "[encoded data removed]",
      "text/plain": [
       "<Figure size 432x288 with 1 Axes>"
      ]
     },
     "metadata": {
      "needs_background": "light"
     },
     "output_type": "display_data"
    }
   ],
   "source": [
    "agent = UCBQAgent()\n",
    "epsilons = []\n",
    "for t in range(200):\n",
    "    epsilons.append(agent.alpha)\n",
    "    agent.choose_action(0)\n",
    "\n",
    "plt.plot(epsilons)"
   ]
  },
  {
   "cell_type": "markdown",
   "metadata": {},
   "source": [
    "# Surrogate rewards without adding noise"
   ]
  },
  {
   "cell_type": "code",
   "execution_count": null,
   "metadata": {},
   "outputs": [],
   "source": [
    "from modified_pendulum_processor_noiseless import ModifiedPendulumProcessorNoiseless"
   ]
  },
  {
   "cell_type": "code",
   "execution_count": null,
   "metadata": {},
   "outputs": [
    {
     "name": "stderr",
     "output_type": "stream",
     "text": [
      "100%|██████████| 20/20 [00:02<00:00,  7.41it/s]\n"
     ]
    },
    {
     "name": "stdout",
     "output_type": "stream",
     "text": [
      "Mean episode length: 61.0\n",
      "Accuracy: 100.0\n",
      "[[0.8 0.  0.  0.  0.  0.  0.2]\n",
      " [0.  0.8 0.  0.  0.  0.2 0. ]\n",
      " [0.  0.  0.8 0.  0.2 0.  0. ]\n",
      " [0.  0.  0.  1.  0.  0.  0. ]\n",
      " [0.  0.  0.2 0.  0.8 0.  0. ]\n",
      " [0.  0.2 0.  0.  0.  0.8 0. ]\n",
      " [0.2 0.  0.  0.  0.  0.  0.8]]\n",
      "{(0, 3): [-3, -3, -3, -3, -3, -3, -3, -3, -3, -3, -3, -3, -3, -3, -3, -3, -3, -3, -3, -3, -3, -3, -3, -3, -3, -3, -3, -3, -3, -3, -3, -3, -3, -3, -3, -3, -3, -3, -3, -3], (0, 0): [-6, -6, -6, -6, -6, -6, -6, -6, -6, -6, -6, -6, -6, -6, -6, -6, -6, -6, -6, -6], (0, 1): [-5, -5, -5, -5, -5, -5, -5, -5, -5, -5, -5, -5, -5, -5, -5, -5, -5, -5, -5, -5], (0, 2): [-4, -4, -4, -4, -4, -4, -4, -4, -4, -4, -4, -4, -4, -4, -4, -4, -4, -4, -4, -4], (0, 4): [-2, -2, -2, -2, -2, -2, -2, -2, -2, -2, -2, -2, -2, -2, -2, -2, -2, -2, -2, -2, -2, -2, -2, -2, -2, -2, -2, -2, -2, -2, -2, -2, -2, -2, -2, -2, -2, -2, -2, -2], (0, 5): [-1, -1, -1, -1, -1, -1, -1, -1, -1, -1, -1, -1, -1, -1, -1, -1, -1, -1, -1, -1, -1, -1, -1, -1, -1, -1, -1, -1, -1, -1, -1, -1, -1, -1, -1, -1, -1, -1, -1, -1, -1, -1, -1, -1, -1, -1, -1, -1, -1, -1, -1, -1, -1, -1, -1, -1, -1, -1, -1, -1, -1, -1, -1, -1, -1, -1, -1, -1, -1, -1, -1, -1, -1, -1, -1, -1, -1, -1, -1, -1], (0, 6): [0, 0, 0, 0, 0, 0, 0, 0, 0, 0, 0, 0, 0, 0, 0, 0, 0, 0, 0, 0, 0, 0, 0, 0, 0, 0, 0, 0, 0, 0, 0, 0, 0, 0, 0, 0, 0, 0, 0, 0, 0, 0, 0, 0, 0, 0, 0, 0, 0, 0, 0, 0, 0, 0, 0, 0, 0, 0, 0, 0, 0, 0, 0, 0, 0, 0, 0, 0, 0, 0, 0, 0, 0, 0, 0, 0, 0, 0, 0, 0, 0, 0, 0, 0, 0, 0, 0, 0, 0, 0, 0, 0, 0, 0, 0, 0, 0, 0, 0, 0, 0, 0, 0, 0, 0, 0, 0, 0, 0, 0, 0, 0, 0, 0, 0, 0, 0, 0, 0, 0, 0, 0, 0, 0, 0, 0, 0, 0, 0, 0, 0, 0, 0, 0, 0, 0, 0, 0, 0, 0, 0, 0, 0, 0, 0, 0, 0, 0, 0, 0, 0, 0, 0, 0, 0, 0, 0, 0, 0, 0, 0, 0, 0, 0, 0, 0, 0, 0, 0, 0, 0, 0, 0, 0, 0, 0, 0, 0, 0, 0, 0, 0, 0, 0, 0, 0, 0, 0, 0, 0, 0, 0, 0, 0, 0, 0, 0, 0, 0, 0, 0, 0, 0, 0, 0, 0, 0, 0, 0, 0, 0, 0, 0, 0, 0, 0, 0, 0, 0, 0, 0, 0, 0, 0, 0, 0, 0, 0, 0, 0, 0, 0, 0, 0, 0, 0, 0, 0, 0, 0, 0, 0, 0, 0, 0, 0, 0, 0, 0, 0, 0, 0, 0, 0, 0, 0, 0, 0, 0, 0, 0, 0, 0, 0, 0, 0, 0, 0, 0, 0, 0, 0, 0, 0, 0, 0, 0, 0, 0, 0, 0, 0, 0, 0, 0, 0, 0, 0, 0, 0, 0, 0, 0, 0, 0, 0, 0, 0, 0, 0, 0, 0, 0, 0, 0, 0, 0, 0, 0, 0, 0, 0, 0, 0, 0, 0, 0, 0, 0, 0, 0, 0, 0, 0, 0, 0, 0, 0, 0, 0, 0, 0, 0, 0, 0, 0, 0, 0, 0, 0, 0, 0, 0, 0, 0, 0, 0, 0, 0, 0, 0, 0, 0, 0, 0, 0, 0, 0, 0, 0, 0, 0, 0, 0, 0, 0, 0, 0, 0, 0, 0, 0, 0, 0, 0, 0, 0, 0, 0, 0, 0, 0, 0, 0, 0, 0, 0, 0, 0, 0, 0, 0, 0, 0, 0, 0, 0, 0, 0, 0, 0, 0, 0, 0, 0, 0, 0, 0, 0, 0, 0, 0, 0, 0, 0, 0, 0, 0, 0, 0, 0, 0, 0, 0, 0, 0, 0, 0, 0, 0, 0, 0, 0, 0, 0, 0, 0, 0, 0, 0, 0, 0, 0, 0, 0, 0, 0, 0, 0, 0, 0, 0, 0, 0, 0, 0, 0, 0, 0, 0, 0, 0, 0, 0, 0, 0, 0, 0, 0, 0, 0, 0, 0, 0, 0, 0, 0, 0, 0, 0, 0, 0, 0, 0, 0, 0, 0, 0, 0, 0, 0, 0, 0, 0, 0, 0, 0, 0, 0, 0, 0, 0, 0, 0, 0, 0, 0, 0, 0, 0, 0, 0, 0, 0, 0, 0, 0, 0, 0, 0, 0, 0, 0, 0, 0, 0, 0, 0, 0, 0, 0, 0, 0, 0, 0, 0, 0, 0, 0, 0, 0, 0, 0, 0, 0, 0, 0, 0, 0, 0, 0, 0, 0, 0, 0, 0, 0, 0, 0, 0, 0, 0, 0, 0, 0, 0, 0, 0, 0, 0, 0, 0, 0, 0, 0, 0, 0, 0, 0, 0, 0, 0, 0, 0, 0, 0, 0, 0, 0, 0, 0, 0, 0, 0, 0, 0, 0, 0, 0, 0, 0, 0, 0, 0, 0, 0, 0, 0, 0, 0, 0, 0, 0, 0, 0, 0, 0, 0, 0, 0, 0, 0, 0, 0, 0, 0, 0, 0, 0, 0, 0, 0, 0, 0, 0, 0, 0, 0, 0, 0, 0, 0, 0, 0, 0, 0, 0, 0, 0, 0, 0, 0, 0, 0, 0, 0, 0, 0, 0, 0, 0, 0, 0, 0, 0, 0, 0, 0, 0, 0, 0, 0, 0, 0, 0, 0, 0, 0, 0, 0, 0, 0, 0, 0, 0, 0, 0, 0, 0, 0, 0, 0, 0, 0, 0, 0, 0, 0, 0, 0, 0, 0, 0, 0, 0, 0, 0, 0, 0, 0, 0, 0, 0, 0, 0, 0, 0, 0, 0, 0, 0, 0, 0, 0, 0, 0, 0, 0, 0, 0, 0, 0, 0, 0, 0, 0, 0, 0, 0, 0, 0, 0, 0, 0, 0, 0, 0, 0, 0, 0, 0, 0, 0, 0, 0, 0, 0, 0, 0, 0, 0, 0, 0, 0, 0, 0, 0, 0, 0, 0, 0, 0, 0, 0, 0, 0, 0, 0, 0, 0, 0, 0, 0, 0, 0, 0, 0, 0, 0, 0, 0, 0, 0, 0, 0, 0, 0, 0, 0, 0, 0, 0, 0, 0, 0, 0, 0, 0, 0, 0, 0, 0, 0, 0, 0, 0, 0, 0, 0, 0, 0, 0, 0, 0, 0, 0, 0, 0, 0, 0, 0, 0, 0, 0, 0, 0, 0, 0, 0, 0, 0, 0, 0, 0, 0, 0, 0, 0, 0, 0, 0, 0, 0, 0, 0, 0, 0, 0, 0, 0, 0, 0, 0, 0, 0, 0, 0, 0, 0, 0, 0, 0, 0, 0, 0, 0, 0, 0, 0, 0, 0, 0, 0, 0, 0, 0, 0, 0, 0, 0, 0, 0, 0, 0, 0, 0, 0, 0, 0, 0, 0, 0, 0, 0, 0, 0, 0, 0, 0, 0, 0, 0, 0, 0, 0, 0, 0, 0, 0, 0, 0, 0, 0, 0, 0, 0, 0, 0, 0, 0, 0, 0, 0, 0, 0, 0, 0, 0, 0, 0, 0, 0, 0, 0, 0, 0, 0, 0, 0, 0, 0, 0, 0, 0, 0, 0, 0, 0, 0, 0, 0, 0, 0, 0, 0, 0, 0, 0, 0, 0, 0, 0, 0, 0, 0, 0, 0, 0, 0, 0]}\n",
      "Estimated confusion matrix:\n",
      "[[1. 0. 0. 0. 0. 0. 0.]\n",
      " [0. 1. 0. 0. 0. 0. 0.]\n",
      " [0. 0. 1. 0. 0. 0. 0.]\n",
      " [0. 0. 0. 1. 0. 0. 0.]\n",
      " [0. 0. 0. 0. 1. 0. 0.]\n",
      " [0. 0. 0. 0. 0. 1. 0.]\n",
      " [0. 0. 0. 0. 0. 0. 1.]]\n"
     ]
    },
    {
     "data": {
      "image/png": "[encoded data removed]",
      "text/plain": [
       "<Figure size 432x288 with 1 Axes>"
      ]
     },
     "metadata": {
      "needs_background": "light"
     },
     "output_type": "display_data"
    },
    {
     "data": {
      "image/png": "[encoded data removed]",
      "text/plain": [
       "<Figure size 432x288 with 1 Axes>"
      ]
     },
     "metadata": {
      "needs_background": "light"
     },
     "output_type": "display_data"
    },
    {
     "data": {
      "image/png": "[encoded data removed]",
      "text/plain": [
       "<Figure size 432x288 with 1 Axes>"
      ]
     },
     "metadata": {
      "needs_background": "light"
     },
     "output_type": "display_data"
    },
    {
     "data": {
      "image/png": "[encoded data removed]",
      "text/plain": [
       "<Figure size 432x288 with 1 Axes>"
      ]
     },
     "metadata": {
      "needs_background": "light"
     },
     "output_type": "display_data"
    }
   ],
   "source": [
    "post_processor_surrogate = ModifiedPendulumProcessorNoiseless()\n",
    "\n",
    "def adjust_rewards_surrogate(reward, state, action):    \n",
    "    observation, reward, done, info = post_processor_surrogate.process_step(state, reward, None, None, action)\n",
    "    return reward\n",
    "\n",
    "plot_mean_q_values(adjust_rewards_surrogate)\n",
    "\n",
    "print(post_processor_surrogate.cmat)\n",
    "print(post_processor_surrogate.r_sets)\n",
    "print('Estimated confusion matrix:')\n",
    "print(np.around(post_processor_surrogate.C, decimals=4))"
   ]
  }
 ],
 "metadata": {
  "kernelspec": {
   "display_name": "base",
   "language": "python",
   "name": "python3"
  },
  "language_info": {
   "codemirror_mode": {
    "name": "ipython",
    "version": 3
   },
   "file_extension": ".py",
   "mimetype": "text/x-python",
   "name": "python",
   "nbconvert_exporter": "python",
   "pygments_lexer": "ipython3",
   "version": "3.9.7"
  },
  "orig_nbformat": 4
 },
 "nbformat": 4,
 "nbformat_minor": 2
}
