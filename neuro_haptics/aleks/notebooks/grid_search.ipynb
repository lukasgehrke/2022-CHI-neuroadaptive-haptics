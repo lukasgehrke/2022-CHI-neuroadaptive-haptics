{
 "cells": [
  {
   "cell_type": "code",
   "execution_count": 1,
   "metadata": {},
   "outputs": [],
   "source": [
    "import numpy as np\n",
    "import pandas as pd\n",
    "from sklearn.model_selection import ParameterGrid\n",
    "import tqdm\n",
    "from utils import *"
   ]
  },
  {
   "cell_type": "code",
   "execution_count": 2,
   "metadata": {},
   "outputs": [],
   "source": [
    "# This param_grid is too big and it crashed the Kernel.\n",
    "\n",
    "param_grid = {\n",
    "        'alpha': np.arange(0, 1, 0.1),\n",
    "        'alpha_decay': np.arange(0, 200, 10),\n",
    "        'alpha_min': np.arange(0, 1, 0.1),\n",
    "        'epsilon': np.arange(0, 1, 0.1),\n",
    "        'epsilon_decay': np.arange(0, 200, 10),\n",
    "        'epsilon_min': np.arange(0, 1, 0.1),\n",
    "        'gamma': np.arange(0, 1, 0.1),\n",
    "        'surrogate_c_interval': np.arange(0, 120, 10),\n",
    "        'surrogate_c_interval_min': np.arange(0, 120, 10),\n",
    "        'ucb_c': np.arange(0, 10, 1), \n",
    "    }\n",
    "\n",
    "param_grid_out = pd.DataFrame(ParameterGrid(param_grid))"
   ]
  },
  {
   "cell_type": "code",
   "execution_count": 2,
   "metadata": {},
   "outputs": [],
   "source": [
    "for i, new_params in tqdm(param_grid_out.iterrows(), total=param_grid_out.shape[0]):\n",
    "    params = {\n",
    "        'max_steps': 75,\n",
    "        'num_episodes': 1000,\n",
    "        'num_actions': 7, \n",
    "        'correct_action': 1,    # Zero indexed \n",
    "        'plots': False,\n",
    "        #\n",
    "        'noise': True,\n",
    "        'surrogate': True,\n",
    "    }    \n",
    "\n",
    "    params = params | new_params\n",
    "    \n",
    "    q_values_all_experiments, rewards_all_experiments, episode_lengths, selected_actions, accuracy, _ = qLearningExperiment(params=params)\n",
    "\n",
    "    \n",
    "    mean_rewards_accross_all_episodes = np.mean(np.mean(rewards_all_experiments)) \n",
    "    param_grid_out.loc[i, 'mean_rewards_accross_all_episodes'] = mean_rewards_accross_all_episodes"
   ]
  },
  {
   "cell_type": "code",
   "execution_count": null,
   "metadata": {},
   "outputs": [],
   "source": [
    "# param_grid_out.iloc[0]['accuracy'] = 1\n",
    "print(param_grid_out.sort_values(by=['mean_rewards_accross_all_episodes'], ascending=False))"
   ]
  }
 ],
 "metadata": {
  "kernelspec": {
   "display_name": "base",
   "language": "python",
   "name": "python3"
  },
  "language_info": {
   "codemirror_mode": {
    "name": "ipython",
    "version": 3
   },
   "file_extension": ".py",
   "mimetype": "text/x-python",
   "name": "python",
   "nbconvert_exporter": "python",
   "pygments_lexer": "ipython3",
   "version": "3.9.7"
  }
 },
 "nbformat": 4,
 "nbformat_minor": 2
}
