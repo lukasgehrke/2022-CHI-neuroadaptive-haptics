{
 "cells": [
  {
   "cell_type": "code",
   "execution_count": 1,
   "metadata": {},
   "outputs": [
    {
     "name": "stdout",
     "output_type": "stream",
     "text": [
      "/Users/schnuckiputz/other/git/2022-CHI-neuroadaptive-haptics/neuro_haptics/aleks\n"
     ]
    }
   ],
   "source": [
    "import sys\n",
    "\n",
    "import os\n",
    "print(os.getcwd())"
   ]
  },
  {
   "cell_type": "code",
   "execution_count": 2,
   "metadata": {},
   "outputs": [
    {
     "name": "stdout",
     "output_type": "stream",
     "text": [
      "['/Users/schnuckiputz/other/git/2022-CHI-neuroadaptive-haptics/neuro_haptics/aleks', '/opt/homebrew/Caskroom/miniforge/base/lib/python39.zip', '/opt/homebrew/Caskroom/miniforge/base/lib/python3.9', '/opt/homebrew/Caskroom/miniforge/base/lib/python3.9/lib-dynload', '', '/opt/homebrew/Caskroom/miniforge/base/lib/python3.9/site-packages', '/Users/schnuckiputz/other/code/brain-course-drl-project/gym-grid', '/Users/schnuckiputz/other/git/sam-hq', 'rl/']\n"
     ]
    }
   ],
   "source": [
    "sys.path.append('rl/')\n",
    "print(sys.path) \n",
    "\n",
    "import utils\n",
    "from utils import *"
   ]
  },
  {
   "cell_type": "code",
   "execution_count": 3,
   "metadata": {},
   "outputs": [
    {
     "name": "stdout",
     "output_type": "stream",
     "text": [
      "['/Users/schnuckiputz/other/git/2022-CHI-neuroadaptive-haptics/neuro_haptics/aleks', '/opt/homebrew/Caskroom/miniforge/base/lib/python39.zip', '/opt/homebrew/Caskroom/miniforge/base/lib/python3.9', '/opt/homebrew/Caskroom/miniforge/base/lib/python3.9/lib-dynload', '', '/opt/homebrew/Caskroom/miniforge/base/lib/python3.9/site-packages', '/Users/schnuckiputz/other/code/brain-course-drl-project/gym-grid', '/Users/schnuckiputz/other/git/sam-hq', 'rl/']\n"
     ]
    }
   ],
   "source": [
    "print(sys.path) "
   ]
  },
  {
   "cell_type": "code",
   "execution_count": 4,
   "metadata": {},
   "outputs": [
    {
     "name": "stderr",
     "output_type": "stream",
     "text": [
      "100%|██████████| 1/1 [00:00<00:00, 12.56it/s]"
     ]
    },
    {
     "name": "stdout",
     "output_type": "stream",
     "text": [
      "Accuracy: 0.0\n",
      "Mean episode length: 1001.0\n"
     ]
    },
    {
     "name": "stderr",
     "output_type": "stream",
     "text": [
      "\n"
     ]
    },
    {
     "data": {
      "text/plain": [
       "<matplotlib.axes._subplots.AxesSubplot at 0x147c7a6d0>"
      ]
     },
     "execution_count": 4,
     "metadata": {},
     "output_type": "execute_result"
    },
    {
     "data": {
      "image/png": "[encoded data removed]",
      "text/plain": [
       "<Figure size 432x288 with 1 Axes>"
      ]
     },
     "metadata": {
      "needs_background": "light"
     },
     "output_type": "display_data"
    }
   ],
   "source": [
    "rewards = []\n",
    "\n",
    "params_new = {\n",
    "    # Runner parameters\n",
    "    'max_steps': 1000,\n",
    "    'num_episodes': 1,\n",
    "    'convergence_count_start': 1000,\n",
    "    }\n",
    "\n",
    "params = default_params() | params_new\n",
    "\n",
    "from ucbq_agent_stateless import UCBQAgent\n",
    "\n",
    "# params['surrogate'] = True\n",
    "params['agent'] = UCBQAgent\n",
    "q_values_all_experiments, rewards_all_experiments, episode_lengths, selected_actions, accuracy, last_reward_processor = qLearningExperiment(params=params_new)\n",
    "print(f'Accuracy: {accuracy}')    \n",
    "print(f'Mean episode length: {np.mean(episode_lengths)}')\n",
    "rewards.append(rewards_all_experiments)\n",
    "\n",
    "# Beware, VS Code variable inspector can show wrong Size value\n",
    "\n",
    "# Apply get_mean_rewards_across_episodes to each element in rewards\n",
    "mean_rewards = [get_mean_rewards_across_episodes(rewards_all_experiments) for rewards_all_experiments in rewards]\n",
    "\n",
    "pd.DataFrame(mean_rewards).T.plot()"
   ]
  }
 ],
 "metadata": {
  "language_info": {
   "name": "python"
  }
 },
 "nbformat": 4,
 "nbformat_minor": 2
}
