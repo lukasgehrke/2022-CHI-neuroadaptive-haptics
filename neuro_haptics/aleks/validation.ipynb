{
 "cells": [
  {
   "cell_type": "code",
   "execution_count": null,
   "metadata": {},
   "outputs": [
    {
     "ename": "",
     "evalue": "",
     "output_type": "error",
     "traceback": [
      "\u001b[1;31mThe Kernel crashed while executing code in the current cell or a previous cell. \n",
      "\u001b[1;31mPlease review the code in the cell(s) to identify a possible cause of the failure. \n",
      "\u001b[1;31mClick <a href='https://aka.ms/vscodeJupyterKernelCrash'>here</a> for more info. \n",
      "\u001b[1;31mView Jupyter <a href='command:jupyter.viewOutput'>log</a> for further details."
     ]
    }
   ],
   "source": [
    "import sys\n",
    "\n",
    "import os\n",
    "print(os.getcwd())"
   ]
  },
  {
   "cell_type": "code",
   "execution_count": null,
   "metadata": {},
   "outputs": [
    {
     "name": "stderr",
     "output_type": "stream",
     "text": [
      "2024-07-12 18:04:09.244 (   0.000s) [           160AD]      netinterfaces.cpp:91    INFO| netif 'lo0' (status: 1, multicast: 32768, broadcast: 0)\n",
      "2024-07-12 18:04:09.244 (   0.000s) [           160AD]      netinterfaces.cpp:91    INFO| netif 'lo0' (status: 1, multicast: 32768, broadcast: 0)\n",
      "2024-07-12 18:04:09.244 (   0.000s) [           160AD]      netinterfaces.cpp:102   INFO| \tIPv4 addr: 7f000001\n",
      "2024-07-12 18:04:09.244 (   0.000s) [           160AD]      netinterfaces.cpp:91    INFO| netif 'lo0' (status: 1, multicast: 32768, broadcast: 0)\n",
      "2024-07-12 18:04:09.244 (   0.000s) [           160AD]      netinterfaces.cpp:105   INFO| \tIPv6 addr: ::1\n",
      "2024-07-12 18:04:09.244 (   0.000s) [           160AD]      netinterfaces.cpp:91    INFO| netif 'lo0' (status: 1, multicast: 32768, broadcast: 0)\n",
      "2024-07-12 18:04:09.244 (   0.000s) [           160AD]      netinterfaces.cpp:105   INFO| \tIPv6 addr: fe80::1%lo0\n",
      "2024-07-12 18:04:09.244 (   0.000s) [           160AD]      netinterfaces.cpp:91    INFO| netif 'gif0' (status: 0, multicast: 32768, broadcast: 0)\n",
      "2024-07-12 18:04:09.244 (   0.000s) [           160AD]      netinterfaces.cpp:91    INFO| netif 'stf0' (status: 0, multicast: 0, broadcast: 0)\n",
      "2024-07-12 18:04:09.244 (   0.000s) [           160AD]      netinterfaces.cpp:91    INFO| netif 'anpi0' (status: 1, multicast: 32768, broadcast: 2)\n",
      "2024-07-12 18:04:09.244 (   0.001s) [           160AD]      netinterfaces.cpp:91    INFO| netif 'anpi1' (status: 1, multicast: 32768, broadcast: 2)\n",
      "2024-07-12 18:04:09.244 (   0.001s) [           160AD]      netinterfaces.cpp:91    INFO| netif 'en3' (status: 1, multicast: 32768, broadcast: 2)\n",
      "2024-07-12 18:04:09.244 (   0.001s) [           160AD]      netinterfaces.cpp:91    INFO| netif 'en4' (status: 1, multicast: 32768, broadcast: 2)\n",
      "2024-07-12 18:04:09.244 (   0.001s) [           160AD]      netinterfaces.cpp:91    INFO| netif 'en1' (status: 1, multicast: 32768, broadcast: 2)\n",
      "2024-07-12 18:04:09.244 (   0.001s) [           160AD]      netinterfaces.cpp:91    INFO| netif 'en2' (status: 1, multicast: 32768, broadcast: 2)\n",
      "2024-07-12 18:04:09.244 (   0.001s) [           160AD]      netinterfaces.cpp:91    INFO| netif 'ap1' (status: 0, multicast: 32768, broadcast: 2)\n",
      "2024-07-12 18:04:09.244 (   0.001s) [           160AD]      netinterfaces.cpp:91    INFO| netif 'en0' (status: 1, multicast: 32768, broadcast: 2)\n",
      "2024-07-12 18:04:09.244 (   0.001s) [           160AD]      netinterfaces.cpp:91    INFO| netif 'en0' (status: 1, multicast: 32768, broadcast: 2)\n",
      "2024-07-12 18:04:09.244 (   0.001s) [           160AD]      netinterfaces.cpp:105   INFO| \tIPv6 addr: fe80::14c1:ab89:8f8:a7e%en0\n",
      "2024-07-12 18:04:09.244 (   0.001s) [           160AD]      netinterfaces.cpp:91    INFO| netif 'en0' (status: 1, multicast: 32768, broadcast: 2)\n",
      "2024-07-12 18:04:09.244 (   0.001s) [           160AD]      netinterfaces.cpp:102   INFO| \tIPv4 addr: c0a80167\n",
      "2024-07-12 18:04:09.244 (   0.001s) [           160AD]      netinterfaces.cpp:91    INFO| netif 'en0' (status: 1, multicast: 32768, broadcast: 2)\n",
      "2024-07-12 18:04:09.244 (   0.001s) [           160AD]      netinterfaces.cpp:105   INFO| \tIPv6 addr: 2003:cb:7734:5601:481:2d5f:c8e3:5729\n",
      "2024-07-12 18:04:09.244 (   0.001s) [           160AD]      netinterfaces.cpp:91    INFO| netif 'en0' (status: 1, multicast: 32768, broadcast: 2)\n",
      "2024-07-12 18:04:09.244 (   0.001s) [           160AD]      netinterfaces.cpp:105   INFO| \tIPv6 addr: 2003:cb:7734:5601:957c:c745:3ae0:6250\n",
      "2024-07-12 18:04:09.244 (   0.001s) [           160AD]      netinterfaces.cpp:91    INFO| netif 'awdl0' (status: 1, multicast: 32768, broadcast: 2)\n",
      "2024-07-12 18:04:09.244 (   0.001s) [           160AD]      netinterfaces.cpp:91    INFO| netif 'awdl0' (status: 1, multicast: 32768, broadcast: 2)\n",
      "2024-07-12 18:04:09.244 (   0.001s) [           160AD]      netinterfaces.cpp:105   INFO| \tIPv6 addr: fe80::908c:e5ff:fe6c:e6ae%awdl0\n",
      "2024-07-12 18:04:09.244 (   0.001s) [           160AD]      netinterfaces.cpp:91    INFO| netif 'llw0' (status: 1, multicast: 32768, broadcast: 2)\n",
      "2024-07-12 18:04:09.244 (   0.001s) [           160AD]      netinterfaces.cpp:91    INFO| netif 'llw0' (status: 1, multicast: 32768, broadcast: 2)\n",
      "2024-07-12 18:04:09.244 (   0.001s) [           160AD]      netinterfaces.cpp:105   INFO| \tIPv6 addr: fe80::908c:e5ff:fe6c:e6ae%llw0\n",
      "2024-07-12 18:04:09.244 (   0.001s) [           160AD]      netinterfaces.cpp:91    INFO| netif 'bridge0' (status: 1, multicast: 32768, broadcast: 2)\n",
      "2024-07-12 18:04:09.244 (   0.001s) [           160AD]      netinterfaces.cpp:91    INFO| netif 'utun0' (status: 1, multicast: 32768, broadcast: 0)\n",
      "2024-07-12 18:04:09.244 (   0.001s) [           160AD]      netinterfaces.cpp:91    INFO| netif 'utun0' (status: 1, multicast: 32768, broadcast: 0)\n",
      "2024-07-12 18:04:09.245 (   0.001s) [           160AD]      netinterfaces.cpp:105   INFO| \tIPv6 addr: fe80::cdf7:9bc3:de24:47f9%utun0\n",
      "2024-07-12 18:04:09.245 (   0.001s) [           160AD]      netinterfaces.cpp:91    INFO| netif 'utun1' (status: 1, multicast: 32768, broadcast: 0)\n",
      "2024-07-12 18:04:09.245 (   0.001s) [           160AD]      netinterfaces.cpp:91    INFO| netif 'utun1' (status: 1, multicast: 32768, broadcast: 0)\n",
      "2024-07-12 18:04:09.245 (   0.001s) [           160AD]      netinterfaces.cpp:105   INFO| \tIPv6 addr: fe80::2bb:addc:4ab9:ed35%utun1\n",
      "2024-07-12 18:04:09.245 (   0.001s) [           160AD]      netinterfaces.cpp:91    INFO| netif 'utun2' (status: 1, multicast: 32768, broadcast: 0)\n",
      "2024-07-12 18:04:09.245 (   0.001s) [           160AD]      netinterfaces.cpp:91    INFO| netif 'utun2' (status: 1, multicast: 32768, broadcast: 0)\n",
      "2024-07-12 18:04:09.245 (   0.001s) [           160AD]      netinterfaces.cpp:105   INFO| \tIPv6 addr: fe80::f8c9:e408:a358:fe0c%utun2\n",
      "2024-07-12 18:04:09.245 (   0.001s) [           160AD]      netinterfaces.cpp:91    INFO| netif 'utun3' (status: 1, multicast: 32768, broadcast: 0)\n",
      "2024-07-12 18:04:09.245 (   0.001s) [           160AD]      netinterfaces.cpp:91    INFO| netif 'utun3' (status: 1, multicast: 32768, broadcast: 0)\n",
      "2024-07-12 18:04:09.245 (   0.001s) [           160AD]      netinterfaces.cpp:105   INFO| \tIPv6 addr: fe80::ce81:b1c:bd2c:69e%utun3\n",
      "2024-07-12 18:04:09.245 (   0.001s) [           160AD]         api_config.cpp:270   INFO| Loaded default config\n",
      "2024-07-12 18:04:09.245 (   0.002s) [           160AD]             common.cpp:65    INFO| git:v1.16.2/branch:master/build:Release/compiler:AppleClang-14.0.3.14030022/link:SHARED\n",
      "2024-07-12 18:04:09.246 (   0.003s) [           160AD]         udp_server.cpp:82    WARN| Could not bind multicast responder for ff02:113d:6fdd:2c17:a643:ffe2:1bd1:3cd2 to interface ::1 (Can't assign requested address)\n",
      "2024-07-12 18:04:09.246 (   0.003s) [           160AD]         udp_server.cpp:82    WARN| Could not bind multicast responder for ff02:113d:6fdd:2c17:a643:ffe2:1bd1:3cd2 to interface 2003:cb:7734:5601:481:2d5f:c8e3:5729 (Can't assign requested address)\n",
      "2024-07-12 18:04:09.246 (   0.003s) [           160AD]         udp_server.cpp:82    WARN| Could not bind multicast responder for ff02:113d:6fdd:2c17:a643:ffe2:1bd1:3cd2 to interface 2003:cb:7734:5601:957c:c745:3ae0:6250 (Can't assign requested address)\n",
      "2024-07-12 18:04:09.246 (   0.003s) [           160AD]         udp_server.cpp:82    WARN| Could not bind multicast responder for ff05:113d:6fdd:2c17:a643:ffe2:1bd1:3cd2 to interface fe80::14c1:ab89:8f8:a7e%en0 (Address already in use)\n",
      "2024-07-12 18:04:09.246 (   0.003s) [           160AD]         udp_server.cpp:82    WARN| Could not bind multicast responder for ff05:113d:6fdd:2c17:a643:ffe2:1bd1:3cd2 to interface 192.168.1.103 (Address already in use)\n",
      "2024-07-12 18:04:09.246 (   0.003s) [           160AD]         udp_server.cpp:82    WARN| Could not bind multicast responder for ff05:113d:6fdd:2c17:a643:ffe2:1bd1:3cd2 to interface 2003:cb:7734:5601:481:2d5f:c8e3:5729 (Address already in use)\n",
      "2024-07-12 18:04:09.246 (   0.003s) [           160AD]         udp_server.cpp:82    WARN| Could not bind multicast responder for ff05:113d:6fdd:2c17:a643:ffe2:1bd1:3cd2 to interface 2003:cb:7734:5601:957c:c745:3ae0:6250 (Address already in use)\n",
      "INFO:root:AI stream created.\n"
     ]
    },
    {
     "name": "stderr",
     "output_type": "stream",
     "text": [
      "INFO:root:Looking for a Participant stream...\n"
     ]
    }
   ],
   "source": [
    "# sys.path.append('rl/')\n",
    "# print(sys.path) \n",
    "\n",
    "import rl.utils\n",
    "from rl.utils import *"
   ]
  },
  {
   "cell_type": "code",
   "execution_count": null,
   "metadata": {},
   "outputs": [
    {
     "name": "stdout",
     "output_type": "stream",
     "text": [
      "['/Users/schnuckiputz/other/git/2022-CHI-neuroadaptive-haptics/neuro_haptics/aleks', '/opt/homebrew/Caskroom/miniforge/base/lib/python39.zip', '/opt/homebrew/Caskroom/miniforge/base/lib/python3.9', '/opt/homebrew/Caskroom/miniforge/base/lib/python3.9/lib-dynload', '', '/opt/homebrew/Caskroom/miniforge/base/lib/python3.9/site-packages', '/Users/schnuckiputz/other/code/brain-course-drl-project/gym-grid', '/Users/schnuckiputz/other/git/sam-hq', 'rl/']\n"
     ]
    }
   ],
   "source": [
    "print(sys.path) "
   ]
  },
  {
   "cell_type": "code",
   "execution_count": null,
   "metadata": {},
   "outputs": [],
   "source": [
    "import pandas as pd"
   ]
  },
  {
   "cell_type": "code",
   "execution_count": null,
   "metadata": {},
   "outputs": [
    {
     "name": "stderr",
     "output_type": "stream",
     "text": [
      "100%|██████████| 200/200 [00:15<00:00, 12.63it/s]\n",
      "100%|██████████| 200/200 [00:06<00:00, 28.73it/s]\n",
      "100%|██████████| 200/200 [00:21<00:00,  9.40it/s]\n",
      "  0%|          | 0/200 [00:00<?, ?it/s]/Users/schnuckiputz/other/git/2022-CHI-neuroadaptive-haptics/neuro_haptics/aleks/rl/ucbq_agent.py:77: RuntimeWarning: invalid value encountered in sqrt\n",
      "  self.Q[state] + self.ucb_c * np.sqrt(np.divide(np.log(self.t), self.N[state], where=self.N[state]!=0)))\n",
      "100%|██████████| 200/200 [00:16<00:00, 12.48it/s]\n"
     ]
    },
    {
     "data": {
      "text/plain": [
       "<matplotlib.axes._subplots.AxesSubplot at 0x14ea9ef70>"
      ]
     },
     "execution_count": 18,
     "metadata": {},
     "output_type": "execute_result"
    },
    {
     "data": {
      "image/png": "[encoded data removed]",
      "text/plain": [
       "<Figure size 432x288 with 1 Axes>"
      ]
     },
     "metadata": {
      "needs_background": "light"
     },
     "output_type": "display_data"
    }
   ],
   "source": [
    "# UCBQ vanilla\n",
    "\n",
    "rewards = []\n",
    "\n",
    "params_new = {\n",
    "    # Runner parameters\n",
    "    'max_steps': 1000,\n",
    "    'num_episodes': 200,\n",
    "    'convergence_count_start': 1000,\n",
    "    'epsilon': 0,\n",
    "    'gamma': 1\n",
    "    }\n",
    "\n",
    "params = default_params() | params_new\n",
    "\n",
    "from ucbq_agent_stateless_validation import UCBQAgent\n",
    "\n",
    "params['agent'] = UCBQAgent\n",
    "q_values_all_experiments, rewards_all_experiments, episode_lengths, selected_actions, accuracy, last_reward_processor = qLearningExperiment(params=params)\n",
    "rewards.append(rewards_all_experiments)\n",
    "\n",
    "# Apply get_mean_rewards_across_episodes to each element in rewards\n",
    "mean_rewards = [[get_mean_rewards_across_episodes(rewards_all_experiments) for rewards_all_experiments in rewards]]\n",
    "\n",
    "\n",
    "\n",
    "# E-Greedy\n",
    "\n",
    "rewards = []\n",
    "\n",
    "params_new = {\n",
    "    # 'epsilon': 0.01\n",
    "    'epsilon': 0.1\n",
    "    }\n",
    "\n",
    "params = params | params_new\n",
    "\n",
    "from e_greedy_agent import EGreedyAgent\n",
    "\n",
    "params['agent'] = EGreedyAgent\n",
    "q_values_all_experiments, rewards_all_experiments, episode_lengths, selected_actions, accuracy, last_reward_processor = qLearningExperiment(params=params)\n",
    "rewards.append(rewards_all_experiments)\n",
    "\n",
    "mean_rewards.append([get_mean_rewards_across_episodes(rewards_all_experiments) for rewards_all_experiments in rewards])\n",
    "\n",
    "\n",
    "\n",
    "# Policy Gradient\n",
    "\n",
    "rewards = []\n",
    "\n",
    "from policy_gradient_agent import PolicyGradientAgent\n",
    "\n",
    "params['agent'] = PolicyGradientAgent\n",
    "q_values_all_experiments, rewards_all_experiments, episode_lengths, selected_actions, accuracy, last_reward_processor = qLearningExperiment(params=params)\n",
    "rewards.append(rewards_all_experiments)\n",
    "\n",
    "mean_rewards.append([get_mean_rewards_across_episodes(rewards_all_experiments) for rewards_all_experiments in rewards])\n",
    "\n",
    "\n",
    "df_mean_rewards = pd.DataFrame(mean_rewards[0]).T\n",
    "df_mean_rewards[1] = pd.DataFrame(mean_rewards[1]).T\n",
    "df_mean_rewards[2] = pd.DataFrame(mean_rewards[2]).T\n",
    "\n",
    "\n",
    "\n",
    "# # UCBQ final\n",
    "\n",
    "# rewards = []\n",
    "\n",
    "# params_new = {\n",
    "#     # Runner parameters\n",
    "#     'max_steps': 1000,\n",
    "#     'num_episodes': 200,\n",
    "#     'convergence_count_start': 1000,\n",
    "#     }\n",
    "\n",
    "# params = default_params() | params_new\n",
    "\n",
    "# from ucbq_agent_stateless import UCBQAgent\n",
    "\n",
    "# params['agent'] = UCBQAgent\n",
    "# q_values_all_experiments, rewards_all_experiments, episode_lengths, selected_actions, accuracy, last_reward_processor = qLearningExperiment(params=params)\n",
    "# rewards.append(rewards_all_experiments)\n",
    "\n",
    "# mean_rewards.append([get_mean_rewards_across_episodes(rewards_all_experiments) for rewards_all_experiments in rewards])\n",
    "\n",
    "# df_mean_rewards[3] = pd.DataFrame(mean_rewards[3]).T\n",
    "\n",
    "\n",
    "df_mean_rewards.columns = ['UCBQ', 'E-Greedy', 'Policy Gradient']\n",
    "\n",
    "df_mean_rewards.plot(legend=True)"
   ]
  },
  {
   "cell_type": "code",
   "execution_count": null,
   "metadata": {},
   "outputs": [
    {
     "data": {
      "text/html": [
       "<div>\n",
       "<style scoped>\n",
       "    .dataframe tbody tr th:only-of-type {\n",
       "        vertical-align: middle;\n",
       "    }\n",
       "\n",
       "    .dataframe tbody tr th {\n",
       "        vertical-align: top;\n",
       "    }\n",
       "\n",
       "    .dataframe thead th {\n",
       "        text-align: right;\n",
       "    }\n",
       "</style>\n",
       "<table border=\"1\" class=\"dataframe\">\n",
       "  <thead>\n",
       "    <tr style=\"text-align: right;\">\n",
       "      <th></th>\n",
       "      <th>UCBQ</th>\n",
       "      <th>E-Greedy</th>\n",
       "      <th>Policy Gradient</th>\n",
       "    </tr>\n",
       "  </thead>\n",
       "  <tbody>\n",
       "    <tr>\n",
       "      <th>0</th>\n",
       "      <td>-2.365000</td>\n",
       "      <td>-2.055000</td>\n",
       "      <td>-1.030000</td>\n",
       "    </tr>\n",
       "    <tr>\n",
       "      <th>1</th>\n",
       "      <td>-2.355000</td>\n",
       "      <td>-2.142500</td>\n",
       "      <td>-0.655000</td>\n",
       "    </tr>\n",
       "    <tr>\n",
       "      <th>2</th>\n",
       "      <td>-2.323333</td>\n",
       "      <td>-2.146667</td>\n",
       "      <td>-0.526667</td>\n",
       "    </tr>\n",
       "    <tr>\n",
       "      <th>3</th>\n",
       "      <td>-2.318750</td>\n",
       "      <td>-2.118750</td>\n",
       "      <td>-0.516250</td>\n",
       "    </tr>\n",
       "    <tr>\n",
       "      <th>4</th>\n",
       "      <td>-2.344000</td>\n",
       "      <td>-2.094000</td>\n",
       "      <td>-0.577000</td>\n",
       "    </tr>\n",
       "    <tr>\n",
       "      <th>...</th>\n",
       "      <td>...</td>\n",
       "      <td>...</td>\n",
       "      <td>...</td>\n",
       "    </tr>\n",
       "    <tr>\n",
       "      <th>995</th>\n",
       "      <td>-0.565567</td>\n",
       "      <td>-0.595301</td>\n",
       "      <td>-0.704794</td>\n",
       "    </tr>\n",
       "    <tr>\n",
       "      <th>996</th>\n",
       "      <td>-0.565491</td>\n",
       "      <td>-0.595401</td>\n",
       "      <td>-0.704895</td>\n",
       "    </tr>\n",
       "    <tr>\n",
       "      <th>997</th>\n",
       "      <td>-0.565521</td>\n",
       "      <td>-0.595431</td>\n",
       "      <td>-0.704860</td>\n",
       "    </tr>\n",
       "    <tr>\n",
       "      <th>998</th>\n",
       "      <td>-0.565501</td>\n",
       "      <td>-0.595495</td>\n",
       "      <td>-0.704810</td>\n",
       "    </tr>\n",
       "    <tr>\n",
       "      <th>999</th>\n",
       "      <td>-0.565440</td>\n",
       "      <td>-0.595505</td>\n",
       "      <td>-0.704810</td>\n",
       "    </tr>\n",
       "  </tbody>\n",
       "</table>\n",
       "<p>1000 rows × 3 columns</p>\n",
       "</div>"
      ],
      "text/plain": [
       "         UCBQ  E-Greedy  Policy Gradient\n",
       "0   -2.365000 -2.055000        -1.030000\n",
       "1   -2.355000 -2.142500        -0.655000\n",
       "2   -2.323333 -2.146667        -0.526667\n",
       "3   -2.318750 -2.118750        -0.516250\n",
       "4   -2.344000 -2.094000        -0.577000\n",
       "..        ...       ...              ...\n",
       "995 -0.565567 -0.595301        -0.704794\n",
       "996 -0.565491 -0.595401        -0.704895\n",
       "997 -0.565521 -0.595431        -0.704860\n",
       "998 -0.565501 -0.595495        -0.704810\n",
       "999 -0.565440 -0.595505        -0.704810\n",
       "\n",
       "[1000 rows x 3 columns]"
      ]
     },
     "execution_count": 6,
     "metadata": {},
     "output_type": "execute_result"
    }
   ],
   "source": [
    "df_mean_rewards"
   ]
  },
  {
   "cell_type": "code",
   "execution_count": null,
   "metadata": {},
   "outputs": [
    {
     "name": "stdout",
     "output_type": "stream",
     "text": [
      "Total rewards:\n"
     ]
    },
    {
     "ename": "AttributeError",
     "evalue": "type object 'PolicyGradientAgent' has no attribute 'rewards'",
     "output_type": "error",
     "traceback": [
      "\u001b[0;31m---------------------------------------------------------------------------\u001b[0m",
      "\u001b[0;31mAttributeError\u001b[0m                            Traceback (most recent call last)",
      "Input \u001b[0;32mIn [7]\u001b[0m, in \u001b[0;36m<module>\u001b[0;34m\u001b[0m\n\u001b[0;32m----> 1\u001b[0m \u001b[43mprint_agent_stats\u001b[49m\u001b[43m(\u001b[49m\u001b[43mparams\u001b[49m\u001b[43m[\u001b[49m\u001b[38;5;124;43m'\u001b[39;49m\u001b[38;5;124;43magent\u001b[39;49m\u001b[38;5;124;43m'\u001b[39;49m\u001b[43m]\u001b[49m\u001b[43m \u001b[49m\u001b[43m)\u001b[49m\n",
      "File \u001b[0;32m~/other/git/2022-CHI-neuroadaptive-haptics/neuro_haptics/aleks/rl/utils.py:35\u001b[0m, in \u001b[0;36mprint_agent_stats\u001b[0;34m(agent)\u001b[0m\n\u001b[1;32m     33\u001b[0m \u001b[38;5;28;01mdef\u001b[39;00m \u001b[38;5;21mprint_agent_stats\u001b[39m(agent):\n\u001b[1;32m     34\u001b[0m     \u001b[38;5;28mprint\u001b[39m(\u001b[38;5;124m'\u001b[39m\u001b[38;5;124mTotal rewards:\u001b[39m\u001b[38;5;124m'\u001b[39m)\n\u001b[0;32m---> 35\u001b[0m     \u001b[38;5;28mprint\u001b[39m(\u001b[38;5;28msum\u001b[39m(\u001b[38;5;28msum\u001b[39m(\u001b[43magent\u001b[49m\u001b[38;5;241;43m.\u001b[39;49m\u001b[43mrewards\u001b[49m\u001b[38;5;241m.\u001b[39mvalues(), [])))\n\u001b[1;32m     36\u001b[0m     \u001b[38;5;28mprint\u001b[39m(\u001b[38;5;124mf\u001b[39m\u001b[38;5;124m'\u001b[39m\u001b[38;5;124mQ-table:\u001b[39m\u001b[38;5;124m'\u001b[39m)\n\u001b[1;32m     37\u001b[0m     \u001b[38;5;28mprint\u001b[39m(\u001b[38;5;124mf\u001b[39m\u001b[38;5;124m'\u001b[39m\u001b[38;5;132;01m{\u001b[39;00mnp\u001b[38;5;241m.\u001b[39maround(agent\u001b[38;5;241m.\u001b[39mQ, decimals\u001b[38;5;241m=\u001b[39m\u001b[38;5;241m4\u001b[39m)\u001b[38;5;132;01m}\u001b[39;00m\u001b[38;5;124m'\u001b[39m)\n",
      "\u001b[0;31mAttributeError\u001b[0m: type object 'PolicyGradientAgent' has no attribute 'rewards'"
     ]
    }
   ],
   "source": [
    "print_agent_stats(params['agent'] )"
   ]
  }
 ],
 "metadata": {
  "language_info": {
   "name": "python"
  }
 },
 "nbformat": 4,
 "nbformat_minor": 2
}
