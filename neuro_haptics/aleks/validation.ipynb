{
 "cells": [
  {
   "cell_type": "code",
   "execution_count": 1,
   "metadata": {},
   "outputs": [
    {
     "name": "stdout",
     "output_type": "stream",
     "text": [
      "/Users/schnuckiputz/other/git/2022-CHI-neuroadaptive-haptics/neuro_haptics/aleks\n"
     ]
    }
   ],
   "source": [
    "import sys\n",
    "\n",
    "import os\n",
    "print(os.getcwd())"
   ]
  },
  {
   "cell_type": "code",
   "execution_count": 2,
   "metadata": {},
   "outputs": [
    {
     "name": "stdout",
     "output_type": "stream",
     "text": [
      "['/Users/schnuckiputz/other/git/2022-CHI-neuroadaptive-haptics/neuro_haptics/aleks', '/opt/homebrew/Caskroom/miniforge/base/lib/python39.zip', '/opt/homebrew/Caskroom/miniforge/base/lib/python3.9', '/opt/homebrew/Caskroom/miniforge/base/lib/python3.9/lib-dynload', '', '/opt/homebrew/Caskroom/miniforge/base/lib/python3.9/site-packages', '/Users/schnuckiputz/other/code/brain-course-drl-project/gym-grid', '/Users/schnuckiputz/other/git/sam-hq', 'rl/']\n"
     ]
    }
   ],
   "source": [
    "sys.path.append('rl/')\n",
    "print(sys.path) \n",
    "\n",
    "import utils\n",
    "from utils import *"
   ]
  },
  {
   "cell_type": "code",
   "execution_count": 3,
   "metadata": {},
   "outputs": [
    {
     "name": "stdout",
     "output_type": "stream",
     "text": [
      "['/Users/schnuckiputz/other/git/2022-CHI-neuroadaptive-haptics/neuro_haptics/aleks', '/opt/homebrew/Caskroom/miniforge/base/lib/python39.zip', '/opt/homebrew/Caskroom/miniforge/base/lib/python3.9', '/opt/homebrew/Caskroom/miniforge/base/lib/python3.9/lib-dynload', '', '/opt/homebrew/Caskroom/miniforge/base/lib/python3.9/site-packages', '/Users/schnuckiputz/other/code/brain-course-drl-project/gym-grid', '/Users/schnuckiputz/other/git/sam-hq', 'rl/']\n"
     ]
    }
   ],
   "source": [
    "print(sys.path) "
   ]
  },
  {
   "cell_type": "code",
   "execution_count": 4,
   "metadata": {},
   "outputs": [],
   "source": [
    "import pandas as pd"
   ]
  },
  {
   "cell_type": "code",
   "execution_count": 17,
   "metadata": {},
   "outputs": [
    {
     "name": "stderr",
     "output_type": "stream",
     "text": [
      "100%|██████████| 20/20 [00:10<00:00,  1.97it/s]\n",
      "100%|██████████| 20/20 [00:14<00:00,  1.37it/s]\n"
     ]
    },
    {
     "data": {
      "text/plain": [
       "<matplotlib.axes._subplots.AxesSubplot at 0x14b3e7b80>"
      ]
     },
     "execution_count": 17,
     "metadata": {},
     "output_type": "execute_result"
    },
    {
     "data": {
      "image/png": "[encoded data removed]",
      "text/plain": [
       "<Figure size 432x288 with 1 Axes>"
      ]
     },
     "metadata": {
      "needs_background": "light"
     },
     "output_type": "display_data"
    }
   ],
   "source": [
    "rewards = []\n",
    "\n",
    "params_new = {\n",
    "    # Runner parameters\n",
    "    'max_steps': 5000,\n",
    "    'num_episodes': 20,\n",
    "    'convergence_count_start': 5000,\n",
    "    'epsilon': 0\n",
    "    }\n",
    "\n",
    "params = default_params() | params_new\n",
    "\n",
    "from ucbq_agent_stateless import UCBQAgent\n",
    "\n",
    "# params['surrogate'] = True\n",
    "params['agent'] = UCBQAgent\n",
    "q_values_all_experiments, rewards_all_experiments, episode_lengths, selected_actions, accuracy, last_reward_processor = qLearningExperiment(params=params)\n",
    "rewards.append(rewards_all_experiments)\n",
    "\n",
    "# Apply get_mean_rewards_across_episodes to each element in rewards\n",
    "mean_rewards = [[get_mean_rewards_across_episodes(rewards_all_experiments) for rewards_all_experiments in rewards]]\n",
    "\n",
    "# pd.DataFrame(mean_rewards).T.plot()\n",
    "\n",
    "rewards = []\n",
    "\n",
    "params_new = {\n",
    "    'epsilon': 0.01\n",
    "    }\n",
    "\n",
    "params = params | params_new\n",
    "\n",
    "from e_greedy_agent import EGreedyAgent\n",
    "\n",
    "# params['surrogate'] = True\n",
    "params['agent'] = EGreedyAgent\n",
    "q_values_all_experiments, rewards_all_experiments, episode_lengths, selected_actions, accuracy, last_reward_processor = qLearningExperiment(params=params)\n",
    "rewards.append(rewards_all_experiments)\n",
    "\n",
    "\n",
    "# Apply get_mean_rewards_across_episodes to each element in rewards\n",
    "mean_rewards.append([get_mean_rewards_across_episodes(rewards_all_experiments) for rewards_all_experiments in rewards])\n",
    "\n",
    "df_mean_rewards = pd.DataFrame(mean_rewards[0]).T\n",
    "df_mean_rewards[1] = pd.DataFrame(mean_rewards[1]).T\n",
    "df_mean_rewards.plot()"
   ]
  },
  {
   "cell_type": "code",
   "execution_count": 6,
   "metadata": {},
   "outputs": [
    {
     "name": "stdout",
     "output_type": "stream",
     "text": [
      "Total rewards:\n"
     ]
    },
    {
     "ename": "AttributeError",
     "evalue": "type object 'EGreedyAgent' has no attribute 'rewards'",
     "output_type": "error",
     "traceback": [
      "\u001b[0;31m---------------------------------------------------------------------------\u001b[0m",
      "\u001b[0;31mAttributeError\u001b[0m                            Traceback (most recent call last)",
      "Input \u001b[0;32mIn [6]\u001b[0m, in \u001b[0;36m<module>\u001b[0;34m\u001b[0m\n\u001b[0;32m----> 1\u001b[0m \u001b[43mprint_agent_stats\u001b[49m\u001b[43m(\u001b[49m\u001b[43mparams\u001b[49m\u001b[43m[\u001b[49m\u001b[38;5;124;43m'\u001b[39;49m\u001b[38;5;124;43magent\u001b[39;49m\u001b[38;5;124;43m'\u001b[39;49m\u001b[43m]\u001b[49m\u001b[43m \u001b[49m\u001b[43m)\u001b[49m\n",
      "File \u001b[0;32m~/other/git/2022-CHI-neuroadaptive-haptics/neuro_haptics/aleks/rl/utils.py:35\u001b[0m, in \u001b[0;36mprint_agent_stats\u001b[0;34m(agent)\u001b[0m\n\u001b[1;32m     33\u001b[0m \u001b[38;5;28;01mdef\u001b[39;00m \u001b[38;5;21mprint_agent_stats\u001b[39m(agent):\n\u001b[1;32m     34\u001b[0m     \u001b[38;5;28mprint\u001b[39m(\u001b[38;5;124m'\u001b[39m\u001b[38;5;124mTotal rewards:\u001b[39m\u001b[38;5;124m'\u001b[39m)\n\u001b[0;32m---> 35\u001b[0m     \u001b[38;5;28mprint\u001b[39m(\u001b[38;5;28msum\u001b[39m(\u001b[38;5;28msum\u001b[39m(\u001b[43magent\u001b[49m\u001b[38;5;241;43m.\u001b[39;49m\u001b[43mrewards\u001b[49m\u001b[38;5;241m.\u001b[39mvalues(), [])))\n\u001b[1;32m     36\u001b[0m     \u001b[38;5;28mprint\u001b[39m(\u001b[38;5;124mf\u001b[39m\u001b[38;5;124m'\u001b[39m\u001b[38;5;124mQ-table:\u001b[39m\u001b[38;5;124m'\u001b[39m)\n\u001b[1;32m     37\u001b[0m     \u001b[38;5;28mprint\u001b[39m(\u001b[38;5;124mf\u001b[39m\u001b[38;5;124m'\u001b[39m\u001b[38;5;132;01m{\u001b[39;00mnp\u001b[38;5;241m.\u001b[39maround(agent\u001b[38;5;241m.\u001b[39mQ, decimals\u001b[38;5;241m=\u001b[39m\u001b[38;5;241m4\u001b[39m)\u001b[38;5;132;01m}\u001b[39;00m\u001b[38;5;124m'\u001b[39m)\n",
      "\u001b[0;31mAttributeError\u001b[0m: type object 'EGreedyAgent' has no attribute 'rewards'"
     ]
    }
   ],
   "source": [
    "print_agent_stats(params['agent'] )"
   ]
  }
 ],
 "metadata": {
  "language_info": {
   "name": "python"
  }
 },
 "nbformat": 4,
 "nbformat_minor": 2
}
