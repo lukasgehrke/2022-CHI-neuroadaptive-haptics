{
 "cells": [
  {
   "cell_type": "code",
   "execution_count": 1,
   "metadata": {},
   "outputs": [
    {
     "name": "stdout",
     "output_type": "stream",
     "text": [
      "/Users/schnuckiputz/other/git/2022-CHI-neuroadaptive-haptics/neuro_haptics/aleks\n"
     ]
    }
   ],
   "source": [
    "import sys\n",
    "\n",
    "import os\n",
    "print(os.getcwd())"
   ]
  },
  {
   "cell_type": "code",
   "execution_count": 2,
   "metadata": {},
   "outputs": [
    {
     "name": "stdout",
     "output_type": "stream",
     "text": [
      "['/Users/schnuckiputz/other/git/2022-CHI-neuroadaptive-haptics/neuro_haptics/aleks', '/opt/homebrew/Caskroom/miniforge/base/lib/python39.zip', '/opt/homebrew/Caskroom/miniforge/base/lib/python3.9', '/opt/homebrew/Caskroom/miniforge/base/lib/python3.9/lib-dynload', '', '/opt/homebrew/Caskroom/miniforge/base/lib/python3.9/site-packages', '/Users/schnuckiputz/other/code/brain-course-drl-project/gym-grid', '/Users/schnuckiputz/other/git/sam-hq', 'rl/']\n"
     ]
    }
   ],
   "source": [
    "sys.path.append('rl/')\n",
    "print(sys.path) \n",
    "\n",
    "import utils\n",
    "from utils import *"
   ]
  },
  {
   "cell_type": "code",
   "execution_count": 3,
   "metadata": {},
   "outputs": [
    {
     "name": "stdout",
     "output_type": "stream",
     "text": [
      "['/Users/schnuckiputz/other/git/2022-CHI-neuroadaptive-haptics/neuro_haptics/aleks', '/opt/homebrew/Caskroom/miniforge/base/lib/python39.zip', '/opt/homebrew/Caskroom/miniforge/base/lib/python3.9', '/opt/homebrew/Caskroom/miniforge/base/lib/python3.9/lib-dynload', '', '/opt/homebrew/Caskroom/miniforge/base/lib/python3.9/site-packages', '/Users/schnuckiputz/other/code/brain-course-drl-project/gym-grid', '/Users/schnuckiputz/other/git/sam-hq', 'rl/']\n"
     ]
    }
   ],
   "source": [
    "print(sys.path) "
   ]
  },
  {
   "cell_type": "code",
   "execution_count": 4,
   "metadata": {},
   "outputs": [],
   "source": [
    "import pandas as pd"
   ]
  },
  {
   "cell_type": "code",
   "execution_count": 5,
   "metadata": {},
   "outputs": [
    {
     "name": "stderr",
     "output_type": "stream",
     "text": [
      "  0%|          | 0/200 [00:00<?, ?it/s]/Users/schnuckiputz/other/git/2022-CHI-neuroadaptive-haptics/neuro_haptics/aleks/rl/ucbq_agent.py:77: RuntimeWarning: invalid value encountered in sqrt\n",
      "  self.Q[state] + self.ucb_c * np.sqrt(np.divide(np.log(self.t), self.N[state], where=self.N[state]!=0)))\n",
      "100%|██████████| 200/200 [00:09<00:00, 21.41it/s]\n",
      "100%|██████████| 200/200 [00:04<00:00, 48.01it/s]\n",
      "100%|██████████| 200/200 [00:12<00:00, 15.76it/s]\n"
     ]
    },
    {
     "data": {
      "text/plain": [
       "<matplotlib.axes._subplots.AxesSubplot at 0x157d95970>"
      ]
     },
     "execution_count": 5,
     "metadata": {},
     "output_type": "execute_result"
    },
    {
     "data": {
      "image/png": "[encoded data removed]",
      "text/plain": [
       "<Figure size 432x288 with 1 Axes>"
      ]
     },
     "metadata": {
      "needs_background": "light"
     },
     "output_type": "display_data"
    }
   ],
   "source": [
    "rewards = []\n",
    "\n",
    "params_new = {\n",
    "    # Runner parameters\n",
    "    'max_steps': 1000,\n",
    "    'num_episodes': 200,\n",
    "    'convergence_count_start': 1000,\n",
    "    'epsilon': 0,\n",
    "    'gamma': 1\n",
    "    }\n",
    "\n",
    "params = default_params() | params_new\n",
    "\n",
    "from ucbq_agent_stateless import UCBQAgent\n",
    "\n",
    "params['agent'] = UCBQAgent\n",
    "q_values_all_experiments, rewards_all_experiments, episode_lengths, selected_actions, accuracy, last_reward_processor = qLearningExperiment(params=params)\n",
    "rewards.append(rewards_all_experiments)\n",
    "\n",
    "# Apply get_mean_rewards_across_episodes to each element in rewards\n",
    "mean_rewards = [[get_mean_rewards_across_episodes(rewards_all_experiments) for rewards_all_experiments in rewards]]\n",
    "\n",
    "# pd.DataFrame(mean_rewards).T.plot()\n",
    "\n",
    "\n",
    "\n",
    "\n",
    "rewards = []\n",
    "\n",
    "params_new = {\n",
    "    'epsilon': 0.01\n",
    "    # 'epsilon': 0.1\n",
    "    }\n",
    "\n",
    "params = params | params_new\n",
    "\n",
    "from e_greedy_agent import EGreedyAgent\n",
    "\n",
    "params['agent'] = EGreedyAgent\n",
    "q_values_all_experiments, rewards_all_experiments, episode_lengths, selected_actions, accuracy, last_reward_processor = qLearningExperiment(params=params)\n",
    "rewards.append(rewards_all_experiments)\n",
    "\n",
    "\n",
    "# Apply get_mean_rewards_across_episodes to each element in rewards\n",
    "mean_rewards.append([get_mean_rewards_across_episodes(rewards_all_experiments) for rewards_all_experiments in rewards])\n",
    "\n",
    "\n",
    "\n",
    "\n",
    "rewards = []\n",
    "\n",
    "# params_new = {\n",
    "#     # 'epsilon': 0.01\n",
    "#     'epsilon': 0.1\n",
    "#     }\n",
    "\n",
    "# params = params | params_new\n",
    "\n",
    "from policy_gradient_agent import PolicyGradientAgent\n",
    "\n",
    "params['agent'] = PolicyGradientAgent\n",
    "q_values_all_experiments, rewards_all_experiments, episode_lengths, selected_actions, accuracy, last_reward_processor = qLearningExperiment(params=params)\n",
    "rewards.append(rewards_all_experiments)\n",
    "\n",
    "\n",
    "# Apply get_mean_rewards_across_episodes to each element in rewards\n",
    "mean_rewards.append([get_mean_rewards_across_episodes(rewards_all_experiments) for rewards_all_experiments in rewards])\n",
    "\n",
    "\n",
    "df_mean_rewards = pd.DataFrame(mean_rewards[0]).T\n",
    "df_mean_rewards[1] = pd.DataFrame(mean_rewards[1]).T\n",
    "df_mean_rewards[2] = pd.DataFrame(mean_rewards[2]).T\n",
    "\n",
    "df_mean_rewards.columns = ['UCBQ', 'E-Greedy', 'Policy Gradient']\n",
    "\n",
    "df_mean_rewards.plot(legend=True)"
   ]
  },
  {
   "cell_type": "code",
   "execution_count": 7,
   "metadata": {},
   "outputs": [
    {
     "data": {
      "text/html": [
       "<div>\n",
       "<style scoped>\n",
       "    .dataframe tbody tr th:only-of-type {\n",
       "        vertical-align: middle;\n",
       "    }\n",
       "\n",
       "    .dataframe tbody tr th {\n",
       "        vertical-align: top;\n",
       "    }\n",
       "\n",
       "    .dataframe thead th {\n",
       "        text-align: right;\n",
       "    }\n",
       "</style>\n",
       "<table border=\"1\" class=\"dataframe\">\n",
       "  <thead>\n",
       "    <tr style=\"text-align: right;\">\n",
       "      <th></th>\n",
       "      <th>UCBQ</th>\n",
       "      <th>E-Greedy</th>\n",
       "      <th>Policy Gradient</th>\n",
       "    </tr>\n",
       "  </thead>\n",
       "  <tbody>\n",
       "    <tr>\n",
       "      <th>0</th>\n",
       "      <td>-2.365000</td>\n",
       "      <td>-2.215000</td>\n",
       "      <td>-1.005000</td>\n",
       "    </tr>\n",
       "    <tr>\n",
       "      <th>1</th>\n",
       "      <td>-2.355000</td>\n",
       "      <td>-2.160000</td>\n",
       "      <td>-0.627500</td>\n",
       "    </tr>\n",
       "    <tr>\n",
       "      <th>2</th>\n",
       "      <td>-2.323333</td>\n",
       "      <td>-2.148333</td>\n",
       "      <td>-0.508333</td>\n",
       "    </tr>\n",
       "    <tr>\n",
       "      <th>3</th>\n",
       "      <td>-2.318750</td>\n",
       "      <td>-2.192500</td>\n",
       "      <td>-0.502500</td>\n",
       "    </tr>\n",
       "    <tr>\n",
       "      <th>4</th>\n",
       "      <td>-2.344000</td>\n",
       "      <td>-2.139000</td>\n",
       "      <td>-0.553000</td>\n",
       "    </tr>\n",
       "    <tr>\n",
       "      <th>...</th>\n",
       "      <td>...</td>\n",
       "      <td>...</td>\n",
       "      <td>...</td>\n",
       "    </tr>\n",
       "    <tr>\n",
       "      <th>995</th>\n",
       "      <td>-0.565567</td>\n",
       "      <td>-0.574729</td>\n",
       "      <td>-0.705873</td>\n",
       "    </tr>\n",
       "    <tr>\n",
       "      <th>996</th>\n",
       "      <td>-0.565491</td>\n",
       "      <td>-0.574764</td>\n",
       "      <td>-0.705878</td>\n",
       "    </tr>\n",
       "    <tr>\n",
       "      <th>997</th>\n",
       "      <td>-0.565521</td>\n",
       "      <td>-0.574775</td>\n",
       "      <td>-0.705932</td>\n",
       "    </tr>\n",
       "    <tr>\n",
       "      <th>998</th>\n",
       "      <td>-0.565501</td>\n",
       "      <td>-0.574795</td>\n",
       "      <td>-0.705916</td>\n",
       "    </tr>\n",
       "    <tr>\n",
       "      <th>999</th>\n",
       "      <td>-0.565440</td>\n",
       "      <td>-0.574725</td>\n",
       "      <td>-0.705905</td>\n",
       "    </tr>\n",
       "  </tbody>\n",
       "</table>\n",
       "<p>1000 rows × 3 columns</p>\n",
       "</div>"
      ],
      "text/plain": [
       "         UCBQ  E-Greedy  Policy Gradient\n",
       "0   -2.365000 -2.215000        -1.005000\n",
       "1   -2.355000 -2.160000        -0.627500\n",
       "2   -2.323333 -2.148333        -0.508333\n",
       "3   -2.318750 -2.192500        -0.502500\n",
       "4   -2.344000 -2.139000        -0.553000\n",
       "..        ...       ...              ...\n",
       "995 -0.565567 -0.574729        -0.705873\n",
       "996 -0.565491 -0.574764        -0.705878\n",
       "997 -0.565521 -0.574775        -0.705932\n",
       "998 -0.565501 -0.574795        -0.705916\n",
       "999 -0.565440 -0.574725        -0.705905\n",
       "\n",
       "[1000 rows x 3 columns]"
      ]
     },
     "execution_count": 7,
     "metadata": {},
     "output_type": "execute_result"
    }
   ],
   "source": [
    "df_mean_rewards"
   ]
  },
  {
   "cell_type": "code",
   "execution_count": 6,
   "metadata": {},
   "outputs": [
    {
     "name": "stdout",
     "output_type": "stream",
     "text": [
      "Total rewards:\n"
     ]
    },
    {
     "ename": "AttributeError",
     "evalue": "type object 'PolicyGradientAgent' has no attribute 'rewards'",
     "output_type": "error",
     "traceback": [
      "\u001b[0;31m---------------------------------------------------------------------------\u001b[0m",
      "\u001b[0;31mAttributeError\u001b[0m                            Traceback (most recent call last)",
      "Input \u001b[0;32mIn [6]\u001b[0m, in \u001b[0;36m<module>\u001b[0;34m\u001b[0m\n\u001b[0;32m----> 1\u001b[0m \u001b[43mprint_agent_stats\u001b[49m\u001b[43m(\u001b[49m\u001b[43mparams\u001b[49m\u001b[43m[\u001b[49m\u001b[38;5;124;43m'\u001b[39;49m\u001b[38;5;124;43magent\u001b[39;49m\u001b[38;5;124;43m'\u001b[39;49m\u001b[43m]\u001b[49m\u001b[43m \u001b[49m\u001b[43m)\u001b[49m\n",
      "File \u001b[0;32m~/other/git/2022-CHI-neuroadaptive-haptics/neuro_haptics/aleks/rl/utils.py:35\u001b[0m, in \u001b[0;36mprint_agent_stats\u001b[0;34m(agent)\u001b[0m\n\u001b[1;32m     33\u001b[0m \u001b[38;5;28;01mdef\u001b[39;00m \u001b[38;5;21mprint_agent_stats\u001b[39m(agent):\n\u001b[1;32m     34\u001b[0m     \u001b[38;5;28mprint\u001b[39m(\u001b[38;5;124m'\u001b[39m\u001b[38;5;124mTotal rewards:\u001b[39m\u001b[38;5;124m'\u001b[39m)\n\u001b[0;32m---> 35\u001b[0m     \u001b[38;5;28mprint\u001b[39m(\u001b[38;5;28msum\u001b[39m(\u001b[38;5;28msum\u001b[39m(\u001b[43magent\u001b[49m\u001b[38;5;241;43m.\u001b[39;49m\u001b[43mrewards\u001b[49m\u001b[38;5;241m.\u001b[39mvalues(), [])))\n\u001b[1;32m     36\u001b[0m     \u001b[38;5;28mprint\u001b[39m(\u001b[38;5;124mf\u001b[39m\u001b[38;5;124m'\u001b[39m\u001b[38;5;124mQ-table:\u001b[39m\u001b[38;5;124m'\u001b[39m)\n\u001b[1;32m     37\u001b[0m     \u001b[38;5;28mprint\u001b[39m(\u001b[38;5;124mf\u001b[39m\u001b[38;5;124m'\u001b[39m\u001b[38;5;132;01m{\u001b[39;00mnp\u001b[38;5;241m.\u001b[39maround(agent\u001b[38;5;241m.\u001b[39mQ, decimals\u001b[38;5;241m=\u001b[39m\u001b[38;5;241m4\u001b[39m)\u001b[38;5;132;01m}\u001b[39;00m\u001b[38;5;124m'\u001b[39m)\n",
      "\u001b[0;31mAttributeError\u001b[0m: type object 'PolicyGradientAgent' has no attribute 'rewards'"
     ]
    }
   ],
   "source": [
    "print_agent_stats(params['agent'] )"
   ]
  }
 ],
 "metadata": {
  "language_info": {
   "name": "python"
  }
 },
 "nbformat": 4,
 "nbformat_minor": 2
}
