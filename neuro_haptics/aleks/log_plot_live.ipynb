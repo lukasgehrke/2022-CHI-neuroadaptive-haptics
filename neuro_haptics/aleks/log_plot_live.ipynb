{
 "cells": [
  {
   "cell_type": "code",
   "execution_count": null,
   "metadata": {},
   "outputs": [],
   "source": [
    "# This will start live plotting the newest log file\n",
    "\n",
    "# project_path = r'/Users/schnuckiputz/other/git'\n",
    "\n",
    "import os\n",
    "import glob\n",
    "import time\n",
    "from IPython import display\n",
    "\n",
    "import matplotlib.pyplot as plt\n",
    "import pandas as pd\n",
    "\n",
    "from log_plotting import plot_q_learning\n",
    "\n",
    "\n",
    "current_path = os.getcwd()\n",
    "list_of_files = glob.glob(os.path.join(current_path, 'rl', 'logs', '*'))\n",
    "\n",
    "if list_of_files:\n",
    "    log_filename = max(list_of_files, key=os.path.getctime)\n",
    "else:\n",
    "    raise FileNotFoundError(\"No log files found in the specified directory.\")\n",
    "\n",
    "log_filename = max(list_of_files, key=os.path.getctime)\n",
    "\n",
    "max_steps = 120\n",
    "\n",
    "\n",
    "fig, ax = plt.subplots(figsize=(12, 8))\n",
    "\n",
    "\n",
    "while True:\n",
    "    try:\n",
    "        df = pd.read_csv(log_filename, header=0)\n",
    "    except PermissionError as e:\n",
    "        print(f\"PermissionError: {e}\")\n",
    "        break\n",
    "    \n",
    "    df_plot = df\n",
    "    \n",
    "    # Clear previous axis, otherwise it starts adding new colors\n",
    "    ax.clear()\n",
    "    ax.set_xlim(0, max_steps)\n",
    "    ax.set_ylim(-6, 1.2)\n",
    "    \n",
    "    plot_q_learning(df_plot, fig, ax)\n",
    "    \n",
    "    display.clear_output(wait=True)\n",
    "    display.display(fig)\n",
    "    plt.close(fig)\n",
    "\n",
    "    time.sleep(0.1)\n",
    "\n",
    "    if len(df) >= max_steps:\n",
    "        break\n"
   ]
  }
 ],
 "metadata": {
  "kernelspec": {
   "display_name": "Python 3",
   "language": "python",
   "name": "python3"
  },
  "language_info": {
   "codemirror_mode": {
    "name": "ipython",
    "version": 3
   },
   "file_extension": ".py",
   "mimetype": "text/x-python",
   "name": "python",
   "nbconvert_exporter": "python",
   "pygments_lexer": "ipython3",
   "version": "3.10.11"
  }
 },
 "nbformat": 4,
 "nbformat_minor": 2
}
