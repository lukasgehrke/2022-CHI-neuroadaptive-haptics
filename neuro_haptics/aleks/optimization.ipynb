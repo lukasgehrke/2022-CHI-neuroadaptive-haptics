{
 "cells": [
  {
   "cell_type": "markdown",
   "metadata": {},
   "source": [
    "# Imports"
   ]
  },
  {
   "cell_type": "code",
   "execution_count": 1,
   "metadata": {},
   "outputs": [],
   "source": [
    "import numpy as np"
   ]
  },
  {
   "cell_type": "code",
   "execution_count": 2,
   "metadata": {},
   "outputs": [],
   "source": [
    "from utils import *"
   ]
  },
  {
   "cell_type": "markdown",
   "metadata": {},
   "source": [
    "# Bayesian optimization"
   ]
  },
  {
   "cell_type": "code",
   "execution_count": 3,
   "metadata": {},
   "outputs": [],
   "source": [
    "from bayes_opt import BayesianOptimization"
   ]
  },
  {
   "cell_type": "code",
   "execution_count": 5,
   "metadata": {},
   "outputs": [
    {
     "name": "stdout",
     "output_type": "stream",
     "text": [
      "|   iter    |  target   |   alpha   | alpha_... | alpha_min |  epsilon  | epsilo... | epsilo... |   gamma   | surrog... | surrog... |\n",
      "-------------------------------------------------------------------------------------------------------------------------------------\n"
     ]
    },
    {
     "name": "stderr",
     "output_type": "stream",
     "text": [
      "100%|██████████| 1000/1000 [00:02<00:00, 405.82it/s]\n"
     ]
    },
    {
     "name": "stdout",
     "output_type": "stream",
     "text": [
      "| \u001b[0m1        \u001b[0m | \u001b[0m53.9     \u001b[0m | \u001b[0m0.417    \u001b[0m | \u001b[0m720.6    \u001b[0m | \u001b[0m0.0001144\u001b[0m | \u001b[0m0.3023   \u001b[0m | \u001b[0m147.6    \u001b[0m | \u001b[0m0.09234  \u001b[0m | \u001b[0m0.1863   \u001b[0m | \u001b[0m42.12    \u001b[0m | \u001b[0m48.22    \u001b[0m |\n"
     ]
    },
    {
     "name": "stderr",
     "output_type": "stream",
     "text": [
      "100%|██████████| 1000/1000 [00:02<00:00, 390.57it/s]\n"
     ]
    },
    {
     "name": "stdout",
     "output_type": "stream",
     "text": [
      "| \u001b[95m2        \u001b[0m | \u001b[95m94.8     \u001b[0m | \u001b[95m0.5388   \u001b[0m | \u001b[95m419.8    \u001b[0m | \u001b[95m0.6852   \u001b[0m | \u001b[95m0.2045   \u001b[0m | \u001b[95m878.2    \u001b[0m | \u001b[95m0.02739  \u001b[0m | \u001b[95m0.6705   \u001b[0m | \u001b[95m50.66    \u001b[0m | \u001b[95m67.48    \u001b[0m |\n"
     ]
    },
    {
     "name": "stderr",
     "output_type": "stream",
     "text": [
      "100%|██████████| 1000/1000 [00:02<00:00, 435.13it/s]\n"
     ]
    },
    {
     "name": "stdout",
     "output_type": "stream",
     "text": [
      "| \u001b[95m3        \u001b[0m | \u001b[95m97.9     \u001b[0m | \u001b[95m0.1404   \u001b[0m | \u001b[95m198.9    \u001b[0m | \u001b[95m0.8007   \u001b[0m | \u001b[95m0.9683   \u001b[0m | \u001b[95m314.1    \u001b[0m | \u001b[95m0.6923   \u001b[0m | \u001b[95m0.8764   \u001b[0m | \u001b[95m107.5    \u001b[0m | \u001b[95m11.12    \u001b[0m |\n"
     ]
    },
    {
     "name": "stderr",
     "output_type": "stream",
     "text": [
      "100%|██████████| 1000/1000 [00:02<00:00, 432.56it/s]\n"
     ]
    },
    {
     "name": "stdout",
     "output_type": "stream",
     "text": [
      "| \u001b[0m4        \u001b[0m | \u001b[0m94.4     \u001b[0m | \u001b[0m0.03905  \u001b[0m | \u001b[0m170.7    \u001b[0m | \u001b[0m0.8781   \u001b[0m | \u001b[0m0.09835  \u001b[0m | \u001b[0m421.7    \u001b[0m | \u001b[0m0.9579   \u001b[0m | \u001b[0m0.5332   \u001b[0m | \u001b[0m83.33    \u001b[0m | \u001b[0m38.55    \u001b[0m |\n"
     ]
    },
    {
     "name": "stderr",
     "output_type": "stream",
     "text": [
      "100%|██████████| 1000/1000 [00:02<00:00, 418.58it/s]\n"
     ]
    },
    {
     "name": "stdout",
     "output_type": "stream",
     "text": [
      "| \u001b[0m5        \u001b[0m | \u001b[0m79.8     \u001b[0m | \u001b[0m0.6865   \u001b[0m | \u001b[0m834.8    \u001b[0m | \u001b[0m0.01829  \u001b[0m | \u001b[0m0.7501   \u001b[0m | \u001b[0m988.9    \u001b[0m | \u001b[0m0.7482   \u001b[0m | \u001b[0m0.2804   \u001b[0m | \u001b[0m94.92    \u001b[0m | \u001b[0m13.28    \u001b[0m |\n"
     ]
    },
    {
     "name": "stderr",
     "output_type": "stream",
     "text": [
      "100%|██████████| 1000/1000 [00:03<00:00, 330.56it/s]\n"
     ]
    },
    {
     "name": "stdout",
     "output_type": "stream",
     "text": [
      "| \u001b[0m6        \u001b[0m | \u001b[0m94.2     \u001b[0m | \u001b[0m0.4479   \u001b[0m | \u001b[0m908.7    \u001b[0m | \u001b[0m0.2936   \u001b[0m | \u001b[0m0.2878   \u001b[0m | \u001b[0m130.9    \u001b[0m | \u001b[0m0.01937  \u001b[0m | \u001b[0m0.6788   \u001b[0m | \u001b[0m26.18    \u001b[0m | \u001b[0m32.6     \u001b[0m |\n"
     ]
    },
    {
     "name": "stderr",
     "output_type": "stream",
     "text": [
      "100%|██████████| 1000/1000 [00:02<00:00, 385.48it/s]\n"
     ]
    },
    {
     "name": "stdout",
     "output_type": "stream",
     "text": [
      "| \u001b[0m7        \u001b[0m | \u001b[0m66.8     \u001b[0m | \u001b[0m0.4916   \u001b[0m | \u001b[0m54.31    \u001b[0m | \u001b[0m0.5741   \u001b[0m | \u001b[0m0.1467   \u001b[0m | \u001b[0m589.7    \u001b[0m | \u001b[0m0.6998   \u001b[0m | \u001b[0m0.1023   \u001b[0m | \u001b[0m50.27    \u001b[0m | \u001b[0m83.63    \u001b[0m |\n"
     ]
    },
    {
     "name": "stderr",
     "output_type": "stream",
     "text": [
      "100%|██████████| 1000/1000 [00:02<00:00, 420.89it/s]\n"
     ]
    },
    {
     "name": "stdout",
     "output_type": "stream",
     "text": [
      "| \u001b[0m8        \u001b[0m | \u001b[0m91.3     \u001b[0m | \u001b[0m0.4142   \u001b[0m | \u001b[0m50.9     \u001b[0m | \u001b[0m0.5359   \u001b[0m | \u001b[0m0.6638   \u001b[0m | \u001b[0m515.4    \u001b[0m | \u001b[0m0.9446   \u001b[0m | \u001b[0m0.5866   \u001b[0m | \u001b[0m108.5    \u001b[0m | \u001b[0m17.36    \u001b[0m |\n"
     ]
    },
    {
     "name": "stderr",
     "output_type": "stream",
     "text": [
      "100%|██████████| 1000/1000 [00:02<00:00, 402.65it/s]\n"
     ]
    },
    {
     "name": "stdout",
     "output_type": "stream",
     "text": [
      "| \u001b[95m9        \u001b[0m | \u001b[95m98.7     \u001b[0m | \u001b[95m0.1393   \u001b[0m | \u001b[95m807.6    \u001b[0m | \u001b[95m0.3977   \u001b[0m | \u001b[95m0.1654   \u001b[0m | \u001b[95m927.6    \u001b[0m | \u001b[95m0.3478   \u001b[0m | \u001b[95m0.7508   \u001b[0m | \u001b[95m87.39    \u001b[0m | \u001b[95m106.1    \u001b[0m |\n"
     ]
    },
    {
     "name": "stderr",
     "output_type": "stream",
     "text": [
      "100%|██████████| 1000/1000 [00:02<00:00, 366.78it/s]\n"
     ]
    },
    {
     "name": "stdout",
     "output_type": "stream",
     "text": [
      "| \u001b[0m10       \u001b[0m | \u001b[0m90.6     \u001b[0m | \u001b[0m0.6237   \u001b[0m | \u001b[0m751.2    \u001b[0m | \u001b[0m0.3489   \u001b[0m | \u001b[0m0.2699   \u001b[0m | \u001b[0m896.0    \u001b[0m | \u001b[0m0.4281   \u001b[0m | \u001b[0m0.9648   \u001b[0m | \u001b[0m79.95    \u001b[0m | \u001b[0m74.98    \u001b[0m |\n"
     ]
    },
    {
     "name": "stderr",
     "output_type": "stream",
     "text": [
      "100%|██████████| 1000/1000 [00:04<00:00, 235.53it/s]\n"
     ]
    },
    {
     "name": "stdout",
     "output_type": "stream",
     "text": [
      "| \u001b[0m11       \u001b[0m | \u001b[0m90.4     \u001b[0m | \u001b[0m0.71     \u001b[0m | \u001b[0m914.3    \u001b[0m | \u001b[0m0.3865   \u001b[0m | \u001b[0m0.1424   \u001b[0m | \u001b[0m142.9    \u001b[0m | \u001b[0m0.8806   \u001b[0m | \u001b[0m0.9497   \u001b[0m | \u001b[0m26.9     \u001b[0m | \u001b[0m39.83    \u001b[0m |\n"
     ]
    },
    {
     "name": "stderr",
     "output_type": "stream",
     "text": [
      "100%|██████████| 1000/1000 [00:02<00:00, 440.41it/s]\n"
     ]
    },
    {
     "name": "stdout",
     "output_type": "stream",
     "text": [
      "| \u001b[0m12       \u001b[0m | \u001b[0m92.2     \u001b[0m | \u001b[0m0.3332   \u001b[0m | \u001b[0m123.4    \u001b[0m | \u001b[0m0.7462   \u001b[0m | \u001b[0m1.0      \u001b[0m | \u001b[0m352.9    \u001b[0m | \u001b[0m0.6425   \u001b[0m | \u001b[0m0.8856   \u001b[0m | \u001b[0m120.0    \u001b[0m | \u001b[0m1.0      \u001b[0m |\n"
     ]
    },
    {
     "name": "stderr",
     "output_type": "stream",
     "text": [
      "100%|██████████| 1000/1000 [00:02<00:00, 411.03it/s]\n"
     ]
    },
    {
     "name": "stdout",
     "output_type": "stream",
     "text": [
      "| \u001b[0m13       \u001b[0m | \u001b[0m97.0     \u001b[0m | \u001b[0m0.003837 \u001b[0m | \u001b[0m46.67    \u001b[0m | \u001b[0m0.8343   \u001b[0m | \u001b[0m0.8445   \u001b[0m | \u001b[0m515.6    \u001b[0m | \u001b[0m0.1169   \u001b[0m | \u001b[0m0.7025   \u001b[0m | \u001b[0m104.3    \u001b[0m | \u001b[0m33.85    \u001b[0m |\n"
     ]
    },
    {
     "name": "stderr",
     "output_type": "stream",
     "text": [
      "100%|██████████| 1000/1000 [00:04<00:00, 243.99it/s]\n"
     ]
    },
    {
     "name": "stdout",
     "output_type": "stream",
     "text": [
      "| \u001b[0m14       \u001b[0m | \u001b[0m62.7     \u001b[0m | \u001b[0m0.199    \u001b[0m | \u001b[0m917.7    \u001b[0m | \u001b[0m0.8204   \u001b[0m | \u001b[0m0.5256   \u001b[0m | \u001b[0m130.5    \u001b[0m | \u001b[0m0.9496   \u001b[0m | \u001b[0m0.1252   \u001b[0m | \u001b[0m25.97    \u001b[0m | \u001b[0m24.2     \u001b[0m |\n"
     ]
    },
    {
     "name": "stderr",
     "output_type": "stream",
     "text": [
      "100%|██████████| 1000/1000 [00:02<00:00, 359.02it/s]\n"
     ]
    },
    {
     "name": "stdout",
     "output_type": "stream",
     "text": [
      "| \u001b[0m15       \u001b[0m | \u001b[0m78.8     \u001b[0m | \u001b[0m0.5282   \u001b[0m | \u001b[0m366.1    \u001b[0m | \u001b[0m0.5262   \u001b[0m | \u001b[0m0.4075   \u001b[0m | \u001b[0m595.8    \u001b[0m | \u001b[0m0.1148   \u001b[0m | \u001b[0m0.1729   \u001b[0m | \u001b[0m113.6    \u001b[0m | \u001b[0m90.26    \u001b[0m |\n"
     ]
    },
    {
     "name": "stderr",
     "output_type": "stream",
     "text": [
      "100%|██████████| 1000/1000 [00:03<00:00, 274.45it/s]\n"
     ]
    },
    {
     "name": "stdout",
     "output_type": "stream",
     "text": [
      "| \u001b[0m16       \u001b[0m | \u001b[0m69.1     \u001b[0m | \u001b[0m0.9268   \u001b[0m | \u001b[0m961.4    \u001b[0m | \u001b[0m0.3868   \u001b[0m | \u001b[0m0.7587   \u001b[0m | \u001b[0m319.1    \u001b[0m | \u001b[0m0.8178   \u001b[0m | \u001b[0m0.6782   \u001b[0m | \u001b[0m38.23    \u001b[0m | \u001b[0m23.86    \u001b[0m |\n"
     ]
    },
    {
     "name": "stderr",
     "output_type": "stream",
     "text": [
      "100%|██████████| 1000/1000 [00:02<00:00, 358.92it/s]\n"
     ]
    },
    {
     "name": "stdout",
     "output_type": "stream",
     "text": [
      "| \u001b[0m17       \u001b[0m | \u001b[0m88.3     \u001b[0m | \u001b[0m0.9514   \u001b[0m | \u001b[0m557.6    \u001b[0m | \u001b[0m0.843    \u001b[0m | \u001b[0m0.1727   \u001b[0m | \u001b[0m809.6    \u001b[0m | \u001b[0m0.3424   \u001b[0m | \u001b[0m0.749    \u001b[0m | \u001b[0m100.4    \u001b[0m | \u001b[0m38.56    \u001b[0m |\n"
     ]
    },
    {
     "name": "stderr",
     "output_type": "stream",
     "text": [
      "100%|██████████| 1000/1000 [00:02<00:00, 377.98it/s]\n"
     ]
    },
    {
     "name": "stdout",
     "output_type": "stream",
     "text": [
      "| \u001b[0m18       \u001b[0m | \u001b[0m84.1     \u001b[0m | \u001b[0m0.6104   \u001b[0m | \u001b[0m46.07    \u001b[0m | \u001b[0m0.4362   \u001b[0m | \u001b[0m0.4708   \u001b[0m | \u001b[0m126.7    \u001b[0m | \u001b[0m0.3153   \u001b[0m | \u001b[0m0.2417   \u001b[0m | \u001b[0m101.0    \u001b[0m | \u001b[0m102.4    \u001b[0m |\n"
     ]
    },
    {
     "name": "stderr",
     "output_type": "stream",
     "text": [
      "100%|██████████| 1000/1000 [00:02<00:00, 415.46it/s]\n"
     ]
    },
    {
     "name": "stdout",
     "output_type": "stream",
     "text": [
      "| \u001b[0m19       \u001b[0m | \u001b[0m84.3     \u001b[0m | \u001b[0m0.0288   \u001b[0m | \u001b[0m211.4    \u001b[0m | \u001b[0m0.6858   \u001b[0m | \u001b[0m0.6516   \u001b[0m | \u001b[0m966.8    \u001b[0m | \u001b[0m0.7368   \u001b[0m | \u001b[0m0.1017   \u001b[0m | \u001b[0m111.9    \u001b[0m | \u001b[0m62.34    \u001b[0m |\n"
     ]
    },
    {
     "name": "stderr",
     "output_type": "stream",
     "text": [
      "100%|██████████| 1000/1000 [00:02<00:00, 376.46it/s]"
     ]
    },
    {
     "name": "stdout",
     "output_type": "stream",
     "text": [
      "| \u001b[95m20       \u001b[0m | \u001b[95m99.5     \u001b[0m | \u001b[95m0.1901   \u001b[0m | \u001b[95m348.1    \u001b[0m | \u001b[95m0.9827   \u001b[0m | \u001b[95m0.2892   \u001b[0m | \u001b[95m445.3    \u001b[0m | \u001b[95m0.4279   \u001b[0m | \u001b[95m0.9096   \u001b[0m | \u001b[95m99.68    \u001b[0m | \u001b[95m118.4    \u001b[0m |\n",
      "=====================================================================================================================================\n",
      "{'target': 99.5, 'params': {'alpha': 0.19008773103975352, 'alpha_decay': 348.142389538547, 'alpha_min': 0.9826884932389596, 'epsilon': 0.28921143036114305, 'epsilon_decay': 445.3413704431987, 'epsilon_min': 0.4278782749167904, 'gamma': 0.9096496016555845, 'surrogate_c_interval': 99.68209813989577, 'surrogate_c_interval_min': 118.43171724479832}}\n"
     ]
    },
    {
     "name": "stderr",
     "output_type": "stream",
     "text": [
      "\n"
     ]
    }
   ],
   "source": [
    "def objective(\n",
    "        alpha,\n",
    "        alpha_decay,\n",
    "        alpha_min,\n",
    "        epsilon,\n",
    "        epsilon_decay,\n",
    "        epsilon_min,\n",
    "        gamma,\n",
    "        surrogate_c_interval,\n",
    "        surrogate_c_interval_min,\n",
    "        ):\n",
    "    # # 'surrogate_lr'    \n",
    "    # convergence_number_of_consequent_actions\n",
    "    # intial_q_values: [0, -7]\n",
    "\n",
    "    surrogate_c_interval = int(surrogate_c_interval)\n",
    "    surrogate_c_interval_min = int(surrogate_c_interval_min)\n",
    "\n",
    "    new_params = {\n",
    "        'alpha': alpha, \n",
    "        'alpha_decay': alpha_decay,\n",
    "        'alpha_min': alpha_min,\n",
    "        'epsilon': epsilon, \n",
    "        'epsilon_decay': epsilon_decay,\n",
    "        'epsilon_min': epsilon_min,\n",
    "        'gamma': gamma,\n",
    "        'surrogate_c_interval': surrogate_c_interval,   \n",
    "        'surrogate_c_interval_min': surrogate_c_interval_min,\n",
    "    }\n",
    "\n",
    "    params = {\n",
    "        'max_steps': 75,\n",
    "        'num_episodes': 1000,\n",
    "        'num_actions': 7, \n",
    "        'correct_action': 1,    # Zero indexed \n",
    "        'plots': False,\n",
    "        #\n",
    "        'noise': True,\n",
    "        'surrogate': True,\n",
    "    }    \n",
    "\n",
    "    params = params | new_params\n",
    "    \n",
    "    q_values_all_experiments, rewards_all_experiments, episode_lengths, selected_actions, accuracy, _ = qLearningExperiment(params=params)\n",
    "    \n",
    "\n",
    "\n",
    "    # params['surrogate'] = False\n",
    "    # q_values_all_experiments, rewards_all_experiments, episode_lengths, selected_actions, accuracy_no_surrogate, _ = qLearningExperiment(params=params)\n",
    "\n",
    "\n",
    "    # accuracy = accuracy_surrogate - accuracy_no_surrogate\n",
    "    \n",
    "    # mean_episode_length = np.mean(episode_lengths)\n",
    "    # print(mean_episode_length)\n",
    "    # return -mean_episode_length\n",
    "    return accuracy\n",
    "\n",
    "optimizer = BayesianOptimization(\n",
    "    f=objective,\n",
    "    pbounds={\n",
    "        'alpha': (0, 1), \n",
    "        'alpha_decay': (1, 1000),\n",
    "        'alpha_min': (0, 1),\n",
    "        'epsilon': (0, 1), \n",
    "        'epsilon_decay': (1, 1000),\n",
    "        'epsilon_min': (0, 1),\n",
    "        'gamma': (0, 1),\n",
    "        'surrogate_c_interval': (1, 120),\n",
    "        'surrogate_c_interval_min': (1, 120),\n",
    "        },\n",
    "    random_state=1,\n",
    ")\n",
    "\n",
    "# n_iter: How many steps of bayesian optimization you want to perform. \n",
    "# The more steps the more likely to find a good maximum you are.\n",
    "# init_points: How many steps of random exploration you want to perform.\n",
    "# Random exploration can help by diversifying the exploration space.\n",
    "optimizer.maximize(\n",
    "    init_points=10,\n",
    "    n_iter=10,\n",
    ")\n",
    "\n",
    "best_params = optimizer.max['params']\n",
    "\n",
    "print(optimizer.max)"
   ]
  },
  {
   "cell_type": "markdown",
   "metadata": {},
   "source": [
    "Let's take the best params, but now optimize again for the surrogate interval.\n",
    "In the best parameters it's too high, and not used. Let's see if there's a way\n",
    "we can improve performance by making it smaller."
   ]
  },
  {
   "cell_type": "code",
   "execution_count": 8,
   "metadata": {},
   "outputs": [
    {
     "name": "stdout",
     "output_type": "stream",
     "text": [
      "|   iter    |  target   | surrog... | surrog... |\n",
      "-------------------------------------------------\n"
     ]
    },
    {
     "name": "stderr",
     "output_type": "stream",
     "text": [
      "100%|██████████| 1000/1000 [00:02<00:00, 373.56it/s]\n"
     ]
    },
    {
     "name": "stdout",
     "output_type": "stream",
     "text": [
      "| \u001b[0m1        \u001b[0m | \u001b[0m98.6     \u001b[0m | \u001b[0m50.63    \u001b[0m | \u001b[0m86.72    \u001b[0m |\n"
     ]
    },
    {
     "name": "stderr",
     "output_type": "stream",
     "text": [
      "100%|██████████| 1000/1000 [00:10<00:00, 91.72it/s]\n"
     ]
    },
    {
     "name": "stdout",
     "output_type": "stream",
     "text": [
      "| \u001b[0m2        \u001b[0m | \u001b[0m94.8     \u001b[0m | \u001b[0m1.014    \u001b[0m | \u001b[0m36.98    \u001b[0m |\n"
     ]
    },
    {
     "name": "stderr",
     "output_type": "stream",
     "text": [
      "100%|██████████| 1000/1000 [00:04<00:00, 215.76it/s]\n"
     ]
    },
    {
     "name": "stdout",
     "output_type": "stream",
     "text": [
      "| \u001b[0m3        \u001b[0m | \u001b[0m94.7     \u001b[0m | \u001b[0m18.46    \u001b[0m | \u001b[0m11.99    \u001b[0m |\n"
     ]
    },
    {
     "name": "stderr",
     "output_type": "stream",
     "text": [
      "100%|██████████| 1000/1000 [00:04<00:00, 219.53it/s]\n"
     ]
    },
    {
     "name": "stdout",
     "output_type": "stream",
     "text": [
      "| \u001b[0m4        \u001b[0m | \u001b[0m94.7     \u001b[0m | \u001b[0m23.16    \u001b[0m | \u001b[0m42.12    \u001b[0m |\n"
     ]
    },
    {
     "name": "stderr",
     "output_type": "stream",
     "text": [
      "100%|██████████| 1000/1000 [00:02<00:00, 367.02it/s]\n"
     ]
    },
    {
     "name": "stdout",
     "output_type": "stream",
     "text": [
      "| \u001b[95m5        \u001b[0m | \u001b[95m99.3     \u001b[0m | \u001b[95m48.22    \u001b[0m | \u001b[95m65.12    \u001b[0m |\n"
     ]
    },
    {
     "name": "stderr",
     "output_type": "stream",
     "text": [
      "100%|██████████| 1000/1000 [00:02<00:00, 379.55it/s]\n"
     ]
    },
    {
     "name": "stdout",
     "output_type": "stream",
     "text": [
      "| \u001b[0m6        \u001b[0m | \u001b[0m99.1     \u001b[0m | \u001b[0m50.88    \u001b[0m | \u001b[0m82.54    \u001b[0m |\n"
     ]
    },
    {
     "name": "stderr",
     "output_type": "stream",
     "text": [
      "100%|██████████| 1000/1000 [00:02<00:00, 379.47it/s]\n"
     ]
    },
    {
     "name": "stdout",
     "output_type": "stream",
     "text": [
      "| \u001b[0m7        \u001b[0m | \u001b[0m98.8     \u001b[0m | \u001b[0m25.33    \u001b[0m | \u001b[0m105.5    \u001b[0m |\n"
     ]
    },
    {
     "name": "stderr",
     "output_type": "stream",
     "text": [
      "100%|██████████| 1000/1000 [00:02<00:00, 379.03it/s]\n"
     ]
    },
    {
     "name": "stdout",
     "output_type": "stream",
     "text": [
      "| \u001b[0m8        \u001b[0m | \u001b[0m99.3     \u001b[0m | \u001b[0m4.259    \u001b[0m | \u001b[0m80.79    \u001b[0m |\n"
     ]
    },
    {
     "name": "stderr",
     "output_type": "stream",
     "text": [
      "100%|██████████| 1000/1000 [00:02<00:00, 380.46it/s]\n"
     ]
    },
    {
     "name": "stdout",
     "output_type": "stream",
     "text": [
      "| \u001b[95m9        \u001b[0m | \u001b[95m99.5     \u001b[0m | \u001b[95m50.66    \u001b[0m | \u001b[95m67.48    \u001b[0m |\n"
     ]
    },
    {
     "name": "stderr",
     "output_type": "stream",
     "text": [
      "100%|██████████| 1000/1000 [00:04<00:00, 224.07it/s]\n"
     ]
    },
    {
     "name": "stdout",
     "output_type": "stream",
     "text": [
      "| \u001b[0m10       \u001b[0m | \u001b[0m94.7     \u001b[0m | \u001b[0m17.71    \u001b[0m | \u001b[0m24.57    \u001b[0m |\n"
     ]
    },
    {
     "name": "stderr",
     "output_type": "stream",
     "text": [
      "100%|██████████| 1000/1000 [00:02<00:00, 365.96it/s]\n"
     ]
    },
    {
     "name": "stdout",
     "output_type": "stream",
     "text": [
      "| \u001b[0m11       \u001b[0m | \u001b[0m99.3     \u001b[0m | \u001b[0m105.3    \u001b[0m | \u001b[0m56.73    \u001b[0m |\n"
     ]
    },
    {
     "name": "stderr",
     "output_type": "stream",
     "text": [
      "100%|██████████| 1000/1000 [00:02<00:00, 372.75it/s]\n"
     ]
    },
    {
     "name": "stdout",
     "output_type": "stream",
     "text": [
      "| \u001b[0m12       \u001b[0m | \u001b[0m98.9     \u001b[0m | \u001b[0m120.0    \u001b[0m | \u001b[0m11.28    \u001b[0m |\n"
     ]
    },
    {
     "name": "stderr",
     "output_type": "stream",
     "text": [
      "100%|██████████| 1000/1000 [00:02<00:00, 374.49it/s]\n"
     ]
    },
    {
     "name": "stdout",
     "output_type": "stream",
     "text": [
      "| \u001b[0m13       \u001b[0m | \u001b[0m98.7     \u001b[0m | \u001b[0m120.0    \u001b[0m | \u001b[0m101.3    \u001b[0m |\n"
     ]
    },
    {
     "name": "stderr",
     "output_type": "stream",
     "text": [
      "100%|██████████| 1000/1000 [00:02<00:00, 378.94it/s]\n"
     ]
    },
    {
     "name": "stdout",
     "output_type": "stream",
     "text": [
      "| \u001b[0m14       \u001b[0m | \u001b[0m99.3     \u001b[0m | \u001b[0m1.0      \u001b[0m | \u001b[0m120.0    \u001b[0m |\n"
     ]
    },
    {
     "name": "stderr",
     "output_type": "stream",
     "text": [
      "100%|██████████| 1000/1000 [00:02<00:00, 370.38it/s]\n"
     ]
    },
    {
     "name": "stdout",
     "output_type": "stream",
     "text": [
      "| \u001b[0m15       \u001b[0m | \u001b[0m99.4     \u001b[0m | \u001b[0m84.44    \u001b[0m | \u001b[0m26.12    \u001b[0m |\n"
     ]
    },
    {
     "name": "stderr",
     "output_type": "stream",
     "text": [
      "100%|██████████| 1000/1000 [00:02<00:00, 364.49it/s]\n"
     ]
    },
    {
     "name": "stdout",
     "output_type": "stream",
     "text": [
      "| \u001b[0m16       \u001b[0m | \u001b[0m98.7     \u001b[0m | \u001b[0m90.63    \u001b[0m | \u001b[0m1.13     \u001b[0m |\n"
     ]
    },
    {
     "name": "stderr",
     "output_type": "stream",
     "text": [
      "100%|██████████| 1000/1000 [00:02<00:00, 371.98it/s]\n"
     ]
    },
    {
     "name": "stdout",
     "output_type": "stream",
     "text": [
      "| \u001b[0m17       \u001b[0m | \u001b[0m98.9     \u001b[0m | \u001b[0m83.48    \u001b[0m | \u001b[0m74.11    \u001b[0m |\n"
     ]
    },
    {
     "name": "stderr",
     "output_type": "stream",
     "text": [
      "100%|██████████| 1000/1000 [00:02<00:00, 375.43it/s]\n"
     ]
    },
    {
     "name": "stdout",
     "output_type": "stream",
     "text": [
      "| \u001b[0m18       \u001b[0m | \u001b[0m99.0     \u001b[0m | \u001b[0m93.44    \u001b[0m | \u001b[0m119.8    \u001b[0m |\n"
     ]
    },
    {
     "name": "stderr",
     "output_type": "stream",
     "text": [
      "100%|██████████| 1000/1000 [00:02<00:00, 368.41it/s]\n"
     ]
    },
    {
     "name": "stdout",
     "output_type": "stream",
     "text": [
      "| \u001b[0m19       \u001b[0m | \u001b[0m98.9     \u001b[0m | \u001b[0m120.0    \u001b[0m | \u001b[0m38.39    \u001b[0m |\n"
     ]
    },
    {
     "name": "stderr",
     "output_type": "stream",
     "text": [
      "100%|██████████| 1000/1000 [00:02<00:00, 371.43it/s]"
     ]
    },
    {
     "name": "stdout",
     "output_type": "stream",
     "text": [
      "| \u001b[0m20       \u001b[0m | \u001b[0m98.7     \u001b[0m | \u001b[0m1.0      \u001b[0m | \u001b[0m99.32    \u001b[0m |\n",
      "=================================================\n",
      "{'target': 99.5, 'params': {'surrogate_c_interval': 50.65927148168811, 'surrogate_c_interval_min': 67.48408958504444}}\n"
     ]
    },
    {
     "name": "stderr",
     "output_type": "stream",
     "text": [
      "\n"
     ]
    }
   ],
   "source": [
    "def objective(\n",
    "        # alpha,\n",
    "        # alpha_decay,\n",
    "        # alpha_min,\n",
    "        # epsilon,\n",
    "        # epsilon_decay,\n",
    "        # epsilon_min,\n",
    "        # gamma,\n",
    "        surrogate_c_interval,\n",
    "        surrogate_c_interval_min,\n",
    "        ):\n",
    "    # # 'surrogate_lr'    \n",
    "    # convergence_number_of_consequent_actions\n",
    "    # intial_q_values: [0, -7]\n",
    "\n",
    "    surrogate_c_interval = int(surrogate_c_interval)\n",
    "    surrogate_c_interval_min = int(surrogate_c_interval_min)\n",
    "\n",
    "    new_params = {\n",
    "        # 'alpha': alpha, \n",
    "        # 'alpha_decay': alpha_decay,\n",
    "        # 'alpha_min': alpha_min,\n",
    "        # 'epsilon': epsilon, \n",
    "        # 'epsilon_decay': epsilon_decay,\n",
    "        # 'epsilon_min': epsilon_min,\n",
    "        # 'gamma': gamma,\n",
    "        'surrogate_c_interval': surrogate_c_interval,   \n",
    "        'surrogate_c_interval_min': surrogate_c_interval_min,\n",
    "    }\n",
    "\n",
    "    params = {\n",
    "        'max_steps': 75,\n",
    "        'num_episodes': 1000,\n",
    "        'num_actions': 7, \n",
    "        'correct_action': 1,    # Zero indexed \n",
    "        'plots': False,\n",
    "        #\n",
    "        'noise': True,\n",
    "        'surrogate': True,\n",
    "    }    \n",
    "\n",
    "    params = params | new_params\n",
    "    \n",
    "    res = {'target': 99.5, 'params': {'alpha': 0.19008773103975352, 'alpha_decay': 348.142389538547, 'alpha_min': 0.9826884932389596, 'epsilon': 0.28921143036114305, 'epsilon_decay': 445.3413704431987, 'epsilon_min': 0.4278782749167904, 'gamma': 0.9096496016555845}}\n",
    "    params = params | res['params']\n",
    "\n",
    "    q_values_all_experiments, rewards_all_experiments, episode_lengths, selected_actions, accuracy, _ = qLearningExperiment(params=params)\n",
    "    \n",
    "    return accuracy\n",
    "\n",
    "optimizer = BayesianOptimization(\n",
    "    f=objective,\n",
    "    pbounds={\n",
    "        # 'alpha': (0, 1), \n",
    "        # 'alpha_decay': (1, 1000),\n",
    "        # 'alpha_min': (0, 1),\n",
    "        # 'epsilon': (0, 1), \n",
    "        # 'epsilon_decay': (1, 1000),\n",
    "        # 'epsilon_min': (0, 1),\n",
    "        # 'gamma': (0, 1),\n",
    "        'surrogate_c_interval': (1, 120),\n",
    "        'surrogate_c_interval_min': (1, 120),\n",
    "        },\n",
    "    random_state=1,\n",
    ")\n",
    "\n",
    "optimizer.maximize(\n",
    "    init_points=10,\n",
    "    n_iter=10,\n",
    ")\n",
    "\n",
    "best_params = optimizer.max['params']\n",
    "\n",
    "print(optimizer.max)"
   ]
  },
  {
   "cell_type": "code",
   "execution_count": null,
   "metadata": {},
   "outputs": [],
   "source": [
    "# {'target': 99.5, 'params': {'surrogate_c_interval': 50.65927148168811, 'surrogate_c_interval_min': 67.48408958504444}}\n",
    "# This make sense, because min 70 implies that we collected 10 samples from each action.\n",
    "# However, we got the same 99.5 perofmance with the unusably high surrogate_c_interval values.\n",
    "# Therefore, this hints that with the other parameters, the surrogate parameters\n",
    "# have no effect."
   ]
  },
  {
   "cell_type": "code",
   "execution_count": null,
   "metadata": {},
   "outputs": [],
   "source": [
    "optimized_params = {'alpha': 0.19008773103975352, 'alpha_decay': 348.142389538547, 'alpha_min': 0.9826884932389596, 'epsilon': 0.28921143036114305, 'epsilon_decay': 445.3413704431987, 'epsilon_min': 0.4278782749167904, 'gamma': 0.9096496016555845, 'surrogate_c_interval': 50.65927148168811, 'surrogate_c_interval_min': 67.48408958504444}"
   ]
  },
  {
   "cell_type": "markdown",
   "metadata": {},
   "source": [
    "# Experiment with best values"
   ]
  },
  {
   "cell_type": "code",
   "execution_count": 7,
   "metadata": {},
   "outputs": [
    {
     "name": "stderr",
     "output_type": "stream",
     "text": [
      "100%|██████████| 100/100 [00:00<00:00, 234.04it/s]\n"
     ]
    },
    {
     "name": "stdout",
     "output_type": "stream",
     "text": [
      "Accuracy: 97.0\n",
      "Mean episode length: 110.8\n",
      "Last reward processor:\n",
      "Estimated confusion matrix:\n"
     ]
    },
    {
     "data": {
      "image/png": "[encoded data removed]",
      "text/plain": [
       "<Figure size 432x288 with 1 Axes>"
      ]
     },
     "metadata": {
      "needs_background": "light"
     },
     "output_type": "display_data"
    },
    {
     "name": "stdout",
     "output_type": "stream",
     "text": [
      "Reward sets:\n",
      "(0, 0): [-1, 0, -1, -1, -1, -2, -2, -3, -1, -1]\n",
      "(0, 1): [-2, -1, 0, 0, 0, -1, 0, -1, -1, 0, 0, -1, 0, 0, 0, 0, 0, 0, -1, 0, -1, -1, 0, 0, -1, -1, -1, 0, 0, 0, 0, -2, 0, 0, 0, 0, -1, 0, 0, 0, 0, 0, -1, 0, 0, 0, -2, 0, -1, -1, 0, -2, 0, 0, 0, 0, -1, -1, 0, 0, 0, 0, -1, -1]\n",
      "(0, 2): [-1, -1, -1, -3, -1, 0, -1, -1, -1]\n",
      "(0, 3): [-3, 0, -2, -2]\n",
      "(0, 4): [-1, -3, -1, -3, -4]\n",
      "(0, 5): [-4, -4, -5, -5, -4, -5, -4]\n",
      "(0, 6): [-5, -5, -5, -5, -5]\n",
      "Reward set counts:\n",
      "Key (0, 0): 10 items\n",
      "Key (0, 1): 64 items\n",
      "Key (0, 2): 9 items\n",
      "Key (0, 3): 4 items\n",
      "Key (0, 4): 5 items\n",
      "Key (0, 5): 7 items\n",
      "Key (0, 6): 5 items\n"
     ]
    },
    {
     "data": {
      "image/png": "[encoded data removed]",
      "text/plain": [
       "<Figure size 576x432 with 4 Axes>"
      ]
     },
     "metadata": {
      "needs_background": "light"
     },
     "output_type": "display_data"
    },
    {
     "name": "stderr",
     "output_type": "stream",
     "text": [
      "100%|██████████| 100/100 [00:00<00:00, 129.12it/s]\n"
     ]
    },
    {
     "name": "stdout",
     "output_type": "stream",
     "text": [
      "Accuracy: 95.0\n",
      "Mean episode length: 110.62\n",
      "Last reward processor:\n",
      "Estimated confusion matrix:\n"
     ]
    },
    {
     "data": {
      "image/png": "[encoded data removed]",
      "text/plain": [
       "<Figure size 432x288 with 1 Axes>"
      ]
     },
     "metadata": {
      "needs_background": "light"
     },
     "output_type": "display_data"
    },
    {
     "name": "stdout",
     "output_type": "stream",
     "text": [
      "Reward sets:\n",
      "(0, 0): [-3, -1, -2, 0, -2, -1, -1]\n",
      "(0, 1): [0, 0, 0, 0, 0, -1, 0, 0, -1, 0, 0, 0, 0, 0, -1, -1, 0, -1, 0, 0, -1, 0, 0, 0, -1, 0, 0, -1, -1, 0, 0, -1, 0, -1, 0, 0, 0, 0, -1, -1, 0, 0, 0, 0, 0, 0, 0, 0, 0, 0, -1, 0, 0, 0, -2, -1, -1, 0, 0, 0, -1, -1, -2, 0, -1, 0, -2, 0, 0, -1, 0, -1, 0, 0, 0, 0, 0, 0, 0, -1, 0, 0, 0, -2]\n",
      "(0, 2): [-1, -1, -3, -3, -1, -2, -2, -2]\n",
      "(0, 3): [-3, 0, -1, -2]\n",
      "(0, 4): [-2, -3, -3, -3, -2, -3, -3, -3]\n",
      "(0, 5): [-4, -4, -2, -4]\n",
      "(0, 6): [-5, -5, -4, -4]\n",
      "Reward set counts:\n",
      "Key (0, 0): 7 items\n",
      "Key (0, 1): 84 items\n",
      "Key (0, 2): 8 items\n",
      "Key (0, 3): 4 items\n",
      "Key (0, 4): 8 items\n",
      "Key (0, 5): 4 items\n",
      "Key (0, 6): 4 items\n"
     ]
    },
    {
     "data": {
      "image/png": "[encoded data removed]",
      "text/plain": [
       "<Figure size 576x432 with 4 Axes>"
      ]
     },
     "metadata": {
      "needs_background": "light"
     },
     "output_type": "display_data"
    },
    {
     "data": {
      "text/plain": [
       "array([-5.510213, -2.805889, -5.559342, -6.231755, -6.959181, -7.576304,\n",
       "       -8.208303])"
      ]
     },
     "execution_count": 7,
     "metadata": {},
     "output_type": "execute_result"
    }
   ],
   "source": [
    "# {'target': 99.5, 'params': {'alpha': 0.19008773103975352, 'alpha_decay': 348.142389538547, 'alpha_min': 0.9826884932389596, 'epsilon': 0.28921143036114305, 'epsilon_decay': 445.3413704431987, 'epsilon_min': 0.4278782749167904, 'gamma': 0.9096496016555845, 'surrogate_c_interval': 99.68209813989577, 'surrogate_c_interval_min': 118.43171724479832}}\n",
    "# With old code\n",
    "# res = {'target': 99.42999999999999, 'params': {'alpha': 0.12708682895337786, 'alpha_decay': 538.6199305470005, 'alpha_min': 0.3407139712358348, 'epsilon': 0.35959935166361845, 'epsilon_decay': 71.64649449808573, 'epsilon_min': 0.9868919961750783, 'gamma': 0.904542101158647, 'surrogate_c_interval': 19.20687806175444}}\n",
    "res = {'target': 99.9, 'params': {'alpha': 0.34556072704304774, 'alpha_decay': 397.3707067564393, 'alpha_min': 0.538816734003357, 'epsilon': 0.4191945144032948, 'epsilon_decay': 685.5342808963627, 'epsilon_min': 0.20445224973151743, 'gamma': 0.8781174363909454}}\n",
    "\n",
    "params = default_params() | res['params']\n",
    "\n",
    "# params['']\n",
    "\n",
    "params['plots'] = True\n",
    "params['noise'] = True\n",
    "params['surrogate'] = False\n",
    "plot_mean_q_values(params=params)\n",
    "\n",
    "params['surrogate'] = True\n",
    "plot_mean_q_values(params=params)"
   ]
  }
 ],
 "metadata": {
  "kernelspec": {
   "display_name": "base",
   "language": "python",
   "name": "python3"
  },
  "language_info": {
   "codemirror_mode": {
    "name": "ipython",
    "version": 3
   },
   "file_extension": ".py",
   "mimetype": "text/x-python",
   "name": "python",
   "nbconvert_exporter": "python",
   "pygments_lexer": "ipython3",
   "version": "3.9.7"
  },
  "orig_nbformat": 4
 },
 "nbformat": 4,
 "nbformat_minor": 2
}
