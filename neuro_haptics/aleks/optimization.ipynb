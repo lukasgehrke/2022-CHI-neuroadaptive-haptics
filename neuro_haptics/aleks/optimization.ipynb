{
 "cells": [
  {
   "cell_type": "markdown",
   "metadata": {},
   "source": [
    "# Imports"
   ]
  },
  {
   "cell_type": "code",
   "execution_count": 1,
   "metadata": {},
   "outputs": [],
   "source": [
    "import collections\n",
    "import pandas as pd\n",
    "import argparse\n",
    "import time\n",
    "import numpy as np"
   ]
  },
  {
   "cell_type": "code",
   "execution_count": 2,
   "metadata": {},
   "outputs": [],
   "source": [
    "import noise_estimator"
   ]
  },
  {
   "cell_type": "code",
   "execution_count": 3,
   "metadata": {},
   "outputs": [],
   "source": [
    "from ucbq_agent_stateless import UCBQAgent\n",
    "from ucbq_environment_stateless import ModifiedRandomEnvironment"
   ]
  },
  {
   "cell_type": "code",
   "execution_count": 4,
   "metadata": {},
   "outputs": [],
   "source": [
    "import matplotlib.pyplot as plt\n",
    "from tqdm import tqdm \n",
    "import utils\n",
    "\n",
    "from modified_pendulum_processor import ModifiedPendulumProcessor\n",
    "\n",
    "from utils import *"
   ]
  },
  {
   "cell_type": "markdown",
   "metadata": {},
   "source": [
    "# Params"
   ]
  },
  {
   "cell_type": "code",
   "execution_count": 5,
   "metadata": {},
   "outputs": [],
   "source": [
    "def default_params():\n",
    "    \"\"\" These are the default parameters used in the framework. \"\"\"\n",
    "    return {\n",
    "            # Runner parameterr\n",
    "            'max_steps': 75,\n",
    "            'num_episodes': 10000,\n",
    "            'num_actions': 7, \n",
    "            'start_action': 0, \n",
    "            'correct_action': 1,    # Zero indexed \n",
    "            # Optimization parameters\n",
    "            'alpha': 0.5,                       # learning rate of optimizer\n",
    "            'alpha_decay': 40,\n",
    "            'alpha_min': 0.001,\n",
    "            # Exploration parameters\n",
    "            'epsilon': 1,               # annealing starts at this epsilon\n",
    "            'epsilon_decay': 20,\n",
    "            'epsilon_min': 0.01,    \n",
    "            'gamma': 0.95,                    # discount factor gamma\n",
    "            'plots': False,\n",
    "            'noise': True,\n",
    "            'surrogate': False,\n",
    "            'surrogate_c_interval': 10,\n",
    "            'surrogate_c_interval_min': 30,\n",
    "           }"
   ]
  },
  {
   "cell_type": "markdown",
   "metadata": {},
   "source": [
    "# Bayesian optimization"
   ]
  },
  {
   "cell_type": "code",
   "execution_count": 7,
   "metadata": {},
   "outputs": [],
   "source": [
    "from bayes_opt import BayesianOptimization"
   ]
  },
  {
   "cell_type": "code",
   "execution_count": 8,
   "metadata": {},
   "outputs": [
    {
     "name": "stdout",
     "output_type": "stream",
     "text": [
      "|   iter    |  target   |   alpha   | alpha_... | alpha_min |  epsilon  | epsilo... | epsilo... |   gamma   | surrog... |\n",
      "-------------------------------------------------------------------------------------------------------------------------\n"
     ]
    },
    {
     "name": "stderr",
     "output_type": "stream",
     "text": [
      "100%|██████████| 10000/10000 [00:21<00:00, 475.92it/s]\n"
     ]
    },
    {
     "name": "stdout",
     "output_type": "stream",
     "text": [
      "59.8267\n",
      "| \u001b[0m1        \u001b[0m | \u001b[0m42.21    \u001b[0m | \u001b[0m0.417    \u001b[0m | \u001b[0m720.6    \u001b[0m | \u001b[0m0.0001144\u001b[0m | \u001b[0m0.3023   \u001b[0m | \u001b[0m20.27    \u001b[0m | \u001b[0m0.09234  \u001b[0m | \u001b[0m0.1863   \u001b[0m | \u001b[0m42.12    \u001b[0m |\n"
     ]
    },
    {
     "name": "stderr",
     "output_type": "stream",
     "text": [
      "100%|██████████| 10000/10000 [00:20<00:00, 486.87it/s]\n"
     ]
    },
    {
     "name": "stdout",
     "output_type": "stream",
     "text": [
      "75.0\n",
      "| \u001b[95m2        \u001b[0m | \u001b[95m85.82    \u001b[0m | \u001b[95m0.3968   \u001b[0m | \u001b[95m539.3    \u001b[0m | \u001b[95m0.4192   \u001b[0m | \u001b[95m0.6852   \u001b[0m | \u001b[95m24.31    \u001b[0m | \u001b[95m0.8781   \u001b[0m | \u001b[95m0.02739  \u001b[0m | \u001b[95m80.79    \u001b[0m |\n"
     ]
    },
    {
     "name": "stderr",
     "output_type": "stream",
     "text": [
      "100%|██████████| 10000/10000 [00:24<00:00, 404.97it/s]\n"
     ]
    },
    {
     "name": "stdout",
     "output_type": "stream",
     "text": [
      "70.9682\n",
      "| \u001b[0m3        \u001b[0m | \u001b[0m61.01    \u001b[0m | \u001b[0m0.4173   \u001b[0m | \u001b[0m559.1    \u001b[0m | \u001b[0m0.1404   \u001b[0m | \u001b[0m0.1981   \u001b[0m | \u001b[0m66.05    \u001b[0m | \u001b[0m0.9683   \u001b[0m | \u001b[0m0.3134   \u001b[0m | \u001b[0m83.39    \u001b[0m |\n"
     ]
    },
    {
     "name": "stderr",
     "output_type": "stream",
     "text": [
      "100%|██████████| 10000/10000 [00:21<00:00, 466.38it/s]\n"
     ]
    },
    {
     "name": "stdout",
     "output_type": "stream",
     "text": [
      "59.0942\n",
      "| \u001b[0m4        \u001b[0m | \u001b[0m43.59    \u001b[0m | \u001b[0m0.8764   \u001b[0m | \u001b[0m894.7    \u001b[0m | \u001b[0m0.08504  \u001b[0m | \u001b[0m0.03905  \u001b[0m | \u001b[0m21.89    \u001b[0m | \u001b[0m0.8781   \u001b[0m | \u001b[0m0.09835  \u001b[0m | \u001b[0m51.11    \u001b[0m |\n"
     ]
    },
    {
     "name": "stderr",
     "output_type": "stream",
     "text": [
      "100%|██████████| 10000/10000 [00:24<00:00, 401.34it/s]\n"
     ]
    },
    {
     "name": "stdout",
     "output_type": "stream",
     "text": [
      "74.8108\n",
      "| \u001b[0m5        \u001b[0m | \u001b[0m68.97    \u001b[0m | \u001b[0m0.9579   \u001b[0m | \u001b[0m533.6    \u001b[0m | \u001b[0m0.6919   \u001b[0m | \u001b[0m0.3155   \u001b[0m | \u001b[0m58.06    \u001b[0m | \u001b[0m0.8346   \u001b[0m | \u001b[0m0.01829  \u001b[0m | \u001b[0m90.27    \u001b[0m |\n"
     ]
    },
    {
     "name": "stderr",
     "output_type": "stream",
     "text": [
      "100%|██████████| 10000/10000 [00:23<00:00, 424.12it/s]\n"
     ]
    },
    {
     "name": "stdout",
     "output_type": "stream",
     "text": [
      "74.9386\n",
      "| \u001b[0m6        \u001b[0m | \u001b[0m83.04    \u001b[0m | \u001b[0m0.9889   \u001b[0m | \u001b[0m748.4    \u001b[0m | \u001b[0m0.2804   \u001b[0m | \u001b[0m0.7893   \u001b[0m | \u001b[0m17.23    \u001b[0m | \u001b[0m0.4479   \u001b[0m | \u001b[0m0.9086   \u001b[0m | \u001b[0m35.94    \u001b[0m |\n"
     ]
    },
    {
     "name": "stderr",
     "output_type": "stream",
     "text": [
      "100%|██████████| 10000/10000 [00:23<00:00, 426.35it/s]\n"
     ]
    },
    {
     "name": "stdout",
     "output_type": "stream",
     "text": [
      "72.3092\n",
      "| \u001b[0m7        \u001b[0m | \u001b[0m54.39    \u001b[0m | \u001b[0m0.2878   \u001b[0m | \u001b[0m130.9    \u001b[0m | \u001b[0m0.01937  \u001b[0m | \u001b[0m0.6788   \u001b[0m | \u001b[0m24.81    \u001b[0m | \u001b[0m0.2655   \u001b[0m | \u001b[0m0.4916   \u001b[0m | \u001b[0m7.35     \u001b[0m |\n"
     ]
    },
    {
     "name": "stderr",
     "output_type": "stream",
     "text": [
      "100%|██████████| 10000/10000 [00:22<00:00, 437.98it/s]\n"
     ]
    },
    {
     "name": "stdout",
     "output_type": "stream",
     "text": [
      "74.8515\n",
      "| \u001b[95m8        \u001b[0m | \u001b[95m88.55    \u001b[0m | \u001b[95m0.5741   \u001b[0m | \u001b[95m147.6    \u001b[0m | \u001b[95m0.5893   \u001b[0m | \u001b[95m0.6998   \u001b[0m | \u001b[95m17.16    \u001b[0m | \u001b[95m0.4141   \u001b[0m | \u001b[95m0.6944   \u001b[0m | \u001b[95m50.29    \u001b[0m |\n"
     ]
    },
    {
     "name": "stderr",
     "output_type": "stream",
     "text": [
      "100%|██████████| 10000/10000 [00:21<00:00, 456.91it/s]\n"
     ]
    },
    {
     "name": "stdout",
     "output_type": "stream",
     "text": [
      "74.9997\n",
      "| \u001b[95m9        \u001b[0m | \u001b[95m99.35    \u001b[0m | \u001b[95m0.04995  \u001b[0m | \u001b[95m536.4    \u001b[0m | \u001b[95m0.6638   \u001b[0m | \u001b[95m0.5149   \u001b[0m | \u001b[95m76.12    \u001b[0m | \u001b[95m0.5866   \u001b[0m | \u001b[95m0.9034   \u001b[0m | \u001b[95m17.36    \u001b[0m |\n"
     ]
    },
    {
     "name": "stderr",
     "output_type": "stream",
     "text": [
      "100%|██████████| 10000/10000 [00:22<00:00, 451.47it/s]\n"
     ]
    },
    {
     "name": "stdout",
     "output_type": "stream",
     "text": [
      "68.2493\n",
      "| \u001b[0m10       \u001b[0m | \u001b[0m98.51    \u001b[0m | \u001b[0m0.1393   \u001b[0m | \u001b[0m807.6    \u001b[0m | \u001b[0m0.3977   \u001b[0m | \u001b[0m0.1654   \u001b[0m | \u001b[0m74.93    \u001b[0m | \u001b[0m0.3478   \u001b[0m | \u001b[0m0.7508   \u001b[0m | \u001b[0m87.39    \u001b[0m |\n"
     ]
    },
    {
     "name": "stderr",
     "output_type": "stream",
     "text": [
      "100%|██████████| 10000/10000 [00:20<00:00, 493.26it/s]\n"
     ]
    },
    {
     "name": "stdout",
     "output_type": "stream",
     "text": [
      "75.0\n",
      "| \u001b[0m11       \u001b[0m | \u001b[0m73.37    \u001b[0m | \u001b[0m0.8515   \u001b[0m | \u001b[0m749.5    \u001b[0m | \u001b[0m0.7818   \u001b[0m | \u001b[0m0.8793   \u001b[0m | \u001b[0m18.09    \u001b[0m | \u001b[0m0.9373   \u001b[0m | \u001b[0m0.6949   \u001b[0m | \u001b[0m38.35    \u001b[0m |\n"
     ]
    },
    {
     "name": "stderr",
     "output_type": "stream",
     "text": [
      "100%|██████████| 10000/10000 [00:22<00:00, 451.71it/s]\n"
     ]
    },
    {
     "name": "stdout",
     "output_type": "stream",
     "text": [
      "75.0\n",
      "| \u001b[0m12       \u001b[0m | \u001b[0m0.0      \u001b[0m | \u001b[0m0.0      \u001b[0m | \u001b[0m536.3    \u001b[0m | \u001b[0m0.7094   \u001b[0m | \u001b[0m0.5049   \u001b[0m | \u001b[0m77.23    \u001b[0m | \u001b[0m0.5408   \u001b[0m | \u001b[0m0.9033   \u001b[0m | \u001b[0m10.16    \u001b[0m |\n"
     ]
    },
    {
     "name": "stderr",
     "output_type": "stream",
     "text": [
      "100%|██████████| 10000/10000 [00:22<00:00, 445.96it/s]\n"
     ]
    },
    {
     "name": "stdout",
     "output_type": "stream",
     "text": [
      "74.9965\n",
      "| \u001b[95m13       \u001b[0m | \u001b[95m99.39    \u001b[0m | \u001b[95m0.06732  \u001b[0m | \u001b[95m536.4    \u001b[0m | \u001b[95m0.648    \u001b[0m | \u001b[95m0.5185   \u001b[0m | \u001b[95m75.74    \u001b[0m | \u001b[95m0.6025   \u001b[0m | \u001b[95m0.9035   \u001b[0m | \u001b[95m19.86    \u001b[0m |\n"
     ]
    },
    {
     "name": "stderr",
     "output_type": "stream",
     "text": [
      "100%|██████████| 10000/10000 [00:19<00:00, 502.15it/s]\n"
     ]
    },
    {
     "name": "stdout",
     "output_type": "stream",
     "text": [
      "59.3756\n",
      "| \u001b[0m14       \u001b[0m | \u001b[0m71.3     \u001b[0m | \u001b[0m0.3789   \u001b[0m | \u001b[0m804.6    \u001b[0m | \u001b[0m0.4727   \u001b[0m | \u001b[0m0.4771   \u001b[0m | \u001b[0m71.81    \u001b[0m | \u001b[0m0.08308  \u001b[0m | \u001b[0m0.4731   \u001b[0m | \u001b[0m85.36    \u001b[0m |\n"
     ]
    },
    {
     "name": "stderr",
     "output_type": "stream",
     "text": [
      "100%|██████████| 10000/10000 [00:23<00:00, 419.45it/s]\n"
     ]
    },
    {
     "name": "stdout",
     "output_type": "stream",
     "text": [
      "74.9522\n",
      "| \u001b[0m15       \u001b[0m | \u001b[0m79.36    \u001b[0m | \u001b[0m0.8765   \u001b[0m | \u001b[0m539.6    \u001b[0m | \u001b[0m0.02204  \u001b[0m | \u001b[0m0.4164   \u001b[0m | \u001b[0m75.05    \u001b[0m | \u001b[0m0.4687   \u001b[0m | \u001b[0m0.4963   \u001b[0m | \u001b[0m24.61    \u001b[0m |\n"
     ]
    },
    {
     "name": "stderr",
     "output_type": "stream",
     "text": [
      "100%|██████████| 10000/10000 [00:25<00:00, 397.98it/s]\n"
     ]
    },
    {
     "name": "stdout",
     "output_type": "stream",
     "text": [
      "74.6017\n",
      "| \u001b[0m16       \u001b[0m | \u001b[0m80.41    \u001b[0m | \u001b[0m0.6907   \u001b[0m | \u001b[0m539.9    \u001b[0m | \u001b[0m0.1974   \u001b[0m | \u001b[0m0.3424   \u001b[0m | \u001b[0m79.38    \u001b[0m | \u001b[0m0.3201   \u001b[0m | \u001b[0m0.1761   \u001b[0m | \u001b[0m18.6     \u001b[0m |\n"
     ]
    },
    {
     "name": "stderr",
     "output_type": "stream",
     "text": [
      "100%|██████████| 10000/10000 [00:23<00:00, 423.34it/s]\n"
     ]
    },
    {
     "name": "stdout",
     "output_type": "stream",
     "text": [
      "74.7779\n",
      "| \u001b[95m17       \u001b[0m | \u001b[95m99.43    \u001b[0m | \u001b[95m0.1271   \u001b[0m | \u001b[95m538.6    \u001b[0m | \u001b[95m0.3407   \u001b[0m | \u001b[95m0.3596   \u001b[0m | \u001b[95m71.65    \u001b[0m | \u001b[95m0.9869   \u001b[0m | \u001b[95m0.9045   \u001b[0m | \u001b[95m19.21    \u001b[0m |\n"
     ]
    },
    {
     "name": "stderr",
     "output_type": "stream",
     "text": [
      "100%|██████████| 10000/10000 [00:23<00:00, 433.13it/s]\n"
     ]
    },
    {
     "name": "stdout",
     "output_type": "stream",
     "text": [
      "74.9958\n",
      "| \u001b[0m18       \u001b[0m | \u001b[0m74.56    \u001b[0m | \u001b[0m0.8913   \u001b[0m | \u001b[0m815.7    \u001b[0m | \u001b[0m0.3522   \u001b[0m | \u001b[0m0.6657   \u001b[0m | \u001b[0m75.11    \u001b[0m | \u001b[0m0.5598   \u001b[0m | \u001b[0m0.4603   \u001b[0m | \u001b[0m83.69    \u001b[0m |\n"
     ]
    },
    {
     "name": "stderr",
     "output_type": "stream",
     "text": [
      "100%|██████████| 10000/10000 [00:24<00:00, 403.33it/s]\n"
     ]
    },
    {
     "name": "stdout",
     "output_type": "stream",
     "text": [
      "73.8414\n",
      "| \u001b[0m19       \u001b[0m | \u001b[0m75.87    \u001b[0m | \u001b[0m0.9293   \u001b[0m | \u001b[0m537.3    \u001b[0m | \u001b[0m0.7676   \u001b[0m | \u001b[0m0.4979   \u001b[0m | \u001b[0m68.05    \u001b[0m | \u001b[0m0.2379   \u001b[0m | \u001b[0m0.4111   \u001b[0m | \u001b[0m19.51    \u001b[0m |\n"
     ]
    },
    {
     "name": "stderr",
     "output_type": "stream",
     "text": [
      "100%|██████████| 10000/10000 [00:24<00:00, 415.81it/s]"
     ]
    },
    {
     "name": "stdout",
     "output_type": "stream",
     "text": [
      "74.2036\n",
      "| \u001b[0m20       \u001b[0m | \u001b[0m70.29    \u001b[0m | \u001b[0m0.9958   \u001b[0m | \u001b[0m809.8    \u001b[0m | \u001b[0m0.6558   \u001b[0m | \u001b[0m0.8631   \u001b[0m | \u001b[0m77.32    \u001b[0m | \u001b[0m0.221    \u001b[0m | \u001b[0m0.03326  \u001b[0m | \u001b[0m88.75    \u001b[0m |\n",
      "=========================================================================================================================\n",
      "{'target': 99.42999999999999, 'params': {'alpha': 0.12708682895337786, 'alpha_decay': 538.6199305470005, 'alpha_min': 0.3407139712358348, 'epsilon': 0.35959935166361845, 'epsilon_decay': 71.64649449808573, 'epsilon_min': 0.9868919961750783, 'gamma': 0.904542101158647, 'surrogate_c_interval': 19.20687806175444}}\n"
     ]
    },
    {
     "name": "stderr",
     "output_type": "stream",
     "text": [
      "\n"
     ]
    }
   ],
   "source": [
    "def objective(\n",
    "        alpha,\n",
    "        alpha_decay,\n",
    "        alpha_min,\n",
    "        epsilon,\n",
    "        epsilon_decay,\n",
    "        epsilon_min,\n",
    "        gamma,\n",
    "        surrogate_c_interval,\n",
    "        ):\n",
    "    # # 'surrogate_c_interval': [1, 2, 5, 10, 20, 40]\n",
    "    # # 'surrogate_lr'    \n",
    "    # convergence_number_of_consequent_actions\n",
    "    # intial_q_values: [0, -7]\n",
    "\n",
    "    # surrogate_c_interval = int(surrogate_c_interval)\n",
    "\n",
    "    new_params = {\n",
    "        'alpha': alpha, \n",
    "        'alpha_decay': alpha_decay,\n",
    "        'alpha_min': alpha_min,\n",
    "        'epsilon': epsilon, \n",
    "        'epsilon_decay': epsilon_decay,\n",
    "        'epsilon_min': epsilon_min,\n",
    "        'gamma': gamma,\n",
    "        'surrogate_c_interval': surrogate_c_interval,\n",
    "        #\n",
    "        'noise': True,\n",
    "        'surrogate': True,\n",
    "        # 'diag': 0.9     \n",
    "    }\n",
    "\n",
    "    params = default_params() | new_params\n",
    "\n",
    "    q_values_all_experiments, rewards_all_experiments, episode_lengths, selected_actions, accuracy, _ = qLearningExperiment(params=params)\n",
    "    \n",
    "\n",
    "\n",
    "    # params['surrogate'] = False\n",
    "    # q_values_all_experiments, rewards_all_experiments, episode_lengths, selected_actions, accuracy_no_surrogate, _ = qLearningExperiment(params=params)\n",
    "\n",
    "\n",
    "    # accuracy = accuracy_surrogate - accuracy_no_surrogate\n",
    "    \n",
    "    mean_episode_length = np.mean(episode_lengths)\n",
    "    print(mean_episode_length)\n",
    "    # return -mean_episode_length\n",
    "    return accuracy\n",
    "\n",
    "optimizer = BayesianOptimization(\n",
    "    f=objective,\n",
    "    pbounds={\n",
    "        'alpha': (0, 1), \n",
    "        'alpha_decay': (1, 1000),\n",
    "        'alpha_min': (0, 1),\n",
    "        'epsilon': (0, 1), \n",
    "        'epsilon_decay': (10, 80),\n",
    "        'epsilon_min': (0, 1),\n",
    "        'gamma': (0, 1),\n",
    "        'surrogate_c_interval': (1, 120)\n",
    "        },\n",
    "    random_state=1,\n",
    ")\n",
    "\n",
    "# n_iter: How many steps of bayesian optimization you want to perform. \n",
    "# The more steps the more likely to find a good maximum you are.\n",
    "# init_points: How many steps of random exploration you want to perform.\n",
    "# Random exploration can help by diversifying the exploration space.\n",
    "optimizer.maximize(\n",
    "    init_points=10,\n",
    "    n_iter=10,\n",
    ")\n",
    "\n",
    "best_params = optimizer.max['params']\n",
    "\n",
    "print(optimizer.max)"
   ]
  },
  {
   "cell_type": "code",
   "execution_count": 9,
   "metadata": {},
   "outputs": [
    {
     "name": "stderr",
     "output_type": "stream",
     "text": [
      "100%|██████████| 10000/10000 [00:37<00:00, 266.01it/s]\n"
     ]
    },
    {
     "name": "stdout",
     "output_type": "stream",
     "text": [
      "Accuracy: 76.21\n",
      "Mean episode length: 100.117\n",
      "Last reward processor:\n",
      "Estimated confusion matrix:\n"
     ]
    },
    {
     "data": {
      "image/png": "[encoded data removed]",
      "text/plain": [
       "<Figure size 432x288 with 2 Axes>"
      ]
     },
     "metadata": {
      "needs_background": "light"
     },
     "output_type": "display_data"
    },
    {
     "name": "stdout",
     "output_type": "stream",
     "text": [
      "Reward sets:\n",
      "(0, 0): [-1, 0]\n",
      "(0, 1): [-1, 0, 0, -1, 0, -2, 0, 0, -1, 0, -1, 0, -1, 0, 0, -1, 0, 0, 0, 0, -1, -1, 0, -1, -1, 0, -1, 0, 0, 0, 0, 0, 0, -1, 0, -1, -1, 0, 0, -1, 0, 0, 0, 0, 0, -1, 0, -1, 0, 0, -1]\n",
      "(0, 2): [-2, -1]\n",
      "(0, 3): [-2, -2, -2, -2, -1]\n",
      "(0, 4): [-4, -3, -3, -3]\n",
      "(0, 5): [-4, -4, -4, -4, -4]\n",
      "(0, 6): [-5, -4, -4]\n",
      "Reward set counts:\n",
      "Key (0, 0): 2 items\n",
      "Key (0, 1): 51 items\n",
      "Key (0, 2): 2 items\n",
      "Key (0, 3): 5 items\n",
      "Key (0, 4): 4 items\n",
      "Key (0, 5): 5 items\n",
      "Key (0, 6): 3 items\n"
     ]
    },
    {
     "data": {
      "image/png": "[encoded data removed]",
      "text/plain": [
       "<Figure size 576x432 with 4 Axes>"
      ]
     },
     "metadata": {
      "needs_background": "light"
     },
     "output_type": "display_data"
    },
    {
     "name": "stderr",
     "output_type": "stream",
     "text": [
      "100%|██████████| 10000/10000 [00:37<00:00, 267.62it/s]\n"
     ]
    },
    {
     "name": "stdout",
     "output_type": "stream",
     "text": [
      "Accuracy: 75.02\n",
      "Mean episode length: 99.5867\n",
      "Last reward processor:\n",
      "Estimated confusion matrix:\n"
     ]
    },
    {
     "data": {
      "image/png": "[encoded data removed]",
      "text/plain": [
       "<Figure size 432x288 with 2 Axes>"
      ]
     },
     "metadata": {
      "needs_background": "light"
     },
     "output_type": "display_data"
    },
    {
     "name": "stdout",
     "output_type": "stream",
     "text": [
      "Reward sets:\n",
      "(0, 0): [-1, -2, -2, -3]\n",
      "(0, 1): [0, 0, 0, 0, -1, -1, 0, 0, 0, -1, 0, -1, -1, -1, 0, 0, 0, 0, -1, -1, 0, -1, 0, 0, 0, -1, 0, -1, 0, -1, 0, 0, -1, 0, -2, 0, -1, 0, 0, 0, -2, 0, 0, -1, -1, 0, -1, 0, -1, 0, -1, 0, 0, 0, -1, 0, 0, 0, 0, 0, 0, 0, 0, -2, -1, 0, 0, 0, 0, -1, 0, 0, 0, 0, -1, -2, 0, -1, 0, 0, 0, -2, 0]\n",
      "(0, 2): [-1, -1, -2, -1, -3, 0, -1]\n",
      "(0, 3): [-1, -1, -1, -2]\n",
      "(0, 4): [-2, -2, -2, -3]\n",
      "(0, 5): [-4, -4, -4, -4]\n",
      "(0, 6): [-5, -5]\n",
      "Reward set counts:\n",
      "Key (0, 0): 4 items\n",
      "Key (0, 1): 83 items\n",
      "Key (0, 2): 7 items\n",
      "Key (0, 3): 4 items\n",
      "Key (0, 4): 4 items\n",
      "Key (0, 5): 4 items\n",
      "Key (0, 6): 2 items\n"
     ]
    },
    {
     "data": {
      "image/png": "[encoded data removed]",
      "text/plain": [
       "<Figure size 576x432 with 4 Axes>"
      ]
     },
     "metadata": {
      "needs_background": "light"
     },
     "output_type": "display_data"
    }
   ],
   "source": [
    "params = default_params()\n",
    "# res = {'target': 95.89999999999999, 'params': {'alpha': 0.8236118040381998, 'alpha_decay': 243.0544785033269, 'alpha_min': 0.5113965695937486, 'epsilon': 0.25289603267158034, 'epsilon_decay': 70.53090930872196, 'epsilon_min': 0.044310479986752194, 'gamma': 0.8871072251030447, 'surrogate_c_interval': 67.76179038423699}}\n",
    "# res = {'target': 90.0, 'params': {'alpha': 0.566829130247288, 'alpha_decay': 730.0449934213863, 'alpha_min': 0.27769065035047436, 'epsilon': 0.031094480749447873, 'epsilon_decay': 58.57639172904549, 'epsilon_min': 0.9146303180866909, 'gamma': 0.9020151394707286, 'surrogate_c_interval': 37.636686233313156}}\n",
    "# res = {'target': 77.2, 'params': {'alpha': 0.12782984397025088, 'alpha_decay': 533.8544911600927, 'alpha_min': 0.43949661057982725, 'epsilon': 0.22232365801757625, 'epsilon_decay': 57.44371837941024, 'epsilon_min': 0.8978249479878948, 'gamma': 0.8376342805104097, 'surrogate_c_interval': 94.54441746511277}}\n",
    "# 10 000\n",
    "# {'target': 73.88, 'params': {'alpha': 0.4649601252136465, 'alpha_decay': 746.4731822044919, 'alpha_min': 0.36999110945925884, 'epsilon': 0.269784993802476, 'epsilon_decay': 16.09239750187774, 'epsilon_min': 0.7658419251978782, 'gamma': 0.7034185365569918, 'surrogate_c_interval': 37.941618962052665}}\n",
    "\n",
    "\n",
    "params = params | res['params']\n",
    "\n",
    "# params['']\n",
    "\n",
    "params['noise'] = True\n",
    "params['surrogate'] = False\n",
    "plot_mean_q_values(params=params)\n",
    "\n",
    "params['surrogate'] = True\n",
    "plot_mean_q_values(params=params)"
   ]
  }
 ],
 "metadata": {
  "kernelspec": {
   "display_name": "base",
   "language": "python",
   "name": "python3"
  },
  "language_info": {
   "codemirror_mode": {
    "name": "ipython",
    "version": 3
   },
   "file_extension": ".py",
   "mimetype": "text/x-python",
   "name": "python",
   "nbconvert_exporter": "python",
   "pygments_lexer": "ipython3",
   "version": "3.9.7"
  },
  "orig_nbformat": 4
 },
 "nbformat": 4,
 "nbformat_minor": 2
}
