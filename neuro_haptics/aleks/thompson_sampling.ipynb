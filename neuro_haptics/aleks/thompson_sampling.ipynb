{
 "cells": [
  {
   "cell_type": "code",
   "execution_count": 1,
   "metadata": {},
   "outputs": [],
   "source": [
    "import utils\n",
    "from utils import *\n",
    "\n",
    "def default_params():\n",
    "    \"\"\" These are the default parameters used in the framework. \"\"\"\n",
    "    return {\n",
    "            # Runner parameters\n",
    "            'max_steps': 120,\n",
    "            'num_episodes': 1,\n",
    "            'num_actions': 7, \n",
    "            # 'start_action': 0, \n",
    "            'correct_action': 5,    # Zero indexed \n",
    "            # Optimization parameters\n",
    "            'alpha': 0.5,\n",
    "            'alpha_decay': 40,\n",
    "            'alpha_min': 0.001,\n",
    "            # Exploration parameters\n",
    "            'epsilon': 1,\n",
    "            'epsilon_decay': 20,\n",
    "            'epsilon_min': 0.01,    \n",
    "            'gamma': 0.95,\n",
    "            'plots': False,\n",
    "            'noise': False,\n",
    "            'surrogate': False,\n",
    "            'surrogate_c_interval': 50,\n",
    "            'surrogate_c_interval_min': 0,\n",
    "           }"
   ]
  },
  {
   "cell_type": "markdown",
   "metadata": {},
   "source": [
    "## Thompson sampling"
   ]
  },
  {
   "cell_type": "code",
   "execution_count": 2,
   "metadata": {},
   "outputs": [
    {
     "name": "stdout",
     "output_type": "stream",
     "text": [
      "Optimal Action: 3\n"
     ]
    }
   ],
   "source": [
    "import numpy as np\n",
    "from scipy.stats import beta\n",
    "\n",
    "class ThompsonSamplingAgent:\n",
    "    def __init__(self, num_actions, reward_range):\n",
    "        self.num_actions = num_actions\n",
    "        self.alpha = np.ones(num_actions)  # Initialize alpha (successes) to 1\n",
    "        self.beta = np.ones(num_actions)   # Initialize beta (failures) to 1\n",
    "        self.reward_range = reward_range\n",
    "        \n",
    "\n",
    "    def choose_action(self):\n",
    "        sampled_rewards = np.random.beta(self.alpha, self.beta)\n",
    "        action = np.argmax(sampled_rewards)\n",
    "        # print('a: ',action)\n",
    "        return action\n",
    "\n",
    "    def observe_reward(self, action, reward):\n",
    "        # print('r: ', reward)\n",
    "        # Update the Beta distribution parameters based on observed reward\n",
    "        normalized_reward = (reward - self.reward_range[0]) / (self.reward_range[1] - self.reward_range[0])\n",
    "        self.alpha[action] += normalized_reward\n",
    "        self.beta[action] += 1 - normalized_reward\n",
    "\n",
    "# Define the number of actions and reward range\n",
    "num_actions = 7\n",
    "reward_range = (-6, 0)\n",
    "\n",
    "# Create a Thompson Sampling agent\n",
    "agent = ThompsonSamplingAgent(num_actions, reward_range)\n",
    "\n",
    "# Number of time steps\n",
    "num_steps = 1000\n",
    "\n",
    "# Main loop for interaction\n",
    "for t in range(num_steps):\n",
    "    # Choose an action\n",
    "    chosen_action = agent.choose_action()\n",
    "    \n",
    "    # Simulate a reward (replace with actual reward from your environment)\n",
    "    true_rewards = np.random.uniform(reward_range[0], reward_range[1], num_actions)\n",
    "    observed_reward = true_rewards[chosen_action]\n",
    "    \n",
    "    # Observe the reward and update the agent\n",
    "    agent.observe_reward(chosen_action, observed_reward)\n",
    "\n",
    "# After interacting for a sufficient number of time steps, you can select the action with the highest Thompson sample\n",
    "optimal_action = agent.choose_action()\n",
    "print(\"Optimal Action:\", optimal_action)\n"
   ]
  },
  {
   "cell_type": "code",
   "execution_count": 3,
   "metadata": {},
   "outputs": [
    {
     "name": "stdout",
     "output_type": "stream",
     "text": [
      "Q-table:\n",
      "[]\n",
      "Number of times action was taken:\n",
      "None\n",
      "Total timesteps:\n",
      "None\n",
      "Optimal Action: 1\n"
     ]
    }
   ],
   "source": [
    "class ThompsonSamplingAgentTemporaryWrapper(ThompsonSamplingAgent):\n",
    "    def __init__(self, *args, **kwargs):\n",
    "        self.epsilon = None\n",
    "        self.Q = []\n",
    "        self.N = None\n",
    "        self.t = None\n",
    "        super().__init__(*args, **kwargs)\n",
    "    \n",
    "    def choose_action(self, state=None):\n",
    "        return super().choose_action()\n",
    "    \n",
    "    def learn(self, state=None, action=None, reward=None, next_state=None):\n",
    "        return super().observe_reward(action=action, reward=reward)\n",
    "    \n",
    "# Define the number of actions and reward range\n",
    "num_actions = 7\n",
    "\n",
    "# This whould remain fixed, since the agent needs to know it before being\n",
    "# initialized. The assumption that this is the theoretical reward range. This\n",
    "# means it's ok to keep it fixed, since we don't know the true value when we \n",
    "# begin.\n",
    "reward_range = (-6, 0)\n",
    "\n",
    "# Create a Thompson Sampling agent\n",
    "agent = ThompsonSamplingAgentTemporaryWrapper(num_actions, reward_range)\n",
    "\n",
    "params = default_params()\n",
    "\n",
    "q_values_for_chart, rewards, episode_length, selected_action, reward_processor, alphas, epsilons = runner(agent=agent, params=params)\n",
    "utils.print_agent_stats(agent)\n",
    "\n",
    "optimal_action = agent.choose_action()\n",
    "print(\"Optimal Action:\", optimal_action)"
   ]
  },
  {
   "cell_type": "code",
   "execution_count": 4,
   "metadata": {},
   "outputs": [
    {
     "name": "stderr",
     "output_type": "stream",
     "text": [
      "100%|██████████| 1/1 [00:00<00:00, 265.61it/s]"
     ]
    },
    {
     "name": "stdout",
     "output_type": "stream",
     "text": [
      "Accuracy: 100.0\n",
      "Mean episode length: 94.0\n",
      "Last reward processor:\n",
      "Estimated confusion matrix:\n"
     ]
    },
    {
     "name": "stderr",
     "output_type": "stream",
     "text": [
      "\n"
     ]
    },
    {
     "data": {
      "image/png": "[encoded data removed]",
      "text/plain": [
       "<Figure size 432x288 with 1 Axes>"
      ]
     },
     "metadata": {
      "needs_background": "light"
     },
     "output_type": "display_data"
    },
    {
     "name": "stdout",
     "output_type": "stream",
     "text": [
      "Reward sets:\n",
      "(0, 0): [-3, -4]\n",
      "(0, 1): [-3, -4, -2]\n",
      "(0, 2): [-2, -3, -1, -1]\n",
      "(0, 3): [0, -1, -2, -1, -1, -1, 0, -1, -1, 0, -1, -1, 0, -1, -2, 0, 0, -2]\n",
      "(0, 4): [-1, -1, 0, 0, 0, -1, -1, 0, 0, -1, -1, -1, 0, -1, 0, 0, 0, 0, 0, 0, 0, 0, 0, 0, 0, 0, 0, 0, -1, -1, 0, 0, -1, -2, -1, 0, 0, 0, 0, 0, 0, -1, 0, 0, 0, 0, 0, 0]\n",
      "(0, 5): [-1, -2, -1, 0, -1, -2, 0, -1, -2, -2, -1, -1]\n",
      "(0, 6): [-2, -3, -1, -1, -3, -2]\n",
      "Reward set counts:\n",
      "Key (0, 0): 2 items\n",
      "Key (0, 1): 3 items\n",
      "Key (0, 2): 4 items\n",
      "Key (0, 3): 18 items\n",
      "Key (0, 4): 48 items\n",
      "Key (0, 5): 12 items\n",
      "Key (0, 6): 6 items\n"
     ]
    },
    {
     "data": {
      "image/png": "[encoded data removed]",
      "text/plain": [
       "<Figure size 576x432 with 4 Axes>"
      ]
     },
     "metadata": {
      "needs_background": "light"
     },
     "output_type": "display_data"
    },
    {
     "data": {
      "text/plain": [
       "0.0"
      ]
     },
     "execution_count": 4,
     "metadata": {},
     "output_type": "execute_result"
    }
   ],
   "source": [
    "# q_values_all_experiments, rewards_all_experiments, episode_lengths, selected_actions, accuracy, last_reward_processor = qLearningExperiment(learner=agent, params=params)\n",
    "agent = ThompsonSamplingAgentTemporaryWrapper(num_actions, reward_range)\n",
    "\n",
    "params_new = {\n",
    "    # Runner parameters\n",
    "    'max_steps': 1000,\n",
    "    'num_episodes': 1,\n",
    "    'correct_action': 4,\n",
    "    'noise': True,\n",
    "    # 'convergence_consecutive_limit': 30,\n",
    "    #\n",
    "    'agent': agent,    \n",
    "    }\n",
    "\n",
    "params = default_params() | params_new\n",
    "plot_mean_q_values(params=params)"
   ]
  }
 ],
 "metadata": {
  "kernelspec": {
   "display_name": "base",
   "language": "python",
   "name": "python3"
  },
  "language_info": {
   "codemirror_mode": {
    "name": "ipython",
    "version": 3
   },
   "file_extension": ".py",
   "mimetype": "text/x-python",
   "name": "python",
   "nbconvert_exporter": "python",
   "pygments_lexer": "ipython3",
   "version": "3.9.7"
  },
  "orig_nbformat": 4
 },
 "nbformat": 4,
 "nbformat_minor": 2
}
