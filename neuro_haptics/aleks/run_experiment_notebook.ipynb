{
 "cells": [
  {
   "cell_type": "code",
   "execution_count": 57,
   "metadata": {},
   "outputs": [
    {
     "name": "stdout",
     "output_type": "stream",
     "text": [
      "Q-table:\n",
      "[[-0.998  -0.998   0.     -0.9961 -0.998  -0.998  -0.998  -0.9961 -0.999\n",
      "  -0.9961]\n",
      " [-0.9961 -0.999   0.     -0.999  -0.999  -0.998  -0.9995 -0.998  -0.9961\n",
      "  -0.9998]\n",
      " [-1.     -1.      0.     -1.     -1.     -1.     -1.     -1.     -1.\n",
      "  -1.    ]\n",
      " [-0.9995 -0.9961  0.     -0.9961 -0.9961 -0.999  -0.9961 -0.9961 -0.998\n",
      "  -0.998 ]\n",
      " [-0.9961 -0.998   0.     -0.9961 -0.999  -0.999  -0.9961 -0.999  -0.9961\n",
      "  -0.9961]\n",
      " [-0.998  -0.999   0.     -0.998  -0.998  -0.998  -0.998  -0.9961 -0.9961\n",
      "  -0.999 ]\n",
      " [-0.999  -0.9995  0.     -0.9961 -0.9961 -0.998  -0.998  -0.9961 -0.9961\n",
      "  -0.998 ]\n",
      " [-0.998  -0.9995  0.     -0.9961 -0.9961 -0.9961 -0.9961 -0.9961 -0.9961\n",
      "  -0.9961]\n",
      " [-0.9995 -0.9961  0.     -0.999  -0.999  -0.9961 -0.998  -0.998  -0.9961\n",
      "  -0.998 ]\n",
      " [-0.9961 -0.998   0.     -0.9961 -0.998  -0.998  -0.9961 -0.9961 -0.9961\n",
      "  -0.9961]]\n",
      "Number of times action was taken:\n",
      "[[1.0000e+01 1.0000e+01 2.7100e+02 9.0000e+00 1.0000e+01 1.0000e+01\n",
      "  1.0000e+01 9.0000e+00 1.1000e+01 9.0000e+00]\n",
      " [9.0000e+00 1.1000e+01 3.1000e+02 1.1000e+01 1.1000e+01 1.0000e+01\n",
      "  1.2000e+01 1.0000e+01 9.0000e+00 1.3000e+01]\n",
      " [2.6700e+02 3.1100e+02 2.5193e+04 2.7000e+02 2.8600e+02 2.7800e+02\n",
      "  2.9400e+02 2.6100e+02 2.8700e+02 2.5200e+02]\n",
      " [1.2000e+01 9.0000e+00 2.6800e+02 9.0000e+00 9.0000e+00 1.1000e+01\n",
      "  9.0000e+00 9.0000e+00 1.0000e+01 1.0000e+01]\n",
      " [9.0000e+00 1.0000e+01 2.8800e+02 9.0000e+00 1.1000e+01 1.1000e+01\n",
      "  9.0000e+00 1.1000e+01 9.0000e+00 9.0000e+00]\n",
      " [1.0000e+01 1.1000e+01 2.7800e+02 1.0000e+01 1.0000e+01 1.0000e+01\n",
      "  1.0000e+01 9.0000e+00 9.0000e+00 1.1000e+01]\n",
      " [1.1000e+01 1.2000e+01 2.9300e+02 9.0000e+00 9.0000e+00 1.0000e+01\n",
      "  1.0000e+01 9.0000e+00 9.0000e+00 1.0000e+01]\n",
      " [1.0000e+01 1.2000e+01 2.6100e+02 9.0000e+00 9.0000e+00 9.0000e+00\n",
      "  9.0000e+00 9.0000e+00 9.0000e+00 9.0000e+00]\n",
      " [1.2000e+01 9.0000e+00 2.8000e+02 1.1000e+01 1.1000e+01 9.0000e+00\n",
      "  1.0000e+01 1.0000e+01 9.0000e+00 1.0000e+01]\n",
      " [9.0000e+00 1.0000e+01 2.5800e+02 9.0000e+00 1.0000e+01 1.0000e+01\n",
      "  9.0000e+00 9.0000e+00 9.0000e+00 9.0000e+00]]\n",
      "Total timesteps: 30905.0\n",
      "Episode rewards: -3215\n"
     ]
    }
   ],
   "source": [
    "# Run the script with\n",
    "# `python run_experiment.py -t 1`\n",
    "# This will run a simulation trial, with a total length of 1 seconds.\n",
    "# Participant answere will be given every 0.001 to 0.002 seconds.\n",
    "# The participant \"ture\" level of feedback is 2.\n",
    "\n",
    "# The script will output:\n",
    "# - A list of actions taken, in the format: \n",
    "# `elapsed_time > action_taken -> reward_received`\n",
    "# - The Q-table at the end of the trial,\n",
    "# with rows representing states and columns representing acions\n",
    "# - The total count of given actions taken in a given state, \n",
    "# with rows representing states and columns representing acions\n",
    "# - Total timesteps (actions) taken\n",
    "# - Total reward obtained\n",
    "\n",
    "# The agent is rewrded `-1` for guessing the wrong feedback level (not 2),\n",
    "# and `0` for guessing correctly\n",
    "\n",
    "import argparse\n",
    "from ucbq_agent import UCBQAgent\n",
    "from ucbq_environment import ModifiedRandomEnvironment\n",
    "import time\n",
    "import numpy as np\n",
    "\n",
    "# parser = argparse.ArgumentParser()\n",
    "# parser.add_argument(\"-t\", \"--TimeOut\", help = \"Stop script after n seconds\")\n",
    "# args = parser.parse_args()\n",
    "timeOut = 60\n",
    "\n",
    "num_states = 10\n",
    "agent = UCBQAgent(num_states=num_states, num_actions=num_states)\n",
    "state = 1\n",
    "env = ModifiedRandomEnvironment(current_state = state, num_states=num_states)\n",
    "\n",
    "start_time = time.time()\n",
    "t = 0\n",
    "\n",
    "episode_rewards = 0\n",
    "\n",
    "q_values_for_chart = []\n",
    "\n",
    "while True:\n",
    "    elapsed_time = time.time() - start_time\n",
    "\n",
    "    # Auto shut down scipt \n",
    "    if bool(timeOut) and (elapsed_time > float(timeOut)):\n",
    "        break\n",
    "\n",
    "    action = agent.choose_action(state) \n",
    "    # TODO: \n",
    "    # send_action_to_stream\n",
    "    reward, next_state = env.step(action)\n",
    "\n",
    "    # reward = pre_processor.process_reward(reward)\n",
    "    # post_processor.collect(state, action, reward)\n",
    "    # reward = post_processor.process_reward(reward)\n",
    "    # reward = post_processor.smooth_reward(state, action, reward)\n",
    "    \n",
    "    # print(f\"{round(elapsed_time, 2)} > {action} -> {reward}\")\n",
    "    \n",
    "    agent.learn(state, action, reward, next_state)\n",
    "    state = next_state\n",
    "\n",
    "    episode_rewards += reward\n",
    "\n",
    "    t += 1\n",
    "    if t % 100 == 0:\n",
    "        q_values_for_chart.append(np.around(np.sum(agent.Q, axis=0), decimals=4))\n",
    "\n",
    "print(f'Q-table:')\n",
    "print(f'{np.around(agent.Q, decimals=4)}')\n",
    "print(f'Number of times action was taken:')\n",
    "print(f'{agent.N}')\n",
    "print(f'Total timesteps: {sum(sum(agent.N)) - 100}')\n",
    "print(f'Episode rewards: {episode_rewards}')"
   ]
  },
  {
   "cell_type": "code",
   "execution_count": 56,
   "metadata": {},
   "outputs": [],
   "source": [
    "import matplotlib.pyplot as plt"
   ]
  },
  {
   "cell_type": "code",
   "execution_count": 58,
   "metadata": {},
   "outputs": [
    {
     "data": {
      "text/plain": [
       "[<matplotlib.lines.Line2D at 0x134342a60>,\n",
       " <matplotlib.lines.Line2D at 0x1300a0520>,\n",
       " <matplotlib.lines.Line2D at 0x1343c4be0>,\n",
       " <matplotlib.lines.Line2D at 0x1343fa1f0>,\n",
       " <matplotlib.lines.Line2D at 0x1343fa2b0>,\n",
       " <matplotlib.lines.Line2D at 0x1343fa370>,\n",
       " <matplotlib.lines.Line2D at 0x1343fa430>,\n",
       " <matplotlib.lines.Line2D at 0x1343fa4f0>,\n",
       " <matplotlib.lines.Line2D at 0x1343fa5b0>,\n",
       " <matplotlib.lines.Line2D at 0x1343fa670>]"
      ]
     },
     "execution_count": 58,
     "metadata": {},
     "output_type": "execute_result"
    },
    {
     "data": {
      "image/png": "[encoded data removed]",
      "text/plain": [
       "<Figure size 432x288 with 1 Axes>"
      ]
     },
     "metadata": {
      "needs_background": "light"
     },
     "output_type": "display_data"
    }
   ],
   "source": [
    "plt.plot(q_values_for_chart)"
   ]
  }
 ],
 "metadata": {
  "kernelspec": {
   "display_name": "base",
   "language": "python",
   "name": "python3"
  },
  "language_info": {
   "codemirror_mode": {
    "name": "ipython",
    "version": 3
   },
   "file_extension": ".py",
   "mimetype": "text/x-python",
   "name": "python",
   "nbconvert_exporter": "python",
   "pygments_lexer": "ipython3",
   "version": "3.9.7"
  },
  "orig_nbformat": 4
 },
 "nbformat": 4,
 "nbformat_minor": 2
}
