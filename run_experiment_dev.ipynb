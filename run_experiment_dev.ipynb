{
 "cells": [
  {
   "cell_type": "code",
   "execution_count": 1,
   "metadata": {},
   "outputs": [
    {
     "data": {
      "text/plain": [
       "True"
      ]
     },
     "execution_count": 1,
     "metadata": {},
     "output_type": "execute_result"
    }
   ],
   "source": [
    "import webbrowser\n",
    "\n",
    "# Define the URL\n",
    "notion_url = \"https://aleksandrskoselevs.notion.site/Lukas-Neuroadaptive-Haptics-3271205bfd58484392d6ef465d9bf1fd\"\n",
    "\n",
    "# Open the URL with the default web browser\n",
    "webbrowser.open(notion_url)"
   ]
  },
  {
   "cell_type": "code",
   "execution_count": 2,
   "metadata": {},
   "outputs": [],
   "source": [
    "import subprocess"
   ]
  },
  {
   "cell_type": "code",
   "execution_count": 4,
   "metadata": {},
   "outputs": [
    {
     "data": {
      "text/plain": [
       "<Popen: returncode: None args: ['C:\\\\Program Files\\\\Unity\\\\Hub\\\\Editor\\\\2019...>"
      ]
     },
     "execution_count": 4,
     "metadata": {},
     "output_type": "execute_result"
    }
   ],
   "source": [
    "# Define the path to the Unity executable and the project path\n",
    "unity_executable = r\"C:\\Program Files\\Unity\\Hub\\Editor\\2019.4.17f1\\Editor\\Unity.exe\"\n",
    "project_path = r\"D:\\Benjamin\\BeMoBIL_VRTableExperiments\"\n",
    "\n",
    "# Run the Unity executable with the project path\n",
    "subprocess.Popen([unity_executable, \"-projectPath\", project_path])"
   ]
  },
  {
   "cell_type": "code",
   "execution_count": 18,
   "metadata": {},
   "outputs": [
    {
     "name": "stdout",
     "output_type": "stream",
     "text": [
      "All required streams are available. Starting recording...\n"
     ]
    },
    {
     "data": {
      "text/plain": [
       "CompletedProcess(args=['start', 'cmd', '/k', 'c:\\\\Users\\\\Lukas\\\\Desktop\\\\nah\\\\LabRecorder\\\\LabRecorderCLI.exe', 'c:\\\\Users\\\\Lukas\\\\Desktop\\\\nah\\\\tst_20241023_170056.xdf', \"name='BrainVision RDA'\", \"name='NAH_Unity3DEvents'\", \"name='NAH_GazeBehavior'\"], returncode=0)"
      ]
     },
     "execution_count": 18,
     "metadata": {},
     "output_type": "execute_result"
    }
   ],
   "source": [
    "from pylsl import resolve_stream\n",
    "import subprocess\n",
    "import time\n",
    "from datetime import datetime\n",
    "\n",
    "# Define the stream names\n",
    "required_streams = [\"BrainVision RDA\", \"NAH_Unity3DEvents\", \"NAH_GazeBehavior\"]\n",
    "\n",
    "# Function to check if all required streams are available\n",
    "def all_streams_available(required_streams):\n",
    "    streams = resolve_stream()\n",
    "    stream_names = [stream.name() for stream in streams]\n",
    "    return all(name in stream_names for name in required_streams)\n",
    "\n",
    "# Wait until all required streams are available\n",
    "while not all_streams_available(required_streams):\n",
    "    print(\"Waiting for all required streams to be available...\")\n",
    "    time.sleep(1)\n",
    "\n",
    "print(\"All required streams are available. Starting recording...\")\n",
    "\n",
    "# Define the path to the LabRecorderCLI executable\n",
    "labrecorder_cli_path = r\"c:\\Users\\Lukas\\Desktop\\nah\\LabRecorder\\LabRecorderCLI.exe\"\n",
    "\n",
    "# Define the save path for the recording with the current datetime\n",
    "current_time = datetime.now().strftime(\"%Y%m%d_%H%M%S\")\n",
    "save_path = fr\"c:\\Users\\Lukas\\Desktop\\nah\\tst_{current_time}.xdf\"\n",
    "\n",
    "# Construct stream_names from required_streams\n",
    "stream_names = [f\"name='{stream}'\" for stream in required_streams]\n",
    "# Construct the command\n",
    "command = [labrecorder_cli_path, save_path] + stream_names\n",
    "\n",
    "# Run the command\n",
    "subprocess.run([\"start\", \"cmd\", \"/k\"] + command, shell=True)"
   ]
  }
 ],
 "metadata": {
  "kernelspec": {
   "display_name": "Python 3",
   "language": "python",
   "name": "python3"
  },
  "language_info": {
   "codemirror_mode": {
    "name": "ipython",
    "version": 3
   },
   "file_extension": ".py",
   "mimetype": "text/x-python",
   "name": "python",
   "nbconvert_exporter": "python",
   "pygments_lexer": "ipython3",
   "version": "3.10.11"
  }
 },
 "nbformat": 4,
 "nbformat_minor": 2
}
