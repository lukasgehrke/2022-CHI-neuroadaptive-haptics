{
 "cells": [
  {
   "cell_type": "code",
   "execution_count": 1,
   "metadata": {},
   "outputs": [
    {
     "data": {
      "text/plain": [
       "True"
      ]
     },
     "execution_count": 1,
     "metadata": {},
     "output_type": "execute_result"
    }
   ],
   "source": [
    "import webbrowser\n",
    "\n",
    "# Define the URL\n",
    "notion_url = \"https://aleksandrskoselevs.notion.site/Lukas-Neuroadaptive-Haptics-3271205bfd58484392d6ef465d9bf1fd\"\n",
    "\n",
    "# Open the URL with the default web browser\n",
    "webbrowser.open(notion_url)"
   ]
  },
  {
   "cell_type": "code",
   "execution_count": 2,
   "metadata": {},
   "outputs": [],
   "source": [
    "import subprocess"
   ]
  },
  {
   "cell_type": "code",
   "execution_count": 4,
   "metadata": {},
   "outputs": [
    {
     "data": {
      "text/plain": [
       "<Popen: returncode: None args: ['C:\\\\Program Files\\\\Unity\\\\Hub\\\\Editor\\\\2019...>"
      ]
     },
     "execution_count": 4,
     "metadata": {},
     "output_type": "execute_result"
    }
   ],
   "source": [
    "# Define the path to the Unity executable and the project path\n",
    "unity_executable = r\"C:\\Program Files\\Unity\\Hub\\Editor\\2019.4.17f1\\Editor\\Unity.exe\"\n",
    "project_path = r\"D:\\Benjamin\\BeMoBIL_VRTableExperiments\"\n",
    "\n",
    "# Run the Unity executable with the project path\n",
    "subprocess.Popen([unity_executable, \"-projectPath\", project_path])"
   ]
  },
  {
   "cell_type": "code",
   "execution_count": 9,
   "metadata": {},
   "outputs": [
    {
     "name": "stdout",
     "output_type": "stream",
     "text": [
      "Name: NAH_Unity3DEvents, Type: Markers, Source ID: 32b4bf6b-09d3-4479-b134-b691f39f3bcb\n",
      "Name: BrainVision RDA, Type: EEG, Source ID: ccf5bb5b-3595-4d5b-9ddc-a4dc9d3fe089\n",
      "Name: NAH_GazeBehavior, Type: Gaze, Source ID: 37585a0f-9149-4bd2-9c8f-a9c2321f41db\n",
      "[<pylsl.pylsl.StreamInfo object at 0x00000233FA885FC0>, <pylsl.pylsl.StreamInfo object at 0x00000233FA8842E0>, <pylsl.pylsl.StreamInfo object at 0x00000233FA885180>]\n"
     ]
    }
   ],
   "source": [
    "from pylsl import resolve_stream\n",
    "\n",
    "# Resolve all streams\n",
    "streams = resolve_stream()\n",
    "\n",
    "# Print information about each stream\n",
    "for stream in streams:\n",
    "    print(f\"Name: {stream.name()}, Type: {stream.type()}, Source ID: {stream.source_id()}\")\n",
    "\n",
    "print(streams)"
   ]
  },
  {
   "cell_type": "code",
   "execution_count": 13,
   "metadata": {},
   "outputs": [
    {
     "data": {
      "text/plain": [
       "CompletedProcess(args=['start', 'cmd', '/k', 'c:\\\\Users\\\\Lukas\\\\Desktop\\\\nah\\\\LabRecorder\\\\LabRecorderCLI.exe', 'c:\\\\Users\\\\Lukas\\\\Desktop\\\\nah\\\\tst.xdf', \"name='BrainVision RDA'\", \"name='NAH_Unity3DEvents'\", \"name='NAH_GazeBehavior'\"], returncode=0)"
      ]
     },
     "execution_count": 13,
     "metadata": {},
     "output_type": "execute_result"
    }
   ],
   "source": [
    "# Define the path to the LabRecorderCLI executable\n",
    "labrecorder_cli_path = r\"c:\\Users\\Lukas\\Desktop\\nah\\LabRecorder\\LabRecorderCLI.exe\"\n",
    "\n",
    "# Define the save path for the recording\n",
    "save_path = r\"c:\\Users\\Lukas\\Desktop\\nah\\tst.xdf\"\n",
    "\n",
    "# Define the stream names\n",
    "stream_names = [\"name='BrainVision RDA'\", \"name='NAH_Unity3DEvents'\", \"name='NAH_GazeBehavior'\"]\n",
    "\n",
    "# Construct the command\n",
    "command = [labrecorder_cli_path, save_path] + stream_names\n",
    "\n",
    "# Run the command\n",
    "subprocess.run([\"start\", \"cmd\", \"/k\"] + command, shell=True)"
   ]
  }
 ],
 "metadata": {
  "kernelspec": {
   "display_name": "Python 3",
   "language": "python",
   "name": "python3"
  },
  "language_info": {
   "codemirror_mode": {
    "name": "ipython",
    "version": 3
   },
   "file_extension": ".py",
   "mimetype": "text/x-python",
   "name": "python",
   "nbconvert_exporter": "python",
   "pygments_lexer": "ipython3",
   "version": "3.10.11"
  }
 },
 "nbformat": 4,
 "nbformat_minor": 2
}
