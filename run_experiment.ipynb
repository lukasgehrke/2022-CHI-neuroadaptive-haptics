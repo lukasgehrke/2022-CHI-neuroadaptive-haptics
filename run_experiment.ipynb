{
 "cells": [
  {
   "cell_type": "code",
   "execution_count": 1,
   "metadata": {},
   "outputs": [
    {
     "data": {
      "text/plain": [
       "True"
      ]
     },
     "execution_count": 1,
     "metadata": {},
     "output_type": "execute_result"
    }
   ],
   "source": [
    "import webbrowser\n",
    "\n",
    "# Define the URL\n",
    "notion_url = \"https://aleksandrskoselevs.notion.site/Lukas-Neuroadaptive-Haptics-3271205bfd58484392d6ef465d9bf1fd\"\n",
    "\n",
    "# Open the URL with the default web browser\n",
    "webbrowser.open(notion_url)"
   ]
  },
  {
   "cell_type": "code",
   "execution_count": 2,
   "metadata": {},
   "outputs": [
    {
     "data": {
      "text/plain": [
       "0"
      ]
     },
     "execution_count": 2,
     "metadata": {},
     "output_type": "execute_result"
    }
   ],
   "source": [
    "import os\n",
    "\n",
    "# Define the Steam URL\n",
    "steam_url = \"steam://rungameid/250820\"\n",
    "\n",
    "# Open the URL with the default web browser\n",
    "os.system(f'start {steam_url}')"
   ]
  },
  {
   "cell_type": "code",
   "execution_count": 20,
   "metadata": {},
   "outputs": [],
   "source": [
    "# Gets launched autmoatically by the built project\n",
    "# Still need to see if this performs well\n",
    "\n",
    "# # Define the path to the executable\n",
    "# sensecom_path = r\"C:\\Program Files\\SenseCom\\SenseCom.exe\"\n",
    "\n",
    "# # Launch the executable\n",
    "# os.system(f'start \"\" \"{sensecom_path}\"')"
   ]
  },
  {
   "cell_type": "code",
   "execution_count": 25,
   "metadata": {},
   "outputs": [
    {
     "data": {
      "text/plain": [
       "0"
      ]
     },
     "execution_count": 25,
     "metadata": {},
     "output_type": "execute_result"
    }
   ],
   "source": [
    "# Define the path to the executable\n",
    "bemobil_vr_path = r\"D:\\Benjamin\\BeMoBIL_VRTableExperiments\\Builds\\NAH 2024-10-11\\BeMoBIL VR Table Experiments.exe\"\n",
    "\n",
    "# Launch the executable\n",
    "os.system(f'start \"\" \"{bemobil_vr_path}\"')"
   ]
  },
  {
   "cell_type": "code",
   "execution_count": null,
   "metadata": {},
   "outputs": [],
   "source": [
    "import subprocess"
   ]
  },
  {
   "cell_type": "code",
   "execution_count": 7,
   "metadata": {},
   "outputs": [
    {
     "data": {
      "text/plain": [
       "CompletedProcess(args=['start', 'cmd', '/k', 'C:\\\\labstreaminglayer\\\\LabRecorder\\\\LabRecorder.exe'], returncode=0)"
      ]
     },
     "execution_count": 7,
     "metadata": {},
     "output_type": "execute_result"
    }
   ],
   "source": [
    "# Define the path to the LabRecorder executable\n",
    "labrecorder_path = r\"C:\\labstreaminglayer\\LabRecorder\\LabRecorder.exe\"\n",
    "\n",
    "# Run the LabRecorder executable\n",
    "subprocess.run([\"start\", \"cmd\", \"/k\", labrecorder_path], shell=True)"
   ]
  },
  {
   "cell_type": "code",
   "execution_count": 8,
   "metadata": {},
   "outputs": [
    {
     "data": {
      "text/plain": [
       "CompletedProcess(args=['start', 'cmd', '/k', 'C:/Users/Lukas/AppData/Local/Microsoft/WindowsApps/python3.10.exe', 'd:/Lukas/2022-CHI-neuroadaptive-haptics/neuro_haptics/aleks/run_experiment_lsl.py'], returncode=0)"
      ]
     },
     "execution_count": 8,
     "metadata": {},
     "output_type": "execute_result"
    }
   ],
   "source": [
    "# Define the command to run the external script\n",
    "command = [\n",
    "    \"C:/Users/Lukas/AppData/Local/Microsoft/WindowsApps/python3.10.exe\",\n",
    "    \"d:/Lukas/2022-CHI-neuroadaptive-haptics/neuro_haptics/aleks/run_experiment_lsl.py\"\n",
    "]\n",
    "\n",
    "# Run the command in a dedicated terminal\n",
    "subprocess.run([\"start\", \"cmd\", \"/k\"] + command, shell=True)"
   ]
  }
 ],
 "metadata": {
  "kernelspec": {
   "display_name": "Python 3",
   "language": "python",
   "name": "python3"
  },
  "language_info": {
   "codemirror_mode": {
    "name": "ipython",
    "version": 3
   },
   "file_extension": ".py",
   "mimetype": "text/x-python",
   "name": "python",
   "nbconvert_exporter": "python",
   "pygments_lexer": "ipython3",
   "version": "3.10.11"
  }
 },
 "nbformat": 4,
 "nbformat_minor": 2
}
